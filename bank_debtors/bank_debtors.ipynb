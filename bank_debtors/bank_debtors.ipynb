{
 "cells": [
  {
   "cell_type": "markdown",
   "metadata": {},
   "source": [
    "# Исследование надёжности заёмщиков\n",
    "\n",
    "Заказчик — кредитный отдел банка. Нужно разобраться, влияет ли семейное положение и количество детей клиента на факт погашения кредита в срок. Входные данные от банка — статистика о платёжеспособности клиентов.\n",
    "\n",
    "Результаты исследования будут учтены при построении модели **кредитного скоринга** — специальной системы, которая оценивает способность потенциального заёмщика вернуть кредит банку."
   ]
  },
  {
   "cell_type": "markdown",
   "metadata": {},
   "source": [
    "**Задачи:**\n",
    "\n",
    "* Есть ли зависимость между количеством детей и возвратом кредита в срок?\n",
    "* Есть ли зависимость между семейным положением и возвратом кредита в срок?\n",
    "* Есть ли зависимость между уровнем дохода и возвратом кредита в срок?\n",
    "* Как разные цели кредита влияют на его возврат в срок?"
   ]
  },
  {
   "cell_type": "markdown",
   "metadata": {},
   "source": [
    "## Шаг 1. Изучение общей информации"
   ]
  },
  {
   "cell_type": "code",
   "execution_count": 1,
   "metadata": {
    "scrolled": true
   },
   "outputs": [
    {
     "data": {
      "text/html": [
       "<div>\n",
       "<style scoped>\n",
       "    .dataframe tbody tr th:only-of-type {\n",
       "        vertical-align: middle;\n",
       "    }\n",
       "\n",
       "    .dataframe tbody tr th {\n",
       "        vertical-align: top;\n",
       "    }\n",
       "\n",
       "    .dataframe thead th {\n",
       "        text-align: right;\n",
       "    }\n",
       "</style>\n",
       "<table border=\"1\" class=\"dataframe\">\n",
       "  <thead>\n",
       "    <tr style=\"text-align: right;\">\n",
       "      <th></th>\n",
       "      <th>children</th>\n",
       "      <th>days_employed</th>\n",
       "      <th>dob_years</th>\n",
       "      <th>education</th>\n",
       "      <th>education_id</th>\n",
       "      <th>family_status</th>\n",
       "      <th>family_status_id</th>\n",
       "      <th>gender</th>\n",
       "      <th>income_type</th>\n",
       "      <th>debt</th>\n",
       "      <th>total_income</th>\n",
       "      <th>purpose</th>\n",
       "    </tr>\n",
       "  </thead>\n",
       "  <tbody>\n",
       "    <tr>\n",
       "      <th>0</th>\n",
       "      <td>1</td>\n",
       "      <td>-8437.673028</td>\n",
       "      <td>42</td>\n",
       "      <td>высшее</td>\n",
       "      <td>0</td>\n",
       "      <td>женат / замужем</td>\n",
       "      <td>0</td>\n",
       "      <td>F</td>\n",
       "      <td>сотрудник</td>\n",
       "      <td>0</td>\n",
       "      <td>253875.639453</td>\n",
       "      <td>покупка жилья</td>\n",
       "    </tr>\n",
       "    <tr>\n",
       "      <th>1</th>\n",
       "      <td>1</td>\n",
       "      <td>-4024.803754</td>\n",
       "      <td>36</td>\n",
       "      <td>среднее</td>\n",
       "      <td>1</td>\n",
       "      <td>женат / замужем</td>\n",
       "      <td>0</td>\n",
       "      <td>F</td>\n",
       "      <td>сотрудник</td>\n",
       "      <td>0</td>\n",
       "      <td>112080.014102</td>\n",
       "      <td>приобретение автомобиля</td>\n",
       "    </tr>\n",
       "    <tr>\n",
       "      <th>2</th>\n",
       "      <td>0</td>\n",
       "      <td>-5623.422610</td>\n",
       "      <td>33</td>\n",
       "      <td>Среднее</td>\n",
       "      <td>1</td>\n",
       "      <td>женат / замужем</td>\n",
       "      <td>0</td>\n",
       "      <td>M</td>\n",
       "      <td>сотрудник</td>\n",
       "      <td>0</td>\n",
       "      <td>145885.952297</td>\n",
       "      <td>покупка жилья</td>\n",
       "    </tr>\n",
       "    <tr>\n",
       "      <th>3</th>\n",
       "      <td>3</td>\n",
       "      <td>-4124.747207</td>\n",
       "      <td>32</td>\n",
       "      <td>среднее</td>\n",
       "      <td>1</td>\n",
       "      <td>женат / замужем</td>\n",
       "      <td>0</td>\n",
       "      <td>M</td>\n",
       "      <td>сотрудник</td>\n",
       "      <td>0</td>\n",
       "      <td>267628.550329</td>\n",
       "      <td>дополнительное образование</td>\n",
       "    </tr>\n",
       "    <tr>\n",
       "      <th>4</th>\n",
       "      <td>0</td>\n",
       "      <td>340266.072047</td>\n",
       "      <td>53</td>\n",
       "      <td>среднее</td>\n",
       "      <td>1</td>\n",
       "      <td>гражданский брак</td>\n",
       "      <td>1</td>\n",
       "      <td>F</td>\n",
       "      <td>пенсионер</td>\n",
       "      <td>0</td>\n",
       "      <td>158616.077870</td>\n",
       "      <td>сыграть свадьбу</td>\n",
       "    </tr>\n",
       "    <tr>\n",
       "      <th>5</th>\n",
       "      <td>0</td>\n",
       "      <td>-926.185831</td>\n",
       "      <td>27</td>\n",
       "      <td>высшее</td>\n",
       "      <td>0</td>\n",
       "      <td>гражданский брак</td>\n",
       "      <td>1</td>\n",
       "      <td>M</td>\n",
       "      <td>компаньон</td>\n",
       "      <td>0</td>\n",
       "      <td>255763.565419</td>\n",
       "      <td>покупка жилья</td>\n",
       "    </tr>\n",
       "    <tr>\n",
       "      <th>6</th>\n",
       "      <td>0</td>\n",
       "      <td>-2879.202052</td>\n",
       "      <td>43</td>\n",
       "      <td>высшее</td>\n",
       "      <td>0</td>\n",
       "      <td>женат / замужем</td>\n",
       "      <td>0</td>\n",
       "      <td>F</td>\n",
       "      <td>компаньон</td>\n",
       "      <td>0</td>\n",
       "      <td>240525.971920</td>\n",
       "      <td>операции с жильем</td>\n",
       "    </tr>\n",
       "    <tr>\n",
       "      <th>7</th>\n",
       "      <td>0</td>\n",
       "      <td>-152.779569</td>\n",
       "      <td>50</td>\n",
       "      <td>СРЕДНЕЕ</td>\n",
       "      <td>1</td>\n",
       "      <td>женат / замужем</td>\n",
       "      <td>0</td>\n",
       "      <td>M</td>\n",
       "      <td>сотрудник</td>\n",
       "      <td>0</td>\n",
       "      <td>135823.934197</td>\n",
       "      <td>образование</td>\n",
       "    </tr>\n",
       "    <tr>\n",
       "      <th>8</th>\n",
       "      <td>2</td>\n",
       "      <td>-6929.865299</td>\n",
       "      <td>35</td>\n",
       "      <td>ВЫСШЕЕ</td>\n",
       "      <td>0</td>\n",
       "      <td>гражданский брак</td>\n",
       "      <td>1</td>\n",
       "      <td>F</td>\n",
       "      <td>сотрудник</td>\n",
       "      <td>0</td>\n",
       "      <td>95856.832424</td>\n",
       "      <td>на проведение свадьбы</td>\n",
       "    </tr>\n",
       "    <tr>\n",
       "      <th>9</th>\n",
       "      <td>0</td>\n",
       "      <td>-2188.756445</td>\n",
       "      <td>41</td>\n",
       "      <td>среднее</td>\n",
       "      <td>1</td>\n",
       "      <td>женат / замужем</td>\n",
       "      <td>0</td>\n",
       "      <td>M</td>\n",
       "      <td>сотрудник</td>\n",
       "      <td>0</td>\n",
       "      <td>144425.938277</td>\n",
       "      <td>покупка жилья для семьи</td>\n",
       "    </tr>\n",
       "  </tbody>\n",
       "</table>\n",
       "</div>"
      ],
      "text/plain": [
       "   children  days_employed  dob_years education  education_id  \\\n",
       "0         1   -8437.673028         42    высшее             0   \n",
       "1         1   -4024.803754         36   среднее             1   \n",
       "2         0   -5623.422610         33   Среднее             1   \n",
       "3         3   -4124.747207         32   среднее             1   \n",
       "4         0  340266.072047         53   среднее             1   \n",
       "5         0    -926.185831         27    высшее             0   \n",
       "6         0   -2879.202052         43    высшее             0   \n",
       "7         0    -152.779569         50   СРЕДНЕЕ             1   \n",
       "8         2   -6929.865299         35    ВЫСШЕЕ             0   \n",
       "9         0   -2188.756445         41   среднее             1   \n",
       "\n",
       "      family_status  family_status_id gender income_type  debt   total_income  \\\n",
       "0   женат / замужем                 0      F   сотрудник     0  253875.639453   \n",
       "1   женат / замужем                 0      F   сотрудник     0  112080.014102   \n",
       "2   женат / замужем                 0      M   сотрудник     0  145885.952297   \n",
       "3   женат / замужем                 0      M   сотрудник     0  267628.550329   \n",
       "4  гражданский брак                 1      F   пенсионер     0  158616.077870   \n",
       "5  гражданский брак                 1      M   компаньон     0  255763.565419   \n",
       "6   женат / замужем                 0      F   компаньон     0  240525.971920   \n",
       "7   женат / замужем                 0      M   сотрудник     0  135823.934197   \n",
       "8  гражданский брак                 1      F   сотрудник     0   95856.832424   \n",
       "9   женат / замужем                 0      M   сотрудник     0  144425.938277   \n",
       "\n",
       "                      purpose  \n",
       "0               покупка жилья  \n",
       "1     приобретение автомобиля  \n",
       "2               покупка жилья  \n",
       "3  дополнительное образование  \n",
       "4             сыграть свадьбу  \n",
       "5               покупка жилья  \n",
       "6           операции с жильем  \n",
       "7                 образование  \n",
       "8       на проведение свадьбы  \n",
       "9     покупка жилья для семьи  "
      ]
     },
     "execution_count": 1,
     "metadata": {},
     "output_type": "execute_result"
    }
   ],
   "source": [
    "import pandas as pd\n",
    "data = pd.read_csv('/datasets/data.csv')\n",
    "data.head(10)"
   ]
  },
  {
   "cell_type": "code",
   "execution_count": 2,
   "metadata": {},
   "outputs": [
    {
     "name": "stdout",
     "output_type": "stream",
     "text": [
      "<class 'pandas.core.frame.DataFrame'>\n",
      "RangeIndex: 21525 entries, 0 to 21524\n",
      "Data columns (total 12 columns):\n",
      " #   Column            Non-Null Count  Dtype  \n",
      "---  ------            --------------  -----  \n",
      " 0   children          21525 non-null  int64  \n",
      " 1   days_employed     19351 non-null  float64\n",
      " 2   dob_years         21525 non-null  int64  \n",
      " 3   education         21525 non-null  object \n",
      " 4   education_id      21525 non-null  int64  \n",
      " 5   family_status     21525 non-null  object \n",
      " 6   family_status_id  21525 non-null  int64  \n",
      " 7   gender            21525 non-null  object \n",
      " 8   income_type       21525 non-null  object \n",
      " 9   debt              21525 non-null  int64  \n",
      " 10  total_income      19351 non-null  float64\n",
      " 11  purpose           21525 non-null  object \n",
      "dtypes: float64(2), int64(5), object(5)\n",
      "memory usage: 2.0+ MB\n",
      "None\n"
     ]
    }
   ],
   "source": [
    "print(data.info())"
   ]
  },
  {
   "cell_type": "markdown",
   "metadata": {},
   "source": [
    "**Вывод**\n",
    "1. Данные в столбце days_employed имеют тип вещественного числа;\n",
    "2. Значения стобца Образование имеют как строчные, так и прописные буквы;\n",
    "3. Одни и те же цели прописаны несистемно (по-разному), что затрудняет их систематизацию. "
   ]
  },
  {
   "cell_type": "markdown",
   "metadata": {},
   "source": []
  },
  {
   "cell_type": "markdown",
   "metadata": {},
   "source": [
    "## Шаг 2. Предобработка данных"
   ]
  },
  {
   "cell_type": "markdown",
   "metadata": {},
   "source": [
    "### Обработка пропусков"
   ]
  },
  {
   "cell_type": "code",
   "execution_count": 3,
   "metadata": {},
   "outputs": [
    {
     "data": {
      "text/plain": [
       "children               0\n",
       "days_employed       2174\n",
       "dob_years              0\n",
       "education              0\n",
       "education_id           0\n",
       "family_status          0\n",
       "family_status_id       0\n",
       "gender                 0\n",
       "income_type            0\n",
       "debt                   0\n",
       "total_income        2174\n",
       "purpose                0\n",
       "dtype: int64"
      ]
     },
     "execution_count": 3,
     "metadata": {},
     "output_type": "execute_result"
    }
   ],
   "source": [
    "data.isna().sum()"
   ]
  },
  {
   "cell_type": "markdown",
   "metadata": {},
   "source": [
    "**Вывод**\n",
    "\n",
    "Пропусков в столбцах days_employed и total_income одинковое количество. Скорее всего это связано с тем, что данные клиенты безработные, поэтому в данных столбцах рабочие дни и доход пропущены.  "
   ]
  },
  {
   "cell_type": "code",
   "execution_count": 4,
   "metadata": {},
   "outputs": [
    {
     "name": "stdout",
     "output_type": "stream",
     "text": [
      "0         высшее\n",
      "1        среднее\n",
      "2        среднее\n",
      "3        среднее\n",
      "4        среднее\n",
      "          ...   \n",
      "21520    среднее\n",
      "21521    среднее\n",
      "21522    среднее\n",
      "21523    среднее\n",
      "21524    среднее\n",
      "Name: education, Length: 21525, dtype: object\n"
     ]
    }
   ],
   "source": [
    "#В столбце education приводим все значения к нижнему регистру\n",
    "data['education'] = data['education'].str.lower()\n",
    "print(data['education'])"
   ]
  },
  {
   "cell_type": "code",
   "execution_count": 5,
   "metadata": {
    "scrolled": true
   },
   "outputs": [
    {
     "data": {
      "text/html": [
       "<div>\n",
       "<style scoped>\n",
       "    .dataframe tbody tr th:only-of-type {\n",
       "        vertical-align: middle;\n",
       "    }\n",
       "\n",
       "    .dataframe tbody tr th {\n",
       "        vertical-align: top;\n",
       "    }\n",
       "\n",
       "    .dataframe thead th {\n",
       "        text-align: right;\n",
       "    }\n",
       "</style>\n",
       "<table border=\"1\" class=\"dataframe\">\n",
       "  <thead>\n",
       "    <tr style=\"text-align: right;\">\n",
       "      <th></th>\n",
       "      <th>children</th>\n",
       "      <th>days_employed</th>\n",
       "      <th>dob_years</th>\n",
       "      <th>education</th>\n",
       "      <th>education_id</th>\n",
       "      <th>family_status</th>\n",
       "      <th>family_status_id</th>\n",
       "      <th>gender</th>\n",
       "      <th>income_type</th>\n",
       "      <th>debt</th>\n",
       "      <th>total_income</th>\n",
       "      <th>purpose</th>\n",
       "    </tr>\n",
       "  </thead>\n",
       "  <tbody>\n",
       "    <tr>\n",
       "      <th>0</th>\n",
       "      <td>1</td>\n",
       "      <td>-8437.673028</td>\n",
       "      <td>42</td>\n",
       "      <td>высшее</td>\n",
       "      <td>0</td>\n",
       "      <td>женат / замужем</td>\n",
       "      <td>0</td>\n",
       "      <td>F</td>\n",
       "      <td>сотрудник</td>\n",
       "      <td>0</td>\n",
       "      <td>253875.639453</td>\n",
       "      <td>покупка жилья</td>\n",
       "    </tr>\n",
       "    <tr>\n",
       "      <th>1</th>\n",
       "      <td>1</td>\n",
       "      <td>-4024.803754</td>\n",
       "      <td>36</td>\n",
       "      <td>среднее</td>\n",
       "      <td>1</td>\n",
       "      <td>женат / замужем</td>\n",
       "      <td>0</td>\n",
       "      <td>F</td>\n",
       "      <td>сотрудник</td>\n",
       "      <td>0</td>\n",
       "      <td>112080.014102</td>\n",
       "      <td>приобретение автомобиля</td>\n",
       "    </tr>\n",
       "    <tr>\n",
       "      <th>2</th>\n",
       "      <td>0</td>\n",
       "      <td>-5623.422610</td>\n",
       "      <td>33</td>\n",
       "      <td>среднее</td>\n",
       "      <td>1</td>\n",
       "      <td>женат / замужем</td>\n",
       "      <td>0</td>\n",
       "      <td>M</td>\n",
       "      <td>сотрудник</td>\n",
       "      <td>0</td>\n",
       "      <td>145885.952297</td>\n",
       "      <td>покупка жилья</td>\n",
       "    </tr>\n",
       "    <tr>\n",
       "      <th>3</th>\n",
       "      <td>3</td>\n",
       "      <td>-4124.747207</td>\n",
       "      <td>32</td>\n",
       "      <td>среднее</td>\n",
       "      <td>1</td>\n",
       "      <td>женат / замужем</td>\n",
       "      <td>0</td>\n",
       "      <td>M</td>\n",
       "      <td>сотрудник</td>\n",
       "      <td>0</td>\n",
       "      <td>267628.550329</td>\n",
       "      <td>дополнительное образование</td>\n",
       "    </tr>\n",
       "    <tr>\n",
       "      <th>4</th>\n",
       "      <td>0</td>\n",
       "      <td>340266.072047</td>\n",
       "      <td>53</td>\n",
       "      <td>среднее</td>\n",
       "      <td>1</td>\n",
       "      <td>гражданский брак</td>\n",
       "      <td>1</td>\n",
       "      <td>F</td>\n",
       "      <td>пенсионер</td>\n",
       "      <td>0</td>\n",
       "      <td>158616.077870</td>\n",
       "      <td>сыграть свадьбу</td>\n",
       "    </tr>\n",
       "    <tr>\n",
       "      <th>5</th>\n",
       "      <td>0</td>\n",
       "      <td>-926.185831</td>\n",
       "      <td>27</td>\n",
       "      <td>высшее</td>\n",
       "      <td>0</td>\n",
       "      <td>гражданский брак</td>\n",
       "      <td>1</td>\n",
       "      <td>M</td>\n",
       "      <td>компаньон</td>\n",
       "      <td>0</td>\n",
       "      <td>255763.565419</td>\n",
       "      <td>покупка жилья</td>\n",
       "    </tr>\n",
       "    <tr>\n",
       "      <th>6</th>\n",
       "      <td>0</td>\n",
       "      <td>-2879.202052</td>\n",
       "      <td>43</td>\n",
       "      <td>высшее</td>\n",
       "      <td>0</td>\n",
       "      <td>женат / замужем</td>\n",
       "      <td>0</td>\n",
       "      <td>F</td>\n",
       "      <td>компаньон</td>\n",
       "      <td>0</td>\n",
       "      <td>240525.971920</td>\n",
       "      <td>операции с жильем</td>\n",
       "    </tr>\n",
       "    <tr>\n",
       "      <th>7</th>\n",
       "      <td>0</td>\n",
       "      <td>-152.779569</td>\n",
       "      <td>50</td>\n",
       "      <td>среднее</td>\n",
       "      <td>1</td>\n",
       "      <td>женат / замужем</td>\n",
       "      <td>0</td>\n",
       "      <td>M</td>\n",
       "      <td>сотрудник</td>\n",
       "      <td>0</td>\n",
       "      <td>135823.934197</td>\n",
       "      <td>образование</td>\n",
       "    </tr>\n",
       "    <tr>\n",
       "      <th>8</th>\n",
       "      <td>2</td>\n",
       "      <td>-6929.865299</td>\n",
       "      <td>35</td>\n",
       "      <td>высшее</td>\n",
       "      <td>0</td>\n",
       "      <td>гражданский брак</td>\n",
       "      <td>1</td>\n",
       "      <td>F</td>\n",
       "      <td>сотрудник</td>\n",
       "      <td>0</td>\n",
       "      <td>95856.832424</td>\n",
       "      <td>на проведение свадьбы</td>\n",
       "    </tr>\n",
       "    <tr>\n",
       "      <th>9</th>\n",
       "      <td>0</td>\n",
       "      <td>-2188.756445</td>\n",
       "      <td>41</td>\n",
       "      <td>среднее</td>\n",
       "      <td>1</td>\n",
       "      <td>женат / замужем</td>\n",
       "      <td>0</td>\n",
       "      <td>M</td>\n",
       "      <td>сотрудник</td>\n",
       "      <td>0</td>\n",
       "      <td>144425.938277</td>\n",
       "      <td>покупка жилья для семьи</td>\n",
       "    </tr>\n",
       "  </tbody>\n",
       "</table>\n",
       "</div>"
      ],
      "text/plain": [
       "   children  days_employed  dob_years education  education_id  \\\n",
       "0         1   -8437.673028         42    высшее             0   \n",
       "1         1   -4024.803754         36   среднее             1   \n",
       "2         0   -5623.422610         33   среднее             1   \n",
       "3         3   -4124.747207         32   среднее             1   \n",
       "4         0  340266.072047         53   среднее             1   \n",
       "5         0    -926.185831         27    высшее             0   \n",
       "6         0   -2879.202052         43    высшее             0   \n",
       "7         0    -152.779569         50   среднее             1   \n",
       "8         2   -6929.865299         35    высшее             0   \n",
       "9         0   -2188.756445         41   среднее             1   \n",
       "\n",
       "      family_status  family_status_id gender income_type  debt   total_income  \\\n",
       "0   женат / замужем                 0      F   сотрудник     0  253875.639453   \n",
       "1   женат / замужем                 0      F   сотрудник     0  112080.014102   \n",
       "2   женат / замужем                 0      M   сотрудник     0  145885.952297   \n",
       "3   женат / замужем                 0      M   сотрудник     0  267628.550329   \n",
       "4  гражданский брак                 1      F   пенсионер     0  158616.077870   \n",
       "5  гражданский брак                 1      M   компаньон     0  255763.565419   \n",
       "6   женат / замужем                 0      F   компаньон     0  240525.971920   \n",
       "7   женат / замужем                 0      M   сотрудник     0  135823.934197   \n",
       "8  гражданский брак                 1      F   сотрудник     0   95856.832424   \n",
       "9   женат / замужем                 0      M   сотрудник     0  144425.938277   \n",
       "\n",
       "                      purpose  \n",
       "0               покупка жилья  \n",
       "1     приобретение автомобиля  \n",
       "2               покупка жилья  \n",
       "3  дополнительное образование  \n",
       "4             сыграть свадьбу  \n",
       "5               покупка жилья  \n",
       "6           операции с жильем  \n",
       "7                 образование  \n",
       "8       на проведение свадьбы  \n",
       "9     покупка жилья для семьи  "
      ]
     },
     "execution_count": 5,
     "metadata": {},
     "output_type": "execute_result"
    }
   ],
   "source": [
    "#Заполним пропуски\n",
    "data = data.fillna(0)\n",
    "data.head(10)"
   ]
  },
  {
   "cell_type": "markdown",
   "metadata": {},
   "source": [
    "**Вывод**"
   ]
  },
  {
   "cell_type": "markdown",
   "metadata": {},
   "source": [
    "Теперь в датафрейме нет  пропусков, можно работать дальше"
   ]
  },
  {
   "cell_type": "markdown",
   "metadata": {},
   "source": [
    "### Замена типа данных"
   ]
  },
  {
   "cell_type": "code",
   "execution_count": 6,
   "metadata": {},
   "outputs": [
    {
     "name": "stdout",
     "output_type": "stream",
     "text": [
      "<class 'pandas.core.frame.DataFrame'>\n",
      "RangeIndex: 21525 entries, 0 to 21524\n",
      "Data columns (total 12 columns):\n",
      " #   Column            Non-Null Count  Dtype  \n",
      "---  ------            --------------  -----  \n",
      " 0   children          21525 non-null  int64  \n",
      " 1   days_employed     21525 non-null  int64  \n",
      " 2   dob_years         21525 non-null  int64  \n",
      " 3   education         21525 non-null  object \n",
      " 4   education_id      21525 non-null  int64  \n",
      " 5   family_status     21525 non-null  object \n",
      " 6   family_status_id  21525 non-null  int64  \n",
      " 7   gender            21525 non-null  object \n",
      " 8   income_type       21525 non-null  object \n",
      " 9   debt              21525 non-null  int64  \n",
      " 10  total_income      21525 non-null  float64\n",
      " 11  purpose           21525 non-null  object \n",
      "dtypes: float64(1), int64(6), object(5)\n",
      "memory usage: 2.0+ MB\n",
      "None\n"
     ]
    }
   ],
   "source": [
    "#В столбце days_employed меняем тип данных с вещественного на целое число\n",
    "data['days_employed'] = data['days_employed'].astype('int')\n",
    "print(data.info())"
   ]
  },
  {
   "cell_type": "markdown",
   "metadata": {},
   "source": [
    "**Вывод**"
   ]
  },
  {
   "cell_type": "markdown",
   "metadata": {},
   "source": [
    "Для работы с данными в столбце days_employed удобнее их представить в виде целых чисел. Тем более что трудно воспринять день + сколько-то после запятой. "
   ]
  },
  {
   "cell_type": "markdown",
   "metadata": {},
   "source": [
    "### Обработка дубликатов"
   ]
  },
  {
   "cell_type": "code",
   "execution_count": 7,
   "metadata": {},
   "outputs": [
    {
     "data": {
      "text/plain": [
       "71"
      ]
     },
     "execution_count": 7,
     "metadata": {},
     "output_type": "execute_result"
    }
   ],
   "source": [
    "data.duplicated().sum()"
   ]
  },
  {
   "cell_type": "code",
   "execution_count": 8,
   "metadata": {},
   "outputs": [],
   "source": [
    "data = data.drop_duplicates().reset_index(drop=True)"
   ]
  },
  {
   "cell_type": "markdown",
   "metadata": {},
   "source": [
    "**Вывод**\n",
    "\n",
    "Дубликатов обнаружено и удалено с заменой индекса - 71\n"
   ]
  },
  {
   "cell_type": "markdown",
   "metadata": {},
   "source": [
    "Дубликаты могли возникнуть по причине того, что один и тот же человек мог взять несколько кредитов в течении определенного времени."
   ]
  },
  {
   "cell_type": "markdown",
   "metadata": {},
   "source": [
    "### Лемматизация"
   ]
  },
  {
   "cell_type": "code",
   "execution_count": 9,
   "metadata": {},
   "outputs": [
    {
     "data": {
      "text/plain": [
       "array(['покупка жилья', 'приобретение автомобиля',\n",
       "       'дополнительное образование', 'сыграть свадьбу',\n",
       "       'операции с жильем', 'образование', 'на проведение свадьбы',\n",
       "       'покупка жилья для семьи', 'покупка недвижимости',\n",
       "       'покупка коммерческой недвижимости', 'покупка жилой недвижимости',\n",
       "       'строительство собственной недвижимости', 'недвижимость',\n",
       "       'строительство недвижимости', 'на покупку подержанного автомобиля',\n",
       "       'на покупку своего автомобиля',\n",
       "       'операции с коммерческой недвижимостью',\n",
       "       'строительство жилой недвижимости', 'жилье',\n",
       "       'операции со своей недвижимостью', 'автомобили',\n",
       "       'заняться образованием', 'сделка с подержанным автомобилем',\n",
       "       'получение образования', 'автомобиль', 'свадьба',\n",
       "       'получение дополнительного образования', 'покупка своего жилья',\n",
       "       'операции с недвижимостью', 'получение высшего образования',\n",
       "       'свой автомобиль', 'сделка с автомобилем',\n",
       "       'профильное образование', 'высшее образование',\n",
       "       'покупка жилья для сдачи', 'на покупку автомобиля', 'ремонт жилью',\n",
       "       'заняться высшим образованием'], dtype=object)"
      ]
     },
     "execution_count": 9,
     "metadata": {},
     "output_type": "execute_result"
    }
   ],
   "source": [
    "#Выводим уникальные значения столбца с целями кредита\n",
    "data['purpose'].unique()"
   ]
  },
  {
   "cell_type": "markdown",
   "metadata": {},
   "source": [
    "Одни и те же цели прописаны по-разному. Необходимо их лемматизировать и распределить по категориям. "
   ]
  },
  {
   "cell_type": "code",
   "execution_count": 10,
   "metadata": {},
   "outputs": [
    {
     "data": {
      "text/plain": [
       "[['покупка', ' ', 'жилье', '\\n'],\n",
       " ['приобретение', ' ', 'автомобиль', '\\n'],\n",
       " ['дополнительный', ' ', 'образование', '\\n'],\n",
       " ['сыграть', ' ', 'свадьба', '\\n'],\n",
       " ['операция', ' ', 'с', ' ', 'жилье', '\\n'],\n",
       " ['образование', '\\n'],\n",
       " ['на', ' ', 'проведение', ' ', 'свадьба', '\\n'],\n",
       " ['покупка', ' ', 'жилье', ' ', 'для', ' ', 'семья', '\\n'],\n",
       " ['покупка', ' ', 'недвижимость', '\\n'],\n",
       " ['покупка', ' ', 'коммерческий', ' ', 'недвижимость', '\\n'],\n",
       " ['покупка', ' ', 'жилой', ' ', 'недвижимость', '\\n'],\n",
       " ['строительство', ' ', 'собственный', ' ', 'недвижимость', '\\n'],\n",
       " ['недвижимость', '\\n'],\n",
       " ['строительство', ' ', 'недвижимость', '\\n'],\n",
       " ['на', ' ', 'покупка', ' ', 'подержать', ' ', 'автомобиль', '\\n'],\n",
       " ['на', ' ', 'покупка', ' ', 'свой', ' ', 'автомобиль', '\\n'],\n",
       " ['операция', ' ', 'с', ' ', 'коммерческий', ' ', 'недвижимость', '\\n'],\n",
       " ['строительство', ' ', 'жилой', ' ', 'недвижимость', '\\n'],\n",
       " ['жилье', '\\n'],\n",
       " ['операция', ' ', 'со', ' ', 'свой', ' ', 'недвижимость', '\\n'],\n",
       " ['автомобиль', '\\n'],\n",
       " ['заниматься', ' ', 'образование', '\\n'],\n",
       " ['сделка', ' ', 'с', ' ', 'подержанный', ' ', 'автомобиль', '\\n'],\n",
       " ['получение', ' ', 'образование', '\\n'],\n",
       " ['автомобиль', '\\n'],\n",
       " ['свадьба', '\\n'],\n",
       " ['получение', ' ', 'дополнительный', ' ', 'образование', '\\n'],\n",
       " ['покупка', ' ', 'свой', ' ', 'жилье', '\\n'],\n",
       " ['операция', ' ', 'с', ' ', 'недвижимость', '\\n'],\n",
       " ['получение', ' ', 'высокий', ' ', 'образование', '\\n'],\n",
       " ['свой', ' ', 'автомобиль', '\\n'],\n",
       " ['сделка', ' ', 'с', ' ', 'автомобиль', '\\n'],\n",
       " ['профильный', ' ', 'образование', '\\n'],\n",
       " ['высокий', ' ', 'образование', '\\n'],\n",
       " ['покупка', ' ', 'жилье', ' ', 'для', ' ', 'сдача', '\\n'],\n",
       " ['на', ' ', 'покупка', ' ', 'автомобиль', '\\n'],\n",
       " ['ремонт', ' ', 'жилье', '\\n'],\n",
       " ['заниматься', ' ', 'высокий', ' ', 'образование', '\\n']]"
      ]
     },
     "execution_count": 10,
     "metadata": {},
     "output_type": "execute_result"
    }
   ],
   "source": [
    "#Ищем леммы слов из столбца с целями кредита для того, чтобы распределить их по категориям\n",
    "from pymystem3 import Mystem\n",
    "m = Mystem()\n",
    "#Делаем список purpose_list, чтобы внести туда уникальные значения столбца 'purpose' \n",
    "purpose_list = data['purpose'].unique()\n",
    "#Слздаем переменную, в которую сохраним лемматизированные значения \n",
    "lemmas = []\n",
    "#Каждую строчку в 'purpose_list' лемматизируем, получаем список лемм и добавляем значения в пустой список 'lemmas' и выводим на экран\n",
    "for i in purpose_list:\n",
    "    lemma = m.lemmatize(i)\n",
    "    lemmas.append(lemma)\n",
    "lemmas"
   ]
  },
  {
   "cell_type": "markdown",
   "metadata": {},
   "source": [
    "**Вывод**"
   ]
  },
  {
   "cell_type": "markdown",
   "metadata": {},
   "source": [
    "Предварительно цели кредита можно распределить по категориям:\n",
    "1. Недвижимость (покупка, строительство);\n",
    "2. Автомобиль;\n",
    "3. Образование;\n",
    "4. Свадьба"
   ]
  },
  {
   "cell_type": "markdown",
   "metadata": {},
   "source": [
    "### Категоризация данных"
   ]
  },
  {
   "cell_type": "code",
   "execution_count": 11,
   "metadata": {
    "scrolled": true
   },
   "outputs": [
    {
     "data": {
      "text/html": [
       "<div>\n",
       "<style scoped>\n",
       "    .dataframe tbody tr th:only-of-type {\n",
       "        vertical-align: middle;\n",
       "    }\n",
       "\n",
       "    .dataframe tbody tr th {\n",
       "        vertical-align: top;\n",
       "    }\n",
       "\n",
       "    .dataframe thead th {\n",
       "        text-align: right;\n",
       "    }\n",
       "</style>\n",
       "<table border=\"1\" class=\"dataframe\">\n",
       "  <thead>\n",
       "    <tr style=\"text-align: right;\">\n",
       "      <th></th>\n",
       "      <th>children</th>\n",
       "      <th>days_employed</th>\n",
       "      <th>dob_years</th>\n",
       "      <th>education</th>\n",
       "      <th>education_id</th>\n",
       "      <th>family_status</th>\n",
       "      <th>family_status_id</th>\n",
       "      <th>gender</th>\n",
       "      <th>income_type</th>\n",
       "      <th>debt</th>\n",
       "      <th>total_income</th>\n",
       "      <th>purpose</th>\n",
       "      <th>purpose_def</th>\n",
       "    </tr>\n",
       "  </thead>\n",
       "  <tbody>\n",
       "    <tr>\n",
       "      <th>0</th>\n",
       "      <td>1</td>\n",
       "      <td>-8437</td>\n",
       "      <td>42</td>\n",
       "      <td>высшее</td>\n",
       "      <td>0</td>\n",
       "      <td>женат / замужем</td>\n",
       "      <td>0</td>\n",
       "      <td>F</td>\n",
       "      <td>сотрудник</td>\n",
       "      <td>0</td>\n",
       "      <td>253875.639453</td>\n",
       "      <td>покупка жилья</td>\n",
       "      <td>недвижимость</td>\n",
       "    </tr>\n",
       "    <tr>\n",
       "      <th>1</th>\n",
       "      <td>1</td>\n",
       "      <td>-4024</td>\n",
       "      <td>36</td>\n",
       "      <td>среднее</td>\n",
       "      <td>1</td>\n",
       "      <td>женат / замужем</td>\n",
       "      <td>0</td>\n",
       "      <td>F</td>\n",
       "      <td>сотрудник</td>\n",
       "      <td>0</td>\n",
       "      <td>112080.014102</td>\n",
       "      <td>приобретение автомобиля</td>\n",
       "      <td>автомобиль</td>\n",
       "    </tr>\n",
       "    <tr>\n",
       "      <th>2</th>\n",
       "      <td>0</td>\n",
       "      <td>-5623</td>\n",
       "      <td>33</td>\n",
       "      <td>среднее</td>\n",
       "      <td>1</td>\n",
       "      <td>женат / замужем</td>\n",
       "      <td>0</td>\n",
       "      <td>M</td>\n",
       "      <td>сотрудник</td>\n",
       "      <td>0</td>\n",
       "      <td>145885.952297</td>\n",
       "      <td>покупка жилья</td>\n",
       "      <td>недвижимость</td>\n",
       "    </tr>\n",
       "    <tr>\n",
       "      <th>3</th>\n",
       "      <td>3</td>\n",
       "      <td>-4124</td>\n",
       "      <td>32</td>\n",
       "      <td>среднее</td>\n",
       "      <td>1</td>\n",
       "      <td>женат / замужем</td>\n",
       "      <td>0</td>\n",
       "      <td>M</td>\n",
       "      <td>сотрудник</td>\n",
       "      <td>0</td>\n",
       "      <td>267628.550329</td>\n",
       "      <td>дополнительное образование</td>\n",
       "      <td>образование</td>\n",
       "    </tr>\n",
       "    <tr>\n",
       "      <th>4</th>\n",
       "      <td>0</td>\n",
       "      <td>340266</td>\n",
       "      <td>53</td>\n",
       "      <td>среднее</td>\n",
       "      <td>1</td>\n",
       "      <td>гражданский брак</td>\n",
       "      <td>1</td>\n",
       "      <td>F</td>\n",
       "      <td>пенсионер</td>\n",
       "      <td>0</td>\n",
       "      <td>158616.077870</td>\n",
       "      <td>сыграть свадьбу</td>\n",
       "      <td>свадба</td>\n",
       "    </tr>\n",
       "    <tr>\n",
       "      <th>5</th>\n",
       "      <td>0</td>\n",
       "      <td>-926</td>\n",
       "      <td>27</td>\n",
       "      <td>высшее</td>\n",
       "      <td>0</td>\n",
       "      <td>гражданский брак</td>\n",
       "      <td>1</td>\n",
       "      <td>M</td>\n",
       "      <td>компаньон</td>\n",
       "      <td>0</td>\n",
       "      <td>255763.565419</td>\n",
       "      <td>покупка жилья</td>\n",
       "      <td>недвижимость</td>\n",
       "    </tr>\n",
       "    <tr>\n",
       "      <th>6</th>\n",
       "      <td>0</td>\n",
       "      <td>-2879</td>\n",
       "      <td>43</td>\n",
       "      <td>высшее</td>\n",
       "      <td>0</td>\n",
       "      <td>женат / замужем</td>\n",
       "      <td>0</td>\n",
       "      <td>F</td>\n",
       "      <td>компаньон</td>\n",
       "      <td>0</td>\n",
       "      <td>240525.971920</td>\n",
       "      <td>операции с жильем</td>\n",
       "      <td>недвижимость</td>\n",
       "    </tr>\n",
       "    <tr>\n",
       "      <th>7</th>\n",
       "      <td>0</td>\n",
       "      <td>-152</td>\n",
       "      <td>50</td>\n",
       "      <td>среднее</td>\n",
       "      <td>1</td>\n",
       "      <td>женат / замужем</td>\n",
       "      <td>0</td>\n",
       "      <td>M</td>\n",
       "      <td>сотрудник</td>\n",
       "      <td>0</td>\n",
       "      <td>135823.934197</td>\n",
       "      <td>образование</td>\n",
       "      <td>образование</td>\n",
       "    </tr>\n",
       "    <tr>\n",
       "      <th>8</th>\n",
       "      <td>2</td>\n",
       "      <td>-6929</td>\n",
       "      <td>35</td>\n",
       "      <td>высшее</td>\n",
       "      <td>0</td>\n",
       "      <td>гражданский брак</td>\n",
       "      <td>1</td>\n",
       "      <td>F</td>\n",
       "      <td>сотрудник</td>\n",
       "      <td>0</td>\n",
       "      <td>95856.832424</td>\n",
       "      <td>на проведение свадьбы</td>\n",
       "      <td>свадба</td>\n",
       "    </tr>\n",
       "    <tr>\n",
       "      <th>9</th>\n",
       "      <td>0</td>\n",
       "      <td>-2188</td>\n",
       "      <td>41</td>\n",
       "      <td>среднее</td>\n",
       "      <td>1</td>\n",
       "      <td>женат / замужем</td>\n",
       "      <td>0</td>\n",
       "      <td>M</td>\n",
       "      <td>сотрудник</td>\n",
       "      <td>0</td>\n",
       "      <td>144425.938277</td>\n",
       "      <td>покупка жилья для семьи</td>\n",
       "      <td>недвижимость</td>\n",
       "    </tr>\n",
       "    <tr>\n",
       "      <th>10</th>\n",
       "      <td>2</td>\n",
       "      <td>-4171</td>\n",
       "      <td>36</td>\n",
       "      <td>высшее</td>\n",
       "      <td>0</td>\n",
       "      <td>женат / замужем</td>\n",
       "      <td>0</td>\n",
       "      <td>M</td>\n",
       "      <td>компаньон</td>\n",
       "      <td>0</td>\n",
       "      <td>113943.491460</td>\n",
       "      <td>покупка недвижимости</td>\n",
       "      <td>недвижимость</td>\n",
       "    </tr>\n",
       "    <tr>\n",
       "      <th>11</th>\n",
       "      <td>0</td>\n",
       "      <td>-792</td>\n",
       "      <td>40</td>\n",
       "      <td>среднее</td>\n",
       "      <td>1</td>\n",
       "      <td>женат / замужем</td>\n",
       "      <td>0</td>\n",
       "      <td>F</td>\n",
       "      <td>сотрудник</td>\n",
       "      <td>0</td>\n",
       "      <td>77069.234271</td>\n",
       "      <td>покупка коммерческой недвижимости</td>\n",
       "      <td>недвижимость</td>\n",
       "    </tr>\n",
       "    <tr>\n",
       "      <th>12</th>\n",
       "      <td>0</td>\n",
       "      <td>0</td>\n",
       "      <td>65</td>\n",
       "      <td>среднее</td>\n",
       "      <td>1</td>\n",
       "      <td>гражданский брак</td>\n",
       "      <td>1</td>\n",
       "      <td>M</td>\n",
       "      <td>пенсионер</td>\n",
       "      <td>0</td>\n",
       "      <td>0.000000</td>\n",
       "      <td>сыграть свадьбу</td>\n",
       "      <td>свадба</td>\n",
       "    </tr>\n",
       "    <tr>\n",
       "      <th>13</th>\n",
       "      <td>0</td>\n",
       "      <td>-1846</td>\n",
       "      <td>54</td>\n",
       "      <td>неоконченное высшее</td>\n",
       "      <td>2</td>\n",
       "      <td>женат / замужем</td>\n",
       "      <td>0</td>\n",
       "      <td>F</td>\n",
       "      <td>сотрудник</td>\n",
       "      <td>0</td>\n",
       "      <td>130458.228857</td>\n",
       "      <td>приобретение автомобиля</td>\n",
       "      <td>автомобиль</td>\n",
       "    </tr>\n",
       "    <tr>\n",
       "      <th>14</th>\n",
       "      <td>0</td>\n",
       "      <td>-1844</td>\n",
       "      <td>56</td>\n",
       "      <td>высшее</td>\n",
       "      <td>0</td>\n",
       "      <td>гражданский брак</td>\n",
       "      <td>1</td>\n",
       "      <td>F</td>\n",
       "      <td>компаньон</td>\n",
       "      <td>1</td>\n",
       "      <td>165127.911772</td>\n",
       "      <td>покупка жилой недвижимости</td>\n",
       "      <td>недвижимость</td>\n",
       "    </tr>\n",
       "    <tr>\n",
       "      <th>15</th>\n",
       "      <td>1</td>\n",
       "      <td>-972</td>\n",
       "      <td>26</td>\n",
       "      <td>среднее</td>\n",
       "      <td>1</td>\n",
       "      <td>женат / замужем</td>\n",
       "      <td>0</td>\n",
       "      <td>F</td>\n",
       "      <td>сотрудник</td>\n",
       "      <td>0</td>\n",
       "      <td>116820.904450</td>\n",
       "      <td>строительство собственной недвижимости</td>\n",
       "      <td>недвижимость</td>\n",
       "    </tr>\n",
       "    <tr>\n",
       "      <th>16</th>\n",
       "      <td>0</td>\n",
       "      <td>-1719</td>\n",
       "      <td>35</td>\n",
       "      <td>среднее</td>\n",
       "      <td>1</td>\n",
       "      <td>женат / замужем</td>\n",
       "      <td>0</td>\n",
       "      <td>F</td>\n",
       "      <td>сотрудник</td>\n",
       "      <td>0</td>\n",
       "      <td>289202.704229</td>\n",
       "      <td>недвижимость</td>\n",
       "      <td>недвижимость</td>\n",
       "    </tr>\n",
       "    <tr>\n",
       "      <th>17</th>\n",
       "      <td>0</td>\n",
       "      <td>-2369</td>\n",
       "      <td>33</td>\n",
       "      <td>высшее</td>\n",
       "      <td>0</td>\n",
       "      <td>гражданский брак</td>\n",
       "      <td>1</td>\n",
       "      <td>M</td>\n",
       "      <td>сотрудник</td>\n",
       "      <td>0</td>\n",
       "      <td>90410.586745</td>\n",
       "      <td>строительство недвижимости</td>\n",
       "      <td>недвижимость</td>\n",
       "    </tr>\n",
       "    <tr>\n",
       "      <th>18</th>\n",
       "      <td>0</td>\n",
       "      <td>400281</td>\n",
       "      <td>53</td>\n",
       "      <td>среднее</td>\n",
       "      <td>1</td>\n",
       "      <td>вдовец / вдова</td>\n",
       "      <td>2</td>\n",
       "      <td>F</td>\n",
       "      <td>пенсионер</td>\n",
       "      <td>0</td>\n",
       "      <td>56823.777243</td>\n",
       "      <td>на покупку подержанного автомобиля</td>\n",
       "      <td>автомобиль</td>\n",
       "    </tr>\n",
       "    <tr>\n",
       "      <th>19</th>\n",
       "      <td>0</td>\n",
       "      <td>-10038</td>\n",
       "      <td>48</td>\n",
       "      <td>среднее</td>\n",
       "      <td>1</td>\n",
       "      <td>в разводе</td>\n",
       "      <td>3</td>\n",
       "      <td>F</td>\n",
       "      <td>сотрудник</td>\n",
       "      <td>0</td>\n",
       "      <td>242831.107982</td>\n",
       "      <td>на покупку своего автомобиля</td>\n",
       "      <td>автомобиль</td>\n",
       "    </tr>\n",
       "  </tbody>\n",
       "</table>\n",
       "</div>"
      ],
      "text/plain": [
       "    children  days_employed  dob_years            education  education_id  \\\n",
       "0          1          -8437         42               высшее             0   \n",
       "1          1          -4024         36              среднее             1   \n",
       "2          0          -5623         33              среднее             1   \n",
       "3          3          -4124         32              среднее             1   \n",
       "4          0         340266         53              среднее             1   \n",
       "5          0           -926         27               высшее             0   \n",
       "6          0          -2879         43               высшее             0   \n",
       "7          0           -152         50              среднее             1   \n",
       "8          2          -6929         35               высшее             0   \n",
       "9          0          -2188         41              среднее             1   \n",
       "10         2          -4171         36               высшее             0   \n",
       "11         0           -792         40              среднее             1   \n",
       "12         0              0         65              среднее             1   \n",
       "13         0          -1846         54  неоконченное высшее             2   \n",
       "14         0          -1844         56               высшее             0   \n",
       "15         1           -972         26              среднее             1   \n",
       "16         0          -1719         35              среднее             1   \n",
       "17         0          -2369         33               высшее             0   \n",
       "18         0         400281         53              среднее             1   \n",
       "19         0         -10038         48              среднее             1   \n",
       "\n",
       "       family_status  family_status_id gender income_type  debt  \\\n",
       "0    женат / замужем                 0      F   сотрудник     0   \n",
       "1    женат / замужем                 0      F   сотрудник     0   \n",
       "2    женат / замужем                 0      M   сотрудник     0   \n",
       "3    женат / замужем                 0      M   сотрудник     0   \n",
       "4   гражданский брак                 1      F   пенсионер     0   \n",
       "5   гражданский брак                 1      M   компаньон     0   \n",
       "6    женат / замужем                 0      F   компаньон     0   \n",
       "7    женат / замужем                 0      M   сотрудник     0   \n",
       "8   гражданский брак                 1      F   сотрудник     0   \n",
       "9    женат / замужем                 0      M   сотрудник     0   \n",
       "10   женат / замужем                 0      M   компаньон     0   \n",
       "11   женат / замужем                 0      F   сотрудник     0   \n",
       "12  гражданский брак                 1      M   пенсионер     0   \n",
       "13   женат / замужем                 0      F   сотрудник     0   \n",
       "14  гражданский брак                 1      F   компаньон     1   \n",
       "15   женат / замужем                 0      F   сотрудник     0   \n",
       "16   женат / замужем                 0      F   сотрудник     0   \n",
       "17  гражданский брак                 1      M   сотрудник     0   \n",
       "18    вдовец / вдова                 2      F   пенсионер     0   \n",
       "19         в разводе                 3      F   сотрудник     0   \n",
       "\n",
       "     total_income                                 purpose   purpose_def  \n",
       "0   253875.639453                           покупка жилья  недвижимость  \n",
       "1   112080.014102                 приобретение автомобиля    автомобиль  \n",
       "2   145885.952297                           покупка жилья  недвижимость  \n",
       "3   267628.550329              дополнительное образование   образование  \n",
       "4   158616.077870                         сыграть свадьбу        свадба  \n",
       "5   255763.565419                           покупка жилья  недвижимость  \n",
       "6   240525.971920                       операции с жильем  недвижимость  \n",
       "7   135823.934197                             образование   образование  \n",
       "8    95856.832424                   на проведение свадьбы        свадба  \n",
       "9   144425.938277                 покупка жилья для семьи  недвижимость  \n",
       "10  113943.491460                    покупка недвижимости  недвижимость  \n",
       "11   77069.234271       покупка коммерческой недвижимости  недвижимость  \n",
       "12       0.000000                         сыграть свадьбу        свадба  \n",
       "13  130458.228857                 приобретение автомобиля    автомобиль  \n",
       "14  165127.911772              покупка жилой недвижимости  недвижимость  \n",
       "15  116820.904450  строительство собственной недвижимости  недвижимость  \n",
       "16  289202.704229                            недвижимость  недвижимость  \n",
       "17   90410.586745              строительство недвижимости  недвижимость  \n",
       "18   56823.777243      на покупку подержанного автомобиля    автомобиль  \n",
       "19  242831.107982            на покупку своего автомобиля    автомобиль  "
      ]
     },
     "execution_count": 11,
     "metadata": {},
     "output_type": "execute_result"
    }
   ],
   "source": [
    "#Теперь настало время распределить леммы по категорям. Создаем функцию, которая в зависимости от выделенной леммы определит\n",
    "#категорию строки, а затем добавляем новый столбец в датафрейм data \n",
    "def purpose_change(purpose):\n",
    "    lemmas_row = m.lemmatize(purpose)\n",
    "    for i in lemmas_row:\n",
    "        if 'авто' in i:\n",
    "            return 'автомобиль'\n",
    "        if 'недвиж' in i or 'жил' in i:\n",
    "            return  'недвижимость'\n",
    "        if 'свад' in i:\n",
    "            return  'свадба'\n",
    "        if 'образов' in i:\n",
    "            return 'образование'\n",
    "\n",
    "data['purpose_def']= data['purpose'].apply(purpose_change)        \n",
    "data.head(20)"
   ]
  },
  {
   "cell_type": "markdown",
   "metadata": {},
   "source": [
    "**Вывод**"
   ]
  },
  {
   "cell_type": "markdown",
   "metadata": {},
   "source": [
    "С помощью лемматизации мы распределили по-разному сформулированные цели кредита по категорям и внесли их в отедльный столбец. Теперь можно работать с этими данными, чтобы ответить на вопрос о зависимости цели кредита и возврата этого кредита в срок."
   ]
  },
  {
   "cell_type": "markdown",
   "metadata": {},
   "source": [
    "## Шаг 3. Ответы на вопросы и решение задач"
   ]
  },
  {
   "cell_type": "markdown",
   "metadata": {},
   "source": [
    "### Есть ли зависимость между наличием детей и возвратом кредита в срок?"
   ]
  },
  {
   "cell_type": "markdown",
   "metadata": {},
   "source": [
    "Поскольку в датафрейме отмечено количество детей, а вопрос стоит о наличии или отсутствии таковых, то имеет смысл для удобства распределеить данные о детях на две категории: наличие и отсутствие детей."
   ]
  },
  {
   "cell_type": "code",
   "execution_count": 12,
   "metadata": {},
   "outputs": [
    {
     "data": {
      "text/html": [
       "<div>\n",
       "<style scoped>\n",
       "    .dataframe tbody tr th:only-of-type {\n",
       "        vertical-align: middle;\n",
       "    }\n",
       "\n",
       "    .dataframe tbody tr th {\n",
       "        vertical-align: top;\n",
       "    }\n",
       "\n",
       "    .dataframe thead th {\n",
       "        text-align: right;\n",
       "    }\n",
       "</style>\n",
       "<table border=\"1\" class=\"dataframe\">\n",
       "  <thead>\n",
       "    <tr style=\"text-align: right;\">\n",
       "      <th>debt</th>\n",
       "      <th>0</th>\n",
       "      <th>1</th>\n",
       "      <th>percent</th>\n",
       "    </tr>\n",
       "    <tr>\n",
       "      <th>children_group</th>\n",
       "      <th></th>\n",
       "      <th></th>\n",
       "      <th></th>\n",
       "    </tr>\n",
       "  </thead>\n",
       "  <tbody>\n",
       "    <tr>\n",
       "      <th>0</th>\n",
       "      <td>13074</td>\n",
       "      <td>1064</td>\n",
       "      <td>7.525817</td>\n",
       "    </tr>\n",
       "    <tr>\n",
       "      <th>1</th>\n",
       "      <td>6639</td>\n",
       "      <td>677</td>\n",
       "      <td>9.253691</td>\n",
       "    </tr>\n",
       "  </tbody>\n",
       "</table>\n",
       "</div>"
      ],
      "text/plain": [
       "debt                0     1   percent\n",
       "children_group                       \n",
       "0               13074  1064  7.525817\n",
       "1                6639   677  9.253691"
      ]
     },
     "execution_count": 12,
     "metadata": {},
     "output_type": "execute_result"
    }
   ],
   "source": [
    "#Напишем функцию, которая распределит данные по категориям наличие/отсутствие детей\n",
    "# Значение 1 - наличие детей\n",
    "# Значение 0 - отсутствие детей\n",
    "def children_group(children):\n",
    "    if children >= 1:\n",
    "        return 1\n",
    "    return 0\n",
    "#Добавим новый столбец в датафрейм\n",
    "data['children_group'] = data['children'].apply(children_group)\n",
    "#Для нахождения зависимости воспользуемся инструментом pivot_table, он наглядно покажет как процентное соотношение, \n",
    "#так и конкретные цифры\n",
    "pivot_table_children_group = data.pivot_table(index='children_group', columns= 'debt', values='children', aggfunc='count')\n",
    "pivot_table_children_group['percent'] = pivot_table_children_group[1]/(pivot_table_children_group[1] \\\n",
    "                                                                       + pivot_table_children_group[0]) * 100\n",
    "pivot_table_children_group"
   ]
  },
  {
   "cell_type": "markdown",
   "metadata": {},
   "source": [
    "**Вывод**"
   ]
  },
  {
   "cell_type": "markdown",
   "metadata": {},
   "source": [
    "Зависимость между наличием детей и возвратом кредита в срок наблюдается - люди с детьми имеют больший риск стать должниками банка."
   ]
  },
  {
   "cell_type": "markdown",
   "metadata": {},
   "source": [
    "### Есть ли зависимость между семейным положением и возвратом кредита в срок?"
   ]
  },
  {
   "cell_type": "code",
   "execution_count": 13,
   "metadata": {},
   "outputs": [
    {
     "data": {
      "text/html": [
       "<div>\n",
       "<style scoped>\n",
       "    .dataframe tbody tr th:only-of-type {\n",
       "        vertical-align: middle;\n",
       "    }\n",
       "\n",
       "    .dataframe tbody tr th {\n",
       "        vertical-align: top;\n",
       "    }\n",
       "\n",
       "    .dataframe thead th {\n",
       "        text-align: right;\n",
       "    }\n",
       "</style>\n",
       "<table border=\"1\" class=\"dataframe\">\n",
       "  <thead>\n",
       "    <tr style=\"text-align: right;\">\n",
       "      <th>debt</th>\n",
       "      <th>0</th>\n",
       "      <th>1</th>\n",
       "      <th>percent</th>\n",
       "    </tr>\n",
       "    <tr>\n",
       "      <th>family_status</th>\n",
       "      <th></th>\n",
       "      <th></th>\n",
       "      <th></th>\n",
       "    </tr>\n",
       "  </thead>\n",
       "  <tbody>\n",
       "    <tr>\n",
       "      <th>Не женат / не замужем</th>\n",
       "      <td>2536</td>\n",
       "      <td>274</td>\n",
       "      <td>9.750890</td>\n",
       "    </tr>\n",
       "    <tr>\n",
       "      <th>в разводе</th>\n",
       "      <td>1110</td>\n",
       "      <td>85</td>\n",
       "      <td>7.112971</td>\n",
       "    </tr>\n",
       "    <tr>\n",
       "      <th>вдовец / вдова</th>\n",
       "      <td>896</td>\n",
       "      <td>63</td>\n",
       "      <td>6.569343</td>\n",
       "    </tr>\n",
       "    <tr>\n",
       "      <th>гражданский брак</th>\n",
       "      <td>3763</td>\n",
       "      <td>388</td>\n",
       "      <td>9.347145</td>\n",
       "    </tr>\n",
       "    <tr>\n",
       "      <th>женат / замужем</th>\n",
       "      <td>11408</td>\n",
       "      <td>931</td>\n",
       "      <td>7.545182</td>\n",
       "    </tr>\n",
       "  </tbody>\n",
       "</table>\n",
       "</div>"
      ],
      "text/plain": [
       "debt                       0    1   percent\n",
       "family_status                              \n",
       "Не женат / не замужем   2536  274  9.750890\n",
       "в разводе               1110   85  7.112971\n",
       "вдовец / вдова           896   63  6.569343\n",
       "гражданский брак        3763  388  9.347145\n",
       "женат / замужем        11408  931  7.545182"
      ]
     },
     "execution_count": 13,
     "metadata": {},
     "output_type": "execute_result"
    }
   ],
   "source": [
    "#Воспользуемся инструментом pivot_table\n",
    "pivot_table_family_status = data.pivot_table(index='family_status', columns= 'debt', values='family_status_id', aggfunc='count')\n",
    "pivot_table_family_status['percent'] = pivot_table_family_status[1]/(pivot_table_family_status[1] \\\n",
    "                                                                       + pivot_table_family_status[0]) * 100\n",
    "pivot_table_family_status"
   ]
  },
  {
   "cell_type": "markdown",
   "metadata": {},
   "source": [
    "**Вывод**"
   ]
  },
  {
   "cell_type": "markdown",
   "metadata": {},
   "source": [
    "Наблюдается зависимость между семейным положением и возвратом кредита в срок: \n",
    "Люди, состоящие в браке, имеют в среднем меньше задолженностей по возврату кредита в срок, нежели одинокие или состоящие в гражданском браке. А самый меньший процент задолженности по кредиту имеют вдовы/вдовцы."
   ]
  },
  {
   "cell_type": "markdown",
   "metadata": {},
   "source": [
    "### Есть ли зависимость между уровнем дохода и возвратом кредита в срок?"
   ]
  },
  {
   "cell_type": "markdown",
   "metadata": {},
   "source": [
    "Для ответа на этот вопрос целесообразно распределить доходы из одноименного столбца по категориям: низкий, средний, высокий.\n",
    "Возможный вариант выглядит следующим образом: \n",
    "1. Разделяем строки таблицы на 3, что составляет по 7 175 строк в каждой группе. Это будет равномерное распределение по группам.\n",
    "2. Сохраняем данные о каждой группе в отдельной переменной.\n",
    "3. В каждой переменной находим средние значения.\n",
    "4. Создаем словарь и выводим значения по группам.\n",
    "5. Делаем выводы."
   ]
  },
  {
   "cell_type": "code",
   "execution_count": 14,
   "metadata": {},
   "outputs": [
    {
     "data": {
      "text/html": [
       "<div>\n",
       "<style scoped>\n",
       "    .dataframe tbody tr th:only-of-type {\n",
       "        vertical-align: middle;\n",
       "    }\n",
       "\n",
       "    .dataframe tbody tr th {\n",
       "        vertical-align: top;\n",
       "    }\n",
       "\n",
       "    .dataframe thead th {\n",
       "        text-align: right;\n",
       "    }\n",
       "</style>\n",
       "<table border=\"1\" class=\"dataframe\">\n",
       "  <thead>\n",
       "    <tr style=\"text-align: right;\">\n",
       "      <th></th>\n",
       "      <th>children</th>\n",
       "      <th>days_employed</th>\n",
       "      <th>dob_years</th>\n",
       "      <th>education</th>\n",
       "      <th>education_id</th>\n",
       "      <th>family_status</th>\n",
       "      <th>family_status_id</th>\n",
       "      <th>gender</th>\n",
       "      <th>income_type</th>\n",
       "      <th>debt</th>\n",
       "      <th>total_income</th>\n",
       "      <th>purpose</th>\n",
       "      <th>purpose_def</th>\n",
       "      <th>children_group</th>\n",
       "    </tr>\n",
       "  </thead>\n",
       "  <tbody>\n",
       "    <tr>\n",
       "      <th>12390</th>\n",
       "      <td>0</td>\n",
       "      <td>-1477</td>\n",
       "      <td>44</td>\n",
       "      <td>высшее</td>\n",
       "      <td>0</td>\n",
       "      <td>женат / замужем</td>\n",
       "      <td>0</td>\n",
       "      <td>M</td>\n",
       "      <td>компаньон</td>\n",
       "      <td>0</td>\n",
       "      <td>2.265604e+06</td>\n",
       "      <td>ремонт жилью</td>\n",
       "      <td>недвижимость</td>\n",
       "      <td>0</td>\n",
       "    </tr>\n",
       "    <tr>\n",
       "      <th>19548</th>\n",
       "      <td>1</td>\n",
       "      <td>-2577</td>\n",
       "      <td>39</td>\n",
       "      <td>высшее</td>\n",
       "      <td>0</td>\n",
       "      <td>женат / замужем</td>\n",
       "      <td>0</td>\n",
       "      <td>M</td>\n",
       "      <td>компаньон</td>\n",
       "      <td>1</td>\n",
       "      <td>2.200852e+06</td>\n",
       "      <td>строительство недвижимости</td>\n",
       "      <td>недвижимость</td>\n",
       "      <td>1</td>\n",
       "    </tr>\n",
       "    <tr>\n",
       "      <th>9159</th>\n",
       "      <td>1</td>\n",
       "      <td>-5248</td>\n",
       "      <td>35</td>\n",
       "      <td>среднее</td>\n",
       "      <td>1</td>\n",
       "      <td>гражданский брак</td>\n",
       "      <td>1</td>\n",
       "      <td>M</td>\n",
       "      <td>сотрудник</td>\n",
       "      <td>0</td>\n",
       "      <td>1.726276e+06</td>\n",
       "      <td>дополнительное образование</td>\n",
       "      <td>образование</td>\n",
       "      <td>1</td>\n",
       "    </tr>\n",
       "    <tr>\n",
       "      <th>20742</th>\n",
       "      <td>0</td>\n",
       "      <td>-4719</td>\n",
       "      <td>61</td>\n",
       "      <td>среднее</td>\n",
       "      <td>1</td>\n",
       "      <td>Не женат / не замужем</td>\n",
       "      <td>4</td>\n",
       "      <td>F</td>\n",
       "      <td>сотрудник</td>\n",
       "      <td>0</td>\n",
       "      <td>1.715018e+06</td>\n",
       "      <td>покупка жилья для семьи</td>\n",
       "      <td>недвижимость</td>\n",
       "      <td>0</td>\n",
       "    </tr>\n",
       "    <tr>\n",
       "      <th>17137</th>\n",
       "      <td>0</td>\n",
       "      <td>-5734</td>\n",
       "      <td>42</td>\n",
       "      <td>высшее</td>\n",
       "      <td>0</td>\n",
       "      <td>гражданский брак</td>\n",
       "      <td>1</td>\n",
       "      <td>M</td>\n",
       "      <td>компаньон</td>\n",
       "      <td>0</td>\n",
       "      <td>1.711309e+06</td>\n",
       "      <td>сыграть свадьбу</td>\n",
       "      <td>свадба</td>\n",
       "      <td>0</td>\n",
       "    </tr>\n",
       "    <tr>\n",
       "      <th>17460</th>\n",
       "      <td>0</td>\n",
       "      <td>-2285</td>\n",
       "      <td>43</td>\n",
       "      <td>среднее</td>\n",
       "      <td>1</td>\n",
       "      <td>женат / замужем</td>\n",
       "      <td>0</td>\n",
       "      <td>M</td>\n",
       "      <td>компаньон</td>\n",
       "      <td>0</td>\n",
       "      <td>1.597613e+06</td>\n",
       "      <td>операции с недвижимостью</td>\n",
       "      <td>недвижимость</td>\n",
       "      <td>0</td>\n",
       "    </tr>\n",
       "    <tr>\n",
       "      <th>18321</th>\n",
       "      <td>1</td>\n",
       "      <td>-333</td>\n",
       "      <td>41</td>\n",
       "      <td>высшее</td>\n",
       "      <td>0</td>\n",
       "      <td>гражданский брак</td>\n",
       "      <td>1</td>\n",
       "      <td>M</td>\n",
       "      <td>компаньон</td>\n",
       "      <td>0</td>\n",
       "      <td>1.551153e+06</td>\n",
       "      <td>свадьба</td>\n",
       "      <td>свадба</td>\n",
       "      <td>1</td>\n",
       "    </tr>\n",
       "    <tr>\n",
       "      <th>18306</th>\n",
       "      <td>1</td>\n",
       "      <td>-3173</td>\n",
       "      <td>41</td>\n",
       "      <td>высшее</td>\n",
       "      <td>0</td>\n",
       "      <td>Не женат / не замужем</td>\n",
       "      <td>4</td>\n",
       "      <td>F</td>\n",
       "      <td>компаньон</td>\n",
       "      <td>0</td>\n",
       "      <td>1.427934e+06</td>\n",
       "      <td>автомобиль</td>\n",
       "      <td>автомобиль</td>\n",
       "      <td>1</td>\n",
       "    </tr>\n",
       "    <tr>\n",
       "      <th>15234</th>\n",
       "      <td>1</td>\n",
       "      <td>-10207</td>\n",
       "      <td>64</td>\n",
       "      <td>высшее</td>\n",
       "      <td>0</td>\n",
       "      <td>в разводе</td>\n",
       "      <td>3</td>\n",
       "      <td>M</td>\n",
       "      <td>компаньон</td>\n",
       "      <td>0</td>\n",
       "      <td>1.350246e+06</td>\n",
       "      <td>жилье</td>\n",
       "      <td>недвижимость</td>\n",
       "      <td>1</td>\n",
       "    </tr>\n",
       "    <tr>\n",
       "      <th>11052</th>\n",
       "      <td>1</td>\n",
       "      <td>-1851</td>\n",
       "      <td>36</td>\n",
       "      <td>высшее</td>\n",
       "      <td>0</td>\n",
       "      <td>гражданский брак</td>\n",
       "      <td>1</td>\n",
       "      <td>F</td>\n",
       "      <td>сотрудник</td>\n",
       "      <td>0</td>\n",
       "      <td>1.286281e+06</td>\n",
       "      <td>покупка коммерческой недвижимости</td>\n",
       "      <td>недвижимость</td>\n",
       "      <td>1</td>\n",
       "    </tr>\n",
       "  </tbody>\n",
       "</table>\n",
       "</div>"
      ],
      "text/plain": [
       "       children  days_employed  dob_years education  education_id  \\\n",
       "12390         0          -1477         44    высшее             0   \n",
       "19548         1          -2577         39    высшее             0   \n",
       "9159          1          -5248         35   среднее             1   \n",
       "20742         0          -4719         61   среднее             1   \n",
       "17137         0          -5734         42    высшее             0   \n",
       "17460         0          -2285         43   среднее             1   \n",
       "18321         1           -333         41    высшее             0   \n",
       "18306         1          -3173         41    высшее             0   \n",
       "15234         1         -10207         64    высшее             0   \n",
       "11052         1          -1851         36    высшее             0   \n",
       "\n",
       "               family_status  family_status_id gender income_type  debt  \\\n",
       "12390        женат / замужем                 0      M   компаньон     0   \n",
       "19548        женат / замужем                 0      M   компаньон     1   \n",
       "9159        гражданский брак                 1      M   сотрудник     0   \n",
       "20742  Не женат / не замужем                 4      F   сотрудник     0   \n",
       "17137       гражданский брак                 1      M   компаньон     0   \n",
       "17460        женат / замужем                 0      M   компаньон     0   \n",
       "18321       гражданский брак                 1      M   компаньон     0   \n",
       "18306  Не женат / не замужем                 4      F   компаньон     0   \n",
       "15234              в разводе                 3      M   компаньон     0   \n",
       "11052       гражданский брак                 1      F   сотрудник     0   \n",
       "\n",
       "       total_income                            purpose   purpose_def  \\\n",
       "12390  2.265604e+06                       ремонт жилью  недвижимость   \n",
       "19548  2.200852e+06         строительство недвижимости  недвижимость   \n",
       "9159   1.726276e+06         дополнительное образование   образование   \n",
       "20742  1.715018e+06            покупка жилья для семьи  недвижимость   \n",
       "17137  1.711309e+06                    сыграть свадьбу        свадба   \n",
       "17460  1.597613e+06           операции с недвижимостью  недвижимость   \n",
       "18321  1.551153e+06                            свадьба        свадба   \n",
       "18306  1.427934e+06                         автомобиль    автомобиль   \n",
       "15234  1.350246e+06                              жилье  недвижимость   \n",
       "11052  1.286281e+06  покупка коммерческой недвижимости  недвижимость   \n",
       "\n",
       "       children_group  \n",
       "12390               0  \n",
       "19548               1  \n",
       "9159                1  \n",
       "20742               0  \n",
       "17137               0  \n",
       "17460               0  \n",
       "18321               1  \n",
       "18306               1  \n",
       "15234               1  \n",
       "11052               1  "
      ]
     },
     "execution_count": 14,
     "metadata": {},
     "output_type": "execute_result"
    }
   ],
   "source": [
    "sorted_income = data.sort_values(by='total_income', ascending=False)\n",
    "sorted_income.head(10)"
   ]
  },
  {
   "cell_type": "code",
   "execution_count": 15,
   "metadata": {},
   "outputs": [
    {
     "data": {
      "text/plain": [
       "total_income    151010.952271\n",
       "debt                 0.081150\n",
       "dtype: float64"
      ]
     },
     "execution_count": 15,
     "metadata": {},
     "output_type": "execute_result"
    }
   ],
   "source": [
    "high_income = sorted_income[['total_income','debt'][:7174]] \n",
    "high_income.mean()"
   ]
  },
  {
   "cell_type": "code",
   "execution_count": 16,
   "metadata": {},
   "outputs": [
    {
     "data": {
      "text/plain": [
       "total_income    110103.019180\n",
       "debt                 0.084907\n",
       "dtype: float64"
      ]
     },
     "execution_count": 16,
     "metadata": {},
     "output_type": "execute_result"
    }
   ],
   "source": [
    "medium_income = sorted_income.loc[7175:14350, ['total_income','debt']]\n",
    "medium_income.mean()"
   ]
  },
  {
   "cell_type": "code",
   "execution_count": 17,
   "metadata": {},
   "outputs": [
    {
     "data": {
      "text/plain": [
       "total_income    64715.183359\n",
       "debt                0.081081\n",
       "dtype: float64"
      ]
     },
     "execution_count": 17,
     "metadata": {},
     "output_type": "execute_result"
    }
   ],
   "source": [
    "low_income = sorted_income.loc[14351:, ['total_income','debt']]\n",
    "low_income.mean()"
   ]
  },
  {
   "cell_type": "code",
   "execution_count": 18,
   "metadata": {},
   "outputs": [
    {
     "name": "stdout",
     "output_type": "stream",
     "text": [
      "Процент долгов по кредиту в зависимости от уровня доходов:\n",
      "{\n",
      "    \"высокий доход\": 8.115036822970076,\n",
      "    \"средний доход\": 8.490660273698932,\n",
      "    \"низкий доход\": 8.108108108108109\n",
      "}\n"
     ]
    }
   ],
   "source": [
    "from json import dumps\n",
    "\n",
    "income = {\n",
    "    'высокий доход': high_income['debt'].mean() * 100,\n",
    "    'средний доход': medium_income['debt'].mean() * 100,\n",
    "    'низкий доход': low_income['debt'].mean() * 100\n",
    "}\n",
    "print('Процент долгов по кредиту в зависимости от уровня доходов:') \n",
    "print(dumps(income, indent=4, ensure_ascii=False))\n"
   ]
  },
  {
   "cell_type": "markdown",
   "metadata": {},
   "source": [
    "**Вывод**"
   ]
  },
  {
   "cell_type": "markdown",
   "metadata": {},
   "source": [
    "Зависимости между уровнем дозода и возвратом кредита в срок не наблюдается. Значения по всем группам примерно равны, незначительные отклонения не влияют на общий фон."
   ]
  },
  {
   "cell_type": "markdown",
   "metadata": {},
   "source": [
    "### Как разные цели кредита влияют на его возврат в срок?"
   ]
  },
  {
   "cell_type": "code",
   "execution_count": 19,
   "metadata": {},
   "outputs": [
    {
     "data": {
      "text/html": [
       "<div>\n",
       "<style scoped>\n",
       "    .dataframe tbody tr th:only-of-type {\n",
       "        vertical-align: middle;\n",
       "    }\n",
       "\n",
       "    .dataframe tbody tr th {\n",
       "        vertical-align: top;\n",
       "    }\n",
       "\n",
       "    .dataframe thead th {\n",
       "        text-align: right;\n",
       "    }\n",
       "</style>\n",
       "<table border=\"1\" class=\"dataframe\">\n",
       "  <thead>\n",
       "    <tr style=\"text-align: right;\">\n",
       "      <th>debt</th>\n",
       "      <th>0</th>\n",
       "      <th>1</th>\n",
       "      <th>percent</th>\n",
       "    </tr>\n",
       "    <tr>\n",
       "      <th>purpose_def</th>\n",
       "      <th></th>\n",
       "      <th></th>\n",
       "      <th></th>\n",
       "    </tr>\n",
       "  </thead>\n",
       "  <tbody>\n",
       "    <tr>\n",
       "      <th>автомобиль</th>\n",
       "      <td>3903</td>\n",
       "      <td>403</td>\n",
       "      <td>9.359034</td>\n",
       "    </tr>\n",
       "    <tr>\n",
       "      <th>недвижимость</th>\n",
       "      <td>10029</td>\n",
       "      <td>782</td>\n",
       "      <td>7.233373</td>\n",
       "    </tr>\n",
       "    <tr>\n",
       "      <th>образование</th>\n",
       "      <td>3643</td>\n",
       "      <td>370</td>\n",
       "      <td>9.220035</td>\n",
       "    </tr>\n",
       "    <tr>\n",
       "      <th>свадба</th>\n",
       "      <td>2138</td>\n",
       "      <td>186</td>\n",
       "      <td>8.003442</td>\n",
       "    </tr>\n",
       "  </tbody>\n",
       "</table>\n",
       "</div>"
      ],
      "text/plain": [
       "debt              0    1   percent\n",
       "purpose_def                       \n",
       "автомобиль     3903  403  9.359034\n",
       "недвижимость  10029  782  7.233373\n",
       "образование    3643  370  9.220035\n",
       "свадба         2138  186  8.003442"
      ]
     },
     "execution_count": 19,
     "metadata": {},
     "output_type": "execute_result"
    }
   ],
   "source": [
    "#Воспользуемся все тем же инструментом - сводными таблицами\n",
    "pivot_table_purpose = data.pivot_table(index='purpose_def', columns= 'debt', values='purpose', aggfunc='count')\n",
    "pivot_table_purpose['percent'] = pivot_table_purpose[1]/(pivot_table_purpose[1] \\\n",
    "                                                                       + pivot_table_purpose[0]) * 100\n",
    "pivot_table_purpose"
   ]
  },
  {
   "cell_type": "markdown",
   "metadata": {},
   "source": [
    "**Вывод**"
   ]
  },
  {
   "cell_type": "markdown",
   "metadata": {},
   "source": [
    "Из полученных данных можно сделать следующий вывод: \n",
    "Те, кто берет кредит на недвижимость, более склонны вернуть его банку, а вот автомобиль и образование имеют значительный процент задолженности. \n",
    "А вот свадьба где-то посередине. Может быть потому, что кому-то все таки удается ее окупить подарками?"
   ]
  },
  {
   "cell_type": "markdown",
   "metadata": {},
   "source": [
    "## Шаг 4. Общий вывод"
   ]
  },
  {
   "cell_type": "markdown",
   "metadata": {},
   "source": [
    "1. Наблюдается зависимость между наличием\\отсутствием детей и возвратом кредита в срок. Однако, исходя из полученных данных, можно сказать, что те, у кого есть дети, имеют все же больший процент долгов по кредиту, нежели те, у кого детей нет (9 против 7%). Скорее всего, это связано с тем, что те люди, у которых дети, в случае ухудшения финансового положения, в дилемме \"заплатить по кредиту или накормить ребенка\", выберут второе. Наличие детей является фактором дополнительных расходов, при котором эти самые расходы уменьшить очень тяжело даже при самом большом желании.\n",
    "\n",
    "\n",
    "2. Наблюдается зависимость между семейным положением и возвратом кредита в срок. Тот факт, что люди, находящиеся в разводе, вдовцы/вдовы, а также семейные имеют меньший процент задолженности по кредитам, возможно объясняется тем фактом, что они либо имеют опыт сбалансированного семейного бюджета, либо имели его в прошлом. Люди без семьи, или живущие в гражданском браке, более склонны к спонтанным тратам, а также в целом к меньшему контролю за своим бюджетом.\n",
    "\n",
    "\n",
    "3. Интересный вывод о том, что нет прицнипиальной зависимости между финансовым положением человека и возвратом кредита в срок можно объяснить тем фактом, что в каждой такой категории есть люди, у которых на возврат кредита влияют другие факторы: наличие/отсутствие детей, а также их семейное положение. Возможно они представленны в данных группах более менее равномерно.\n",
    "\n",
    "\n",
    "4. Разные цели кредита все же влияют на возврат кредита в срок: те, кто берет кредит на недвижимость, все таки более склонны возвращать кредит в срок.\n",
    "\n",
    "**Итог***\n",
    "\n",
    "Резюмируя полученные данные и промежуточные выводы, можно сказать о том, что более склонными к возврату кредита в срок можно считать бездетных имеющих опыт семейной жизни, а также берущих кредит на недвижимость. "
   ]
  }
 ],
 "metadata": {
  "ExecuteTimeLog": [
   {
    "duration": 118,
    "start_time": "2022-01-07T15:45:57.113Z"
   },
   {
    "duration": 882,
    "start_time": "2022-01-07T15:46:07.422Z"
   },
   {
    "duration": 18,
    "start_time": "2022-01-07T16:04:26.262Z"
   },
   {
    "duration": 790,
    "start_time": "2022-01-07T16:07:48.755Z"
   },
   {
    "duration": 823,
    "start_time": "2022-01-08T15:08:32.486Z"
   },
   {
    "duration": 18,
    "start_time": "2022-01-08T15:10:42.981Z"
   },
   {
    "duration": 341,
    "start_time": "2022-01-08T15:13:18.744Z"
   },
   {
    "duration": 271,
    "start_time": "2022-01-08T15:13:47.485Z"
   },
   {
    "duration": 19,
    "start_time": "2022-01-08T15:16:26.964Z"
   },
   {
    "duration": 16,
    "start_time": "2022-01-08T15:16:51.979Z"
   },
   {
    "duration": 361,
    "start_time": "2022-01-08T15:17:32.686Z"
   },
   {
    "duration": 18,
    "start_time": "2022-01-08T15:17:43.111Z"
   },
   {
    "duration": 17,
    "start_time": "2022-01-08T15:18:24.859Z"
   },
   {
    "duration": 18,
    "start_time": "2022-01-08T15:22:20.470Z"
   },
   {
    "duration": 242,
    "start_time": "2022-01-08T15:29:14.286Z"
   },
   {
    "duration": 252,
    "start_time": "2022-01-08T15:32:26.936Z"
   },
   {
    "duration": 20,
    "start_time": "2022-01-08T15:36:02.238Z"
   },
   {
    "duration": 665,
    "start_time": "2022-01-09T13:17:07.426Z"
   },
   {
    "duration": 12,
    "start_time": "2022-01-09T13:17:11.585Z"
   },
   {
    "duration": 14,
    "start_time": "2022-01-09T13:17:14.227Z"
   },
   {
    "duration": 14,
    "start_time": "2022-01-09T13:17:16.603Z"
   },
   {
    "duration": 22,
    "start_time": "2022-01-09T13:21:57.276Z"
   },
   {
    "duration": 16,
    "start_time": "2022-01-09T13:22:13.472Z"
   },
   {
    "duration": 18,
    "start_time": "2022-01-09T13:23:41.535Z"
   },
   {
    "duration": 285,
    "start_time": "2022-01-09T13:38:28.567Z"
   },
   {
    "duration": 211,
    "start_time": "2022-01-09T13:38:40.119Z"
   },
   {
    "duration": 239,
    "start_time": "2022-01-09T13:40:51.310Z"
   },
   {
    "duration": 193,
    "start_time": "2022-01-09T13:41:07.066Z"
   },
   {
    "duration": 12,
    "start_time": "2022-01-09T13:47:07.116Z"
   },
   {
    "duration": 341,
    "start_time": "2022-01-09T13:50:34.898Z"
   },
   {
    "duration": 201,
    "start_time": "2022-01-09T13:58:01.904Z"
   },
   {
    "duration": 644,
    "start_time": "2022-01-09T13:59:04.069Z"
   },
   {
    "duration": 671,
    "start_time": "2022-01-09T14:00:31.790Z"
   },
   {
    "duration": 224,
    "start_time": "2022-01-09T14:00:43.756Z"
   },
   {
    "duration": 299,
    "start_time": "2022-01-09T14:49:32.896Z"
   },
   {
    "duration": 213,
    "start_time": "2022-01-09T14:50:21.986Z"
   },
   {
    "duration": 325,
    "start_time": "2022-01-09T14:50:31.914Z"
   },
   {
    "duration": 2394,
    "start_time": "2022-01-09T14:51:48.080Z"
   },
   {
    "duration": 10,
    "start_time": "2022-01-09T14:56:57.073Z"
   },
   {
    "duration": 5,
    "start_time": "2022-01-09T15:48:29.905Z"
   },
   {
    "duration": 5,
    "start_time": "2022-01-09T15:49:14.622Z"
   },
   {
    "duration": 5,
    "start_time": "2022-01-09T15:50:21.344Z"
   },
   {
    "duration": 4,
    "start_time": "2022-01-09T15:52:50.900Z"
   },
   {
    "duration": 4,
    "start_time": "2022-01-09T15:53:20.434Z"
   },
   {
    "duration": 4,
    "start_time": "2022-01-09T15:54:47.379Z"
   },
   {
    "duration": 4,
    "start_time": "2022-01-09T16:02:00.694Z"
   },
   {
    "duration": 4,
    "start_time": "2022-01-09T16:38:35.621Z"
   },
   {
    "duration": 5,
    "start_time": "2022-01-09T16:38:57.303Z"
   },
   {
    "duration": 4,
    "start_time": "2022-01-09T16:40:26.004Z"
   },
   {
    "duration": 4,
    "start_time": "2022-01-09T16:40:28.590Z"
   },
   {
    "duration": 1200,
    "start_time": "2022-01-09T16:52:57.907Z"
   },
   {
    "duration": 555,
    "start_time": "2022-01-09T16:53:23.400Z"
   },
   {
    "duration": 3,
    "start_time": "2022-01-09T16:58:23.695Z"
   },
   {
    "duration": 3,
    "start_time": "2022-01-09T16:58:27.847Z"
   },
   {
    "duration": 17,
    "start_time": "2022-01-09T16:59:55.085Z"
   },
   {
    "duration": 252,
    "start_time": "2022-01-09T17:01:57.203Z"
   },
   {
    "duration": 624,
    "start_time": "2022-01-09T17:02:24.155Z"
   },
   {
    "duration": 683,
    "start_time": "2022-01-09T17:02:48.145Z"
   },
   {
    "duration": 10,
    "start_time": "2022-01-09T17:03:43.896Z"
   },
   {
    "duration": 17,
    "start_time": "2022-01-09T17:10:52.798Z"
   },
   {
    "duration": 17,
    "start_time": "2022-01-09T17:11:04.046Z"
   },
   {
    "duration": 18,
    "start_time": "2022-01-09T17:13:30.992Z"
   },
   {
    "duration": 19,
    "start_time": "2022-01-09T17:14:53.679Z"
   },
   {
    "duration": 16,
    "start_time": "2022-01-09T17:15:39.752Z"
   },
   {
    "duration": 18,
    "start_time": "2022-01-09T17:16:07.294Z"
   },
   {
    "duration": 17,
    "start_time": "2022-01-09T17:16:18.689Z"
   },
   {
    "duration": 692,
    "start_time": "2022-01-10T03:45:10.299Z"
   },
   {
    "duration": 11,
    "start_time": "2022-01-10T03:45:14.064Z"
   },
   {
    "duration": 14,
    "start_time": "2022-01-10T03:45:20.426Z"
   },
   {
    "duration": 14,
    "start_time": "2022-01-10T03:45:24.583Z"
   },
   {
    "duration": 12,
    "start_time": "2022-01-10T03:45:29.660Z"
   },
   {
    "duration": 13,
    "start_time": "2022-01-10T03:45:37.059Z"
   },
   {
    "duration": 23,
    "start_time": "2022-01-10T03:45:38.587Z"
   },
   {
    "duration": 19,
    "start_time": "2022-01-10T03:45:48.709Z"
   },
   {
    "duration": 8,
    "start_time": "2022-01-10T03:45:50.483Z"
   },
   {
    "duration": 2534,
    "start_time": "2022-01-10T03:45:57.187Z"
   },
   {
    "duration": 5,
    "start_time": "2022-01-10T03:46:05.659Z"
   },
   {
    "duration": 20,
    "start_time": "2022-01-10T03:46:10.553Z"
   },
   {
    "duration": 621,
    "start_time": "2022-01-10T15:45:39.231Z"
   },
   {
    "duration": 10,
    "start_time": "2022-01-10T15:45:41.565Z"
   },
   {
    "duration": 12,
    "start_time": "2022-01-10T15:45:45.582Z"
   },
   {
    "duration": 12,
    "start_time": "2022-01-10T15:45:47.938Z"
   },
   {
    "duration": 11,
    "start_time": "2022-01-10T15:45:50.574Z"
   },
   {
    "duration": 19,
    "start_time": "2022-01-10T15:45:53.042Z"
   },
   {
    "duration": 19,
    "start_time": "2022-01-10T15:45:54.288Z"
   },
   {
    "duration": 7,
    "start_time": "2022-01-10T15:45:55.887Z"
   },
   {
    "duration": 2307,
    "start_time": "2022-01-10T15:45:58.435Z"
   },
   {
    "duration": 5,
    "start_time": "2022-01-10T15:46:03.226Z"
   },
   {
    "duration": 16,
    "start_time": "2022-01-10T15:46:05.863Z"
   },
   {
    "duration": 14,
    "start_time": "2022-01-10T15:47:25.483Z"
   },
   {
    "duration": 6,
    "start_time": "2022-01-10T15:49:22.563Z"
   },
   {
    "duration": 4,
    "start_time": "2022-01-10T15:49:34.298Z"
   },
   {
    "duration": 12,
    "start_time": "2022-01-10T15:51:18.869Z"
   },
   {
    "duration": 390,
    "start_time": "2022-01-10T15:51:29.164Z"
   },
   {
    "duration": 9,
    "start_time": "2022-01-10T15:51:38.992Z"
   },
   {
    "duration": 4,
    "start_time": "2022-01-10T16:07:42.442Z"
   },
   {
    "duration": 4,
    "start_time": "2022-01-10T16:09:49.691Z"
   },
   {
    "duration": 98,
    "start_time": "2022-01-10T16:17:36.371Z"
   },
   {
    "duration": 4,
    "start_time": "2022-01-10T16:18:13.706Z"
   },
   {
    "duration": 14,
    "start_time": "2022-01-10T16:41:12.135Z"
   },
   {
    "duration": 14,
    "start_time": "2022-01-10T16:41:25.341Z"
   },
   {
    "duration": 11,
    "start_time": "2022-01-10T16:41:34.300Z"
   },
   {
    "duration": 14,
    "start_time": "2022-01-10T16:41:38.896Z"
   },
   {
    "duration": 12,
    "start_time": "2022-01-10T16:42:14.902Z"
   },
   {
    "duration": 11,
    "start_time": "2022-01-10T16:42:34.030Z"
   },
   {
    "duration": 12,
    "start_time": "2022-01-10T16:43:01.367Z"
   },
   {
    "duration": 11,
    "start_time": "2022-01-10T16:43:24.050Z"
   },
   {
    "duration": 11,
    "start_time": "2022-01-10T16:43:30.874Z"
   },
   {
    "duration": 13,
    "start_time": "2022-01-10T16:44:29.039Z"
   },
   {
    "duration": 13,
    "start_time": "2022-01-10T16:44:32.989Z"
   },
   {
    "duration": 15,
    "start_time": "2022-01-10T16:44:36.043Z"
   },
   {
    "duration": 18,
    "start_time": "2022-01-10T16:44:38.339Z"
   },
   {
    "duration": 16,
    "start_time": "2022-01-10T16:45:07.096Z"
   },
   {
    "duration": 18,
    "start_time": "2022-01-10T16:45:08.883Z"
   },
   {
    "duration": 14,
    "start_time": "2022-01-10T16:47:52.261Z"
   },
   {
    "duration": 12,
    "start_time": "2022-01-10T16:48:17.075Z"
   },
   {
    "duration": 7,
    "start_time": "2022-01-10T16:48:25.288Z"
   },
   {
    "duration": 2531,
    "start_time": "2022-01-10T16:48:30.566Z"
   },
   {
    "duration": 805,
    "start_time": "2022-01-11T05:29:07.546Z"
   },
   {
    "duration": 69,
    "start_time": "2022-01-11T05:34:17.639Z"
   },
   {
    "duration": 70,
    "start_time": "2022-01-11T05:34:27.864Z"
   },
   {
    "duration": 11,
    "start_time": "2022-01-11T05:36:45.528Z"
   },
   {
    "duration": 13,
    "start_time": "2022-01-11T05:36:55.084Z"
   },
   {
    "duration": 410,
    "start_time": "2022-01-11T05:37:06.844Z"
   },
   {
    "duration": 73,
    "start_time": "2022-01-11T05:37:20.956Z"
   },
   {
    "duration": 14,
    "start_time": "2022-01-11T05:37:34.205Z"
   },
   {
    "duration": 12,
    "start_time": "2022-01-11T05:37:46.105Z"
   },
   {
    "duration": 15,
    "start_time": "2022-01-11T05:53:49.355Z"
   },
   {
    "duration": 24,
    "start_time": "2022-01-11T05:53:57.063Z"
   },
   {
    "duration": 29,
    "start_time": "2022-01-11T05:54:05.875Z"
   },
   {
    "duration": 69,
    "start_time": "2022-01-11T05:54:18.110Z"
   },
   {
    "duration": 75,
    "start_time": "2022-01-11T05:54:24.567Z"
   },
   {
    "duration": 19,
    "start_time": "2022-01-11T05:59:04.907Z"
   },
   {
    "duration": 30,
    "start_time": "2022-01-11T05:59:09.679Z"
   },
   {
    "duration": 17,
    "start_time": "2022-01-11T05:59:57.350Z"
   },
   {
    "duration": 24,
    "start_time": "2022-01-11T06:01:57.971Z"
   },
   {
    "duration": 23,
    "start_time": "2022-01-11T06:02:23.099Z"
   },
   {
    "duration": 22,
    "start_time": "2022-01-11T06:02:36.263Z"
   },
   {
    "duration": 25,
    "start_time": "2022-01-11T06:09:26.147Z"
   },
   {
    "duration": 10,
    "start_time": "2022-01-11T06:10:26.343Z"
   },
   {
    "duration": 3355,
    "start_time": "2022-01-11T06:10:38.262Z"
   },
   {
    "duration": 7,
    "start_time": "2022-01-11T06:11:31.119Z"
   },
   {
    "duration": 26,
    "start_time": "2022-01-11T06:15:46.571Z"
   },
   {
    "duration": 26,
    "start_time": "2022-01-11T06:15:56.563Z"
   },
   {
    "duration": 32,
    "start_time": "2022-01-11T06:18:04.451Z"
   },
   {
    "duration": 16,
    "start_time": "2022-01-11T08:16:25.298Z"
   },
   {
    "duration": 8,
    "start_time": "2022-01-11T09:25:56.224Z"
   },
   {
    "duration": 8,
    "start_time": "2022-01-11T09:53:08.534Z"
   },
   {
    "duration": 8,
    "start_time": "2022-01-11T09:55:01.218Z"
   },
   {
    "duration": 6,
    "start_time": "2022-01-11T10:03:00.902Z"
   },
   {
    "duration": 6,
    "start_time": "2022-01-11T10:03:25.135Z"
   },
   {
    "duration": 92,
    "start_time": "2022-01-11T10:06:16.134Z"
   },
   {
    "duration": 15,
    "start_time": "2022-01-11T10:06:34.245Z"
   },
   {
    "duration": 15,
    "start_time": "2022-01-11T10:06:39.130Z"
   },
   {
    "duration": 32,
    "start_time": "2022-01-11T10:06:54.742Z"
   },
   {
    "duration": 29,
    "start_time": "2022-01-11T10:07:25.910Z"
   },
   {
    "duration": 49,
    "start_time": "2022-01-11T10:07:37.006Z"
   },
   {
    "duration": 42,
    "start_time": "2022-01-11T10:07:53.266Z"
   },
   {
    "duration": 47,
    "start_time": "2022-01-11T10:09:16.949Z"
   },
   {
    "duration": 44,
    "start_time": "2022-01-11T10:09:29.646Z"
   },
   {
    "duration": 41,
    "start_time": "2022-01-11T10:09:45.658Z"
   },
   {
    "duration": 5,
    "start_time": "2022-01-11T10:09:59.926Z"
   },
   {
    "duration": 8,
    "start_time": "2022-01-11T10:10:07.721Z"
   },
   {
    "duration": 5,
    "start_time": "2022-01-11T10:52:05.631Z"
   },
   {
    "duration": 373,
    "start_time": "2022-01-11T14:53:19.439Z"
   },
   {
    "duration": 889,
    "start_time": "2022-01-11T14:53:32.862Z"
   },
   {
    "duration": 16,
    "start_time": "2022-01-11T14:53:36.466Z"
   },
   {
    "duration": 13,
    "start_time": "2022-01-11T14:53:39.717Z"
   },
   {
    "duration": 24,
    "start_time": "2022-01-11T14:53:41.720Z"
   },
   {
    "duration": 31,
    "start_time": "2022-01-11T14:53:43.824Z"
   },
   {
    "duration": 17,
    "start_time": "2022-01-11T14:53:46.399Z"
   },
   {
    "duration": 26,
    "start_time": "2022-01-11T14:53:48.623Z"
   },
   {
    "duration": 27,
    "start_time": "2022-01-11T14:53:49.682Z"
   },
   {
    "duration": 8,
    "start_time": "2022-01-11T14:53:51.410Z"
   },
   {
    "duration": 3600,
    "start_time": "2022-01-11T14:53:53.620Z"
   },
   {
    "duration": 6,
    "start_time": "2022-01-11T14:53:59.404Z"
   },
   {
    "duration": 29,
    "start_time": "2022-01-11T14:54:01.804Z"
   },
   {
    "duration": 18,
    "start_time": "2022-01-11T14:54:03.845Z"
   },
   {
    "duration": 14,
    "start_time": "2022-01-11T14:54:06.209Z"
   },
   {
    "duration": 37,
    "start_time": "2022-01-11T14:54:30.307Z"
   },
   {
    "duration": 17,
    "start_time": "2022-01-11T14:55:56.922Z"
   },
   {
    "duration": 17,
    "start_time": "2022-01-11T14:57:49.047Z"
   },
   {
    "duration": 7869,
    "start_time": "2022-01-11T14:58:54.150Z"
   },
   {
    "duration": 10,
    "start_time": "2022-01-11T14:59:17.622Z"
   },
   {
    "duration": 14,
    "start_time": "2022-01-11T14:59:32.587Z"
   },
   {
    "duration": 6,
    "start_time": "2022-01-11T15:23:10.173Z"
   },
   {
    "duration": 6,
    "start_time": "2022-01-11T15:26:05.809Z"
   },
   {
    "duration": 15,
    "start_time": "2022-01-11T15:27:17.150Z"
   },
   {
    "duration": 622,
    "start_time": "2022-01-12T02:43:24.440Z"
   },
   {
    "duration": 12,
    "start_time": "2022-01-12T02:43:30.108Z"
   },
   {
    "duration": 9,
    "start_time": "2022-01-12T02:43:34.964Z"
   },
   {
    "duration": 13,
    "start_time": "2022-01-12T02:43:38.815Z"
   },
   {
    "duration": 20,
    "start_time": "2022-01-12T02:43:42.440Z"
   },
   {
    "duration": 13,
    "start_time": "2022-01-12T02:43:47.887Z"
   },
   {
    "duration": 17,
    "start_time": "2022-01-12T02:43:52.588Z"
   },
   {
    "duration": 18,
    "start_time": "2022-01-12T02:43:53.688Z"
   },
   {
    "duration": 6,
    "start_time": "2022-01-12T02:43:55.756Z"
   },
   {
    "duration": 2531,
    "start_time": "2022-01-12T02:44:01.141Z"
   },
   {
    "duration": 20,
    "start_time": "2022-01-12T02:44:10.880Z"
   },
   {
    "duration": 13,
    "start_time": "2022-01-12T02:44:15.806Z"
   },
   {
    "duration": 10,
    "start_time": "2022-01-12T02:44:21.140Z"
   },
   {
    "duration": 20,
    "start_time": "2022-01-12T02:47:45.052Z"
   },
   {
    "duration": 17,
    "start_time": "2022-01-12T02:48:07.842Z"
   },
   {
    "duration": 239,
    "start_time": "2022-01-12T02:49:42.069Z"
   },
   {
    "duration": 18,
    "start_time": "2022-01-12T02:50:09.126Z"
   },
   {
    "duration": 20,
    "start_time": "2022-01-12T02:50:22.171Z"
   },
   {
    "duration": 20,
    "start_time": "2022-01-12T02:56:15.319Z"
   },
   {
    "duration": 25,
    "start_time": "2022-01-12T03:13:59.826Z"
   },
   {
    "duration": 3,
    "start_time": "2022-01-12T05:00:09.249Z"
   },
   {
    "duration": 134,
    "start_time": "2022-01-12T05:03:24.595Z"
   },
   {
    "duration": 24,
    "start_time": "2022-01-12T05:03:50.891Z"
   },
   {
    "duration": 19,
    "start_time": "2022-01-12T05:04:03.399Z"
   },
   {
    "duration": 45,
    "start_time": "2022-01-12T05:28:18.345Z"
   },
   {
    "duration": 218,
    "start_time": "2022-01-12T05:28:35.818Z"
   },
   {
    "duration": 252,
    "start_time": "2022-01-12T05:34:01.286Z"
   },
   {
    "duration": 138,
    "start_time": "2022-01-12T05:40:50.951Z"
   },
   {
    "duration": 229,
    "start_time": "2022-01-12T05:42:04.261Z"
   },
   {
    "duration": 217,
    "start_time": "2022-01-12T05:49:38.251Z"
   },
   {
    "duration": 258,
    "start_time": "2022-01-12T05:50:32.336Z"
   },
   {
    "duration": 2809,
    "start_time": "2022-01-12T05:50:46.857Z"
   },
   {
    "duration": 2542,
    "start_time": "2022-01-12T05:54:41.264Z"
   },
   {
    "duration": 3308,
    "start_time": "2022-01-12T05:55:29.423Z"
   },
   {
    "duration": 2571,
    "start_time": "2022-01-12T06:00:54.851Z"
   },
   {
    "duration": 2612,
    "start_time": "2022-01-12T06:02:24.452Z"
   },
   {
    "duration": 211,
    "start_time": "2022-01-12T06:03:10.755Z"
   },
   {
    "duration": 232,
    "start_time": "2022-01-12T06:03:32.691Z"
   },
   {
    "duration": 2719,
    "start_time": "2022-01-12T06:04:18.964Z"
   },
   {
    "duration": 226,
    "start_time": "2022-01-12T06:09:03.279Z"
   },
   {
    "duration": 261,
    "start_time": "2022-01-12T06:09:35.150Z"
   },
   {
    "duration": 217,
    "start_time": "2022-01-12T06:10:21.448Z"
   },
   {
    "duration": 48,
    "start_time": "2022-01-12T06:11:47.727Z"
   },
   {
    "duration": 247,
    "start_time": "2022-01-12T06:20:12.099Z"
   },
   {
    "duration": 4,
    "start_time": "2022-01-12T06:21:27.067Z"
   },
   {
    "duration": 15,
    "start_time": "2022-01-12T06:21:42.296Z"
   },
   {
    "duration": 5,
    "start_time": "2022-01-12T09:10:22.607Z"
   },
   {
    "duration": 10,
    "start_time": "2022-01-12T09:10:40.703Z"
   },
   {
    "duration": 263,
    "start_time": "2022-01-12T09:36:01.407Z"
   },
   {
    "duration": 354,
    "start_time": "2022-01-12T09:36:07.394Z"
   },
   {
    "duration": 213,
    "start_time": "2022-01-12T09:36:15.827Z"
   },
   {
    "duration": 228,
    "start_time": "2022-01-12T09:36:25.206Z"
   },
   {
    "duration": 688,
    "start_time": "2022-01-12T09:36:30.727Z"
   },
   {
    "duration": 13,
    "start_time": "2022-01-12T09:36:35.734Z"
   },
   {
    "duration": 11,
    "start_time": "2022-01-12T09:36:39.702Z"
   },
   {
    "duration": 13,
    "start_time": "2022-01-12T09:36:44.319Z"
   },
   {
    "duration": 21,
    "start_time": "2022-01-12T09:36:48.222Z"
   },
   {
    "duration": 13,
    "start_time": "2022-01-12T09:36:51.055Z"
   },
   {
    "duration": 18,
    "start_time": "2022-01-12T09:36:54.314Z"
   },
   {
    "duration": 18,
    "start_time": "2022-01-12T09:36:56.474Z"
   },
   {
    "duration": 6,
    "start_time": "2022-01-12T09:37:01.385Z"
   },
   {
    "duration": 2361,
    "start_time": "2022-01-12T09:37:05.218Z"
   },
   {
    "duration": 5,
    "start_time": "2022-01-12T09:37:11.207Z"
   },
   {
    "duration": 36,
    "start_time": "2022-01-12T09:37:14.734Z"
   },
   {
    "duration": 21,
    "start_time": "2022-01-12T09:37:18.062Z"
   },
   {
    "duration": 9,
    "start_time": "2022-01-12T09:37:21.190Z"
   },
   {
    "duration": 372,
    "start_time": "2022-01-12T09:37:24.622Z"
   },
   {
    "duration": 5,
    "start_time": "2022-01-12T09:43:27.194Z"
   },
   {
    "duration": 4,
    "start_time": "2022-01-12T09:44:13.162Z"
   },
   {
    "duration": 5,
    "start_time": "2022-01-12T09:45:32.358Z"
   },
   {
    "duration": 4,
    "start_time": "2022-01-12T10:00:23.602Z"
   },
   {
    "duration": 6297,
    "start_time": "2022-01-12T10:02:36.486Z"
   },
   {
    "duration": 95,
    "start_time": "2022-01-12T10:04:00.287Z"
   },
   {
    "duration": 26,
    "start_time": "2022-01-12T10:04:04.590Z"
   },
   {
    "duration": 22,
    "start_time": "2022-01-12T10:04:30.363Z"
   },
   {
    "duration": 21,
    "start_time": "2022-01-12T10:28:07.252Z"
   },
   {
    "duration": 878,
    "start_time": "2022-01-14T03:20:12.828Z"
   },
   {
    "duration": 16,
    "start_time": "2022-01-14T03:20:16.124Z"
   },
   {
    "duration": 12,
    "start_time": "2022-01-14T03:20:18.477Z"
   },
   {
    "duration": 21,
    "start_time": "2022-01-14T03:20:20.284Z"
   },
   {
    "duration": 31,
    "start_time": "2022-01-14T03:20:22.313Z"
   },
   {
    "duration": 19,
    "start_time": "2022-01-14T03:20:24.869Z"
   },
   {
    "duration": 26,
    "start_time": "2022-01-14T03:20:26.774Z"
   },
   {
    "duration": 27,
    "start_time": "2022-01-14T03:20:27.861Z"
   },
   {
    "duration": 8,
    "start_time": "2022-01-14T03:20:29.993Z"
   },
   {
    "duration": 3442,
    "start_time": "2022-01-14T03:20:31.857Z"
   },
   {
    "duration": 8,
    "start_time": "2022-01-14T03:20:39.021Z"
   },
   {
    "duration": 6,
    "start_time": "2022-01-14T03:20:40.169Z"
   },
   {
    "duration": 51,
    "start_time": "2022-01-14T03:20:43.844Z"
   },
   {
    "duration": 39,
    "start_time": "2022-01-14T03:20:50.560Z"
   },
   {
    "duration": 31,
    "start_time": "2022-01-14T03:20:52.237Z"
   },
   {
    "duration": 13,
    "start_time": "2022-01-14T03:20:54.685Z"
   },
   {
    "duration": 630,
    "start_time": "2022-01-14T03:20:56.220Z"
   },
   {
    "duration": 25,
    "start_time": "2022-01-14T03:20:57.373Z"
   },
   {
    "duration": 32,
    "start_time": "2022-01-14T05:04:31.776Z"
   },
   {
    "duration": 7,
    "start_time": "2022-01-14T05:05:15.844Z"
   },
   {
    "duration": 327,
    "start_time": "2022-01-14T05:16:50.497Z"
   },
   {
    "duration": 334,
    "start_time": "2022-01-14T05:19:04.816Z"
   },
   {
    "duration": 6,
    "start_time": "2022-01-14T05:19:31.864Z"
   },
   {
    "duration": 11,
    "start_time": "2022-01-14T05:19:45.904Z"
   },
   {
    "duration": 8,
    "start_time": "2022-01-14T05:20:12.233Z"
   },
   {
    "duration": 7975,
    "start_time": "2022-01-14T05:21:51.724Z"
   },
   {
    "duration": 9,
    "start_time": "2022-01-14T05:22:34.792Z"
   },
   {
    "duration": 100,
    "start_time": "2022-01-14T05:24:11.908Z"
   },
   {
    "duration": 9,
    "start_time": "2022-01-14T05:24:30.266Z"
   },
   {
    "duration": 9,
    "start_time": "2022-01-14T05:26:57.816Z"
   },
   {
    "duration": 8,
    "start_time": "2022-01-14T05:27:36.493Z"
   },
   {
    "duration": 13,
    "start_time": "2022-01-14T05:29:06.316Z"
   },
   {
    "duration": 9,
    "start_time": "2022-01-14T05:29:37.452Z"
   },
   {
    "duration": 2650,
    "start_time": "2022-01-14T05:30:27.130Z"
   },
   {
    "duration": 12,
    "start_time": "2022-01-14T06:09:25.730Z"
   },
   {
    "duration": 14,
    "start_time": "2022-01-14T06:09:50.046Z"
   },
   {
    "duration": 8,
    "start_time": "2022-01-14T06:10:18.999Z"
   },
   {
    "duration": 41,
    "start_time": "2022-01-14T08:22:51.977Z"
   },
   {
    "duration": 25,
    "start_time": "2022-01-14T08:23:08.245Z"
   },
   {
    "duration": 37,
    "start_time": "2022-01-14T08:23:38.270Z"
   },
   {
    "duration": 33,
    "start_time": "2022-01-14T08:23:47.810Z"
   },
   {
    "duration": 3,
    "start_time": "2022-01-14T08:30:41.278Z"
   },
   {
    "duration": 313,
    "start_time": "2022-01-14T08:30:51.361Z"
   },
   {
    "duration": 22,
    "start_time": "2022-01-14T08:31:05.506Z"
   },
   {
    "duration": 13,
    "start_time": "2022-01-14T08:31:45.715Z"
   },
   {
    "duration": 12,
    "start_time": "2022-01-14T08:34:49.533Z"
   },
   {
    "duration": 10,
    "start_time": "2022-01-14T08:38:27.513Z"
   },
   {
    "duration": 8,
    "start_time": "2022-01-14T08:39:04.428Z"
   },
   {
    "duration": 12,
    "start_time": "2022-01-14T08:39:11.129Z"
   },
   {
    "duration": 8,
    "start_time": "2022-01-14T08:51:11.784Z"
   },
   {
    "duration": 327,
    "start_time": "2022-01-14T08:54:52.984Z"
   },
   {
    "duration": 8,
    "start_time": "2022-01-14T08:56:28.367Z"
   },
   {
    "duration": 100,
    "start_time": "2022-01-14T08:58:37.332Z"
   },
   {
    "duration": 100,
    "start_time": "2022-01-14T08:58:44.620Z"
   },
   {
    "duration": 6,
    "start_time": "2022-01-14T08:58:51.632Z"
   },
   {
    "duration": 9,
    "start_time": "2022-01-14T08:59:12.506Z"
   },
   {
    "duration": 10,
    "start_time": "2022-01-14T09:08:25.232Z"
   },
   {
    "duration": 403,
    "start_time": "2022-01-14T09:10:34.664Z"
   },
   {
    "duration": 322,
    "start_time": "2022-01-14T09:20:01.080Z"
   },
   {
    "duration": 9,
    "start_time": "2022-01-14T09:37:17.451Z"
   },
   {
    "duration": 9,
    "start_time": "2022-01-14T09:37:45.563Z"
   },
   {
    "duration": 354,
    "start_time": "2022-01-14T09:38:06.763Z"
   },
   {
    "duration": 116,
    "start_time": "2022-01-14T09:38:22.507Z"
   },
   {
    "duration": 7,
    "start_time": "2022-01-14T09:38:32.372Z"
   },
   {
    "duration": 1555,
    "start_time": "2022-01-15T07:35:44.154Z"
   },
   {
    "duration": 16,
    "start_time": "2022-01-15T07:35:48.117Z"
   },
   {
    "duration": 13,
    "start_time": "2022-01-15T07:35:51.105Z"
   },
   {
    "duration": 19,
    "start_time": "2022-01-15T07:35:53.887Z"
   },
   {
    "duration": 32,
    "start_time": "2022-01-15T07:35:55.872Z"
   },
   {
    "duration": 18,
    "start_time": "2022-01-15T07:35:59.481Z"
   },
   {
    "duration": 28,
    "start_time": "2022-01-15T07:36:02.808Z"
   },
   {
    "duration": 28,
    "start_time": "2022-01-15T07:36:04.427Z"
   },
   {
    "duration": 7,
    "start_time": "2022-01-15T07:36:07.217Z"
   },
   {
    "duration": 3463,
    "start_time": "2022-01-15T07:36:10.456Z"
   },
   {
    "duration": 8,
    "start_time": "2022-01-15T07:36:17.269Z"
   },
   {
    "duration": 55,
    "start_time": "2022-01-15T07:36:20.919Z"
   },
   {
    "duration": 30,
    "start_time": "2022-01-15T07:36:27.340Z"
   },
   {
    "duration": 13,
    "start_time": "2022-01-15T07:36:31.191Z"
   },
   {
    "duration": 11,
    "start_time": "2022-01-15T07:36:34.405Z"
   },
   {
    "duration": 10,
    "start_time": "2022-01-15T07:36:35.716Z"
   },
   {
    "duration": 12,
    "start_time": "2022-01-15T07:36:36.440Z"
   },
   {
    "duration": 8,
    "start_time": "2022-01-15T07:36:39.655Z"
   },
   {
    "duration": 7,
    "start_time": "2022-01-15T07:43:35.075Z"
   },
   {
    "duration": 910,
    "start_time": "2022-01-16T15:25:01.122Z"
   },
   {
    "duration": 16,
    "start_time": "2022-01-16T15:25:04.074Z"
   },
   {
    "duration": 16,
    "start_time": "2022-01-16T15:25:06.772Z"
   },
   {
    "duration": 19,
    "start_time": "2022-01-16T15:25:09.198Z"
   },
   {
    "duration": 44,
    "start_time": "2022-01-16T15:25:10.430Z"
   },
   {
    "duration": 18,
    "start_time": "2022-01-16T15:25:13.279Z"
   },
   {
    "duration": 38,
    "start_time": "2022-01-16T15:25:15.506Z"
   },
   {
    "duration": 26,
    "start_time": "2022-01-16T15:25:17.054Z"
   },
   {
    "duration": 8,
    "start_time": "2022-01-16T15:25:18.735Z"
   },
   {
    "duration": 3161,
    "start_time": "2022-01-16T15:25:20.899Z"
   },
   {
    "duration": 8,
    "start_time": "2022-01-16T15:25:27.594Z"
   },
   {
    "duration": 52,
    "start_time": "2022-01-16T15:25:30.395Z"
   },
   {
    "duration": 33,
    "start_time": "2022-01-16T15:25:32.791Z"
   },
   {
    "duration": 12,
    "start_time": "2022-01-16T15:25:36.097Z"
   },
   {
    "duration": 12,
    "start_time": "2022-01-16T15:25:37.013Z"
   },
   {
    "duration": 10,
    "start_time": "2022-01-16T15:25:38.008Z"
   },
   {
    "duration": 10,
    "start_time": "2022-01-16T15:25:39.140Z"
   },
   {
    "duration": 8,
    "start_time": "2022-01-16T15:25:40.199Z"
   },
   {
    "duration": 5891,
    "start_time": "2022-01-16T15:33:53.799Z"
   },
   {
    "duration": 4820,
    "start_time": "2022-01-16T15:39:57.416Z"
   },
   {
    "duration": 30,
    "start_time": "2022-01-16T15:41:39.773Z"
   },
   {
    "duration": 5398,
    "start_time": "2022-01-16T15:41:57.173Z"
   },
   {
    "duration": 27,
    "start_time": "2022-01-16T15:42:40.174Z"
   },
   {
    "duration": 1331,
    "start_time": "2022-01-16T15:43:27.712Z"
   },
   {
    "duration": 4853,
    "start_time": "2022-01-16T15:43:55.373Z"
   },
   {
    "duration": 4491,
    "start_time": "2022-01-16T15:44:08.177Z"
   },
   {
    "duration": 910,
    "start_time": "2022-01-16T15:44:20.893Z"
   },
   {
    "duration": 1022,
    "start_time": "2022-01-16T15:46:44.351Z"
   },
   {
    "duration": 5049,
    "start_time": "2022-01-16T15:52:24.996Z"
   },
   {
    "duration": 36,
    "start_time": "2022-01-16T16:00:10.863Z"
   },
   {
    "duration": 786,
    "start_time": "2022-01-19T15:32:37.814Z"
   },
   {
    "duration": 17,
    "start_time": "2022-01-19T15:32:38.603Z"
   },
   {
    "duration": 13,
    "start_time": "2022-01-19T15:32:38.623Z"
   },
   {
    "duration": 18,
    "start_time": "2022-01-19T15:32:38.666Z"
   },
   {
    "duration": 31,
    "start_time": "2022-01-19T15:32:38.687Z"
   },
   {
    "duration": 45,
    "start_time": "2022-01-19T15:32:38.720Z"
   },
   {
    "duration": 24,
    "start_time": "2022-01-19T15:32:38.767Z"
   },
   {
    "duration": 24,
    "start_time": "2022-01-19T15:32:38.794Z"
   },
   {
    "duration": 7,
    "start_time": "2022-01-19T15:32:38.821Z"
   },
   {
    "duration": 948,
    "start_time": "2022-01-19T15:32:38.830Z"
   },
   {
    "duration": 4071,
    "start_time": "2022-01-19T15:32:39.781Z"
   },
   {
    "duration": 53,
    "start_time": "2022-01-19T15:32:43.865Z"
   },
   {
    "duration": 50,
    "start_time": "2022-01-19T15:32:43.921Z"
   },
   {
    "duration": 19,
    "start_time": "2022-01-19T15:32:43.974Z"
   },
   {
    "duration": 28,
    "start_time": "2022-01-19T15:32:43.995Z"
   },
   {
    "duration": 14,
    "start_time": "2022-01-19T15:32:44.026Z"
   },
   {
    "duration": 33,
    "start_time": "2022-01-19T15:32:44.042Z"
   },
   {
    "duration": 42,
    "start_time": "2022-01-19T15:32:44.078Z"
   },
   {
    "duration": 59,
    "start_time": "2022-01-19T15:32:44.122Z"
   },
   {
    "duration": 468,
    "start_time": "2022-05-17T08:20:18.254Z"
   },
   {
    "duration": 15,
    "start_time": "2022-05-17T08:20:18.724Z"
   },
   {
    "duration": 10,
    "start_time": "2022-05-17T08:20:18.741Z"
   },
   {
    "duration": 12,
    "start_time": "2022-05-17T08:20:18.753Z"
   },
   {
    "duration": 42,
    "start_time": "2022-05-17T08:20:18.767Z"
   },
   {
    "duration": 17,
    "start_time": "2022-05-17T08:20:18.811Z"
   },
   {
    "duration": 18,
    "start_time": "2022-05-17T08:20:18.830Z"
   },
   {
    "duration": 45,
    "start_time": "2022-05-17T08:20:18.849Z"
   },
   {
    "duration": 6,
    "start_time": "2022-05-17T08:20:18.896Z"
   },
   {
    "duration": 646,
    "start_time": "2022-05-17T08:20:18.905Z"
   },
   {
    "duration": 2553,
    "start_time": "2022-05-17T08:20:19.553Z"
   },
   {
    "duration": 30,
    "start_time": "2022-05-17T08:20:22.108Z"
   },
   {
    "duration": 18,
    "start_time": "2022-05-17T08:20:22.139Z"
   },
   {
    "duration": 43,
    "start_time": "2022-05-17T08:20:22.159Z"
   },
   {
    "duration": 7,
    "start_time": "2022-05-17T08:20:22.204Z"
   },
   {
    "duration": 16,
    "start_time": "2022-05-17T08:20:22.212Z"
   },
   {
    "duration": 12,
    "start_time": "2022-05-17T08:20:22.230Z"
   },
   {
    "duration": 7,
    "start_time": "2022-05-17T08:20:22.244Z"
   },
   {
    "duration": 25,
    "start_time": "2022-05-17T08:20:22.253Z"
   }
  ],
  "kernelspec": {
   "display_name": "Python 3 (ipykernel)",
   "language": "python",
   "name": "python3"
  },
  "language_info": {
   "codemirror_mode": {
    "name": "ipython",
    "version": 3
   },
   "file_extension": ".py",
   "mimetype": "text/x-python",
   "name": "python",
   "nbconvert_exporter": "python",
   "pygments_lexer": "ipython3",
   "version": "3.9.7"
  },
  "toc": {
   "base_numbering": 1,
   "nav_menu": {},
   "number_sections": true,
   "sideBar": true,
   "skip_h1_title": true,
   "title_cell": "Table of Contents",
   "title_sidebar": "Contents",
   "toc_cell": false,
   "toc_position": {},
   "toc_section_display": true,
   "toc_window_display": true
  }
 },
 "nbformat": 4,
 "nbformat_minor": 2
}
