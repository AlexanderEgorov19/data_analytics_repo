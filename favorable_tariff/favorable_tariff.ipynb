{
 "cells": [
  {
   "cell_type": "markdown",
   "metadata": {},
   "source": [
    "# Определение перспективного тарифа для телеком-компании"
   ]
  },
  {
   "cell_type": "markdown",
   "metadata": {},
   "source": [
    "**Цель:** Нужно проанализировать поведение клиентов за 2018 год и сделать вывод — какой тариф (\"Смарт\" или \"Ультра\") лучше.\n",
    "\n",
    "**Задачи:**\n",
    "\n",
    "* Изучить общую информацию;\n",
    "\n",
    "* Подготовить данные\n",
    "\n",
    "    Привести данные к нужным типам;\n",
    "    Найти и исправить ошибки в данных, если они есть.\n",
    "   \n",
    "* Посчитать для каждого пользователя:\n",
    "\n",
    "    количество сделанных звонков и израсходованных минут разговора по месяцам;\n",
    "    количество отправленных сообщений по месяцам;\n",
    "    объем израсходованного интернет-трафика по месяцам;\n",
    "    помесячную выручку с каждого пользователя.\n",
    "\n",
    "* Проанализировать данные\n",
    "    Описать поведение клиентов оператора, исходя из выборки. Сколько минут разговора, сколько сообщений и какой объём интернет-трафика требуется пользователям каждого тарифа в месяц? Посчитать среднее количество, дисперсию и стандартное отклонение. Построить гистограммы. Описать распределения.\n",
    "\n",
    "* Проверить гипотезы\n",
    "    средняя выручка пользователей тарифов «Ультра» и «Смарт» различаются;\n",
    "    средняя выручка пользователей из Москвы отличается от выручки пользователей из других регионов."
   ]
  },
  {
   "cell_type": "markdown",
   "metadata": {},
   "source": [
    "## Изучение данных"
   ]
  },
  {
   "cell_type": "code",
   "execution_count": 1,
   "metadata": {},
   "outputs": [],
   "source": [
    "import pandas as pd\n",
    "import numpy as np\n",
    "import matplotlib.pyplot as plt\n",
    "import seaborn as sns\n",
    "calls = pd.read_csv('/datasets/calls.csv')\n",
    "internet = pd.read_csv('/datasets/internet.csv')\n",
    "messages = pd.read_csv('/datasets/messages.csv')\n",
    "tariffs = pd.read_csv('/datasets/tariffs.csv')\n",
    "users = pd.read_csv('/datasets/users.csv')"
   ]
  },
  {
   "cell_type": "markdown",
   "metadata": {},
   "source": [
    "### Работа с calls "
   ]
  },
  {
   "cell_type": "code",
   "execution_count": 2,
   "metadata": {},
   "outputs": [
    {
     "data": {
      "text/html": [
       "<div>\n",
       "<style scoped>\n",
       "    .dataframe tbody tr th:only-of-type {\n",
       "        vertical-align: middle;\n",
       "    }\n",
       "\n",
       "    .dataframe tbody tr th {\n",
       "        vertical-align: top;\n",
       "    }\n",
       "\n",
       "    .dataframe thead th {\n",
       "        text-align: right;\n",
       "    }\n",
       "</style>\n",
       "<table border=\"1\" class=\"dataframe\">\n",
       "  <thead>\n",
       "    <tr style=\"text-align: right;\">\n",
       "      <th></th>\n",
       "      <th>id</th>\n",
       "      <th>call_date</th>\n",
       "      <th>duration</th>\n",
       "      <th>user_id</th>\n",
       "    </tr>\n",
       "  </thead>\n",
       "  <tbody>\n",
       "    <tr>\n",
       "      <th>0</th>\n",
       "      <td>1000_0</td>\n",
       "      <td>2018-07-25</td>\n",
       "      <td>0.00</td>\n",
       "      <td>1000</td>\n",
       "    </tr>\n",
       "    <tr>\n",
       "      <th>1</th>\n",
       "      <td>1000_1</td>\n",
       "      <td>2018-08-17</td>\n",
       "      <td>0.00</td>\n",
       "      <td>1000</td>\n",
       "    </tr>\n",
       "    <tr>\n",
       "      <th>2</th>\n",
       "      <td>1000_2</td>\n",
       "      <td>2018-06-11</td>\n",
       "      <td>2.85</td>\n",
       "      <td>1000</td>\n",
       "    </tr>\n",
       "    <tr>\n",
       "      <th>3</th>\n",
       "      <td>1000_3</td>\n",
       "      <td>2018-09-21</td>\n",
       "      <td>13.80</td>\n",
       "      <td>1000</td>\n",
       "    </tr>\n",
       "    <tr>\n",
       "      <th>4</th>\n",
       "      <td>1000_4</td>\n",
       "      <td>2018-12-15</td>\n",
       "      <td>5.18</td>\n",
       "      <td>1000</td>\n",
       "    </tr>\n",
       "    <tr>\n",
       "      <th>5</th>\n",
       "      <td>1000_5</td>\n",
       "      <td>2018-11-02</td>\n",
       "      <td>0.00</td>\n",
       "      <td>1000</td>\n",
       "    </tr>\n",
       "    <tr>\n",
       "      <th>6</th>\n",
       "      <td>1000_6</td>\n",
       "      <td>2018-10-18</td>\n",
       "      <td>0.00</td>\n",
       "      <td>1000</td>\n",
       "    </tr>\n",
       "    <tr>\n",
       "      <th>7</th>\n",
       "      <td>1000_7</td>\n",
       "      <td>2018-08-22</td>\n",
       "      <td>18.31</td>\n",
       "      <td>1000</td>\n",
       "    </tr>\n",
       "    <tr>\n",
       "      <th>8</th>\n",
       "      <td>1000_8</td>\n",
       "      <td>2018-09-15</td>\n",
       "      <td>18.44</td>\n",
       "      <td>1000</td>\n",
       "    </tr>\n",
       "    <tr>\n",
       "      <th>9</th>\n",
       "      <td>1000_9</td>\n",
       "      <td>2018-08-15</td>\n",
       "      <td>0.00</td>\n",
       "      <td>1000</td>\n",
       "    </tr>\n",
       "  </tbody>\n",
       "</table>\n",
       "</div>"
      ],
      "text/plain": [
       "       id   call_date  duration  user_id\n",
       "0  1000_0  2018-07-25      0.00     1000\n",
       "1  1000_1  2018-08-17      0.00     1000\n",
       "2  1000_2  2018-06-11      2.85     1000\n",
       "3  1000_3  2018-09-21     13.80     1000\n",
       "4  1000_4  2018-12-15      5.18     1000\n",
       "5  1000_5  2018-11-02      0.00     1000\n",
       "6  1000_6  2018-10-18      0.00     1000\n",
       "7  1000_7  2018-08-22     18.31     1000\n",
       "8  1000_8  2018-09-15     18.44     1000\n",
       "9  1000_9  2018-08-15      0.00     1000"
      ]
     },
     "execution_count": 2,
     "metadata": {},
     "output_type": "execute_result"
    }
   ],
   "source": [
    "calls.head(10)"
   ]
  },
  {
   "cell_type": "code",
   "execution_count": 3,
   "metadata": {
    "scrolled": true
   },
   "outputs": [
    {
     "name": "stdout",
     "output_type": "stream",
     "text": [
      "<class 'pandas.core.frame.DataFrame'>\n",
      "RangeIndex: 202607 entries, 0 to 202606\n",
      "Data columns (total 4 columns):\n",
      " #   Column     Non-Null Count   Dtype  \n",
      "---  ------     --------------   -----  \n",
      " 0   id         202607 non-null  object \n",
      " 1   call_date  202607 non-null  object \n",
      " 2   duration   202607 non-null  float64\n",
      " 3   user_id    202607 non-null  int64  \n",
      "dtypes: float64(1), int64(1), object(2)\n",
      "memory usage: 6.2+ MB\n"
     ]
    }
   ],
   "source": [
    "calls.info()"
   ]
  },
  {
   "cell_type": "markdown",
   "metadata": {},
   "source": [
    "Даты звонков представлены в формате объекта, необходимо их перевести в формат даты, чтобы можно было сделать отдельный столбец по месяцам.\n",
    "\n",
    "Аналогично поступаем со всеми датафреймами, где есть даты."
   ]
  },
  {
   "cell_type": "code",
   "execution_count": 4,
   "metadata": {
    "scrolled": false
   },
   "outputs": [],
   "source": [
    "calls['call_date'] = pd.to_datetime(calls['call_date'], format='%Y.%m.%d')"
   ]
  },
  {
   "cell_type": "markdown",
   "metadata": {},
   "source": [
    "Выделим из общей даты столбец с месяцем для удобства дальнейших подсчетов."
   ]
  },
  {
   "cell_type": "code",
   "execution_count": 5,
   "metadata": {},
   "outputs": [
    {
     "data": {
      "text/html": [
       "<div>\n",
       "<style scoped>\n",
       "    .dataframe tbody tr th:only-of-type {\n",
       "        vertical-align: middle;\n",
       "    }\n",
       "\n",
       "    .dataframe tbody tr th {\n",
       "        vertical-align: top;\n",
       "    }\n",
       "\n",
       "    .dataframe thead th {\n",
       "        text-align: right;\n",
       "    }\n",
       "</style>\n",
       "<table border=\"1\" class=\"dataframe\">\n",
       "  <thead>\n",
       "    <tr style=\"text-align: right;\">\n",
       "      <th></th>\n",
       "      <th>id</th>\n",
       "      <th>call_date</th>\n",
       "      <th>duration</th>\n",
       "      <th>user_id</th>\n",
       "      <th>month</th>\n",
       "    </tr>\n",
       "  </thead>\n",
       "  <tbody>\n",
       "    <tr>\n",
       "      <th>0</th>\n",
       "      <td>1000_0</td>\n",
       "      <td>2018-07-25</td>\n",
       "      <td>0.00</td>\n",
       "      <td>1000</td>\n",
       "      <td>7</td>\n",
       "    </tr>\n",
       "    <tr>\n",
       "      <th>1</th>\n",
       "      <td>1000_1</td>\n",
       "      <td>2018-08-17</td>\n",
       "      <td>0.00</td>\n",
       "      <td>1000</td>\n",
       "      <td>8</td>\n",
       "    </tr>\n",
       "    <tr>\n",
       "      <th>2</th>\n",
       "      <td>1000_2</td>\n",
       "      <td>2018-06-11</td>\n",
       "      <td>2.85</td>\n",
       "      <td>1000</td>\n",
       "      <td>6</td>\n",
       "    </tr>\n",
       "    <tr>\n",
       "      <th>3</th>\n",
       "      <td>1000_3</td>\n",
       "      <td>2018-09-21</td>\n",
       "      <td>13.80</td>\n",
       "      <td>1000</td>\n",
       "      <td>9</td>\n",
       "    </tr>\n",
       "    <tr>\n",
       "      <th>4</th>\n",
       "      <td>1000_4</td>\n",
       "      <td>2018-12-15</td>\n",
       "      <td>5.18</td>\n",
       "      <td>1000</td>\n",
       "      <td>12</td>\n",
       "    </tr>\n",
       "    <tr>\n",
       "      <th>5</th>\n",
       "      <td>1000_5</td>\n",
       "      <td>2018-11-02</td>\n",
       "      <td>0.00</td>\n",
       "      <td>1000</td>\n",
       "      <td>11</td>\n",
       "    </tr>\n",
       "    <tr>\n",
       "      <th>6</th>\n",
       "      <td>1000_6</td>\n",
       "      <td>2018-10-18</td>\n",
       "      <td>0.00</td>\n",
       "      <td>1000</td>\n",
       "      <td>10</td>\n",
       "    </tr>\n",
       "    <tr>\n",
       "      <th>7</th>\n",
       "      <td>1000_7</td>\n",
       "      <td>2018-08-22</td>\n",
       "      <td>18.31</td>\n",
       "      <td>1000</td>\n",
       "      <td>8</td>\n",
       "    </tr>\n",
       "    <tr>\n",
       "      <th>8</th>\n",
       "      <td>1000_8</td>\n",
       "      <td>2018-09-15</td>\n",
       "      <td>18.44</td>\n",
       "      <td>1000</td>\n",
       "      <td>9</td>\n",
       "    </tr>\n",
       "    <tr>\n",
       "      <th>9</th>\n",
       "      <td>1000_9</td>\n",
       "      <td>2018-08-15</td>\n",
       "      <td>0.00</td>\n",
       "      <td>1000</td>\n",
       "      <td>8</td>\n",
       "    </tr>\n",
       "  </tbody>\n",
       "</table>\n",
       "</div>"
      ],
      "text/plain": [
       "       id  call_date  duration  user_id  month\n",
       "0  1000_0 2018-07-25      0.00     1000      7\n",
       "1  1000_1 2018-08-17      0.00     1000      8\n",
       "2  1000_2 2018-06-11      2.85     1000      6\n",
       "3  1000_3 2018-09-21     13.80     1000      9\n",
       "4  1000_4 2018-12-15      5.18     1000     12\n",
       "5  1000_5 2018-11-02      0.00     1000     11\n",
       "6  1000_6 2018-10-18      0.00     1000     10\n",
       "7  1000_7 2018-08-22     18.31     1000      8\n",
       "8  1000_8 2018-09-15     18.44     1000      9\n",
       "9  1000_9 2018-08-15      0.00     1000      8"
      ]
     },
     "execution_count": 5,
     "metadata": {},
     "output_type": "execute_result"
    }
   ],
   "source": [
    "calls['month'] = pd.DatetimeIndex(calls['call_date']).month\n",
    "calls.head(10)"
   ]
  },
  {
   "cell_type": "markdown",
   "metadata": {},
   "source": [
    "Создадим отдельный датафрейм с id абонентов и месяцами, он нам понадобится в дальнейшем для соединения с users."
   ]
  },
  {
   "cell_type": "code",
   "execution_count": 6,
   "metadata": {},
   "outputs": [],
   "source": [
    "calls_month = calls[['user_id', 'month']]"
   ]
  },
  {
   "cell_type": "code",
   "execution_count": 7,
   "metadata": {},
   "outputs": [
    {
     "data": {
      "text/plain": [
       "0"
      ]
     },
     "execution_count": 7,
     "metadata": {},
     "output_type": "execute_result"
    }
   ],
   "source": [
    "calls.duplicated().sum()"
   ]
  },
  {
   "cell_type": "markdown",
   "metadata": {},
   "source": [
    "Дубликаты не обнаружены, пропущенных знаычений также не наблюдается (судя по рузультатам info())."
   ]
  },
  {
   "cell_type": "markdown",
   "metadata": {},
   "source": [
    "### Работа с internet"
   ]
  },
  {
   "cell_type": "markdown",
   "metadata": {},
   "source": [
    "Здесь всё аналогично работе с предыдущим датафреймом."
   ]
  },
  {
   "cell_type": "code",
   "execution_count": 8,
   "metadata": {},
   "outputs": [
    {
     "data": {
      "text/html": [
       "<div>\n",
       "<style scoped>\n",
       "    .dataframe tbody tr th:only-of-type {\n",
       "        vertical-align: middle;\n",
       "    }\n",
       "\n",
       "    .dataframe tbody tr th {\n",
       "        vertical-align: top;\n",
       "    }\n",
       "\n",
       "    .dataframe thead th {\n",
       "        text-align: right;\n",
       "    }\n",
       "</style>\n",
       "<table border=\"1\" class=\"dataframe\">\n",
       "  <thead>\n",
       "    <tr style=\"text-align: right;\">\n",
       "      <th></th>\n",
       "      <th>Unnamed: 0</th>\n",
       "      <th>id</th>\n",
       "      <th>mb_used</th>\n",
       "      <th>session_date</th>\n",
       "      <th>user_id</th>\n",
       "    </tr>\n",
       "  </thead>\n",
       "  <tbody>\n",
       "    <tr>\n",
       "      <th>0</th>\n",
       "      <td>0</td>\n",
       "      <td>1000_0</td>\n",
       "      <td>112.95</td>\n",
       "      <td>2018-11-25</td>\n",
       "      <td>1000</td>\n",
       "    </tr>\n",
       "    <tr>\n",
       "      <th>1</th>\n",
       "      <td>1</td>\n",
       "      <td>1000_1</td>\n",
       "      <td>1052.81</td>\n",
       "      <td>2018-09-07</td>\n",
       "      <td>1000</td>\n",
       "    </tr>\n",
       "    <tr>\n",
       "      <th>2</th>\n",
       "      <td>2</td>\n",
       "      <td>1000_2</td>\n",
       "      <td>1197.26</td>\n",
       "      <td>2018-06-25</td>\n",
       "      <td>1000</td>\n",
       "    </tr>\n",
       "    <tr>\n",
       "      <th>3</th>\n",
       "      <td>3</td>\n",
       "      <td>1000_3</td>\n",
       "      <td>550.27</td>\n",
       "      <td>2018-08-22</td>\n",
       "      <td>1000</td>\n",
       "    </tr>\n",
       "    <tr>\n",
       "      <th>4</th>\n",
       "      <td>4</td>\n",
       "      <td>1000_4</td>\n",
       "      <td>302.56</td>\n",
       "      <td>2018-09-24</td>\n",
       "      <td>1000</td>\n",
       "    </tr>\n",
       "    <tr>\n",
       "      <th>5</th>\n",
       "      <td>5</td>\n",
       "      <td>1000_5</td>\n",
       "      <td>399.97</td>\n",
       "      <td>2018-10-02</td>\n",
       "      <td>1000</td>\n",
       "    </tr>\n",
       "    <tr>\n",
       "      <th>6</th>\n",
       "      <td>6</td>\n",
       "      <td>1000_6</td>\n",
       "      <td>540.08</td>\n",
       "      <td>2018-09-07</td>\n",
       "      <td>1000</td>\n",
       "    </tr>\n",
       "    <tr>\n",
       "      <th>7</th>\n",
       "      <td>7</td>\n",
       "      <td>1000_7</td>\n",
       "      <td>415.70</td>\n",
       "      <td>2018-07-11</td>\n",
       "      <td>1000</td>\n",
       "    </tr>\n",
       "    <tr>\n",
       "      <th>8</th>\n",
       "      <td>8</td>\n",
       "      <td>1000_8</td>\n",
       "      <td>505.40</td>\n",
       "      <td>2018-10-08</td>\n",
       "      <td>1000</td>\n",
       "    </tr>\n",
       "    <tr>\n",
       "      <th>9</th>\n",
       "      <td>9</td>\n",
       "      <td>1000_9</td>\n",
       "      <td>345.54</td>\n",
       "      <td>2018-09-03</td>\n",
       "      <td>1000</td>\n",
       "    </tr>\n",
       "  </tbody>\n",
       "</table>\n",
       "</div>"
      ],
      "text/plain": [
       "   Unnamed: 0      id  mb_used session_date  user_id\n",
       "0           0  1000_0   112.95   2018-11-25     1000\n",
       "1           1  1000_1  1052.81   2018-09-07     1000\n",
       "2           2  1000_2  1197.26   2018-06-25     1000\n",
       "3           3  1000_3   550.27   2018-08-22     1000\n",
       "4           4  1000_4   302.56   2018-09-24     1000\n",
       "5           5  1000_5   399.97   2018-10-02     1000\n",
       "6           6  1000_6   540.08   2018-09-07     1000\n",
       "7           7  1000_7   415.70   2018-07-11     1000\n",
       "8           8  1000_8   505.40   2018-10-08     1000\n",
       "9           9  1000_9   345.54   2018-09-03     1000"
      ]
     },
     "execution_count": 8,
     "metadata": {},
     "output_type": "execute_result"
    }
   ],
   "source": [
    "internet.head(10)"
   ]
  },
  {
   "cell_type": "code",
   "execution_count": 9,
   "metadata": {},
   "outputs": [
    {
     "name": "stdout",
     "output_type": "stream",
     "text": [
      "<class 'pandas.core.frame.DataFrame'>\n",
      "RangeIndex: 149396 entries, 0 to 149395\n",
      "Data columns (total 5 columns):\n",
      " #   Column        Non-Null Count   Dtype  \n",
      "---  ------        --------------   -----  \n",
      " 0   Unnamed: 0    149396 non-null  int64  \n",
      " 1   id            149396 non-null  object \n",
      " 2   mb_used       149396 non-null  float64\n",
      " 3   session_date  149396 non-null  object \n",
      " 4   user_id       149396 non-null  int64  \n",
      "dtypes: float64(1), int64(2), object(2)\n",
      "memory usage: 5.7+ MB\n"
     ]
    }
   ],
   "source": [
    "internet.info()"
   ]
  },
  {
   "cell_type": "code",
   "execution_count": 10,
   "metadata": {},
   "outputs": [],
   "source": [
    "internet['session_date'] = pd.to_datetime(internet['session_date'], format='%Y.%m.%d')"
   ]
  },
  {
   "cell_type": "code",
   "execution_count": 11,
   "metadata": {},
   "outputs": [],
   "source": [
    "internet['month'] = pd.DatetimeIndex(internet['session_date']).month"
   ]
  },
  {
   "cell_type": "code",
   "execution_count": 12,
   "metadata": {
    "scrolled": true
   },
   "outputs": [
    {
     "data": {
      "text/html": [
       "<div>\n",
       "<style scoped>\n",
       "    .dataframe tbody tr th:only-of-type {\n",
       "        vertical-align: middle;\n",
       "    }\n",
       "\n",
       "    .dataframe tbody tr th {\n",
       "        vertical-align: top;\n",
       "    }\n",
       "\n",
       "    .dataframe thead th {\n",
       "        text-align: right;\n",
       "    }\n",
       "</style>\n",
       "<table border=\"1\" class=\"dataframe\">\n",
       "  <thead>\n",
       "    <tr style=\"text-align: right;\">\n",
       "      <th></th>\n",
       "      <th>Unnamed: 0</th>\n",
       "      <th>id</th>\n",
       "      <th>mb_used</th>\n",
       "      <th>session_date</th>\n",
       "      <th>user_id</th>\n",
       "      <th>month</th>\n",
       "      <th>gb_used</th>\n",
       "    </tr>\n",
       "  </thead>\n",
       "  <tbody>\n",
       "    <tr>\n",
       "      <th>0</th>\n",
       "      <td>0</td>\n",
       "      <td>1000_0</td>\n",
       "      <td>112.95</td>\n",
       "      <td>2018-11-25</td>\n",
       "      <td>1000</td>\n",
       "      <td>11</td>\n",
       "      <td>0.110303</td>\n",
       "    </tr>\n",
       "    <tr>\n",
       "      <th>1</th>\n",
       "      <td>1</td>\n",
       "      <td>1000_1</td>\n",
       "      <td>1052.81</td>\n",
       "      <td>2018-09-07</td>\n",
       "      <td>1000</td>\n",
       "      <td>9</td>\n",
       "      <td>1.028135</td>\n",
       "    </tr>\n",
       "    <tr>\n",
       "      <th>2</th>\n",
       "      <td>2</td>\n",
       "      <td>1000_2</td>\n",
       "      <td>1197.26</td>\n",
       "      <td>2018-06-25</td>\n",
       "      <td>1000</td>\n",
       "      <td>6</td>\n",
       "      <td>1.169199</td>\n",
       "    </tr>\n",
       "    <tr>\n",
       "      <th>3</th>\n",
       "      <td>3</td>\n",
       "      <td>1000_3</td>\n",
       "      <td>550.27</td>\n",
       "      <td>2018-08-22</td>\n",
       "      <td>1000</td>\n",
       "      <td>8</td>\n",
       "      <td>0.537373</td>\n",
       "    </tr>\n",
       "    <tr>\n",
       "      <th>4</th>\n",
       "      <td>4</td>\n",
       "      <td>1000_4</td>\n",
       "      <td>302.56</td>\n",
       "      <td>2018-09-24</td>\n",
       "      <td>1000</td>\n",
       "      <td>9</td>\n",
       "      <td>0.295469</td>\n",
       "    </tr>\n",
       "    <tr>\n",
       "      <th>5</th>\n",
       "      <td>5</td>\n",
       "      <td>1000_5</td>\n",
       "      <td>399.97</td>\n",
       "      <td>2018-10-02</td>\n",
       "      <td>1000</td>\n",
       "      <td>10</td>\n",
       "      <td>0.390596</td>\n",
       "    </tr>\n",
       "    <tr>\n",
       "      <th>6</th>\n",
       "      <td>6</td>\n",
       "      <td>1000_6</td>\n",
       "      <td>540.08</td>\n",
       "      <td>2018-09-07</td>\n",
       "      <td>1000</td>\n",
       "      <td>9</td>\n",
       "      <td>0.527422</td>\n",
       "    </tr>\n",
       "    <tr>\n",
       "      <th>7</th>\n",
       "      <td>7</td>\n",
       "      <td>1000_7</td>\n",
       "      <td>415.70</td>\n",
       "      <td>2018-07-11</td>\n",
       "      <td>1000</td>\n",
       "      <td>7</td>\n",
       "      <td>0.405957</td>\n",
       "    </tr>\n",
       "    <tr>\n",
       "      <th>8</th>\n",
       "      <td>8</td>\n",
       "      <td>1000_8</td>\n",
       "      <td>505.40</td>\n",
       "      <td>2018-10-08</td>\n",
       "      <td>1000</td>\n",
       "      <td>10</td>\n",
       "      <td>0.493555</td>\n",
       "    </tr>\n",
       "    <tr>\n",
       "      <th>9</th>\n",
       "      <td>9</td>\n",
       "      <td>1000_9</td>\n",
       "      <td>345.54</td>\n",
       "      <td>2018-09-03</td>\n",
       "      <td>1000</td>\n",
       "      <td>9</td>\n",
       "      <td>0.337441</td>\n",
       "    </tr>\n",
       "  </tbody>\n",
       "</table>\n",
       "</div>"
      ],
      "text/plain": [
       "   Unnamed: 0      id  mb_used session_date  user_id  month   gb_used\n",
       "0           0  1000_0   112.95   2018-11-25     1000     11  0.110303\n",
       "1           1  1000_1  1052.81   2018-09-07     1000      9  1.028135\n",
       "2           2  1000_2  1197.26   2018-06-25     1000      6  1.169199\n",
       "3           3  1000_3   550.27   2018-08-22     1000      8  0.537373\n",
       "4           4  1000_4   302.56   2018-09-24     1000      9  0.295469\n",
       "5           5  1000_5   399.97   2018-10-02     1000     10  0.390596\n",
       "6           6  1000_6   540.08   2018-09-07     1000      9  0.527422\n",
       "7           7  1000_7   415.70   2018-07-11     1000      7  0.405957\n",
       "8           8  1000_8   505.40   2018-10-08     1000     10  0.493555\n",
       "9           9  1000_9   345.54   2018-09-03     1000      9  0.337441"
      ]
     },
     "execution_count": 12,
     "metadata": {},
     "output_type": "execute_result"
    }
   ],
   "source": [
    "internet['gb_used'] = internet['mb_used'] / 1024\n",
    "internet.head(10)"
   ]
  },
  {
   "cell_type": "markdown",
   "metadata": {},
   "source": [
    "Нули в  таблицах со зваонками и интернет-трафиком скорее всего связаны с тем, что это или пропущенные звонки, или сброшенные(в случае с таблицей звонков), а для интернет-трафика - отсутствие выхода в интернет.\n",
    "\n",
    "На мой взгляд, эти данные нам не помешают, т.к. тоже являются показателями, которые отражают то, как пользователи пользуются услугами по тому или иному тарифу."
   ]
  },
  {
   "cell_type": "code",
   "execution_count": 13,
   "metadata": {},
   "outputs": [
    {
     "data": {
      "text/plain": [
       "0"
      ]
     },
     "execution_count": 13,
     "metadata": {},
     "output_type": "execute_result"
    }
   ],
   "source": [
    "internet.duplicated().sum()"
   ]
  },
  {
   "cell_type": "markdown",
   "metadata": {},
   "source": [
    "### Работа с messages"
   ]
  },
  {
   "cell_type": "code",
   "execution_count": 14,
   "metadata": {},
   "outputs": [
    {
     "data": {
      "text/html": [
       "<div>\n",
       "<style scoped>\n",
       "    .dataframe tbody tr th:only-of-type {\n",
       "        vertical-align: middle;\n",
       "    }\n",
       "\n",
       "    .dataframe tbody tr th {\n",
       "        vertical-align: top;\n",
       "    }\n",
       "\n",
       "    .dataframe thead th {\n",
       "        text-align: right;\n",
       "    }\n",
       "</style>\n",
       "<table border=\"1\" class=\"dataframe\">\n",
       "  <thead>\n",
       "    <tr style=\"text-align: right;\">\n",
       "      <th></th>\n",
       "      <th>id</th>\n",
       "      <th>message_date</th>\n",
       "      <th>user_id</th>\n",
       "    </tr>\n",
       "  </thead>\n",
       "  <tbody>\n",
       "    <tr>\n",
       "      <th>0</th>\n",
       "      <td>1000_0</td>\n",
       "      <td>2018-06-27</td>\n",
       "      <td>1000</td>\n",
       "    </tr>\n",
       "    <tr>\n",
       "      <th>1</th>\n",
       "      <td>1000_1</td>\n",
       "      <td>2018-10-08</td>\n",
       "      <td>1000</td>\n",
       "    </tr>\n",
       "    <tr>\n",
       "      <th>2</th>\n",
       "      <td>1000_2</td>\n",
       "      <td>2018-08-04</td>\n",
       "      <td>1000</td>\n",
       "    </tr>\n",
       "    <tr>\n",
       "      <th>3</th>\n",
       "      <td>1000_3</td>\n",
       "      <td>2018-06-16</td>\n",
       "      <td>1000</td>\n",
       "    </tr>\n",
       "    <tr>\n",
       "      <th>4</th>\n",
       "      <td>1000_4</td>\n",
       "      <td>2018-12-05</td>\n",
       "      <td>1000</td>\n",
       "    </tr>\n",
       "    <tr>\n",
       "      <th>5</th>\n",
       "      <td>1000_5</td>\n",
       "      <td>2018-06-20</td>\n",
       "      <td>1000</td>\n",
       "    </tr>\n",
       "    <tr>\n",
       "      <th>6</th>\n",
       "      <td>1000_6</td>\n",
       "      <td>2018-11-19</td>\n",
       "      <td>1000</td>\n",
       "    </tr>\n",
       "    <tr>\n",
       "      <th>7</th>\n",
       "      <td>1000_7</td>\n",
       "      <td>2018-10-29</td>\n",
       "      <td>1000</td>\n",
       "    </tr>\n",
       "    <tr>\n",
       "      <th>8</th>\n",
       "      <td>1000_8</td>\n",
       "      <td>2018-06-25</td>\n",
       "      <td>1000</td>\n",
       "    </tr>\n",
       "    <tr>\n",
       "      <th>9</th>\n",
       "      <td>1000_9</td>\n",
       "      <td>2018-12-18</td>\n",
       "      <td>1000</td>\n",
       "    </tr>\n",
       "  </tbody>\n",
       "</table>\n",
       "</div>"
      ],
      "text/plain": [
       "       id message_date  user_id\n",
       "0  1000_0   2018-06-27     1000\n",
       "1  1000_1   2018-10-08     1000\n",
       "2  1000_2   2018-08-04     1000\n",
       "3  1000_3   2018-06-16     1000\n",
       "4  1000_4   2018-12-05     1000\n",
       "5  1000_5   2018-06-20     1000\n",
       "6  1000_6   2018-11-19     1000\n",
       "7  1000_7   2018-10-29     1000\n",
       "8  1000_8   2018-06-25     1000\n",
       "9  1000_9   2018-12-18     1000"
      ]
     },
     "execution_count": 14,
     "metadata": {},
     "output_type": "execute_result"
    }
   ],
   "source": [
    "messages.head(10)"
   ]
  },
  {
   "cell_type": "code",
   "execution_count": 15,
   "metadata": {},
   "outputs": [
    {
     "name": "stdout",
     "output_type": "stream",
     "text": [
      "<class 'pandas.core.frame.DataFrame'>\n",
      "RangeIndex: 123036 entries, 0 to 123035\n",
      "Data columns (total 3 columns):\n",
      " #   Column        Non-Null Count   Dtype \n",
      "---  ------        --------------   ----- \n",
      " 0   id            123036 non-null  object\n",
      " 1   message_date  123036 non-null  object\n",
      " 2   user_id       123036 non-null  int64 \n",
      "dtypes: int64(1), object(2)\n",
      "memory usage: 2.8+ MB\n"
     ]
    }
   ],
   "source": [
    "messages.info()"
   ]
  },
  {
   "cell_type": "code",
   "execution_count": 16,
   "metadata": {},
   "outputs": [],
   "source": [
    "messages['message_date'] = pd.to_datetime(messages['message_date'], format='%Y.%m.%d')"
   ]
  },
  {
   "cell_type": "code",
   "execution_count": 17,
   "metadata": {},
   "outputs": [],
   "source": [
    "messages['month'] = pd.DatetimeIndex(messages['message_date']).month"
   ]
  },
  {
   "cell_type": "code",
   "execution_count": 18,
   "metadata": {},
   "outputs": [
    {
     "data": {
      "text/plain": [
       "0"
      ]
     },
     "execution_count": 18,
     "metadata": {},
     "output_type": "execute_result"
    }
   ],
   "source": [
    "messages.duplicated().sum()"
   ]
  },
  {
   "cell_type": "markdown",
   "metadata": {},
   "source": [
    "### Работа с tarrifs"
   ]
  },
  {
   "cell_type": "code",
   "execution_count": 19,
   "metadata": {
    "scrolled": false
   },
   "outputs": [
    {
     "data": {
      "text/html": [
       "<div>\n",
       "<style scoped>\n",
       "    .dataframe tbody tr th:only-of-type {\n",
       "        vertical-align: middle;\n",
       "    }\n",
       "\n",
       "    .dataframe tbody tr th {\n",
       "        vertical-align: top;\n",
       "    }\n",
       "\n",
       "    .dataframe thead th {\n",
       "        text-align: right;\n",
       "    }\n",
       "</style>\n",
       "<table border=\"1\" class=\"dataframe\">\n",
       "  <thead>\n",
       "    <tr style=\"text-align: right;\">\n",
       "      <th></th>\n",
       "      <th>messages_included</th>\n",
       "      <th>mb_per_month_included</th>\n",
       "      <th>minutes_included</th>\n",
       "      <th>rub_monthly_fee</th>\n",
       "      <th>rub_per_gb</th>\n",
       "      <th>rub_per_message</th>\n",
       "      <th>rub_per_minute</th>\n",
       "      <th>tariff_name</th>\n",
       "    </tr>\n",
       "  </thead>\n",
       "  <tbody>\n",
       "    <tr>\n",
       "      <th>0</th>\n",
       "      <td>50</td>\n",
       "      <td>15360</td>\n",
       "      <td>500</td>\n",
       "      <td>550</td>\n",
       "      <td>200</td>\n",
       "      <td>3</td>\n",
       "      <td>3</td>\n",
       "      <td>smart</td>\n",
       "    </tr>\n",
       "    <tr>\n",
       "      <th>1</th>\n",
       "      <td>1000</td>\n",
       "      <td>30720</td>\n",
       "      <td>3000</td>\n",
       "      <td>1950</td>\n",
       "      <td>150</td>\n",
       "      <td>1</td>\n",
       "      <td>1</td>\n",
       "      <td>ultra</td>\n",
       "    </tr>\n",
       "  </tbody>\n",
       "</table>\n",
       "</div>"
      ],
      "text/plain": [
       "   messages_included  mb_per_month_included  minutes_included  \\\n",
       "0                 50                  15360               500   \n",
       "1               1000                  30720              3000   \n",
       "\n",
       "   rub_monthly_fee  rub_per_gb  rub_per_message  rub_per_minute tariff_name  \n",
       "0              550         200                3               3       smart  \n",
       "1             1950         150                1               1       ultra  "
      ]
     },
     "execution_count": 19,
     "metadata": {},
     "output_type": "execute_result"
    }
   ],
   "source": [
    "tariffs.head()"
   ]
  },
  {
   "cell_type": "markdown",
   "metadata": {},
   "source": [
    "Для того чтобы в дальнейшем удобно было подсчитывать значения по тарифам, приведем наименование столбца с тарифами к общему значению с аналогичными столбцами в других датафреймах."
   ]
  },
  {
   "cell_type": "code",
   "execution_count": 20,
   "metadata": {},
   "outputs": [
    {
     "data": {
      "text/html": [
       "<div>\n",
       "<style scoped>\n",
       "    .dataframe tbody tr th:only-of-type {\n",
       "        vertical-align: middle;\n",
       "    }\n",
       "\n",
       "    .dataframe tbody tr th {\n",
       "        vertical-align: top;\n",
       "    }\n",
       "\n",
       "    .dataframe thead th {\n",
       "        text-align: right;\n",
       "    }\n",
       "</style>\n",
       "<table border=\"1\" class=\"dataframe\">\n",
       "  <thead>\n",
       "    <tr style=\"text-align: right;\">\n",
       "      <th></th>\n",
       "      <th>messages_included</th>\n",
       "      <th>mb_per_month_included</th>\n",
       "      <th>minutes_included</th>\n",
       "      <th>rub_monthly_fee</th>\n",
       "      <th>rub_per_gb</th>\n",
       "      <th>rub_per_message</th>\n",
       "      <th>rub_per_minute</th>\n",
       "      <th>tariff</th>\n",
       "    </tr>\n",
       "  </thead>\n",
       "  <tbody>\n",
       "    <tr>\n",
       "      <th>0</th>\n",
       "      <td>50</td>\n",
       "      <td>15360</td>\n",
       "      <td>500</td>\n",
       "      <td>550</td>\n",
       "      <td>200</td>\n",
       "      <td>3</td>\n",
       "      <td>3</td>\n",
       "      <td>smart</td>\n",
       "    </tr>\n",
       "    <tr>\n",
       "      <th>1</th>\n",
       "      <td>1000</td>\n",
       "      <td>30720</td>\n",
       "      <td>3000</td>\n",
       "      <td>1950</td>\n",
       "      <td>150</td>\n",
       "      <td>1</td>\n",
       "      <td>1</td>\n",
       "      <td>ultra</td>\n",
       "    </tr>\n",
       "  </tbody>\n",
       "</table>\n",
       "</div>"
      ],
      "text/plain": [
       "   messages_included  mb_per_month_included  minutes_included  \\\n",
       "0                 50                  15360               500   \n",
       "1               1000                  30720              3000   \n",
       "\n",
       "   rub_monthly_fee  rub_per_gb  rub_per_message  rub_per_minute tariff  \n",
       "0              550         200                3               3  smart  \n",
       "1             1950         150                1               1  ultra  "
      ]
     },
     "execution_count": 20,
     "metadata": {},
     "output_type": "execute_result"
    }
   ],
   "source": [
    "tariffs = tariffs.rename(\n",
    "    columns={\n",
    "        'tariff_name': 'tariff',\n",
    "    }\n",
    ")\n",
    "tariffs"
   ]
  },
  {
   "cell_type": "markdown",
   "metadata": {},
   "source": [
    "### Работа с users"
   ]
  },
  {
   "cell_type": "code",
   "execution_count": 21,
   "metadata": {},
   "outputs": [
    {
     "data": {
      "text/html": [
       "<div>\n",
       "<style scoped>\n",
       "    .dataframe tbody tr th:only-of-type {\n",
       "        vertical-align: middle;\n",
       "    }\n",
       "\n",
       "    .dataframe tbody tr th {\n",
       "        vertical-align: top;\n",
       "    }\n",
       "\n",
       "    .dataframe thead th {\n",
       "        text-align: right;\n",
       "    }\n",
       "</style>\n",
       "<table border=\"1\" class=\"dataframe\">\n",
       "  <thead>\n",
       "    <tr style=\"text-align: right;\">\n",
       "      <th></th>\n",
       "      <th>user_id</th>\n",
       "      <th>age</th>\n",
       "      <th>churn_date</th>\n",
       "      <th>city</th>\n",
       "      <th>first_name</th>\n",
       "      <th>last_name</th>\n",
       "      <th>reg_date</th>\n",
       "      <th>tariff</th>\n",
       "    </tr>\n",
       "  </thead>\n",
       "  <tbody>\n",
       "    <tr>\n",
       "      <th>0</th>\n",
       "      <td>1000</td>\n",
       "      <td>52</td>\n",
       "      <td>NaN</td>\n",
       "      <td>Краснодар</td>\n",
       "      <td>Рафаил</td>\n",
       "      <td>Верещагин</td>\n",
       "      <td>2018-05-25</td>\n",
       "      <td>ultra</td>\n",
       "    </tr>\n",
       "    <tr>\n",
       "      <th>1</th>\n",
       "      <td>1001</td>\n",
       "      <td>41</td>\n",
       "      <td>NaN</td>\n",
       "      <td>Москва</td>\n",
       "      <td>Иван</td>\n",
       "      <td>Ежов</td>\n",
       "      <td>2018-11-01</td>\n",
       "      <td>smart</td>\n",
       "    </tr>\n",
       "    <tr>\n",
       "      <th>2</th>\n",
       "      <td>1002</td>\n",
       "      <td>59</td>\n",
       "      <td>NaN</td>\n",
       "      <td>Стерлитамак</td>\n",
       "      <td>Евгений</td>\n",
       "      <td>Абрамович</td>\n",
       "      <td>2018-06-17</td>\n",
       "      <td>smart</td>\n",
       "    </tr>\n",
       "    <tr>\n",
       "      <th>3</th>\n",
       "      <td>1003</td>\n",
       "      <td>23</td>\n",
       "      <td>NaN</td>\n",
       "      <td>Москва</td>\n",
       "      <td>Белла</td>\n",
       "      <td>Белякова</td>\n",
       "      <td>2018-08-17</td>\n",
       "      <td>ultra</td>\n",
       "    </tr>\n",
       "    <tr>\n",
       "      <th>4</th>\n",
       "      <td>1004</td>\n",
       "      <td>68</td>\n",
       "      <td>NaN</td>\n",
       "      <td>Новокузнецк</td>\n",
       "      <td>Татьяна</td>\n",
       "      <td>Авдеенко</td>\n",
       "      <td>2018-05-14</td>\n",
       "      <td>ultra</td>\n",
       "    </tr>\n",
       "    <tr>\n",
       "      <th>5</th>\n",
       "      <td>1005</td>\n",
       "      <td>67</td>\n",
       "      <td>NaN</td>\n",
       "      <td>Набережные Челны</td>\n",
       "      <td>Афанасий</td>\n",
       "      <td>Горлов</td>\n",
       "      <td>2018-01-25</td>\n",
       "      <td>smart</td>\n",
       "    </tr>\n",
       "    <tr>\n",
       "      <th>6</th>\n",
       "      <td>1006</td>\n",
       "      <td>21</td>\n",
       "      <td>NaN</td>\n",
       "      <td>Ульяновск</td>\n",
       "      <td>Леонид</td>\n",
       "      <td>Ермолаев</td>\n",
       "      <td>2018-02-26</td>\n",
       "      <td>smart</td>\n",
       "    </tr>\n",
       "    <tr>\n",
       "      <th>7</th>\n",
       "      <td>1007</td>\n",
       "      <td>65</td>\n",
       "      <td>NaN</td>\n",
       "      <td>Москва</td>\n",
       "      <td>Юна</td>\n",
       "      <td>Березина</td>\n",
       "      <td>2018-04-19</td>\n",
       "      <td>smart</td>\n",
       "    </tr>\n",
       "    <tr>\n",
       "      <th>8</th>\n",
       "      <td>1008</td>\n",
       "      <td>63</td>\n",
       "      <td>NaN</td>\n",
       "      <td>Челябинск</td>\n",
       "      <td>Рустэм</td>\n",
       "      <td>Пономарёв</td>\n",
       "      <td>2018-12-19</td>\n",
       "      <td>smart</td>\n",
       "    </tr>\n",
       "    <tr>\n",
       "      <th>9</th>\n",
       "      <td>1009</td>\n",
       "      <td>24</td>\n",
       "      <td>NaN</td>\n",
       "      <td>Пермь</td>\n",
       "      <td>Василиса</td>\n",
       "      <td>Блинова</td>\n",
       "      <td>2018-03-22</td>\n",
       "      <td>smart</td>\n",
       "    </tr>\n",
       "  </tbody>\n",
       "</table>\n",
       "</div>"
      ],
      "text/plain": [
       "   user_id  age churn_date              city first_name  last_name  \\\n",
       "0     1000   52        NaN         Краснодар     Рафаил  Верещагин   \n",
       "1     1001   41        NaN            Москва       Иван       Ежов   \n",
       "2     1002   59        NaN       Стерлитамак    Евгений  Абрамович   \n",
       "3     1003   23        NaN            Москва      Белла   Белякова   \n",
       "4     1004   68        NaN       Новокузнецк    Татьяна   Авдеенко   \n",
       "5     1005   67        NaN  Набережные Челны   Афанасий     Горлов   \n",
       "6     1006   21        NaN         Ульяновск     Леонид   Ермолаев   \n",
       "7     1007   65        NaN            Москва        Юна   Березина   \n",
       "8     1008   63        NaN         Челябинск     Рустэм  Пономарёв   \n",
       "9     1009   24        NaN             Пермь   Василиса    Блинова   \n",
       "\n",
       "     reg_date tariff  \n",
       "0  2018-05-25  ultra  \n",
       "1  2018-11-01  smart  \n",
       "2  2018-06-17  smart  \n",
       "3  2018-08-17  ultra  \n",
       "4  2018-05-14  ultra  \n",
       "5  2018-01-25  smart  \n",
       "6  2018-02-26  smart  \n",
       "7  2018-04-19  smart  \n",
       "8  2018-12-19  smart  \n",
       "9  2018-03-22  smart  "
      ]
     },
     "execution_count": 21,
     "metadata": {},
     "output_type": "execute_result"
    }
   ],
   "source": [
    "users.head(10)"
   ]
  },
  {
   "cell_type": "code",
   "execution_count": 22,
   "metadata": {},
   "outputs": [
    {
     "name": "stdout",
     "output_type": "stream",
     "text": [
      "<class 'pandas.core.frame.DataFrame'>\n",
      "RangeIndex: 500 entries, 0 to 499\n",
      "Data columns (total 8 columns):\n",
      " #   Column      Non-Null Count  Dtype \n",
      "---  ------      --------------  ----- \n",
      " 0   user_id     500 non-null    int64 \n",
      " 1   age         500 non-null    int64 \n",
      " 2   churn_date  38 non-null     object\n",
      " 3   city        500 non-null    object\n",
      " 4   first_name  500 non-null    object\n",
      " 5   last_name   500 non-null    object\n",
      " 6   reg_date    500 non-null    object\n",
      " 7   tariff      500 non-null    object\n",
      "dtypes: int64(2), object(6)\n",
      "memory usage: 31.4+ KB\n"
     ]
    }
   ],
   "source": [
    "users.info()"
   ]
  },
  {
   "cell_type": "code",
   "execution_count": 23,
   "metadata": {},
   "outputs": [],
   "source": [
    "users['reg_date'] = pd.to_datetime(users['reg_date'], format='%Y.%m.%d')"
   ]
  },
  {
   "cell_type": "markdown",
   "metadata": {},
   "source": [
    "В данном датафрейме много значений, которые нам не понадобятся для дальнейших исследований. Создадим на его основе датафрейм, куда поместим необходимые нам значения."
   ]
  },
  {
   "cell_type": "code",
   "execution_count": 24,
   "metadata": {},
   "outputs": [
    {
     "data": {
      "text/html": [
       "<div>\n",
       "<style scoped>\n",
       "    .dataframe tbody tr th:only-of-type {\n",
       "        vertical-align: middle;\n",
       "    }\n",
       "\n",
       "    .dataframe tbody tr th {\n",
       "        vertical-align: top;\n",
       "    }\n",
       "\n",
       "    .dataframe thead th {\n",
       "        text-align: right;\n",
       "    }\n",
       "</style>\n",
       "<table border=\"1\" class=\"dataframe\">\n",
       "  <thead>\n",
       "    <tr style=\"text-align: right;\">\n",
       "      <th></th>\n",
       "      <th>user_id</th>\n",
       "      <th>tariff</th>\n",
       "    </tr>\n",
       "  </thead>\n",
       "  <tbody>\n",
       "    <tr>\n",
       "      <th>0</th>\n",
       "      <td>1000</td>\n",
       "      <td>ultra</td>\n",
       "    </tr>\n",
       "    <tr>\n",
       "      <th>1</th>\n",
       "      <td>1001</td>\n",
       "      <td>smart</td>\n",
       "    </tr>\n",
       "    <tr>\n",
       "      <th>2</th>\n",
       "      <td>1002</td>\n",
       "      <td>smart</td>\n",
       "    </tr>\n",
       "    <tr>\n",
       "      <th>3</th>\n",
       "      <td>1003</td>\n",
       "      <td>ultra</td>\n",
       "    </tr>\n",
       "    <tr>\n",
       "      <th>4</th>\n",
       "      <td>1004</td>\n",
       "      <td>ultra</td>\n",
       "    </tr>\n",
       "    <tr>\n",
       "      <th>...</th>\n",
       "      <td>...</td>\n",
       "      <td>...</td>\n",
       "    </tr>\n",
       "    <tr>\n",
       "      <th>495</th>\n",
       "      <td>1495</td>\n",
       "      <td>ultra</td>\n",
       "    </tr>\n",
       "    <tr>\n",
       "      <th>496</th>\n",
       "      <td>1496</td>\n",
       "      <td>smart</td>\n",
       "    </tr>\n",
       "    <tr>\n",
       "      <th>497</th>\n",
       "      <td>1497</td>\n",
       "      <td>smart</td>\n",
       "    </tr>\n",
       "    <tr>\n",
       "      <th>498</th>\n",
       "      <td>1498</td>\n",
       "      <td>smart</td>\n",
       "    </tr>\n",
       "    <tr>\n",
       "      <th>499</th>\n",
       "      <td>1499</td>\n",
       "      <td>smart</td>\n",
       "    </tr>\n",
       "  </tbody>\n",
       "</table>\n",
       "<p>500 rows × 2 columns</p>\n",
       "</div>"
      ],
      "text/plain": [
       "     user_id tariff\n",
       "0       1000  ultra\n",
       "1       1001  smart\n",
       "2       1002  smart\n",
       "3       1003  ultra\n",
       "4       1004  ultra\n",
       "..       ...    ...\n",
       "495     1495  ultra\n",
       "496     1496  smart\n",
       "497     1497  smart\n",
       "498     1498  smart\n",
       "499     1499  smart\n",
       "\n",
       "[500 rows x 2 columns]"
      ]
     },
     "execution_count": 24,
     "metadata": {},
     "output_type": "execute_result"
    }
   ],
   "source": [
    "users_df = users[['user_id', 'tariff']]\n",
    "users_df"
   ]
  },
  {
   "cell_type": "markdown",
   "metadata": {},
   "source": [
    "Присоединив ранее созданный датафрейм с месяцами, мы добавляем их к users."
   ]
  },
  {
   "cell_type": "markdown",
   "metadata": {},
   "source": [
    "users_df = users_df.merge(calls_month, on='user_id')\n",
    "users_df"
   ]
  },
  {
   "cell_type": "code",
   "execution_count": 25,
   "metadata": {},
   "outputs": [
    {
     "data": {
      "text/plain": [
       "0"
      ]
     },
     "execution_count": 25,
     "metadata": {},
     "output_type": "execute_result"
    }
   ],
   "source": [
    "users.duplicated().sum()"
   ]
  },
  {
   "cell_type": "markdown",
   "metadata": {},
   "source": [
    "## Подготовка данных"
   ]
  },
  {
   "cell_type": "markdown",
   "metadata": {},
   "source": [
    "### Количество сделанных звонков и израсходованных минут разговора по месяцам"
   ]
  },
  {
   "cell_type": "markdown",
   "metadata": {},
   "source": [
    "Поскольку после сглаживания мультииндексов мы получим одинаковые наименования двух столбцов с количеством звонков и их продолжительностью, продублируем столбец duration под другим именем."
   ]
  },
  {
   "cell_type": "markdown",
   "metadata": {},
   "source": [
    "Помимо этого, необходимо округлить время звонков:"
   ]
  },
  {
   "cell_type": "code",
   "execution_count": 26,
   "metadata": {},
   "outputs": [
    {
     "data": {
      "text/html": [
       "<div>\n",
       "<style scoped>\n",
       "    .dataframe tbody tr th:only-of-type {\n",
       "        vertical-align: middle;\n",
       "    }\n",
       "\n",
       "    .dataframe tbody tr th {\n",
       "        vertical-align: top;\n",
       "    }\n",
       "\n",
       "    .dataframe thead th {\n",
       "        text-align: right;\n",
       "    }\n",
       "</style>\n",
       "<table border=\"1\" class=\"dataframe\">\n",
       "  <thead>\n",
       "    <tr style=\"text-align: right;\">\n",
       "      <th></th>\n",
       "      <th>id</th>\n",
       "      <th>call_date</th>\n",
       "      <th>user_id</th>\n",
       "      <th>month</th>\n",
       "      <th>minutes</th>\n",
       "    </tr>\n",
       "  </thead>\n",
       "  <tbody>\n",
       "    <tr>\n",
       "      <th>0</th>\n",
       "      <td>1000_0</td>\n",
       "      <td>2018-07-25</td>\n",
       "      <td>1000</td>\n",
       "      <td>7</td>\n",
       "      <td>0</td>\n",
       "    </tr>\n",
       "    <tr>\n",
       "      <th>1</th>\n",
       "      <td>1000_1</td>\n",
       "      <td>2018-08-17</td>\n",
       "      <td>1000</td>\n",
       "      <td>8</td>\n",
       "      <td>0</td>\n",
       "    </tr>\n",
       "    <tr>\n",
       "      <th>2</th>\n",
       "      <td>1000_2</td>\n",
       "      <td>2018-06-11</td>\n",
       "      <td>1000</td>\n",
       "      <td>6</td>\n",
       "      <td>3</td>\n",
       "    </tr>\n",
       "    <tr>\n",
       "      <th>3</th>\n",
       "      <td>1000_3</td>\n",
       "      <td>2018-09-21</td>\n",
       "      <td>1000</td>\n",
       "      <td>9</td>\n",
       "      <td>14</td>\n",
       "    </tr>\n",
       "    <tr>\n",
       "      <th>4</th>\n",
       "      <td>1000_4</td>\n",
       "      <td>2018-12-15</td>\n",
       "      <td>1000</td>\n",
       "      <td>12</td>\n",
       "      <td>6</td>\n",
       "    </tr>\n",
       "    <tr>\n",
       "      <th>5</th>\n",
       "      <td>1000_5</td>\n",
       "      <td>2018-11-02</td>\n",
       "      <td>1000</td>\n",
       "      <td>11</td>\n",
       "      <td>0</td>\n",
       "    </tr>\n",
       "    <tr>\n",
       "      <th>6</th>\n",
       "      <td>1000_6</td>\n",
       "      <td>2018-10-18</td>\n",
       "      <td>1000</td>\n",
       "      <td>10</td>\n",
       "      <td>0</td>\n",
       "    </tr>\n",
       "    <tr>\n",
       "      <th>7</th>\n",
       "      <td>1000_7</td>\n",
       "      <td>2018-08-22</td>\n",
       "      <td>1000</td>\n",
       "      <td>8</td>\n",
       "      <td>19</td>\n",
       "    </tr>\n",
       "    <tr>\n",
       "      <th>8</th>\n",
       "      <td>1000_8</td>\n",
       "      <td>2018-09-15</td>\n",
       "      <td>1000</td>\n",
       "      <td>9</td>\n",
       "      <td>19</td>\n",
       "    </tr>\n",
       "    <tr>\n",
       "      <th>9</th>\n",
       "      <td>1000_9</td>\n",
       "      <td>2018-08-15</td>\n",
       "      <td>1000</td>\n",
       "      <td>8</td>\n",
       "      <td>0</td>\n",
       "    </tr>\n",
       "  </tbody>\n",
       "</table>\n",
       "</div>"
      ],
      "text/plain": [
       "       id  call_date  user_id  month  minutes\n",
       "0  1000_0 2018-07-25     1000      7        0\n",
       "1  1000_1 2018-08-17     1000      8        0\n",
       "2  1000_2 2018-06-11     1000      6        3\n",
       "3  1000_3 2018-09-21     1000      9       14\n",
       "4  1000_4 2018-12-15     1000     12        6\n",
       "5  1000_5 2018-11-02     1000     11        0\n",
       "6  1000_6 2018-10-18     1000     10        0\n",
       "7  1000_7 2018-08-22     1000      8       19\n",
       "8  1000_8 2018-09-15     1000      9       19\n",
       "9  1000_9 2018-08-15     1000      8        0"
      ]
     },
     "execution_count": 26,
     "metadata": {},
     "output_type": "execute_result"
    }
   ],
   "source": [
    "import math\n",
    "def upgrade(duration):\n",
    "    duration = math.ceil(duration)\n",
    "    return duration\n",
    "\n",
    "calls['minutes'] = calls['duration'].apply(upgrade)\n",
    "calls = calls.drop(['duration'], axis=1)\n",
    "calls.head(10)"
   ]
  },
  {
   "cell_type": "code",
   "execution_count": 27,
   "metadata": {},
   "outputs": [],
   "source": [
    "calls['calls_count'] = calls['minutes']"
   ]
  },
  {
   "cell_type": "markdown",
   "metadata": {},
   "source": [
    "На этой основе создадим сводные таблицы для обоих значений."
   ]
  },
  {
   "cell_type": "code",
   "execution_count": 28,
   "metadata": {},
   "outputs": [
    {
     "data": {
      "text/html": [
       "<div>\n",
       "<style scoped>\n",
       "    .dataframe tbody tr th:only-of-type {\n",
       "        vertical-align: middle;\n",
       "    }\n",
       "\n",
       "    .dataframe tbody tr th {\n",
       "        vertical-align: top;\n",
       "    }\n",
       "\n",
       "    .dataframe thead tr th {\n",
       "        text-align: left;\n",
       "    }\n",
       "\n",
       "    .dataframe thead tr:last-of-type th {\n",
       "        text-align: right;\n",
       "    }\n",
       "</style>\n",
       "<table border=\"1\" class=\"dataframe\">\n",
       "  <thead>\n",
       "    <tr>\n",
       "      <th></th>\n",
       "      <th></th>\n",
       "      <th>sum</th>\n",
       "    </tr>\n",
       "    <tr>\n",
       "      <th></th>\n",
       "      <th></th>\n",
       "      <th>minutes</th>\n",
       "    </tr>\n",
       "    <tr>\n",
       "      <th>user_id</th>\n",
       "      <th>month</th>\n",
       "      <th></th>\n",
       "    </tr>\n",
       "  </thead>\n",
       "  <tbody>\n",
       "    <tr>\n",
       "      <th rowspan=\"8\" valign=\"top\">1000</th>\n",
       "      <th>5</th>\n",
       "      <td>159</td>\n",
       "    </tr>\n",
       "    <tr>\n",
       "      <th>6</th>\n",
       "      <td>172</td>\n",
       "    </tr>\n",
       "    <tr>\n",
       "      <th>7</th>\n",
       "      <td>340</td>\n",
       "    </tr>\n",
       "    <tr>\n",
       "      <th>8</th>\n",
       "      <td>408</td>\n",
       "    </tr>\n",
       "    <tr>\n",
       "      <th>9</th>\n",
       "      <td>466</td>\n",
       "    </tr>\n",
       "    <tr>\n",
       "      <th>10</th>\n",
       "      <td>350</td>\n",
       "    </tr>\n",
       "    <tr>\n",
       "      <th>11</th>\n",
       "      <td>338</td>\n",
       "    </tr>\n",
       "    <tr>\n",
       "      <th>12</th>\n",
       "      <td>333</td>\n",
       "    </tr>\n",
       "    <tr>\n",
       "      <th rowspan=\"2\" valign=\"top\">1001</th>\n",
       "      <th>11</th>\n",
       "      <td>430</td>\n",
       "    </tr>\n",
       "    <tr>\n",
       "      <th>12</th>\n",
       "      <td>414</td>\n",
       "    </tr>\n",
       "  </tbody>\n",
       "</table>\n",
       "</div>"
      ],
      "text/plain": [
       "                  sum\n",
       "              minutes\n",
       "user_id month        \n",
       "1000    5         159\n",
       "        6         172\n",
       "        7         340\n",
       "        8         408\n",
       "        9         466\n",
       "        10        350\n",
       "        11        338\n",
       "        12        333\n",
       "1001    11        430\n",
       "        12        414"
      ]
     },
     "execution_count": 28,
     "metadata": {},
     "output_type": "execute_result"
    }
   ],
   "source": [
    "calls_pt_sum = calls.pivot_table(index=['user_id', 'month'], values=['minutes'], aggfunc=['sum'])\n",
    "calls_pt_count = calls.pivot_table(index=['user_id', 'month'], values=['calls_count'], aggfunc=['count'])                                                                                         \n",
    "calls_pt_sum.head(10)"
   ]
  },
  {
   "cell_type": "code",
   "execution_count": 29,
   "metadata": {},
   "outputs": [
    {
     "data": {
      "text/html": [
       "<div>\n",
       "<style scoped>\n",
       "    .dataframe tbody tr th:only-of-type {\n",
       "        vertical-align: middle;\n",
       "    }\n",
       "\n",
       "    .dataframe tbody tr th {\n",
       "        vertical-align: top;\n",
       "    }\n",
       "\n",
       "    .dataframe thead th {\n",
       "        text-align: right;\n",
       "    }\n",
       "</style>\n",
       "<table border=\"1\" class=\"dataframe\">\n",
       "  <thead>\n",
       "    <tr style=\"text-align: right;\">\n",
       "      <th></th>\n",
       "      <th></th>\n",
       "      <th>sum</th>\n",
       "      <th>count</th>\n",
       "    </tr>\n",
       "    <tr>\n",
       "      <th>user_id</th>\n",
       "      <th>month</th>\n",
       "      <th></th>\n",
       "      <th></th>\n",
       "    </tr>\n",
       "  </thead>\n",
       "  <tbody>\n",
       "    <tr>\n",
       "      <th rowspan=\"5\" valign=\"top\">1000</th>\n",
       "      <th>5</th>\n",
       "      <td>159</td>\n",
       "      <td>22</td>\n",
       "    </tr>\n",
       "    <tr>\n",
       "      <th>6</th>\n",
       "      <td>172</td>\n",
       "      <td>43</td>\n",
       "    </tr>\n",
       "    <tr>\n",
       "      <th>7</th>\n",
       "      <td>340</td>\n",
       "      <td>47</td>\n",
       "    </tr>\n",
       "    <tr>\n",
       "      <th>8</th>\n",
       "      <td>408</td>\n",
       "      <td>52</td>\n",
       "    </tr>\n",
       "    <tr>\n",
       "      <th>9</th>\n",
       "      <td>466</td>\n",
       "      <td>58</td>\n",
       "    </tr>\n",
       "    <tr>\n",
       "      <th>...</th>\n",
       "      <th>...</th>\n",
       "      <td>...</td>\n",
       "      <td>...</td>\n",
       "    </tr>\n",
       "    <tr>\n",
       "      <th>1498</th>\n",
       "      <th>10</th>\n",
       "      <td>247</td>\n",
       "      <td>41</td>\n",
       "    </tr>\n",
       "    <tr>\n",
       "      <th rowspan=\"4\" valign=\"top\">1499</th>\n",
       "      <th>9</th>\n",
       "      <td>70</td>\n",
       "      <td>9</td>\n",
       "    </tr>\n",
       "    <tr>\n",
       "      <th>10</th>\n",
       "      <td>449</td>\n",
       "      <td>68</td>\n",
       "    </tr>\n",
       "    <tr>\n",
       "      <th>11</th>\n",
       "      <td>612</td>\n",
       "      <td>74</td>\n",
       "    </tr>\n",
       "    <tr>\n",
       "      <th>12</th>\n",
       "      <td>492</td>\n",
       "      <td>69</td>\n",
       "    </tr>\n",
       "  </tbody>\n",
       "</table>\n",
       "<p>3174 rows × 2 columns</p>\n",
       "</div>"
      ],
      "text/plain": [
       "               sum  count\n",
       "user_id month            \n",
       "1000    5      159     22\n",
       "        6      172     43\n",
       "        7      340     47\n",
       "        8      408     52\n",
       "        9      466     58\n",
       "...            ...    ...\n",
       "1498    10     247     41\n",
       "1499    9       70      9\n",
       "        10     449     68\n",
       "        11     612     74\n",
       "        12     492     69\n",
       "\n",
       "[3174 rows x 2 columns]"
      ]
     },
     "execution_count": 29,
     "metadata": {},
     "output_type": "execute_result"
    }
   ],
   "source": [
    "# axis = 1 - сброс мультииндекса в столбцах, axis = 0 - сброс в строках.\n",
    "# level = 0 - сброс верхнего, level = 1 - сброс следующего и т.д.\n",
    "\n",
    "calls.pivot_table(index=['user_id', 'month'], values=['minutes'], aggfunc=['sum', 'count']).droplevel(level=1, axis=1)"
   ]
  },
  {
   "cell_type": "code",
   "execution_count": 30,
   "metadata": {},
   "outputs": [
    {
     "data": {
      "text/html": [
       "<div>\n",
       "<style scoped>\n",
       "    .dataframe tbody tr th:only-of-type {\n",
       "        vertical-align: middle;\n",
       "    }\n",
       "\n",
       "    .dataframe tbody tr th {\n",
       "        vertical-align: top;\n",
       "    }\n",
       "\n",
       "    .dataframe thead th {\n",
       "        text-align: right;\n",
       "    }\n",
       "</style>\n",
       "<table border=\"1\" class=\"dataframe\">\n",
       "  <thead>\n",
       "    <tr style=\"text-align: right;\">\n",
       "      <th></th>\n",
       "      <th></th>\n",
       "      <th>sum</th>\n",
       "      <th>count</th>\n",
       "    </tr>\n",
       "    <tr>\n",
       "      <th>user_id</th>\n",
       "      <th>month</th>\n",
       "      <th></th>\n",
       "      <th></th>\n",
       "    </tr>\n",
       "  </thead>\n",
       "  <tbody>\n",
       "    <tr>\n",
       "      <th rowspan=\"5\" valign=\"top\">1000</th>\n",
       "      <th>5</th>\n",
       "      <td>159</td>\n",
       "      <td>22</td>\n",
       "    </tr>\n",
       "    <tr>\n",
       "      <th>6</th>\n",
       "      <td>172</td>\n",
       "      <td>43</td>\n",
       "    </tr>\n",
       "    <tr>\n",
       "      <th>7</th>\n",
       "      <td>340</td>\n",
       "      <td>47</td>\n",
       "    </tr>\n",
       "    <tr>\n",
       "      <th>8</th>\n",
       "      <td>408</td>\n",
       "      <td>52</td>\n",
       "    </tr>\n",
       "    <tr>\n",
       "      <th>9</th>\n",
       "      <td>466</td>\n",
       "      <td>58</td>\n",
       "    </tr>\n",
       "    <tr>\n",
       "      <th>...</th>\n",
       "      <th>...</th>\n",
       "      <td>...</td>\n",
       "      <td>...</td>\n",
       "    </tr>\n",
       "    <tr>\n",
       "      <th>1498</th>\n",
       "      <th>10</th>\n",
       "      <td>247</td>\n",
       "      <td>41</td>\n",
       "    </tr>\n",
       "    <tr>\n",
       "      <th rowspan=\"4\" valign=\"top\">1499</th>\n",
       "      <th>9</th>\n",
       "      <td>70</td>\n",
       "      <td>9</td>\n",
       "    </tr>\n",
       "    <tr>\n",
       "      <th>10</th>\n",
       "      <td>449</td>\n",
       "      <td>68</td>\n",
       "    </tr>\n",
       "    <tr>\n",
       "      <th>11</th>\n",
       "      <td>612</td>\n",
       "      <td>74</td>\n",
       "    </tr>\n",
       "    <tr>\n",
       "      <th>12</th>\n",
       "      <td>492</td>\n",
       "      <td>69</td>\n",
       "    </tr>\n",
       "  </tbody>\n",
       "</table>\n",
       "<p>3174 rows × 2 columns</p>\n",
       "</div>"
      ],
      "text/plain": [
       "               sum  count\n",
       "user_id month            \n",
       "1000    5      159     22\n",
       "        6      172     43\n",
       "        7      340     47\n",
       "        8      408     52\n",
       "        9      466     58\n",
       "...            ...    ...\n",
       "1498    10     247     41\n",
       "1499    9       70      9\n",
       "        10     449     68\n",
       "        11     612     74\n",
       "        12     492     69\n",
       "\n",
       "[3174 rows x 2 columns]"
      ]
     },
     "execution_count": 30,
     "metadata": {},
     "output_type": "execute_result"
    }
   ],
   "source": [
    "calls.groupby(['user_id', 'month'])['minutes'].agg(['sum', 'count'])"
   ]
  },
  {
   "cell_type": "code",
   "execution_count": 31,
   "metadata": {},
   "outputs": [
    {
     "data": {
      "text/html": [
       "<div>\n",
       "<style scoped>\n",
       "    .dataframe tbody tr th:only-of-type {\n",
       "        vertical-align: middle;\n",
       "    }\n",
       "\n",
       "    .dataframe tbody tr th {\n",
       "        vertical-align: top;\n",
       "    }\n",
       "\n",
       "    .dataframe thead tr th {\n",
       "        text-align: left;\n",
       "    }\n",
       "\n",
       "    .dataframe thead tr:last-of-type th {\n",
       "        text-align: right;\n",
       "    }\n",
       "</style>\n",
       "<table border=\"1\" class=\"dataframe\">\n",
       "  <thead>\n",
       "    <tr>\n",
       "      <th></th>\n",
       "      <th></th>\n",
       "      <th>sum</th>\n",
       "      <th>count</th>\n",
       "    </tr>\n",
       "    <tr>\n",
       "      <th></th>\n",
       "      <th></th>\n",
       "      <th>minutes</th>\n",
       "      <th>minutes</th>\n",
       "    </tr>\n",
       "    <tr>\n",
       "      <th>user_id</th>\n",
       "      <th>month</th>\n",
       "      <th></th>\n",
       "      <th></th>\n",
       "    </tr>\n",
       "  </thead>\n",
       "  <tbody>\n",
       "    <tr>\n",
       "      <th rowspan=\"5\" valign=\"top\">1000</th>\n",
       "      <th>5</th>\n",
       "      <td>159</td>\n",
       "      <td>22</td>\n",
       "    </tr>\n",
       "    <tr>\n",
       "      <th>6</th>\n",
       "      <td>172</td>\n",
       "      <td>43</td>\n",
       "    </tr>\n",
       "    <tr>\n",
       "      <th>7</th>\n",
       "      <td>340</td>\n",
       "      <td>47</td>\n",
       "    </tr>\n",
       "    <tr>\n",
       "      <th>8</th>\n",
       "      <td>408</td>\n",
       "      <td>52</td>\n",
       "    </tr>\n",
       "    <tr>\n",
       "      <th>9</th>\n",
       "      <td>466</td>\n",
       "      <td>58</td>\n",
       "    </tr>\n",
       "    <tr>\n",
       "      <th>...</th>\n",
       "      <th>...</th>\n",
       "      <td>...</td>\n",
       "      <td>...</td>\n",
       "    </tr>\n",
       "    <tr>\n",
       "      <th>1498</th>\n",
       "      <th>10</th>\n",
       "      <td>247</td>\n",
       "      <td>41</td>\n",
       "    </tr>\n",
       "    <tr>\n",
       "      <th rowspan=\"4\" valign=\"top\">1499</th>\n",
       "      <th>9</th>\n",
       "      <td>70</td>\n",
       "      <td>9</td>\n",
       "    </tr>\n",
       "    <tr>\n",
       "      <th>10</th>\n",
       "      <td>449</td>\n",
       "      <td>68</td>\n",
       "    </tr>\n",
       "    <tr>\n",
       "      <th>11</th>\n",
       "      <td>612</td>\n",
       "      <td>74</td>\n",
       "    </tr>\n",
       "    <tr>\n",
       "      <th>12</th>\n",
       "      <td>492</td>\n",
       "      <td>69</td>\n",
       "    </tr>\n",
       "  </tbody>\n",
       "</table>\n",
       "<p>3174 rows × 2 columns</p>\n",
       "</div>"
      ],
      "text/plain": [
       "                  sum   count\n",
       "              minutes minutes\n",
       "user_id month                \n",
       "1000    5         159      22\n",
       "        6         172      43\n",
       "        7         340      47\n",
       "        8         408      52\n",
       "        9         466      58\n",
       "...               ...     ...\n",
       "1498    10        247      41\n",
       "1499    9          70       9\n",
       "        10        449      68\n",
       "        11        612      74\n",
       "        12        492      69\n",
       "\n",
       "[3174 rows x 2 columns]"
      ]
     },
     "execution_count": 31,
     "metadata": {},
     "output_type": "execute_result"
    }
   ],
   "source": [
    "calls.pivot_table(index=['user_id', 'month'], values=['minutes'], aggfunc=['sum', 'count'])"
   ]
  },
  {
   "cell_type": "code",
   "execution_count": 32,
   "metadata": {},
   "outputs": [
    {
     "data": {
      "text/html": [
       "<div>\n",
       "<style scoped>\n",
       "    .dataframe tbody tr th:only-of-type {\n",
       "        vertical-align: middle;\n",
       "    }\n",
       "\n",
       "    .dataframe tbody tr th {\n",
       "        vertical-align: top;\n",
       "    }\n",
       "\n",
       "    .dataframe thead tr th {\n",
       "        text-align: left;\n",
       "    }\n",
       "\n",
       "    .dataframe thead tr:last-of-type th {\n",
       "        text-align: right;\n",
       "    }\n",
       "</style>\n",
       "<table border=\"1\" class=\"dataframe\">\n",
       "  <thead>\n",
       "    <tr>\n",
       "      <th></th>\n",
       "      <th></th>\n",
       "      <th>count</th>\n",
       "    </tr>\n",
       "    <tr>\n",
       "      <th></th>\n",
       "      <th></th>\n",
       "      <th>calls_count</th>\n",
       "    </tr>\n",
       "    <tr>\n",
       "      <th>user_id</th>\n",
       "      <th>month</th>\n",
       "      <th></th>\n",
       "    </tr>\n",
       "  </thead>\n",
       "  <tbody>\n",
       "    <tr>\n",
       "      <th rowspan=\"8\" valign=\"top\">1000</th>\n",
       "      <th>5</th>\n",
       "      <td>22</td>\n",
       "    </tr>\n",
       "    <tr>\n",
       "      <th>6</th>\n",
       "      <td>43</td>\n",
       "    </tr>\n",
       "    <tr>\n",
       "      <th>7</th>\n",
       "      <td>47</td>\n",
       "    </tr>\n",
       "    <tr>\n",
       "      <th>8</th>\n",
       "      <td>52</td>\n",
       "    </tr>\n",
       "    <tr>\n",
       "      <th>9</th>\n",
       "      <td>58</td>\n",
       "    </tr>\n",
       "    <tr>\n",
       "      <th>10</th>\n",
       "      <td>57</td>\n",
       "    </tr>\n",
       "    <tr>\n",
       "      <th>11</th>\n",
       "      <td>43</td>\n",
       "    </tr>\n",
       "    <tr>\n",
       "      <th>12</th>\n",
       "      <td>46</td>\n",
       "    </tr>\n",
       "    <tr>\n",
       "      <th rowspan=\"2\" valign=\"top\">1001</th>\n",
       "      <th>11</th>\n",
       "      <td>59</td>\n",
       "    </tr>\n",
       "    <tr>\n",
       "      <th>12</th>\n",
       "      <td>63</td>\n",
       "    </tr>\n",
       "  </tbody>\n",
       "</table>\n",
       "</div>"
      ],
      "text/plain": [
       "                    count\n",
       "              calls_count\n",
       "user_id month            \n",
       "1000    5              22\n",
       "        6              43\n",
       "        7              47\n",
       "        8              52\n",
       "        9              58\n",
       "        10             57\n",
       "        11             43\n",
       "        12             46\n",
       "1001    11             59\n",
       "        12             63"
      ]
     },
     "execution_count": 32,
     "metadata": {},
     "output_type": "execute_result"
    }
   ],
   "source": [
    "calls_pt_count.head(10)"
   ]
  },
  {
   "cell_type": "markdown",
   "metadata": {},
   "source": [
    "### Количество отправленных сообщений по месяцам"
   ]
  },
  {
   "cell_type": "code",
   "execution_count": 33,
   "metadata": {},
   "outputs": [
    {
     "data": {
      "text/html": [
       "<div>\n",
       "<style scoped>\n",
       "    .dataframe tbody tr th:only-of-type {\n",
       "        vertical-align: middle;\n",
       "    }\n",
       "\n",
       "    .dataframe tbody tr th {\n",
       "        vertical-align: top;\n",
       "    }\n",
       "\n",
       "    .dataframe thead tr th {\n",
       "        text-align: left;\n",
       "    }\n",
       "\n",
       "    .dataframe thead tr:last-of-type th {\n",
       "        text-align: right;\n",
       "    }\n",
       "</style>\n",
       "<table border=\"1\" class=\"dataframe\">\n",
       "  <thead>\n",
       "    <tr>\n",
       "      <th></th>\n",
       "      <th></th>\n",
       "      <th>count</th>\n",
       "    </tr>\n",
       "    <tr>\n",
       "      <th></th>\n",
       "      <th></th>\n",
       "      <th>id</th>\n",
       "    </tr>\n",
       "    <tr>\n",
       "      <th>user_id</th>\n",
       "      <th>month</th>\n",
       "      <th></th>\n",
       "    </tr>\n",
       "  </thead>\n",
       "  <tbody>\n",
       "    <tr>\n",
       "      <th rowspan=\"8\" valign=\"top\">1000</th>\n",
       "      <th>5</th>\n",
       "      <td>22</td>\n",
       "    </tr>\n",
       "    <tr>\n",
       "      <th>6</th>\n",
       "      <td>60</td>\n",
       "    </tr>\n",
       "    <tr>\n",
       "      <th>7</th>\n",
       "      <td>75</td>\n",
       "    </tr>\n",
       "    <tr>\n",
       "      <th>8</th>\n",
       "      <td>81</td>\n",
       "    </tr>\n",
       "    <tr>\n",
       "      <th>9</th>\n",
       "      <td>57</td>\n",
       "    </tr>\n",
       "    <tr>\n",
       "      <th>10</th>\n",
       "      <td>73</td>\n",
       "    </tr>\n",
       "    <tr>\n",
       "      <th>11</th>\n",
       "      <td>58</td>\n",
       "    </tr>\n",
       "    <tr>\n",
       "      <th>12</th>\n",
       "      <td>70</td>\n",
       "    </tr>\n",
       "    <tr>\n",
       "      <th rowspan=\"2\" valign=\"top\">1002</th>\n",
       "      <th>6</th>\n",
       "      <td>4</td>\n",
       "    </tr>\n",
       "    <tr>\n",
       "      <th>7</th>\n",
       "      <td>11</td>\n",
       "    </tr>\n",
       "  </tbody>\n",
       "</table>\n",
       "</div>"
      ],
      "text/plain": [
       "              count\n",
       "                 id\n",
       "user_id month      \n",
       "1000    5        22\n",
       "        6        60\n",
       "        7        75\n",
       "        8        81\n",
       "        9        57\n",
       "        10       73\n",
       "        11       58\n",
       "        12       70\n",
       "1002    6         4\n",
       "        7        11"
      ]
     },
     "execution_count": 33,
     "metadata": {},
     "output_type": "execute_result"
    }
   ],
   "source": [
    "messages_pivot = messages.pivot_table(index=['user_id', 'month'], values=['id'], aggfunc=['count'])\n",
    "messages_pivot.head(10)"
   ]
  },
  {
   "cell_type": "markdown",
   "metadata": {},
   "source": [
    "### Объем израсходованного интернет-трафика по месяцам"
   ]
  },
  {
   "cell_type": "code",
   "execution_count": 34,
   "metadata": {},
   "outputs": [
    {
     "data": {
      "text/html": [
       "<div>\n",
       "<style scoped>\n",
       "    .dataframe tbody tr th:only-of-type {\n",
       "        vertical-align: middle;\n",
       "    }\n",
       "\n",
       "    .dataframe tbody tr th {\n",
       "        vertical-align: top;\n",
       "    }\n",
       "\n",
       "    .dataframe thead tr th {\n",
       "        text-align: left;\n",
       "    }\n",
       "\n",
       "    .dataframe thead tr:last-of-type th {\n",
       "        text-align: right;\n",
       "    }\n",
       "</style>\n",
       "<table border=\"1\" class=\"dataframe\">\n",
       "  <thead>\n",
       "    <tr>\n",
       "      <th></th>\n",
       "      <th></th>\n",
       "      <th>sum</th>\n",
       "    </tr>\n",
       "    <tr>\n",
       "      <th></th>\n",
       "      <th></th>\n",
       "      <th>gb_used</th>\n",
       "    </tr>\n",
       "    <tr>\n",
       "      <th>user_id</th>\n",
       "      <th>month</th>\n",
       "      <th></th>\n",
       "    </tr>\n",
       "  </thead>\n",
       "  <tbody>\n",
       "    <tr>\n",
       "      <th rowspan=\"8\" valign=\"top\">1000</th>\n",
       "      <th>5</th>\n",
       "      <td>2.200674</td>\n",
       "    </tr>\n",
       "    <tr>\n",
       "      <th>6</th>\n",
       "      <td>22.689229</td>\n",
       "    </tr>\n",
       "    <tr>\n",
       "      <th>7</th>\n",
       "      <td>13.675430</td>\n",
       "    </tr>\n",
       "    <tr>\n",
       "      <th>8</th>\n",
       "      <td>13.726494</td>\n",
       "    </tr>\n",
       "    <tr>\n",
       "      <th>9</th>\n",
       "      <td>14.227451</td>\n",
       "    </tr>\n",
       "    <tr>\n",
       "      <th>10</th>\n",
       "      <td>14.357900</td>\n",
       "    </tr>\n",
       "    <tr>\n",
       "      <th>11</th>\n",
       "      <td>14.410615</td>\n",
       "    </tr>\n",
       "    <tr>\n",
       "      <th>12</th>\n",
       "      <td>9.587510</td>\n",
       "    </tr>\n",
       "    <tr>\n",
       "      <th rowspan=\"2\" valign=\"top\">1001</th>\n",
       "      <th>11</th>\n",
       "      <td>17.997402</td>\n",
       "    </tr>\n",
       "    <tr>\n",
       "      <th>12</th>\n",
       "      <td>13.707676</td>\n",
       "    </tr>\n",
       "  </tbody>\n",
       "</table>\n",
       "</div>"
      ],
      "text/plain": [
       "                     sum\n",
       "                 gb_used\n",
       "user_id month           \n",
       "1000    5       2.200674\n",
       "        6      22.689229\n",
       "        7      13.675430\n",
       "        8      13.726494\n",
       "        9      14.227451\n",
       "        10     14.357900\n",
       "        11     14.410615\n",
       "        12      9.587510\n",
       "1001    11     17.997402\n",
       "        12     13.707676"
      ]
     },
     "execution_count": 34,
     "metadata": {},
     "output_type": "execute_result"
    }
   ],
   "source": [
    "internet_pivot = internet.pivot_table(index=['user_id', 'month'], values=['gb_used'], aggfunc=['sum'])\n",
    "internet_pivot.head(10)"
   ]
  },
  {
   "cell_type": "markdown",
   "metadata": {},
   "source": [
    "### Помесячная выручка с каждого пользователя"
   ]
  },
  {
   "cell_type": "markdown",
   "metadata": {},
   "source": [
    "Для нахождения помесячной выручки вычтем бесплатный лимит из суммарного количества звонков, сообщений и интернет-трафика; затем умножим получившиеся данные на значение из тарифного плана; результат прибавим к абонентской плате.\n",
    "\n",
    "Для начала объединим сводные таблицы с нужными данными, а затем произведем вычисления."
   ]
  },
  {
   "cell_type": "code",
   "execution_count": 35,
   "metadata": {},
   "outputs": [
    {
     "data": {
      "text/html": [
       "<div>\n",
       "<style scoped>\n",
       "    .dataframe tbody tr th:only-of-type {\n",
       "        vertical-align: middle;\n",
       "    }\n",
       "\n",
       "    .dataframe tbody tr th {\n",
       "        vertical-align: top;\n",
       "    }\n",
       "\n",
       "    .dataframe thead tr th {\n",
       "        text-align: left;\n",
       "    }\n",
       "\n",
       "    .dataframe thead tr:last-of-type th {\n",
       "        text-align: right;\n",
       "    }\n",
       "</style>\n",
       "<table border=\"1\" class=\"dataframe\">\n",
       "  <thead>\n",
       "    <tr>\n",
       "      <th></th>\n",
       "      <th></th>\n",
       "      <th colspan=\"2\" halign=\"left\">sum</th>\n",
       "    </tr>\n",
       "    <tr>\n",
       "      <th></th>\n",
       "      <th></th>\n",
       "      <th>minutes</th>\n",
       "      <th>gb_used</th>\n",
       "    </tr>\n",
       "    <tr>\n",
       "      <th>user_id</th>\n",
       "      <th>month</th>\n",
       "      <th></th>\n",
       "      <th></th>\n",
       "    </tr>\n",
       "  </thead>\n",
       "  <tbody>\n",
       "    <tr>\n",
       "      <th rowspan=\"8\" valign=\"top\">1000</th>\n",
       "      <th>5</th>\n",
       "      <td>159.0</td>\n",
       "      <td>2.200674</td>\n",
       "    </tr>\n",
       "    <tr>\n",
       "      <th>6</th>\n",
       "      <td>172.0</td>\n",
       "      <td>22.689229</td>\n",
       "    </tr>\n",
       "    <tr>\n",
       "      <th>7</th>\n",
       "      <td>340.0</td>\n",
       "      <td>13.675430</td>\n",
       "    </tr>\n",
       "    <tr>\n",
       "      <th>8</th>\n",
       "      <td>408.0</td>\n",
       "      <td>13.726494</td>\n",
       "    </tr>\n",
       "    <tr>\n",
       "      <th>9</th>\n",
       "      <td>466.0</td>\n",
       "      <td>14.227451</td>\n",
       "    </tr>\n",
       "    <tr>\n",
       "      <th>10</th>\n",
       "      <td>350.0</td>\n",
       "      <td>14.357900</td>\n",
       "    </tr>\n",
       "    <tr>\n",
       "      <th>11</th>\n",
       "      <td>338.0</td>\n",
       "      <td>14.410615</td>\n",
       "    </tr>\n",
       "    <tr>\n",
       "      <th>12</th>\n",
       "      <td>333.0</td>\n",
       "      <td>9.587510</td>\n",
       "    </tr>\n",
       "    <tr>\n",
       "      <th rowspan=\"2\" valign=\"top\">1001</th>\n",
       "      <th>11</th>\n",
       "      <td>430.0</td>\n",
       "      <td>17.997402</td>\n",
       "    </tr>\n",
       "    <tr>\n",
       "      <th>12</th>\n",
       "      <td>414.0</td>\n",
       "      <td>13.707676</td>\n",
       "    </tr>\n",
       "  </tbody>\n",
       "</table>\n",
       "</div>"
      ],
      "text/plain": [
       "                  sum           \n",
       "              minutes    gb_used\n",
       "user_id month                   \n",
       "1000    5       159.0   2.200674\n",
       "        6       172.0  22.689229\n",
       "        7       340.0  13.675430\n",
       "        8       408.0  13.726494\n",
       "        9       466.0  14.227451\n",
       "        10      350.0  14.357900\n",
       "        11      338.0  14.410615\n",
       "        12      333.0   9.587510\n",
       "1001    11      430.0  17.997402\n",
       "        12      414.0  13.707676"
      ]
     },
     "execution_count": 35,
     "metadata": {},
     "output_type": "execute_result"
    }
   ],
   "source": [
    "full = calls_pt_sum.join(internet_pivot, how='outer')\n",
    "full.head(10)"
   ]
  },
  {
   "cell_type": "code",
   "execution_count": 36,
   "metadata": {},
   "outputs": [
    {
     "data": {
      "text/html": [
       "<div>\n",
       "<style scoped>\n",
       "    .dataframe tbody tr th:only-of-type {\n",
       "        vertical-align: middle;\n",
       "    }\n",
       "\n",
       "    .dataframe tbody tr th {\n",
       "        vertical-align: top;\n",
       "    }\n",
       "\n",
       "    .dataframe thead tr th {\n",
       "        text-align: left;\n",
       "    }\n",
       "\n",
       "    .dataframe thead tr:last-of-type th {\n",
       "        text-align: right;\n",
       "    }\n",
       "</style>\n",
       "<table border=\"1\" class=\"dataframe\">\n",
       "  <thead>\n",
       "    <tr>\n",
       "      <th></th>\n",
       "      <th></th>\n",
       "      <th colspan=\"2\" halign=\"left\">sum</th>\n",
       "      <th>count</th>\n",
       "    </tr>\n",
       "    <tr>\n",
       "      <th></th>\n",
       "      <th></th>\n",
       "      <th>minutes</th>\n",
       "      <th>gb_used</th>\n",
       "      <th>calls_count</th>\n",
       "    </tr>\n",
       "    <tr>\n",
       "      <th>user_id</th>\n",
       "      <th>month</th>\n",
       "      <th></th>\n",
       "      <th></th>\n",
       "      <th></th>\n",
       "    </tr>\n",
       "  </thead>\n",
       "  <tbody>\n",
       "    <tr>\n",
       "      <th rowspan=\"8\" valign=\"top\">1000</th>\n",
       "      <th>5</th>\n",
       "      <td>159.0</td>\n",
       "      <td>2.200674</td>\n",
       "      <td>22.0</td>\n",
       "    </tr>\n",
       "    <tr>\n",
       "      <th>6</th>\n",
       "      <td>172.0</td>\n",
       "      <td>22.689229</td>\n",
       "      <td>43.0</td>\n",
       "    </tr>\n",
       "    <tr>\n",
       "      <th>7</th>\n",
       "      <td>340.0</td>\n",
       "      <td>13.675430</td>\n",
       "      <td>47.0</td>\n",
       "    </tr>\n",
       "    <tr>\n",
       "      <th>8</th>\n",
       "      <td>408.0</td>\n",
       "      <td>13.726494</td>\n",
       "      <td>52.0</td>\n",
       "    </tr>\n",
       "    <tr>\n",
       "      <th>9</th>\n",
       "      <td>466.0</td>\n",
       "      <td>14.227451</td>\n",
       "      <td>58.0</td>\n",
       "    </tr>\n",
       "    <tr>\n",
       "      <th>10</th>\n",
       "      <td>350.0</td>\n",
       "      <td>14.357900</td>\n",
       "      <td>57.0</td>\n",
       "    </tr>\n",
       "    <tr>\n",
       "      <th>11</th>\n",
       "      <td>338.0</td>\n",
       "      <td>14.410615</td>\n",
       "      <td>43.0</td>\n",
       "    </tr>\n",
       "    <tr>\n",
       "      <th>12</th>\n",
       "      <td>333.0</td>\n",
       "      <td>9.587510</td>\n",
       "      <td>46.0</td>\n",
       "    </tr>\n",
       "    <tr>\n",
       "      <th rowspan=\"2\" valign=\"top\">1001</th>\n",
       "      <th>11</th>\n",
       "      <td>430.0</td>\n",
       "      <td>17.997402</td>\n",
       "      <td>59.0</td>\n",
       "    </tr>\n",
       "    <tr>\n",
       "      <th>12</th>\n",
       "      <td>414.0</td>\n",
       "      <td>13.707676</td>\n",
       "      <td>63.0</td>\n",
       "    </tr>\n",
       "  </tbody>\n",
       "</table>\n",
       "</div>"
      ],
      "text/plain": [
       "                  sum                  count\n",
       "              minutes    gb_used calls_count\n",
       "user_id month                               \n",
       "1000    5       159.0   2.200674        22.0\n",
       "        6       172.0  22.689229        43.0\n",
       "        7       340.0  13.675430        47.0\n",
       "        8       408.0  13.726494        52.0\n",
       "        9       466.0  14.227451        58.0\n",
       "        10      350.0  14.357900        57.0\n",
       "        11      338.0  14.410615        43.0\n",
       "        12      333.0   9.587510        46.0\n",
       "1001    11      430.0  17.997402        59.0\n",
       "        12      414.0  13.707676        63.0"
      ]
     },
     "execution_count": 36,
     "metadata": {},
     "output_type": "execute_result"
    }
   ],
   "source": [
    "full = full.join(calls_pt_count, how='outer')\n",
    "full.head(10)"
   ]
  },
  {
   "cell_type": "code",
   "execution_count": 37,
   "metadata": {},
   "outputs": [
    {
     "data": {
      "text/html": [
       "<div>\n",
       "<style scoped>\n",
       "    .dataframe tbody tr th:only-of-type {\n",
       "        vertical-align: middle;\n",
       "    }\n",
       "\n",
       "    .dataframe tbody tr th {\n",
       "        vertical-align: top;\n",
       "    }\n",
       "\n",
       "    .dataframe thead tr th {\n",
       "        text-align: left;\n",
       "    }\n",
       "\n",
       "    .dataframe thead tr:last-of-type th {\n",
       "        text-align: right;\n",
       "    }\n",
       "</style>\n",
       "<table border=\"1\" class=\"dataframe\">\n",
       "  <thead>\n",
       "    <tr>\n",
       "      <th></th>\n",
       "      <th></th>\n",
       "      <th colspan=\"2\" halign=\"left\">sum</th>\n",
       "      <th colspan=\"2\" halign=\"left\">count</th>\n",
       "    </tr>\n",
       "    <tr>\n",
       "      <th></th>\n",
       "      <th></th>\n",
       "      <th>minutes</th>\n",
       "      <th>gb_used</th>\n",
       "      <th>calls_count</th>\n",
       "      <th>id</th>\n",
       "    </tr>\n",
       "    <tr>\n",
       "      <th>user_id</th>\n",
       "      <th>month</th>\n",
       "      <th></th>\n",
       "      <th></th>\n",
       "      <th></th>\n",
       "      <th></th>\n",
       "    </tr>\n",
       "  </thead>\n",
       "  <tbody>\n",
       "    <tr>\n",
       "      <th rowspan=\"8\" valign=\"top\">1000</th>\n",
       "      <th>5</th>\n",
       "      <td>159.0</td>\n",
       "      <td>2.200674</td>\n",
       "      <td>22.0</td>\n",
       "      <td>22.0</td>\n",
       "    </tr>\n",
       "    <tr>\n",
       "      <th>6</th>\n",
       "      <td>172.0</td>\n",
       "      <td>22.689229</td>\n",
       "      <td>43.0</td>\n",
       "      <td>60.0</td>\n",
       "    </tr>\n",
       "    <tr>\n",
       "      <th>7</th>\n",
       "      <td>340.0</td>\n",
       "      <td>13.675430</td>\n",
       "      <td>47.0</td>\n",
       "      <td>75.0</td>\n",
       "    </tr>\n",
       "    <tr>\n",
       "      <th>8</th>\n",
       "      <td>408.0</td>\n",
       "      <td>13.726494</td>\n",
       "      <td>52.0</td>\n",
       "      <td>81.0</td>\n",
       "    </tr>\n",
       "    <tr>\n",
       "      <th>9</th>\n",
       "      <td>466.0</td>\n",
       "      <td>14.227451</td>\n",
       "      <td>58.0</td>\n",
       "      <td>57.0</td>\n",
       "    </tr>\n",
       "    <tr>\n",
       "      <th>10</th>\n",
       "      <td>350.0</td>\n",
       "      <td>14.357900</td>\n",
       "      <td>57.0</td>\n",
       "      <td>73.0</td>\n",
       "    </tr>\n",
       "    <tr>\n",
       "      <th>11</th>\n",
       "      <td>338.0</td>\n",
       "      <td>14.410615</td>\n",
       "      <td>43.0</td>\n",
       "      <td>58.0</td>\n",
       "    </tr>\n",
       "    <tr>\n",
       "      <th>12</th>\n",
       "      <td>333.0</td>\n",
       "      <td>9.587510</td>\n",
       "      <td>46.0</td>\n",
       "      <td>70.0</td>\n",
       "    </tr>\n",
       "    <tr>\n",
       "      <th rowspan=\"2\" valign=\"top\">1001</th>\n",
       "      <th>11</th>\n",
       "      <td>430.0</td>\n",
       "      <td>17.997402</td>\n",
       "      <td>59.0</td>\n",
       "      <td>NaN</td>\n",
       "    </tr>\n",
       "    <tr>\n",
       "      <th>12</th>\n",
       "      <td>414.0</td>\n",
       "      <td>13.707676</td>\n",
       "      <td>63.0</td>\n",
       "      <td>NaN</td>\n",
       "    </tr>\n",
       "  </tbody>\n",
       "</table>\n",
       "</div>"
      ],
      "text/plain": [
       "                  sum                  count      \n",
       "              minutes    gb_used calls_count    id\n",
       "user_id month                                     \n",
       "1000    5       159.0   2.200674        22.0  22.0\n",
       "        6       172.0  22.689229        43.0  60.0\n",
       "        7       340.0  13.675430        47.0  75.0\n",
       "        8       408.0  13.726494        52.0  81.0\n",
       "        9       466.0  14.227451        58.0  57.0\n",
       "        10      350.0  14.357900        57.0  73.0\n",
       "        11      338.0  14.410615        43.0  58.0\n",
       "        12      333.0   9.587510        46.0  70.0\n",
       "1001    11      430.0  17.997402        59.0   NaN\n",
       "        12      414.0  13.707676        63.0   NaN"
      ]
     },
     "execution_count": 37,
     "metadata": {},
     "output_type": "execute_result"
    }
   ],
   "source": [
    "full = full.join(messages_pivot, how='outer')\n",
    "full.head(10)"
   ]
  },
  {
   "cell_type": "markdown",
   "metadata": {},
   "source": [
    "Сгладим мультииндексы, для того, чтобы в дальнейшем можно было переименовать столбцы и работать с ними."
   ]
  },
  {
   "cell_type": "code",
   "execution_count": 38,
   "metadata": {},
   "outputs": [
    {
     "data": {
      "text/html": [
       "<div>\n",
       "<style scoped>\n",
       "    .dataframe tbody tr th:only-of-type {\n",
       "        vertical-align: middle;\n",
       "    }\n",
       "\n",
       "    .dataframe tbody tr th {\n",
       "        vertical-align: top;\n",
       "    }\n",
       "\n",
       "    .dataframe thead th {\n",
       "        text-align: right;\n",
       "    }\n",
       "</style>\n",
       "<table border=\"1\" class=\"dataframe\">\n",
       "  <thead>\n",
       "    <tr style=\"text-align: right;\">\n",
       "      <th></th>\n",
       "      <th></th>\n",
       "      <th>minutes</th>\n",
       "      <th>gb_used</th>\n",
       "      <th>calls_count</th>\n",
       "      <th>id</th>\n",
       "    </tr>\n",
       "    <tr>\n",
       "      <th>user_id</th>\n",
       "      <th>month</th>\n",
       "      <th></th>\n",
       "      <th></th>\n",
       "      <th></th>\n",
       "      <th></th>\n",
       "    </tr>\n",
       "  </thead>\n",
       "  <tbody>\n",
       "    <tr>\n",
       "      <th rowspan=\"8\" valign=\"top\">1000</th>\n",
       "      <th>5</th>\n",
       "      <td>159.0</td>\n",
       "      <td>2.200674</td>\n",
       "      <td>22.0</td>\n",
       "      <td>22.0</td>\n",
       "    </tr>\n",
       "    <tr>\n",
       "      <th>6</th>\n",
       "      <td>172.0</td>\n",
       "      <td>22.689229</td>\n",
       "      <td>43.0</td>\n",
       "      <td>60.0</td>\n",
       "    </tr>\n",
       "    <tr>\n",
       "      <th>7</th>\n",
       "      <td>340.0</td>\n",
       "      <td>13.675430</td>\n",
       "      <td>47.0</td>\n",
       "      <td>75.0</td>\n",
       "    </tr>\n",
       "    <tr>\n",
       "      <th>8</th>\n",
       "      <td>408.0</td>\n",
       "      <td>13.726494</td>\n",
       "      <td>52.0</td>\n",
       "      <td>81.0</td>\n",
       "    </tr>\n",
       "    <tr>\n",
       "      <th>9</th>\n",
       "      <td>466.0</td>\n",
       "      <td>14.227451</td>\n",
       "      <td>58.0</td>\n",
       "      <td>57.0</td>\n",
       "    </tr>\n",
       "    <tr>\n",
       "      <th>10</th>\n",
       "      <td>350.0</td>\n",
       "      <td>14.357900</td>\n",
       "      <td>57.0</td>\n",
       "      <td>73.0</td>\n",
       "    </tr>\n",
       "    <tr>\n",
       "      <th>11</th>\n",
       "      <td>338.0</td>\n",
       "      <td>14.410615</td>\n",
       "      <td>43.0</td>\n",
       "      <td>58.0</td>\n",
       "    </tr>\n",
       "    <tr>\n",
       "      <th>12</th>\n",
       "      <td>333.0</td>\n",
       "      <td>9.587510</td>\n",
       "      <td>46.0</td>\n",
       "      <td>70.0</td>\n",
       "    </tr>\n",
       "    <tr>\n",
       "      <th rowspan=\"2\" valign=\"top\">1001</th>\n",
       "      <th>11</th>\n",
       "      <td>430.0</td>\n",
       "      <td>17.997402</td>\n",
       "      <td>59.0</td>\n",
       "      <td>NaN</td>\n",
       "    </tr>\n",
       "    <tr>\n",
       "      <th>12</th>\n",
       "      <td>414.0</td>\n",
       "      <td>13.707676</td>\n",
       "      <td>63.0</td>\n",
       "      <td>NaN</td>\n",
       "    </tr>\n",
       "  </tbody>\n",
       "</table>\n",
       "</div>"
      ],
      "text/plain": [
       "               minutes    gb_used  calls_count    id\n",
       "user_id month                                       \n",
       "1000    5        159.0   2.200674         22.0  22.0\n",
       "        6        172.0  22.689229         43.0  60.0\n",
       "        7        340.0  13.675430         47.0  75.0\n",
       "        8        408.0  13.726494         52.0  81.0\n",
       "        9        466.0  14.227451         58.0  57.0\n",
       "        10       350.0  14.357900         57.0  73.0\n",
       "        11       338.0  14.410615         43.0  58.0\n",
       "        12       333.0   9.587510         46.0  70.0\n",
       "1001    11       430.0  17.997402         59.0   NaN\n",
       "        12       414.0  13.707676         63.0   NaN"
      ]
     },
     "execution_count": 38,
     "metadata": {},
     "output_type": "execute_result"
    }
   ],
   "source": [
    "full.columns = full.columns.get_level_values(1)\n",
    "full.head(10)"
   ]
  },
  {
   "cell_type": "code",
   "execution_count": 39,
   "metadata": {},
   "outputs": [
    {
     "data": {
      "text/html": [
       "<div>\n",
       "<style scoped>\n",
       "    .dataframe tbody tr th:only-of-type {\n",
       "        vertical-align: middle;\n",
       "    }\n",
       "\n",
       "    .dataframe tbody tr th {\n",
       "        vertical-align: top;\n",
       "    }\n",
       "\n",
       "    .dataframe thead th {\n",
       "        text-align: right;\n",
       "    }\n",
       "</style>\n",
       "<table border=\"1\" class=\"dataframe\">\n",
       "  <thead>\n",
       "    <tr style=\"text-align: right;\">\n",
       "      <th></th>\n",
       "      <th>user_id</th>\n",
       "      <th>minutes</th>\n",
       "      <th>gb_used</th>\n",
       "      <th>calls_count</th>\n",
       "      <th>id</th>\n",
       "      <th>tariff</th>\n",
       "    </tr>\n",
       "  </thead>\n",
       "  <tbody>\n",
       "    <tr>\n",
       "      <th>0</th>\n",
       "      <td>1000</td>\n",
       "      <td>159.0</td>\n",
       "      <td>2.200674</td>\n",
       "      <td>22.0</td>\n",
       "      <td>22.0</td>\n",
       "      <td>ultra</td>\n",
       "    </tr>\n",
       "    <tr>\n",
       "      <th>1</th>\n",
       "      <td>1000</td>\n",
       "      <td>172.0</td>\n",
       "      <td>22.689229</td>\n",
       "      <td>43.0</td>\n",
       "      <td>60.0</td>\n",
       "      <td>ultra</td>\n",
       "    </tr>\n",
       "    <tr>\n",
       "      <th>2</th>\n",
       "      <td>1000</td>\n",
       "      <td>340.0</td>\n",
       "      <td>13.675430</td>\n",
       "      <td>47.0</td>\n",
       "      <td>75.0</td>\n",
       "      <td>ultra</td>\n",
       "    </tr>\n",
       "    <tr>\n",
       "      <th>3</th>\n",
       "      <td>1000</td>\n",
       "      <td>408.0</td>\n",
       "      <td>13.726494</td>\n",
       "      <td>52.0</td>\n",
       "      <td>81.0</td>\n",
       "      <td>ultra</td>\n",
       "    </tr>\n",
       "    <tr>\n",
       "      <th>4</th>\n",
       "      <td>1000</td>\n",
       "      <td>466.0</td>\n",
       "      <td>14.227451</td>\n",
       "      <td>58.0</td>\n",
       "      <td>57.0</td>\n",
       "      <td>ultra</td>\n",
       "    </tr>\n",
       "    <tr>\n",
       "      <th>5</th>\n",
       "      <td>1000</td>\n",
       "      <td>350.0</td>\n",
       "      <td>14.357900</td>\n",
       "      <td>57.0</td>\n",
       "      <td>73.0</td>\n",
       "      <td>ultra</td>\n",
       "    </tr>\n",
       "    <tr>\n",
       "      <th>6</th>\n",
       "      <td>1000</td>\n",
       "      <td>338.0</td>\n",
       "      <td>14.410615</td>\n",
       "      <td>43.0</td>\n",
       "      <td>58.0</td>\n",
       "      <td>ultra</td>\n",
       "    </tr>\n",
       "    <tr>\n",
       "      <th>7</th>\n",
       "      <td>1000</td>\n",
       "      <td>333.0</td>\n",
       "      <td>9.587510</td>\n",
       "      <td>46.0</td>\n",
       "      <td>70.0</td>\n",
       "      <td>ultra</td>\n",
       "    </tr>\n",
       "    <tr>\n",
       "      <th>8</th>\n",
       "      <td>1001</td>\n",
       "      <td>430.0</td>\n",
       "      <td>17.997402</td>\n",
       "      <td>59.0</td>\n",
       "      <td>NaN</td>\n",
       "      <td>smart</td>\n",
       "    </tr>\n",
       "    <tr>\n",
       "      <th>9</th>\n",
       "      <td>1001</td>\n",
       "      <td>414.0</td>\n",
       "      <td>13.707676</td>\n",
       "      <td>63.0</td>\n",
       "      <td>NaN</td>\n",
       "      <td>smart</td>\n",
       "    </tr>\n",
       "  </tbody>\n",
       "</table>\n",
       "</div>"
      ],
      "text/plain": [
       "   user_id  minutes    gb_used  calls_count    id tariff\n",
       "0     1000    159.0   2.200674         22.0  22.0  ultra\n",
       "1     1000    172.0  22.689229         43.0  60.0  ultra\n",
       "2     1000    340.0  13.675430         47.0  75.0  ultra\n",
       "3     1000    408.0  13.726494         52.0  81.0  ultra\n",
       "4     1000    466.0  14.227451         58.0  57.0  ultra\n",
       "5     1000    350.0  14.357900         57.0  73.0  ultra\n",
       "6     1000    338.0  14.410615         43.0  58.0  ultra\n",
       "7     1000    333.0   9.587510         46.0  70.0  ultra\n",
       "8     1001    430.0  17.997402         59.0   NaN  smart\n",
       "9     1001    414.0  13.707676         63.0   NaN  smart"
      ]
     },
     "execution_count": 39,
     "metadata": {},
     "output_type": "execute_result"
    }
   ],
   "source": [
    "full = full.merge(users_df, on='user_id', how='left')\n",
    "full.head(10)"
   ]
  },
  {
   "cell_type": "code",
   "execution_count": 40,
   "metadata": {},
   "outputs": [
    {
     "data": {
      "text/html": [
       "<div>\n",
       "<style scoped>\n",
       "    .dataframe tbody tr th:only-of-type {\n",
       "        vertical-align: middle;\n",
       "    }\n",
       "\n",
       "    .dataframe tbody tr th {\n",
       "        vertical-align: top;\n",
       "    }\n",
       "\n",
       "    .dataframe thead th {\n",
       "        text-align: right;\n",
       "    }\n",
       "</style>\n",
       "<table border=\"1\" class=\"dataframe\">\n",
       "  <thead>\n",
       "    <tr style=\"text-align: right;\">\n",
       "      <th></th>\n",
       "      <th>user_id</th>\n",
       "      <th>minutes</th>\n",
       "      <th>gb_used</th>\n",
       "      <th>calls_count</th>\n",
       "      <th>id</th>\n",
       "      <th>tariff</th>\n",
       "      <th>messages_included</th>\n",
       "      <th>mb_per_month_included</th>\n",
       "      <th>minutes_included</th>\n",
       "      <th>rub_monthly_fee</th>\n",
       "      <th>rub_per_gb</th>\n",
       "      <th>rub_per_message</th>\n",
       "      <th>rub_per_minute</th>\n",
       "    </tr>\n",
       "  </thead>\n",
       "  <tbody>\n",
       "    <tr>\n",
       "      <th>0</th>\n",
       "      <td>1000</td>\n",
       "      <td>159.0</td>\n",
       "      <td>2.200674</td>\n",
       "      <td>22.0</td>\n",
       "      <td>22.0</td>\n",
       "      <td>ultra</td>\n",
       "      <td>1000</td>\n",
       "      <td>30720</td>\n",
       "      <td>3000</td>\n",
       "      <td>1950</td>\n",
       "      <td>150</td>\n",
       "      <td>1</td>\n",
       "      <td>1</td>\n",
       "    </tr>\n",
       "    <tr>\n",
       "      <th>1</th>\n",
       "      <td>1000</td>\n",
       "      <td>172.0</td>\n",
       "      <td>22.689229</td>\n",
       "      <td>43.0</td>\n",
       "      <td>60.0</td>\n",
       "      <td>ultra</td>\n",
       "      <td>1000</td>\n",
       "      <td>30720</td>\n",
       "      <td>3000</td>\n",
       "      <td>1950</td>\n",
       "      <td>150</td>\n",
       "      <td>1</td>\n",
       "      <td>1</td>\n",
       "    </tr>\n",
       "    <tr>\n",
       "      <th>2</th>\n",
       "      <td>1000</td>\n",
       "      <td>340.0</td>\n",
       "      <td>13.675430</td>\n",
       "      <td>47.0</td>\n",
       "      <td>75.0</td>\n",
       "      <td>ultra</td>\n",
       "      <td>1000</td>\n",
       "      <td>30720</td>\n",
       "      <td>3000</td>\n",
       "      <td>1950</td>\n",
       "      <td>150</td>\n",
       "      <td>1</td>\n",
       "      <td>1</td>\n",
       "    </tr>\n",
       "    <tr>\n",
       "      <th>3</th>\n",
       "      <td>1000</td>\n",
       "      <td>408.0</td>\n",
       "      <td>13.726494</td>\n",
       "      <td>52.0</td>\n",
       "      <td>81.0</td>\n",
       "      <td>ultra</td>\n",
       "      <td>1000</td>\n",
       "      <td>30720</td>\n",
       "      <td>3000</td>\n",
       "      <td>1950</td>\n",
       "      <td>150</td>\n",
       "      <td>1</td>\n",
       "      <td>1</td>\n",
       "    </tr>\n",
       "    <tr>\n",
       "      <th>4</th>\n",
       "      <td>1000</td>\n",
       "      <td>466.0</td>\n",
       "      <td>14.227451</td>\n",
       "      <td>58.0</td>\n",
       "      <td>57.0</td>\n",
       "      <td>ultra</td>\n",
       "      <td>1000</td>\n",
       "      <td>30720</td>\n",
       "      <td>3000</td>\n",
       "      <td>1950</td>\n",
       "      <td>150</td>\n",
       "      <td>1</td>\n",
       "      <td>1</td>\n",
       "    </tr>\n",
       "    <tr>\n",
       "      <th>5</th>\n",
       "      <td>1000</td>\n",
       "      <td>350.0</td>\n",
       "      <td>14.357900</td>\n",
       "      <td>57.0</td>\n",
       "      <td>73.0</td>\n",
       "      <td>ultra</td>\n",
       "      <td>1000</td>\n",
       "      <td>30720</td>\n",
       "      <td>3000</td>\n",
       "      <td>1950</td>\n",
       "      <td>150</td>\n",
       "      <td>1</td>\n",
       "      <td>1</td>\n",
       "    </tr>\n",
       "    <tr>\n",
       "      <th>6</th>\n",
       "      <td>1000</td>\n",
       "      <td>338.0</td>\n",
       "      <td>14.410615</td>\n",
       "      <td>43.0</td>\n",
       "      <td>58.0</td>\n",
       "      <td>ultra</td>\n",
       "      <td>1000</td>\n",
       "      <td>30720</td>\n",
       "      <td>3000</td>\n",
       "      <td>1950</td>\n",
       "      <td>150</td>\n",
       "      <td>1</td>\n",
       "      <td>1</td>\n",
       "    </tr>\n",
       "    <tr>\n",
       "      <th>7</th>\n",
       "      <td>1000</td>\n",
       "      <td>333.0</td>\n",
       "      <td>9.587510</td>\n",
       "      <td>46.0</td>\n",
       "      <td>70.0</td>\n",
       "      <td>ultra</td>\n",
       "      <td>1000</td>\n",
       "      <td>30720</td>\n",
       "      <td>3000</td>\n",
       "      <td>1950</td>\n",
       "      <td>150</td>\n",
       "      <td>1</td>\n",
       "      <td>1</td>\n",
       "    </tr>\n",
       "    <tr>\n",
       "      <th>8</th>\n",
       "      <td>1003</td>\n",
       "      <td>380.0</td>\n",
       "      <td>8.364463</td>\n",
       "      <td>55.0</td>\n",
       "      <td>37.0</td>\n",
       "      <td>ultra</td>\n",
       "      <td>1000</td>\n",
       "      <td>30720</td>\n",
       "      <td>3000</td>\n",
       "      <td>1950</td>\n",
       "      <td>150</td>\n",
       "      <td>1</td>\n",
       "      <td>1</td>\n",
       "    </tr>\n",
       "    <tr>\n",
       "      <th>9</th>\n",
       "      <td>1003</td>\n",
       "      <td>961.0</td>\n",
       "      <td>12.176631</td>\n",
       "      <td>134.0</td>\n",
       "      <td>91.0</td>\n",
       "      <td>ultra</td>\n",
       "      <td>1000</td>\n",
       "      <td>30720</td>\n",
       "      <td>3000</td>\n",
       "      <td>1950</td>\n",
       "      <td>150</td>\n",
       "      <td>1</td>\n",
       "      <td>1</td>\n",
       "    </tr>\n",
       "  </tbody>\n",
       "</table>\n",
       "</div>"
      ],
      "text/plain": [
       "   user_id  minutes    gb_used  calls_count    id tariff  messages_included  \\\n",
       "0     1000    159.0   2.200674         22.0  22.0  ultra               1000   \n",
       "1     1000    172.0  22.689229         43.0  60.0  ultra               1000   \n",
       "2     1000    340.0  13.675430         47.0  75.0  ultra               1000   \n",
       "3     1000    408.0  13.726494         52.0  81.0  ultra               1000   \n",
       "4     1000    466.0  14.227451         58.0  57.0  ultra               1000   \n",
       "5     1000    350.0  14.357900         57.0  73.0  ultra               1000   \n",
       "6     1000    338.0  14.410615         43.0  58.0  ultra               1000   \n",
       "7     1000    333.0   9.587510         46.0  70.0  ultra               1000   \n",
       "8     1003    380.0   8.364463         55.0  37.0  ultra               1000   \n",
       "9     1003    961.0  12.176631        134.0  91.0  ultra               1000   \n",
       "\n",
       "   mb_per_month_included  minutes_included  rub_monthly_fee  rub_per_gb  \\\n",
       "0                  30720              3000             1950         150   \n",
       "1                  30720              3000             1950         150   \n",
       "2                  30720              3000             1950         150   \n",
       "3                  30720              3000             1950         150   \n",
       "4                  30720              3000             1950         150   \n",
       "5                  30720              3000             1950         150   \n",
       "6                  30720              3000             1950         150   \n",
       "7                  30720              3000             1950         150   \n",
       "8                  30720              3000             1950         150   \n",
       "9                  30720              3000             1950         150   \n",
       "\n",
       "   rub_per_message  rub_per_minute  \n",
       "0                1               1  \n",
       "1                1               1  \n",
       "2                1               1  \n",
       "3                1               1  \n",
       "4                1               1  \n",
       "5                1               1  \n",
       "6                1               1  \n",
       "7                1               1  \n",
       "8                1               1  \n",
       "9                1               1  "
      ]
     },
     "execution_count": 40,
     "metadata": {},
     "output_type": "execute_result"
    }
   ],
   "source": [
    "full = full.merge(tariffs, on='tariff')\n",
    "full.head(10)"
   ]
  },
  {
   "cell_type": "markdown",
   "metadata": {},
   "source": [
    "Для большей наглядности и удобства в использовании, переименуем некоторые столбцы."
   ]
  },
  {
   "cell_type": "code",
   "execution_count": 41,
   "metadata": {
    "scrolled": true
   },
   "outputs": [
    {
     "data": {
      "text/html": [
       "<div>\n",
       "<style scoped>\n",
       "    .dataframe tbody tr th:only-of-type {\n",
       "        vertical-align: middle;\n",
       "    }\n",
       "\n",
       "    .dataframe tbody tr th {\n",
       "        vertical-align: top;\n",
       "    }\n",
       "\n",
       "    .dataframe thead th {\n",
       "        text-align: right;\n",
       "    }\n",
       "</style>\n",
       "<table border=\"1\" class=\"dataframe\">\n",
       "  <thead>\n",
       "    <tr style=\"text-align: right;\">\n",
       "      <th></th>\n",
       "      <th>user_id</th>\n",
       "      <th>calls_sum</th>\n",
       "      <th>gb_used</th>\n",
       "      <th>calls_count</th>\n",
       "      <th>messages_count</th>\n",
       "      <th>tariff</th>\n",
       "      <th>messages_included</th>\n",
       "      <th>mb_per_month_included</th>\n",
       "      <th>minutes_included</th>\n",
       "      <th>rub_monthly_fee</th>\n",
       "      <th>rub_per_gb</th>\n",
       "      <th>rub_per_message</th>\n",
       "      <th>rub_per_minute</th>\n",
       "    </tr>\n",
       "  </thead>\n",
       "  <tbody>\n",
       "    <tr>\n",
       "      <th>0</th>\n",
       "      <td>1000</td>\n",
       "      <td>159.0</td>\n",
       "      <td>2.200674</td>\n",
       "      <td>22.0</td>\n",
       "      <td>22.0</td>\n",
       "      <td>ultra</td>\n",
       "      <td>1000</td>\n",
       "      <td>30720</td>\n",
       "      <td>3000</td>\n",
       "      <td>1950</td>\n",
       "      <td>150</td>\n",
       "      <td>1</td>\n",
       "      <td>1</td>\n",
       "    </tr>\n",
       "    <tr>\n",
       "      <th>1</th>\n",
       "      <td>1000</td>\n",
       "      <td>172.0</td>\n",
       "      <td>22.689229</td>\n",
       "      <td>43.0</td>\n",
       "      <td>60.0</td>\n",
       "      <td>ultra</td>\n",
       "      <td>1000</td>\n",
       "      <td>30720</td>\n",
       "      <td>3000</td>\n",
       "      <td>1950</td>\n",
       "      <td>150</td>\n",
       "      <td>1</td>\n",
       "      <td>1</td>\n",
       "    </tr>\n",
       "    <tr>\n",
       "      <th>2</th>\n",
       "      <td>1000</td>\n",
       "      <td>340.0</td>\n",
       "      <td>13.675430</td>\n",
       "      <td>47.0</td>\n",
       "      <td>75.0</td>\n",
       "      <td>ultra</td>\n",
       "      <td>1000</td>\n",
       "      <td>30720</td>\n",
       "      <td>3000</td>\n",
       "      <td>1950</td>\n",
       "      <td>150</td>\n",
       "      <td>1</td>\n",
       "      <td>1</td>\n",
       "    </tr>\n",
       "    <tr>\n",
       "      <th>3</th>\n",
       "      <td>1000</td>\n",
       "      <td>408.0</td>\n",
       "      <td>13.726494</td>\n",
       "      <td>52.0</td>\n",
       "      <td>81.0</td>\n",
       "      <td>ultra</td>\n",
       "      <td>1000</td>\n",
       "      <td>30720</td>\n",
       "      <td>3000</td>\n",
       "      <td>1950</td>\n",
       "      <td>150</td>\n",
       "      <td>1</td>\n",
       "      <td>1</td>\n",
       "    </tr>\n",
       "    <tr>\n",
       "      <th>4</th>\n",
       "      <td>1000</td>\n",
       "      <td>466.0</td>\n",
       "      <td>14.227451</td>\n",
       "      <td>58.0</td>\n",
       "      <td>57.0</td>\n",
       "      <td>ultra</td>\n",
       "      <td>1000</td>\n",
       "      <td>30720</td>\n",
       "      <td>3000</td>\n",
       "      <td>1950</td>\n",
       "      <td>150</td>\n",
       "      <td>1</td>\n",
       "      <td>1</td>\n",
       "    </tr>\n",
       "    <tr>\n",
       "      <th>5</th>\n",
       "      <td>1000</td>\n",
       "      <td>350.0</td>\n",
       "      <td>14.357900</td>\n",
       "      <td>57.0</td>\n",
       "      <td>73.0</td>\n",
       "      <td>ultra</td>\n",
       "      <td>1000</td>\n",
       "      <td>30720</td>\n",
       "      <td>3000</td>\n",
       "      <td>1950</td>\n",
       "      <td>150</td>\n",
       "      <td>1</td>\n",
       "      <td>1</td>\n",
       "    </tr>\n",
       "    <tr>\n",
       "      <th>6</th>\n",
       "      <td>1000</td>\n",
       "      <td>338.0</td>\n",
       "      <td>14.410615</td>\n",
       "      <td>43.0</td>\n",
       "      <td>58.0</td>\n",
       "      <td>ultra</td>\n",
       "      <td>1000</td>\n",
       "      <td>30720</td>\n",
       "      <td>3000</td>\n",
       "      <td>1950</td>\n",
       "      <td>150</td>\n",
       "      <td>1</td>\n",
       "      <td>1</td>\n",
       "    </tr>\n",
       "    <tr>\n",
       "      <th>7</th>\n",
       "      <td>1000</td>\n",
       "      <td>333.0</td>\n",
       "      <td>9.587510</td>\n",
       "      <td>46.0</td>\n",
       "      <td>70.0</td>\n",
       "      <td>ultra</td>\n",
       "      <td>1000</td>\n",
       "      <td>30720</td>\n",
       "      <td>3000</td>\n",
       "      <td>1950</td>\n",
       "      <td>150</td>\n",
       "      <td>1</td>\n",
       "      <td>1</td>\n",
       "    </tr>\n",
       "    <tr>\n",
       "      <th>8</th>\n",
       "      <td>1003</td>\n",
       "      <td>380.0</td>\n",
       "      <td>8.364463</td>\n",
       "      <td>55.0</td>\n",
       "      <td>37.0</td>\n",
       "      <td>ultra</td>\n",
       "      <td>1000</td>\n",
       "      <td>30720</td>\n",
       "      <td>3000</td>\n",
       "      <td>1950</td>\n",
       "      <td>150</td>\n",
       "      <td>1</td>\n",
       "      <td>1</td>\n",
       "    </tr>\n",
       "    <tr>\n",
       "      <th>9</th>\n",
       "      <td>1003</td>\n",
       "      <td>961.0</td>\n",
       "      <td>12.176631</td>\n",
       "      <td>134.0</td>\n",
       "      <td>91.0</td>\n",
       "      <td>ultra</td>\n",
       "      <td>1000</td>\n",
       "      <td>30720</td>\n",
       "      <td>3000</td>\n",
       "      <td>1950</td>\n",
       "      <td>150</td>\n",
       "      <td>1</td>\n",
       "      <td>1</td>\n",
       "    </tr>\n",
       "  </tbody>\n",
       "</table>\n",
       "</div>"
      ],
      "text/plain": [
       "   user_id  calls_sum    gb_used  calls_count  messages_count tariff  \\\n",
       "0     1000      159.0   2.200674         22.0            22.0  ultra   \n",
       "1     1000      172.0  22.689229         43.0            60.0  ultra   \n",
       "2     1000      340.0  13.675430         47.0            75.0  ultra   \n",
       "3     1000      408.0  13.726494         52.0            81.0  ultra   \n",
       "4     1000      466.0  14.227451         58.0            57.0  ultra   \n",
       "5     1000      350.0  14.357900         57.0            73.0  ultra   \n",
       "6     1000      338.0  14.410615         43.0            58.0  ultra   \n",
       "7     1000      333.0   9.587510         46.0            70.0  ultra   \n",
       "8     1003      380.0   8.364463         55.0            37.0  ultra   \n",
       "9     1003      961.0  12.176631        134.0            91.0  ultra   \n",
       "\n",
       "   messages_included  mb_per_month_included  minutes_included  \\\n",
       "0               1000                  30720              3000   \n",
       "1               1000                  30720              3000   \n",
       "2               1000                  30720              3000   \n",
       "3               1000                  30720              3000   \n",
       "4               1000                  30720              3000   \n",
       "5               1000                  30720              3000   \n",
       "6               1000                  30720              3000   \n",
       "7               1000                  30720              3000   \n",
       "8               1000                  30720              3000   \n",
       "9               1000                  30720              3000   \n",
       "\n",
       "   rub_monthly_fee  rub_per_gb  rub_per_message  rub_per_minute  \n",
       "0             1950         150                1               1  \n",
       "1             1950         150                1               1  \n",
       "2             1950         150                1               1  \n",
       "3             1950         150                1               1  \n",
       "4             1950         150                1               1  \n",
       "5             1950         150                1               1  \n",
       "6             1950         150                1               1  \n",
       "7             1950         150                1               1  \n",
       "8             1950         150                1               1  \n",
       "9             1950         150                1               1  "
      ]
     },
     "execution_count": 41,
     "metadata": {},
     "output_type": "execute_result"
    }
   ],
   "source": [
    "full = full.rename(\n",
    "    columns={\n",
    "        'minutes': 'calls_sum',\n",
    "        'id': 'messages_count'\n",
    "    }\n",
    ")\n",
    "full.head(10)"
   ]
  },
  {
   "cell_type": "markdown",
   "metadata": {},
   "source": [
    "Переведем мегабайты в гигабайты."
   ]
  },
  {
   "cell_type": "code",
   "execution_count": 42,
   "metadata": {},
   "outputs": [
    {
     "data": {
      "text/html": [
       "<div>\n",
       "<style scoped>\n",
       "    .dataframe tbody tr th:only-of-type {\n",
       "        vertical-align: middle;\n",
       "    }\n",
       "\n",
       "    .dataframe tbody tr th {\n",
       "        vertical-align: top;\n",
       "    }\n",
       "\n",
       "    .dataframe thead th {\n",
       "        text-align: right;\n",
       "    }\n",
       "</style>\n",
       "<table border=\"1\" class=\"dataframe\">\n",
       "  <thead>\n",
       "    <tr style=\"text-align: right;\">\n",
       "      <th></th>\n",
       "      <th>user_id</th>\n",
       "      <th>calls_sum</th>\n",
       "      <th>gb_used</th>\n",
       "      <th>calls_count</th>\n",
       "      <th>messages_count</th>\n",
       "      <th>tariff</th>\n",
       "      <th>messages_included</th>\n",
       "      <th>mb_per_month_included</th>\n",
       "      <th>minutes_included</th>\n",
       "      <th>rub_monthly_fee</th>\n",
       "      <th>rub_per_gb</th>\n",
       "      <th>rub_per_message</th>\n",
       "      <th>rub_per_minute</th>\n",
       "      <th>gb_per_month_included</th>\n",
       "    </tr>\n",
       "  </thead>\n",
       "  <tbody>\n",
       "    <tr>\n",
       "      <th>0</th>\n",
       "      <td>1000</td>\n",
       "      <td>159.0</td>\n",
       "      <td>2.200674</td>\n",
       "      <td>22.0</td>\n",
       "      <td>22.0</td>\n",
       "      <td>ultra</td>\n",
       "      <td>1000</td>\n",
       "      <td>30720</td>\n",
       "      <td>3000</td>\n",
       "      <td>1950</td>\n",
       "      <td>150</td>\n",
       "      <td>1</td>\n",
       "      <td>1</td>\n",
       "      <td>30.0</td>\n",
       "    </tr>\n",
       "    <tr>\n",
       "      <th>1</th>\n",
       "      <td>1000</td>\n",
       "      <td>172.0</td>\n",
       "      <td>22.689229</td>\n",
       "      <td>43.0</td>\n",
       "      <td>60.0</td>\n",
       "      <td>ultra</td>\n",
       "      <td>1000</td>\n",
       "      <td>30720</td>\n",
       "      <td>3000</td>\n",
       "      <td>1950</td>\n",
       "      <td>150</td>\n",
       "      <td>1</td>\n",
       "      <td>1</td>\n",
       "      <td>30.0</td>\n",
       "    </tr>\n",
       "    <tr>\n",
       "      <th>2</th>\n",
       "      <td>1000</td>\n",
       "      <td>340.0</td>\n",
       "      <td>13.675430</td>\n",
       "      <td>47.0</td>\n",
       "      <td>75.0</td>\n",
       "      <td>ultra</td>\n",
       "      <td>1000</td>\n",
       "      <td>30720</td>\n",
       "      <td>3000</td>\n",
       "      <td>1950</td>\n",
       "      <td>150</td>\n",
       "      <td>1</td>\n",
       "      <td>1</td>\n",
       "      <td>30.0</td>\n",
       "    </tr>\n",
       "    <tr>\n",
       "      <th>3</th>\n",
       "      <td>1000</td>\n",
       "      <td>408.0</td>\n",
       "      <td>13.726494</td>\n",
       "      <td>52.0</td>\n",
       "      <td>81.0</td>\n",
       "      <td>ultra</td>\n",
       "      <td>1000</td>\n",
       "      <td>30720</td>\n",
       "      <td>3000</td>\n",
       "      <td>1950</td>\n",
       "      <td>150</td>\n",
       "      <td>1</td>\n",
       "      <td>1</td>\n",
       "      <td>30.0</td>\n",
       "    </tr>\n",
       "    <tr>\n",
       "      <th>4</th>\n",
       "      <td>1000</td>\n",
       "      <td>466.0</td>\n",
       "      <td>14.227451</td>\n",
       "      <td>58.0</td>\n",
       "      <td>57.0</td>\n",
       "      <td>ultra</td>\n",
       "      <td>1000</td>\n",
       "      <td>30720</td>\n",
       "      <td>3000</td>\n",
       "      <td>1950</td>\n",
       "      <td>150</td>\n",
       "      <td>1</td>\n",
       "      <td>1</td>\n",
       "      <td>30.0</td>\n",
       "    </tr>\n",
       "    <tr>\n",
       "      <th>5</th>\n",
       "      <td>1000</td>\n",
       "      <td>350.0</td>\n",
       "      <td>14.357900</td>\n",
       "      <td>57.0</td>\n",
       "      <td>73.0</td>\n",
       "      <td>ultra</td>\n",
       "      <td>1000</td>\n",
       "      <td>30720</td>\n",
       "      <td>3000</td>\n",
       "      <td>1950</td>\n",
       "      <td>150</td>\n",
       "      <td>1</td>\n",
       "      <td>1</td>\n",
       "      <td>30.0</td>\n",
       "    </tr>\n",
       "    <tr>\n",
       "      <th>6</th>\n",
       "      <td>1000</td>\n",
       "      <td>338.0</td>\n",
       "      <td>14.410615</td>\n",
       "      <td>43.0</td>\n",
       "      <td>58.0</td>\n",
       "      <td>ultra</td>\n",
       "      <td>1000</td>\n",
       "      <td>30720</td>\n",
       "      <td>3000</td>\n",
       "      <td>1950</td>\n",
       "      <td>150</td>\n",
       "      <td>1</td>\n",
       "      <td>1</td>\n",
       "      <td>30.0</td>\n",
       "    </tr>\n",
       "    <tr>\n",
       "      <th>7</th>\n",
       "      <td>1000</td>\n",
       "      <td>333.0</td>\n",
       "      <td>9.587510</td>\n",
       "      <td>46.0</td>\n",
       "      <td>70.0</td>\n",
       "      <td>ultra</td>\n",
       "      <td>1000</td>\n",
       "      <td>30720</td>\n",
       "      <td>3000</td>\n",
       "      <td>1950</td>\n",
       "      <td>150</td>\n",
       "      <td>1</td>\n",
       "      <td>1</td>\n",
       "      <td>30.0</td>\n",
       "    </tr>\n",
       "    <tr>\n",
       "      <th>8</th>\n",
       "      <td>1003</td>\n",
       "      <td>380.0</td>\n",
       "      <td>8.364463</td>\n",
       "      <td>55.0</td>\n",
       "      <td>37.0</td>\n",
       "      <td>ultra</td>\n",
       "      <td>1000</td>\n",
       "      <td>30720</td>\n",
       "      <td>3000</td>\n",
       "      <td>1950</td>\n",
       "      <td>150</td>\n",
       "      <td>1</td>\n",
       "      <td>1</td>\n",
       "      <td>30.0</td>\n",
       "    </tr>\n",
       "    <tr>\n",
       "      <th>9</th>\n",
       "      <td>1003</td>\n",
       "      <td>961.0</td>\n",
       "      <td>12.176631</td>\n",
       "      <td>134.0</td>\n",
       "      <td>91.0</td>\n",
       "      <td>ultra</td>\n",
       "      <td>1000</td>\n",
       "      <td>30720</td>\n",
       "      <td>3000</td>\n",
       "      <td>1950</td>\n",
       "      <td>150</td>\n",
       "      <td>1</td>\n",
       "      <td>1</td>\n",
       "      <td>30.0</td>\n",
       "    </tr>\n",
       "  </tbody>\n",
       "</table>\n",
       "</div>"
      ],
      "text/plain": [
       "   user_id  calls_sum    gb_used  calls_count  messages_count tariff  \\\n",
       "0     1000      159.0   2.200674         22.0            22.0  ultra   \n",
       "1     1000      172.0  22.689229         43.0            60.0  ultra   \n",
       "2     1000      340.0  13.675430         47.0            75.0  ultra   \n",
       "3     1000      408.0  13.726494         52.0            81.0  ultra   \n",
       "4     1000      466.0  14.227451         58.0            57.0  ultra   \n",
       "5     1000      350.0  14.357900         57.0            73.0  ultra   \n",
       "6     1000      338.0  14.410615         43.0            58.0  ultra   \n",
       "7     1000      333.0   9.587510         46.0            70.0  ultra   \n",
       "8     1003      380.0   8.364463         55.0            37.0  ultra   \n",
       "9     1003      961.0  12.176631        134.0            91.0  ultra   \n",
       "\n",
       "   messages_included  mb_per_month_included  minutes_included  \\\n",
       "0               1000                  30720              3000   \n",
       "1               1000                  30720              3000   \n",
       "2               1000                  30720              3000   \n",
       "3               1000                  30720              3000   \n",
       "4               1000                  30720              3000   \n",
       "5               1000                  30720              3000   \n",
       "6               1000                  30720              3000   \n",
       "7               1000                  30720              3000   \n",
       "8               1000                  30720              3000   \n",
       "9               1000                  30720              3000   \n",
       "\n",
       "   rub_monthly_fee  rub_per_gb  rub_per_message  rub_per_minute  \\\n",
       "0             1950         150                1               1   \n",
       "1             1950         150                1               1   \n",
       "2             1950         150                1               1   \n",
       "3             1950         150                1               1   \n",
       "4             1950         150                1               1   \n",
       "5             1950         150                1               1   \n",
       "6             1950         150                1               1   \n",
       "7             1950         150                1               1   \n",
       "8             1950         150                1               1   \n",
       "9             1950         150                1               1   \n",
       "\n",
       "   gb_per_month_included  \n",
       "0                   30.0  \n",
       "1                   30.0  \n",
       "2                   30.0  \n",
       "3                   30.0  \n",
       "4                   30.0  \n",
       "5                   30.0  \n",
       "6                   30.0  \n",
       "7                   30.0  \n",
       "8                   30.0  \n",
       "9                   30.0  "
      ]
     },
     "execution_count": 42,
     "metadata": {},
     "output_type": "execute_result"
    }
   ],
   "source": [
    "full['gb_per_month_included'] = full['mb_per_month_included'] / 1024\n",
    "full.head(10)"
   ]
  },
  {
   "cell_type": "markdown",
   "metadata": {},
   "source": [
    "Теперь напишем функцию, которая будет считать выручку для каждого пользователя. Она должна учесть как тех, кто не выходил за лимиты своего тарифа, так и тех, кто его превысил. По умолчанию в переменной с выручкой уже стоит сумма по тарифу, однако при превышении показателй по звонкам, сообщениям и/или интернет-трафику, функция добавляет к имеющемуся значению еще и дополнительную стоимость.\n",
    "\n",
    "Таким образом, мы получаем точные данные по доходу с каждого пользователя согласно его тарифу."
   ]
  },
  {
   "cell_type": "code",
   "execution_count": 43,
   "metadata": {
    "scrolled": true
   },
   "outputs": [
    {
     "data": {
      "text/html": [
       "<div>\n",
       "<style scoped>\n",
       "    .dataframe tbody tr th:only-of-type {\n",
       "        vertical-align: middle;\n",
       "    }\n",
       "\n",
       "    .dataframe tbody tr th {\n",
       "        vertical-align: top;\n",
       "    }\n",
       "\n",
       "    .dataframe thead th {\n",
       "        text-align: right;\n",
       "    }\n",
       "</style>\n",
       "<table border=\"1\" class=\"dataframe\">\n",
       "  <thead>\n",
       "    <tr style=\"text-align: right;\">\n",
       "      <th></th>\n",
       "      <th>user_id</th>\n",
       "      <th>calls_sum</th>\n",
       "      <th>gb_used</th>\n",
       "      <th>calls_count</th>\n",
       "      <th>messages_count</th>\n",
       "      <th>tariff</th>\n",
       "      <th>messages_included</th>\n",
       "      <th>mb_per_month_included</th>\n",
       "      <th>minutes_included</th>\n",
       "      <th>rub_monthly_fee</th>\n",
       "      <th>rub_per_gb</th>\n",
       "      <th>rub_per_message</th>\n",
       "      <th>rub_per_minute</th>\n",
       "      <th>gb_per_month_included</th>\n",
       "      <th>earning</th>\n",
       "    </tr>\n",
       "  </thead>\n",
       "  <tbody>\n",
       "    <tr>\n",
       "      <th>0</th>\n",
       "      <td>1000</td>\n",
       "      <td>159.0</td>\n",
       "      <td>2.200674</td>\n",
       "      <td>22.0</td>\n",
       "      <td>22.0</td>\n",
       "      <td>ultra</td>\n",
       "      <td>1000</td>\n",
       "      <td>30720</td>\n",
       "      <td>3000</td>\n",
       "      <td>1950</td>\n",
       "      <td>150</td>\n",
       "      <td>1</td>\n",
       "      <td>1</td>\n",
       "      <td>30.0</td>\n",
       "      <td>1950.0</td>\n",
       "    </tr>\n",
       "    <tr>\n",
       "      <th>1</th>\n",
       "      <td>1000</td>\n",
       "      <td>172.0</td>\n",
       "      <td>22.689229</td>\n",
       "      <td>43.0</td>\n",
       "      <td>60.0</td>\n",
       "      <td>ultra</td>\n",
       "      <td>1000</td>\n",
       "      <td>30720</td>\n",
       "      <td>3000</td>\n",
       "      <td>1950</td>\n",
       "      <td>150</td>\n",
       "      <td>1</td>\n",
       "      <td>1</td>\n",
       "      <td>30.0</td>\n",
       "      <td>1950.0</td>\n",
       "    </tr>\n",
       "    <tr>\n",
       "      <th>2</th>\n",
       "      <td>1000</td>\n",
       "      <td>340.0</td>\n",
       "      <td>13.675430</td>\n",
       "      <td>47.0</td>\n",
       "      <td>75.0</td>\n",
       "      <td>ultra</td>\n",
       "      <td>1000</td>\n",
       "      <td>30720</td>\n",
       "      <td>3000</td>\n",
       "      <td>1950</td>\n",
       "      <td>150</td>\n",
       "      <td>1</td>\n",
       "      <td>1</td>\n",
       "      <td>30.0</td>\n",
       "      <td>1950.0</td>\n",
       "    </tr>\n",
       "    <tr>\n",
       "      <th>3</th>\n",
       "      <td>1000</td>\n",
       "      <td>408.0</td>\n",
       "      <td>13.726494</td>\n",
       "      <td>52.0</td>\n",
       "      <td>81.0</td>\n",
       "      <td>ultra</td>\n",
       "      <td>1000</td>\n",
       "      <td>30720</td>\n",
       "      <td>3000</td>\n",
       "      <td>1950</td>\n",
       "      <td>150</td>\n",
       "      <td>1</td>\n",
       "      <td>1</td>\n",
       "      <td>30.0</td>\n",
       "      <td>1950.0</td>\n",
       "    </tr>\n",
       "    <tr>\n",
       "      <th>4</th>\n",
       "      <td>1000</td>\n",
       "      <td>466.0</td>\n",
       "      <td>14.227451</td>\n",
       "      <td>58.0</td>\n",
       "      <td>57.0</td>\n",
       "      <td>ultra</td>\n",
       "      <td>1000</td>\n",
       "      <td>30720</td>\n",
       "      <td>3000</td>\n",
       "      <td>1950</td>\n",
       "      <td>150</td>\n",
       "      <td>1</td>\n",
       "      <td>1</td>\n",
       "      <td>30.0</td>\n",
       "      <td>1950.0</td>\n",
       "    </tr>\n",
       "    <tr>\n",
       "      <th>5</th>\n",
       "      <td>1000</td>\n",
       "      <td>350.0</td>\n",
       "      <td>14.357900</td>\n",
       "      <td>57.0</td>\n",
       "      <td>73.0</td>\n",
       "      <td>ultra</td>\n",
       "      <td>1000</td>\n",
       "      <td>30720</td>\n",
       "      <td>3000</td>\n",
       "      <td>1950</td>\n",
       "      <td>150</td>\n",
       "      <td>1</td>\n",
       "      <td>1</td>\n",
       "      <td>30.0</td>\n",
       "      <td>1950.0</td>\n",
       "    </tr>\n",
       "    <tr>\n",
       "      <th>6</th>\n",
       "      <td>1000</td>\n",
       "      <td>338.0</td>\n",
       "      <td>14.410615</td>\n",
       "      <td>43.0</td>\n",
       "      <td>58.0</td>\n",
       "      <td>ultra</td>\n",
       "      <td>1000</td>\n",
       "      <td>30720</td>\n",
       "      <td>3000</td>\n",
       "      <td>1950</td>\n",
       "      <td>150</td>\n",
       "      <td>1</td>\n",
       "      <td>1</td>\n",
       "      <td>30.0</td>\n",
       "      <td>1950.0</td>\n",
       "    </tr>\n",
       "    <tr>\n",
       "      <th>7</th>\n",
       "      <td>1000</td>\n",
       "      <td>333.0</td>\n",
       "      <td>9.587510</td>\n",
       "      <td>46.0</td>\n",
       "      <td>70.0</td>\n",
       "      <td>ultra</td>\n",
       "      <td>1000</td>\n",
       "      <td>30720</td>\n",
       "      <td>3000</td>\n",
       "      <td>1950</td>\n",
       "      <td>150</td>\n",
       "      <td>1</td>\n",
       "      <td>1</td>\n",
       "      <td>30.0</td>\n",
       "      <td>1950.0</td>\n",
       "    </tr>\n",
       "    <tr>\n",
       "      <th>8</th>\n",
       "      <td>1003</td>\n",
       "      <td>380.0</td>\n",
       "      <td>8.364463</td>\n",
       "      <td>55.0</td>\n",
       "      <td>37.0</td>\n",
       "      <td>ultra</td>\n",
       "      <td>1000</td>\n",
       "      <td>30720</td>\n",
       "      <td>3000</td>\n",
       "      <td>1950</td>\n",
       "      <td>150</td>\n",
       "      <td>1</td>\n",
       "      <td>1</td>\n",
       "      <td>30.0</td>\n",
       "      <td>1950.0</td>\n",
       "    </tr>\n",
       "    <tr>\n",
       "      <th>9</th>\n",
       "      <td>1003</td>\n",
       "      <td>961.0</td>\n",
       "      <td>12.176631</td>\n",
       "      <td>134.0</td>\n",
       "      <td>91.0</td>\n",
       "      <td>ultra</td>\n",
       "      <td>1000</td>\n",
       "      <td>30720</td>\n",
       "      <td>3000</td>\n",
       "      <td>1950</td>\n",
       "      <td>150</td>\n",
       "      <td>1</td>\n",
       "      <td>1</td>\n",
       "      <td>30.0</td>\n",
       "      <td>1950.0</td>\n",
       "    </tr>\n",
       "  </tbody>\n",
       "</table>\n",
       "</div>"
      ],
      "text/plain": [
       "   user_id  calls_sum    gb_used  calls_count  messages_count tariff  \\\n",
       "0     1000      159.0   2.200674         22.0            22.0  ultra   \n",
       "1     1000      172.0  22.689229         43.0            60.0  ultra   \n",
       "2     1000      340.0  13.675430         47.0            75.0  ultra   \n",
       "3     1000      408.0  13.726494         52.0            81.0  ultra   \n",
       "4     1000      466.0  14.227451         58.0            57.0  ultra   \n",
       "5     1000      350.0  14.357900         57.0            73.0  ultra   \n",
       "6     1000      338.0  14.410615         43.0            58.0  ultra   \n",
       "7     1000      333.0   9.587510         46.0            70.0  ultra   \n",
       "8     1003      380.0   8.364463         55.0            37.0  ultra   \n",
       "9     1003      961.0  12.176631        134.0            91.0  ultra   \n",
       "\n",
       "   messages_included  mb_per_month_included  minutes_included  \\\n",
       "0               1000                  30720              3000   \n",
       "1               1000                  30720              3000   \n",
       "2               1000                  30720              3000   \n",
       "3               1000                  30720              3000   \n",
       "4               1000                  30720              3000   \n",
       "5               1000                  30720              3000   \n",
       "6               1000                  30720              3000   \n",
       "7               1000                  30720              3000   \n",
       "8               1000                  30720              3000   \n",
       "9               1000                  30720              3000   \n",
       "\n",
       "   rub_monthly_fee  rub_per_gb  rub_per_message  rub_per_minute  \\\n",
       "0             1950         150                1               1   \n",
       "1             1950         150                1               1   \n",
       "2             1950         150                1               1   \n",
       "3             1950         150                1               1   \n",
       "4             1950         150                1               1   \n",
       "5             1950         150                1               1   \n",
       "6             1950         150                1               1   \n",
       "7             1950         150                1               1   \n",
       "8             1950         150                1               1   \n",
       "9             1950         150                1               1   \n",
       "\n",
       "   gb_per_month_included  earning  \n",
       "0                   30.0   1950.0  \n",
       "1                   30.0   1950.0  \n",
       "2                   30.0   1950.0  \n",
       "3                   30.0   1950.0  \n",
       "4                   30.0   1950.0  \n",
       "5                   30.0   1950.0  \n",
       "6                   30.0   1950.0  \n",
       "7                   30.0   1950.0  \n",
       "8                   30.0   1950.0  \n",
       "9                   30.0   1950.0  "
      ]
     },
     "execution_count": 43,
     "metadata": {},
     "output_type": "execute_result"
    }
   ],
   "source": [
    "def earned(user):\n",
    "    payment = user['rub_monthly_fee']\n",
    "    if user['messages_count'] > user['messages_included']:\n",
    "        payment += (user['messages_count'] - user['messages_included']) * user['rub_per_message']\n",
    "    if user['calls_sum'] > user['minutes_included']:\n",
    "        payment += (user['calls_sum'] - user['minutes_included']) * user['rub_per_minute']\n",
    "    if user['gb_used'] > user['gb_per_month_included']:\n",
    "        payment += np.ceil(user['gb_used'] - user['gb_per_month_included']) * user['rub_per_gb']\n",
    "    return payment\n",
    "\n",
    "full['earning'] = full.apply(earned, axis=1)\n",
    "full.head(10)"
   ]
  },
  {
   "cell_type": "code",
   "execution_count": 44,
   "metadata": {},
   "outputs": [
    {
     "data": {
      "text/plain": [
       "1289.9735307312696"
      ]
     },
     "execution_count": 44,
     "metadata": {},
     "output_type": "execute_result"
    }
   ],
   "source": [
    "smart = full.query('tariff == \"smart\"')\n",
    "smart['earning'].mean()"
   ]
  },
  {
   "cell_type": "code",
   "execution_count": 45,
   "metadata": {},
   "outputs": [
    {
     "data": {
      "text/plain": [
       "2070.1522842639592"
      ]
     },
     "execution_count": 45,
     "metadata": {},
     "output_type": "execute_result"
    }
   ],
   "source": [
    "ultra = full.query('tariff == \"ultra\"')\n",
    "ultra['earning'].mean()"
   ]
  },
  {
   "cell_type": "markdown",
   "metadata": {},
   "source": [
    "## Анализ данных"
   ]
  },
  {
   "cell_type": "markdown",
   "metadata": {},
   "source": [
    "### Сколько минут разговора требуется пользователям каждого тарифа в месяц?"
   ]
  },
  {
   "cell_type": "code",
   "execution_count": 46,
   "metadata": {},
   "outputs": [
    {
     "name": "stdout",
     "output_type": "stream",
     "text": [
      "Пользователям тарифа \"Смарт\" требуется в среднем 419.0629779577148 минут разговора в месяц\n"
     ]
    }
   ],
   "source": [
    "print('Пользователям тарифа \"Смарт\" требуется в среднем', smart['calls_sum'].mean(), 'минут разговора в месяц')"
   ]
  },
  {
   "cell_type": "code",
   "execution_count": 47,
   "metadata": {},
   "outputs": [
    {
     "name": "stdout",
     "output_type": "stream",
     "text": [
      "Дисперсия по тарифу \"Смарт\" равна: 35828.06530953033\n",
      "Стандартное отклонение по тарифу \"Смарт\" равно: 189.2830296395594\n"
     ]
    }
   ],
   "source": [
    "smart_call_var = np.var(smart['calls_sum'])\n",
    "print('Дисперсия по тарифу \"Смарт\" равна:', smart_call_var)\n",
    "smart_call_sd = np.sqrt(smart_call_var)\n",
    "print('Стандартное отклонение по тарифу \"Смарт\" равно:', smart_call_sd)"
   ]
  },
  {
   "cell_type": "code",
   "execution_count": 48,
   "metadata": {},
   "outputs": [
    {
     "name": "stdout",
     "output_type": "stream",
     "text": [
      "Пользователям тарифа \"Ультра\" требуется в среднем 545.4511041009464 минут разговора в месяц\n"
     ]
    }
   ],
   "source": [
    "print('Пользователям тарифа \"Ультра\" требуется в среднем', ultra['calls_sum'].mean(), 'минут разговора в месяц')"
   ]
  },
  {
   "cell_type": "code",
   "execution_count": 49,
   "metadata": {},
   "outputs": [
    {
     "name": "stdout",
     "output_type": "stream",
     "text": [
      "Дисперсия по тарифу \"Ультра\" равна: 94104.36117385981\n",
      "Стандартное отклонение по тарифу \"Ультра\" равно: 306.7643414314314\n"
     ]
    }
   ],
   "source": [
    "ultra_call_var = np.var(ultra['calls_sum'])\n",
    "print('Дисперсия по тарифу \"Ультра\" равна:', ultra_call_var)\n",
    "ultra_call_sd = np.sqrt(ultra_call_var)\n",
    "print('Стандартное отклонение по тарифу \"Ультра\" равно:', ultra_call_sd)"
   ]
  },
  {
   "cell_type": "code",
   "execution_count": 50,
   "metadata": {},
   "outputs": [
    {
     "name": "stdout",
     "output_type": "stream",
     "text": [
      "Средняя продолжительность звонков по каждому тарифу:\n"
     ]
    },
    {
     "data": {
      "image/png": "[encoded data removed]",
      "text/plain": [
       "<Figure size 432x288 with 1 Axes>"
      ]
     },
     "metadata": {
      "needs_background": "light"
     },
     "output_type": "display_data"
    }
   ],
   "source": [
    "plt.hist(smart['calls_sum'], bins=20, alpha=0.5, label='smart')\n",
    "plt.hist(ultra['calls_sum'], bins=20, alpha=0.5, label='ultra')\n",
    "plt.legend(loc='upper right')\n",
    "plt.xlabel(\"Продолжительность звонков в минутах\")\n",
    "plt.ylabel(\"Количество пользователей\")\n",
    "print('Средняя продолжительность звонков по каждому тарифу:')\n",
    "plt.show()"
   ]
  },
  {
   "cell_type": "markdown",
   "metadata": {},
   "source": [
    "Пользователи тарифа smart расходуют в среднем меньше минут разговора, чем пользователи тарифа ultra, однако в количественном отношении их больше."
   ]
  },
  {
   "cell_type": "markdown",
   "metadata": {},
   "source": [
    "### Сколько сообщений требуется пользователям каждого тарифа в месяц?"
   ]
  },
  {
   "cell_type": "code",
   "execution_count": 51,
   "metadata": {},
   "outputs": [
    {
     "name": "stdout",
     "output_type": "stream",
     "text": [
      "Пользователям тарифа \"Смарт\" требуется в среднем 38.71644120707596 сообщений в месяц\n"
     ]
    }
   ],
   "source": [
    "print('Пользователям тарифа \"Смарт\" требуется в среднем', smart['messages_count'].mean(), 'сообщений в месяц')"
   ]
  },
  {
   "cell_type": "code",
   "execution_count": 52,
   "metadata": {},
   "outputs": [
    {
     "name": "stdout",
     "output_type": "stream",
     "text": [
      "Дисперсия по тарифу \"Смарт\" равна: 717.220843110227\n",
      "Стандартное отклонение по тарифу \"Смарт\" равно: 26.780979129042816\n"
     ]
    }
   ],
   "source": [
    "smart_messages_var = np.var(smart['messages_count'])\n",
    "print('Дисперсия по тарифу \"Смарт\" равна:', smart_messages_var)\n",
    "smart_messages_sd = np.sqrt(smart_messages_var)\n",
    "print('Стандартное отклонение по тарифу \"Смарт\" равно:', smart_messages_sd)"
   ]
  },
  {
   "cell_type": "code",
   "execution_count": 53,
   "metadata": {},
   "outputs": [
    {
     "name": "stdout",
     "output_type": "stream",
     "text": [
      "Пользователям тарифа \"Ультра\" требуется в среднем 61.161006289308176 сообщений в месяц\n"
     ]
    }
   ],
   "source": [
    "print('Пользователям тарифа \"Ультра\" требуется в среднем', ultra['messages_count'].mean(), 'сообщений в месяц')"
   ]
  },
  {
   "cell_type": "code",
   "execution_count": 54,
   "metadata": {},
   "outputs": [
    {
     "name": "stdout",
     "output_type": "stream",
     "text": [
      "Дисперсия по тарифу \"Ультра\" равна: 2107.0055235156838\n",
      "Стандартное отклонение по тарифу \"Ультра\" равно: 45.90212983637779\n"
     ]
    }
   ],
   "source": [
    "ultra_messages_var = np.var(ultra['messages_count'])\n",
    "print('Дисперсия по тарифу \"Ультра\" равна:', ultra_messages_var)\n",
    "ultra_messages_sd = np.sqrt(ultra_messages_var)\n",
    "print('Стандартное отклонение по тарифу \"Ультра\" равно:', ultra_messages_sd)"
   ]
  },
  {
   "cell_type": "code",
   "execution_count": 55,
   "metadata": {},
   "outputs": [
    {
     "data": {
      "image/png": "[encoded data removed]",
      "text/plain": [
       "<Figure size 720x576 with 1 Axes>"
      ]
     },
     "metadata": {
      "needs_background": "light"
     },
     "output_type": "display_data"
    }
   ],
   "source": [
    "full.groupby('tariff')['messages_count'].plot.hist(alpha=0.5, legend=True, bins=25, figsize=(10,8))\n",
    "\n",
    "plt.legend(['Смарт', 'Ультра'])\n",
    "plt.title('Количество сообщений в месяц для тарифов \"Смарт\" и \"Ультра\"')\n",
    "plt.xlabel('Количество сообщений в месяц')\n",
    "plt.ylabel('Количество пользователей тарифов')\n",
    "\n",
    "plt.show()"
   ]
  },
  {
   "cell_type": "markdown",
   "metadata": {},
   "source": [
    "Большинство пользователей тарифа smart отправляют не более 60-ти сообщений в месяц, примерно такое же количество сообщений в месяц отправляют пользователи тарифа ultra, однако некоторые из последних отправляют и более 150 сообщений в месяц. "
   ]
  },
  {
   "cell_type": "markdown",
   "metadata": {},
   "source": [
    "### Какой объем интернет-трафика требуется пользователям кажждого тарифа в месяц?"
   ]
  },
  {
   "cell_type": "code",
   "execution_count": 56,
   "metadata": {},
   "outputs": [
    {
     "name": "stdout",
     "output_type": "stream",
     "text": [
      "Средний объем трафика для тарифа \"Смарт\" составляет 15.835607274601662 гб. в месяц\n"
     ]
    }
   ],
   "source": [
    "print('Средний объем трафика для тарифа \"Смарт\" составляет', smart['gb_used'].mean(), 'гб. в месяц')"
   ]
  },
  {
   "cell_type": "code",
   "execution_count": 57,
   "metadata": {},
   "outputs": [
    {
     "name": "stdout",
     "output_type": "stream",
     "text": [
      "Дисперсия по тарифу \"Смарт\" равна: 32.75349598018425\n",
      "Стандартное отклонение по тарифу \"Смарт\" равно: 5.723067008185755\n"
     ]
    }
   ],
   "source": [
    "smart_gb_var = np.var(smart['gb_used'])\n",
    "print('Дисперсия по тарифу \"Смарт\" равна:', smart_gb_var)\n",
    "smart_gb_sd = np.sqrt(smart_gb_var)\n",
    "print('Стандартное отклонение по тарифу \"Смарт\" равно:', smart_gb_sd)"
   ]
  },
  {
   "cell_type": "code",
   "execution_count": 58,
   "metadata": {},
   "outputs": [
    {
     "name": "stdout",
     "output_type": "stream",
     "text": [
      "Средний объем трафика для тарифа \"Ультра\" составляет 19.207505138221155 гб. в месяц\n"
     ]
    }
   ],
   "source": [
    "print('Средний объем трафика для тарифа \"Ультра\" составляет', ultra['gb_used'].mean(), 'гб. в месяц')"
   ]
  },
  {
   "cell_type": "code",
   "execution_count": 59,
   "metadata": {},
   "outputs": [
    {
     "name": "stdout",
     "output_type": "stream",
     "text": [
      "Дисперсия по тарифу \"Ультра\" равна: 94.18759319585469\n",
      "Стандартное отклонение по тарифу \"Ультра\" равно: 9.70502927331261\n"
     ]
    }
   ],
   "source": [
    "ultra_gb_var = np.var(ultra['gb_used'])\n",
    "print('Дисперсия по тарифу \"Ультра\" равна:', ultra_gb_var)\n",
    "ultra_gb_sd = np.sqrt(ultra_gb_var)\n",
    "print('Стандартное отклонение по тарифу \"Ультра\" равно:', ultra_gb_sd)"
   ]
  },
  {
   "cell_type": "code",
   "execution_count": 60,
   "metadata": {},
   "outputs": [
    {
     "data": {
      "image/png": "[encoded data removed]",
      "text/plain": [
       "<Figure size 720x576 with 1 Axes>"
      ]
     },
     "metadata": {
      "needs_background": "light"
     },
     "output_type": "display_data"
    }
   ],
   "source": [
    "full.groupby('tariff')['gb_used'].plot.hist(alpha=0.5, legend=True, bins=25, figsize=(10,8))\n",
    "\n",
    "plt.legend(['Смарт', 'Ультра'])\n",
    "plt.title('Количество гигабайт интернет-трафика в месяц для тарифов \"Смарт\" и \"Ультра\"')\n",
    "plt.xlabel('Количество гигабайт трафика в месяц')\n",
    "plt.ylabel('Количество пользователей тарифов')\n",
    "\n",
    "plt.show()"
   ]
  },
  {
   "cell_type": "markdown",
   "metadata": {},
   "source": [
    "У пользователей тарифа smart меньший размах значений по сравнению с пользователями тарифа ultra: большинство укладывается в 15-25 гб. Среди пользователей тарифа ultra показатели более разнообразны: Есть те, кто использует меньше 10-ти гб., а есть и те, кто использует больше 30-ти гб. в месяц, причем значительного большинства не наблюдается."
   ]
  },
  {
   "cell_type": "markdown",
   "metadata": {},
   "source": [
    "## Проверка гипотез"
   ]
  },
  {
   "cell_type": "markdown",
   "metadata": {},
   "source": [
    "### Гипотеза 1 - средняя выручка пользователей тарифов \"Ультра\" и \"Смарт\" различаются"
   ]
  },
  {
   "cell_type": "markdown",
   "metadata": {},
   "source": [
    "Возьмем за главную гипотезу то предположение, что средние показатели выручки равны, чтобы принять ее или отвергнуть.\n",
    "Сформулируем нулевую и альтернативную гипотезы:\n",
    "\n",
    "* Н0 - средняя выручка пользоватлей тарифа \"Ультра\" = средней выручке пользователей тарифа \"Смарт\"\n",
    "\n",
    "ultra['earning'].mean() = smart['earning'].mean()\n",
    "\n",
    "* Н1 - средняя выручка пользоватлей тарифа \"Ультра\" != средней выручке пользователей тарифа \"Смарт\"\n",
    "\n",
    "ultra['earning'].mean() != smart['earning'].mean()"
   ]
  },
  {
   "cell_type": "markdown",
   "metadata": {},
   "source": [
    "Подсчитаем дисперсии для наших выборок выручек по тарифам:"
   ]
  },
  {
   "cell_type": "code",
   "execution_count": 61,
   "metadata": {},
   "outputs": [
    {
     "name": "stdout",
     "output_type": "stream",
     "text": [
      "Дисперсия по тарифу \"Ультра\" равна: 141373.07325620347\n"
     ]
    }
   ],
   "source": [
    "ultra_earning_var = np.var(ultra['earning'])\n",
    "print('Дисперсия по тарифу \"Ультра\" равна:', ultra_earning_var)"
   ]
  },
  {
   "cell_type": "code",
   "execution_count": 62,
   "metadata": {},
   "outputs": [
    {
     "name": "stdout",
     "output_type": "stream",
     "text": [
      "Дисперсия по тарифу \"Смарт\" равна: 669485.2209234245\n"
     ]
    }
   ],
   "source": [
    "smart_earning_var = np.var(smart['earning'])\n",
    "print('Дисперсия по тарифу \"Смарт\" равна:', smart_earning_var)"
   ]
  },
  {
   "cell_type": "code",
   "execution_count": 63,
   "metadata": {},
   "outputs": [
    {
     "name": "stdout",
     "output_type": "stream",
     "text": [
      "Количество пользователей тарифа \"Смарт\": 2229\n",
      "Количество пользователей тарифа \"Ультра\": 985\n"
     ]
    }
   ],
   "source": [
    "print('Количество пользователей тарифа \"Смарт\":', smart['user_id'].count())\n",
    "print('Количество пользователей тарифа \"Ультра\":',ultra['user_id'].count())"
   ]
  },
  {
   "cell_type": "markdown",
   "metadata": {},
   "source": [
    "Дисперсии неравны, что уже говорит в пользу того, что нулевую гипотезу нужно отвергнуть, однако мы все же перепроверим полученные данные. Также наши выборки не равны между собой, что указание в equal_var значения False."
   ]
  },
  {
   "cell_type": "code",
   "execution_count": 64,
   "metadata": {},
   "outputs": [
    {
     "name": "stdout",
     "output_type": "stream",
     "text": [
      "p-значение: 4.2606313931076085e-250\n",
      "Отвергаем нулевую гипотезу\n"
     ]
    }
   ],
   "source": [
    "from scipy import stats as st\n",
    "alpha = 0.05\n",
    "results = st.ttest_ind(\n",
    "    ultra['earning'], \n",
    "    smart['earning'],\n",
    "    equal_var = False)\n",
    "    \n",
    "print('p-значение:', results.pvalue)\n",
    "if results.pvalue < alpha:\n",
    "    print(\"Отвергаем нулевую гипотезу\")\n",
    "else:\n",
    "    print(\"Не получилось отвергнуть нулевую гипотезу\")"
   ]
  },
  {
   "cell_type": "code",
   "execution_count": 65,
   "metadata": {},
   "outputs": [
    {
     "data": {
      "text/plain": [
       "Ttest_indResult(statistic=-inf, pvalue=0.0)"
      ]
     },
     "execution_count": 65,
     "metadata": {},
     "output_type": "execute_result"
    }
   ],
   "source": [
    "st.ttest_ind(\n",
    "    [550, 550], \n",
    "    [1950, 1950])"
   ]
  },
  {
   "cell_type": "markdown",
   "metadata": {},
   "source": [
    "Результаты показали, что средние выручки по двум исследуемым тарифам различаются, а значит главная гипотеза, заявленная в заголовке, верна."
   ]
  },
  {
   "cell_type": "markdown",
   "metadata": {},
   "source": [
    "### Гипитоеза 2 - средняя выручка пользователей из Москвы отличается от выручки пользователей из других регионов"
   ]
  },
  {
   "cell_type": "markdown",
   "metadata": {},
   "source": [
    "Изначально города не были добавлены в итоговый датафрейм (моя вина), поэтому добавим их сейчас. Создадим датафреймы с выборками пользователей из Москвы и других городов нашей страны. "
   ]
  },
  {
   "cell_type": "code",
   "execution_count": 66,
   "metadata": {},
   "outputs": [
    {
     "name": "stdout",
     "output_type": "stream",
     "text": [
      "<class 'pandas.core.frame.DataFrame'>\n",
      "Int64Index: 3214 entries, 0 to 3213\n",
      "Data columns (total 16 columns):\n",
      " #   Column                 Non-Null Count  Dtype  \n",
      "---  ------                 --------------  -----  \n",
      " 0   user_id                3214 non-null   int64  \n",
      " 1   calls_sum              3174 non-null   float64\n",
      " 2   gb_used                3203 non-null   float64\n",
      " 3   calls_count            3174 non-null   float64\n",
      " 4   messages_count         2717 non-null   float64\n",
      " 5   tariff                 3214 non-null   object \n",
      " 6   messages_included      3214 non-null   int64  \n",
      " 7   mb_per_month_included  3214 non-null   int64  \n",
      " 8   minutes_included       3214 non-null   int64  \n",
      " 9   rub_monthly_fee        3214 non-null   int64  \n",
      " 10  rub_per_gb             3214 non-null   int64  \n",
      " 11  rub_per_message        3214 non-null   int64  \n",
      " 12  rub_per_minute         3214 non-null   int64  \n",
      " 13  gb_per_month_included  3214 non-null   float64\n",
      " 14  earning                3214 non-null   float64\n",
      " 15  city                   3214 non-null   object \n",
      "dtypes: float64(6), int64(8), object(2)\n",
      "memory usage: 426.9+ KB\n"
     ]
    }
   ],
   "source": [
    "city = users[['user_id', 'city']]\n",
    "full = full.merge(city, on='user_id')\n",
    "full.info()"
   ]
  },
  {
   "cell_type": "markdown",
   "metadata": {},
   "source": [
    "Проверили, новый столбец на своем месте."
   ]
  },
  {
   "cell_type": "code",
   "execution_count": 67,
   "metadata": {},
   "outputs": [],
   "source": [
    "moscow_earning = full.query('city == \"Москва\"')\n",
    "other_earning = full.query('city != \"Москва\"')"
   ]
  },
  {
   "cell_type": "code",
   "execution_count": 68,
   "metadata": {
    "scrolled": true
   },
   "outputs": [
    {
     "data": {
      "text/html": [
       "<div>\n",
       "<style scoped>\n",
       "    .dataframe tbody tr th:only-of-type {\n",
       "        vertical-align: middle;\n",
       "    }\n",
       "\n",
       "    .dataframe tbody tr th {\n",
       "        vertical-align: top;\n",
       "    }\n",
       "\n",
       "    .dataframe thead th {\n",
       "        text-align: right;\n",
       "    }\n",
       "</style>\n",
       "<table border=\"1\" class=\"dataframe\">\n",
       "  <thead>\n",
       "    <tr style=\"text-align: right;\">\n",
       "      <th></th>\n",
       "      <th>user_id</th>\n",
       "      <th>calls_sum</th>\n",
       "      <th>gb_used</th>\n",
       "      <th>calls_count</th>\n",
       "      <th>messages_count</th>\n",
       "      <th>tariff</th>\n",
       "      <th>messages_included</th>\n",
       "      <th>mb_per_month_included</th>\n",
       "      <th>minutes_included</th>\n",
       "      <th>rub_monthly_fee</th>\n",
       "      <th>rub_per_gb</th>\n",
       "      <th>rub_per_message</th>\n",
       "      <th>rub_per_minute</th>\n",
       "      <th>gb_per_month_included</th>\n",
       "      <th>earning</th>\n",
       "      <th>city</th>\n",
       "    </tr>\n",
       "  </thead>\n",
       "  <tbody>\n",
       "    <tr>\n",
       "      <th>8</th>\n",
       "      <td>1003</td>\n",
       "      <td>380.0</td>\n",
       "      <td>8.364463</td>\n",
       "      <td>55.0</td>\n",
       "      <td>37.0</td>\n",
       "      <td>ultra</td>\n",
       "      <td>1000</td>\n",
       "      <td>30720</td>\n",
       "      <td>3000</td>\n",
       "      <td>1950</td>\n",
       "      <td>150</td>\n",
       "      <td>1</td>\n",
       "      <td>1</td>\n",
       "      <td>30.0</td>\n",
       "      <td>1950.0</td>\n",
       "      <td>Москва</td>\n",
       "    </tr>\n",
       "    <tr>\n",
       "      <th>9</th>\n",
       "      <td>1003</td>\n",
       "      <td>961.0</td>\n",
       "      <td>12.176631</td>\n",
       "      <td>134.0</td>\n",
       "      <td>91.0</td>\n",
       "      <td>ultra</td>\n",
       "      <td>1000</td>\n",
       "      <td>30720</td>\n",
       "      <td>3000</td>\n",
       "      <td>1950</td>\n",
       "      <td>150</td>\n",
       "      <td>1</td>\n",
       "      <td>1</td>\n",
       "      <td>30.0</td>\n",
       "      <td>1950.0</td>\n",
       "      <td>Москва</td>\n",
       "    </tr>\n",
       "    <tr>\n",
       "      <th>10</th>\n",
       "      <td>1003</td>\n",
       "      <td>855.0</td>\n",
       "      <td>14.422012</td>\n",
       "      <td>108.0</td>\n",
       "      <td>83.0</td>\n",
       "      <td>ultra</td>\n",
       "      <td>1000</td>\n",
       "      <td>30720</td>\n",
       "      <td>3000</td>\n",
       "      <td>1950</td>\n",
       "      <td>150</td>\n",
       "      <td>1</td>\n",
       "      <td>1</td>\n",
       "      <td>30.0</td>\n",
       "      <td>1950.0</td>\n",
       "      <td>Москва</td>\n",
       "    </tr>\n",
       "    <tr>\n",
       "      <th>11</th>\n",
       "      <td>1003</td>\n",
       "      <td>824.0</td>\n",
       "      <td>11.090713</td>\n",
       "      <td>115.0</td>\n",
       "      <td>94.0</td>\n",
       "      <td>ultra</td>\n",
       "      <td>1000</td>\n",
       "      <td>30720</td>\n",
       "      <td>3000</td>\n",
       "      <td>1950</td>\n",
       "      <td>150</td>\n",
       "      <td>1</td>\n",
       "      <td>1</td>\n",
       "      <td>30.0</td>\n",
       "      <td>1950.0</td>\n",
       "      <td>Москва</td>\n",
       "    </tr>\n",
       "    <tr>\n",
       "      <th>12</th>\n",
       "      <td>1003</td>\n",
       "      <td>802.0</td>\n",
       "      <td>9.884307</td>\n",
       "      <td>108.0</td>\n",
       "      <td>75.0</td>\n",
       "      <td>ultra</td>\n",
       "      <td>1000</td>\n",
       "      <td>30720</td>\n",
       "      <td>3000</td>\n",
       "      <td>1950</td>\n",
       "      <td>150</td>\n",
       "      <td>1</td>\n",
       "      <td>1</td>\n",
       "      <td>30.0</td>\n",
       "      <td>1950.0</td>\n",
       "      <td>Москва</td>\n",
       "    </tr>\n",
       "    <tr>\n",
       "      <th>67</th>\n",
       "      <td>1049</td>\n",
       "      <td>403.0</td>\n",
       "      <td>6.050332</td>\n",
       "      <td>55.0</td>\n",
       "      <td>NaN</td>\n",
       "      <td>ultra</td>\n",
       "      <td>1000</td>\n",
       "      <td>30720</td>\n",
       "      <td>3000</td>\n",
       "      <td>1950</td>\n",
       "      <td>150</td>\n",
       "      <td>1</td>\n",
       "      <td>1</td>\n",
       "      <td>30.0</td>\n",
       "      <td>1950.0</td>\n",
       "      <td>Москва</td>\n",
       "    </tr>\n",
       "    <tr>\n",
       "      <th>68</th>\n",
       "      <td>1049</td>\n",
       "      <td>528.0</td>\n",
       "      <td>5.167090</td>\n",
       "      <td>76.0</td>\n",
       "      <td>NaN</td>\n",
       "      <td>ultra</td>\n",
       "      <td>1000</td>\n",
       "      <td>30720</td>\n",
       "      <td>3000</td>\n",
       "      <td>1950</td>\n",
       "      <td>150</td>\n",
       "      <td>1</td>\n",
       "      <td>1</td>\n",
       "      <td>30.0</td>\n",
       "      <td>1950.0</td>\n",
       "      <td>Москва</td>\n",
       "    </tr>\n",
       "    <tr>\n",
       "      <th>69</th>\n",
       "      <td>1049</td>\n",
       "      <td>525.0</td>\n",
       "      <td>9.078477</td>\n",
       "      <td>85.0</td>\n",
       "      <td>NaN</td>\n",
       "      <td>ultra</td>\n",
       "      <td>1000</td>\n",
       "      <td>30720</td>\n",
       "      <td>3000</td>\n",
       "      <td>1950</td>\n",
       "      <td>150</td>\n",
       "      <td>1</td>\n",
       "      <td>1</td>\n",
       "      <td>30.0</td>\n",
       "      <td>1950.0</td>\n",
       "      <td>Москва</td>\n",
       "    </tr>\n",
       "    <tr>\n",
       "      <th>70</th>\n",
       "      <td>1049</td>\n",
       "      <td>520.0</td>\n",
       "      <td>7.420156</td>\n",
       "      <td>76.0</td>\n",
       "      <td>NaN</td>\n",
       "      <td>ultra</td>\n",
       "      <td>1000</td>\n",
       "      <td>30720</td>\n",
       "      <td>3000</td>\n",
       "      <td>1950</td>\n",
       "      <td>150</td>\n",
       "      <td>1</td>\n",
       "      <td>1</td>\n",
       "      <td>30.0</td>\n",
       "      <td>1950.0</td>\n",
       "      <td>Москва</td>\n",
       "    </tr>\n",
       "    <tr>\n",
       "      <th>71</th>\n",
       "      <td>1049</td>\n",
       "      <td>653.0</td>\n",
       "      <td>8.219746</td>\n",
       "      <td>89.0</td>\n",
       "      <td>NaN</td>\n",
       "      <td>ultra</td>\n",
       "      <td>1000</td>\n",
       "      <td>30720</td>\n",
       "      <td>3000</td>\n",
       "      <td>1950</td>\n",
       "      <td>150</td>\n",
       "      <td>1</td>\n",
       "      <td>1</td>\n",
       "      <td>30.0</td>\n",
       "      <td>1950.0</td>\n",
       "      <td>Москва</td>\n",
       "    </tr>\n",
       "  </tbody>\n",
       "</table>\n",
       "</div>"
      ],
      "text/plain": [
       "    user_id  calls_sum    gb_used  calls_count  messages_count tariff  \\\n",
       "8      1003      380.0   8.364463         55.0            37.0  ultra   \n",
       "9      1003      961.0  12.176631        134.0            91.0  ultra   \n",
       "10     1003      855.0  14.422012        108.0            83.0  ultra   \n",
       "11     1003      824.0  11.090713        115.0            94.0  ultra   \n",
       "12     1003      802.0   9.884307        108.0            75.0  ultra   \n",
       "67     1049      403.0   6.050332         55.0             NaN  ultra   \n",
       "68     1049      528.0   5.167090         76.0             NaN  ultra   \n",
       "69     1049      525.0   9.078477         85.0             NaN  ultra   \n",
       "70     1049      520.0   7.420156         76.0             NaN  ultra   \n",
       "71     1049      653.0   8.219746         89.0             NaN  ultra   \n",
       "\n",
       "    messages_included  mb_per_month_included  minutes_included  \\\n",
       "8                1000                  30720              3000   \n",
       "9                1000                  30720              3000   \n",
       "10               1000                  30720              3000   \n",
       "11               1000                  30720              3000   \n",
       "12               1000                  30720              3000   \n",
       "67               1000                  30720              3000   \n",
       "68               1000                  30720              3000   \n",
       "69               1000                  30720              3000   \n",
       "70               1000                  30720              3000   \n",
       "71               1000                  30720              3000   \n",
       "\n",
       "    rub_monthly_fee  rub_per_gb  rub_per_message  rub_per_minute  \\\n",
       "8              1950         150                1               1   \n",
       "9              1950         150                1               1   \n",
       "10             1950         150                1               1   \n",
       "11             1950         150                1               1   \n",
       "12             1950         150                1               1   \n",
       "67             1950         150                1               1   \n",
       "68             1950         150                1               1   \n",
       "69             1950         150                1               1   \n",
       "70             1950         150                1               1   \n",
       "71             1950         150                1               1   \n",
       "\n",
       "    gb_per_month_included  earning    city  \n",
       "8                    30.0   1950.0  Москва  \n",
       "9                    30.0   1950.0  Москва  \n",
       "10                   30.0   1950.0  Москва  \n",
       "11                   30.0   1950.0  Москва  \n",
       "12                   30.0   1950.0  Москва  \n",
       "67                   30.0   1950.0  Москва  \n",
       "68                   30.0   1950.0  Москва  \n",
       "69                   30.0   1950.0  Москва  \n",
       "70                   30.0   1950.0  Москва  \n",
       "71                   30.0   1950.0  Москва  "
      ]
     },
     "execution_count": 68,
     "metadata": {},
     "output_type": "execute_result"
    }
   ],
   "source": [
    "moscow_earning.head(10)"
   ]
  },
  {
   "cell_type": "code",
   "execution_count": 69,
   "metadata": {
    "scrolled": true
   },
   "outputs": [
    {
     "data": {
      "text/html": [
       "<div>\n",
       "<style scoped>\n",
       "    .dataframe tbody tr th:only-of-type {\n",
       "        vertical-align: middle;\n",
       "    }\n",
       "\n",
       "    .dataframe tbody tr th {\n",
       "        vertical-align: top;\n",
       "    }\n",
       "\n",
       "    .dataframe thead th {\n",
       "        text-align: right;\n",
       "    }\n",
       "</style>\n",
       "<table border=\"1\" class=\"dataframe\">\n",
       "  <thead>\n",
       "    <tr style=\"text-align: right;\">\n",
       "      <th></th>\n",
       "      <th>user_id</th>\n",
       "      <th>calls_sum</th>\n",
       "      <th>gb_used</th>\n",
       "      <th>calls_count</th>\n",
       "      <th>messages_count</th>\n",
       "      <th>tariff</th>\n",
       "      <th>messages_included</th>\n",
       "      <th>mb_per_month_included</th>\n",
       "      <th>minutes_included</th>\n",
       "      <th>rub_monthly_fee</th>\n",
       "      <th>rub_per_gb</th>\n",
       "      <th>rub_per_message</th>\n",
       "      <th>rub_per_minute</th>\n",
       "      <th>gb_per_month_included</th>\n",
       "      <th>earning</th>\n",
       "      <th>city</th>\n",
       "    </tr>\n",
       "  </thead>\n",
       "  <tbody>\n",
       "    <tr>\n",
       "      <th>0</th>\n",
       "      <td>1000</td>\n",
       "      <td>159.0</td>\n",
       "      <td>2.200674</td>\n",
       "      <td>22.0</td>\n",
       "      <td>22.0</td>\n",
       "      <td>ultra</td>\n",
       "      <td>1000</td>\n",
       "      <td>30720</td>\n",
       "      <td>3000</td>\n",
       "      <td>1950</td>\n",
       "      <td>150</td>\n",
       "      <td>1</td>\n",
       "      <td>1</td>\n",
       "      <td>30.0</td>\n",
       "      <td>1950.0</td>\n",
       "      <td>Краснодар</td>\n",
       "    </tr>\n",
       "    <tr>\n",
       "      <th>1</th>\n",
       "      <td>1000</td>\n",
       "      <td>172.0</td>\n",
       "      <td>22.689229</td>\n",
       "      <td>43.0</td>\n",
       "      <td>60.0</td>\n",
       "      <td>ultra</td>\n",
       "      <td>1000</td>\n",
       "      <td>30720</td>\n",
       "      <td>3000</td>\n",
       "      <td>1950</td>\n",
       "      <td>150</td>\n",
       "      <td>1</td>\n",
       "      <td>1</td>\n",
       "      <td>30.0</td>\n",
       "      <td>1950.0</td>\n",
       "      <td>Краснодар</td>\n",
       "    </tr>\n",
       "    <tr>\n",
       "      <th>2</th>\n",
       "      <td>1000</td>\n",
       "      <td>340.0</td>\n",
       "      <td>13.675430</td>\n",
       "      <td>47.0</td>\n",
       "      <td>75.0</td>\n",
       "      <td>ultra</td>\n",
       "      <td>1000</td>\n",
       "      <td>30720</td>\n",
       "      <td>3000</td>\n",
       "      <td>1950</td>\n",
       "      <td>150</td>\n",
       "      <td>1</td>\n",
       "      <td>1</td>\n",
       "      <td>30.0</td>\n",
       "      <td>1950.0</td>\n",
       "      <td>Краснодар</td>\n",
       "    </tr>\n",
       "    <tr>\n",
       "      <th>3</th>\n",
       "      <td>1000</td>\n",
       "      <td>408.0</td>\n",
       "      <td>13.726494</td>\n",
       "      <td>52.0</td>\n",
       "      <td>81.0</td>\n",
       "      <td>ultra</td>\n",
       "      <td>1000</td>\n",
       "      <td>30720</td>\n",
       "      <td>3000</td>\n",
       "      <td>1950</td>\n",
       "      <td>150</td>\n",
       "      <td>1</td>\n",
       "      <td>1</td>\n",
       "      <td>30.0</td>\n",
       "      <td>1950.0</td>\n",
       "      <td>Краснодар</td>\n",
       "    </tr>\n",
       "    <tr>\n",
       "      <th>4</th>\n",
       "      <td>1000</td>\n",
       "      <td>466.0</td>\n",
       "      <td>14.227451</td>\n",
       "      <td>58.0</td>\n",
       "      <td>57.0</td>\n",
       "      <td>ultra</td>\n",
       "      <td>1000</td>\n",
       "      <td>30720</td>\n",
       "      <td>3000</td>\n",
       "      <td>1950</td>\n",
       "      <td>150</td>\n",
       "      <td>1</td>\n",
       "      <td>1</td>\n",
       "      <td>30.0</td>\n",
       "      <td>1950.0</td>\n",
       "      <td>Краснодар</td>\n",
       "    </tr>\n",
       "    <tr>\n",
       "      <th>5</th>\n",
       "      <td>1000</td>\n",
       "      <td>350.0</td>\n",
       "      <td>14.357900</td>\n",
       "      <td>57.0</td>\n",
       "      <td>73.0</td>\n",
       "      <td>ultra</td>\n",
       "      <td>1000</td>\n",
       "      <td>30720</td>\n",
       "      <td>3000</td>\n",
       "      <td>1950</td>\n",
       "      <td>150</td>\n",
       "      <td>1</td>\n",
       "      <td>1</td>\n",
       "      <td>30.0</td>\n",
       "      <td>1950.0</td>\n",
       "      <td>Краснодар</td>\n",
       "    </tr>\n",
       "    <tr>\n",
       "      <th>6</th>\n",
       "      <td>1000</td>\n",
       "      <td>338.0</td>\n",
       "      <td>14.410615</td>\n",
       "      <td>43.0</td>\n",
       "      <td>58.0</td>\n",
       "      <td>ultra</td>\n",
       "      <td>1000</td>\n",
       "      <td>30720</td>\n",
       "      <td>3000</td>\n",
       "      <td>1950</td>\n",
       "      <td>150</td>\n",
       "      <td>1</td>\n",
       "      <td>1</td>\n",
       "      <td>30.0</td>\n",
       "      <td>1950.0</td>\n",
       "      <td>Краснодар</td>\n",
       "    </tr>\n",
       "    <tr>\n",
       "      <th>7</th>\n",
       "      <td>1000</td>\n",
       "      <td>333.0</td>\n",
       "      <td>9.587510</td>\n",
       "      <td>46.0</td>\n",
       "      <td>70.0</td>\n",
       "      <td>ultra</td>\n",
       "      <td>1000</td>\n",
       "      <td>30720</td>\n",
       "      <td>3000</td>\n",
       "      <td>1950</td>\n",
       "      <td>150</td>\n",
       "      <td>1</td>\n",
       "      <td>1</td>\n",
       "      <td>30.0</td>\n",
       "      <td>1950.0</td>\n",
       "      <td>Краснодар</td>\n",
       "    </tr>\n",
       "    <tr>\n",
       "      <th>13</th>\n",
       "      <td>1004</td>\n",
       "      <td>35.0</td>\n",
       "      <td>13.089824</td>\n",
       "      <td>9.0</td>\n",
       "      <td>95.0</td>\n",
       "      <td>ultra</td>\n",
       "      <td>1000</td>\n",
       "      <td>30720</td>\n",
       "      <td>3000</td>\n",
       "      <td>1950</td>\n",
       "      <td>150</td>\n",
       "      <td>1</td>\n",
       "      <td>1</td>\n",
       "      <td>30.0</td>\n",
       "      <td>1950.0</td>\n",
       "      <td>Новокузнецк</td>\n",
       "    </tr>\n",
       "    <tr>\n",
       "      <th>14</th>\n",
       "      <td>1004</td>\n",
       "      <td>171.0</td>\n",
       "      <td>17.187520</td>\n",
       "      <td>31.0</td>\n",
       "      <td>134.0</td>\n",
       "      <td>ultra</td>\n",
       "      <td>1000</td>\n",
       "      <td>30720</td>\n",
       "      <td>3000</td>\n",
       "      <td>1950</td>\n",
       "      <td>150</td>\n",
       "      <td>1</td>\n",
       "      <td>1</td>\n",
       "      <td>30.0</td>\n",
       "      <td>1950.0</td>\n",
       "      <td>Новокузнецк</td>\n",
       "    </tr>\n",
       "  </tbody>\n",
       "</table>\n",
       "</div>"
      ],
      "text/plain": [
       "    user_id  calls_sum    gb_used  calls_count  messages_count tariff  \\\n",
       "0      1000      159.0   2.200674         22.0            22.0  ultra   \n",
       "1      1000      172.0  22.689229         43.0            60.0  ultra   \n",
       "2      1000      340.0  13.675430         47.0            75.0  ultra   \n",
       "3      1000      408.0  13.726494         52.0            81.0  ultra   \n",
       "4      1000      466.0  14.227451         58.0            57.0  ultra   \n",
       "5      1000      350.0  14.357900         57.0            73.0  ultra   \n",
       "6      1000      338.0  14.410615         43.0            58.0  ultra   \n",
       "7      1000      333.0   9.587510         46.0            70.0  ultra   \n",
       "13     1004       35.0  13.089824          9.0            95.0  ultra   \n",
       "14     1004      171.0  17.187520         31.0           134.0  ultra   \n",
       "\n",
       "    messages_included  mb_per_month_included  minutes_included  \\\n",
       "0                1000                  30720              3000   \n",
       "1                1000                  30720              3000   \n",
       "2                1000                  30720              3000   \n",
       "3                1000                  30720              3000   \n",
       "4                1000                  30720              3000   \n",
       "5                1000                  30720              3000   \n",
       "6                1000                  30720              3000   \n",
       "7                1000                  30720              3000   \n",
       "13               1000                  30720              3000   \n",
       "14               1000                  30720              3000   \n",
       "\n",
       "    rub_monthly_fee  rub_per_gb  rub_per_message  rub_per_minute  \\\n",
       "0              1950         150                1               1   \n",
       "1              1950         150                1               1   \n",
       "2              1950         150                1               1   \n",
       "3              1950         150                1               1   \n",
       "4              1950         150                1               1   \n",
       "5              1950         150                1               1   \n",
       "6              1950         150                1               1   \n",
       "7              1950         150                1               1   \n",
       "13             1950         150                1               1   \n",
       "14             1950         150                1               1   \n",
       "\n",
       "    gb_per_month_included  earning         city  \n",
       "0                    30.0   1950.0    Краснодар  \n",
       "1                    30.0   1950.0    Краснодар  \n",
       "2                    30.0   1950.0    Краснодар  \n",
       "3                    30.0   1950.0    Краснодар  \n",
       "4                    30.0   1950.0    Краснодар  \n",
       "5                    30.0   1950.0    Краснодар  \n",
       "6                    30.0   1950.0    Краснодар  \n",
       "7                    30.0   1950.0    Краснодар  \n",
       "13                   30.0   1950.0  Новокузнецк  \n",
       "14                   30.0   1950.0  Новокузнецк  "
      ]
     },
     "execution_count": 69,
     "metadata": {},
     "output_type": "execute_result"
    }
   ],
   "source": [
    "other_earning.head(10)"
   ]
  },
  {
   "cell_type": "markdown",
   "metadata": {},
   "source": [
    "Сформулируем гипотезы:\n",
    "\n",
    "* Н0 - средняя выручка пользователей из Москвы = средней выручке пользователей из других регионов(городов)\n",
    "* Н1 - средняя выручка пользователей из Москвы != средней выручке пользователей из других регионов(городов)"
   ]
  },
  {
   "cell_type": "markdown",
   "metadata": {},
   "source": [
    "Подсчитаем дисперсии:"
   ]
  },
  {
   "cell_type": "code",
   "execution_count": 70,
   "metadata": {},
   "outputs": [
    {
     "name": "stdout",
     "output_type": "stream",
     "text": [
      "Дисперсия по выручке пользователей из Москвы: 564710.7117467273\n",
      "Дисперсия по выручке пользователей из других городов: 653886.3270894174\n"
     ]
    }
   ],
   "source": [
    "moscow_earning_var = np.var(moscow_earning['earning'])\n",
    "print('Дисперсия по выручке пользователей из Москвы:', moscow_earning_var)\n",
    "other_earning_var = np.var(other_earning['earning'])\n",
    "print('Дисперсия по выручке пользователей из других городов:', other_earning_var)"
   ]
  },
  {
   "cell_type": "code",
   "execution_count": 71,
   "metadata": {},
   "outputs": [
    {
     "name": "stdout",
     "output_type": "stream",
     "text": [
      "Количество пользователей из Москвы: 611\n",
      "Количество пользователей из других регионов: 2603\n"
     ]
    }
   ],
   "source": [
    "print('Количество пользователей из Москвы:', moscow_earning['user_id'].count())\n",
    "print('Количество пользователей из других регионов:', other_earning['user_id'].count())"
   ]
  },
  {
   "cell_type": "markdown",
   "metadata": {},
   "source": [
    "Дисперсии не равны, как неравнозначны по объему и выборки, так что поступаем так же, как и при проверке первой гипотезы."
   ]
  },
  {
   "cell_type": "code",
   "execution_count": 72,
   "metadata": {},
   "outputs": [
    {
     "name": "stdout",
     "output_type": "stream",
     "text": [
      "p-значение: 0.5257376663729298\n",
      "Не получилось отвергнуть нулевую гипотезу\n"
     ]
    }
   ],
   "source": [
    "alpha = 0.05\n",
    "results1 = st.ttest_ind(\n",
    "    moscow_earning['earning'], \n",
    "    other_earning['earning'],\n",
    "    equal_var = False)\n",
    "    \n",
    "print('p-значение:', results1.pvalue)\n",
    "if results1.pvalue < alpha:\n",
    "    print(\"Отвергаем нулевую гипотезу\")\n",
    "else:\n",
    "    print(\"Не получилось отвергнуть нулевую гипотезу\")"
   ]
  },
  {
   "cell_type": "markdown",
   "metadata": {},
   "source": [
    "Результаты показывают, что нельзя все таки отвергнуть нулевую гипотезу, и таким образом, мы делаем вывод, что средняя выручка пользователей из Москвы схожа со средней выручкой пользователей из других регионов ."
   ]
  },
  {
   "cell_type": "markdown",
   "metadata": {},
   "source": [
    "## Общий вывод"
   ]
  },
  {
   "cell_type": "markdown",
   "metadata": {},
   "source": [
    "* Помесячная выручка с пользователя по месяцам составила для тарифа \"Смарт\" 1265 рублей с человека, а для пользователей тарифа \"Ультра\" 2038 рублей соответственно;\n",
    "* Пользователи тарифа \"Смарт\" расходуют в среднем меньше минут разговора, чем пользователи тарифа \"Ультра\", однако в количественном отношении их больше;\n",
    "* Большинство пользователей тарифа \"Смарт\" отправляют не более 60-ти сообщений в месяц, примерно такое же количество сообщений в месяц отправляют пользователи тарифа \"Ультра\", однако некоторые из последних отправляют и более 150 сообщений в месяц; \n",
    "* У пользователей тарифа \"Смарт\" меньший размах значений по сравнению с пользователями тарифа \"Ультра\": большинство укладывается в 15-25 гб. Среди пользователей тарифа \"Ультра\" показатели более разнообразны: Есть те, кто использует меньше 10-ти гб., а есть и те, кто использует больше 30-ти гб. в месяц, причем значительного большинства не наблюдается;\n",
    "* Результаты показали, что средние выручки по двум исследуемым тарифам различаются;\n",
    "* Гипотеза о том, что средняя выручка пользователей из Москвы и других регионов различается не верна.\n",
    "\n",
    "Таким образом, мы делаем вывод о том, что более **выгодным** является тариф **\"Ультра\"**."
   ]
  }
 ],
 "metadata": {
  "ExecuteTimeLog": [
   {
    "duration": 318,
    "start_time": "2022-02-09T14:24:11.098Z"
   },
   {
    "duration": 905,
    "start_time": "2022-02-09T14:24:25.196Z"
   },
   {
    "duration": 535,
    "start_time": "2022-02-09T14:30:37.743Z"
   },
   {
    "duration": 9,
    "start_time": "2022-02-09T14:32:17.914Z"
   },
   {
    "duration": 39,
    "start_time": "2022-02-09T14:32:37.291Z"
   },
   {
    "duration": 23,
    "start_time": "2022-02-09T14:33:01.088Z"
   },
   {
    "duration": 12,
    "start_time": "2022-02-09T14:33:14.774Z"
   },
   {
    "duration": 35,
    "start_time": "2022-02-09T14:33:17.871Z"
   },
   {
    "duration": 12,
    "start_time": "2022-02-09T14:34:24.362Z"
   },
   {
    "duration": 17,
    "start_time": "2022-02-09T14:39:58.404Z"
   },
   {
    "duration": 11,
    "start_time": "2022-02-09T14:40:01.259Z"
   },
   {
    "duration": 12,
    "start_time": "2022-02-09T14:40:14.107Z"
   },
   {
    "duration": 13,
    "start_time": "2022-02-09T14:40:25.601Z"
   },
   {
    "duration": 9,
    "start_time": "2022-02-09T14:40:33.003Z"
   },
   {
    "duration": 1576,
    "start_time": "2022-02-09T14:47:35.771Z"
   },
   {
    "duration": 224,
    "start_time": "2022-02-09T14:50:08.393Z"
   },
   {
    "duration": 246,
    "start_time": "2022-02-09T14:50:21.516Z"
   },
   {
    "duration": 35,
    "start_time": "2022-02-09T14:51:05.190Z"
   },
   {
    "duration": 16,
    "start_time": "2022-02-09T15:07:16.630Z"
   },
   {
    "duration": 25,
    "start_time": "2022-02-09T15:07:38.149Z"
   },
   {
    "duration": 5762,
    "start_time": "2022-02-09T15:43:30.670Z"
   },
   {
    "duration": 5,
    "start_time": "2022-02-09T15:44:11.396Z"
   },
   {
    "duration": 65,
    "start_time": "2022-02-09T15:48:47.080Z"
   },
   {
    "duration": 357,
    "start_time": "2022-02-09T15:50:10.440Z"
   },
   {
    "duration": 284,
    "start_time": "2022-02-09T15:51:33.808Z"
   },
   {
    "duration": 1062,
    "start_time": "2022-02-09T15:51:51.116Z"
   },
   {
    "duration": 19,
    "start_time": "2022-02-09T15:51:52.180Z"
   },
   {
    "duration": 24,
    "start_time": "2022-02-09T15:51:52.201Z"
   },
   {
    "duration": 10,
    "start_time": "2022-02-09T15:51:52.227Z"
   },
   {
    "duration": 21,
    "start_time": "2022-02-09T15:51:52.238Z"
   },
   {
    "duration": 8,
    "start_time": "2022-02-09T15:51:52.261Z"
   },
   {
    "duration": 16,
    "start_time": "2022-02-09T15:51:52.299Z"
   },
   {
    "duration": 9,
    "start_time": "2022-02-09T15:51:52.319Z"
   },
   {
    "duration": 15,
    "start_time": "2022-02-09T15:51:52.330Z"
   },
   {
    "duration": 11,
    "start_time": "2022-02-09T15:51:52.346Z"
   },
   {
    "duration": 77,
    "start_time": "2022-02-09T15:51:52.359Z"
   },
   {
    "duration": 5,
    "start_time": "2022-02-09T15:51:52.438Z"
   },
   {
    "duration": 92,
    "start_time": "2022-02-09T15:51:52.445Z"
   },
   {
    "duration": 273,
    "start_time": "2022-02-09T15:52:13.291Z"
   },
   {
    "duration": 1079,
    "start_time": "2022-02-09T15:52:42.833Z"
   },
   {
    "duration": 18,
    "start_time": "2022-02-09T15:52:43.914Z"
   },
   {
    "duration": 25,
    "start_time": "2022-02-09T15:52:43.934Z"
   },
   {
    "duration": 10,
    "start_time": "2022-02-09T15:52:43.961Z"
   },
   {
    "duration": 37,
    "start_time": "2022-02-09T15:52:43.972Z"
   },
   {
    "duration": 7,
    "start_time": "2022-02-09T15:52:44.011Z"
   },
   {
    "duration": 18,
    "start_time": "2022-02-09T15:52:44.021Z"
   },
   {
    "duration": 9,
    "start_time": "2022-02-09T15:52:44.041Z"
   },
   {
    "duration": 15,
    "start_time": "2022-02-09T15:52:44.052Z"
   },
   {
    "duration": 30,
    "start_time": "2022-02-09T15:52:44.069Z"
   },
   {
    "duration": 50,
    "start_time": "2022-02-09T15:52:44.101Z"
   },
   {
    "duration": 4,
    "start_time": "2022-02-09T15:52:44.153Z"
   },
   {
    "duration": 73,
    "start_time": "2022-02-09T15:52:44.159Z"
   },
   {
    "duration": 1061,
    "start_time": "2022-02-09T15:53:20.663Z"
   },
   {
    "duration": 15,
    "start_time": "2022-02-09T15:53:21.726Z"
   },
   {
    "duration": 25,
    "start_time": "2022-02-09T15:53:21.744Z"
   },
   {
    "duration": 9,
    "start_time": "2022-02-09T15:53:21.771Z"
   },
   {
    "duration": 24,
    "start_time": "2022-02-09T15:53:21.781Z"
   },
   {
    "duration": 8,
    "start_time": "2022-02-09T15:53:21.807Z"
   },
   {
    "duration": 19,
    "start_time": "2022-02-09T15:53:21.817Z"
   },
   {
    "duration": 8,
    "start_time": "2022-02-09T15:53:21.839Z"
   },
   {
    "duration": 13,
    "start_time": "2022-02-09T15:53:21.849Z"
   },
   {
    "duration": 35,
    "start_time": "2022-02-09T15:53:21.864Z"
   },
   {
    "duration": 52,
    "start_time": "2022-02-09T15:53:21.901Z"
   },
   {
    "duration": 4,
    "start_time": "2022-02-09T15:53:21.955Z"
   },
   {
    "duration": 70,
    "start_time": "2022-02-09T15:53:21.961Z"
   },
   {
    "duration": 3,
    "start_time": "2022-02-09T15:53:22.033Z"
   },
   {
    "duration": 7,
    "start_time": "2022-02-09T15:53:22.037Z"
   },
   {
    "duration": 81,
    "start_time": "2022-02-09T15:53:36.239Z"
   },
   {
    "duration": 305,
    "start_time": "2022-02-09T16:06:05.279Z"
   },
   {
    "duration": 215,
    "start_time": "2022-02-09T16:06:37.634Z"
   },
   {
    "duration": 434,
    "start_time": "2022-02-09T16:08:19.073Z"
   },
   {
    "duration": 1048,
    "start_time": "2022-02-09T16:08:27.741Z"
   },
   {
    "duration": 19,
    "start_time": "2022-02-09T16:08:28.791Z"
   },
   {
    "duration": 25,
    "start_time": "2022-02-09T16:08:28.813Z"
   },
   {
    "duration": 10,
    "start_time": "2022-02-09T16:08:28.840Z"
   },
   {
    "duration": 46,
    "start_time": "2022-02-09T16:08:28.853Z"
   },
   {
    "duration": 8,
    "start_time": "2022-02-09T16:08:28.901Z"
   },
   {
    "duration": 17,
    "start_time": "2022-02-09T16:08:28.912Z"
   },
   {
    "duration": 10,
    "start_time": "2022-02-09T16:08:28.932Z"
   },
   {
    "duration": 15,
    "start_time": "2022-02-09T16:08:28.943Z"
   },
   {
    "duration": 45,
    "start_time": "2022-02-09T16:08:28.960Z"
   },
   {
    "duration": 53,
    "start_time": "2022-02-09T16:08:29.007Z"
   },
   {
    "duration": 5,
    "start_time": "2022-02-09T16:08:29.062Z"
   },
   {
    "duration": 6,
    "start_time": "2022-02-09T16:08:29.069Z"
   },
   {
    "duration": 81,
    "start_time": "2022-02-09T16:08:29.076Z"
   },
   {
    "duration": 2,
    "start_time": "2022-02-09T16:08:29.159Z"
   },
   {
    "duration": 5,
    "start_time": "2022-02-09T16:08:29.163Z"
   },
   {
    "duration": 1049,
    "start_time": "2022-02-09T16:10:17.260Z"
   },
   {
    "duration": 18,
    "start_time": "2022-02-09T16:10:18.311Z"
   },
   {
    "duration": 26,
    "start_time": "2022-02-09T16:10:18.331Z"
   },
   {
    "duration": 10,
    "start_time": "2022-02-09T16:10:18.360Z"
   },
   {
    "duration": 42,
    "start_time": "2022-02-09T16:10:18.371Z"
   },
   {
    "duration": 8,
    "start_time": "2022-02-09T16:10:18.414Z"
   },
   {
    "duration": 17,
    "start_time": "2022-02-09T16:10:18.424Z"
   },
   {
    "duration": 8,
    "start_time": "2022-02-09T16:10:18.444Z"
   },
   {
    "duration": 12,
    "start_time": "2022-02-09T16:10:18.454Z"
   },
   {
    "duration": 7,
    "start_time": "2022-02-09T16:10:18.499Z"
   },
   {
    "duration": 47,
    "start_time": "2022-02-09T16:10:18.508Z"
   },
   {
    "duration": 5,
    "start_time": "2022-02-09T16:10:18.557Z"
   },
   {
    "duration": 4,
    "start_time": "2022-02-09T16:10:18.564Z"
   },
   {
    "duration": 106,
    "start_time": "2022-02-09T16:10:18.570Z"
   },
   {
    "duration": 2,
    "start_time": "2022-02-09T16:10:18.678Z"
   },
   {
    "duration": 3,
    "start_time": "2022-02-09T16:10:18.699Z"
   },
   {
    "duration": 1102,
    "start_time": "2022-02-09T16:20:31.774Z"
   },
   {
    "duration": 17,
    "start_time": "2022-02-09T16:20:32.878Z"
   },
   {
    "duration": 29,
    "start_time": "2022-02-09T16:20:32.898Z"
   },
   {
    "duration": 11,
    "start_time": "2022-02-09T16:20:32.929Z"
   },
   {
    "duration": 26,
    "start_time": "2022-02-09T16:20:32.942Z"
   },
   {
    "duration": 8,
    "start_time": "2022-02-09T16:20:32.970Z"
   },
   {
    "duration": 43,
    "start_time": "2022-02-09T16:20:32.979Z"
   },
   {
    "duration": 16,
    "start_time": "2022-02-09T16:20:33.025Z"
   },
   {
    "duration": 15,
    "start_time": "2022-02-09T16:20:33.044Z"
   },
   {
    "duration": 11,
    "start_time": "2022-02-09T16:20:33.061Z"
   },
   {
    "duration": 60,
    "start_time": "2022-02-09T16:20:33.074Z"
   },
   {
    "duration": 6,
    "start_time": "2022-02-09T16:20:33.136Z"
   },
   {
    "duration": 9,
    "start_time": "2022-02-09T16:20:33.144Z"
   },
   {
    "duration": 5,
    "start_time": "2022-02-09T16:20:33.155Z"
   },
   {
    "duration": 8,
    "start_time": "2022-02-09T16:20:33.162Z"
   },
   {
    "duration": 9,
    "start_time": "2022-02-09T16:20:33.172Z"
   },
   {
    "duration": 313,
    "start_time": "2022-02-09T16:23:42.035Z"
   },
   {
    "duration": 244,
    "start_time": "2022-02-09T16:24:36.722Z"
   },
   {
    "duration": 78,
    "start_time": "2022-02-09T16:25:11.081Z"
   },
   {
    "duration": 96,
    "start_time": "2022-02-09T16:25:22.076Z"
   },
   {
    "duration": 230,
    "start_time": "2022-02-09T16:26:10.575Z"
   },
   {
    "duration": 24,
    "start_time": "2022-02-09T16:26:45.397Z"
   },
   {
    "duration": 31,
    "start_time": "2022-02-09T16:26:54.390Z"
   },
   {
    "duration": 44,
    "start_time": "2022-02-09T16:28:32.767Z"
   },
   {
    "duration": 102,
    "start_time": "2022-02-09T16:29:17.778Z"
   },
   {
    "duration": 887,
    "start_time": "2022-02-10T08:44:10.264Z"
   },
   {
    "duration": 16,
    "start_time": "2022-02-10T08:44:11.153Z"
   },
   {
    "duration": 22,
    "start_time": "2022-02-10T08:44:11.173Z"
   },
   {
    "duration": 20,
    "start_time": "2022-02-10T08:44:11.197Z"
   },
   {
    "duration": 276,
    "start_time": "2022-02-10T08:44:11.219Z"
   },
   {
    "duration": 7,
    "start_time": "2022-02-10T08:44:11.497Z"
   },
   {
    "duration": 15,
    "start_time": "2022-02-10T08:44:11.506Z"
   },
   {
    "duration": 7,
    "start_time": "2022-02-10T08:44:11.524Z"
   },
   {
    "duration": 12,
    "start_time": "2022-02-10T08:44:11.533Z"
   },
   {
    "duration": 6,
    "start_time": "2022-02-10T08:44:11.547Z"
   },
   {
    "duration": 66,
    "start_time": "2022-02-10T08:44:11.555Z"
   },
   {
    "duration": 121,
    "start_time": "2022-02-10T08:44:11.623Z"
   },
   {
    "duration": 4,
    "start_time": "2022-02-10T08:44:11.746Z"
   },
   {
    "duration": 4,
    "start_time": "2022-02-10T08:44:11.752Z"
   },
   {
    "duration": 4,
    "start_time": "2022-02-10T08:44:11.758Z"
   },
   {
    "duration": 6,
    "start_time": "2022-02-10T08:44:11.764Z"
   },
   {
    "duration": 5,
    "start_time": "2022-02-10T08:44:11.771Z"
   },
   {
    "duration": 99,
    "start_time": "2022-02-10T08:49:49.646Z"
   },
   {
    "duration": 16,
    "start_time": "2022-02-10T08:57:05.081Z"
   },
   {
    "duration": 10,
    "start_time": "2022-02-10T08:59:55.605Z"
   },
   {
    "duration": 8,
    "start_time": "2022-02-10T09:00:12.877Z"
   },
   {
    "duration": 19,
    "start_time": "2022-02-10T09:00:21.198Z"
   },
   {
    "duration": 14,
    "start_time": "2022-02-10T09:05:02.333Z"
   },
   {
    "duration": 294,
    "start_time": "2022-02-10T09:09:12.850Z"
   },
   {
    "duration": 26,
    "start_time": "2022-02-10T09:09:23.954Z"
   },
   {
    "duration": 4730,
    "start_time": "2022-02-10T09:10:50.684Z"
   },
   {
    "duration": 4628,
    "start_time": "2022-02-10T09:11:04.042Z"
   },
   {
    "duration": 40,
    "start_time": "2022-02-10T09:11:55.226Z"
   },
   {
    "duration": 20,
    "start_time": "2022-02-10T09:15:40.578Z"
   },
   {
    "duration": 33,
    "start_time": "2022-02-10T09:16:13.146Z"
   },
   {
    "duration": 28,
    "start_time": "2022-02-10T09:26:38.690Z"
   },
   {
    "duration": 66,
    "start_time": "2022-02-10T09:27:02.222Z"
   },
   {
    "duration": 1073,
    "start_time": "2022-02-10T09:33:10.818Z"
   },
   {
    "duration": 15,
    "start_time": "2022-02-10T09:33:11.896Z"
   },
   {
    "duration": 21,
    "start_time": "2022-02-10T09:33:11.913Z"
   },
   {
    "duration": 44,
    "start_time": "2022-02-10T09:33:11.936Z"
   },
   {
    "duration": 51,
    "start_time": "2022-02-10T09:33:11.982Z"
   },
   {
    "duration": 80,
    "start_time": "2022-02-10T09:33:12.035Z"
   },
   {
    "duration": 10,
    "start_time": "2022-02-10T09:33:12.116Z"
   },
   {
    "duration": 19,
    "start_time": "2022-02-10T09:33:12.128Z"
   },
   {
    "duration": 7,
    "start_time": "2022-02-10T09:33:12.149Z"
   },
   {
    "duration": 17,
    "start_time": "2022-02-10T09:33:12.158Z"
   },
   {
    "duration": 61,
    "start_time": "2022-02-10T09:33:12.177Z"
   },
   {
    "duration": 22,
    "start_time": "2022-02-10T09:33:12.241Z"
   },
   {
    "duration": 61,
    "start_time": "2022-02-10T09:33:12.265Z"
   },
   {
    "duration": 2,
    "start_time": "2022-02-10T09:33:12.328Z"
   },
   {
    "duration": 12,
    "start_time": "2022-02-10T09:33:12.332Z"
   },
   {
    "duration": 17,
    "start_time": "2022-02-10T09:33:12.345Z"
   },
   {
    "duration": 11,
    "start_time": "2022-02-10T09:33:12.364Z"
   },
   {
    "duration": 10,
    "start_time": "2022-02-10T09:33:12.376Z"
   },
   {
    "duration": 26,
    "start_time": "2022-02-10T09:33:12.388Z"
   },
   {
    "duration": 24,
    "start_time": "2022-02-10T09:33:12.415Z"
   },
   {
    "duration": 324,
    "start_time": "2022-02-10T09:33:19.659Z"
   },
   {
    "duration": 974,
    "start_time": "2022-02-10T09:35:28.126Z"
   },
   {
    "duration": 15,
    "start_time": "2022-02-10T09:35:29.102Z"
   },
   {
    "duration": 21,
    "start_time": "2022-02-10T09:35:29.119Z"
   },
   {
    "duration": 41,
    "start_time": "2022-02-10T09:35:29.142Z"
   },
   {
    "duration": 45,
    "start_time": "2022-02-10T09:35:29.185Z"
   },
   {
    "duration": 66,
    "start_time": "2022-02-10T09:35:29.231Z"
   },
   {
    "duration": 8,
    "start_time": "2022-02-10T09:35:29.312Z"
   },
   {
    "duration": 17,
    "start_time": "2022-02-10T09:35:29.323Z"
   },
   {
    "duration": 7,
    "start_time": "2022-02-10T09:35:29.342Z"
   },
   {
    "duration": 16,
    "start_time": "2022-02-10T09:35:29.350Z"
   },
   {
    "duration": 58,
    "start_time": "2022-02-10T09:35:29.367Z"
   },
   {
    "duration": 20,
    "start_time": "2022-02-10T09:35:29.427Z"
   },
   {
    "duration": 36,
    "start_time": "2022-02-10T09:35:29.448Z"
   },
   {
    "duration": 27,
    "start_time": "2022-02-10T09:35:29.486Z"
   },
   {
    "duration": 10,
    "start_time": "2022-02-10T09:35:29.514Z"
   },
   {
    "duration": 8,
    "start_time": "2022-02-10T09:35:29.526Z"
   },
   {
    "duration": 5,
    "start_time": "2022-02-10T09:35:29.535Z"
   },
   {
    "duration": 9,
    "start_time": "2022-02-10T09:35:29.542Z"
   },
   {
    "duration": 22,
    "start_time": "2022-02-10T09:35:29.552Z"
   },
   {
    "duration": 35,
    "start_time": "2022-02-10T09:38:07.952Z"
   },
   {
    "duration": 8,
    "start_time": "2022-02-10T09:38:15.223Z"
   },
   {
    "duration": 18,
    "start_time": "2022-02-10T09:39:16.370Z"
   },
   {
    "duration": 54,
    "start_time": "2022-02-10T09:40:06.639Z"
   },
   {
    "duration": 60,
    "start_time": "2022-02-10T09:40:23.144Z"
   },
   {
    "duration": 31,
    "start_time": "2022-02-10T09:40:39.999Z"
   },
   {
    "duration": 2048,
    "start_time": "2022-02-10T15:36:49.053Z"
   },
   {
    "duration": 17,
    "start_time": "2022-02-10T15:36:51.103Z"
   },
   {
    "duration": 41,
    "start_time": "2022-02-10T15:36:51.123Z"
   },
   {
    "duration": 70,
    "start_time": "2022-02-10T15:36:51.166Z"
   },
   {
    "duration": 43,
    "start_time": "2022-02-10T15:36:51.238Z"
   },
   {
    "duration": 12,
    "start_time": "2022-02-10T15:36:51.283Z"
   },
   {
    "duration": 50,
    "start_time": "2022-02-10T15:36:51.297Z"
   },
   {
    "duration": 30,
    "start_time": "2022-02-10T15:36:51.351Z"
   },
   {
    "duration": 26,
    "start_time": "2022-02-10T15:36:51.384Z"
   },
   {
    "duration": 28,
    "start_time": "2022-02-10T15:36:51.412Z"
   },
   {
    "duration": 27,
    "start_time": "2022-02-10T15:36:51.443Z"
   },
   {
    "duration": 36,
    "start_time": "2022-02-10T15:36:51.473Z"
   },
   {
    "duration": 30,
    "start_time": "2022-02-10T15:36:51.533Z"
   },
   {
    "duration": 11,
    "start_time": "2022-02-10T15:36:51.566Z"
   },
   {
    "duration": 17,
    "start_time": "2022-02-10T15:36:51.580Z"
   },
   {
    "duration": 50,
    "start_time": "2022-02-10T15:36:51.600Z"
   },
   {
    "duration": 7,
    "start_time": "2022-02-10T15:36:51.652Z"
   },
   {
    "duration": 12,
    "start_time": "2022-02-10T15:36:51.662Z"
   },
   {
    "duration": 61,
    "start_time": "2022-02-10T15:36:51.676Z"
   },
   {
    "duration": 92,
    "start_time": "2022-02-10T15:36:51.745Z"
   },
   {
    "duration": 45,
    "start_time": "2022-02-10T15:36:51.840Z"
   },
   {
    "duration": 64,
    "start_time": "2022-02-10T15:36:51.888Z"
   },
   {
    "duration": 382,
    "start_time": "2022-02-11T03:28:09.549Z"
   },
   {
    "duration": 1917,
    "start_time": "2022-02-11T03:28:17.276Z"
   },
   {
    "duration": 17,
    "start_time": "2022-02-11T03:28:19.195Z"
   },
   {
    "duration": 26,
    "start_time": "2022-02-11T03:28:19.215Z"
   },
   {
    "duration": 78,
    "start_time": "2022-02-11T03:28:19.245Z"
   },
   {
    "duration": 42,
    "start_time": "2022-02-11T03:28:19.326Z"
   },
   {
    "duration": 13,
    "start_time": "2022-02-11T03:28:19.370Z"
   },
   {
    "duration": 55,
    "start_time": "2022-02-11T03:28:19.386Z"
   },
   {
    "duration": 32,
    "start_time": "2022-02-11T03:28:19.445Z"
   },
   {
    "duration": 43,
    "start_time": "2022-02-11T03:28:19.480Z"
   },
   {
    "duration": 11,
    "start_time": "2022-02-11T03:28:19.525Z"
   },
   {
    "duration": 20,
    "start_time": "2022-02-11T03:28:19.538Z"
   },
   {
    "duration": 33,
    "start_time": "2022-02-11T03:28:19.561Z"
   },
   {
    "duration": 54,
    "start_time": "2022-02-11T03:28:19.596Z"
   },
   {
    "duration": 11,
    "start_time": "2022-02-11T03:28:19.652Z"
   },
   {
    "duration": 15,
    "start_time": "2022-02-11T03:28:19.666Z"
   },
   {
    "duration": 43,
    "start_time": "2022-02-11T03:28:19.684Z"
   },
   {
    "duration": 10,
    "start_time": "2022-02-11T03:28:19.729Z"
   },
   {
    "duration": 11,
    "start_time": "2022-02-11T03:28:19.741Z"
   },
   {
    "duration": 28,
    "start_time": "2022-02-11T03:28:19.755Z"
   },
   {
    "duration": 124,
    "start_time": "2022-02-11T03:28:19.785Z"
   },
   {
    "duration": 51,
    "start_time": "2022-02-11T03:28:19.911Z"
   },
   {
    "duration": 61,
    "start_time": "2022-02-11T03:28:19.964Z"
   },
   {
    "duration": 559,
    "start_time": "2022-02-11T03:28:20.029Z"
   },
   {
    "duration": 352,
    "start_time": "2022-02-11T03:28:34.152Z"
   },
   {
    "duration": 14,
    "start_time": "2022-02-11T03:49:41.399Z"
   },
   {
    "duration": 20,
    "start_time": "2022-02-11T03:50:10.330Z"
   },
   {
    "duration": 28,
    "start_time": "2022-02-11T03:53:03.228Z"
   },
   {
    "duration": 76,
    "start_time": "2022-02-11T03:53:12.759Z"
   },
   {
    "duration": 301,
    "start_time": "2022-02-11T03:54:18.644Z"
   },
   {
    "duration": 390,
    "start_time": "2022-02-11T04:27:28.838Z"
   },
   {
    "duration": 374,
    "start_time": "2022-02-11T04:31:56.706Z"
   },
   {
    "duration": 30,
    "start_time": "2022-02-11T04:32:08.570Z"
   },
   {
    "duration": 20,
    "start_time": "2022-02-11T04:32:23.137Z"
   },
   {
    "duration": 20,
    "start_time": "2022-02-11T04:32:26.371Z"
   },
   {
    "duration": 19,
    "start_time": "2022-02-11T04:33:14.490Z"
   },
   {
    "duration": 15,
    "start_time": "2022-02-11T04:33:22.320Z"
   },
   {
    "duration": 334,
    "start_time": "2022-02-11T04:34:46.862Z"
   },
   {
    "duration": 20,
    "start_time": "2022-02-11T04:35:00.362Z"
   },
   {
    "duration": 17,
    "start_time": "2022-02-11T08:33:33.692Z"
   },
   {
    "duration": 16,
    "start_time": "2022-02-11T08:34:11.628Z"
   },
   {
    "duration": 11,
    "start_time": "2022-02-11T08:35:36.068Z"
   },
   {
    "duration": 22,
    "start_time": "2022-02-11T08:35:49.124Z"
   },
   {
    "duration": 13,
    "start_time": "2022-02-11T08:37:58.373Z"
   },
   {
    "duration": 371,
    "start_time": "2022-02-11T08:45:30.680Z"
   },
   {
    "duration": 78,
    "start_time": "2022-02-11T08:47:55.656Z"
   },
   {
    "duration": 91,
    "start_time": "2022-02-11T08:48:26.799Z"
   },
   {
    "duration": 90,
    "start_time": "2022-02-11T08:51:17.828Z"
   },
   {
    "duration": 157,
    "start_time": "2022-02-11T08:51:24.860Z"
   },
   {
    "duration": 369,
    "start_time": "2022-02-11T08:55:06.831Z"
   },
   {
    "duration": 37,
    "start_time": "2022-02-11T08:55:19.348Z"
   },
   {
    "duration": 387,
    "start_time": "2022-02-11T08:55:59.644Z"
   },
   {
    "duration": 36,
    "start_time": "2022-02-11T08:56:15.115Z"
   },
   {
    "duration": 23,
    "start_time": "2022-02-11T08:56:54.055Z"
   },
   {
    "duration": 27,
    "start_time": "2022-02-11T09:00:43.991Z"
   },
   {
    "duration": 29,
    "start_time": "2022-02-11T09:01:15.438Z"
   },
   {
    "duration": 14,
    "start_time": "2022-02-11T09:44:34.541Z"
   },
   {
    "duration": 344,
    "start_time": "2022-02-11T09:46:26.413Z"
   },
   {
    "duration": 385,
    "start_time": "2022-02-11T09:46:39.998Z"
   },
   {
    "duration": 54,
    "start_time": "2022-02-11T09:46:51.784Z"
   },
   {
    "duration": 108,
    "start_time": "2022-02-11T09:47:35.149Z"
   },
   {
    "duration": 2113,
    "start_time": "2022-02-11T09:47:53.765Z"
   },
   {
    "duration": 16,
    "start_time": "2022-02-11T09:47:55.881Z"
   },
   {
    "duration": 38,
    "start_time": "2022-02-11T09:47:55.900Z"
   },
   {
    "duration": 57,
    "start_time": "2022-02-11T09:47:55.940Z"
   },
   {
    "duration": 55,
    "start_time": "2022-02-11T09:47:55.999Z"
   },
   {
    "duration": 11,
    "start_time": "2022-02-11T09:47:56.057Z"
   },
   {
    "duration": 34,
    "start_time": "2022-02-11T09:47:56.071Z"
   },
   {
    "duration": 44,
    "start_time": "2022-02-11T09:47:56.109Z"
   },
   {
    "duration": 25,
    "start_time": "2022-02-11T09:47:56.156Z"
   },
   {
    "duration": 40,
    "start_time": "2022-02-11T09:47:56.183Z"
   },
   {
    "duration": 18,
    "start_time": "2022-02-11T09:47:56.226Z"
   },
   {
    "duration": 37,
    "start_time": "2022-02-11T09:47:56.246Z"
   },
   {
    "duration": 57,
    "start_time": "2022-02-11T09:47:56.286Z"
   },
   {
    "duration": 11,
    "start_time": "2022-02-11T09:47:56.345Z"
   },
   {
    "duration": 16,
    "start_time": "2022-02-11T09:47:56.359Z"
   },
   {
    "duration": 13,
    "start_time": "2022-02-11T09:47:56.377Z"
   },
   {
    "duration": 12,
    "start_time": "2022-02-11T09:47:56.424Z"
   },
   {
    "duration": 14,
    "start_time": "2022-02-11T09:47:56.438Z"
   },
   {
    "duration": 29,
    "start_time": "2022-02-11T09:47:56.455Z"
   },
   {
    "duration": 64,
    "start_time": "2022-02-11T09:47:56.522Z"
   },
   {
    "duration": 168,
    "start_time": "2022-02-11T09:47:56.588Z"
   },
   {
    "duration": 43,
    "start_time": "2022-02-11T09:47:56.758Z"
   },
   {
    "duration": 59,
    "start_time": "2022-02-11T09:47:56.805Z"
   },
   {
    "duration": 9,
    "start_time": "2022-02-11T09:47:56.867Z"
   },
   {
    "duration": 47,
    "start_time": "2022-02-11T09:47:56.879Z"
   },
   {
    "duration": 20,
    "start_time": "2022-02-11T09:48:01.769Z"
   },
   {
    "duration": 28,
    "start_time": "2022-02-11T09:48:28.888Z"
   },
   {
    "duration": 24,
    "start_time": "2022-02-11T09:51:24.484Z"
   },
   {
    "duration": 48,
    "start_time": "2022-02-11T09:51:25.996Z"
   },
   {
    "duration": 56,
    "start_time": "2022-02-11T09:51:33.984Z"
   },
   {
    "duration": 40,
    "start_time": "2022-02-11T09:51:55.516Z"
   },
   {
    "duration": 58,
    "start_time": "2022-02-11T09:52:03.572Z"
   },
   {
    "duration": 28,
    "start_time": "2022-02-11T09:52:15.132Z"
   },
   {
    "duration": 469,
    "start_time": "2022-02-11T09:52:31.884Z"
   },
   {
    "duration": 343,
    "start_time": "2022-02-11T09:52:48.831Z"
   },
   {
    "duration": 339,
    "start_time": "2022-02-11T09:52:54.904Z"
   },
   {
    "duration": 339,
    "start_time": "2022-02-11T09:53:01.428Z"
   },
   {
    "duration": 2122,
    "start_time": "2022-02-13T14:55:29.205Z"
   },
   {
    "duration": 18,
    "start_time": "2022-02-13T14:55:31.330Z"
   },
   {
    "duration": 194,
    "start_time": "2022-02-13T14:55:31.351Z"
   },
   {
    "duration": 227,
    "start_time": "2022-02-13T14:55:31.548Z"
   },
   {
    "duration": 170,
    "start_time": "2022-02-13T14:55:31.778Z"
   },
   {
    "duration": 169,
    "start_time": "2022-02-13T14:55:31.951Z"
   },
   {
    "duration": 262,
    "start_time": "2022-02-13T14:55:32.122Z"
   },
   {
    "duration": 208,
    "start_time": "2022-02-13T14:55:32.388Z"
   },
   {
    "duration": 277,
    "start_time": "2022-02-13T14:55:32.599Z"
   },
   {
    "duration": 254,
    "start_time": "2022-02-13T14:55:32.879Z"
   },
   {
    "duration": 244,
    "start_time": "2022-02-13T14:55:33.136Z"
   },
   {
    "duration": 254,
    "start_time": "2022-02-13T14:55:33.382Z"
   },
   {
    "duration": 260,
    "start_time": "2022-02-13T14:55:33.638Z"
   },
   {
    "duration": 176,
    "start_time": "2022-02-13T14:55:33.900Z"
   },
   {
    "duration": 207,
    "start_time": "2022-02-13T14:55:34.079Z"
   },
   {
    "duration": 201,
    "start_time": "2022-02-13T14:55:34.289Z"
   },
   {
    "duration": 197,
    "start_time": "2022-02-13T14:55:34.493Z"
   },
   {
    "duration": 260,
    "start_time": "2022-02-13T14:55:34.693Z"
   },
   {
    "duration": 248,
    "start_time": "2022-02-13T14:55:34.955Z"
   },
   {
    "duration": 268,
    "start_time": "2022-02-13T14:55:35.205Z"
   },
   {
    "duration": 304,
    "start_time": "2022-02-13T14:55:35.476Z"
   },
   {
    "duration": 60,
    "start_time": "2022-02-13T14:55:35.783Z"
   },
   {
    "duration": 313,
    "start_time": "2022-02-13T14:55:35.850Z"
   },
   {
    "duration": 174,
    "start_time": "2022-02-13T14:55:36.166Z"
   },
   {
    "duration": 130,
    "start_time": "2022-02-13T14:55:36.343Z"
   },
   {
    "duration": 77,
    "start_time": "2022-02-13T14:55:36.477Z"
   },
   {
    "duration": 675,
    "start_time": "2022-02-13T14:55:36.557Z"
   },
   {
    "duration": 4,
    "start_time": "2022-02-13T14:55:59.914Z"
   },
   {
    "duration": 34,
    "start_time": "2022-02-13T14:57:10.339Z"
   },
   {
    "duration": 352,
    "start_time": "2022-02-13T15:06:19.516Z"
   },
   {
    "duration": 25,
    "start_time": "2022-02-13T15:06:31.659Z"
   },
   {
    "duration": 329,
    "start_time": "2022-02-13T15:08:32.300Z"
   },
   {
    "duration": 97,
    "start_time": "2022-02-13T15:08:44.203Z"
   },
   {
    "duration": 18,
    "start_time": "2022-02-13T15:09:43.240Z"
   },
   {
    "duration": 60,
    "start_time": "2022-02-13T15:10:35.314Z"
   },
   {
    "duration": 301,
    "start_time": "2022-02-13T15:13:02.161Z"
   },
   {
    "duration": 30,
    "start_time": "2022-02-13T15:13:16.951Z"
   },
   {
    "duration": 2080,
    "start_time": "2022-02-13T15:14:34.914Z"
   },
   {
    "duration": 18,
    "start_time": "2022-02-13T15:14:36.997Z"
   },
   {
    "duration": 372,
    "start_time": "2022-02-13T15:14:37.018Z"
   },
   {
    "duration": 249,
    "start_time": "2022-02-13T15:14:37.392Z"
   },
   {
    "duration": 272,
    "start_time": "2022-02-13T15:14:37.644Z"
   },
   {
    "duration": 159,
    "start_time": "2022-02-13T15:14:37.919Z"
   },
   {
    "duration": 260,
    "start_time": "2022-02-13T15:14:38.081Z"
   },
   {
    "duration": 187,
    "start_time": "2022-02-13T15:14:38.345Z"
   },
   {
    "duration": 205,
    "start_time": "2022-02-13T15:14:38.536Z"
   },
   {
    "duration": 154,
    "start_time": "2022-02-13T15:14:38.744Z"
   },
   {
    "duration": 263,
    "start_time": "2022-02-13T15:14:38.901Z"
   },
   {
    "duration": 256,
    "start_time": "2022-02-13T15:14:39.166Z"
   },
   {
    "duration": 361,
    "start_time": "2022-02-13T15:14:39.425Z"
   },
   {
    "duration": 153,
    "start_time": "2022-02-13T15:14:39.788Z"
   },
   {
    "duration": 175,
    "start_time": "2022-02-13T15:14:39.944Z"
   },
   {
    "duration": 459,
    "start_time": "2022-02-13T15:14:40.122Z"
   },
   {
    "duration": 291,
    "start_time": "2022-02-13T15:14:40.584Z"
   },
   {
    "duration": 268,
    "start_time": "2022-02-13T15:14:40.878Z"
   },
   {
    "duration": 528,
    "start_time": "2022-02-13T15:14:41.148Z"
   },
   {
    "duration": 338,
    "start_time": "2022-02-13T15:14:41.678Z"
   },
   {
    "duration": 414,
    "start_time": "2022-02-13T15:14:42.018Z"
   },
   {
    "duration": 222,
    "start_time": "2022-02-13T15:14:42.435Z"
   },
   {
    "duration": 260,
    "start_time": "2022-02-13T15:14:42.664Z"
   },
   {
    "duration": 432,
    "start_time": "2022-02-13T15:14:42.927Z"
   },
   {
    "duration": 317,
    "start_time": "2022-02-13T15:14:43.362Z"
   },
   {
    "duration": 311,
    "start_time": "2022-02-13T15:14:43.681Z"
   },
   {
    "duration": 2097,
    "start_time": "2022-02-13T15:15:04.232Z"
   },
   {
    "duration": 23,
    "start_time": "2022-02-13T15:15:06.332Z"
   },
   {
    "duration": 414,
    "start_time": "2022-02-13T15:15:06.357Z"
   },
   {
    "duration": 262,
    "start_time": "2022-02-13T15:15:06.773Z"
   },
   {
    "duration": 196,
    "start_time": "2022-02-13T15:15:07.038Z"
   },
   {
    "duration": 245,
    "start_time": "2022-02-13T15:15:07.237Z"
   },
   {
    "duration": 278,
    "start_time": "2022-02-13T15:15:07.484Z"
   },
   {
    "duration": 398,
    "start_time": "2022-02-13T15:15:07.766Z"
   },
   {
    "duration": 421,
    "start_time": "2022-02-13T15:15:08.168Z"
   },
   {
    "duration": 255,
    "start_time": "2022-02-13T15:15:08.592Z"
   },
   {
    "duration": 205,
    "start_time": "2022-02-13T15:15:08.849Z"
   },
   {
    "duration": 449,
    "start_time": "2022-02-13T15:15:09.057Z"
   },
   {
    "duration": 332,
    "start_time": "2022-02-13T15:15:09.509Z"
   },
   {
    "duration": 336,
    "start_time": "2022-02-13T15:15:09.844Z"
   },
   {
    "duration": 331,
    "start_time": "2022-02-13T15:15:10.183Z"
   },
   {
    "duration": 279,
    "start_time": "2022-02-13T15:15:10.517Z"
   },
   {
    "duration": 337,
    "start_time": "2022-02-13T15:15:10.798Z"
   },
   {
    "duration": 343,
    "start_time": "2022-02-13T15:15:11.138Z"
   },
   {
    "duration": 363,
    "start_time": "2022-02-13T15:15:11.484Z"
   },
   {
    "duration": 377,
    "start_time": "2022-02-13T15:15:11.849Z"
   },
   {
    "duration": 430,
    "start_time": "2022-02-13T15:15:12.228Z"
   },
   {
    "duration": 408,
    "start_time": "2022-02-13T15:15:12.661Z"
   },
   {
    "duration": 232,
    "start_time": "2022-02-13T15:15:13.072Z"
   },
   {
    "duration": 414,
    "start_time": "2022-02-13T15:15:13.307Z"
   },
   {
    "duration": 328,
    "start_time": "2022-02-13T15:15:13.723Z"
   },
   {
    "duration": 393,
    "start_time": "2022-02-13T15:15:14.056Z"
   },
   {
    "duration": 352,
    "start_time": "2022-02-13T15:15:14.451Z"
   },
   {
    "duration": 185,
    "start_time": "2022-02-13T15:15:14.806Z"
   },
   {
    "duration": 231,
    "start_time": "2022-02-13T15:15:14.994Z"
   },
   {
    "duration": 347,
    "start_time": "2022-02-13T15:15:15.229Z"
   },
   {
    "duration": 3,
    "start_time": "2022-02-13T15:30:31.258Z"
   },
   {
    "duration": 409,
    "start_time": "2022-02-13T15:31:39.742Z"
   },
   {
    "duration": 2206,
    "start_time": "2022-02-13T15:32:04.223Z"
   },
   {
    "duration": 18,
    "start_time": "2022-02-13T15:32:06.432Z"
   },
   {
    "duration": 316,
    "start_time": "2022-02-13T15:32:06.453Z"
   },
   {
    "duration": 391,
    "start_time": "2022-02-13T15:32:06.772Z"
   },
   {
    "duration": 374,
    "start_time": "2022-02-13T15:32:07.166Z"
   },
   {
    "duration": 249,
    "start_time": "2022-02-13T15:32:07.543Z"
   },
   {
    "duration": 382,
    "start_time": "2022-02-13T15:32:07.795Z"
   },
   {
    "duration": 314,
    "start_time": "2022-02-13T15:32:08.183Z"
   },
   {
    "duration": 303,
    "start_time": "2022-02-13T15:32:08.500Z"
   },
   {
    "duration": 544,
    "start_time": "2022-02-13T15:32:08.811Z"
   },
   {
    "duration": 343,
    "start_time": "2022-02-13T15:32:09.359Z"
   },
   {
    "duration": 437,
    "start_time": "2022-02-13T15:32:09.705Z"
   },
   {
    "duration": 241,
    "start_time": "2022-02-13T15:32:10.144Z"
   },
   {
    "duration": 249,
    "start_time": "2022-02-13T15:32:10.388Z"
   },
   {
    "duration": 317,
    "start_time": "2022-02-13T15:32:10.639Z"
   },
   {
    "duration": 242,
    "start_time": "2022-02-13T15:32:10.959Z"
   },
   {
    "duration": 222,
    "start_time": "2022-02-13T15:32:11.205Z"
   },
   {
    "duration": 268,
    "start_time": "2022-02-13T15:32:11.430Z"
   },
   {
    "duration": 265,
    "start_time": "2022-02-13T15:32:11.700Z"
   },
   {
    "duration": 236,
    "start_time": "2022-02-13T15:32:11.968Z"
   },
   {
    "duration": 401,
    "start_time": "2022-02-13T15:32:12.207Z"
   },
   {
    "duration": 308,
    "start_time": "2022-02-13T15:32:12.611Z"
   },
   {
    "duration": 133,
    "start_time": "2022-02-13T15:32:12.924Z"
   },
   {
    "duration": 437,
    "start_time": "2022-02-13T15:32:13.060Z"
   },
   {
    "duration": 309,
    "start_time": "2022-02-13T15:32:13.499Z"
   },
   {
    "duration": 355,
    "start_time": "2022-02-13T15:32:13.811Z"
   },
   {
    "duration": 834,
    "start_time": "2022-02-13T15:32:14.168Z"
   },
   {
    "duration": -474,
    "start_time": "2022-02-13T15:32:15.479Z"
   },
   {
    "duration": -516,
    "start_time": "2022-02-13T15:32:15.523Z"
   },
   {
    "duration": -536,
    "start_time": "2022-02-13T15:32:15.545Z"
   },
   {
    "duration": -563,
    "start_time": "2022-02-13T15:32:15.574Z"
   },
   {
    "duration": 352,
    "start_time": "2022-02-13T15:38:27.408Z"
   },
   {
    "duration": 2050,
    "start_time": "2022-02-13T15:38:33.602Z"
   },
   {
    "duration": 17,
    "start_time": "2022-02-13T15:38:35.655Z"
   },
   {
    "duration": 242,
    "start_time": "2022-02-13T15:38:35.674Z"
   },
   {
    "duration": 347,
    "start_time": "2022-02-13T15:38:35.919Z"
   },
   {
    "duration": 196,
    "start_time": "2022-02-13T15:38:36.269Z"
   },
   {
    "duration": 188,
    "start_time": "2022-02-13T15:38:36.467Z"
   },
   {
    "duration": 289,
    "start_time": "2022-02-13T15:38:36.658Z"
   },
   {
    "duration": 236,
    "start_time": "2022-02-13T15:38:36.951Z"
   },
   {
    "duration": 246,
    "start_time": "2022-02-13T15:38:37.190Z"
   },
   {
    "duration": 150,
    "start_time": "2022-02-13T15:38:37.439Z"
   },
   {
    "duration": 226,
    "start_time": "2022-02-13T15:38:37.592Z"
   },
   {
    "duration": 240,
    "start_time": "2022-02-13T15:38:37.820Z"
   },
   {
    "duration": 227,
    "start_time": "2022-02-13T15:38:38.063Z"
   },
   {
    "duration": 275,
    "start_time": "2022-02-13T15:38:38.293Z"
   },
   {
    "duration": 346,
    "start_time": "2022-02-13T15:38:38.571Z"
   },
   {
    "duration": 352,
    "start_time": "2022-02-13T15:38:38.919Z"
   },
   {
    "duration": 295,
    "start_time": "2022-02-13T15:38:39.275Z"
   },
   {
    "duration": 323,
    "start_time": "2022-02-13T15:38:39.573Z"
   },
   {
    "duration": 400,
    "start_time": "2022-02-13T15:38:39.899Z"
   },
   {
    "duration": 313,
    "start_time": "2022-02-13T15:38:40.302Z"
   },
   {
    "duration": 391,
    "start_time": "2022-02-13T15:38:40.618Z"
   },
   {
    "duration": 333,
    "start_time": "2022-02-13T15:38:41.011Z"
   },
   {
    "duration": 129,
    "start_time": "2022-02-13T15:38:41.348Z"
   },
   {
    "duration": 316,
    "start_time": "2022-02-13T15:38:41.480Z"
   },
   {
    "duration": 199,
    "start_time": "2022-02-13T15:38:41.799Z"
   },
   {
    "duration": 160,
    "start_time": "2022-02-13T15:38:42.001Z"
   },
   {
    "duration": 278,
    "start_time": "2022-02-13T15:38:42.164Z"
   },
   {
    "duration": 290,
    "start_time": "2022-02-13T15:38:42.445Z"
   },
   {
    "duration": 243,
    "start_time": "2022-02-13T15:38:42.738Z"
   },
   {
    "duration": 151,
    "start_time": "2022-02-13T15:38:42.983Z"
   },
   {
    "duration": 242,
    "start_time": "2022-02-13T15:38:43.137Z"
   },
   {
    "duration": 99,
    "start_time": "2022-02-13T15:39:32.490Z"
   },
   {
    "duration": 3375,
    "start_time": "2022-02-13T15:42:08.411Z"
   },
   {
    "duration": 20,
    "start_time": "2022-02-13T15:42:11.788Z"
   },
   {
    "duration": 243,
    "start_time": "2022-02-13T15:42:11.811Z"
   },
   {
    "duration": 344,
    "start_time": "2022-02-13T15:42:12.056Z"
   },
   {
    "duration": 294,
    "start_time": "2022-02-13T15:42:12.402Z"
   },
   {
    "duration": 241,
    "start_time": "2022-02-13T15:42:12.699Z"
   },
   {
    "duration": 213,
    "start_time": "2022-02-13T15:42:12.943Z"
   },
   {
    "duration": 326,
    "start_time": "2022-02-13T15:42:13.159Z"
   },
   {
    "duration": 363,
    "start_time": "2022-02-13T15:42:13.489Z"
   },
   {
    "duration": 197,
    "start_time": "2022-02-13T15:42:13.855Z"
   },
   {
    "duration": 199,
    "start_time": "2022-02-13T15:42:14.054Z"
   },
   {
    "duration": 354,
    "start_time": "2022-02-13T15:42:14.256Z"
   },
   {
    "duration": 256,
    "start_time": "2022-02-13T15:42:14.613Z"
   },
   {
    "duration": 268,
    "start_time": "2022-02-13T15:42:14.872Z"
   },
   {
    "duration": 273,
    "start_time": "2022-02-13T15:42:15.143Z"
   },
   {
    "duration": 168,
    "start_time": "2022-02-13T15:42:15.419Z"
   },
   {
    "duration": 256,
    "start_time": "2022-02-13T15:42:15.589Z"
   },
   {
    "duration": 219,
    "start_time": "2022-02-13T15:42:15.848Z"
   },
   {
    "duration": 200,
    "start_time": "2022-02-13T15:42:16.069Z"
   },
   {
    "duration": 196,
    "start_time": "2022-02-13T15:42:16.272Z"
   },
   {
    "duration": 282,
    "start_time": "2022-02-13T15:42:16.471Z"
   },
   {
    "duration": 200,
    "start_time": "2022-02-13T15:42:16.756Z"
   },
   {
    "duration": 51,
    "start_time": "2022-02-13T15:42:16.961Z"
   },
   {
    "duration": 182,
    "start_time": "2022-02-13T15:42:17.015Z"
   },
   {
    "duration": 283,
    "start_time": "2022-02-13T15:42:17.200Z"
   },
   {
    "duration": 164,
    "start_time": "2022-02-13T15:42:17.485Z"
   },
   {
    "duration": 261,
    "start_time": "2022-02-13T15:42:17.651Z"
   },
   {
    "duration": 245,
    "start_time": "2022-02-13T15:42:17.915Z"
   },
   {
    "duration": 149,
    "start_time": "2022-02-13T15:42:18.163Z"
   },
   {
    "duration": 2904,
    "start_time": "2022-02-13T15:42:38.933Z"
   },
   {
    "duration": 18,
    "start_time": "2022-02-13T15:42:41.839Z"
   },
   {
    "duration": 172,
    "start_time": "2022-02-13T15:42:41.860Z"
   },
   {
    "duration": 188,
    "start_time": "2022-02-13T15:42:42.035Z"
   },
   {
    "duration": 190,
    "start_time": "2022-02-13T15:42:42.225Z"
   },
   {
    "duration": 302,
    "start_time": "2022-02-13T15:42:42.418Z"
   },
   {
    "duration": 261,
    "start_time": "2022-02-13T15:42:42.723Z"
   },
   {
    "duration": 330,
    "start_time": "2022-02-13T15:42:42.988Z"
   },
   {
    "duration": 342,
    "start_time": "2022-02-13T15:42:43.322Z"
   },
   {
    "duration": 324,
    "start_time": "2022-02-13T15:42:43.667Z"
   },
   {
    "duration": 214,
    "start_time": "2022-02-13T15:42:43.994Z"
   },
   {
    "duration": 246,
    "start_time": "2022-02-13T15:42:44.210Z"
   },
   {
    "duration": 197,
    "start_time": "2022-02-13T15:42:44.459Z"
   },
   {
    "duration": 233,
    "start_time": "2022-02-13T15:42:44.659Z"
   },
   {
    "duration": 240,
    "start_time": "2022-02-13T15:42:44.895Z"
   },
   {
    "duration": 208,
    "start_time": "2022-02-13T15:42:45.138Z"
   },
   {
    "duration": 236,
    "start_time": "2022-02-13T15:42:45.350Z"
   },
   {
    "duration": 304,
    "start_time": "2022-02-13T15:42:45.590Z"
   },
   {
    "duration": 361,
    "start_time": "2022-02-13T15:42:45.897Z"
   },
   {
    "duration": 329,
    "start_time": "2022-02-13T15:42:46.261Z"
   },
   {
    "duration": 257,
    "start_time": "2022-02-13T15:42:46.593Z"
   },
   {
    "duration": 387,
    "start_time": "2022-02-13T15:42:46.853Z"
   },
   {
    "duration": 187,
    "start_time": "2022-02-13T15:42:47.245Z"
   },
   {
    "duration": 433,
    "start_time": "2022-02-13T15:42:47.434Z"
   },
   {
    "duration": 516,
    "start_time": "2022-02-13T15:42:47.869Z"
   },
   {
    "duration": 358,
    "start_time": "2022-02-13T15:42:48.387Z"
   },
   {
    "duration": 281,
    "start_time": "2022-02-13T15:42:48.747Z"
   },
   {
    "duration": 292,
    "start_time": "2022-02-13T15:42:49.031Z"
   },
   {
    "duration": 199,
    "start_time": "2022-02-13T15:42:49.325Z"
   },
   {
    "duration": 354,
    "start_time": "2022-02-13T15:43:54.931Z"
   },
   {
    "duration": 2645,
    "start_time": "2022-02-13T15:44:01.355Z"
   },
   {
    "duration": 22,
    "start_time": "2022-02-13T15:44:04.004Z"
   },
   {
    "duration": 301,
    "start_time": "2022-02-13T15:44:04.029Z"
   },
   {
    "duration": 257,
    "start_time": "2022-02-13T15:44:04.333Z"
   },
   {
    "duration": 187,
    "start_time": "2022-02-13T15:44:04.593Z"
   },
   {
    "duration": 167,
    "start_time": "2022-02-13T15:44:04.782Z"
   },
   {
    "duration": 227,
    "start_time": "2022-02-13T15:44:04.951Z"
   },
   {
    "duration": 213,
    "start_time": "2022-02-13T15:44:05.182Z"
   },
   {
    "duration": 188,
    "start_time": "2022-02-13T15:44:05.398Z"
   },
   {
    "duration": 192,
    "start_time": "2022-02-13T15:44:05.589Z"
   },
   {
    "duration": 198,
    "start_time": "2022-02-13T15:44:05.783Z"
   },
   {
    "duration": 224,
    "start_time": "2022-02-13T15:44:05.983Z"
   },
   {
    "duration": 195,
    "start_time": "2022-02-13T15:44:06.210Z"
   },
   {
    "duration": 310,
    "start_time": "2022-02-13T15:44:06.407Z"
   },
   {
    "duration": 260,
    "start_time": "2022-02-13T15:44:06.721Z"
   },
   {
    "duration": 229,
    "start_time": "2022-02-13T15:44:06.983Z"
   },
   {
    "duration": 216,
    "start_time": "2022-02-13T15:44:07.215Z"
   },
   {
    "duration": 225,
    "start_time": "2022-02-13T15:44:07.434Z"
   },
   {
    "duration": 241,
    "start_time": "2022-02-13T15:44:07.662Z"
   },
   {
    "duration": 307,
    "start_time": "2022-02-13T15:44:07.907Z"
   },
   {
    "duration": 367,
    "start_time": "2022-02-13T15:44:08.216Z"
   },
   {
    "duration": 313,
    "start_time": "2022-02-13T15:44:08.586Z"
   },
   {
    "duration": 96,
    "start_time": "2022-02-13T15:44:08.904Z"
   },
   {
    "duration": 273,
    "start_time": "2022-02-13T15:44:09.003Z"
   },
   {
    "duration": 259,
    "start_time": "2022-02-13T15:44:09.279Z"
   },
   {
    "duration": 253,
    "start_time": "2022-02-13T15:44:09.541Z"
   },
   {
    "duration": 229,
    "start_time": "2022-02-13T15:44:09.797Z"
   },
   {
    "duration": 215,
    "start_time": "2022-02-13T15:44:10.030Z"
   },
   {
    "duration": 137,
    "start_time": "2022-02-13T15:44:10.247Z"
   },
   {
    "duration": 876,
    "start_time": "2022-02-13T15:44:10.386Z"
   },
   {
    "duration": -517,
    "start_time": "2022-02-13T15:44:11.782Z"
   },
   {
    "duration": 1977,
    "start_time": "2022-02-13T15:44:33.001Z"
   },
   {
    "duration": 17,
    "start_time": "2022-02-13T15:44:34.981Z"
   },
   {
    "duration": 214,
    "start_time": "2022-02-13T15:44:35.001Z"
   },
   {
    "duration": 203,
    "start_time": "2022-02-13T15:44:35.217Z"
   },
   {
    "duration": 161,
    "start_time": "2022-02-13T15:44:35.422Z"
   },
   {
    "duration": 158,
    "start_time": "2022-02-13T15:44:35.586Z"
   },
   {
    "duration": 232,
    "start_time": "2022-02-13T15:44:35.747Z"
   },
   {
    "duration": 221,
    "start_time": "2022-02-13T15:44:35.985Z"
   },
   {
    "duration": 167,
    "start_time": "2022-02-13T15:44:36.209Z"
   },
   {
    "duration": 196,
    "start_time": "2022-02-13T15:44:36.378Z"
   },
   {
    "duration": 212,
    "start_time": "2022-02-13T15:44:36.577Z"
   },
   {
    "duration": 197,
    "start_time": "2022-02-13T15:44:36.793Z"
   },
   {
    "duration": 190,
    "start_time": "2022-02-13T15:44:36.992Z"
   },
   {
    "duration": 323,
    "start_time": "2022-02-13T15:44:37.185Z"
   },
   {
    "duration": 220,
    "start_time": "2022-02-13T15:44:37.512Z"
   },
   {
    "duration": 190,
    "start_time": "2022-02-13T15:44:37.736Z"
   },
   {
    "duration": 211,
    "start_time": "2022-02-13T15:44:37.929Z"
   },
   {
    "duration": 203,
    "start_time": "2022-02-13T15:44:38.143Z"
   },
   {
    "duration": 177,
    "start_time": "2022-02-13T15:44:38.349Z"
   },
   {
    "duration": 273,
    "start_time": "2022-02-13T15:44:38.529Z"
   },
   {
    "duration": 267,
    "start_time": "2022-02-13T15:44:38.804Z"
   },
   {
    "duration": 227,
    "start_time": "2022-02-13T15:44:39.074Z"
   },
   {
    "duration": 71,
    "start_time": "2022-02-13T15:44:39.306Z"
   },
   {
    "duration": 214,
    "start_time": "2022-02-13T15:44:39.380Z"
   },
   {
    "duration": 185,
    "start_time": "2022-02-13T15:44:39.597Z"
   },
   {
    "duration": 123,
    "start_time": "2022-02-13T15:44:39.785Z"
   },
   {
    "duration": 298,
    "start_time": "2022-02-13T15:44:39.911Z"
   },
   {
    "duration": 179,
    "start_time": "2022-02-13T15:44:40.212Z"
   },
   {
    "duration": 161,
    "start_time": "2022-02-13T15:44:40.394Z"
   },
   {
    "duration": 259,
    "start_time": "2022-02-13T15:44:40.558Z"
   },
   {
    "duration": 108,
    "start_time": "2022-02-13T15:48:48.426Z"
   },
   {
    "duration": 4678,
    "start_time": "2022-02-13T15:52:55.250Z"
   },
   {
    "duration": 17,
    "start_time": "2022-02-13T15:52:59.931Z"
   },
   {
    "duration": 371,
    "start_time": "2022-02-13T15:52:59.951Z"
   },
   {
    "duration": 231,
    "start_time": "2022-02-13T15:53:00.325Z"
   },
   {
    "duration": 192,
    "start_time": "2022-02-13T15:53:00.559Z"
   },
   {
    "duration": 179,
    "start_time": "2022-02-13T15:53:00.754Z"
   },
   {
    "duration": 224,
    "start_time": "2022-02-13T15:53:00.936Z"
   },
   {
    "duration": 233,
    "start_time": "2022-02-13T15:53:01.165Z"
   },
   {
    "duration": 216,
    "start_time": "2022-02-13T15:53:01.402Z"
   },
   {
    "duration": 202,
    "start_time": "2022-02-13T15:53:01.621Z"
   },
   {
    "duration": 237,
    "start_time": "2022-02-13T15:53:01.825Z"
   },
   {
    "duration": 239,
    "start_time": "2022-02-13T15:53:02.065Z"
   },
   {
    "duration": 153,
    "start_time": "2022-02-13T15:53:02.306Z"
   },
   {
    "duration": 199,
    "start_time": "2022-02-13T15:53:02.461Z"
   },
   {
    "duration": 178,
    "start_time": "2022-02-13T15:53:02.663Z"
   },
   {
    "duration": 204,
    "start_time": "2022-02-13T15:53:02.844Z"
   },
   {
    "duration": 213,
    "start_time": "2022-02-13T15:53:03.051Z"
   },
   {
    "duration": 312,
    "start_time": "2022-02-13T15:53:03.266Z"
   },
   {
    "duration": 264,
    "start_time": "2022-02-13T15:53:03.581Z"
   },
   {
    "duration": 233,
    "start_time": "2022-02-13T15:53:03.847Z"
   },
   {
    "duration": 271,
    "start_time": "2022-02-13T15:53:04.082Z"
   },
   {
    "duration": 228,
    "start_time": "2022-02-13T15:53:04.355Z"
   },
   {
    "duration": 78,
    "start_time": "2022-02-13T15:53:04.587Z"
   },
   {
    "duration": 261,
    "start_time": "2022-02-13T15:53:04.668Z"
   },
   {
    "duration": 195,
    "start_time": "2022-02-13T15:53:04.931Z"
   },
   {
    "duration": 238,
    "start_time": "2022-02-13T15:53:05.128Z"
   },
   {
    "duration": 205,
    "start_time": "2022-02-13T15:53:05.369Z"
   },
   {
    "duration": 241,
    "start_time": "2022-02-13T15:53:05.577Z"
   },
   {
    "duration": 136,
    "start_time": "2022-02-13T15:53:05.820Z"
   },
   {
    "duration": 255,
    "start_time": "2022-02-13T15:53:05.958Z"
   },
   {
    "duration": 56,
    "start_time": "2022-02-13T15:56:26.765Z"
   },
   {
    "duration": 51,
    "start_time": "2022-02-13T15:58:37.383Z"
   },
   {
    "duration": 79,
    "start_time": "2022-02-13T16:12:26.547Z"
   },
   {
    "duration": 74,
    "start_time": "2022-02-13T16:16:05.526Z"
   },
   {
    "duration": 72,
    "start_time": "2022-02-13T16:16:14.048Z"
   },
   {
    "duration": 77,
    "start_time": "2022-02-13T16:16:31.865Z"
   },
   {
    "duration": 6,
    "start_time": "2022-02-13T16:17:41.689Z"
   },
   {
    "duration": 14,
    "start_time": "2022-02-13T16:17:46.755Z"
   },
   {
    "duration": 26,
    "start_time": "2022-02-13T16:17:47.553Z"
   },
   {
    "duration": 94,
    "start_time": "2022-02-13T16:17:48.273Z"
   },
   {
    "duration": 73,
    "start_time": "2022-02-13T16:17:55.768Z"
   },
   {
    "duration": 45,
    "start_time": "2022-02-13T16:19:00.703Z"
   },
   {
    "duration": 10,
    "start_time": "2022-02-13T16:19:01.497Z"
   },
   {
    "duration": 25,
    "start_time": "2022-02-13T16:19:02.008Z"
   },
   {
    "duration": 69,
    "start_time": "2022-02-13T16:19:02.414Z"
   },
   {
    "duration": 5,
    "start_time": "2022-02-13T16:19:12.207Z"
   },
   {
    "duration": 93,
    "start_time": "2022-02-13T16:20:56.448Z"
   },
   {
    "duration": 167,
    "start_time": "2022-02-13T16:21:09.666Z"
   },
   {
    "duration": 77,
    "start_time": "2022-02-13T16:21:26.861Z"
   },
   {
    "duration": 2132,
    "start_time": "2022-02-13T16:23:23.993Z"
   },
   {
    "duration": 18,
    "start_time": "2022-02-13T16:23:26.128Z"
   },
   {
    "duration": 338,
    "start_time": "2022-02-13T16:23:26.150Z"
   },
   {
    "duration": 247,
    "start_time": "2022-02-13T16:23:26.491Z"
   },
   {
    "duration": 162,
    "start_time": "2022-02-13T16:23:26.741Z"
   },
   {
    "duration": 148,
    "start_time": "2022-02-13T16:23:26.905Z"
   },
   {
    "duration": 223,
    "start_time": "2022-02-13T16:23:27.056Z"
   },
   {
    "duration": 195,
    "start_time": "2022-02-13T16:23:27.283Z"
   },
   {
    "duration": 158,
    "start_time": "2022-02-13T16:23:27.481Z"
   },
   {
    "duration": 329,
    "start_time": "2022-02-13T16:23:27.642Z"
   },
   {
    "duration": 232,
    "start_time": "2022-02-13T16:23:27.974Z"
   },
   {
    "duration": 285,
    "start_time": "2022-02-13T16:23:28.209Z"
   },
   {
    "duration": 235,
    "start_time": "2022-02-13T16:23:28.497Z"
   },
   {
    "duration": 305,
    "start_time": "2022-02-13T16:23:28.735Z"
   },
   {
    "duration": 383,
    "start_time": "2022-02-13T16:23:29.043Z"
   },
   {
    "duration": 245,
    "start_time": "2022-02-13T16:23:29.429Z"
   },
   {
    "duration": 280,
    "start_time": "2022-02-13T16:23:29.676Z"
   },
   {
    "duration": 338,
    "start_time": "2022-02-13T16:23:29.959Z"
   },
   {
    "duration": 367,
    "start_time": "2022-02-13T16:23:30.301Z"
   },
   {
    "duration": 307,
    "start_time": "2022-02-13T16:23:30.672Z"
   },
   {
    "duration": 317,
    "start_time": "2022-02-13T16:23:30.982Z"
   },
   {
    "duration": 277,
    "start_time": "2022-02-13T16:23:31.301Z"
   },
   {
    "duration": 360,
    "start_time": "2022-02-13T16:23:31.582Z"
   },
   {
    "duration": 313,
    "start_time": "2022-02-13T16:23:31.946Z"
   },
   {
    "duration": 100,
    "start_time": "2022-02-13T16:23:32.261Z"
   },
   {
    "duration": 222,
    "start_time": "2022-02-13T16:23:32.363Z"
   },
   {
    "duration": 255,
    "start_time": "2022-02-13T16:23:32.587Z"
   },
   {
    "duration": 280,
    "start_time": "2022-02-13T16:23:32.845Z"
   },
   {
    "duration": 220,
    "start_time": "2022-02-13T16:23:33.128Z"
   },
   {
    "duration": 247,
    "start_time": "2022-02-13T16:23:33.351Z"
   },
   {
    "duration": 160,
    "start_time": "2022-02-13T16:23:33.601Z"
   },
   {
    "duration": 273,
    "start_time": "2022-02-13T16:23:33.764Z"
   },
   {
    "duration": 1613,
    "start_time": "2022-02-14T03:11:51.771Z"
   },
   {
    "duration": 13,
    "start_time": "2022-02-14T03:11:53.386Z"
   },
   {
    "duration": 26,
    "start_time": "2022-02-14T03:11:53.401Z"
   },
   {
    "duration": 33,
    "start_time": "2022-02-14T03:11:53.430Z"
   },
   {
    "duration": 48,
    "start_time": "2022-02-14T03:11:53.465Z"
   },
   {
    "duration": 8,
    "start_time": "2022-02-14T03:11:53.515Z"
   },
   {
    "duration": 21,
    "start_time": "2022-02-14T03:11:53.525Z"
   },
   {
    "duration": 25,
    "start_time": "2022-02-14T03:11:53.549Z"
   },
   {
    "duration": 43,
    "start_time": "2022-02-14T03:11:53.577Z"
   },
   {
    "duration": 8,
    "start_time": "2022-02-14T03:11:53.622Z"
   },
   {
    "duration": 17,
    "start_time": "2022-02-14T03:11:53.631Z"
   },
   {
    "duration": 21,
    "start_time": "2022-02-14T03:11:53.650Z"
   },
   {
    "duration": 40,
    "start_time": "2022-02-14T03:11:53.673Z"
   },
   {
    "duration": 8,
    "start_time": "2022-02-14T03:11:53.715Z"
   },
   {
    "duration": 14,
    "start_time": "2022-02-14T03:11:53.725Z"
   },
   {
    "duration": 10,
    "start_time": "2022-02-14T03:11:53.740Z"
   },
   {
    "duration": 8,
    "start_time": "2022-02-14T03:11:53.752Z"
   },
   {
    "duration": 16,
    "start_time": "2022-02-14T03:11:53.762Z"
   },
   {
    "duration": 62,
    "start_time": "2022-02-14T03:11:53.780Z"
   },
   {
    "duration": 29,
    "start_time": "2022-02-14T03:11:53.844Z"
   },
   {
    "duration": 2,
    "start_time": "2022-02-14T03:11:53.875Z"
   },
   {
    "duration": 333,
    "start_time": "2022-02-14T03:11:53.879Z"
   },
   {
    "duration": 19,
    "start_time": "2022-02-14T03:16:07.303Z"
   },
   {
    "duration": 54,
    "start_time": "2022-02-14T03:17:57.928Z"
   },
   {
    "duration": 1558,
    "start_time": "2022-02-14T03:18:12.120Z"
   },
   {
    "duration": 13,
    "start_time": "2022-02-14T03:18:13.680Z"
   },
   {
    "duration": 28,
    "start_time": "2022-02-14T03:18:13.695Z"
   },
   {
    "duration": 34,
    "start_time": "2022-02-14T03:18:13.725Z"
   },
   {
    "duration": 47,
    "start_time": "2022-02-14T03:18:13.761Z"
   },
   {
    "duration": 10,
    "start_time": "2022-02-14T03:18:13.810Z"
   },
   {
    "duration": 23,
    "start_time": "2022-02-14T03:18:13.822Z"
   },
   {
    "duration": 25,
    "start_time": "2022-02-14T03:18:13.848Z"
   },
   {
    "duration": 39,
    "start_time": "2022-02-14T03:18:13.875Z"
   },
   {
    "duration": 19,
    "start_time": "2022-02-14T03:18:13.916Z"
   },
   {
    "duration": 9,
    "start_time": "2022-02-14T03:18:13.937Z"
   },
   {
    "duration": 27,
    "start_time": "2022-02-14T03:18:13.948Z"
   },
   {
    "duration": 35,
    "start_time": "2022-02-14T03:18:13.977Z"
   },
   {
    "duration": 17,
    "start_time": "2022-02-14T03:18:14.014Z"
   },
   {
    "duration": 8,
    "start_time": "2022-02-14T03:18:14.033Z"
   },
   {
    "duration": 25,
    "start_time": "2022-02-14T03:18:14.043Z"
   },
   {
    "duration": 23,
    "start_time": "2022-02-14T03:18:14.070Z"
   },
   {
    "duration": 14,
    "start_time": "2022-02-14T03:18:14.095Z"
   },
   {
    "duration": 26,
    "start_time": "2022-02-14T03:18:14.111Z"
   },
   {
    "duration": 49,
    "start_time": "2022-02-14T03:18:14.139Z"
   },
   {
    "duration": 3,
    "start_time": "2022-02-14T03:18:14.190Z"
   },
   {
    "duration": 444,
    "start_time": "2022-02-14T03:29:06.589Z"
   },
   {
    "duration": 5883,
    "start_time": "2022-02-14T03:30:13.266Z"
   },
   {
    "duration": 225,
    "start_time": "2022-02-14T03:43:08.988Z"
   },
   {
    "duration": 73,
    "start_time": "2022-02-14T03:43:38.455Z"
   },
   {
    "duration": 35,
    "start_time": "2022-02-14T03:45:17.540Z"
   },
   {
    "duration": 39,
    "start_time": "2022-02-14T03:46:24.869Z"
   },
   {
    "duration": 25,
    "start_time": "2022-02-14T03:48:42.875Z"
   },
   {
    "duration": 33,
    "start_time": "2022-02-14T03:48:44.990Z"
   },
   {
    "duration": 72,
    "start_time": "2022-02-14T03:49:59.173Z"
   },
   {
    "duration": 446,
    "start_time": "2022-02-14T03:50:14.118Z"
   },
   {
    "duration": 1538,
    "start_time": "2022-02-14T03:50:27.970Z"
   },
   {
    "duration": 13,
    "start_time": "2022-02-14T03:50:29.510Z"
   },
   {
    "duration": 25,
    "start_time": "2022-02-14T03:50:29.525Z"
   },
   {
    "duration": 34,
    "start_time": "2022-02-14T03:50:29.552Z"
   },
   {
    "duration": 43,
    "start_time": "2022-02-14T03:50:29.588Z"
   },
   {
    "duration": 9,
    "start_time": "2022-02-14T03:50:29.633Z"
   },
   {
    "duration": 21,
    "start_time": "2022-02-14T03:50:29.644Z"
   },
   {
    "duration": 49,
    "start_time": "2022-02-14T03:50:29.668Z"
   },
   {
    "duration": 20,
    "start_time": "2022-02-14T03:50:29.720Z"
   },
   {
    "duration": 15,
    "start_time": "2022-02-14T03:50:29.742Z"
   },
   {
    "duration": 8,
    "start_time": "2022-02-14T03:50:29.759Z"
   },
   {
    "duration": 45,
    "start_time": "2022-02-14T03:50:29.769Z"
   },
   {
    "duration": 22,
    "start_time": "2022-02-14T03:50:29.816Z"
   },
   {
    "duration": 16,
    "start_time": "2022-02-14T03:50:29.840Z"
   },
   {
    "duration": 9,
    "start_time": "2022-02-14T03:50:29.858Z"
   },
   {
    "duration": 40,
    "start_time": "2022-02-14T03:50:29.869Z"
   },
   {
    "duration": 11,
    "start_time": "2022-02-14T03:50:29.911Z"
   },
   {
    "duration": 10,
    "start_time": "2022-02-14T03:50:29.924Z"
   },
   {
    "duration": 17,
    "start_time": "2022-02-14T03:50:29.935Z"
   },
   {
    "duration": 99,
    "start_time": "2022-02-14T03:50:29.954Z"
   },
   {
    "duration": 39,
    "start_time": "2022-02-14T03:50:30.056Z"
   },
   {
    "duration": 37,
    "start_time": "2022-02-14T03:50:30.108Z"
   },
   {
    "duration": 25,
    "start_time": "2022-02-14T03:50:30.149Z"
   },
   {
    "duration": 32,
    "start_time": "2022-02-14T03:50:30.177Z"
   },
   {
    "duration": 6133,
    "start_time": "2022-02-14T03:50:30.211Z"
   },
   {
    "duration": 33,
    "start_time": "2022-02-14T03:50:43.222Z"
   },
   {
    "duration": 8,
    "start_time": "2022-02-14T05:09:50.673Z"
   },
   {
    "duration": 25,
    "start_time": "2022-02-14T05:09:57.713Z"
   },
   {
    "duration": 1627,
    "start_time": "2022-02-14T05:10:14.248Z"
   },
   {
    "duration": 15,
    "start_time": "2022-02-14T05:10:15.877Z"
   },
   {
    "duration": 25,
    "start_time": "2022-02-14T05:10:15.895Z"
   },
   {
    "duration": 36,
    "start_time": "2022-02-14T05:10:15.923Z"
   },
   {
    "duration": 47,
    "start_time": "2022-02-14T05:10:15.961Z"
   },
   {
    "duration": 10,
    "start_time": "2022-02-14T05:10:16.010Z"
   },
   {
    "duration": 23,
    "start_time": "2022-02-14T05:10:16.022Z"
   },
   {
    "duration": 26,
    "start_time": "2022-02-14T05:10:16.048Z"
   },
   {
    "duration": 45,
    "start_time": "2022-02-14T05:10:16.077Z"
   },
   {
    "duration": 17,
    "start_time": "2022-02-14T05:10:16.124Z"
   },
   {
    "duration": 10,
    "start_time": "2022-02-14T05:10:16.143Z"
   },
   {
    "duration": 53,
    "start_time": "2022-02-14T05:10:16.155Z"
   },
   {
    "duration": 23,
    "start_time": "2022-02-14T05:10:16.210Z"
   },
   {
    "duration": 16,
    "start_time": "2022-02-14T05:10:16.235Z"
   },
   {
    "duration": 10,
    "start_time": "2022-02-14T05:10:16.253Z"
   },
   {
    "duration": 25,
    "start_time": "2022-02-14T05:10:16.264Z"
   },
   {
    "duration": 15,
    "start_time": "2022-02-14T05:10:16.307Z"
   },
   {
    "duration": 13,
    "start_time": "2022-02-14T05:10:16.324Z"
   },
   {
    "duration": 20,
    "start_time": "2022-02-14T05:10:16.339Z"
   },
   {
    "duration": 82,
    "start_time": "2022-02-14T05:10:16.361Z"
   },
   {
    "duration": 36,
    "start_time": "2022-02-14T05:10:16.445Z"
   },
   {
    "duration": 50,
    "start_time": "2022-02-14T05:10:16.482Z"
   },
   {
    "duration": 20,
    "start_time": "2022-02-14T05:10:16.536Z"
   },
   {
    "duration": 3,
    "start_time": "2022-02-14T05:10:16.558Z"
   },
   {
    "duration": 6351,
    "start_time": "2022-02-14T05:10:16.563Z"
   },
   {
    "duration": 25,
    "start_time": "2022-02-14T05:10:29.220Z"
   },
   {
    "duration": 54,
    "start_time": "2022-02-14T05:11:00.861Z"
   },
   {
    "duration": 320,
    "start_time": "2022-02-14T05:11:08.445Z"
   },
   {
    "duration": 224,
    "start_time": "2022-02-14T05:14:29.800Z"
   },
   {
    "duration": 211,
    "start_time": "2022-02-14T05:14:58.028Z"
   },
   {
    "duration": 1540,
    "start_time": "2022-02-14T15:23:12.256Z"
   },
   {
    "duration": 12,
    "start_time": "2022-02-14T15:23:13.798Z"
   },
   {
    "duration": 24,
    "start_time": "2022-02-14T15:23:13.813Z"
   },
   {
    "duration": 40,
    "start_time": "2022-02-14T15:23:13.839Z"
   },
   {
    "duration": 46,
    "start_time": "2022-02-14T15:23:13.882Z"
   },
   {
    "duration": 10,
    "start_time": "2022-02-14T15:23:13.930Z"
   },
   {
    "duration": 20,
    "start_time": "2022-02-14T15:23:13.942Z"
   },
   {
    "duration": 55,
    "start_time": "2022-02-14T15:23:13.964Z"
   },
   {
    "duration": 20,
    "start_time": "2022-02-14T15:23:14.023Z"
   },
   {
    "duration": 14,
    "start_time": "2022-02-14T15:23:14.045Z"
   },
   {
    "duration": 7,
    "start_time": "2022-02-14T15:23:14.061Z"
   },
   {
    "duration": 41,
    "start_time": "2022-02-14T15:23:14.070Z"
   },
   {
    "duration": 21,
    "start_time": "2022-02-14T15:23:14.113Z"
   },
   {
    "duration": 16,
    "start_time": "2022-02-14T15:23:14.136Z"
   },
   {
    "duration": 8,
    "start_time": "2022-02-14T15:23:14.154Z"
   },
   {
    "duration": 43,
    "start_time": "2022-02-14T15:23:14.164Z"
   },
   {
    "duration": 9,
    "start_time": "2022-02-14T15:23:14.209Z"
   },
   {
    "duration": 12,
    "start_time": "2022-02-14T15:23:14.220Z"
   },
   {
    "duration": 40,
    "start_time": "2022-02-14T15:23:14.234Z"
   },
   {
    "duration": 89,
    "start_time": "2022-02-14T15:23:14.276Z"
   },
   {
    "duration": 311,
    "start_time": "2022-02-14T15:23:14.368Z"
   },
   {
    "duration": -877,
    "start_time": "2022-02-14T15:23:15.558Z"
   },
   {
    "duration": -903,
    "start_time": "2022-02-14T15:23:15.586Z"
   },
   {
    "duration": -925,
    "start_time": "2022-02-14T15:23:15.609Z"
   },
   {
    "duration": -960,
    "start_time": "2022-02-14T15:23:15.645Z"
   },
   {
    "duration": 4822,
    "start_time": "2022-02-14T15:32:08.299Z"
   },
   {
    "duration": 209,
    "start_time": "2022-02-14T15:33:05.420Z"
   },
   {
    "duration": 34,
    "start_time": "2022-02-14T15:33:38.106Z"
   },
   {
    "duration": 24,
    "start_time": "2022-02-14T15:37:13.782Z"
   },
   {
    "duration": 257,
    "start_time": "2022-02-14T15:38:56.366Z"
   },
   {
    "duration": 61,
    "start_time": "2022-02-14T15:39:53.437Z"
   },
   {
    "duration": 1520,
    "start_time": "2022-02-15T14:30:04.451Z"
   },
   {
    "duration": 17,
    "start_time": "2022-02-15T14:30:05.974Z"
   },
   {
    "duration": 23,
    "start_time": "2022-02-15T14:30:05.994Z"
   },
   {
    "duration": 41,
    "start_time": "2022-02-15T14:30:06.019Z"
   },
   {
    "duration": 46,
    "start_time": "2022-02-15T14:30:06.062Z"
   },
   {
    "duration": 9,
    "start_time": "2022-02-15T14:30:06.110Z"
   },
   {
    "duration": 53,
    "start_time": "2022-02-15T14:30:06.121Z"
   },
   {
    "duration": 25,
    "start_time": "2022-02-15T14:30:06.177Z"
   },
   {
    "duration": 20,
    "start_time": "2022-02-15T14:30:06.204Z"
   },
   {
    "duration": 17,
    "start_time": "2022-02-15T14:30:06.226Z"
   },
   {
    "duration": 7,
    "start_time": "2022-02-15T14:30:06.245Z"
   },
   {
    "duration": 20,
    "start_time": "2022-02-15T14:30:06.254Z"
   },
   {
    "duration": 38,
    "start_time": "2022-02-15T14:30:06.276Z"
   },
   {
    "duration": 17,
    "start_time": "2022-02-15T14:30:06.316Z"
   },
   {
    "duration": 8,
    "start_time": "2022-02-15T14:30:06.335Z"
   },
   {
    "duration": 67,
    "start_time": "2022-02-15T14:30:06.346Z"
   },
   {
    "duration": 15,
    "start_time": "2022-02-15T14:30:06.416Z"
   },
   {
    "duration": 10,
    "start_time": "2022-02-15T14:30:06.433Z"
   },
   {
    "duration": 18,
    "start_time": "2022-02-15T14:30:06.445Z"
   },
   {
    "duration": 73,
    "start_time": "2022-02-15T14:30:06.466Z"
   },
   {
    "duration": 35,
    "start_time": "2022-02-15T14:30:06.541Z"
   },
   {
    "duration": 53,
    "start_time": "2022-02-15T14:30:06.577Z"
   },
   {
    "duration": 2,
    "start_time": "2022-02-15T14:30:06.633Z"
   },
   {
    "duration": 5837,
    "start_time": "2022-02-15T14:30:06.637Z"
   },
   {
    "duration": 88,
    "start_time": "2022-02-15T15:03:50.358Z"
   },
   {
    "duration": 59,
    "start_time": "2022-02-15T15:06:34.264Z"
   },
   {
    "duration": 227,
    "start_time": "2022-02-15T15:10:15.602Z"
   },
   {
    "duration": 22,
    "start_time": "2022-02-15T15:10:25.269Z"
   },
   {
    "duration": 40,
    "start_time": "2022-02-15T15:25:41.266Z"
   },
   {
    "duration": 45,
    "start_time": "2022-02-15T15:31:49.467Z"
   },
   {
    "duration": 39,
    "start_time": "2022-02-15T15:31:52.956Z"
   },
   {
    "duration": 36,
    "start_time": "2022-02-15T15:32:44.639Z"
   },
   {
    "duration": 253,
    "start_time": "2022-02-15T15:47:44.481Z"
   },
   {
    "duration": 26,
    "start_time": "2022-02-15T15:51:36.846Z"
   },
   {
    "duration": 20,
    "start_time": "2022-02-15T15:54:55.416Z"
   },
   {
    "duration": 31,
    "start_time": "2022-02-15T15:58:36.577Z"
   },
   {
    "duration": 50,
    "start_time": "2022-02-15T15:59:12.709Z"
   },
   {
    "duration": 27,
    "start_time": "2022-02-15T16:00:06.824Z"
   },
   {
    "duration": 27,
    "start_time": "2022-02-15T16:00:33.652Z"
   },
   {
    "duration": 27,
    "start_time": "2022-02-15T16:00:59.555Z"
   },
   {
    "duration": 27,
    "start_time": "2022-02-15T16:01:21.066Z"
   },
   {
    "duration": 1617,
    "start_time": "2022-02-15T16:01:35.763Z"
   },
   {
    "duration": 14,
    "start_time": "2022-02-15T16:01:37.383Z"
   },
   {
    "duration": 55,
    "start_time": "2022-02-15T16:01:37.400Z"
   },
   {
    "duration": 34,
    "start_time": "2022-02-15T16:01:37.457Z"
   },
   {
    "duration": 34,
    "start_time": "2022-02-15T16:01:37.493Z"
   },
   {
    "duration": 9,
    "start_time": "2022-02-15T16:01:37.529Z"
   },
   {
    "duration": 24,
    "start_time": "2022-02-15T16:01:37.540Z"
   },
   {
    "duration": 41,
    "start_time": "2022-02-15T16:01:37.567Z"
   },
   {
    "duration": 23,
    "start_time": "2022-02-15T16:01:37.611Z"
   },
   {
    "duration": 18,
    "start_time": "2022-02-15T16:01:37.636Z"
   },
   {
    "duration": 8,
    "start_time": "2022-02-15T16:01:37.657Z"
   },
   {
    "duration": 41,
    "start_time": "2022-02-15T16:01:37.667Z"
   },
   {
    "duration": 25,
    "start_time": "2022-02-15T16:01:37.710Z"
   },
   {
    "duration": 16,
    "start_time": "2022-02-15T16:01:37.737Z"
   },
   {
    "duration": 12,
    "start_time": "2022-02-15T16:01:37.755Z"
   },
   {
    "duration": 41,
    "start_time": "2022-02-15T16:01:37.768Z"
   },
   {
    "duration": 27,
    "start_time": "2022-02-15T16:01:37.812Z"
   },
   {
    "duration": 26,
    "start_time": "2022-02-15T16:01:37.841Z"
   },
   {
    "duration": 22,
    "start_time": "2022-02-15T16:01:37.869Z"
   },
   {
    "duration": 77,
    "start_time": "2022-02-15T16:01:37.893Z"
   },
   {
    "duration": 75,
    "start_time": "2022-02-15T16:01:37.972Z"
   },
   {
    "duration": 33,
    "start_time": "2022-02-15T16:01:38.049Z"
   },
   {
    "duration": 53,
    "start_time": "2022-02-15T16:01:38.085Z"
   },
   {
    "duration": 301,
    "start_time": "2022-02-15T16:01:38.140Z"
   },
   {
    "duration": -1008,
    "start_time": "2022-02-15T16:01:39.451Z"
   },
   {
    "duration": -1060,
    "start_time": "2022-02-15T16:01:39.504Z"
   },
   {
    "duration": -1093,
    "start_time": "2022-02-15T16:01:39.538Z"
   },
   {
    "duration": -1120,
    "start_time": "2022-02-15T16:01:39.566Z"
   },
   {
    "duration": -1145,
    "start_time": "2022-02-15T16:01:39.592Z"
   },
   {
    "duration": -1185,
    "start_time": "2022-02-15T16:01:39.633Z"
   },
   {
    "duration": -1221,
    "start_time": "2022-02-15T16:01:39.670Z"
   },
   {
    "duration": -1255,
    "start_time": "2022-02-15T16:01:39.706Z"
   },
   {
    "duration": 22,
    "start_time": "2022-02-15T16:02:07.569Z"
   },
   {
    "duration": 43,
    "start_time": "2022-02-15T16:02:10.373Z"
   },
   {
    "duration": 39,
    "start_time": "2022-02-15T16:02:13.152Z"
   },
   {
    "duration": 43,
    "start_time": "2022-02-15T16:02:15.580Z"
   },
   {
    "duration": 44,
    "start_time": "2022-02-15T16:02:18.791Z"
   },
   {
    "duration": 24,
    "start_time": "2022-02-15T16:02:28.039Z"
   },
   {
    "duration": 20,
    "start_time": "2022-02-15T16:02:33.316Z"
   },
   {
    "duration": 325,
    "start_time": "2022-02-15T16:02:37.660Z"
   },
   {
    "duration": 30,
    "start_time": "2022-02-15T16:03:11.195Z"
   },
   {
    "duration": 31,
    "start_time": "2022-02-15T16:03:54.525Z"
   },
   {
    "duration": 29,
    "start_time": "2022-02-15T16:03:57.688Z"
   },
   {
    "duration": 215,
    "start_time": "2022-02-15T16:04:09.317Z"
   },
   {
    "duration": 1571,
    "start_time": "2022-02-15T16:04:21.632Z"
   },
   {
    "duration": 18,
    "start_time": "2022-02-15T16:04:23.205Z"
   },
   {
    "duration": 27,
    "start_time": "2022-02-15T16:04:23.226Z"
   },
   {
    "duration": 34,
    "start_time": "2022-02-15T16:04:23.256Z"
   },
   {
    "duration": 48,
    "start_time": "2022-02-15T16:04:23.292Z"
   },
   {
    "duration": 9,
    "start_time": "2022-02-15T16:04:23.342Z"
   },
   {
    "duration": 23,
    "start_time": "2022-02-15T16:04:23.353Z"
   },
   {
    "duration": 50,
    "start_time": "2022-02-15T16:04:23.379Z"
   },
   {
    "duration": 20,
    "start_time": "2022-02-15T16:04:23.432Z"
   },
   {
    "duration": 15,
    "start_time": "2022-02-15T16:04:23.454Z"
   },
   {
    "duration": 9,
    "start_time": "2022-02-15T16:04:23.471Z"
   },
   {
    "duration": 21,
    "start_time": "2022-02-15T16:04:23.507Z"
   },
   {
    "duration": 29,
    "start_time": "2022-02-15T16:04:23.530Z"
   },
   {
    "duration": 17,
    "start_time": "2022-02-15T16:04:23.561Z"
   },
   {
    "duration": 31,
    "start_time": "2022-02-15T16:04:23.580Z"
   },
   {
    "duration": 28,
    "start_time": "2022-02-15T16:04:23.614Z"
   },
   {
    "duration": 13,
    "start_time": "2022-02-15T16:04:23.644Z"
   },
   {
    "duration": 11,
    "start_time": "2022-02-15T16:04:23.659Z"
   },
   {
    "duration": 18,
    "start_time": "2022-02-15T16:04:23.672Z"
   },
   {
    "duration": 80,
    "start_time": "2022-02-15T16:04:23.692Z"
   },
   {
    "duration": 76,
    "start_time": "2022-02-15T16:04:23.774Z"
   },
   {
    "duration": 34,
    "start_time": "2022-02-15T16:04:23.852Z"
   },
   {
    "duration": 50,
    "start_time": "2022-02-15T16:04:23.890Z"
   },
   {
    "duration": 22,
    "start_time": "2022-02-15T16:04:23.943Z"
   },
   {
    "duration": 65,
    "start_time": "2022-02-15T16:04:23.967Z"
   },
   {
    "duration": 37,
    "start_time": "2022-02-15T16:04:24.033Z"
   },
   {
    "duration": 45,
    "start_time": "2022-02-15T16:04:24.072Z"
   },
   {
    "duration": 315,
    "start_time": "2022-02-15T16:04:24.120Z"
   },
   {
    "duration": -1229,
    "start_time": "2022-02-15T16:04:25.666Z"
   },
   {
    "duration": -1253,
    "start_time": "2022-02-15T16:04:25.691Z"
   },
   {
    "duration": -1290,
    "start_time": "2022-02-15T16:04:25.729Z"
   },
   {
    "duration": -1317,
    "start_time": "2022-02-15T16:04:25.757Z"
   },
   {
    "duration": 35,
    "start_time": "2022-02-15T16:04:31.575Z"
   },
   {
    "duration": 41,
    "start_time": "2022-02-15T16:04:37.251Z"
   },
   {
    "duration": 20,
    "start_time": "2022-02-15T16:04:42.146Z"
   },
   {
    "duration": 46,
    "start_time": "2022-02-15T16:04:45.547Z"
   },
   {
    "duration": 105,
    "start_time": "2022-02-15T16:05:08.711Z"
   },
   {
    "duration": 112,
    "start_time": "2022-02-15T16:05:13.361Z"
   },
   {
    "duration": 149,
    "start_time": "2022-02-15T16:05:22.979Z"
   },
   {
    "duration": 350,
    "start_time": "2022-02-15T16:08:09.849Z"
   },
   {
    "duration": 383,
    "start_time": "2022-02-15T16:09:48.619Z"
   },
   {
    "duration": 435,
    "start_time": "2022-02-15T16:09:57.921Z"
   },
   {
    "duration": 471,
    "start_time": "2022-02-15T16:10:07.756Z"
   },
   {
    "duration": 500,
    "start_time": "2022-02-15T16:11:01.463Z"
   },
   {
    "duration": 574,
    "start_time": "2022-02-15T16:11:14.889Z"
   },
   {
    "duration": 506,
    "start_time": "2022-02-15T16:11:57.074Z"
   },
   {
    "duration": 602,
    "start_time": "2022-02-15T16:12:03.902Z"
   },
   {
    "duration": 1742,
    "start_time": "2022-02-15T16:12:12.108Z"
   },
   {
    "duration": 12,
    "start_time": "2022-02-15T16:12:13.852Z"
   },
   {
    "duration": 28,
    "start_time": "2022-02-15T16:12:13.867Z"
   },
   {
    "duration": 40,
    "start_time": "2022-02-15T16:12:13.897Z"
   },
   {
    "duration": 33,
    "start_time": "2022-02-15T16:12:13.939Z"
   },
   {
    "duration": 9,
    "start_time": "2022-02-15T16:12:13.974Z"
   },
   {
    "duration": 46,
    "start_time": "2022-02-15T16:12:13.985Z"
   },
   {
    "duration": 30,
    "start_time": "2022-02-15T16:12:14.034Z"
   },
   {
    "duration": 22,
    "start_time": "2022-02-15T16:12:14.066Z"
   },
   {
    "duration": 21,
    "start_time": "2022-02-15T16:12:14.108Z"
   },
   {
    "duration": 9,
    "start_time": "2022-02-15T16:12:14.131Z"
   },
   {
    "duration": 24,
    "start_time": "2022-02-15T16:12:14.142Z"
   },
   {
    "duration": 45,
    "start_time": "2022-02-15T16:12:14.169Z"
   },
   {
    "duration": 19,
    "start_time": "2022-02-15T16:12:14.216Z"
   },
   {
    "duration": 10,
    "start_time": "2022-02-15T16:12:14.237Z"
   },
   {
    "duration": 19,
    "start_time": "2022-02-15T16:12:14.249Z"
   },
   {
    "duration": 51,
    "start_time": "2022-02-15T16:12:14.270Z"
   },
   {
    "duration": 17,
    "start_time": "2022-02-15T16:12:14.323Z"
   },
   {
    "duration": 16,
    "start_time": "2022-02-15T16:12:14.343Z"
   },
   {
    "duration": 87,
    "start_time": "2022-02-15T16:12:14.362Z"
   },
   {
    "duration": 72,
    "start_time": "2022-02-15T16:12:14.450Z"
   },
   {
    "duration": 35,
    "start_time": "2022-02-15T16:12:14.524Z"
   },
   {
    "duration": 54,
    "start_time": "2022-02-15T16:12:14.563Z"
   },
   {
    "duration": 23,
    "start_time": "2022-02-15T16:12:14.620Z"
   },
   {
    "duration": 63,
    "start_time": "2022-02-15T16:12:14.645Z"
   },
   {
    "duration": 43,
    "start_time": "2022-02-15T16:12:14.711Z"
   },
   {
    "duration": 25,
    "start_time": "2022-02-15T16:12:14.756Z"
   },
   {
    "duration": 353,
    "start_time": "2022-02-15T16:12:14.783Z"
   },
   {
    "duration": -1862,
    "start_time": "2022-02-15T16:12:17.001Z"
   },
   {
    "duration": -1890,
    "start_time": "2022-02-15T16:12:17.031Z"
   },
   {
    "duration": -1921,
    "start_time": "2022-02-15T16:12:17.063Z"
   },
   {
    "duration": -1953,
    "start_time": "2022-02-15T16:12:17.097Z"
   },
   {
    "duration": 39,
    "start_time": "2022-02-15T16:12:21.789Z"
   },
   {
    "duration": 41,
    "start_time": "2022-02-15T16:12:29.336Z"
   },
   {
    "duration": 24,
    "start_time": "2022-02-15T16:12:35.685Z"
   },
   {
    "duration": 73,
    "start_time": "2022-02-15T16:12:41.672Z"
   },
   {
    "duration": 39,
    "start_time": "2022-02-15T16:13:25.497Z"
   },
   {
    "duration": 1687,
    "start_time": "2022-02-15T16:13:35.421Z"
   },
   {
    "duration": 19,
    "start_time": "2022-02-15T16:13:37.111Z"
   },
   {
    "duration": 26,
    "start_time": "2022-02-15T16:13:37.133Z"
   },
   {
    "duration": 46,
    "start_time": "2022-02-15T16:13:37.161Z"
   },
   {
    "duration": 35,
    "start_time": "2022-02-15T16:13:37.210Z"
   },
   {
    "duration": 10,
    "start_time": "2022-02-15T16:13:37.247Z"
   },
   {
    "duration": 32,
    "start_time": "2022-02-15T16:13:37.259Z"
   },
   {
    "duration": 28,
    "start_time": "2022-02-15T16:13:37.307Z"
   },
   {
    "duration": 38,
    "start_time": "2022-02-15T16:13:37.338Z"
   },
   {
    "duration": 22,
    "start_time": "2022-02-15T16:13:37.378Z"
   },
   {
    "duration": 19,
    "start_time": "2022-02-15T16:13:37.402Z"
   },
   {
    "duration": 39,
    "start_time": "2022-02-15T16:13:37.424Z"
   },
   {
    "duration": 30,
    "start_time": "2022-02-15T16:13:37.465Z"
   },
   {
    "duration": 20,
    "start_time": "2022-02-15T16:13:37.497Z"
   },
   {
    "duration": 24,
    "start_time": "2022-02-15T16:13:37.520Z"
   },
   {
    "duration": 26,
    "start_time": "2022-02-15T16:13:37.546Z"
   },
   {
    "duration": 15,
    "start_time": "2022-02-15T16:13:37.574Z"
   },
   {
    "duration": 23,
    "start_time": "2022-02-15T16:13:37.591Z"
   },
   {
    "duration": 27,
    "start_time": "2022-02-15T16:13:37.617Z"
   },
   {
    "duration": 81,
    "start_time": "2022-02-15T16:13:37.647Z"
   },
   {
    "duration": 63,
    "start_time": "2022-02-15T16:13:37.730Z"
   },
   {
    "duration": 41,
    "start_time": "2022-02-15T16:13:37.807Z"
   },
   {
    "duration": 34,
    "start_time": "2022-02-15T16:13:37.851Z"
   },
   {
    "duration": 42,
    "start_time": "2022-02-15T16:13:37.887Z"
   },
   {
    "duration": 42,
    "start_time": "2022-02-15T16:13:37.931Z"
   },
   {
    "duration": 65,
    "start_time": "2022-02-15T16:13:37.976Z"
   },
   {
    "duration": 24,
    "start_time": "2022-02-15T16:13:38.043Z"
   },
   {
    "duration": 683,
    "start_time": "2022-02-15T16:13:38.069Z"
   },
   {
    "duration": -1551,
    "start_time": "2022-02-15T16:13:40.305Z"
   },
   {
    "duration": -1591,
    "start_time": "2022-02-15T16:13:40.346Z"
   },
   {
    "duration": -1629,
    "start_time": "2022-02-15T16:13:40.386Z"
   },
   {
    "duration": -1673,
    "start_time": "2022-02-15T16:13:40.431Z"
   },
   {
    "duration": 40,
    "start_time": "2022-02-15T16:13:45.606Z"
   },
   {
    "duration": 39,
    "start_time": "2022-02-15T16:13:48.261Z"
   },
   {
    "duration": 19,
    "start_time": "2022-02-15T16:13:51.966Z"
   },
   {
    "duration": 77,
    "start_time": "2022-02-15T16:13:55.644Z"
   },
   {
    "duration": 21,
    "start_time": "2022-02-15T16:14:12.222Z"
   },
   {
    "duration": 51,
    "start_time": "2022-02-15T16:16:03.693Z"
   },
   {
    "duration": 42,
    "start_time": "2022-02-15T16:16:16.521Z"
   },
   {
    "duration": 5356,
    "start_time": "2022-02-15T16:24:18.833Z"
   },
   {
    "duration": 1366,
    "start_time": "2022-02-16T02:36:33.792Z"
   },
   {
    "duration": 12,
    "start_time": "2022-02-16T02:36:35.160Z"
   },
   {
    "duration": 21,
    "start_time": "2022-02-16T02:36:35.174Z"
   },
   {
    "duration": 30,
    "start_time": "2022-02-16T02:36:35.197Z"
   },
   {
    "duration": 49,
    "start_time": "2022-02-16T02:36:35.229Z"
   },
   {
    "duration": 8,
    "start_time": "2022-02-16T02:36:35.280Z"
   },
   {
    "duration": 17,
    "start_time": "2022-02-16T02:36:35.290Z"
   },
   {
    "duration": 48,
    "start_time": "2022-02-16T02:36:35.311Z"
   },
   {
    "duration": 18,
    "start_time": "2022-02-16T02:36:35.361Z"
   },
   {
    "duration": 14,
    "start_time": "2022-02-16T02:36:35.380Z"
   },
   {
    "duration": 7,
    "start_time": "2022-02-16T02:36:35.396Z"
   },
   {
    "duration": 16,
    "start_time": "2022-02-16T02:36:35.405Z"
   },
   {
    "duration": 52,
    "start_time": "2022-02-16T02:36:35.422Z"
   },
   {
    "duration": 15,
    "start_time": "2022-02-16T02:36:35.476Z"
   },
   {
    "duration": 8,
    "start_time": "2022-02-16T02:36:35.492Z"
   },
   {
    "duration": 16,
    "start_time": "2022-02-16T02:36:35.502Z"
   },
   {
    "duration": 11,
    "start_time": "2022-02-16T02:36:35.520Z"
   },
   {
    "duration": 27,
    "start_time": "2022-02-16T02:36:35.533Z"
   },
   {
    "duration": 14,
    "start_time": "2022-02-16T02:36:35.562Z"
   },
   {
    "duration": 60,
    "start_time": "2022-02-16T02:36:35.578Z"
   },
   {
    "duration": 60,
    "start_time": "2022-02-16T02:36:35.639Z"
   },
   {
    "duration": 30,
    "start_time": "2022-02-16T02:36:35.700Z"
   },
   {
    "duration": 49,
    "start_time": "2022-02-16T02:36:35.732Z"
   },
   {
    "duration": 19,
    "start_time": "2022-02-16T02:36:35.782Z"
   },
   {
    "duration": 35,
    "start_time": "2022-02-16T02:36:35.803Z"
   },
   {
    "duration": 49,
    "start_time": "2022-02-16T02:36:35.840Z"
   },
   {
    "duration": 22,
    "start_time": "2022-02-16T02:36:35.891Z"
   },
   {
    "duration": 245,
    "start_time": "2022-02-16T02:36:35.914Z"
   },
   {
    "duration": -2725,
    "start_time": "2022-02-16T02:36:38.885Z"
   },
   {
    "duration": -2731,
    "start_time": "2022-02-16T02:36:38.892Z"
   },
   {
    "duration": -2735,
    "start_time": "2022-02-16T02:36:38.897Z"
   },
   {
    "duration": -2742,
    "start_time": "2022-02-16T02:36:38.905Z"
   },
   {
    "duration": 32,
    "start_time": "2022-02-16T02:36:46.248Z"
   },
   {
    "duration": 37,
    "start_time": "2022-02-16T02:36:55.884Z"
   },
   {
    "duration": 18,
    "start_time": "2022-02-16T02:36:58.986Z"
   },
   {
    "duration": 66,
    "start_time": "2022-02-16T02:37:02.504Z"
   },
   {
    "duration": 18,
    "start_time": "2022-02-16T02:37:05.776Z"
   },
   {
    "duration": 3440,
    "start_time": "2022-02-16T02:37:11.048Z"
   },
   {
    "duration": 19,
    "start_time": "2022-02-16T02:47:21.041Z"
   },
   {
    "duration": 18,
    "start_time": "2022-02-16T02:47:31.563Z"
   },
   {
    "duration": 26,
    "start_time": "2022-02-16T03:00:51.096Z"
   },
   {
    "duration": 57,
    "start_time": "2022-02-16T03:01:32.879Z"
   },
   {
    "duration": 38,
    "start_time": "2022-02-16T03:03:26.199Z"
   },
   {
    "duration": 44,
    "start_time": "2022-02-16T03:04:23.948Z"
   },
   {
    "duration": 65,
    "start_time": "2022-02-16T03:04:29.027Z"
   },
   {
    "duration": 38,
    "start_time": "2022-02-16T03:06:02.844Z"
   },
   {
    "duration": 349,
    "start_time": "2022-02-16T03:16:35.392Z"
   },
   {
    "duration": 28,
    "start_time": "2022-02-16T03:16:50.383Z"
   },
   {
    "duration": 22,
    "start_time": "2022-02-16T03:17:35.239Z"
   },
   {
    "duration": 138,
    "start_time": "2022-02-16T03:17:43.568Z"
   },
   {
    "duration": 14,
    "start_time": "2022-02-16T03:17:58.487Z"
   },
   {
    "duration": 16,
    "start_time": "2022-02-16T03:19:19.031Z"
   },
   {
    "duration": 16,
    "start_time": "2022-02-16T03:19:25.542Z"
   },
   {
    "duration": 9,
    "start_time": "2022-02-16T03:22:16.414Z"
   },
   {
    "duration": 5,
    "start_time": "2022-02-16T03:22:25.294Z"
   },
   {
    "duration": 23,
    "start_time": "2022-02-16T03:23:25.254Z"
   },
   {
    "duration": 240,
    "start_time": "2022-02-16T03:23:43.270Z"
   },
   {
    "duration": 1510,
    "start_time": "2022-02-16T03:25:10.650Z"
   },
   {
    "duration": 12,
    "start_time": "2022-02-16T03:25:12.163Z"
   },
   {
    "duration": 25,
    "start_time": "2022-02-16T03:25:12.177Z"
   },
   {
    "duration": 30,
    "start_time": "2022-02-16T03:25:12.204Z"
   },
   {
    "duration": 45,
    "start_time": "2022-02-16T03:25:12.236Z"
   },
   {
    "duration": 11,
    "start_time": "2022-02-16T03:25:12.282Z"
   },
   {
    "duration": 9,
    "start_time": "2022-02-16T03:25:12.294Z"
   },
   {
    "duration": 20,
    "start_time": "2022-02-16T03:25:12.305Z"
   },
   {
    "duration": 42,
    "start_time": "2022-02-16T03:25:12.327Z"
   },
   {
    "duration": 18,
    "start_time": "2022-02-16T03:25:12.370Z"
   },
   {
    "duration": 13,
    "start_time": "2022-02-16T03:25:12.390Z"
   },
   {
    "duration": 6,
    "start_time": "2022-02-16T03:25:12.405Z"
   },
   {
    "duration": 20,
    "start_time": "2022-02-16T03:25:12.413Z"
   },
   {
    "duration": 19,
    "start_time": "2022-02-16T03:25:12.458Z"
   },
   {
    "duration": 14,
    "start_time": "2022-02-16T03:25:12.479Z"
   },
   {
    "duration": 9,
    "start_time": "2022-02-16T03:25:12.494Z"
   },
   {
    "duration": 14,
    "start_time": "2022-02-16T03:25:12.504Z"
   },
   {
    "duration": 11,
    "start_time": "2022-02-16T03:25:12.519Z"
   },
   {
    "duration": 27,
    "start_time": "2022-02-16T03:25:12.532Z"
   },
   {
    "duration": 15,
    "start_time": "2022-02-16T03:25:12.561Z"
   },
   {
    "duration": 41,
    "start_time": "2022-02-16T03:25:12.577Z"
   },
   {
    "duration": 69,
    "start_time": "2022-02-16T03:25:12.619Z"
   },
   {
    "duration": 57,
    "start_time": "2022-02-16T03:25:12.690Z"
   },
   {
    "duration": 41,
    "start_time": "2022-02-16T03:25:12.748Z"
   },
   {
    "duration": 38,
    "start_time": "2022-02-16T03:25:12.791Z"
   },
   {
    "duration": 44,
    "start_time": "2022-02-16T03:25:12.831Z"
   },
   {
    "duration": 22,
    "start_time": "2022-02-16T03:25:12.877Z"
   },
   {
    "duration": 397,
    "start_time": "2022-02-16T03:25:12.900Z"
   },
   {
    "duration": -2707,
    "start_time": "2022-02-16T03:25:16.006Z"
   },
   {
    "duration": -2720,
    "start_time": "2022-02-16T03:25:16.019Z"
   },
   {
    "duration": -2729,
    "start_time": "2022-02-16T03:25:16.029Z"
   },
   {
    "duration": -2732,
    "start_time": "2022-02-16T03:25:16.033Z"
   },
   {
    "duration": -2735,
    "start_time": "2022-02-16T03:25:16.037Z"
   },
   {
    "duration": -2744,
    "start_time": "2022-02-16T03:25:16.047Z"
   },
   {
    "duration": 183,
    "start_time": "2022-02-16T03:25:38.029Z"
   },
   {
    "duration": 1454,
    "start_time": "2022-02-16T03:25:43.738Z"
   },
   {
    "duration": 12,
    "start_time": "2022-02-16T03:25:45.194Z"
   },
   {
    "duration": 29,
    "start_time": "2022-02-16T03:25:45.207Z"
   },
   {
    "duration": 31,
    "start_time": "2022-02-16T03:25:45.238Z"
   },
   {
    "duration": 28,
    "start_time": "2022-02-16T03:25:45.271Z"
   },
   {
    "duration": 11,
    "start_time": "2022-02-16T03:25:45.301Z"
   },
   {
    "duration": 9,
    "start_time": "2022-02-16T03:25:45.314Z"
   },
   {
    "duration": 39,
    "start_time": "2022-02-16T03:25:45.325Z"
   },
   {
    "duration": 22,
    "start_time": "2022-02-16T03:25:45.368Z"
   },
   {
    "duration": 19,
    "start_time": "2022-02-16T03:25:45.393Z"
   },
   {
    "duration": 15,
    "start_time": "2022-02-16T03:25:45.413Z"
   },
   {
    "duration": 37,
    "start_time": "2022-02-16T03:25:45.430Z"
   },
   {
    "duration": 19,
    "start_time": "2022-02-16T03:25:45.469Z"
   },
   {
    "duration": 20,
    "start_time": "2022-02-16T03:25:45.490Z"
   },
   {
    "duration": 15,
    "start_time": "2022-02-16T03:25:45.512Z"
   },
   {
    "duration": 31,
    "start_time": "2022-02-16T03:25:45.529Z"
   },
   {
    "duration": 10,
    "start_time": "2022-02-16T03:25:45.561Z"
   },
   {
    "duration": 11,
    "start_time": "2022-02-16T03:25:45.573Z"
   },
   {
    "duration": 9,
    "start_time": "2022-02-16T03:25:45.585Z"
   },
   {
    "duration": 17,
    "start_time": "2022-02-16T03:25:45.595Z"
   },
   {
    "duration": 48,
    "start_time": "2022-02-16T03:25:45.614Z"
   },
   {
    "duration": 57,
    "start_time": "2022-02-16T03:25:45.663Z"
   },
   {
    "duration": 72,
    "start_time": "2022-02-16T03:25:45.721Z"
   },
   {
    "duration": 33,
    "start_time": "2022-02-16T03:25:45.794Z"
   },
   {
    "duration": 54,
    "start_time": "2022-02-16T03:25:45.829Z"
   },
   {
    "duration": 22,
    "start_time": "2022-02-16T03:25:45.885Z"
   },
   {
    "duration": 22,
    "start_time": "2022-02-16T03:25:45.909Z"
   },
   {
    "duration": 215,
    "start_time": "2022-02-16T03:25:45.932Z"
   },
   {
    "duration": 132,
    "start_time": "2022-02-16T03:25:46.148Z"
   },
   {
    "duration": 231,
    "start_time": "2022-02-16T03:25:46.282Z"
   },
   {
    "duration": -2695,
    "start_time": "2022-02-16T03:25:49.210Z"
   },
   {
    "duration": -2700,
    "start_time": "2022-02-16T03:25:49.216Z"
   },
   {
    "duration": -2704,
    "start_time": "2022-02-16T03:25:49.221Z"
   },
   {
    "duration": -2712,
    "start_time": "2022-02-16T03:25:49.230Z"
   },
   {
    "duration": 203,
    "start_time": "2022-02-16T03:25:59.858Z"
   },
   {
    "duration": 1501,
    "start_time": "2022-02-16T03:26:05.987Z"
   },
   {
    "duration": 12,
    "start_time": "2022-02-16T03:26:07.489Z"
   },
   {
    "duration": 29,
    "start_time": "2022-02-16T03:26:07.503Z"
   },
   {
    "duration": 34,
    "start_time": "2022-02-16T03:26:07.534Z"
   },
   {
    "duration": 30,
    "start_time": "2022-02-16T03:26:07.570Z"
   },
   {
    "duration": 12,
    "start_time": "2022-02-16T03:26:07.602Z"
   },
   {
    "duration": 9,
    "start_time": "2022-02-16T03:26:07.615Z"
   },
   {
    "duration": 43,
    "start_time": "2022-02-16T03:26:07.627Z"
   },
   {
    "duration": 23,
    "start_time": "2022-02-16T03:26:07.672Z"
   },
   {
    "duration": 18,
    "start_time": "2022-02-16T03:26:07.696Z"
   },
   {
    "duration": 13,
    "start_time": "2022-02-16T03:26:07.716Z"
   },
   {
    "duration": 33,
    "start_time": "2022-02-16T03:26:07.731Z"
   },
   {
    "duration": 17,
    "start_time": "2022-02-16T03:26:07.766Z"
   },
   {
    "duration": 18,
    "start_time": "2022-02-16T03:26:07.785Z"
   },
   {
    "duration": 15,
    "start_time": "2022-02-16T03:26:07.805Z"
   },
   {
    "duration": 8,
    "start_time": "2022-02-16T03:26:07.821Z"
   },
   {
    "duration": 10,
    "start_time": "2022-02-16T03:26:07.859Z"
   },
   {
    "duration": 11,
    "start_time": "2022-02-16T03:26:07.871Z"
   },
   {
    "duration": 9,
    "start_time": "2022-02-16T03:26:07.884Z"
   },
   {
    "duration": 14,
    "start_time": "2022-02-16T03:26:07.894Z"
   },
   {
    "duration": 37,
    "start_time": "2022-02-16T03:26:07.909Z"
   },
   {
    "duration": 64,
    "start_time": "2022-02-16T03:26:07.948Z"
   },
   {
    "duration": 71,
    "start_time": "2022-02-16T03:26:08.015Z"
   },
   {
    "duration": 33,
    "start_time": "2022-02-16T03:26:08.088Z"
   },
   {
    "duration": 54,
    "start_time": "2022-02-16T03:26:08.122Z"
   },
   {
    "duration": 21,
    "start_time": "2022-02-16T03:26:08.178Z"
   },
   {
    "duration": 22,
    "start_time": "2022-02-16T03:26:08.200Z"
   },
   {
    "duration": 209,
    "start_time": "2022-02-16T03:26:08.224Z"
   },
   {
    "duration": 150,
    "start_time": "2022-02-16T03:26:08.435Z"
   },
   {
    "duration": 246,
    "start_time": "2022-02-16T03:26:08.586Z"
   },
   {
    "duration": -2697,
    "start_time": "2022-02-16T03:26:11.531Z"
   },
   {
    "duration": -2702,
    "start_time": "2022-02-16T03:26:11.537Z"
   },
   {
    "duration": -2711,
    "start_time": "2022-02-16T03:26:11.547Z"
   },
   {
    "duration": -2714,
    "start_time": "2022-02-16T03:26:11.551Z"
   },
   {
    "duration": 1556,
    "start_time": "2022-02-16T03:26:26.145Z"
   },
   {
    "duration": 11,
    "start_time": "2022-02-16T03:26:27.703Z"
   },
   {
    "duration": 24,
    "start_time": "2022-02-16T03:26:27.716Z"
   },
   {
    "duration": 31,
    "start_time": "2022-02-16T03:26:27.742Z"
   },
   {
    "duration": 30,
    "start_time": "2022-02-16T03:26:27.775Z"
   },
   {
    "duration": 11,
    "start_time": "2022-02-16T03:26:27.807Z"
   },
   {
    "duration": 9,
    "start_time": "2022-02-16T03:26:27.820Z"
   },
   {
    "duration": 21,
    "start_time": "2022-02-16T03:26:27.831Z"
   },
   {
    "duration": 23,
    "start_time": "2022-02-16T03:26:27.855Z"
   },
   {
    "duration": 17,
    "start_time": "2022-02-16T03:26:27.880Z"
   },
   {
    "duration": 13,
    "start_time": "2022-02-16T03:26:27.899Z"
   },
   {
    "duration": 6,
    "start_time": "2022-02-16T03:26:27.914Z"
   },
   {
    "duration": 15,
    "start_time": "2022-02-16T03:26:27.922Z"
   },
   {
    "duration": 26,
    "start_time": "2022-02-16T03:26:27.939Z"
   },
   {
    "duration": 14,
    "start_time": "2022-02-16T03:26:27.967Z"
   },
   {
    "duration": 8,
    "start_time": "2022-02-16T03:26:27.983Z"
   },
   {
    "duration": 13,
    "start_time": "2022-02-16T03:26:27.993Z"
   },
   {
    "duration": 10,
    "start_time": "2022-02-16T03:26:28.007Z"
   },
   {
    "duration": 8,
    "start_time": "2022-02-16T03:26:28.018Z"
   },
   {
    "duration": 17,
    "start_time": "2022-02-16T03:26:28.027Z"
   },
   {
    "duration": 43,
    "start_time": "2022-02-16T03:26:28.046Z"
   },
   {
    "duration": 75,
    "start_time": "2022-02-16T03:26:28.091Z"
   },
   {
    "duration": 101,
    "start_time": "2022-02-16T03:26:28.169Z"
   },
   {
    "duration": 34,
    "start_time": "2022-02-16T03:26:28.271Z"
   },
   {
    "duration": 87,
    "start_time": "2022-02-16T03:26:28.307Z"
   },
   {
    "duration": 22,
    "start_time": "2022-02-16T03:26:28.395Z"
   },
   {
    "duration": 51,
    "start_time": "2022-02-16T03:26:28.418Z"
   },
   {
    "duration": 182,
    "start_time": "2022-02-16T03:26:28.471Z"
   },
   {
    "duration": 143,
    "start_time": "2022-02-16T03:26:28.658Z"
   },
   {
    "duration": 217,
    "start_time": "2022-02-16T03:26:28.803Z"
   },
   {
    "duration": -2699,
    "start_time": "2022-02-16T03:26:31.721Z"
   },
   {
    "duration": -2708,
    "start_time": "2022-02-16T03:26:31.731Z"
   },
   {
    "duration": -2712,
    "start_time": "2022-02-16T03:26:31.736Z"
   },
   {
    "duration": -2716,
    "start_time": "2022-02-16T03:26:31.741Z"
   },
   {
    "duration": 149,
    "start_time": "2022-02-16T03:26:52.149Z"
   },
   {
    "duration": 136,
    "start_time": "2022-02-16T03:27:19.897Z"
   },
   {
    "duration": 93,
    "start_time": "2022-02-16T03:27:36.469Z"
   },
   {
    "duration": 9,
    "start_time": "2022-02-16T03:29:30.717Z"
   },
   {
    "duration": 93,
    "start_time": "2022-02-16T03:29:45.719Z"
   },
   {
    "duration": 248,
    "start_time": "2022-02-16T03:29:57.604Z"
   },
   {
    "duration": 226,
    "start_time": "2022-02-16T03:30:08.182Z"
   },
   {
    "duration": 152,
    "start_time": "2022-02-16T03:55:51.756Z"
   },
   {
    "duration": 3495,
    "start_time": "2022-02-16T03:56:00.019Z"
   },
   {
    "duration": 148,
    "start_time": "2022-02-16T04:37:43.648Z"
   },
   {
    "duration": 132,
    "start_time": "2022-02-16T04:38:28.589Z"
   },
   {
    "duration": 137,
    "start_time": "2022-02-16T04:38:41.236Z"
   },
   {
    "duration": 129,
    "start_time": "2022-02-16T04:38:56.313Z"
   },
   {
    "duration": 142,
    "start_time": "2022-02-16T04:40:47.028Z"
   },
   {
    "duration": 20,
    "start_time": "2022-02-16T04:40:53.955Z"
   },
   {
    "duration": 150,
    "start_time": "2022-02-16T04:41:45.920Z"
   },
   {
    "duration": 158,
    "start_time": "2022-02-16T04:42:13.794Z"
   },
   {
    "duration": 134,
    "start_time": "2022-02-16T04:42:20.057Z"
   },
   {
    "duration": 186,
    "start_time": "2022-02-16T04:43:21.099Z"
   },
   {
    "duration": 19,
    "start_time": "2022-02-16T04:43:26.927Z"
   },
   {
    "duration": 1429,
    "start_time": "2022-02-16T04:43:55.308Z"
   },
   {
    "duration": 15,
    "start_time": "2022-02-16T04:43:56.739Z"
   },
   {
    "duration": 27,
    "start_time": "2022-02-16T04:43:56.756Z"
   },
   {
    "duration": 33,
    "start_time": "2022-02-16T04:43:56.785Z"
   },
   {
    "duration": 41,
    "start_time": "2022-02-16T04:43:56.820Z"
   },
   {
    "duration": 11,
    "start_time": "2022-02-16T04:43:56.863Z"
   },
   {
    "duration": 9,
    "start_time": "2022-02-16T04:43:56.876Z"
   },
   {
    "duration": 17,
    "start_time": "2022-02-16T04:43:56.888Z"
   },
   {
    "duration": 52,
    "start_time": "2022-02-16T04:43:56.907Z"
   },
   {
    "duration": 18,
    "start_time": "2022-02-16T04:43:56.961Z"
   },
   {
    "duration": 14,
    "start_time": "2022-02-16T04:43:56.981Z"
   },
   {
    "duration": 8,
    "start_time": "2022-02-16T04:43:56.997Z"
   },
   {
    "duration": 16,
    "start_time": "2022-02-16T04:43:57.007Z"
   },
   {
    "duration": 50,
    "start_time": "2022-02-16T04:43:57.026Z"
   },
   {
    "duration": 17,
    "start_time": "2022-02-16T04:43:57.077Z"
   },
   {
    "duration": 9,
    "start_time": "2022-02-16T04:43:57.095Z"
   },
   {
    "duration": 10,
    "start_time": "2022-02-16T04:43:57.106Z"
   },
   {
    "duration": 43,
    "start_time": "2022-02-16T04:43:57.118Z"
   },
   {
    "duration": 8,
    "start_time": "2022-02-16T04:43:57.163Z"
   },
   {
    "duration": 6,
    "start_time": "2022-02-16T04:43:57.173Z"
   },
   {
    "duration": 12,
    "start_time": "2022-02-16T04:43:57.180Z"
   },
   {
    "duration": 37,
    "start_time": "2022-02-16T04:43:57.194Z"
   },
   {
    "duration": 58,
    "start_time": "2022-02-16T04:43:57.259Z"
   },
   {
    "duration": 79,
    "start_time": "2022-02-16T04:43:57.320Z"
   },
   {
    "duration": 34,
    "start_time": "2022-02-16T04:43:57.401Z"
   },
   {
    "duration": 59,
    "start_time": "2022-02-16T04:43:57.437Z"
   },
   {
    "duration": 22,
    "start_time": "2022-02-16T04:43:57.498Z"
   },
   {
    "duration": 43,
    "start_time": "2022-02-16T04:43:57.522Z"
   },
   {
    "duration": 16,
    "start_time": "2022-02-16T04:43:57.567Z"
   },
   {
    "duration": 202,
    "start_time": "2022-02-16T04:43:57.585Z"
   },
   {
    "duration": 324,
    "start_time": "2022-02-16T04:43:57.789Z"
   },
   {
    "duration": 243,
    "start_time": "2022-02-16T04:43:58.115Z"
   },
   {
    "duration": -2739,
    "start_time": "2022-02-16T04:44:01.100Z"
   },
   {
    "duration": -2748,
    "start_time": "2022-02-16T04:44:01.110Z"
   },
   {
    "duration": 281,
    "start_time": "2022-02-16T04:51:26.309Z"
   },
   {
    "duration": 157,
    "start_time": "2022-02-16T04:53:05.291Z"
   },
   {
    "duration": 4,
    "start_time": "2022-02-16T04:59:50.463Z"
   },
   {
    "duration": 41,
    "start_time": "2022-02-16T05:01:11.099Z"
   },
   {
    "duration": 145,
    "start_time": "2022-02-16T05:01:30.027Z"
   },
   {
    "duration": 41,
    "start_time": "2022-02-16T05:01:37.458Z"
   },
   {
    "duration": 9,
    "start_time": "2022-02-16T05:01:40.159Z"
   },
   {
    "duration": 21,
    "start_time": "2022-02-16T05:02:14.499Z"
   },
   {
    "duration": 3,
    "start_time": "2022-02-16T05:03:16.079Z"
   },
   {
    "duration": 43,
    "start_time": "2022-02-16T05:03:19.445Z"
   },
   {
    "duration": 8,
    "start_time": "2022-02-16T05:03:25.265Z"
   },
   {
    "duration": 29,
    "start_time": "2022-02-16T05:03:28.074Z"
   },
   {
    "duration": 20,
    "start_time": "2022-02-16T05:03:48.491Z"
   },
   {
    "duration": 16,
    "start_time": "2022-02-16T05:04:34.723Z"
   },
   {
    "duration": 26,
    "start_time": "2022-02-16T05:04:44.763Z"
   },
   {
    "duration": 1478,
    "start_time": "2022-02-16T05:04:52.781Z"
   },
   {
    "duration": 12,
    "start_time": "2022-02-16T05:04:54.261Z"
   },
   {
    "duration": 23,
    "start_time": "2022-02-16T05:04:54.274Z"
   },
   {
    "duration": 30,
    "start_time": "2022-02-16T05:04:54.299Z"
   },
   {
    "duration": 45,
    "start_time": "2022-02-16T05:04:54.331Z"
   },
   {
    "duration": 10,
    "start_time": "2022-02-16T05:04:54.378Z"
   },
   {
    "duration": 8,
    "start_time": "2022-02-16T05:04:54.390Z"
   },
   {
    "duration": 17,
    "start_time": "2022-02-16T05:04:54.401Z"
   },
   {
    "duration": 46,
    "start_time": "2022-02-16T05:04:54.420Z"
   },
   {
    "duration": 17,
    "start_time": "2022-02-16T05:04:54.468Z"
   },
   {
    "duration": 14,
    "start_time": "2022-02-16T05:04:54.487Z"
   },
   {
    "duration": 7,
    "start_time": "2022-02-16T05:04:54.503Z"
   },
   {
    "duration": 15,
    "start_time": "2022-02-16T05:04:54.512Z"
   },
   {
    "duration": 19,
    "start_time": "2022-02-16T05:04:54.559Z"
   },
   {
    "duration": 15,
    "start_time": "2022-02-16T05:04:54.580Z"
   },
   {
    "duration": 9,
    "start_time": "2022-02-16T05:04:54.597Z"
   },
   {
    "duration": 11,
    "start_time": "2022-02-16T05:04:54.607Z"
   },
   {
    "duration": 16,
    "start_time": "2022-02-16T05:04:54.620Z"
   },
   {
    "duration": 9,
    "start_time": "2022-02-16T05:04:54.660Z"
   },
   {
    "duration": 7,
    "start_time": "2022-02-16T05:04:54.671Z"
   },
   {
    "duration": 16,
    "start_time": "2022-02-16T05:04:54.679Z"
   },
   {
    "duration": 37,
    "start_time": "2022-02-16T05:04:54.697Z"
   },
   {
    "duration": 24,
    "start_time": "2022-02-16T05:04:54.738Z"
   },
   {
    "duration": 64,
    "start_time": "2022-02-16T05:04:54.764Z"
   },
   {
    "duration": 8,
    "start_time": "2022-02-16T05:04:54.830Z"
   },
   {
    "duration": 51,
    "start_time": "2022-02-16T05:04:54.840Z"
   },
   {
    "duration": 37,
    "start_time": "2022-02-16T05:04:54.893Z"
   },
   {
    "duration": 38,
    "start_time": "2022-02-16T05:04:54.931Z"
   },
   {
    "duration": 21,
    "start_time": "2022-02-16T05:04:54.970Z"
   },
   {
    "duration": 21,
    "start_time": "2022-02-16T05:04:54.993Z"
   },
   {
    "duration": 14,
    "start_time": "2022-02-16T05:04:55.016Z"
   },
   {
    "duration": 206,
    "start_time": "2022-02-16T05:04:55.032Z"
   },
   {
    "duration": 214,
    "start_time": "2022-02-16T05:04:55.240Z"
   },
   {
    "duration": 297,
    "start_time": "2022-02-16T05:04:55.458Z"
   },
   {
    "duration": 2,
    "start_time": "2022-02-16T05:04:55.759Z"
   },
   {
    "duration": 5026,
    "start_time": "2022-02-16T05:04:55.763Z"
   },
   {
    "duration": 174,
    "start_time": "2022-02-16T05:05:40.552Z"
   },
   {
    "duration": 1495,
    "start_time": "2022-02-16T05:06:07.970Z"
   },
   {
    "duration": 11,
    "start_time": "2022-02-16T05:06:09.467Z"
   },
   {
    "duration": 25,
    "start_time": "2022-02-16T05:06:09.480Z"
   },
   {
    "duration": 33,
    "start_time": "2022-02-16T05:06:09.506Z"
   },
   {
    "duration": 39,
    "start_time": "2022-02-16T05:06:09.541Z"
   },
   {
    "duration": 11,
    "start_time": "2022-02-16T05:06:09.581Z"
   },
   {
    "duration": 9,
    "start_time": "2022-02-16T05:06:09.594Z"
   },
   {
    "duration": 17,
    "start_time": "2022-02-16T05:06:09.606Z"
   },
   {
    "duration": 56,
    "start_time": "2022-02-16T05:06:09.625Z"
   },
   {
    "duration": 20,
    "start_time": "2022-02-16T05:06:09.682Z"
   },
   {
    "duration": 15,
    "start_time": "2022-02-16T05:06:09.704Z"
   },
   {
    "duration": 39,
    "start_time": "2022-02-16T05:06:09.721Z"
   },
   {
    "duration": 14,
    "start_time": "2022-02-16T05:06:09.763Z"
   },
   {
    "duration": 20,
    "start_time": "2022-02-16T05:06:09.779Z"
   },
   {
    "duration": 14,
    "start_time": "2022-02-16T05:06:09.801Z"
   },
   {
    "duration": 8,
    "start_time": "2022-02-16T05:06:09.817Z"
   },
   {
    "duration": 9,
    "start_time": "2022-02-16T05:06:09.859Z"
   },
   {
    "duration": 10,
    "start_time": "2022-02-16T05:06:09.870Z"
   },
   {
    "duration": 10,
    "start_time": "2022-02-16T05:06:09.882Z"
   },
   {
    "duration": 11,
    "start_time": "2022-02-16T05:06:09.894Z"
   },
   {
    "duration": 12,
    "start_time": "2022-02-16T05:06:09.906Z"
   },
   {
    "duration": 52,
    "start_time": "2022-02-16T05:06:09.920Z"
   },
   {
    "duration": 4,
    "start_time": "2022-02-16T05:06:09.975Z"
   },
   {
    "duration": 64,
    "start_time": "2022-02-16T05:06:09.980Z"
   },
   {
    "duration": 8,
    "start_time": "2022-02-16T05:06:10.060Z"
   },
   {
    "duration": 36,
    "start_time": "2022-02-16T05:06:10.070Z"
   },
   {
    "duration": 58,
    "start_time": "2022-02-16T05:06:10.108Z"
   },
   {
    "duration": 20,
    "start_time": "2022-02-16T05:06:10.168Z"
   },
   {
    "duration": 21,
    "start_time": "2022-02-16T05:06:10.190Z"
   },
   {
    "duration": 21,
    "start_time": "2022-02-16T05:06:10.213Z"
   },
   {
    "duration": 35,
    "start_time": "2022-02-16T05:06:10.236Z"
   },
   {
    "duration": 193,
    "start_time": "2022-02-16T05:06:10.273Z"
   },
   {
    "duration": 211,
    "start_time": "2022-02-16T05:06:10.467Z"
   },
   {
    "duration": 297,
    "start_time": "2022-02-16T05:06:10.680Z"
   },
   {
    "duration": 3,
    "start_time": "2022-02-16T05:06:10.978Z"
   },
   {
    "duration": 5131,
    "start_time": "2022-02-16T05:06:10.982Z"
   },
   {
    "duration": 23,
    "start_time": "2022-02-16T08:17:27.661Z"
   },
   {
    "duration": 1640,
    "start_time": "2022-02-16T08:18:38.653Z"
   },
   {
    "duration": 1535,
    "start_time": "2022-02-16T08:30:05.407Z"
   },
   {
    "duration": 1500,
    "start_time": "2022-02-16T14:49:51.797Z"
   },
   {
    "duration": 11,
    "start_time": "2022-02-16T14:49:53.300Z"
   },
   {
    "duration": 24,
    "start_time": "2022-02-16T14:49:53.313Z"
   },
   {
    "duration": 31,
    "start_time": "2022-02-16T14:49:53.340Z"
   },
   {
    "duration": 31,
    "start_time": "2022-02-16T14:49:53.372Z"
   },
   {
    "duration": 11,
    "start_time": "2022-02-16T14:49:53.405Z"
   },
   {
    "duration": 10,
    "start_time": "2022-02-16T14:49:53.417Z"
   },
   {
    "duration": 43,
    "start_time": "2022-02-16T14:49:53.429Z"
   },
   {
    "duration": 22,
    "start_time": "2022-02-16T14:49:53.474Z"
   },
   {
    "duration": 17,
    "start_time": "2022-02-16T14:49:53.498Z"
   },
   {
    "duration": 15,
    "start_time": "2022-02-16T14:49:53.516Z"
   },
   {
    "duration": 27,
    "start_time": "2022-02-16T14:49:53.533Z"
   },
   {
    "duration": 22,
    "start_time": "2022-02-16T14:49:53.562Z"
   },
   {
    "duration": 29,
    "start_time": "2022-02-16T14:49:53.586Z"
   },
   {
    "duration": 15,
    "start_time": "2022-02-16T14:49:53.617Z"
   },
   {
    "duration": 9,
    "start_time": "2022-02-16T14:49:53.634Z"
   },
   {
    "duration": 9,
    "start_time": "2022-02-16T14:49:53.660Z"
   },
   {
    "duration": 30,
    "start_time": "2022-02-16T14:49:53.671Z"
   },
   {
    "duration": 10,
    "start_time": "2022-02-16T14:49:53.702Z"
   },
   {
    "duration": 15,
    "start_time": "2022-02-16T14:49:53.713Z"
   },
   {
    "duration": 17,
    "start_time": "2022-02-16T14:49:53.730Z"
   },
   {
    "duration": 45,
    "start_time": "2022-02-16T14:49:53.749Z"
   },
   {
    "duration": 4,
    "start_time": "2022-02-16T14:49:53.797Z"
   },
   {
    "duration": 68,
    "start_time": "2022-02-16T14:49:53.803Z"
   },
   {
    "duration": 8,
    "start_time": "2022-02-16T14:49:53.873Z"
   },
   {
    "duration": 39,
    "start_time": "2022-02-16T14:49:53.882Z"
   },
   {
    "duration": 55,
    "start_time": "2022-02-16T14:49:53.922Z"
   },
   {
    "duration": 22,
    "start_time": "2022-02-16T14:49:53.979Z"
   },
   {
    "duration": 23,
    "start_time": "2022-02-16T14:49:54.002Z"
   },
   {
    "duration": 48,
    "start_time": "2022-02-16T14:49:54.026Z"
   },
   {
    "duration": 17,
    "start_time": "2022-02-16T14:49:54.075Z"
   },
   {
    "duration": 210,
    "start_time": "2022-02-16T14:49:54.094Z"
   },
   {
    "duration": 229,
    "start_time": "2022-02-16T14:49:54.305Z"
   },
   {
    "duration": 309,
    "start_time": "2022-02-16T14:49:54.535Z"
   },
   {
    "duration": 26,
    "start_time": "2022-02-16T14:49:54.846Z"
   },
   {
    "duration": 2,
    "start_time": "2022-02-16T14:49:54.874Z"
   },
   {
    "duration": 1749,
    "start_time": "2022-02-16T14:49:54.878Z"
   },
   {
    "duration": 79178,
    "start_time": "2022-02-16T15:08:50.864Z"
   },
   {
    "duration": 80114,
    "start_time": "2022-02-16T15:10:32.427Z"
   },
   {
    "duration": 141,
    "start_time": "2022-02-16T16:00:54.392Z"
   },
   {
    "duration": 28,
    "start_time": "2022-02-16T16:01:07.821Z"
   },
   {
    "duration": 129,
    "start_time": "2022-02-16T16:01:49.919Z"
   },
   {
    "duration": 30,
    "start_time": "2022-02-16T16:02:10.438Z"
   },
   {
    "duration": 145,
    "start_time": "2022-02-16T16:03:59.284Z"
   },
   {
    "duration": 12,
    "start_time": "2022-02-16T16:05:20.753Z"
   },
   {
    "duration": 144,
    "start_time": "2022-02-16T16:06:59.601Z"
   },
   {
    "duration": 112,
    "start_time": "2022-02-16T16:07:10.728Z"
   },
   {
    "duration": 1448,
    "start_time": "2022-02-16T16:14:43.345Z"
   },
   {
    "duration": 12,
    "start_time": "2022-02-16T16:14:44.795Z"
   },
   {
    "duration": 22,
    "start_time": "2022-02-16T16:14:44.809Z"
   },
   {
    "duration": 32,
    "start_time": "2022-02-16T16:14:44.833Z"
   },
   {
    "duration": 30,
    "start_time": "2022-02-16T16:14:44.866Z"
   },
   {
    "duration": 12,
    "start_time": "2022-02-16T16:14:44.898Z"
   },
   {
    "duration": 10,
    "start_time": "2022-02-16T16:14:44.911Z"
   },
   {
    "duration": 42,
    "start_time": "2022-02-16T16:14:44.924Z"
   },
   {
    "duration": 24,
    "start_time": "2022-02-16T16:14:44.969Z"
   },
   {
    "duration": 19,
    "start_time": "2022-02-16T16:14:44.995Z"
   },
   {
    "duration": 15,
    "start_time": "2022-02-16T16:14:45.016Z"
   },
   {
    "duration": 8,
    "start_time": "2022-02-16T16:14:45.059Z"
   },
   {
    "duration": 17,
    "start_time": "2022-02-16T16:14:45.068Z"
   },
   {
    "duration": 19,
    "start_time": "2022-02-16T16:14:45.087Z"
   },
   {
    "duration": 14,
    "start_time": "2022-02-16T16:14:45.108Z"
   },
   {
    "duration": 36,
    "start_time": "2022-02-16T16:14:45.123Z"
   },
   {
    "duration": 8,
    "start_time": "2022-02-16T16:14:45.161Z"
   },
   {
    "duration": 12,
    "start_time": "2022-02-16T16:14:45.171Z"
   },
   {
    "duration": 8,
    "start_time": "2022-02-16T16:14:45.185Z"
   },
   {
    "duration": 6,
    "start_time": "2022-02-16T16:14:45.195Z"
   },
   {
    "duration": 11,
    "start_time": "2022-02-16T16:14:45.202Z"
   },
   {
    "duration": 61,
    "start_time": "2022-02-16T16:14:45.215Z"
   },
   {
    "duration": 3,
    "start_time": "2022-02-16T16:14:45.280Z"
   },
   {
    "duration": 77,
    "start_time": "2022-02-16T16:14:45.285Z"
   },
   {
    "duration": 9,
    "start_time": "2022-02-16T16:14:45.364Z"
   },
   {
    "duration": 35,
    "start_time": "2022-02-16T16:14:45.375Z"
   },
   {
    "duration": 70,
    "start_time": "2022-02-16T16:14:45.412Z"
   },
   {
    "duration": 24,
    "start_time": "2022-02-16T16:14:45.483Z"
   },
   {
    "duration": 21,
    "start_time": "2022-02-16T16:14:45.509Z"
   },
   {
    "duration": 45,
    "start_time": "2022-02-16T16:14:45.532Z"
   },
   {
    "duration": 14,
    "start_time": "2022-02-16T16:14:45.578Z"
   },
   {
    "duration": 197,
    "start_time": "2022-02-16T16:14:45.594Z"
   },
   {
    "duration": 214,
    "start_time": "2022-02-16T16:14:45.793Z"
   },
   {
    "duration": 306,
    "start_time": "2022-02-16T16:14:46.009Z"
   },
   {
    "duration": 23,
    "start_time": "2022-02-16T16:14:46.317Z"
   },
   {
    "duration": 83043,
    "start_time": "2022-02-16T16:14:46.341Z"
   },
   {
    "duration": 186,
    "start_time": "2022-02-16T16:16:09.386Z"
   },
   {
    "duration": 31,
    "start_time": "2022-02-16T16:16:09.574Z"
   },
   {
    "duration": 143,
    "start_time": "2022-02-16T16:16:09.607Z"
   },
   {
    "duration": 74,
    "start_time": "2022-02-16T16:18:15.383Z"
   },
   {
    "duration": 1429,
    "start_time": "2022-02-17T06:13:33.821Z"
   },
   {
    "duration": 11,
    "start_time": "2022-02-17T06:13:35.253Z"
   },
   {
    "duration": 29,
    "start_time": "2022-02-17T06:13:35.267Z"
   },
   {
    "duration": 31,
    "start_time": "2022-02-17T06:13:35.299Z"
   },
   {
    "duration": 30,
    "start_time": "2022-02-17T06:13:35.332Z"
   },
   {
    "duration": 10,
    "start_time": "2022-02-17T06:13:35.364Z"
   },
   {
    "duration": 9,
    "start_time": "2022-02-17T06:13:35.376Z"
   },
   {
    "duration": 21,
    "start_time": "2022-02-17T06:13:35.387Z"
   },
   {
    "duration": 38,
    "start_time": "2022-02-17T06:13:35.410Z"
   },
   {
    "duration": 18,
    "start_time": "2022-02-17T06:13:35.450Z"
   },
   {
    "duration": 13,
    "start_time": "2022-02-17T06:13:35.469Z"
   },
   {
    "duration": 6,
    "start_time": "2022-02-17T06:13:35.483Z"
   },
   {
    "duration": 45,
    "start_time": "2022-02-17T06:13:35.491Z"
   },
   {
    "duration": 19,
    "start_time": "2022-02-17T06:13:35.538Z"
   },
   {
    "duration": 15,
    "start_time": "2022-02-17T06:13:35.558Z"
   },
   {
    "duration": 7,
    "start_time": "2022-02-17T06:13:35.575Z"
   },
   {
    "duration": 14,
    "start_time": "2022-02-17T06:13:35.584Z"
   },
   {
    "duration": 36,
    "start_time": "2022-02-17T06:13:35.600Z"
   },
   {
    "duration": 7,
    "start_time": "2022-02-17T06:13:35.638Z"
   },
   {
    "duration": 6,
    "start_time": "2022-02-17T06:13:35.647Z"
   },
   {
    "duration": 13,
    "start_time": "2022-02-17T06:13:35.655Z"
   },
   {
    "duration": 36,
    "start_time": "2022-02-17T06:13:35.670Z"
   },
   {
    "duration": 4,
    "start_time": "2022-02-17T06:13:35.730Z"
   },
   {
    "duration": 56,
    "start_time": "2022-02-17T06:13:35.737Z"
   },
   {
    "duration": 9,
    "start_time": "2022-02-17T06:13:35.795Z"
   },
   {
    "duration": 54,
    "start_time": "2022-02-17T06:13:35.805Z"
   },
   {
    "duration": 34,
    "start_time": "2022-02-17T06:13:35.861Z"
   },
   {
    "duration": 42,
    "start_time": "2022-02-17T06:13:35.897Z"
   },
   {
    "duration": 22,
    "start_time": "2022-02-17T06:13:35.940Z"
   },
   {
    "duration": 21,
    "start_time": "2022-02-17T06:13:35.963Z"
   },
   {
    "duration": 14,
    "start_time": "2022-02-17T06:13:35.986Z"
   },
   {
    "duration": 196,
    "start_time": "2022-02-17T06:13:36.001Z"
   },
   {
    "duration": 202,
    "start_time": "2022-02-17T06:13:36.199Z"
   },
   {
    "duration": 290,
    "start_time": "2022-02-17T06:13:36.403Z"
   },
   {
    "duration": 22,
    "start_time": "2022-02-17T06:13:36.695Z"
   },
   {
    "duration": 83085,
    "start_time": "2022-02-17T06:13:36.719Z"
   },
   {
    "duration": 176,
    "start_time": "2022-02-17T06:14:59.806Z"
   },
   {
    "duration": 81,
    "start_time": "2022-02-17T06:14:59.984Z"
   },
   {
    "duration": 235,
    "start_time": "2022-02-17T06:23:48.784Z"
   },
   {
    "duration": 195,
    "start_time": "2022-02-17T06:23:56.062Z"
   },
   {
    "duration": 8,
    "start_time": "2022-02-17T06:26:58.744Z"
   },
   {
    "duration": 6,
    "start_time": "2022-02-17T06:27:35.351Z"
   },
   {
    "duration": 1751,
    "start_time": "2022-02-17T14:32:22.063Z"
   },
   {
    "duration": 14,
    "start_time": "2022-02-17T14:32:23.817Z"
   },
   {
    "duration": 52,
    "start_time": "2022-02-17T14:32:23.833Z"
   },
   {
    "duration": 51,
    "start_time": "2022-02-17T14:32:23.888Z"
   },
   {
    "duration": 51,
    "start_time": "2022-02-17T14:32:23.941Z"
   },
   {
    "duration": 13,
    "start_time": "2022-02-17T14:32:23.994Z"
   },
   {
    "duration": 13,
    "start_time": "2022-02-17T14:32:24.009Z"
   },
   {
    "duration": 44,
    "start_time": "2022-02-17T14:32:24.026Z"
   },
   {
    "duration": 24,
    "start_time": "2022-02-17T14:32:24.073Z"
   },
   {
    "duration": 20,
    "start_time": "2022-02-17T14:32:24.098Z"
   },
   {
    "duration": 15,
    "start_time": "2022-02-17T14:32:24.120Z"
   },
   {
    "duration": 38,
    "start_time": "2022-02-17T14:32:24.137Z"
   },
   {
    "duration": 19,
    "start_time": "2022-02-17T14:32:24.177Z"
   },
   {
    "duration": 27,
    "start_time": "2022-02-17T14:32:24.198Z"
   },
   {
    "duration": 18,
    "start_time": "2022-02-17T14:32:24.227Z"
   },
   {
    "duration": 29,
    "start_time": "2022-02-17T14:32:24.247Z"
   },
   {
    "duration": 30,
    "start_time": "2022-02-17T14:32:24.278Z"
   },
   {
    "duration": 14,
    "start_time": "2022-02-17T14:32:24.310Z"
   },
   {
    "duration": 15,
    "start_time": "2022-02-17T14:32:24.326Z"
   },
   {
    "duration": 17,
    "start_time": "2022-02-17T14:32:24.343Z"
   },
   {
    "duration": 19,
    "start_time": "2022-02-17T14:32:24.362Z"
   },
   {
    "duration": 38,
    "start_time": "2022-02-17T14:32:24.382Z"
   },
   {
    "duration": 5,
    "start_time": "2022-02-17T14:32:24.423Z"
   },
   {
    "duration": 72,
    "start_time": "2022-02-17T14:32:24.430Z"
   },
   {
    "duration": 12,
    "start_time": "2022-02-17T14:32:24.504Z"
   },
   {
    "duration": 51,
    "start_time": "2022-02-17T14:32:24.518Z"
   },
   {
    "duration": 41,
    "start_time": "2022-02-17T14:32:24.571Z"
   },
   {
    "duration": 24,
    "start_time": "2022-02-17T14:32:24.614Z"
   },
   {
    "duration": 51,
    "start_time": "2022-02-17T14:32:24.641Z"
   },
   {
    "duration": 26,
    "start_time": "2022-02-17T14:32:24.694Z"
   },
   {
    "duration": 18,
    "start_time": "2022-02-17T14:32:24.722Z"
   },
   {
    "duration": 195,
    "start_time": "2022-02-17T14:32:24.770Z"
   },
   {
    "duration": 232,
    "start_time": "2022-02-17T14:32:24.969Z"
   },
   {
    "duration": 291,
    "start_time": "2022-02-17T14:32:25.203Z"
   },
   {
    "duration": 26,
    "start_time": "2022-02-17T14:32:25.495Z"
   },
   {
    "duration": 93829,
    "start_time": "2022-02-17T14:32:25.524Z"
   },
   {
    "duration": 181,
    "start_time": "2022-02-17T14:33:59.354Z"
   },
   {
    "duration": 82,
    "start_time": "2022-02-17T14:33:59.537Z"
   },
   {
    "duration": 9,
    "start_time": "2022-02-17T14:33:59.621Z"
   },
   {
    "duration": 6,
    "start_time": "2022-02-17T14:33:59.631Z"
   },
   {
    "duration": 6,
    "start_time": "2022-02-17T15:22:14.545Z"
   },
   {
    "duration": 6,
    "start_time": "2022-02-17T15:23:43.434Z"
   },
   {
    "duration": 13,
    "start_time": "2022-02-17T15:33:01.677Z"
   },
   {
    "duration": 8,
    "start_time": "2022-02-17T15:33:19.933Z"
   },
   {
    "duration": 3851,
    "start_time": "2022-02-17T15:51:33.797Z"
   },
   {
    "duration": 12,
    "start_time": "2022-02-17T15:51:57.943Z"
   },
   {
    "duration": 14,
    "start_time": "2022-02-17T15:59:27.388Z"
   },
   {
    "duration": 12,
    "start_time": "2022-02-17T15:59:59.026Z"
   },
   {
    "duration": 13,
    "start_time": "2022-02-17T16:02:31.824Z"
   },
   {
    "duration": 375,
    "start_time": "2022-02-17T16:03:15.085Z"
   },
   {
    "duration": 13,
    "start_time": "2022-02-17T16:03:40.647Z"
   },
   {
    "duration": 69,
    "start_time": "2022-02-17T16:24:45.093Z"
   },
   {
    "duration": 629,
    "start_time": "2022-02-17T16:27:20.804Z"
   },
   {
    "duration": 378,
    "start_time": "2022-02-17T16:31:56.137Z"
   },
   {
    "duration": 392,
    "start_time": "2022-02-17T16:39:52.605Z"
   },
   {
    "duration": 9,
    "start_time": "2022-02-17T16:41:07.621Z"
   },
   {
    "duration": 340,
    "start_time": "2022-02-18T03:14:17.117Z"
   },
   {
    "duration": 1920,
    "start_time": "2022-02-18T03:14:22.985Z"
   },
   {
    "duration": 17,
    "start_time": "2022-02-18T03:14:24.907Z"
   },
   {
    "duration": 28,
    "start_time": "2022-02-18T03:14:24.927Z"
   },
   {
    "duration": 44,
    "start_time": "2022-02-18T03:14:24.958Z"
   },
   {
    "duration": 63,
    "start_time": "2022-02-18T03:14:25.004Z"
   },
   {
    "duration": 13,
    "start_time": "2022-02-18T03:14:25.070Z"
   },
   {
    "duration": 13,
    "start_time": "2022-02-18T03:14:25.086Z"
   },
   {
    "duration": 52,
    "start_time": "2022-02-18T03:14:25.103Z"
   },
   {
    "duration": 32,
    "start_time": "2022-02-18T03:14:25.158Z"
   },
   {
    "duration": 25,
    "start_time": "2022-02-18T03:14:25.193Z"
   },
   {
    "duration": 49,
    "start_time": "2022-02-18T03:14:25.220Z"
   },
   {
    "duration": 11,
    "start_time": "2022-02-18T03:14:25.271Z"
   },
   {
    "duration": 21,
    "start_time": "2022-02-18T03:14:25.284Z"
   },
   {
    "duration": 50,
    "start_time": "2022-02-18T03:14:25.307Z"
   },
   {
    "duration": 21,
    "start_time": "2022-02-18T03:14:25.360Z"
   },
   {
    "duration": 11,
    "start_time": "2022-02-18T03:14:25.384Z"
   },
   {
    "duration": 23,
    "start_time": "2022-02-18T03:14:25.398Z"
   },
   {
    "duration": 34,
    "start_time": "2022-02-18T03:14:25.423Z"
   },
   {
    "duration": 14,
    "start_time": "2022-02-18T03:14:25.459Z"
   },
   {
    "duration": 9,
    "start_time": "2022-02-18T03:14:25.476Z"
   },
   {
    "duration": 17,
    "start_time": "2022-02-18T03:14:25.487Z"
   },
   {
    "duration": 74,
    "start_time": "2022-02-18T03:14:25.506Z"
   },
   {
    "duration": 5,
    "start_time": "2022-02-18T03:14:25.586Z"
   },
   {
    "duration": 98,
    "start_time": "2022-02-18T03:14:25.594Z"
   },
   {
    "duration": 12,
    "start_time": "2022-02-18T03:14:25.694Z"
   },
   {
    "duration": 64,
    "start_time": "2022-02-18T03:14:25.709Z"
   },
   {
    "duration": 50,
    "start_time": "2022-02-18T03:14:25.776Z"
   },
   {
    "duration": 50,
    "start_time": "2022-02-18T03:14:25.829Z"
   },
   {
    "duration": 34,
    "start_time": "2022-02-18T03:14:25.881Z"
   },
   {
    "duration": 61,
    "start_time": "2022-02-18T03:14:25.918Z"
   },
   {
    "duration": 25,
    "start_time": "2022-02-18T03:14:25.982Z"
   },
   {
    "duration": 266,
    "start_time": "2022-02-18T03:14:26.009Z"
   },
   {
    "duration": 291,
    "start_time": "2022-02-18T03:14:26.277Z"
   },
   {
    "duration": 318,
    "start_time": "2022-02-18T03:14:26.571Z"
   },
   {
    "duration": 33,
    "start_time": "2022-02-18T03:14:26.892Z"
   },
   {
    "duration": 147629,
    "start_time": "2022-02-18T03:14:26.928Z"
   },
   {
    "duration": 218,
    "start_time": "2022-02-18T03:16:54.561Z"
   },
   {
    "duration": 107,
    "start_time": "2022-02-18T03:16:54.782Z"
   },
   {
    "duration": 9,
    "start_time": "2022-02-18T03:16:54.892Z"
   },
   {
    "duration": 24,
    "start_time": "2022-02-18T03:16:54.903Z"
   },
   {
    "duration": 24,
    "start_time": "2022-02-18T03:16:54.929Z"
   },
   {
    "duration": 11,
    "start_time": "2022-02-18T03:16:54.956Z"
   },
   {
    "duration": 486,
    "start_time": "2022-02-18T03:16:54.970Z"
   },
   {
    "duration": 7,
    "start_time": "2022-02-18T03:16:55.459Z"
   },
   {
    "duration": 13,
    "start_time": "2022-02-18T03:16:55.469Z"
   },
   {
    "duration": 17,
    "start_time": "2022-02-18T03:16:55.484Z"
   },
   {
    "duration": 46,
    "start_time": "2022-02-18T03:16:55.504Z"
   },
   {
    "duration": 9,
    "start_time": "2022-02-18T03:16:55.553Z"
   },
   {
    "duration": 6218,
    "start_time": "2022-02-18T04:39:12.521Z"
   },
   {
    "duration": 6008,
    "start_time": "2022-02-18T04:40:08.578Z"
   },
   {
    "duration": 9,
    "start_time": "2022-02-18T04:40:23.149Z"
   },
   {
    "duration": 448,
    "start_time": "2022-02-18T04:42:14.397Z"
   },
   {
    "duration": 445,
    "start_time": "2022-02-18T04:42:29.168Z"
   },
   {
    "duration": 459,
    "start_time": "2022-02-18T04:42:34.135Z"
   },
   {
    "duration": 440,
    "start_time": "2022-02-18T04:42:47.865Z"
   },
   {
    "duration": 16,
    "start_time": "2022-02-18T05:19:52.356Z"
   },
   {
    "duration": -2774,
    "start_time": "2022-02-18T05:20:37.580Z"
   },
   {
    "duration": 12,
    "start_time": "2022-02-18T05:20:48.652Z"
   },
   {
    "duration": 437,
    "start_time": "2022-02-18T05:21:49.362Z"
   },
   {
    "duration": 542,
    "start_time": "2022-02-18T05:22:46.614Z"
   },
   {
    "duration": 454,
    "start_time": "2022-02-18T05:22:58.953Z"
   },
   {
    "duration": 438,
    "start_time": "2022-02-18T05:23:06.131Z"
   },
   {
    "duration": 464,
    "start_time": "2022-02-18T05:23:16.929Z"
   },
   {
    "duration": 4,
    "start_time": "2022-02-18T05:36:07.095Z"
   },
   {
    "duration": 16,
    "start_time": "2022-02-18T06:19:27.709Z"
   },
   {
    "duration": 10,
    "start_time": "2022-02-18T06:20:32.609Z"
   },
   {
    "duration": 195,
    "start_time": "2022-02-18T06:25:58.777Z"
   },
   {
    "duration": 15,
    "start_time": "2022-02-18T06:26:38.721Z"
   },
   {
    "duration": 953,
    "start_time": "2022-02-18T08:12:31.304Z"
   },
   {
    "duration": 251,
    "start_time": "2022-02-18T08:14:10.456Z"
   },
   {
    "duration": 7,
    "start_time": "2022-02-18T08:14:23.764Z"
   },
   {
    "duration": 255,
    "start_time": "2022-02-18T08:17:57.340Z"
   },
   {
    "duration": 235,
    "start_time": "2022-02-18T08:18:03.676Z"
   },
   {
    "duration": 26,
    "start_time": "2022-02-18T08:18:05.996Z"
   },
   {
    "duration": 287,
    "start_time": "2022-02-18T08:19:31.740Z"
   },
   {
    "duration": 326,
    "start_time": "2022-02-18T08:19:42.004Z"
   },
   {
    "duration": 25,
    "start_time": "2022-02-18T08:19:44.636Z"
   },
   {
    "duration": 11,
    "start_time": "2022-02-18T08:30:00.716Z"
   },
   {
    "duration": 14,
    "start_time": "2022-02-18T08:30:08.680Z"
   },
   {
    "duration": 23,
    "start_time": "2022-02-18T08:33:42.211Z"
   },
   {
    "duration": 9,
    "start_time": "2022-02-18T08:41:34.943Z"
   },
   {
    "duration": 23,
    "start_time": "2022-02-18T08:41:42.032Z"
   },
   {
    "duration": 11,
    "start_time": "2022-02-18T08:44:41.748Z"
   },
   {
    "duration": 8,
    "start_time": "2022-02-18T08:44:49.899Z"
   },
   {
    "duration": 15,
    "start_time": "2022-02-18T08:46:23.536Z"
   },
   {
    "duration": 15,
    "start_time": "2022-02-18T08:46:35.640Z"
   },
   {
    "duration": 14,
    "start_time": "2022-02-18T08:46:43.351Z"
   },
   {
    "duration": 249,
    "start_time": "2022-02-18T08:50:52.504Z"
   },
   {
    "duration": 110,
    "start_time": "2022-02-18T08:50:58.703Z"
   },
   {
    "duration": 116,
    "start_time": "2022-02-18T08:51:09.635Z"
   },
   {
    "duration": 94,
    "start_time": "2022-02-18T08:53:55.735Z"
   },
   {
    "duration": 57,
    "start_time": "2022-02-18T08:54:07.227Z"
   },
   {
    "duration": 12,
    "start_time": "2022-02-18T08:54:25.018Z"
   },
   {
    "duration": 2147,
    "start_time": "2022-02-27T13:25:16.975Z"
   },
   {
    "duration": 16,
    "start_time": "2022-02-27T13:25:19.125Z"
   },
   {
    "duration": 34,
    "start_time": "2022-02-27T13:25:19.190Z"
   },
   {
    "duration": 83,
    "start_time": "2022-02-27T13:25:19.226Z"
   },
   {
    "duration": 43,
    "start_time": "2022-02-27T13:25:19.312Z"
   },
   {
    "duration": 11,
    "start_time": "2022-02-27T13:25:19.357Z"
   },
   {
    "duration": 218,
    "start_time": "2022-02-27T13:25:19.371Z"
   },
   {
    "duration": 17,
    "start_time": "2022-02-27T13:25:19.594Z"
   },
   {
    "duration": 24,
    "start_time": "2022-02-27T13:25:19.614Z"
   },
   {
    "duration": 29,
    "start_time": "2022-02-27T13:25:19.640Z"
   },
   {
    "duration": 35,
    "start_time": "2022-02-27T13:25:19.672Z"
   },
   {
    "duration": 18,
    "start_time": "2022-02-27T13:25:19.709Z"
   },
   {
    "duration": 110,
    "start_time": "2022-02-27T13:25:19.729Z"
   },
   {
    "duration": 10,
    "start_time": "2022-02-27T13:25:19.841Z"
   },
   {
    "duration": 21,
    "start_time": "2022-02-27T13:25:19.853Z"
   },
   {
    "duration": 31,
    "start_time": "2022-02-27T13:25:19.876Z"
   },
   {
    "duration": 22,
    "start_time": "2022-02-27T13:25:19.909Z"
   },
   {
    "duration": 61,
    "start_time": "2022-02-27T13:25:19.934Z"
   },
   {
    "duration": 16,
    "start_time": "2022-02-27T13:25:19.997Z"
   },
   {
    "duration": 20,
    "start_time": "2022-02-27T13:25:20.015Z"
   },
   {
    "duration": 19,
    "start_time": "2022-02-27T13:25:20.037Z"
   },
   {
    "duration": 10,
    "start_time": "2022-02-27T13:25:20.058Z"
   },
   {
    "duration": 12,
    "start_time": "2022-02-27T13:25:20.075Z"
   },
   {
    "duration": 32,
    "start_time": "2022-02-27T13:25:20.092Z"
   },
   {
    "duration": 87,
    "start_time": "2022-02-27T13:25:20.127Z"
   },
   {
    "duration": 10,
    "start_time": "2022-02-27T13:25:20.216Z"
   },
   {
    "duration": 63,
    "start_time": "2022-02-27T13:25:20.228Z"
   },
   {
    "duration": 118,
    "start_time": "2022-02-27T13:25:20.293Z"
   },
   {
    "duration": 14,
    "start_time": "2022-02-27T13:25:20.414Z"
   },
   {
    "duration": 66,
    "start_time": "2022-02-27T13:25:20.430Z"
   },
   {
    "duration": 41,
    "start_time": "2022-02-27T13:25:20.499Z"
   },
   {
    "duration": 54,
    "start_time": "2022-02-27T13:25:20.542Z"
   },
   {
    "duration": 37,
    "start_time": "2022-02-27T13:25:20.599Z"
   },
   {
    "duration": 66,
    "start_time": "2022-02-27T13:25:20.639Z"
   },
   {
    "duration": 21,
    "start_time": "2022-02-27T13:25:20.708Z"
   },
   {
    "duration": 294,
    "start_time": "2022-02-27T13:25:20.731Z"
   },
   {
    "duration": 345,
    "start_time": "2022-02-27T13:25:21.027Z"
   },
   {
    "duration": 361,
    "start_time": "2022-02-27T13:25:21.375Z"
   },
   {
    "duration": 34,
    "start_time": "2022-02-27T13:25:21.738Z"
   },
   {
    "duration": 157718,
    "start_time": "2022-02-27T13:25:21.788Z"
   },
   {
    "duration": 215,
    "start_time": "2022-02-27T13:27:59.509Z"
   },
   {
    "duration": 111,
    "start_time": "2022-02-27T13:27:59.727Z"
   },
   {
    "duration": 10,
    "start_time": "2022-02-27T13:27:59.841Z"
   },
   {
    "duration": 35,
    "start_time": "2022-02-27T13:27:59.854Z"
   },
   {
    "duration": 9,
    "start_time": "2022-02-27T13:27:59.892Z"
   },
   {
    "duration": 19,
    "start_time": "2022-02-27T13:27:59.903Z"
   },
   {
    "duration": 497,
    "start_time": "2022-02-27T13:27:59.925Z"
   },
   {
    "duration": 6,
    "start_time": "2022-02-27T13:28:00.425Z"
   },
   {
    "duration": 11,
    "start_time": "2022-02-27T13:28:00.434Z"
   },
   {
    "duration": 39,
    "start_time": "2022-02-27T13:28:00.448Z"
   },
   {
    "duration": 10,
    "start_time": "2022-02-27T13:28:00.490Z"
   },
   {
    "duration": 458,
    "start_time": "2022-02-27T13:28:00.503Z"
   },
   {
    "duration": 24,
    "start_time": "2022-02-27T13:28:00.963Z"
   },
   {
    "duration": 15,
    "start_time": "2022-02-27T13:28:00.990Z"
   },
   {
    "duration": 15,
    "start_time": "2022-02-27T13:28:01.008Z"
   },
   {
    "duration": 24,
    "start_time": "2022-02-27T13:28:01.025Z"
   },
   {
    "duration": 496,
    "start_time": "2022-02-27T13:28:01.052Z"
   },
   {
    "duration": 9,
    "start_time": "2022-02-27T13:28:01.550Z"
   },
   {
    "duration": 30,
    "start_time": "2022-02-27T13:28:01.562Z"
   },
   {
    "duration": 9,
    "start_time": "2022-02-27T13:28:01.595Z"
   },
   {
    "duration": 32,
    "start_time": "2022-02-27T13:28:01.607Z"
   },
   {
    "duration": 980,
    "start_time": "2022-02-27T13:28:01.641Z"
   },
   {
    "duration": 215,
    "start_time": "2022-02-27T13:28:02.623Z"
   },
   {
    "duration": 24,
    "start_time": "2022-02-27T13:28:02.840Z"
   },
   {
    "duration": 43,
    "start_time": "2022-02-27T13:28:02.866Z"
   },
   {
    "duration": 43,
    "start_time": "2022-02-27T13:28:02.912Z"
   },
   {
    "duration": 10,
    "start_time": "2022-02-27T13:28:02.958Z"
   },
   {
    "duration": 15,
    "start_time": "2022-02-27T13:28:02.988Z"
   },
   {
    "duration": 66,
    "start_time": "2022-02-27T13:29:49.963Z"
   },
   {
    "duration": 17,
    "start_time": "2022-02-27T13:35:58.334Z"
   },
   {
    "duration": 36,
    "start_time": "2022-02-27T13:38:28.750Z"
   },
   {
    "duration": 6,
    "start_time": "2022-02-27T13:41:37.994Z"
   },
   {
    "duration": 915,
    "start_time": "2022-02-27T13:44:42.049Z"
   },
   {
    "duration": 7,
    "start_time": "2022-02-27T13:45:18.173Z"
   },
   {
    "duration": 8,
    "start_time": "2022-02-27T13:45:24.841Z"
   },
   {
    "duration": 23,
    "start_time": "2022-02-27T13:45:32.788Z"
   },
   {
    "duration": 69,
    "start_time": "2022-02-27T14:35:29.920Z"
   },
   {
    "duration": 1579,
    "start_time": "2022-02-27T14:47:19.370Z"
   },
   {
    "duration": 14,
    "start_time": "2022-02-27T14:47:20.951Z"
   },
   {
    "duration": 26,
    "start_time": "2022-02-27T14:47:20.968Z"
   },
   {
    "duration": 33,
    "start_time": "2022-02-27T14:47:20.996Z"
   },
   {
    "duration": 40,
    "start_time": "2022-02-27T14:47:21.031Z"
   },
   {
    "duration": 11,
    "start_time": "2022-02-27T14:47:21.073Z"
   },
   {
    "duration": 104,
    "start_time": "2022-02-27T14:47:21.101Z"
   },
   {
    "duration": 9,
    "start_time": "2022-02-27T14:47:21.209Z"
   },
   {
    "duration": 20,
    "start_time": "2022-02-27T14:47:21.221Z"
   },
   {
    "duration": 23,
    "start_time": "2022-02-27T14:47:21.244Z"
   },
   {
    "duration": 49,
    "start_time": "2022-02-27T14:47:21.269Z"
   },
   {
    "duration": 15,
    "start_time": "2022-02-27T14:47:21.320Z"
   },
   {
    "duration": 99,
    "start_time": "2022-02-27T14:47:21.337Z"
   },
   {
    "duration": 8,
    "start_time": "2022-02-27T14:47:21.438Z"
   },
   {
    "duration": 21,
    "start_time": "2022-02-27T14:47:21.447Z"
   },
   {
    "duration": 41,
    "start_time": "2022-02-27T14:47:21.470Z"
   },
   {
    "duration": 16,
    "start_time": "2022-02-27T14:47:21.513Z"
   },
   {
    "duration": 49,
    "start_time": "2022-02-27T14:47:21.531Z"
   },
   {
    "duration": 9,
    "start_time": "2022-02-27T14:47:21.602Z"
   },
   {
    "duration": 12,
    "start_time": "2022-02-27T14:47:21.613Z"
   },
   {
    "duration": 18,
    "start_time": "2022-02-27T14:47:21.627Z"
   },
   {
    "duration": 11,
    "start_time": "2022-02-27T14:47:21.647Z"
   },
   {
    "duration": 7,
    "start_time": "2022-02-27T14:47:21.661Z"
   },
   {
    "duration": 40,
    "start_time": "2022-02-27T14:47:21.670Z"
   },
   {
    "duration": 37,
    "start_time": "2022-02-27T14:47:21.712Z"
   },
   {
    "duration": 7,
    "start_time": "2022-02-27T14:47:21.751Z"
   },
   {
    "duration": 8,
    "start_time": "2022-02-27T14:47:21.760Z"
   },
   {
    "duration": 84,
    "start_time": "2022-02-27T14:47:21.770Z"
   },
   {
    "duration": 74,
    "start_time": "2022-02-27T14:47:21.856Z"
   },
   {
    "duration": 9,
    "start_time": "2022-02-27T14:47:21.932Z"
   },
   {
    "duration": 37,
    "start_time": "2022-02-27T14:47:21.943Z"
   },
   {
    "duration": 50,
    "start_time": "2022-02-27T14:47:21.982Z"
   },
   {
    "duration": 24,
    "start_time": "2022-02-27T14:47:22.033Z"
   },
   {
    "duration": 48,
    "start_time": "2022-02-27T14:47:22.058Z"
   },
   {
    "duration": 25,
    "start_time": "2022-02-27T14:47:22.108Z"
   },
   {
    "duration": 16,
    "start_time": "2022-02-27T14:47:22.135Z"
   },
   {
    "duration": 195,
    "start_time": "2022-02-27T14:47:22.153Z"
   },
   {
    "duration": 203,
    "start_time": "2022-02-27T14:47:22.350Z"
   },
   {
    "duration": 269,
    "start_time": "2022-02-27T14:47:22.555Z"
   },
   {
    "duration": 26,
    "start_time": "2022-02-27T14:47:22.827Z"
   },
   {
    "duration": 92928,
    "start_time": "2022-02-27T14:47:22.855Z"
   },
   {
    "duration": 181,
    "start_time": "2022-02-27T14:48:55.785Z"
   },
   {
    "duration": 99,
    "start_time": "2022-02-27T14:48:55.967Z"
   },
   {
    "duration": 8,
    "start_time": "2022-02-27T14:48:56.068Z"
   },
   {
    "duration": 25,
    "start_time": "2022-02-27T14:48:56.078Z"
   },
   {
    "duration": 7,
    "start_time": "2022-02-27T14:48:56.105Z"
   },
   {
    "duration": 9,
    "start_time": "2022-02-27T14:48:56.114Z"
   },
   {
    "duration": 331,
    "start_time": "2022-02-27T14:48:56.126Z"
   },
   {
    "duration": 604,
    "start_time": "2022-02-27T14:48:56.459Z"
   },
   {
    "duration": 6,
    "start_time": "2022-02-27T14:48:57.065Z"
   },
   {
    "duration": 30,
    "start_time": "2022-02-27T14:48:57.072Z"
   },
   {
    "duration": 4,
    "start_time": "2022-02-27T14:48:57.104Z"
   },
   {
    "duration": 9,
    "start_time": "2022-02-27T14:48:57.110Z"
   },
   {
    "duration": 315,
    "start_time": "2022-02-27T14:48:57.121Z"
   },
   {
    "duration": 8,
    "start_time": "2022-02-27T14:48:57.439Z"
   },
   {
    "duration": 12,
    "start_time": "2022-02-27T14:48:57.449Z"
   },
   {
    "duration": 7,
    "start_time": "2022-02-27T14:48:57.463Z"
   },
   {
    "duration": 33,
    "start_time": "2022-02-27T14:48:57.472Z"
   },
   {
    "duration": 323,
    "start_time": "2022-02-27T14:48:57.508Z"
   },
   {
    "duration": 9,
    "start_time": "2022-02-27T14:48:57.833Z"
   },
   {
    "duration": 11,
    "start_time": "2022-02-27T14:48:57.845Z"
   },
   {
    "duration": 6,
    "start_time": "2022-02-27T14:48:57.858Z"
   },
   {
    "duration": 40,
    "start_time": "2022-02-27T14:48:57.866Z"
   },
   {
    "duration": 821,
    "start_time": "2022-02-27T14:48:57.908Z"
   },
   {
    "duration": 166,
    "start_time": "2022-02-27T14:48:58.731Z"
   },
   {
    "duration": 17,
    "start_time": "2022-02-27T14:48:58.899Z"
   },
   {
    "duration": 19,
    "start_time": "2022-02-27T14:48:58.918Z"
   },
   {
    "duration": 24,
    "start_time": "2022-02-27T14:48:58.939Z"
   },
   {
    "duration": 6,
    "start_time": "2022-02-27T14:48:58.965Z"
   },
   {
    "duration": 13,
    "start_time": "2022-02-27T14:48:59.001Z"
   },
   {
    "duration": 324,
    "start_time": "2022-02-27T14:49:54.136Z"
   },
   {
    "duration": 1123,
    "start_time": "2022-02-27T14:55:23.620Z"
   },
   {
    "duration": 1078,
    "start_time": "2022-02-27T14:56:13.244Z"
   },
   {
    "duration": 9,
    "start_time": "2022-02-27T15:03:35.378Z"
   },
   {
    "duration": 22,
    "start_time": "2022-02-27T15:04:16.812Z"
   },
   {
    "duration": 196,
    "start_time": "2022-02-27T15:16:02.080Z"
   },
   {
    "duration": 44,
    "start_time": "2022-02-27T15:16:09.082Z"
   },
   {
    "duration": 161,
    "start_time": "2022-02-27T15:16:24.431Z"
   },
   {
    "duration": 362,
    "start_time": "2022-02-27T15:22:14.606Z"
   },
   {
    "duration": 63,
    "start_time": "2022-02-27T15:22:25.925Z"
   },
   {
    "duration": 47,
    "start_time": "2022-02-27T15:22:37.654Z"
   },
   {
    "duration": 248,
    "start_time": "2022-02-27T15:23:01.381Z"
   },
   {
    "duration": 53,
    "start_time": "2022-02-27T15:23:08.705Z"
   },
   {
    "duration": 50,
    "start_time": "2022-02-27T15:23:14.455Z"
   },
   {
    "duration": 240,
    "start_time": "2022-02-27T15:23:26.149Z"
   },
   {
    "duration": 56,
    "start_time": "2022-02-27T15:28:29.011Z"
   },
   {
    "duration": 52,
    "start_time": "2022-02-27T15:30:27.440Z"
   },
   {
    "duration": 47,
    "start_time": "2022-02-27T15:31:02.885Z"
   },
   {
    "duration": 55,
    "start_time": "2022-02-27T15:31:14.313Z"
   },
   {
    "duration": 49,
    "start_time": "2022-02-27T15:40:17.299Z"
   },
   {
    "duration": 166,
    "start_time": "2022-02-27T15:52:04.353Z"
   },
   {
    "duration": 1535,
    "start_time": "2022-02-27T15:52:16.854Z"
   },
   {
    "duration": 12,
    "start_time": "2022-02-27T15:52:18.391Z"
   },
   {
    "duration": 28,
    "start_time": "2022-02-27T15:52:18.406Z"
   },
   {
    "duration": 33,
    "start_time": "2022-02-27T15:52:18.436Z"
   },
   {
    "duration": 52,
    "start_time": "2022-02-27T15:52:18.471Z"
   },
   {
    "duration": 10,
    "start_time": "2022-02-27T15:52:18.525Z"
   },
   {
    "duration": 109,
    "start_time": "2022-02-27T15:52:18.537Z"
   },
   {
    "duration": 10,
    "start_time": "2022-02-27T15:52:18.649Z"
   },
   {
    "duration": 23,
    "start_time": "2022-02-27T15:52:18.661Z"
   },
   {
    "duration": 36,
    "start_time": "2022-02-27T15:52:18.685Z"
   },
   {
    "duration": 20,
    "start_time": "2022-02-27T15:52:18.723Z"
   },
   {
    "duration": 16,
    "start_time": "2022-02-27T15:52:18.744Z"
   },
   {
    "duration": 97,
    "start_time": "2022-02-27T15:52:18.762Z"
   },
   {
    "duration": 8,
    "start_time": "2022-02-27T15:52:18.861Z"
   },
   {
    "duration": 30,
    "start_time": "2022-02-27T15:52:18.871Z"
   },
   {
    "duration": 20,
    "start_time": "2022-02-27T15:52:18.903Z"
   },
   {
    "duration": 17,
    "start_time": "2022-02-27T15:52:18.925Z"
   },
   {
    "duration": 72,
    "start_time": "2022-02-27T15:52:18.943Z"
   },
   {
    "duration": 9,
    "start_time": "2022-02-27T15:52:19.017Z"
   },
   {
    "duration": 13,
    "start_time": "2022-02-27T15:52:19.027Z"
   },
   {
    "duration": 11,
    "start_time": "2022-02-27T15:52:19.042Z"
   },
   {
    "duration": 10,
    "start_time": "2022-02-27T15:52:19.055Z"
   },
   {
    "duration": 33,
    "start_time": "2022-02-27T15:52:19.069Z"
   },
   {
    "duration": 14,
    "start_time": "2022-02-27T15:52:19.105Z"
   },
   {
    "duration": 33,
    "start_time": "2022-02-27T15:52:19.121Z"
   },
   {
    "duration": 7,
    "start_time": "2022-02-27T15:52:19.156Z"
   },
   {
    "duration": 12,
    "start_time": "2022-02-27T15:52:19.165Z"
   },
   {
    "duration": 24,
    "start_time": "2022-02-27T15:52:19.178Z"
   },
   {
    "duration": 67,
    "start_time": "2022-02-27T15:52:19.204Z"
   },
   {
    "duration": 78,
    "start_time": "2022-02-27T15:52:19.273Z"
   },
   {
    "duration": 8,
    "start_time": "2022-02-27T15:52:19.352Z"
   },
   {
    "duration": 47,
    "start_time": "2022-02-27T15:52:19.362Z"
   },
   {
    "duration": 34,
    "start_time": "2022-02-27T15:52:19.411Z"
   },
   {
    "duration": 22,
    "start_time": "2022-02-27T15:52:19.447Z"
   },
   {
    "duration": 47,
    "start_time": "2022-02-27T15:52:19.471Z"
   },
   {
    "duration": 23,
    "start_time": "2022-02-27T15:52:19.520Z"
   },
   {
    "duration": 16,
    "start_time": "2022-02-27T15:52:19.545Z"
   },
   {
    "duration": 186,
    "start_time": "2022-02-27T15:52:19.563Z"
   },
   {
    "duration": 212,
    "start_time": "2022-02-27T15:52:19.751Z"
   },
   {
    "duration": 269,
    "start_time": "2022-02-27T15:52:19.964Z"
   },
   {
    "duration": 24,
    "start_time": "2022-02-27T15:52:20.235Z"
   },
   {
    "duration": 91083,
    "start_time": "2022-02-27T15:52:20.261Z"
   },
   {
    "duration": 176,
    "start_time": "2022-02-27T15:53:51.345Z"
   },
   {
    "duration": 82,
    "start_time": "2022-02-27T15:53:51.523Z"
   },
   {
    "duration": 9,
    "start_time": "2022-02-27T15:53:51.607Z"
   },
   {
    "duration": 12,
    "start_time": "2022-02-27T15:53:51.618Z"
   },
   {
    "duration": 6,
    "start_time": "2022-02-27T15:53:51.633Z"
   },
   {
    "duration": 10,
    "start_time": "2022-02-27T15:53:51.641Z"
   },
   {
    "duration": 350,
    "start_time": "2022-02-27T15:53:51.653Z"
   },
   {
    "duration": 603,
    "start_time": "2022-02-27T15:53:52.005Z"
   },
   {
    "duration": 5,
    "start_time": "2022-02-27T15:53:52.609Z"
   },
   {
    "duration": 14,
    "start_time": "2022-02-27T15:53:52.616Z"
   },
   {
    "duration": 5,
    "start_time": "2022-02-27T15:53:52.632Z"
   },
   {
    "duration": 8,
    "start_time": "2022-02-27T15:53:52.639Z"
   },
   {
    "duration": 321,
    "start_time": "2022-02-27T15:53:52.649Z"
   },
   {
    "duration": 10,
    "start_time": "2022-02-27T15:53:52.972Z"
   },
   {
    "duration": 31,
    "start_time": "2022-02-27T15:53:52.984Z"
   },
   {
    "duration": 7,
    "start_time": "2022-02-27T15:53:53.017Z"
   },
   {
    "duration": 12,
    "start_time": "2022-02-27T15:53:53.026Z"
   },
   {
    "duration": 325,
    "start_time": "2022-02-27T15:53:53.040Z"
   },
   {
    "duration": 8,
    "start_time": "2022-02-27T15:53:53.366Z"
   },
   {
    "duration": 26,
    "start_time": "2022-02-27T15:53:53.376Z"
   },
   {
    "duration": 6,
    "start_time": "2022-02-27T15:53:53.403Z"
   },
   {
    "duration": 12,
    "start_time": "2022-02-27T15:53:53.411Z"
   },
   {
    "duration": 776,
    "start_time": "2022-02-27T15:53:53.425Z"
   },
   {
    "duration": 160,
    "start_time": "2022-02-27T15:53:54.203Z"
   },
   {
    "duration": 17,
    "start_time": "2022-02-27T15:53:54.365Z"
   },
   {
    "duration": 28,
    "start_time": "2022-02-27T15:53:54.387Z"
   },
   {
    "duration": 19,
    "start_time": "2022-02-27T15:53:54.417Z"
   },
   {
    "duration": 6,
    "start_time": "2022-02-27T15:53:54.438Z"
   },
   {
    "duration": 13,
    "start_time": "2022-02-27T15:53:54.446Z"
   },
   {
    "duration": 41,
    "start_time": "2022-02-27T15:56:38.768Z"
   },
   {
    "duration": 215922,
    "start_time": "2022-02-27T15:57:22.042Z"
   },
   {
    "duration": 265,
    "start_time": "2022-02-27T16:12:19.841Z"
   },
   {
    "duration": 1669,
    "start_time": "2022-02-27T16:13:12.892Z"
   },
   {
    "duration": 14,
    "start_time": "2022-02-27T16:13:14.563Z"
   },
   {
    "duration": 24,
    "start_time": "2022-02-27T16:13:14.579Z"
   },
   {
    "duration": 33,
    "start_time": "2022-02-27T16:13:14.606Z"
   },
   {
    "duration": 32,
    "start_time": "2022-02-27T16:13:14.641Z"
   },
   {
    "duration": 31,
    "start_time": "2022-02-27T16:13:14.675Z"
   },
   {
    "duration": 106,
    "start_time": "2022-02-27T16:13:14.708Z"
   },
   {
    "duration": 8,
    "start_time": "2022-02-27T16:13:14.817Z"
   },
   {
    "duration": 21,
    "start_time": "2022-02-27T16:13:14.827Z"
   },
   {
    "duration": 22,
    "start_time": "2022-02-27T16:13:14.849Z"
   },
   {
    "duration": 40,
    "start_time": "2022-02-27T16:13:14.873Z"
   },
   {
    "duration": 14,
    "start_time": "2022-02-27T16:13:14.915Z"
   },
   {
    "duration": 99,
    "start_time": "2022-02-27T16:13:14.931Z"
   },
   {
    "duration": 8,
    "start_time": "2022-02-27T16:13:15.032Z"
   },
   {
    "duration": 21,
    "start_time": "2022-02-27T16:13:15.042Z"
   },
   {
    "duration": 36,
    "start_time": "2022-02-27T16:13:15.065Z"
   },
   {
    "duration": 17,
    "start_time": "2022-02-27T16:13:15.103Z"
   },
   {
    "duration": 47,
    "start_time": "2022-02-27T16:13:15.122Z"
   },
   {
    "duration": 30,
    "start_time": "2022-02-27T16:13:15.171Z"
   },
   {
    "duration": 11,
    "start_time": "2022-02-27T16:13:15.204Z"
   },
   {
    "duration": 14,
    "start_time": "2022-02-27T16:13:15.216Z"
   },
   {
    "duration": 10,
    "start_time": "2022-02-27T16:13:15.231Z"
   },
   {
    "duration": 5,
    "start_time": "2022-02-27T16:13:15.246Z"
   },
   {
    "duration": 12,
    "start_time": "2022-02-27T16:13:15.254Z"
   },
   {
    "duration": 63,
    "start_time": "2022-02-27T16:13:15.268Z"
   },
   {
    "duration": 8,
    "start_time": "2022-02-27T16:13:15.332Z"
   },
   {
    "duration": 243,
    "start_time": "2022-02-27T16:13:15.341Z"
   },
   {
    "duration": -2053,
    "start_time": "2022-02-27T16:13:17.639Z"
   },
   {
    "duration": -2100,
    "start_time": "2022-02-27T16:13:17.688Z"
   },
   {
    "duration": -2143,
    "start_time": "2022-02-27T16:13:17.732Z"
   },
   {
    "duration": -2171,
    "start_time": "2022-02-27T16:13:17.761Z"
   },
   {
    "duration": -2218,
    "start_time": "2022-02-27T16:13:17.809Z"
   },
   {
    "duration": -2262,
    "start_time": "2022-02-27T16:13:17.854Z"
   },
   {
    "duration": -2293,
    "start_time": "2022-02-27T16:13:17.886Z"
   },
   {
    "duration": -2334,
    "start_time": "2022-02-27T16:13:17.927Z"
   },
   {
    "duration": -2392,
    "start_time": "2022-02-27T16:13:17.986Z"
   },
   {
    "duration": -2422,
    "start_time": "2022-02-27T16:13:18.017Z"
   },
   {
    "duration": -2455,
    "start_time": "2022-02-27T16:13:18.051Z"
   },
   {
    "duration": -2484,
    "start_time": "2022-02-27T16:13:18.081Z"
   },
   {
    "duration": -2515,
    "start_time": "2022-02-27T16:13:18.113Z"
   },
   {
    "duration": -2583,
    "start_time": "2022-02-27T16:13:18.182Z"
   },
   {
    "duration": -2626,
    "start_time": "2022-02-27T16:13:18.225Z"
   },
   {
    "duration": -2671,
    "start_time": "2022-02-27T16:13:18.271Z"
   },
   {
    "duration": -2709,
    "start_time": "2022-02-27T16:13:18.310Z"
   },
   {
    "duration": -2748,
    "start_time": "2022-02-27T16:13:18.350Z"
   },
   {
    "duration": -2778,
    "start_time": "2022-02-27T16:13:18.381Z"
   },
   {
    "duration": -2809,
    "start_time": "2022-02-27T16:13:18.413Z"
   },
   {
    "duration": -2855,
    "start_time": "2022-02-27T16:13:18.460Z"
   },
   {
    "duration": -2898,
    "start_time": "2022-02-27T16:13:18.503Z"
   },
   {
    "duration": -2927,
    "start_time": "2022-02-27T16:13:18.533Z"
   },
   {
    "duration": -2957,
    "start_time": "2022-02-27T16:13:18.564Z"
   },
   {
    "duration": -2989,
    "start_time": "2022-02-27T16:13:18.597Z"
   },
   {
    "duration": -3034,
    "start_time": "2022-02-27T16:13:18.643Z"
   },
   {
    "duration": -3072,
    "start_time": "2022-02-27T16:13:18.682Z"
   },
   {
    "duration": -3104,
    "start_time": "2022-02-27T16:13:18.715Z"
   },
   {
    "duration": -3134,
    "start_time": "2022-02-27T16:13:18.745Z"
   },
   {
    "duration": -3179,
    "start_time": "2022-02-27T16:13:18.791Z"
   },
   {
    "duration": -3217,
    "start_time": "2022-02-27T16:13:18.830Z"
   },
   {
    "duration": -3259,
    "start_time": "2022-02-27T16:13:18.873Z"
   },
   {
    "duration": -3298,
    "start_time": "2022-02-27T16:13:18.913Z"
   },
   {
    "duration": -3340,
    "start_time": "2022-02-27T16:13:18.956Z"
   },
   {
    "duration": -3378,
    "start_time": "2022-02-27T16:13:18.995Z"
   },
   {
    "duration": -3419,
    "start_time": "2022-02-27T16:13:19.037Z"
   },
   {
    "duration": -3450,
    "start_time": "2022-02-27T16:13:19.069Z"
   },
   {
    "duration": -3493,
    "start_time": "2022-02-27T16:13:19.113Z"
   },
   {
    "duration": -3536,
    "start_time": "2022-02-27T16:13:19.157Z"
   },
   {
    "duration": -3591,
    "start_time": "2022-02-27T16:13:19.212Z"
   },
   {
    "duration": -3640,
    "start_time": "2022-02-27T16:13:19.262Z"
   },
   {
    "duration": -3692,
    "start_time": "2022-02-27T16:13:19.315Z"
   },
   {
    "duration": -3740,
    "start_time": "2022-02-27T16:13:19.364Z"
   },
   {
    "duration": -3790,
    "start_time": "2022-02-27T16:13:19.415Z"
   },
   {
    "duration": 200,
    "start_time": "2022-02-27T16:15:02.153Z"
   },
   {
    "duration": 147,
    "start_time": "2022-02-27T16:16:16.711Z"
   },
   {
    "duration": 255,
    "start_time": "2022-02-27T16:21:27.938Z"
   },
   {
    "duration": 4,
    "start_time": "2022-02-27T16:23:26.615Z"
   },
   {
    "duration": 51,
    "start_time": "2022-02-27T16:25:28.466Z"
   },
   {
    "duration": 181,
    "start_time": "2022-02-27T16:25:43.178Z"
   },
   {
    "duration": 45,
    "start_time": "2022-02-27T16:26:26.805Z"
   },
   {
    "duration": 172,
    "start_time": "2022-02-27T16:27:19.940Z"
   },
   {
    "duration": 152,
    "start_time": "2022-02-27T16:27:31.284Z"
   },
   {
    "duration": 46,
    "start_time": "2022-02-27T16:27:33.276Z"
   },
   {
    "duration": 11,
    "start_time": "2022-02-27T16:27:47.910Z"
   },
   {
    "duration": 10,
    "start_time": "2022-02-27T16:27:58.963Z"
   },
   {
    "duration": 1610,
    "start_time": "2022-02-27T16:28:07.439Z"
   },
   {
    "duration": 13,
    "start_time": "2022-02-27T16:28:09.051Z"
   },
   {
    "duration": 26,
    "start_time": "2022-02-27T16:28:09.067Z"
   },
   {
    "duration": 32,
    "start_time": "2022-02-27T16:28:09.095Z"
   },
   {
    "duration": 33,
    "start_time": "2022-02-27T16:28:09.129Z"
   },
   {
    "duration": 11,
    "start_time": "2022-02-27T16:28:09.164Z"
   },
   {
    "duration": 118,
    "start_time": "2022-02-27T16:28:09.178Z"
   },
   {
    "duration": 10,
    "start_time": "2022-02-27T16:28:09.303Z"
   },
   {
    "duration": 20,
    "start_time": "2022-02-27T16:28:09.316Z"
   },
   {
    "duration": 25,
    "start_time": "2022-02-27T16:28:09.338Z"
   },
   {
    "duration": 49,
    "start_time": "2022-02-27T16:28:09.365Z"
   },
   {
    "duration": 20,
    "start_time": "2022-02-27T16:28:09.417Z"
   },
   {
    "duration": 95,
    "start_time": "2022-02-27T16:28:09.439Z"
   },
   {
    "duration": 9,
    "start_time": "2022-02-27T16:28:09.536Z"
   },
   {
    "duration": 20,
    "start_time": "2022-02-27T16:28:09.548Z"
   },
   {
    "duration": 43,
    "start_time": "2022-02-27T16:28:09.570Z"
   },
   {
    "duration": 17,
    "start_time": "2022-02-27T16:28:09.615Z"
   },
   {
    "duration": 67,
    "start_time": "2022-02-27T16:28:09.634Z"
   },
   {
    "duration": 10,
    "start_time": "2022-02-27T16:28:09.703Z"
   },
   {
    "duration": 15,
    "start_time": "2022-02-27T16:28:09.715Z"
   },
   {
    "duration": 15,
    "start_time": "2022-02-27T16:28:09.732Z"
   },
   {
    "duration": 23,
    "start_time": "2022-02-27T16:28:09.749Z"
   },
   {
    "duration": 5,
    "start_time": "2022-02-27T16:28:09.777Z"
   },
   {
    "duration": 11,
    "start_time": "2022-02-27T16:28:09.801Z"
   },
   {
    "duration": 36,
    "start_time": "2022-02-27T16:28:09.814Z"
   },
   {
    "duration": 7,
    "start_time": "2022-02-27T16:28:09.852Z"
   },
   {
    "duration": 40,
    "start_time": "2022-02-27T16:28:09.861Z"
   },
   {
    "duration": 50,
    "start_time": "2022-02-27T16:28:09.903Z"
   },
   {
    "duration": 3,
    "start_time": "2022-02-27T16:28:09.955Z"
   },
   {
    "duration": 80,
    "start_time": "2022-02-27T16:28:09.960Z"
   },
   {
    "duration": 73,
    "start_time": "2022-02-27T16:28:10.042Z"
   },
   {
    "duration": 9,
    "start_time": "2022-02-27T16:28:10.117Z"
   },
   {
    "duration": 38,
    "start_time": "2022-02-27T16:28:10.127Z"
   },
   {
    "duration": 59,
    "start_time": "2022-02-27T16:28:10.167Z"
   },
   {
    "duration": 25,
    "start_time": "2022-02-27T16:28:10.228Z"
   },
   {
    "duration": 47,
    "start_time": "2022-02-27T16:28:10.255Z"
   },
   {
    "duration": 25,
    "start_time": "2022-02-27T16:28:10.305Z"
   },
   {
    "duration": 17,
    "start_time": "2022-02-27T16:28:10.331Z"
   },
   {
    "duration": 194,
    "start_time": "2022-02-27T16:28:10.349Z"
   },
   {
    "duration": 216,
    "start_time": "2022-02-27T16:28:10.545Z"
   },
   {
    "duration": 270,
    "start_time": "2022-02-27T16:28:10.763Z"
   },
   {
    "duration": 23,
    "start_time": "2022-02-27T16:28:11.035Z"
   },
   {
    "duration": 94493,
    "start_time": "2022-02-27T16:28:11.060Z"
   },
   {
    "duration": 165,
    "start_time": "2022-02-27T16:29:45.555Z"
   },
   {
    "duration": 80,
    "start_time": "2022-02-27T16:29:45.722Z"
   },
   {
    "duration": 9,
    "start_time": "2022-02-27T16:29:45.804Z"
   },
   {
    "duration": 19,
    "start_time": "2022-02-27T16:29:45.814Z"
   },
   {
    "duration": 14,
    "start_time": "2022-02-27T16:29:45.835Z"
   },
   {
    "duration": 12,
    "start_time": "2022-02-27T16:29:45.851Z"
   },
   {
    "duration": 329,
    "start_time": "2022-02-27T16:29:45.865Z"
   },
   {
    "duration": 612,
    "start_time": "2022-02-27T16:29:46.201Z"
   },
   {
    "duration": 6,
    "start_time": "2022-02-27T16:29:46.815Z"
   },
   {
    "duration": 21,
    "start_time": "2022-02-27T16:29:46.822Z"
   },
   {
    "duration": 5,
    "start_time": "2022-02-27T16:29:46.845Z"
   },
   {
    "duration": 8,
    "start_time": "2022-02-27T16:29:46.852Z"
   },
   {
    "duration": 313,
    "start_time": "2022-02-27T16:29:46.862Z"
   },
   {
    "duration": 9,
    "start_time": "2022-02-27T16:29:47.177Z"
   },
   {
    "duration": 20,
    "start_time": "2022-02-27T16:29:47.188Z"
   },
   {
    "duration": 7,
    "start_time": "2022-02-27T16:29:47.210Z"
   },
   {
    "duration": 13,
    "start_time": "2022-02-27T16:29:47.219Z"
   },
   {
    "duration": 318,
    "start_time": "2022-02-27T16:29:47.234Z"
   },
   {
    "duration": 8,
    "start_time": "2022-02-27T16:29:47.554Z"
   },
   {
    "duration": 11,
    "start_time": "2022-02-27T16:29:47.564Z"
   },
   {
    "duration": 28,
    "start_time": "2022-02-27T16:29:47.577Z"
   },
   {
    "duration": 13,
    "start_time": "2022-02-27T16:29:47.607Z"
   },
   {
    "duration": 745,
    "start_time": "2022-02-27T16:29:47.622Z"
   },
   {
    "duration": 156,
    "start_time": "2022-02-27T16:29:48.368Z"
   },
   {
    "duration": 17,
    "start_time": "2022-02-27T16:29:48.528Z"
   },
   {
    "duration": 19,
    "start_time": "2022-02-27T16:29:48.547Z"
   },
   {
    "duration": 37,
    "start_time": "2022-02-27T16:29:48.567Z"
   },
   {
    "duration": 6,
    "start_time": "2022-02-27T16:29:48.606Z"
   },
   {
    "duration": 13,
    "start_time": "2022-02-27T16:29:48.614Z"
   },
   {
    "duration": 99,
    "start_time": "2022-02-27T16:34:23.505Z"
   },
   {
    "duration": 17,
    "start_time": "2022-02-27T16:38:07.086Z"
   },
   {
    "duration": 112,
    "start_time": "2022-02-27T16:38:28.800Z"
   },
   {
    "duration": 105,
    "start_time": "2022-02-27T16:38:53.929Z"
   },
   {
    "duration": 108,
    "start_time": "2022-02-27T16:39:01.678Z"
   },
   {
    "duration": 47,
    "start_time": "2022-02-27T16:39:38.547Z"
   },
   {
    "duration": 46,
    "start_time": "2022-02-27T16:39:47.845Z"
   },
   {
    "duration": 1565,
    "start_time": "2022-02-27T16:40:47.329Z"
   },
   {
    "duration": 14,
    "start_time": "2022-02-27T16:40:48.896Z"
   },
   {
    "duration": 28,
    "start_time": "2022-02-27T16:40:48.913Z"
   },
   {
    "duration": 35,
    "start_time": "2022-02-27T16:40:48.943Z"
   },
   {
    "duration": 50,
    "start_time": "2022-02-27T16:40:48.980Z"
   },
   {
    "duration": 11,
    "start_time": "2022-02-27T16:40:49.032Z"
   },
   {
    "duration": 142,
    "start_time": "2022-02-27T16:40:49.045Z"
   },
   {
    "duration": 15,
    "start_time": "2022-02-27T16:40:49.190Z"
   },
   {
    "duration": 20,
    "start_time": "2022-02-27T16:40:49.207Z"
   },
   {
    "duration": 23,
    "start_time": "2022-02-27T16:40:49.229Z"
   },
   {
    "duration": 19,
    "start_time": "2022-02-27T16:40:49.254Z"
   },
   {
    "duration": 16,
    "start_time": "2022-02-27T16:40:49.302Z"
   },
   {
    "duration": 88,
    "start_time": "2022-02-27T16:40:49.319Z"
   },
   {
    "duration": 10,
    "start_time": "2022-02-27T16:40:49.409Z"
   },
   {
    "duration": 21,
    "start_time": "2022-02-27T16:40:49.420Z"
   },
   {
    "duration": 20,
    "start_time": "2022-02-27T16:40:49.443Z"
   },
   {
    "duration": 45,
    "start_time": "2022-02-27T16:40:49.465Z"
   },
   {
    "duration": 49,
    "start_time": "2022-02-27T16:40:49.512Z"
   },
   {
    "duration": 9,
    "start_time": "2022-02-27T16:40:49.563Z"
   },
   {
    "duration": 35,
    "start_time": "2022-02-27T16:40:49.574Z"
   },
   {
    "duration": 17,
    "start_time": "2022-02-27T16:40:49.611Z"
   },
   {
    "duration": 10,
    "start_time": "2022-02-27T16:40:49.629Z"
   },
   {
    "duration": 8,
    "start_time": "2022-02-27T16:40:49.644Z"
   },
   {
    "duration": 16,
    "start_time": "2022-02-27T16:40:49.655Z"
   },
   {
    "duration": 59,
    "start_time": "2022-02-27T16:40:49.673Z"
   },
   {
    "duration": 8,
    "start_time": "2022-02-27T16:40:49.734Z"
   },
   {
    "duration": 130,
    "start_time": "2022-02-27T16:40:49.743Z"
   },
   {
    "duration": 4,
    "start_time": "2022-02-27T16:40:49.874Z"
   },
   {
    "duration": 78,
    "start_time": "2022-02-27T16:40:49.880Z"
   },
   {
    "duration": 76,
    "start_time": "2022-02-27T16:40:49.960Z"
   },
   {
    "duration": 11,
    "start_time": "2022-02-27T16:40:50.038Z"
   },
   {
    "duration": 54,
    "start_time": "2022-02-27T16:40:50.051Z"
   },
   {
    "duration": 34,
    "start_time": "2022-02-27T16:40:50.108Z"
   },
   {
    "duration": 22,
    "start_time": "2022-02-27T16:40:50.144Z"
   },
   {
    "duration": 48,
    "start_time": "2022-02-27T16:40:50.168Z"
   },
   {
    "duration": 26,
    "start_time": "2022-02-27T16:40:50.218Z"
   },
   {
    "duration": 18,
    "start_time": "2022-02-27T16:40:50.246Z"
   },
   {
    "duration": 189,
    "start_time": "2022-02-27T16:40:50.266Z"
   },
   {
    "duration": 217,
    "start_time": "2022-02-27T16:40:50.457Z"
   },
   {
    "duration": 265,
    "start_time": "2022-02-27T16:40:50.677Z"
   },
   {
    "duration": 23,
    "start_time": "2022-02-27T16:40:50.944Z"
   },
   {
    "duration": 5525,
    "start_time": "2022-02-27T16:40:50.970Z"
   },
   {
    "duration": -922,
    "start_time": "2022-02-27T16:40:57.419Z"
   },
   {
    "duration": -979,
    "start_time": "2022-02-27T16:40:57.477Z"
   },
   {
    "duration": -1212,
    "start_time": "2022-02-27T16:40:57.711Z"
   },
   {
    "duration": -1266,
    "start_time": "2022-02-27T16:40:57.767Z"
   },
   {
    "duration": -1316,
    "start_time": "2022-02-27T16:40:57.818Z"
   },
   {
    "duration": -1367,
    "start_time": "2022-02-27T16:40:57.870Z"
   },
   {
    "duration": -1418,
    "start_time": "2022-02-27T16:40:57.922Z"
   },
   {
    "duration": -1448,
    "start_time": "2022-02-27T16:40:57.953Z"
   },
   {
    "duration": -1484,
    "start_time": "2022-02-27T16:40:57.990Z"
   },
   {
    "duration": -1566,
    "start_time": "2022-02-27T16:40:58.073Z"
   },
   {
    "duration": -1763,
    "start_time": "2022-02-27T16:40:58.272Z"
   },
   {
    "duration": -1832,
    "start_time": "2022-02-27T16:40:58.342Z"
   },
   {
    "duration": -1887,
    "start_time": "2022-02-27T16:40:58.398Z"
   },
   {
    "duration": -1936,
    "start_time": "2022-02-27T16:40:58.448Z"
   },
   {
    "duration": -1982,
    "start_time": "2022-02-27T16:40:58.495Z"
   },
   {
    "duration": -2028,
    "start_time": "2022-02-27T16:40:58.542Z"
   },
   {
    "duration": -2071,
    "start_time": "2022-02-27T16:40:58.586Z"
   },
   {
    "duration": -2103,
    "start_time": "2022-02-27T16:40:58.619Z"
   },
   {
    "duration": -2136,
    "start_time": "2022-02-27T16:40:58.654Z"
   },
   {
    "duration": -2190,
    "start_time": "2022-02-27T16:40:58.709Z"
   },
   {
    "duration": -2256,
    "start_time": "2022-02-27T16:40:58.776Z"
   },
   {
    "duration": -2302,
    "start_time": "2022-02-27T16:40:58.823Z"
   },
   {
    "duration": -2343,
    "start_time": "2022-02-27T16:40:58.865Z"
   },
   {
    "duration": -2392,
    "start_time": "2022-02-27T16:40:58.915Z"
   },
   {
    "duration": -2439,
    "start_time": "2022-02-27T16:40:58.963Z"
   },
   {
    "duration": -2523,
    "start_time": "2022-02-27T16:40:59.048Z"
   },
   {
    "duration": -2745,
    "start_time": "2022-02-27T16:40:59.271Z"
   },
   {
    "duration": -2794,
    "start_time": "2022-02-27T16:40:59.321Z"
   },
   {
    "duration": -2864,
    "start_time": "2022-02-27T16:40:59.392Z"
   },
   {
    "duration": 2013,
    "start_time": "2022-02-28T04:50:40.178Z"
   },
   {
    "duration": 17,
    "start_time": "2022-02-28T04:50:42.194Z"
   },
   {
    "duration": 27,
    "start_time": "2022-02-28T04:50:42.215Z"
   },
   {
    "duration": 58,
    "start_time": "2022-02-28T04:50:42.245Z"
   },
   {
    "duration": 45,
    "start_time": "2022-02-28T04:50:42.305Z"
   },
   {
    "duration": 27,
    "start_time": "2022-02-28T04:50:42.352Z"
   },
   {
    "duration": 159,
    "start_time": "2022-02-28T04:50:42.382Z"
   },
   {
    "duration": 13,
    "start_time": "2022-02-28T04:50:42.544Z"
   },
   {
    "duration": 23,
    "start_time": "2022-02-28T04:50:42.574Z"
   },
   {
    "duration": 30,
    "start_time": "2022-02-28T04:50:42.600Z"
   },
   {
    "duration": 53,
    "start_time": "2022-02-28T04:50:42.633Z"
   },
   {
    "duration": 21,
    "start_time": "2022-02-28T04:50:42.689Z"
   },
   {
    "duration": 154,
    "start_time": "2022-02-28T04:50:42.713Z"
   },
   {
    "duration": 12,
    "start_time": "2022-02-28T04:50:42.869Z"
   },
   {
    "duration": 20,
    "start_time": "2022-02-28T04:50:42.883Z"
   },
   {
    "duration": 27,
    "start_time": "2022-02-28T04:50:42.906Z"
   },
   {
    "duration": 55,
    "start_time": "2022-02-28T04:50:42.935Z"
   },
   {
    "duration": 80,
    "start_time": "2022-02-28T04:50:42.997Z"
   },
   {
    "duration": 12,
    "start_time": "2022-02-28T04:50:43.079Z"
   },
   {
    "duration": 15,
    "start_time": "2022-02-28T04:50:43.093Z"
   },
   {
    "duration": 16,
    "start_time": "2022-02-28T04:50:43.110Z"
   },
   {
    "duration": 46,
    "start_time": "2022-02-28T04:50:43.128Z"
   },
   {
    "duration": 6,
    "start_time": "2022-02-28T04:50:43.180Z"
   },
   {
    "duration": 14,
    "start_time": "2022-02-28T04:50:43.189Z"
   },
   {
    "duration": 73,
    "start_time": "2022-02-28T04:50:43.205Z"
   },
   {
    "duration": 10,
    "start_time": "2022-02-28T04:50:43.280Z"
   },
   {
    "duration": 186,
    "start_time": "2022-02-28T04:50:43.292Z"
   },
   {
    "duration": 4,
    "start_time": "2022-02-28T04:50:43.480Z"
   },
   {
    "duration": 102,
    "start_time": "2022-02-28T04:50:43.486Z"
   },
   {
    "duration": 99,
    "start_time": "2022-02-28T04:50:43.590Z"
   },
   {
    "duration": 12,
    "start_time": "2022-02-28T04:50:43.691Z"
   },
   {
    "duration": 73,
    "start_time": "2022-02-28T04:50:43.706Z"
   },
   {
    "duration": 46,
    "start_time": "2022-02-28T04:50:43.782Z"
   },
   {
    "duration": 66,
    "start_time": "2022-02-28T04:50:43.831Z"
   },
   {
    "duration": 35,
    "start_time": "2022-02-28T04:50:43.900Z"
   },
   {
    "duration": 62,
    "start_time": "2022-02-28T04:50:43.938Z"
   },
   {
    "duration": 24,
    "start_time": "2022-02-28T04:50:44.002Z"
   },
   {
    "duration": 269,
    "start_time": "2022-02-28T04:50:44.029Z"
   },
   {
    "duration": 310,
    "start_time": "2022-02-28T04:50:44.301Z"
   },
   {
    "duration": 326,
    "start_time": "2022-02-28T04:50:44.614Z"
   },
   {
    "duration": 47,
    "start_time": "2022-02-28T04:50:44.943Z"
   },
   {
    "duration": 9864,
    "start_time": "2022-02-28T04:50:44.993Z"
   },
   {
    "duration": -755,
    "start_time": "2022-02-28T04:50:55.616Z"
   },
   {
    "duration": -759,
    "start_time": "2022-02-28T04:50:55.623Z"
   },
   {
    "duration": -769,
    "start_time": "2022-02-28T04:50:55.635Z"
   },
   {
    "duration": -773,
    "start_time": "2022-02-28T04:50:55.641Z"
   },
   {
    "duration": -782,
    "start_time": "2022-02-28T04:50:55.652Z"
   },
   {
    "duration": -785,
    "start_time": "2022-02-28T04:50:55.658Z"
   },
   {
    "duration": -792,
    "start_time": "2022-02-28T04:50:55.667Z"
   },
   {
    "duration": -797,
    "start_time": "2022-02-28T04:50:55.674Z"
   },
   {
    "duration": -805,
    "start_time": "2022-02-28T04:50:55.683Z"
   },
   {
    "duration": -809,
    "start_time": "2022-02-28T04:50:55.689Z"
   },
   {
    "duration": -817,
    "start_time": "2022-02-28T04:50:55.699Z"
   },
   {
    "duration": -822,
    "start_time": "2022-02-28T04:50:55.705Z"
   },
   {
    "duration": -830,
    "start_time": "2022-02-28T04:50:55.715Z"
   },
   {
    "duration": -833,
    "start_time": "2022-02-28T04:50:55.720Z"
   },
   {
    "duration": -841,
    "start_time": "2022-02-28T04:50:55.730Z"
   },
   {
    "duration": -844,
    "start_time": "2022-02-28T04:50:55.734Z"
   },
   {
    "duration": -848,
    "start_time": "2022-02-28T04:50:55.740Z"
   },
   {
    "duration": -858,
    "start_time": "2022-02-28T04:50:55.751Z"
   },
   {
    "duration": -862,
    "start_time": "2022-02-28T04:50:55.757Z"
   },
   {
    "duration": -870,
    "start_time": "2022-02-28T04:50:55.767Z"
   },
   {
    "duration": -873,
    "start_time": "2022-02-28T04:50:55.772Z"
   },
   {
    "duration": -882,
    "start_time": "2022-02-28T04:50:55.782Z"
   },
   {
    "duration": -886,
    "start_time": "2022-02-28T04:50:55.788Z"
   },
   {
    "duration": -894,
    "start_time": "2022-02-28T04:50:55.798Z"
   },
   {
    "duration": -896,
    "start_time": "2022-02-28T04:50:55.802Z"
   },
   {
    "duration": -899,
    "start_time": "2022-02-28T04:50:55.807Z"
   },
   {
    "duration": -908,
    "start_time": "2022-02-28T04:50:55.818Z"
   },
   {
    "duration": -912,
    "start_time": "2022-02-28T04:50:55.824Z"
   },
   {
    "duration": -920,
    "start_time": "2022-02-28T04:50:55.834Z"
   },
   {
    "duration": 28,
    "start_time": "2022-02-28T05:00:28.893Z"
   },
   {
    "duration": 136,
    "start_time": "2022-02-28T05:01:23.046Z"
   },
   {
    "duration": 291,
    "start_time": "2022-02-28T05:04:28.854Z"
   },
   {
    "duration": 28,
    "start_time": "2022-02-28T05:04:51.357Z"
   },
   {
    "duration": 32,
    "start_time": "2022-02-28T05:05:41.821Z"
   },
   {
    "duration": 19,
    "start_time": "2022-02-28T05:06:54.029Z"
   },
   {
    "duration": 327,
    "start_time": "2022-02-28T05:17:50.769Z"
   },
   {
    "duration": 98,
    "start_time": "2022-02-28T05:18:42.099Z"
   },
   {
    "duration": 20,
    "start_time": "2022-02-28T05:21:33.874Z"
   },
   {
    "duration": 2129,
    "start_time": "2022-02-28T05:21:40.448Z"
   },
   {
    "duration": 18,
    "start_time": "2022-02-28T05:21:42.580Z"
   },
   {
    "duration": 38,
    "start_time": "2022-02-28T05:21:42.601Z"
   },
   {
    "duration": 72,
    "start_time": "2022-02-28T05:21:42.642Z"
   },
   {
    "duration": 58,
    "start_time": "2022-02-28T05:21:42.717Z"
   },
   {
    "duration": 15,
    "start_time": "2022-02-28T05:21:42.778Z"
   },
   {
    "duration": 178,
    "start_time": "2022-02-28T05:21:42.795Z"
   },
   {
    "duration": 14,
    "start_time": "2022-02-28T05:21:42.977Z"
   },
   {
    "duration": 31,
    "start_time": "2022-02-28T05:21:42.995Z"
   },
   {
    "duration": 66,
    "start_time": "2022-02-28T05:21:43.029Z"
   },
   {
    "duration": 25,
    "start_time": "2022-02-28T05:21:43.097Z"
   },
   {
    "duration": 20,
    "start_time": "2022-02-28T05:21:43.125Z"
   },
   {
    "duration": 152,
    "start_time": "2022-02-28T05:21:43.147Z"
   },
   {
    "duration": 12,
    "start_time": "2022-02-28T05:21:43.301Z"
   },
   {
    "duration": 32,
    "start_time": "2022-02-28T05:21:43.315Z"
   },
   {
    "duration": 43,
    "start_time": "2022-02-28T05:21:43.349Z"
   },
   {
    "duration": 22,
    "start_time": "2022-02-28T05:21:43.394Z"
   },
   {
    "duration": 79,
    "start_time": "2022-02-28T05:21:43.418Z"
   },
   {
    "duration": 12,
    "start_time": "2022-02-28T05:21:43.499Z"
   },
   {
    "duration": 25,
    "start_time": "2022-02-28T05:21:43.514Z"
   },
   {
    "duration": 34,
    "start_time": "2022-02-28T05:21:43.541Z"
   },
   {
    "duration": 26,
    "start_time": "2022-02-28T05:21:43.577Z"
   },
   {
    "duration": 7,
    "start_time": "2022-02-28T05:21:43.608Z"
   },
   {
    "duration": 25,
    "start_time": "2022-02-28T05:21:43.619Z"
   },
   {
    "duration": 64,
    "start_time": "2022-02-28T05:21:43.646Z"
   },
   {
    "duration": 10,
    "start_time": "2022-02-28T05:21:43.713Z"
   },
   {
    "duration": 195,
    "start_time": "2022-02-28T05:21:43.726Z"
   },
   {
    "duration": 5,
    "start_time": "2022-02-28T05:21:43.923Z"
   },
   {
    "duration": 106,
    "start_time": "2022-02-28T05:21:43.930Z"
   },
   {
    "duration": 96,
    "start_time": "2022-02-28T05:21:44.038Z"
   },
   {
    "duration": 12,
    "start_time": "2022-02-28T05:21:44.136Z"
   },
   {
    "duration": 67,
    "start_time": "2022-02-28T05:21:44.150Z"
   },
   {
    "duration": 62,
    "start_time": "2022-02-28T05:21:44.219Z"
   },
   {
    "duration": 27,
    "start_time": "2022-02-28T05:21:44.283Z"
   },
   {
    "duration": 29,
    "start_time": "2022-02-28T05:21:44.313Z"
   },
   {
    "duration": 57,
    "start_time": "2022-02-28T05:21:44.344Z"
   },
   {
    "duration": 16,
    "start_time": "2022-02-28T05:21:44.403Z"
   },
   {
    "duration": 41,
    "start_time": "2022-02-28T05:21:44.422Z"
   },
   {
    "duration": 435,
    "start_time": "2022-02-28T05:21:44.465Z"
   },
   {
    "duration": -648,
    "start_time": "2022-02-28T05:21:45.550Z"
   },
   {
    "duration": -661,
    "start_time": "2022-02-28T05:21:45.564Z"
   },
   {
    "duration": -668,
    "start_time": "2022-02-28T05:21:45.573Z"
   },
   {
    "duration": -679,
    "start_time": "2022-02-28T05:21:45.585Z"
   },
   {
    "duration": -735,
    "start_time": "2022-02-28T05:21:45.642Z"
   },
   {
    "duration": -739,
    "start_time": "2022-02-28T05:21:45.648Z"
   },
   {
    "duration": -745,
    "start_time": "2022-02-28T05:21:45.655Z"
   },
   {
    "duration": -754,
    "start_time": "2022-02-28T05:21:45.666Z"
   },
   {
    "duration": -799,
    "start_time": "2022-02-28T05:21:45.712Z"
   },
   {
    "duration": -805,
    "start_time": "2022-02-28T05:21:45.720Z"
   },
   {
    "duration": -812,
    "start_time": "2022-02-28T05:21:45.728Z"
   },
   {
    "duration": -818,
    "start_time": "2022-02-28T05:21:45.735Z"
   },
   {
    "duration": -829,
    "start_time": "2022-02-28T05:21:45.748Z"
   },
   {
    "duration": -834,
    "start_time": "2022-02-28T05:21:45.755Z"
   },
   {
    "duration": -846,
    "start_time": "2022-02-28T05:21:45.768Z"
   },
   {
    "duration": -856,
    "start_time": "2022-02-28T05:21:45.780Z"
   },
   {
    "duration": -863,
    "start_time": "2022-02-28T05:21:45.788Z"
   },
   {
    "duration": -872,
    "start_time": "2022-02-28T05:21:45.799Z"
   },
   {
    "duration": -879,
    "start_time": "2022-02-28T05:21:45.807Z"
   },
   {
    "duration": -888,
    "start_time": "2022-02-28T05:21:45.818Z"
   },
   {
    "duration": -900,
    "start_time": "2022-02-28T05:21:45.831Z"
   },
   {
    "duration": -906,
    "start_time": "2022-02-28T05:21:45.838Z"
   },
   {
    "duration": -917,
    "start_time": "2022-02-28T05:21:45.851Z"
   },
   {
    "duration": -927,
    "start_time": "2022-02-28T05:21:45.862Z"
   },
   {
    "duration": -933,
    "start_time": "2022-02-28T05:21:45.870Z"
   },
   {
    "duration": -943,
    "start_time": "2022-02-28T05:21:45.881Z"
   },
   {
    "duration": -949,
    "start_time": "2022-02-28T05:21:45.889Z"
   },
   {
    "duration": -926,
    "start_time": "2022-02-28T05:21:45.899Z"
   },
   {
    "duration": -931,
    "start_time": "2022-02-28T05:21:45.906Z"
   },
   {
    "duration": -942,
    "start_time": "2022-02-28T05:21:45.918Z"
   },
   {
    "duration": -954,
    "start_time": "2022-02-28T05:21:45.931Z"
   },
   {
    "duration": -959,
    "start_time": "2022-02-28T05:21:45.938Z"
   },
   {
    "duration": -970,
    "start_time": "2022-02-28T05:21:45.950Z"
   },
   {
    "duration": 2032,
    "start_time": "2022-02-28T05:51:46.353Z"
   },
   {
    "duration": 20,
    "start_time": "2022-02-28T05:51:48.388Z"
   },
   {
    "duration": 32,
    "start_time": "2022-02-28T05:51:48.411Z"
   },
   {
    "duration": 68,
    "start_time": "2022-02-28T05:51:48.446Z"
   },
   {
    "duration": 58,
    "start_time": "2022-02-28T05:51:48.517Z"
   },
   {
    "duration": 13,
    "start_time": "2022-02-28T05:51:48.577Z"
   },
   {
    "duration": 149,
    "start_time": "2022-02-28T05:51:48.592Z"
   },
   {
    "duration": 14,
    "start_time": "2022-02-28T05:51:48.745Z"
   },
   {
    "duration": 34,
    "start_time": "2022-02-28T05:51:48.762Z"
   },
   {
    "duration": 31,
    "start_time": "2022-02-28T05:51:48.798Z"
   },
   {
    "duration": 60,
    "start_time": "2022-02-28T05:51:48.832Z"
   },
   {
    "duration": 23,
    "start_time": "2022-02-28T05:51:48.895Z"
   },
   {
    "duration": 146,
    "start_time": "2022-02-28T05:51:48.920Z"
   },
   {
    "duration": 15,
    "start_time": "2022-02-28T05:51:49.068Z"
   },
   {
    "duration": 21,
    "start_time": "2022-02-28T05:51:49.085Z"
   },
   {
    "duration": 25,
    "start_time": "2022-02-28T05:51:49.108Z"
   },
   {
    "duration": 50,
    "start_time": "2022-02-28T05:51:49.135Z"
   },
   {
    "duration": 61,
    "start_time": "2022-02-28T05:51:49.187Z"
   },
   {
    "duration": 32,
    "start_time": "2022-02-28T05:51:49.251Z"
   },
   {
    "duration": 12,
    "start_time": "2022-02-28T05:51:49.286Z"
   },
   {
    "duration": 17,
    "start_time": "2022-02-28T05:51:49.301Z"
   },
   {
    "duration": 52,
    "start_time": "2022-02-28T05:51:49.321Z"
   },
   {
    "duration": 7,
    "start_time": "2022-02-28T05:51:49.379Z"
   },
   {
    "duration": 16,
    "start_time": "2022-02-28T05:51:49.389Z"
   },
   {
    "duration": 10,
    "start_time": "2022-02-28T05:51:49.407Z"
   },
   {
    "duration": 208,
    "start_time": "2022-02-28T05:51:49.420Z"
   },
   {
    "duration": 5,
    "start_time": "2022-02-28T05:51:49.631Z"
   },
   {
    "duration": 113,
    "start_time": "2022-02-28T05:51:49.638Z"
   },
   {
    "duration": 106,
    "start_time": "2022-02-28T05:51:49.754Z"
   },
   {
    "duration": 20,
    "start_time": "2022-02-28T05:51:49.863Z"
   },
   {
    "duration": 53,
    "start_time": "2022-02-28T05:51:49.885Z"
   },
   {
    "duration": 69,
    "start_time": "2022-02-28T05:51:49.941Z"
   },
   {
    "duration": 25,
    "start_time": "2022-02-28T05:51:50.013Z"
   },
   {
    "duration": 48,
    "start_time": "2022-02-28T05:51:50.040Z"
   },
   {
    "duration": 29,
    "start_time": "2022-02-28T05:51:50.090Z"
   },
   {
    "duration": 15,
    "start_time": "2022-02-28T05:51:50.121Z"
   },
   {
    "duration": 44,
    "start_time": "2022-02-28T05:51:50.138Z"
   },
   {
    "duration": 409,
    "start_time": "2022-02-28T05:51:50.184Z"
   },
   {
    "duration": -664,
    "start_time": "2022-02-28T05:51:51.260Z"
   },
   {
    "duration": -677,
    "start_time": "2022-02-28T05:51:51.274Z"
   },
   {
    "duration": -690,
    "start_time": "2022-02-28T05:51:51.288Z"
   },
   {
    "duration": -700,
    "start_time": "2022-02-28T05:51:51.299Z"
   },
   {
    "duration": -750,
    "start_time": "2022-02-28T05:51:51.351Z"
   },
   {
    "duration": -756,
    "start_time": "2022-02-28T05:51:51.358Z"
   },
   {
    "duration": -767,
    "start_time": "2022-02-28T05:51:51.371Z"
   },
   {
    "duration": -773,
    "start_time": "2022-02-28T05:51:51.379Z"
   },
   {
    "duration": -783,
    "start_time": "2022-02-28T05:51:51.390Z"
   },
   {
    "duration": -794,
    "start_time": "2022-02-28T05:51:51.402Z"
   },
   {
    "duration": -799,
    "start_time": "2022-02-28T05:51:51.408Z"
   },
   {
    "duration": -835,
    "start_time": "2022-02-28T05:51:51.446Z"
   },
   {
    "duration": -846,
    "start_time": "2022-02-28T05:51:51.458Z"
   },
   {
    "duration": -857,
    "start_time": "2022-02-28T05:51:51.470Z"
   },
   {
    "duration": -865,
    "start_time": "2022-02-28T05:51:51.479Z"
   },
   {
    "duration": -877,
    "start_time": "2022-02-28T05:51:51.492Z"
   },
   {
    "duration": -890,
    "start_time": "2022-02-28T05:51:51.506Z"
   },
   {
    "duration": -896,
    "start_time": "2022-02-28T05:51:51.514Z"
   },
   {
    "duration": -907,
    "start_time": "2022-02-28T05:51:51.526Z"
   },
   {
    "duration": -918,
    "start_time": "2022-02-28T05:51:51.538Z"
   },
   {
    "duration": -927,
    "start_time": "2022-02-28T05:51:51.549Z"
   },
   {
    "duration": -935,
    "start_time": "2022-02-28T05:51:51.558Z"
   },
   {
    "duration": -946,
    "start_time": "2022-02-28T05:51:51.570Z"
   },
   {
    "duration": -951,
    "start_time": "2022-02-28T05:51:51.578Z"
   },
   {
    "duration": -962,
    "start_time": "2022-02-28T05:51:51.590Z"
   },
   {
    "duration": -969,
    "start_time": "2022-02-28T05:51:51.599Z"
   },
   {
    "duration": -979,
    "start_time": "2022-02-28T05:51:51.610Z"
   },
   {
    "duration": -989,
    "start_time": "2022-02-28T05:51:51.622Z"
   },
   {
    "duration": -996,
    "start_time": "2022-02-28T05:51:51.630Z"
   },
   {
    "duration": -1008,
    "start_time": "2022-02-28T05:51:51.642Z"
   },
   {
    "duration": -1019,
    "start_time": "2022-02-28T05:51:51.654Z"
   },
   {
    "duration": -988,
    "start_time": "2022-02-28T05:51:51.661Z"
   },
   {
    "duration": -997,
    "start_time": "2022-02-28T05:51:51.672Z"
   },
   {
    "duration": 373,
    "start_time": "2022-02-28T05:57:02.615Z"
   },
   {
    "duration": 332,
    "start_time": "2022-02-28T05:57:14.393Z"
   },
   {
    "duration": 286,
    "start_time": "2022-02-28T05:58:02.578Z"
   },
   {
    "duration": 25,
    "start_time": "2022-02-28T05:58:14.937Z"
   },
   {
    "duration": 31,
    "start_time": "2022-02-28T06:13:43.179Z"
   },
   {
    "duration": 24,
    "start_time": "2022-02-28T06:14:24.322Z"
   },
   {
    "duration": 24,
    "start_time": "2022-02-28T06:14:50.210Z"
   },
   {
    "duration": 377,
    "start_time": "2022-02-28T06:16:04.841Z"
   },
   {
    "duration": 12,
    "start_time": "2022-02-28T06:16:17.345Z"
   },
   {
    "duration": 11,
    "start_time": "2022-02-28T06:16:21.393Z"
   },
   {
    "duration": 6,
    "start_time": "2022-02-28T06:17:26.594Z"
   },
   {
    "duration": 7,
    "start_time": "2022-02-28T06:17:49.322Z"
   },
   {
    "duration": 6,
    "start_time": "2022-02-28T06:18:59.273Z"
   },
   {
    "duration": 5,
    "start_time": "2022-02-28T06:19:13.538Z"
   },
   {
    "duration": 5,
    "start_time": "2022-02-28T06:19:54.734Z"
   },
   {
    "duration": 7,
    "start_time": "2022-02-28T06:20:21.652Z"
   },
   {
    "duration": 621,
    "start_time": "2022-02-28T06:24:43.221Z"
   },
   {
    "duration": 448,
    "start_time": "2022-02-28T06:25:08.429Z"
   },
   {
    "duration": 6,
    "start_time": "2022-02-28T06:26:27.326Z"
   },
   {
    "duration": 7,
    "start_time": "2022-02-28T06:26:55.069Z"
   },
   {
    "duration": 7,
    "start_time": "2022-02-28T06:27:04.943Z"
   },
   {
    "duration": 5,
    "start_time": "2022-02-28T06:27:43.938Z"
   },
   {
    "duration": 7,
    "start_time": "2022-02-28T06:28:06.009Z"
   },
   {
    "duration": 639,
    "start_time": "2022-02-28T06:28:37.743Z"
   },
   {
    "duration": 706,
    "start_time": "2022-02-28T06:30:10.352Z"
   },
   {
    "duration": 642,
    "start_time": "2022-02-28T06:30:28.158Z"
   },
   {
    "duration": 631,
    "start_time": "2022-02-28T06:30:44.142Z"
   },
   {
    "duration": 6,
    "start_time": "2022-02-28T06:32:06.676Z"
   },
   {
    "duration": 7,
    "start_time": "2022-02-28T06:33:15.891Z"
   },
   {
    "duration": 5,
    "start_time": "2022-02-28T06:33:35.685Z"
   },
   {
    "duration": 7,
    "start_time": "2022-02-28T06:33:54.114Z"
   },
   {
    "duration": 614,
    "start_time": "2022-02-28T06:34:55.990Z"
   },
   {
    "duration": 658,
    "start_time": "2022-02-28T06:35:01.190Z"
   },
   {
    "duration": 5,
    "start_time": "2022-02-28T06:39:16.754Z"
   },
   {
    "duration": 6,
    "start_time": "2022-02-28T06:39:28.067Z"
   },
   {
    "duration": 6,
    "start_time": "2022-02-28T06:39:40.755Z"
   },
   {
    "duration": 8,
    "start_time": "2022-02-28T06:39:59.299Z"
   },
   {
    "duration": 21,
    "start_time": "2022-02-28T06:40:49.042Z"
   },
   {
    "duration": 11,
    "start_time": "2022-02-28T06:41:02.974Z"
   },
   {
    "duration": 27,
    "start_time": "2022-02-28T06:41:05.474Z"
   },
   {
    "duration": 26,
    "start_time": "2022-02-28T06:41:09.810Z"
   },
   {
    "duration": 7,
    "start_time": "2022-02-28T06:41:18.739Z"
   },
   {
    "duration": 6,
    "start_time": "2022-02-28T06:41:21.362Z"
   },
   {
    "duration": 8,
    "start_time": "2022-02-28T06:41:24.206Z"
   },
   {
    "duration": 1377,
    "start_time": "2022-02-28T17:13:14.134Z"
   },
   {
    "duration": 9,
    "start_time": "2022-02-28T17:13:15.513Z"
   },
   {
    "duration": 23,
    "start_time": "2022-02-28T17:13:15.524Z"
   },
   {
    "duration": 26,
    "start_time": "2022-02-28T17:13:15.548Z"
   },
   {
    "duration": 33,
    "start_time": "2022-02-28T17:13:15.575Z"
   },
   {
    "duration": 7,
    "start_time": "2022-02-28T17:13:15.610Z"
   },
   {
    "duration": 86,
    "start_time": "2022-02-28T17:13:15.619Z"
   },
   {
    "duration": 8,
    "start_time": "2022-02-28T17:13:15.707Z"
   },
   {
    "duration": 22,
    "start_time": "2022-02-28T17:13:15.717Z"
   },
   {
    "duration": 19,
    "start_time": "2022-02-28T17:13:15.740Z"
   },
   {
    "duration": 16,
    "start_time": "2022-02-28T17:13:15.760Z"
   },
   {
    "duration": 36,
    "start_time": "2022-02-28T17:13:15.777Z"
   },
   {
    "duration": 58,
    "start_time": "2022-02-28T17:13:15.814Z"
   },
   {
    "duration": 6,
    "start_time": "2022-02-28T17:13:15.874Z"
   },
   {
    "duration": 27,
    "start_time": "2022-02-28T17:13:15.882Z"
   },
   {
    "duration": 15,
    "start_time": "2022-02-28T17:13:15.910Z"
   },
   {
    "duration": 13,
    "start_time": "2022-02-28T17:13:15.926Z"
   },
   {
    "duration": 33,
    "start_time": "2022-02-28T17:13:15.941Z"
   },
   {
    "duration": 7,
    "start_time": "2022-02-28T17:13:15.975Z"
   },
   {
    "duration": 9,
    "start_time": "2022-02-28T17:13:15.984Z"
   },
   {
    "duration": 15,
    "start_time": "2022-02-28T17:13:15.994Z"
   },
   {
    "duration": 12,
    "start_time": "2022-02-28T17:13:16.010Z"
   },
   {
    "duration": 5,
    "start_time": "2022-02-28T17:13:16.025Z"
   },
   {
    "duration": 11,
    "start_time": "2022-02-28T17:13:16.031Z"
   },
   {
    "duration": 6,
    "start_time": "2022-02-28T17:13:16.044Z"
   },
   {
    "duration": 98,
    "start_time": "2022-02-28T17:13:16.052Z"
   },
   {
    "duration": 4,
    "start_time": "2022-02-28T17:13:16.151Z"
   },
   {
    "duration": 53,
    "start_time": "2022-02-28T17:13:16.156Z"
   },
   {
    "duration": 52,
    "start_time": "2022-02-28T17:13:17.358Z"
   },
   {
    "duration": 51,
    "start_time": "2022-02-28T17:13:34.054Z"
   },
   {
    "duration": 45,
    "start_time": "2022-02-28T17:14:50.710Z"
   },
   {
    "duration": 49,
    "start_time": "2022-02-28T17:14:52.850Z"
   },
   {
    "duration": 360,
    "start_time": "2022-02-28T17:16:07.669Z"
   },
   {
    "duration": 7,
    "start_time": "2022-02-28T17:16:08.030Z"
   },
   {
    "duration": 23,
    "start_time": "2022-02-28T17:16:08.039Z"
   },
   {
    "duration": 24,
    "start_time": "2022-02-28T17:16:08.063Z"
   },
   {
    "duration": 25,
    "start_time": "2022-02-28T17:16:08.088Z"
   },
   {
    "duration": 6,
    "start_time": "2022-02-28T17:16:08.114Z"
   },
   {
    "duration": 66,
    "start_time": "2022-02-28T17:16:08.122Z"
   },
   {
    "duration": 16,
    "start_time": "2022-02-28T17:16:08.190Z"
   },
   {
    "duration": 30,
    "start_time": "2022-02-28T17:16:08.208Z"
   },
   {
    "duration": 17,
    "start_time": "2022-02-28T17:16:08.239Z"
   },
   {
    "duration": 15,
    "start_time": "2022-02-28T17:16:08.258Z"
   },
   {
    "duration": 9,
    "start_time": "2022-02-28T17:16:08.274Z"
   },
   {
    "duration": 60,
    "start_time": "2022-02-28T17:16:08.285Z"
   },
   {
    "duration": 7,
    "start_time": "2022-02-28T17:16:08.347Z"
   },
   {
    "duration": 20,
    "start_time": "2022-02-28T17:16:08.355Z"
   },
   {
    "duration": 22,
    "start_time": "2022-02-28T17:16:08.376Z"
   },
   {
    "duration": 17,
    "start_time": "2022-02-28T17:16:08.399Z"
   },
   {
    "duration": 47,
    "start_time": "2022-02-28T17:16:08.417Z"
   },
   {
    "duration": 7,
    "start_time": "2022-02-28T17:16:08.466Z"
   },
   {
    "duration": 9,
    "start_time": "2022-02-28T17:16:08.474Z"
   },
   {
    "duration": 10,
    "start_time": "2022-02-28T17:16:08.485Z"
   },
   {
    "duration": 13,
    "start_time": "2022-02-28T17:16:08.496Z"
   },
   {
    "duration": 6,
    "start_time": "2022-02-28T17:16:08.512Z"
   },
   {
    "duration": 9,
    "start_time": "2022-02-28T17:16:08.519Z"
   },
   {
    "duration": 5,
    "start_time": "2022-02-28T17:16:08.529Z"
   },
   {
    "duration": 109,
    "start_time": "2022-02-28T17:16:08.536Z"
   },
   {
    "duration": 4,
    "start_time": "2022-02-28T17:16:08.647Z"
   },
   {
    "duration": 54,
    "start_time": "2022-02-28T17:16:08.652Z"
   },
   {
    "duration": 36,
    "start_time": "2022-02-28T17:16:08.708Z"
   },
   {
    "duration": 36,
    "start_time": "2022-02-28T17:16:08.746Z"
   },
   {
    "duration": 24,
    "start_time": "2022-02-28T17:16:08.784Z"
   },
   {
    "duration": 25,
    "start_time": "2022-02-28T17:16:08.809Z"
   },
   {
    "duration": 22,
    "start_time": "2022-02-28T17:16:08.836Z"
   },
   {
    "duration": 45,
    "start_time": "2022-02-28T17:16:08.860Z"
   },
   {
    "duration": 15,
    "start_time": "2022-02-28T17:16:08.906Z"
   },
   {
    "duration": 15,
    "start_time": "2022-02-28T17:16:08.922Z"
   },
   {
    "duration": 9,
    "start_time": "2022-02-28T17:16:08.938Z"
   },
   {
    "duration": 12,
    "start_time": "2022-02-28T17:16:08.949Z"
   },
   {
    "duration": 44,
    "start_time": "2022-02-28T17:16:08.962Z"
   },
   {
    "duration": 14,
    "start_time": "2022-02-28T17:16:17.508Z"
   },
   {
    "duration": 383,
    "start_time": "2022-02-28T17:17:28.203Z"
   },
   {
    "duration": 7,
    "start_time": "2022-02-28T17:17:28.588Z"
   },
   {
    "duration": 19,
    "start_time": "2022-02-28T17:17:28.597Z"
   },
   {
    "duration": 25,
    "start_time": "2022-02-28T17:17:28.618Z"
   },
   {
    "duration": 25,
    "start_time": "2022-02-28T17:17:28.644Z"
   },
   {
    "duration": 5,
    "start_time": "2022-02-28T17:17:28.671Z"
   },
   {
    "duration": 86,
    "start_time": "2022-02-28T17:17:28.677Z"
   },
   {
    "duration": 8,
    "start_time": "2022-02-28T17:17:28.765Z"
   },
   {
    "duration": 30,
    "start_time": "2022-02-28T17:17:28.775Z"
   },
   {
    "duration": 18,
    "start_time": "2022-02-28T17:17:28.806Z"
   },
   {
    "duration": 19,
    "start_time": "2022-02-28T17:17:28.825Z"
   },
   {
    "duration": 11,
    "start_time": "2022-02-28T17:17:28.845Z"
   },
   {
    "duration": 75,
    "start_time": "2022-02-28T17:17:28.857Z"
   },
   {
    "duration": 6,
    "start_time": "2022-02-28T17:17:28.933Z"
   },
   {
    "duration": 16,
    "start_time": "2022-02-28T17:17:28.941Z"
   },
   {
    "duration": 15,
    "start_time": "2022-02-28T17:17:28.958Z"
   },
   {
    "duration": 31,
    "start_time": "2022-02-28T17:17:28.974Z"
   },
   {
    "duration": 32,
    "start_time": "2022-02-28T17:17:29.006Z"
   },
   {
    "duration": 6,
    "start_time": "2022-02-28T17:17:29.040Z"
   },
   {
    "duration": 10,
    "start_time": "2022-02-28T17:17:29.047Z"
   },
   {
    "duration": 14,
    "start_time": "2022-02-28T17:17:29.059Z"
   },
   {
    "duration": 7,
    "start_time": "2022-02-28T17:17:29.074Z"
   },
   {
    "duration": 4,
    "start_time": "2022-02-28T17:17:29.106Z"
   },
   {
    "duration": 10,
    "start_time": "2022-02-28T17:17:29.113Z"
   },
   {
    "duration": 8,
    "start_time": "2022-02-28T17:17:29.125Z"
   },
   {
    "duration": 132,
    "start_time": "2022-02-28T17:17:29.134Z"
   },
   {
    "duration": 3,
    "start_time": "2022-02-28T17:17:29.267Z"
   },
   {
    "duration": 69,
    "start_time": "2022-02-28T17:17:29.272Z"
   },
   {
    "duration": 94,
    "start_time": "2022-02-28T17:17:29.342Z"
   },
   {
    "duration": 116,
    "start_time": "2022-02-28T17:17:29.438Z"
   },
   {
    "duration": 58,
    "start_time": "2022-02-28T17:17:29.556Z"
   },
   {
    "duration": 90,
    "start_time": "2022-02-28T17:17:29.616Z"
   },
   {
    "duration": 34,
    "start_time": "2022-02-28T17:17:29.708Z"
   },
   {
    "duration": 21,
    "start_time": "2022-02-28T17:17:29.744Z"
   },
   {
    "duration": 46,
    "start_time": "2022-02-28T17:17:29.767Z"
   },
   {
    "duration": 23,
    "start_time": "2022-02-28T17:17:29.815Z"
   },
   {
    "duration": 11,
    "start_time": "2022-02-28T17:17:29.839Z"
   },
   {
    "duration": 16,
    "start_time": "2022-02-28T17:17:29.852Z"
   },
   {
    "duration": 44,
    "start_time": "2022-02-28T17:17:29.870Z"
   },
   {
    "duration": 12,
    "start_time": "2022-02-28T17:17:29.915Z"
   },
   {
    "duration": 12,
    "start_time": "2022-02-28T17:17:29.928Z"
   },
   {
    "duration": 223,
    "start_time": "2022-02-28T17:17:29.941Z"
   },
   {
    "duration": 6,
    "start_time": "2022-02-28T17:17:30.165Z"
   },
   {
    "duration": 11,
    "start_time": "2022-02-28T17:17:30.173Z"
   },
   {
    "duration": 20,
    "start_time": "2022-02-28T17:17:30.185Z"
   },
   {
    "duration": 4,
    "start_time": "2022-02-28T17:17:30.206Z"
   },
   {
    "duration": 8,
    "start_time": "2022-02-28T17:17:30.211Z"
   },
   {
    "duration": 6,
    "start_time": "2022-02-28T17:17:30.221Z"
   },
   {
    "duration": 238,
    "start_time": "2022-02-28T17:17:30.229Z"
   },
   {
    "duration": 420,
    "start_time": "2022-02-28T17:17:30.469Z"
   },
   {
    "duration": 4,
    "start_time": "2022-02-28T17:17:30.891Z"
   },
   {
    "duration": 8,
    "start_time": "2022-02-28T17:17:30.905Z"
   },
   {
    "duration": 7,
    "start_time": "2022-02-28T17:17:30.915Z"
   },
   {
    "duration": 15,
    "start_time": "2022-02-28T17:17:30.923Z"
   },
   {
    "duration": 376,
    "start_time": "2022-02-28T17:17:30.940Z"
   },
   {
    "duration": 3,
    "start_time": "2022-02-28T17:17:31.318Z"
   },
   {
    "duration": 11,
    "start_time": "2022-02-28T17:17:31.323Z"
   },
   {
    "duration": 13,
    "start_time": "2022-02-28T17:17:31.336Z"
   },
   {
    "duration": 7,
    "start_time": "2022-02-28T17:17:31.351Z"
   },
   {
    "duration": 345,
    "start_time": "2022-02-28T17:17:31.360Z"
   },
   {
    "duration": 3,
    "start_time": "2022-02-28T17:17:31.707Z"
   },
   {
    "duration": 17,
    "start_time": "2022-02-28T17:17:31.712Z"
   },
   {
    "duration": 28,
    "start_time": "2022-02-28T17:17:31.731Z"
   },
   {
    "duration": 16,
    "start_time": "2022-02-28T17:17:31.760Z"
   },
   {
    "duration": 21,
    "start_time": "2022-02-28T17:17:31.777Z"
   },
   {
    "duration": 20,
    "start_time": "2022-02-28T17:17:31.800Z"
   },
   {
    "duration": 30,
    "start_time": "2022-02-28T17:17:31.822Z"
   },
   {
    "duration": 27,
    "start_time": "2022-02-28T17:17:31.856Z"
   },
   {
    "duration": 27,
    "start_time": "2022-02-28T17:17:31.885Z"
   },
   {
    "duration": 15,
    "start_time": "2022-02-28T17:17:31.914Z"
   },
   {
    "duration": 32,
    "start_time": "2022-02-28T17:17:31.930Z"
   },
   {
    "duration": 20,
    "start_time": "2022-02-28T17:17:41.104Z"
   },
   {
    "duration": 6,
    "start_time": "2022-02-28T17:20:00.200Z"
   },
   {
    "duration": 4,
    "start_time": "2022-02-28T17:20:25.426Z"
   },
   {
    "duration": 20,
    "start_time": "2022-02-28T17:22:38.570Z"
   },
   {
    "duration": 1560,
    "start_time": "2022-05-17T08:30:37.592Z"
   },
   {
    "duration": 16,
    "start_time": "2022-05-17T08:30:39.154Z"
   },
   {
    "duration": 40,
    "start_time": "2022-05-17T08:30:39.172Z"
   },
   {
    "duration": 34,
    "start_time": "2022-05-17T08:30:39.215Z"
   },
   {
    "duration": 48,
    "start_time": "2022-05-17T08:30:39.251Z"
   },
   {
    "duration": 10,
    "start_time": "2022-05-17T08:30:39.301Z"
   },
   {
    "duration": 121,
    "start_time": "2022-05-17T08:30:39.312Z"
   },
   {
    "duration": 9,
    "start_time": "2022-05-17T08:30:39.435Z"
   },
   {
    "duration": 25,
    "start_time": "2022-05-17T08:30:39.445Z"
   },
   {
    "duration": 21,
    "start_time": "2022-05-17T08:30:39.489Z"
   },
   {
    "duration": 16,
    "start_time": "2022-05-17T08:30:39.512Z"
   },
   {
    "duration": 13,
    "start_time": "2022-05-17T08:30:39.530Z"
   },
   {
    "duration": 96,
    "start_time": "2022-05-17T08:30:39.544Z"
   },
   {
    "duration": 8,
    "start_time": "2022-05-17T08:30:39.641Z"
   },
   {
    "duration": 22,
    "start_time": "2022-05-17T08:30:39.650Z"
   },
   {
    "duration": 17,
    "start_time": "2022-05-17T08:30:39.688Z"
   },
   {
    "duration": 14,
    "start_time": "2022-05-17T08:30:39.707Z"
   },
   {
    "duration": 43,
    "start_time": "2022-05-17T08:30:39.722Z"
   },
   {
    "duration": 26,
    "start_time": "2022-05-17T08:30:39.767Z"
   },
   {
    "duration": 10,
    "start_time": "2022-05-17T08:30:39.795Z"
   },
   {
    "duration": 13,
    "start_time": "2022-05-17T08:30:39.807Z"
   },
   {
    "duration": 16,
    "start_time": "2022-05-17T08:30:39.822Z"
   },
   {
    "duration": 12,
    "start_time": "2022-05-17T08:30:39.839Z"
   },
   {
    "duration": 18,
    "start_time": "2022-05-17T08:30:39.852Z"
   },
   {
    "duration": 18,
    "start_time": "2022-05-17T08:30:39.871Z"
   },
   {
    "duration": 100,
    "start_time": "2022-05-17T08:30:39.890Z"
   },
   {
    "duration": 4,
    "start_time": "2022-05-17T08:30:39.992Z"
   },
   {
    "duration": 65,
    "start_time": "2022-05-17T08:30:40.000Z"
   },
   {
    "duration": 77,
    "start_time": "2022-05-17T08:30:40.067Z"
   },
   {
    "duration": 26,
    "start_time": "2022-05-17T08:30:40.146Z"
   },
   {
    "duration": 52,
    "start_time": "2022-05-17T08:30:40.188Z"
   },
   {
    "duration": 7,
    "start_time": "2022-05-17T08:30:40.242Z"
   },
   {
    "duration": 52,
    "start_time": "2022-05-17T08:30:40.250Z"
   },
   {
    "duration": 29,
    "start_time": "2022-05-17T08:30:40.303Z"
   },
   {
    "duration": 15,
    "start_time": "2022-05-17T08:30:40.333Z"
   },
   {
    "duration": 41,
    "start_time": "2022-05-17T08:30:40.349Z"
   },
   {
    "duration": 17,
    "start_time": "2022-05-17T08:30:40.392Z"
   },
   {
    "duration": 9,
    "start_time": "2022-05-17T08:30:40.411Z"
   },
   {
    "duration": 16,
    "start_time": "2022-05-17T08:30:40.422Z"
   },
   {
    "duration": 16,
    "start_time": "2022-05-17T08:30:40.439Z"
   },
   {
    "duration": 38,
    "start_time": "2022-05-17T08:30:40.456Z"
   },
   {
    "duration": 14,
    "start_time": "2022-05-17T08:30:40.496Z"
   },
   {
    "duration": 131,
    "start_time": "2022-05-17T08:30:40.511Z"
   },
   {
    "duration": 8,
    "start_time": "2022-05-17T08:30:40.644Z"
   },
   {
    "duration": 9,
    "start_time": "2022-05-17T08:30:40.653Z"
   },
   {
    "duration": 4,
    "start_time": "2022-05-17T08:30:40.663Z"
   },
   {
    "duration": 20,
    "start_time": "2022-05-17T08:30:40.669Z"
   },
   {
    "duration": 5,
    "start_time": "2022-05-17T08:30:40.691Z"
   },
   {
    "duration": 6,
    "start_time": "2022-05-17T08:30:40.698Z"
   },
   {
    "duration": 279,
    "start_time": "2022-05-17T08:30:40.705Z"
   },
   {
    "duration": 0,
    "start_time": "2022-05-17T08:30:40.988Z"
   },
   {
    "duration": 0,
    "start_time": "2022-05-17T08:30:40.989Z"
   },
   {
    "duration": 0,
    "start_time": "2022-05-17T08:30:40.990Z"
   },
   {
    "duration": 0,
    "start_time": "2022-05-17T08:30:40.991Z"
   },
   {
    "duration": 0,
    "start_time": "2022-05-17T08:30:40.992Z"
   },
   {
    "duration": 0,
    "start_time": "2022-05-17T08:30:40.993Z"
   },
   {
    "duration": 0,
    "start_time": "2022-05-17T08:30:40.994Z"
   },
   {
    "duration": 0,
    "start_time": "2022-05-17T08:30:40.995Z"
   },
   {
    "duration": 0,
    "start_time": "2022-05-17T08:30:40.996Z"
   },
   {
    "duration": 0,
    "start_time": "2022-05-17T08:30:40.997Z"
   },
   {
    "duration": 0,
    "start_time": "2022-05-17T08:30:40.998Z"
   },
   {
    "duration": 0,
    "start_time": "2022-05-17T08:30:40.999Z"
   },
   {
    "duration": 0,
    "start_time": "2022-05-17T08:30:41.000Z"
   },
   {
    "duration": 0,
    "start_time": "2022-05-17T08:30:41.001Z"
   },
   {
    "duration": 0,
    "start_time": "2022-05-17T08:30:41.002Z"
   },
   {
    "duration": 0,
    "start_time": "2022-05-17T08:30:41.003Z"
   },
   {
    "duration": 0,
    "start_time": "2022-05-17T08:30:41.004Z"
   },
   {
    "duration": 0,
    "start_time": "2022-05-17T08:30:41.005Z"
   },
   {
    "duration": 0,
    "start_time": "2022-05-17T08:30:41.006Z"
   },
   {
    "duration": 0,
    "start_time": "2022-05-17T08:30:41.007Z"
   },
   {
    "duration": 0,
    "start_time": "2022-05-17T08:30:41.008Z"
   },
   {
    "duration": 0,
    "start_time": "2022-05-17T08:30:41.009Z"
   },
   {
    "duration": 16,
    "start_time": "2022-05-17T08:38:17.999Z"
   },
   {
    "duration": 169,
    "start_time": "2022-05-17T08:38:34.403Z"
   },
   {
    "duration": 1501,
    "start_time": "2022-05-17T08:39:36.436Z"
   },
   {
    "duration": 12,
    "start_time": "2022-05-17T08:39:37.939Z"
   },
   {
    "duration": 37,
    "start_time": "2022-05-17T08:39:37.953Z"
   },
   {
    "duration": 32,
    "start_time": "2022-05-17T08:39:37.993Z"
   },
   {
    "duration": 28,
    "start_time": "2022-05-17T08:39:38.027Z"
   },
   {
    "duration": 9,
    "start_time": "2022-05-17T08:39:38.057Z"
   },
   {
    "duration": 113,
    "start_time": "2022-05-17T08:39:38.068Z"
   },
   {
    "duration": 9,
    "start_time": "2022-05-17T08:39:38.188Z"
   },
   {
    "duration": 29,
    "start_time": "2022-05-17T08:39:38.199Z"
   },
   {
    "duration": 22,
    "start_time": "2022-05-17T08:39:38.230Z"
   },
   {
    "duration": 37,
    "start_time": "2022-05-17T08:39:38.254Z"
   },
   {
    "duration": 14,
    "start_time": "2022-05-17T08:39:38.293Z"
   },
   {
    "duration": 85,
    "start_time": "2022-05-17T08:39:38.308Z"
   },
   {
    "duration": 8,
    "start_time": "2022-05-17T08:39:38.394Z"
   },
   {
    "duration": 25,
    "start_time": "2022-05-17T08:39:38.403Z"
   },
   {
    "duration": 19,
    "start_time": "2022-05-17T08:39:38.429Z"
   },
   {
    "duration": 16,
    "start_time": "2022-05-17T08:39:38.449Z"
   },
   {
    "duration": 64,
    "start_time": "2022-05-17T08:39:38.467Z"
   },
   {
    "duration": 8,
    "start_time": "2022-05-17T08:39:38.533Z"
   },
   {
    "duration": 13,
    "start_time": "2022-05-17T08:39:38.542Z"
   },
   {
    "duration": 13,
    "start_time": "2022-05-17T08:39:38.556Z"
   },
   {
    "duration": 25,
    "start_time": "2022-05-17T08:39:38.570Z"
   },
   {
    "duration": 5,
    "start_time": "2022-05-17T08:39:38.597Z"
   },
   {
    "duration": 12,
    "start_time": "2022-05-17T08:39:38.604Z"
   },
   {
    "duration": 8,
    "start_time": "2022-05-17T08:39:38.618Z"
   },
   {
    "duration": 109,
    "start_time": "2022-05-17T08:39:38.627Z"
   },
   {
    "duration": 5,
    "start_time": "2022-05-17T08:39:38.737Z"
   },
   {
    "duration": 81,
    "start_time": "2022-05-17T08:39:38.746Z"
   },
   {
    "duration": 72,
    "start_time": "2022-05-17T08:39:38.829Z"
   },
   {
    "duration": 29,
    "start_time": "2022-05-17T08:39:38.903Z"
   },
   {
    "duration": 71,
    "start_time": "2022-05-17T08:39:38.934Z"
   },
   {
    "duration": 8,
    "start_time": "2022-05-17T08:39:39.007Z"
   },
   {
    "duration": 34,
    "start_time": "2022-05-17T08:39:39.016Z"
   },
   {
    "duration": 52,
    "start_time": "2022-05-17T08:39:39.052Z"
   },
   {
    "duration": 17,
    "start_time": "2022-05-17T08:39:39.106Z"
   },
   {
    "duration": 18,
    "start_time": "2022-05-17T08:39:39.125Z"
   },
   {
    "duration": 49,
    "start_time": "2022-05-17T08:39:39.145Z"
   },
   {
    "duration": 11,
    "start_time": "2022-05-17T08:39:39.197Z"
   },
   {
    "duration": 18,
    "start_time": "2022-05-17T08:39:39.211Z"
   },
   {
    "duration": 18,
    "start_time": "2022-05-17T08:39:39.231Z"
   },
   {
    "duration": 44,
    "start_time": "2022-05-17T08:39:39.251Z"
   },
   {
    "duration": 15,
    "start_time": "2022-05-17T08:39:39.297Z"
   },
   {
    "duration": 128,
    "start_time": "2022-05-17T08:39:39.314Z"
   },
   {
    "duration": 8,
    "start_time": "2022-05-17T08:39:39.444Z"
   },
   {
    "duration": 7,
    "start_time": "2022-05-17T08:39:39.453Z"
   },
   {
    "duration": 6,
    "start_time": "2022-05-17T08:39:39.462Z"
   },
   {
    "duration": 5,
    "start_time": "2022-05-17T08:39:39.487Z"
   },
   {
    "duration": 9,
    "start_time": "2022-05-17T08:39:39.494Z"
   },
   {
    "duration": 7,
    "start_time": "2022-05-17T08:39:39.504Z"
   },
   {
    "duration": 284,
    "start_time": "2022-05-17T08:39:39.512Z"
   },
   {
    "duration": 0,
    "start_time": "2022-05-17T08:39:39.798Z"
   },
   {
    "duration": 0,
    "start_time": "2022-05-17T08:39:39.799Z"
   },
   {
    "duration": 0,
    "start_time": "2022-05-17T08:39:39.800Z"
   },
   {
    "duration": 0,
    "start_time": "2022-05-17T08:39:39.801Z"
   },
   {
    "duration": 0,
    "start_time": "2022-05-17T08:39:39.802Z"
   },
   {
    "duration": 0,
    "start_time": "2022-05-17T08:39:39.803Z"
   },
   {
    "duration": 0,
    "start_time": "2022-05-17T08:39:39.804Z"
   },
   {
    "duration": 0,
    "start_time": "2022-05-17T08:39:39.804Z"
   },
   {
    "duration": 0,
    "start_time": "2022-05-17T08:39:39.805Z"
   },
   {
    "duration": 0,
    "start_time": "2022-05-17T08:39:39.806Z"
   },
   {
    "duration": 0,
    "start_time": "2022-05-17T08:39:39.807Z"
   },
   {
    "duration": 0,
    "start_time": "2022-05-17T08:39:39.808Z"
   },
   {
    "duration": 0,
    "start_time": "2022-05-17T08:39:39.809Z"
   },
   {
    "duration": 0,
    "start_time": "2022-05-17T08:39:39.809Z"
   },
   {
    "duration": 0,
    "start_time": "2022-05-17T08:39:39.810Z"
   },
   {
    "duration": 0,
    "start_time": "2022-05-17T08:39:39.811Z"
   },
   {
    "duration": 0,
    "start_time": "2022-05-17T08:39:39.812Z"
   },
   {
    "duration": 0,
    "start_time": "2022-05-17T08:39:39.813Z"
   },
   {
    "duration": 0,
    "start_time": "2022-05-17T08:39:39.814Z"
   },
   {
    "duration": 0,
    "start_time": "2022-05-17T08:39:39.815Z"
   },
   {
    "duration": 0,
    "start_time": "2022-05-17T08:39:39.816Z"
   },
   {
    "duration": 0,
    "start_time": "2022-05-17T08:39:39.817Z"
   },
   {
    "duration": 170,
    "start_time": "2022-05-17T08:41:15.984Z"
   },
   {
    "duration": 186,
    "start_time": "2022-05-17T08:41:25.880Z"
   },
   {
    "duration": 190,
    "start_time": "2022-05-17T08:41:40.264Z"
   },
   {
    "duration": 1583,
    "start_time": "2022-05-17T08:41:45.371Z"
   },
   {
    "duration": 13,
    "start_time": "2022-05-17T08:41:46.956Z"
   },
   {
    "duration": 26,
    "start_time": "2022-05-17T08:41:46.970Z"
   },
   {
    "duration": 32,
    "start_time": "2022-05-17T08:41:46.998Z"
   },
   {
    "duration": 28,
    "start_time": "2022-05-17T08:41:47.032Z"
   },
   {
    "duration": 26,
    "start_time": "2022-05-17T08:41:47.062Z"
   },
   {
    "duration": 112,
    "start_time": "2022-05-17T08:41:47.090Z"
   },
   {
    "duration": 9,
    "start_time": "2022-05-17T08:41:47.204Z"
   },
   {
    "duration": 25,
    "start_time": "2022-05-17T08:41:47.214Z"
   },
   {
    "duration": 22,
    "start_time": "2022-05-17T08:41:47.243Z"
   },
   {
    "duration": 34,
    "start_time": "2022-05-17T08:41:47.267Z"
   },
   {
    "duration": 15,
    "start_time": "2022-05-17T08:41:47.303Z"
   },
   {
    "duration": 101,
    "start_time": "2022-05-17T08:41:47.321Z"
   },
   {
    "duration": 8,
    "start_time": "2022-05-17T08:41:47.424Z"
   },
   {
    "duration": 19,
    "start_time": "2022-05-17T08:41:47.434Z"
   },
   {
    "duration": 40,
    "start_time": "2022-05-17T08:41:47.456Z"
   },
   {
    "duration": 15,
    "start_time": "2022-05-17T08:41:47.498Z"
   },
   {
    "duration": 50,
    "start_time": "2022-05-17T08:41:47.515Z"
   },
   {
    "duration": 10,
    "start_time": "2022-05-17T08:41:47.587Z"
   },
   {
    "duration": 15,
    "start_time": "2022-05-17T08:41:47.598Z"
   },
   {
    "duration": 12,
    "start_time": "2022-05-17T08:41:47.614Z"
   },
   {
    "duration": 15,
    "start_time": "2022-05-17T08:41:47.627Z"
   },
   {
    "duration": 5,
    "start_time": "2022-05-17T08:41:47.643Z"
   },
   {
    "duration": 19,
    "start_time": "2022-05-17T08:41:47.650Z"
   },
   {
    "duration": 7,
    "start_time": "2022-05-17T08:41:47.688Z"
   },
   {
    "duration": 103,
    "start_time": "2022-05-17T08:41:47.697Z"
   },
   {
    "duration": 4,
    "start_time": "2022-05-17T08:41:47.802Z"
   },
   {
    "duration": 79,
    "start_time": "2022-05-17T08:41:47.810Z"
   },
   {
    "duration": 59,
    "start_time": "2022-05-17T08:41:47.890Z"
   },
   {
    "duration": 40,
    "start_time": "2022-05-17T08:41:47.951Z"
   },
   {
    "duration": 53,
    "start_time": "2022-05-17T08:41:47.993Z"
   },
   {
    "duration": 7,
    "start_time": "2022-05-17T08:41:48.048Z"
   },
   {
    "duration": 57,
    "start_time": "2022-05-17T08:41:48.057Z"
   },
   {
    "duration": 31,
    "start_time": "2022-05-17T08:41:48.115Z"
   },
   {
    "duration": 16,
    "start_time": "2022-05-17T08:41:48.148Z"
   },
   {
    "duration": 33,
    "start_time": "2022-05-17T08:41:48.165Z"
   },
   {
    "duration": 18,
    "start_time": "2022-05-17T08:41:48.200Z"
   },
   {
    "duration": 11,
    "start_time": "2022-05-17T08:41:48.220Z"
   },
   {
    "duration": 19,
    "start_time": "2022-05-17T08:41:48.232Z"
   },
   {
    "duration": 41,
    "start_time": "2022-05-17T08:41:48.253Z"
   },
   {
    "duration": 14,
    "start_time": "2022-05-17T08:41:48.297Z"
   },
   {
    "duration": 17,
    "start_time": "2022-05-17T08:41:48.314Z"
   },
   {
    "duration": 141,
    "start_time": "2022-05-17T08:41:48.333Z"
   },
   {
    "duration": 15,
    "start_time": "2022-05-17T08:41:48.476Z"
   },
   {
    "duration": 9,
    "start_time": "2022-05-17T08:41:48.493Z"
   },
   {
    "duration": 5,
    "start_time": "2022-05-17T08:41:48.504Z"
   },
   {
    "duration": 8,
    "start_time": "2022-05-17T08:41:48.510Z"
   },
   {
    "duration": 8,
    "start_time": "2022-05-17T08:41:48.520Z"
   },
   {
    "duration": 10,
    "start_time": "2022-05-17T08:41:48.529Z"
   },
   {
    "duration": 222,
    "start_time": "2022-05-17T08:41:48.541Z"
   },
   {
    "duration": 4,
    "start_time": "2022-05-17T08:41:48.765Z"
   },
   {
    "duration": 20,
    "start_time": "2022-05-17T08:41:48.771Z"
   },
   {
    "duration": 7,
    "start_time": "2022-05-17T08:41:48.792Z"
   },
   {
    "duration": 7,
    "start_time": "2022-05-17T08:41:48.801Z"
   },
   {
    "duration": 260,
    "start_time": "2022-05-17T08:41:48.809Z"
   },
   {
    "duration": 4,
    "start_time": "2022-05-17T08:41:49.071Z"
   },
   {
    "duration": 15,
    "start_time": "2022-05-17T08:41:49.077Z"
   },
   {
    "duration": 7,
    "start_time": "2022-05-17T08:41:49.094Z"
   },
   {
    "duration": 7,
    "start_time": "2022-05-17T08:41:49.103Z"
   },
   {
    "duration": 263,
    "start_time": "2022-05-17T08:41:49.111Z"
   },
   {
    "duration": 4,
    "start_time": "2022-05-17T08:41:49.376Z"
   },
   {
    "duration": 3,
    "start_time": "2022-05-17T08:41:49.389Z"
   },
   {
    "duration": 9,
    "start_time": "2022-05-17T08:41:49.394Z"
   },
   {
    "duration": 6,
    "start_time": "2022-05-17T08:41:49.404Z"
   },
   {
    "duration": 8,
    "start_time": "2022-05-17T08:41:49.411Z"
   },
   {
    "duration": 18,
    "start_time": "2022-05-17T08:41:49.421Z"
   },
   {
    "duration": 7,
    "start_time": "2022-05-17T08:41:49.441Z"
   },
   {
    "duration": 41,
    "start_time": "2022-05-17T08:41:49.450Z"
   },
   {
    "duration": 18,
    "start_time": "2022-05-17T08:41:49.492Z"
   },
   {
    "duration": 7,
    "start_time": "2022-05-17T08:41:49.512Z"
   },
   {
    "duration": 5,
    "start_time": "2022-05-17T08:41:49.521Z"
   },
   {
    "duration": 6,
    "start_time": "2022-05-17T08:41:49.528Z"
   }
  ],
  "celltoolbar": "Необработанный формат ячейки",
  "kernelspec": {
   "display_name": "Python 3 (ipykernel)",
   "language": "python",
   "name": "python3"
  },
  "language_info": {
   "codemirror_mode": {
    "name": "ipython",
    "version": 3
   },
   "file_extension": ".py",
   "mimetype": "text/x-python",
   "name": "python",
   "nbconvert_exporter": "python",
   "pygments_lexer": "ipython3",
   "version": "3.9.7"
  },
  "toc": {
   "base_numbering": 1,
   "nav_menu": {},
   "number_sections": true,
   "sideBar": true,
   "skip_h1_title": true,
   "title_cell": "Table of Contents",
   "title_sidebar": "Contents",
   "toc_cell": false,
   "toc_position": {
    "height": "470px",
    "left": "22px",
    "top": "222.143px",
    "width": "273px"
   },
   "toc_section_display": true,
   "toc_window_display": true
  },
  "widgets": {
   "application/vnd.jupyter.widget-state+json": {
    "state": {},
    "version_major": 2,
    "version_minor": 0
   }
  }
 },
 "nbformat": 4,
 "nbformat_minor": 2
}
