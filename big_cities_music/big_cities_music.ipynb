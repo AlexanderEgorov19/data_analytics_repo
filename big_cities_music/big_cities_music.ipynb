{
 "cells": [
  {
   "cell_type": "markdown",
   "metadata": {
    "id": "E0vqbgi9ay0H"
   },
   "source": [
    "# Яндекс.Музыка"
   ]
  },
  {
   "cell_type": "markdown",
   "metadata": {
    "id": "VUC88oWjTJw2"
   },
   "source": [
    "Сравнение Москвы и Петербурга окружено мифами. Например:\n",
    " * Москва — мегаполис, подчинённый жёсткому ритму рабочей недели;\n",
    " * Петербург — культурная столица, со своими вкусами.\n",
    "\n",
    "На данных Яндекс.Музыки сравним поведение пользователей двух столиц.\n",
    "\n",
    "**Цель исследования** — проверить три гипотезы:\n",
    "1. Активность пользователей зависит от дня недели. Причём в Москве и Петербурге это проявляется по-разному.\n",
    "2. В понедельник утром в Москве преобладают одни жанры, а в Петербурге — другие. Так же и вечером пятницы преобладают разные жанры — в зависимости от города. \n",
    "3. Москва и Петербург предпочитают разные жанры музыки. В Москве чаще слушают поп-музыку, в Петербурге — русский рэп.\n",
    "\n",
    "**Ход исследования**\n",
    "\n",
    "Данные о поведении пользователей мы получим из файла `yandex_music_project.csv`. О качестве данных ничего не известно. Поэтому перед проверкой гипотез понадобится обзор данных. \n",
    "\n",
    "Проверим данные на ошибки и оценим их влияние на исследование. Затем, на этапе предобработки поищем возможность исправить самые критичные ошибки данных.\n",
    " \n",
    "Таким образом, исследование пройдёт в три этапа:\n",
    " 1. Обзор данных.\n",
    " 2. Предобработка данных.\n",
    " 3. Проверка гипотез.\n",
    "\n"
   ]
  },
  {
   "cell_type": "markdown",
   "metadata": {
    "id": "Ml1hmfXC_Zcs"
   },
   "source": [
    "## Обзор данных\n",
    "\n",
    "Составим первое представление о данных Яндекс.Музыки.\n",
    "\n",
    "\n"
   ]
  },
  {
   "cell_type": "markdown",
   "metadata": {
    "id": "57eAOGIz_Zcs"
   },
   "source": [
    "Основной инструмент аналитика — `pandas`. Импортируем эту библиотеку."
   ]
  },
  {
   "cell_type": "code",
   "execution_count": 1,
   "metadata": {
    "id": "AXN7PHPN_Zcs"
   },
   "outputs": [],
   "source": [
    "import pandas as pd# импорт библиотеки pandas"
   ]
  },
  {
   "cell_type": "code",
   "execution_count": 2,
   "metadata": {
    "id": "fFVu7vqh_Zct"
   },
   "outputs": [],
   "source": [
    "df = pd.read_csv('/datasets/yandex_music_project.csv')# чтение файла с данными и сохранение в df"
   ]
  },
  {
   "cell_type": "markdown",
   "metadata": {
    "id": "rDoOMd3uTqnZ"
   },
   "source": [
    "Выведем на экран первые десять строк таблицы:"
   ]
  },
  {
   "cell_type": "code",
   "execution_count": 3,
   "metadata": {
    "id": "oWTVX3gW_Zct"
   },
   "outputs": [
    {
     "data": {
      "text/html": [
       "<div>\n",
       "<style scoped>\n",
       "    .dataframe tbody tr th:only-of-type {\n",
       "        vertical-align: middle;\n",
       "    }\n",
       "\n",
       "    .dataframe tbody tr th {\n",
       "        vertical-align: top;\n",
       "    }\n",
       "\n",
       "    .dataframe thead th {\n",
       "        text-align: right;\n",
       "    }\n",
       "</style>\n",
       "<table border=\"1\" class=\"dataframe\">\n",
       "  <thead>\n",
       "    <tr style=\"text-align: right;\">\n",
       "      <th></th>\n",
       "      <th>userID</th>\n",
       "      <th>Track</th>\n",
       "      <th>artist</th>\n",
       "      <th>genre</th>\n",
       "      <th>City</th>\n",
       "      <th>time</th>\n",
       "      <th>Day</th>\n",
       "    </tr>\n",
       "  </thead>\n",
       "  <tbody>\n",
       "    <tr>\n",
       "      <th>0</th>\n",
       "      <td>FFB692EC</td>\n",
       "      <td>Kamigata To Boots</td>\n",
       "      <td>The Mass Missile</td>\n",
       "      <td>rock</td>\n",
       "      <td>Saint-Petersburg</td>\n",
       "      <td>20:28:33</td>\n",
       "      <td>Wednesday</td>\n",
       "    </tr>\n",
       "    <tr>\n",
       "      <th>1</th>\n",
       "      <td>55204538</td>\n",
       "      <td>Delayed Because of Accident</td>\n",
       "      <td>Andreas Rönnberg</td>\n",
       "      <td>rock</td>\n",
       "      <td>Moscow</td>\n",
       "      <td>14:07:09</td>\n",
       "      <td>Friday</td>\n",
       "    </tr>\n",
       "    <tr>\n",
       "      <th>2</th>\n",
       "      <td>20EC38</td>\n",
       "      <td>Funiculì funiculà</td>\n",
       "      <td>Mario Lanza</td>\n",
       "      <td>pop</td>\n",
       "      <td>Saint-Petersburg</td>\n",
       "      <td>20:58:07</td>\n",
       "      <td>Wednesday</td>\n",
       "    </tr>\n",
       "    <tr>\n",
       "      <th>3</th>\n",
       "      <td>A3DD03C9</td>\n",
       "      <td>Dragons in the Sunset</td>\n",
       "      <td>Fire + Ice</td>\n",
       "      <td>folk</td>\n",
       "      <td>Saint-Petersburg</td>\n",
       "      <td>08:37:09</td>\n",
       "      <td>Monday</td>\n",
       "    </tr>\n",
       "    <tr>\n",
       "      <th>4</th>\n",
       "      <td>E2DC1FAE</td>\n",
       "      <td>Soul People</td>\n",
       "      <td>Space Echo</td>\n",
       "      <td>dance</td>\n",
       "      <td>Moscow</td>\n",
       "      <td>08:34:34</td>\n",
       "      <td>Monday</td>\n",
       "    </tr>\n",
       "    <tr>\n",
       "      <th>5</th>\n",
       "      <td>842029A1</td>\n",
       "      <td>Преданная</td>\n",
       "      <td>IMPERVTOR</td>\n",
       "      <td>rusrap</td>\n",
       "      <td>Saint-Petersburg</td>\n",
       "      <td>13:09:41</td>\n",
       "      <td>Friday</td>\n",
       "    </tr>\n",
       "    <tr>\n",
       "      <th>6</th>\n",
       "      <td>4CB90AA5</td>\n",
       "      <td>True</td>\n",
       "      <td>Roman Messer</td>\n",
       "      <td>dance</td>\n",
       "      <td>Moscow</td>\n",
       "      <td>13:00:07</td>\n",
       "      <td>Wednesday</td>\n",
       "    </tr>\n",
       "    <tr>\n",
       "      <th>7</th>\n",
       "      <td>F03E1C1F</td>\n",
       "      <td>Feeling This Way</td>\n",
       "      <td>Polina Griffith</td>\n",
       "      <td>dance</td>\n",
       "      <td>Moscow</td>\n",
       "      <td>20:47:49</td>\n",
       "      <td>Wednesday</td>\n",
       "    </tr>\n",
       "    <tr>\n",
       "      <th>8</th>\n",
       "      <td>8FA1D3BE</td>\n",
       "      <td>И вновь продолжается бой</td>\n",
       "      <td>NaN</td>\n",
       "      <td>ruspop</td>\n",
       "      <td>Moscow</td>\n",
       "      <td>09:17:40</td>\n",
       "      <td>Friday</td>\n",
       "    </tr>\n",
       "    <tr>\n",
       "      <th>9</th>\n",
       "      <td>E772D5C0</td>\n",
       "      <td>Pessimist</td>\n",
       "      <td>NaN</td>\n",
       "      <td>dance</td>\n",
       "      <td>Saint-Petersburg</td>\n",
       "      <td>21:20:49</td>\n",
       "      <td>Wednesday</td>\n",
       "    </tr>\n",
       "  </tbody>\n",
       "</table>\n",
       "</div>"
      ],
      "text/plain": [
       "     userID                        Track            artist   genre  \\\n",
       "0  FFB692EC            Kamigata To Boots  The Mass Missile    rock   \n",
       "1  55204538  Delayed Because of Accident  Andreas Rönnberg    rock   \n",
       "2    20EC38            Funiculì funiculà       Mario Lanza     pop   \n",
       "3  A3DD03C9        Dragons in the Sunset        Fire + Ice    folk   \n",
       "4  E2DC1FAE                  Soul People        Space Echo   dance   \n",
       "5  842029A1                    Преданная         IMPERVTOR  rusrap   \n",
       "6  4CB90AA5                         True      Roman Messer   dance   \n",
       "7  F03E1C1F             Feeling This Way   Polina Griffith   dance   \n",
       "8  8FA1D3BE     И вновь продолжается бой               NaN  ruspop   \n",
       "9  E772D5C0                    Pessimist               NaN   dance   \n",
       "\n",
       "             City        time        Day  \n",
       "0  Saint-Petersburg  20:28:33  Wednesday  \n",
       "1            Moscow  14:07:09     Friday  \n",
       "2  Saint-Petersburg  20:58:07  Wednesday  \n",
       "3  Saint-Petersburg  08:37:09     Monday  \n",
       "4            Moscow  08:34:34     Monday  \n",
       "5  Saint-Petersburg  13:09:41     Friday  \n",
       "6            Moscow  13:00:07  Wednesday  \n",
       "7            Moscow  20:47:49  Wednesday  \n",
       "8            Moscow  09:17:40     Friday  \n",
       "9  Saint-Petersburg  21:20:49  Wednesday  "
      ]
     },
     "execution_count": 3,
     "metadata": {},
     "output_type": "execute_result"
    }
   ],
   "source": [
    "df.head(10)# получение первых 10 строк таблицы df"
   ]
  },
  {
   "cell_type": "markdown",
   "metadata": {
    "id": "EO73Kwic_Zct"
   },
   "source": [
    "Получим общую информацию о таблице:"
   ]
  },
  {
   "cell_type": "code",
   "execution_count": 4,
   "metadata": {
    "id": "DSf2kIb-_Zct"
   },
   "outputs": [
    {
     "name": "stdout",
     "output_type": "stream",
     "text": [
      "<class 'pandas.core.frame.DataFrame'>\n",
      "RangeIndex: 65079 entries, 0 to 65078\n",
      "Data columns (total 7 columns):\n",
      " #   Column    Non-Null Count  Dtype \n",
      "---  ------    --------------  ----- \n",
      " 0     userID  65079 non-null  object\n",
      " 1   Track     63848 non-null  object\n",
      " 2   artist    57876 non-null  object\n",
      " 3   genre     63881 non-null  object\n",
      " 4     City    65079 non-null  object\n",
      " 5   time      65079 non-null  object\n",
      " 6   Day       65079 non-null  object\n",
      "dtypes: object(7)\n",
      "memory usage: 3.5+ MB\n"
     ]
    }
   ],
   "source": [
    "df.info()# получение общей информации о данных в таблице df"
   ]
  },
  {
   "cell_type": "markdown",
   "metadata": {
    "id": "TaQ2Iwbr_Zct"
   },
   "source": [
    "Итак, в таблице семь столбцов. Тип данных во всех столбцах — `object`.\n",
    "\n",
    "Согласно документации к данным:\n",
    "* `userID` — идентификатор пользователя;\n",
    "* `Track` — название трека;  \n",
    "* `artist` — имя исполнителя;\n",
    "* `genre` — название жанра;\n",
    "* `City` — город пользователя;\n",
    "* `time` — время начала прослушивания;\n",
    "* `Day` — день недели.\n",
    "\n",
    "В названиях колонок видны три нарушения стиля:\n",
    "1. Строчные буквы сочетаются с прописными.\n",
    "2. Встречаются пробелы.\n",
    "3. Не все названия столбцов соответствуют \"змеиному регистру\".\n",
    "\n",
    "\n",
    "\n",
    "Количество значений в столбцах различается. Значит, в данных есть пропущенные значения.\n"
   ]
  },
  {
   "cell_type": "markdown",
   "metadata": {
    "id": "MCB6-dXG_Zct"
   },
   "source": [
    "**Выводы**\n",
    "\n",
    "В каждой строке таблицы — данные о прослушанном треке. Часть колонок описывает саму композицию: название, исполнителя и жанр. Остальные данные рассказывают о пользователе: из какого он города, когда он слушал музыку. \n",
    "\n",
    "Предварительно можно утверждать, что, данных достаточно для проверки гипотез. Но встречаются пропуски в данных, а в названиях колонок — расхождения с хорошим стилем.\n",
    "\n",
    "Чтобы двигаться дальше, нужно устранить проблемы в данных."
   ]
  },
  {
   "cell_type": "markdown",
   "metadata": {
    "id": "SjYF6Ub9_Zct"
   },
   "source": [
    "## Предобработка данных\n",
    "Исправим стиль в заголовках столбцов, исключим пропуски. Затем проверим данные на дубликаты."
   ]
  },
  {
   "cell_type": "markdown",
   "metadata": {
    "id": "dIaKXr29_Zct"
   },
   "source": [
    "### Стиль заголовков\n",
    "Выведем на экран названия столбцов:"
   ]
  },
  {
   "cell_type": "code",
   "execution_count": 5,
   "metadata": {
    "id": "oKOTdF_Q_Zct"
   },
   "outputs": [
    {
     "data": {
      "text/plain": [
       "Index(['  userID', 'Track', 'artist', 'genre', '  City  ', 'time', 'Day'], dtype='object')"
      ]
     },
     "execution_count": 5,
     "metadata": {},
     "output_type": "execute_result"
    }
   ],
   "source": [
    "df.columns# перечень названий столбцов таблицы df"
   ]
  },
  {
   "cell_type": "markdown",
   "metadata": {
    "id": "zj5534cv_Zct"
   },
   "source": [
    "Приведем названия в соответствие с хорошим стилем:\n",
    "* несколько слов в названии запишем в «змеином_регистре»,\n",
    "* все символы сделаем строчными,\n",
    "* устраним пробелы."
   ]
  },
  {
   "cell_type": "code",
   "execution_count": 6,
   "metadata": {
    "id": "ISlFqs5y_Zct"
   },
   "outputs": [],
   "source": [
    "df = df.rename(columns={'  userID': 'user_id', 'Track': 'track', '  City  ': 'city', 'Day': 'day'})# переименование столбцов"
   ]
  },
  {
   "cell_type": "markdown",
   "metadata": {
    "id": "1dqbh00J_Zct"
   },
   "source": [
    "Проверим результат."
   ]
  },
  {
   "cell_type": "code",
   "execution_count": 7,
   "metadata": {
    "id": "d4NOAmTW_Zct"
   },
   "outputs": [
    {
     "data": {
      "text/plain": [
       "Index(['user_id', 'track', 'artist', 'genre', 'city', 'time', 'day'], dtype='object')"
      ]
     },
     "execution_count": 7,
     "metadata": {},
     "output_type": "execute_result"
    }
   ],
   "source": [
    "df.columns# проверка результатов - перечень названий столбцов"
   ]
  },
  {
   "cell_type": "markdown",
   "metadata": {
    "id": "5ISfbcfY_Zct"
   },
   "source": [
    "### Пропуски значений\n",
    "Сначала посчитаем, сколько в таблице пропущенных значений. Для этого достаточно двух методов `pandas`:"
   ]
  },
  {
   "cell_type": "code",
   "execution_count": 8,
   "metadata": {
    "id": "RskX29qr_Zct"
   },
   "outputs": [
    {
     "data": {
      "text/plain": [
       "user_id       0\n",
       "track      1231\n",
       "artist     7203\n",
       "genre      1198\n",
       "city          0\n",
       "time          0\n",
       "day           0\n",
       "dtype: int64"
      ]
     },
     "execution_count": 8,
     "metadata": {},
     "output_type": "execute_result"
    }
   ],
   "source": [
    "df.isna().sum()# подсчёт пропусков"
   ]
  },
  {
   "cell_type": "markdown",
   "metadata": {
    "id": "qubhgnlO_Zct"
   },
   "source": [
    "* заполним пропуски явными обозначениями,\n",
    "* оценим, насколько они повредят расчётам. "
   ]
  },
  {
   "cell_type": "markdown",
   "metadata": {
    "id": "fSv2laPA_Zct"
   },
   "source": [
    "Заменим пропущенные значения в столбцах `track`, `artist` и `genre` на строку `'unknown'`. Для этого создадим список `columns_to_replace`, переберем его элементы циклом `for` и для каждого столбца выполним замену пропущенных значений:"
   ]
  },
  {
   "cell_type": "code",
   "execution_count": 9,
   "metadata": {
    "id": "KplB5qWs_Zct"
   },
   "outputs": [],
   "source": [
    "columns_to_replace = ['track', 'artist', 'genre']\n",
    "for column in columns_to_replace:\n",
    "    df[column] = df[column].fillna('unknown')# перебор названий столбцов в цикле и замена пропущенных значений на 'unknown'\n",
    "    "
   ]
  },
  {
   "cell_type": "markdown",
   "metadata": {
    "id": "Ilsm-MZo_Zct"
   },
   "source": [
    "Убедимся, что в таблице не осталось пропусков. Для этого ещё раз посчитаем пропущенные значения."
   ]
  },
  {
   "cell_type": "code",
   "execution_count": 10,
   "metadata": {
    "id": "Tq4nYRX4_Zct"
   },
   "outputs": [
    {
     "data": {
      "text/plain": [
       "user_id    0\n",
       "track      0\n",
       "artist     0\n",
       "genre      0\n",
       "city       0\n",
       "time       0\n",
       "day        0\n",
       "dtype: int64"
      ]
     },
     "execution_count": 10,
     "metadata": {},
     "output_type": "execute_result"
    }
   ],
   "source": [
    "df.isna().sum()# подсчёт пропусков"
   ]
  },
  {
   "cell_type": "markdown",
   "metadata": {
    "id": "BWKRtBJ3_Zct"
   },
   "source": [
    "### Дубликаты\n",
    "Посчитаем явные дубликаты в таблице:"
   ]
  },
  {
   "cell_type": "code",
   "execution_count": 11,
   "metadata": {
    "id": "36eES_S0_Zct"
   },
   "outputs": [
    {
     "data": {
      "text/plain": [
       "3826"
      ]
     },
     "execution_count": 11,
     "metadata": {},
     "output_type": "execute_result"
    }
   ],
   "source": [
    "df.duplicated().sum()# подсчёт явных дубликатов"
   ]
  },
  {
   "cell_type": "markdown",
   "metadata": {
    "id": "Ot25h6XR_Zct"
   },
   "source": [
    "Вызовем специальный метод `pandas`, чтобы удалить явные дубликаты:"
   ]
  },
  {
   "cell_type": "code",
   "execution_count": 12,
   "metadata": {
    "id": "exFHq6tt_Zct"
   },
   "outputs": [],
   "source": [
    "df = df.drop_duplicates().reset_index(drop = True)# удаление явных дубликатов (с удалением старых индексов и формированием новых)"
   ]
  },
  {
   "cell_type": "markdown",
   "metadata": {
    "id": "Im2YwBEG_Zct"
   },
   "source": [
    "Ещё раз посчитаем явные дубликаты в таблице — убедимся, что полностью от них избавились:"
   ]
  },
  {
   "cell_type": "code",
   "execution_count": 13,
   "metadata": {
    "id": "-8PuNWQ0_Zct"
   },
   "outputs": [
    {
     "data": {
      "text/plain": [
       "0"
      ]
     },
     "execution_count": 13,
     "metadata": {},
     "output_type": "execute_result"
    }
   ],
   "source": [
    "df.duplicated().sum()# проверка на отсутствие дубликатов"
   ]
  },
  {
   "cell_type": "markdown",
   "metadata": {
    "id": "QlFBsxAr_Zct"
   },
   "source": [
    "Теперь избавимся от неявных дубликатов в колонке `genre`. Например, название одного и того же жанра может быть записано немного по-разному. Такие ошибки тоже повлияют на результат исследования."
   ]
  },
  {
   "cell_type": "markdown",
   "metadata": {
    "id": "eSjWwsOh_Zct"
   },
   "source": [
    "Выведем на экран список уникальных названий жанров, отсортированный в алфавитном порядке. Для этого:\n",
    "* извлечем нужный столбец датафрейма, \n",
    "* применим к нему метод сортировки,\n",
    "* для отсортированного столбца вызовем метод, который вернёт уникальные значения из столбца."
   ]
  },
  {
   "cell_type": "code",
   "execution_count": 14,
   "metadata": {
    "id": "JIUcqzZN_Zct"
   },
   "outputs": [
    {
     "data": {
      "text/plain": [
       "array(['acid', 'acoustic', 'action', 'adult', 'africa', 'afrikaans',\n",
       "       'alternative', 'alternativepunk', 'ambient', 'americana',\n",
       "       'animated', 'anime', 'arabesk', 'arabic', 'arena',\n",
       "       'argentinetango', 'art', 'audiobook', 'author', 'avantgarde',\n",
       "       'axé', 'baile', 'balkan', 'beats', 'bigroom', 'black', 'bluegrass',\n",
       "       'blues', 'bollywood', 'bossa', 'brazilian', 'breakbeat', 'breaks',\n",
       "       'broadway', 'cantautori', 'cantopop', 'canzone', 'caribbean',\n",
       "       'caucasian', 'celtic', 'chamber', 'chanson', 'children', 'chill',\n",
       "       'chinese', 'choral', 'christian', 'christmas', 'classical',\n",
       "       'classicmetal', 'club', 'colombian', 'comedy', 'conjazz',\n",
       "       'contemporary', 'country', 'cuban', 'dance', 'dancehall',\n",
       "       'dancepop', 'dark', 'death', 'deep', 'deutschrock', 'deutschspr',\n",
       "       'dirty', 'disco', 'dnb', 'documentary', 'downbeat', 'downtempo',\n",
       "       'drum', 'dub', 'dubstep', 'eastern', 'easy', 'electronic',\n",
       "       'electropop', 'emo', 'entehno', 'epicmetal', 'estrada', 'ethnic',\n",
       "       'eurofolk', 'european', 'experimental', 'extrememetal', 'fado',\n",
       "       'fairytail', 'film', 'fitness', 'flamenco', 'folk', 'folklore',\n",
       "       'folkmetal', 'folkrock', 'folktronica', 'forró', 'frankreich',\n",
       "       'französisch', 'french', 'funk', 'future', 'gangsta', 'garage',\n",
       "       'german', 'ghazal', 'gitarre', 'glitch', 'gospel', 'gothic',\n",
       "       'grime', 'grunge', 'gypsy', 'handsup', \"hard'n'heavy\", 'hardcore',\n",
       "       'hardstyle', 'hardtechno', 'hip', 'hip-hop', 'hiphop',\n",
       "       'historisch', 'holiday', 'hop', 'horror', 'house', 'hymn', 'idm',\n",
       "       'independent', 'indian', 'indie', 'indipop', 'industrial',\n",
       "       'inspirational', 'instrumental', 'international', 'irish', 'jam',\n",
       "       'japanese', 'jazz', 'jewish', 'jpop', 'jungle', 'k-pop',\n",
       "       'karadeniz', 'karaoke', 'kayokyoku', 'korean', 'laiko', 'latin',\n",
       "       'latino', 'leftfield', 'local', 'lounge', 'loungeelectronic',\n",
       "       'lovers', 'malaysian', 'mandopop', 'marschmusik', 'meditative',\n",
       "       'mediterranean', 'melodic', 'metal', 'metalcore', 'mexican',\n",
       "       'middle', 'minimal', 'miscellaneous', 'modern', 'mood', 'mpb',\n",
       "       'muslim', 'native', 'neoklassik', 'neue', 'new', 'newage',\n",
       "       'newwave', 'nu', 'nujazz', 'numetal', 'oceania', 'old', 'opera',\n",
       "       'orchestral', 'other', 'piano', 'podcasts', 'pop', 'popdance',\n",
       "       'popelectronic', 'popeurodance', 'poprussian', 'post',\n",
       "       'posthardcore', 'postrock', 'power', 'progmetal', 'progressive',\n",
       "       'psychedelic', 'punjabi', 'punk', 'quebecois', 'ragga', 'ram',\n",
       "       'rancheras', 'rap', 'rave', 'reggae', 'reggaeton', 'regional',\n",
       "       'relax', 'religious', 'retro', 'rhythm', 'rnb', 'rnr', 'rock',\n",
       "       'rockabilly', 'rockalternative', 'rockindie', 'rockother',\n",
       "       'romance', 'roots', 'ruspop', 'rusrap', 'rusrock', 'russian',\n",
       "       'salsa', 'samba', 'scenic', 'schlager', 'self', 'sertanejo',\n",
       "       'shanson', 'shoegazing', 'showtunes', 'singer', 'ska', 'skarock',\n",
       "       'slow', 'smooth', 'soft', 'soul', 'soulful', 'sound', 'soundtrack',\n",
       "       'southern', 'specialty', 'speech', 'spiritual', 'sport',\n",
       "       'stonerrock', 'surf', 'swing', 'synthpop', 'synthrock',\n",
       "       'sängerportrait', 'tango', 'tanzorchester', 'taraftar', 'tatar',\n",
       "       'tech', 'techno', 'teen', 'thrash', 'top', 'traditional',\n",
       "       'tradjazz', 'trance', 'tribal', 'trip', 'triphop', 'tropical',\n",
       "       'türk', 'türkçe', 'ukrrock', 'unknown', 'urban', 'uzbek',\n",
       "       'variété', 'vi', 'videogame', 'vocal', 'western', 'world',\n",
       "       'worldbeat', 'ïîï', 'электроника'], dtype=object)"
      ]
     },
     "execution_count": 14,
     "metadata": {},
     "output_type": "execute_result"
    }
   ],
   "source": [
    "genre = df['genre']\n",
    "genre = genre.sort_values()\n",
    "genre.unique()# Просмотр уникальных названий жанров"
   ]
  },
  {
   "cell_type": "markdown",
   "metadata": {
    "id": "qej-Qmuo_Zct"
   },
   "source": [
    "Найдем неявные дубликаты названия `hiphop`. Это могут быть названия с ошибками или альтернативные названия того же жанра.\n",
    "\n",
    "Мы обнаружили следующие неявные дубликаты:\n",
    "* *hip*,\n",
    "* *hop*,\n",
    "* *hip-hop*.\n",
    "\n",
    "Чтобы очистить от них таблицу, напишем функцию `replace_wrong_genres()` с двумя параметрами: \n",
    "* `wrong_genres` — список дубликатов,\n",
    "* `correct_genre` — строка с правильным значением.\n",
    "\n",
    "Функция должна исправить колонку `genre` в таблице `df`: заменить каждое значение из списка `wrong_genres` на значение из `correct_genre`."
   ]
  },
  {
   "cell_type": "code",
   "execution_count": 15,
   "metadata": {
    "id": "ErNDkmns_Zct"
   },
   "outputs": [],
   "source": [
    "def replace_wrong_genres(wrong_genres, correct_genre):\n",
    "    for value in wrong_genres:\n",
    "        df['genre'] = df['genre'].replace(value, correct_genre)# Функция для замены неявных дубликатов"
   ]
  },
  {
   "cell_type": "code",
   "execution_count": 16,
   "metadata": {
    "id": "YN5i2hpmSo09"
   },
   "outputs": [],
   "source": [
    "replace_wrong_genres(['hip', 'hop', 'hip-hop'], 'hiphop')# Устранение неявных дубликатов"
   ]
  },
  {
   "cell_type": "markdown",
   "metadata": {
    "id": "zQKF16_RG15m"
   },
   "source": [
    "Проверим, что заменили неправильные названия."
   ]
  },
  {
   "cell_type": "code",
   "execution_count": 17,
   "metadata": {
    "id": "wvixALnFG15m"
   },
   "outputs": [
    {
     "data": {
      "text/plain": [
       "array(['acid', 'acoustic', 'action', 'adult', 'africa', 'afrikaans',\n",
       "       'alternative', 'alternativepunk', 'ambient', 'americana',\n",
       "       'animated', 'anime', 'arabesk', 'arabic', 'arena',\n",
       "       'argentinetango', 'art', 'audiobook', 'author', 'avantgarde',\n",
       "       'axé', 'baile', 'balkan', 'beats', 'bigroom', 'black', 'bluegrass',\n",
       "       'blues', 'bollywood', 'bossa', 'brazilian', 'breakbeat', 'breaks',\n",
       "       'broadway', 'cantautori', 'cantopop', 'canzone', 'caribbean',\n",
       "       'caucasian', 'celtic', 'chamber', 'chanson', 'children', 'chill',\n",
       "       'chinese', 'choral', 'christian', 'christmas', 'classical',\n",
       "       'classicmetal', 'club', 'colombian', 'comedy', 'conjazz',\n",
       "       'contemporary', 'country', 'cuban', 'dance', 'dancehall',\n",
       "       'dancepop', 'dark', 'death', 'deep', 'deutschrock', 'deutschspr',\n",
       "       'dirty', 'disco', 'dnb', 'documentary', 'downbeat', 'downtempo',\n",
       "       'drum', 'dub', 'dubstep', 'eastern', 'easy', 'electronic',\n",
       "       'electropop', 'emo', 'entehno', 'epicmetal', 'estrada', 'ethnic',\n",
       "       'eurofolk', 'european', 'experimental', 'extrememetal', 'fado',\n",
       "       'fairytail', 'film', 'fitness', 'flamenco', 'folk', 'folklore',\n",
       "       'folkmetal', 'folkrock', 'folktronica', 'forró', 'frankreich',\n",
       "       'französisch', 'french', 'funk', 'future', 'gangsta', 'garage',\n",
       "       'german', 'ghazal', 'gitarre', 'glitch', 'gospel', 'gothic',\n",
       "       'grime', 'grunge', 'gypsy', 'handsup', \"hard'n'heavy\", 'hardcore',\n",
       "       'hardstyle', 'hardtechno', 'hiphop', 'historisch', 'holiday',\n",
       "       'horror', 'house', 'hymn', 'idm', 'independent', 'indian', 'indie',\n",
       "       'indipop', 'industrial', 'inspirational', 'instrumental',\n",
       "       'international', 'irish', 'jam', 'japanese', 'jazz', 'jewish',\n",
       "       'jpop', 'jungle', 'k-pop', 'karadeniz', 'karaoke', 'kayokyoku',\n",
       "       'korean', 'laiko', 'latin', 'latino', 'leftfield', 'local',\n",
       "       'lounge', 'loungeelectronic', 'lovers', 'malaysian', 'mandopop',\n",
       "       'marschmusik', 'meditative', 'mediterranean', 'melodic', 'metal',\n",
       "       'metalcore', 'mexican', 'middle', 'minimal', 'miscellaneous',\n",
       "       'modern', 'mood', 'mpb', 'muslim', 'native', 'neoklassik', 'neue',\n",
       "       'new', 'newage', 'newwave', 'nu', 'nujazz', 'numetal', 'oceania',\n",
       "       'old', 'opera', 'orchestral', 'other', 'piano', 'podcasts', 'pop',\n",
       "       'popdance', 'popelectronic', 'popeurodance', 'poprussian', 'post',\n",
       "       'posthardcore', 'postrock', 'power', 'progmetal', 'progressive',\n",
       "       'psychedelic', 'punjabi', 'punk', 'quebecois', 'ragga', 'ram',\n",
       "       'rancheras', 'rap', 'rave', 'reggae', 'reggaeton', 'regional',\n",
       "       'relax', 'religious', 'retro', 'rhythm', 'rnb', 'rnr', 'rock',\n",
       "       'rockabilly', 'rockalternative', 'rockindie', 'rockother',\n",
       "       'romance', 'roots', 'ruspop', 'rusrap', 'rusrock', 'russian',\n",
       "       'salsa', 'samba', 'scenic', 'schlager', 'self', 'sertanejo',\n",
       "       'shanson', 'shoegazing', 'showtunes', 'singer', 'ska', 'skarock',\n",
       "       'slow', 'smooth', 'soft', 'soul', 'soulful', 'sound', 'soundtrack',\n",
       "       'southern', 'specialty', 'speech', 'spiritual', 'sport',\n",
       "       'stonerrock', 'surf', 'swing', 'synthpop', 'synthrock',\n",
       "       'sängerportrait', 'tango', 'tanzorchester', 'taraftar', 'tatar',\n",
       "       'tech', 'techno', 'teen', 'thrash', 'top', 'traditional',\n",
       "       'tradjazz', 'trance', 'tribal', 'trip', 'triphop', 'tropical',\n",
       "       'türk', 'türkçe', 'ukrrock', 'unknown', 'urban', 'uzbek',\n",
       "       'variété', 'vi', 'videogame', 'vocal', 'western', 'world',\n",
       "       'worldbeat', 'ïîï', 'электроника'], dtype=object)"
      ]
     },
     "execution_count": 17,
     "metadata": {},
     "output_type": "execute_result"
    }
   ],
   "source": [
    "genre = df['genre']\n",
    "genre = genre.sort_values()\n",
    "genre.unique()# Проверка на неявные дубликаты"
   ]
  },
  {
   "cell_type": "markdown",
   "metadata": {
    "id": "jz6a9-7HQUDd"
   },
   "source": [
    "**Выводы**\n",
    "\n",
    "Предобработка обнаружила три проблемы в данных:\n",
    "\n",
    "- нарушения в стиле заголовков,\n",
    "- пропущенные значения,\n",
    "- дубликаты — явные и неявные.\n",
    "\n",
    "Мы исправили заголовки, чтобы упростить работу с таблицей. Без дубликатов исследование станет более точным.\n",
    "\n",
    "Пропущенные значения мы заменили на `'unknown'`. Ещё предстоит увидеть, не повредят ли исследованию пропуски в колонке `genre`.\n",
    "\n",
    "Теперь можно перейти к проверке гипотез. "
   ]
  },
  {
   "cell_type": "markdown",
   "metadata": {
    "id": "WttZHXH0SqKk"
   },
   "source": [
    "## Проверка гипотез"
   ]
  },
  {
   "cell_type": "markdown",
   "metadata": {
    "id": "Im936VVi_Zcu"
   },
   "source": [
    "### Сравнение поведения пользователей двух столиц"
   ]
  },
  {
   "cell_type": "markdown",
   "metadata": {
    "id": "nwt_MuaL_Zcu"
   },
   "source": [
    "Первая гипотеза утверждает, что пользователи по-разному слушают музыку в Москве и Санкт-Петербурге. Проверим это предположение по данным о трёх днях недели — понедельнике, среде и пятнице. Для этого:\n",
    "\n",
    "* Разделим пользователей Москвы и Санкт-Петербурга\n",
    "* Сравним, сколько треков послушала каждая группа пользователей в понедельник, среду и пятницу.\n"
   ]
  },
  {
   "cell_type": "markdown",
   "metadata": {
    "id": "8Dw_YMmT_Zcu"
   },
   "source": [
    "Для тренировки сначала выполним каждый из расчётов по отдельности. \n",
    "\n",
    "Оценим активность пользователей в каждом городе. Сгруппируем данные по городу и посчитаем прослушивания в каждой группе."
   ]
  },
  {
   "cell_type": "code",
   "execution_count": 18,
   "metadata": {
    "id": "0_Qs96oh_Zcu"
   },
   "outputs": [
    {
     "data": {
      "text/plain": [
       "city\n",
       "Moscow              42741\n",
       "Saint-Petersburg    18512\n",
       "Name: time, dtype: int64"
      ]
     },
     "execution_count": 18,
     "metadata": {},
     "output_type": "execute_result"
    }
   ],
   "source": [
    "df.groupby('city')['time'].count()# Подсчёт прослушиваний в каждом городе"
   ]
  },
  {
   "cell_type": "markdown",
   "metadata": {
    "id": "dzli3w8o_Zcu"
   },
   "source": [
    "В Москве прослушиваний больше, чем в Петербурге. Из этого не следует, что московские пользователи чаще слушают музыку. Просто самих пользователей в Москве больше.\n",
    "\n",
    "Теперь сгруппируем данные по дню недели и подсчитаем прослушивания в понедельник, среду и пятницу."
   ]
  },
  {
   "cell_type": "code",
   "execution_count": 19,
   "metadata": {
    "id": "uZMKjiJz_Zcu",
    "scrolled": true
   },
   "outputs": [
    {
     "data": {
      "text/plain": [
       "day\n",
       "Friday       21840\n",
       "Monday       21354\n",
       "Wednesday    18059\n",
       "Name: track, dtype: int64"
      ]
     },
     "execution_count": 19,
     "metadata": {},
     "output_type": "execute_result"
    }
   ],
   "source": [
    "df.groupby('day')['track'].count()# Подсчёт прослушиваний в каждый из трёх дней"
   ]
  },
  {
   "cell_type": "markdown",
   "metadata": {
    "id": "cC2tNrlL_Zcu"
   },
   "source": [
    "В среднем пользователи из двух городов менее активны по средам. Но картина может измениться, если рассмотреть каждый город в отдельности."
   ]
  },
  {
   "cell_type": "markdown",
   "metadata": {
    "id": "POzs8bGa_Zcu"
   },
   "source": [
    "Теперь напишем функцию, которая объединит два эти расчёта.\n",
    "\n",
    "Создадим функцию `number_tracks()`, которая посчитает прослушивания для заданного дня и города. Ей понадобятся два параметра:\n",
    "* день недели,\n",
    "* название города.\n",
    "\n",
    "В функции сохраним в переменную строки исходной таблицы, у которых значение:\n",
    "  * в колонке `day` равно параметру `day`,\n",
    "  * в колонке `city` равно параметру `city`.\n",
    "\n",
    "Для этого применим последовательную фильтрацию с логической индексацией.\n",
    "\n",
    "Затем посчитаем значения в столбце `user_id` получившейся таблицы. Результат сохраним в новую переменную. Вернем эту переменную из функции."
   ]
  },
  {
   "cell_type": "code",
   "execution_count": 20,
   "metadata": {
    "id": "Nz3GdQB1_Zcu"
   },
   "outputs": [],
   "source": [
    "def number_tracks(day, city):\n",
    "    track_list = df[(df['day'] == day) & (df['city'] == city)]\n",
    "    track_list_count = track_list['user_id'].count()\n",
    "    '''Функция для подсчёта прослушиваний для конкретного города и дня'''\n",
    "    return track_list_count\n",
    "    \n",
    "# Объявляется функция с двумя параметрами: day, city.\n",
    "# В переменной track_list сохраняются те строки таблицы df, для которых \n",
    "# значение в столбце 'day' равно параметру day и одновременно значение\n",
    "# в столбце 'city' равно параметру city (используйте последовательную фильтрацию\n",
    "# с помощью логической индексации).\n",
    "# В переменной track_list_count сохраняется число значений столбца 'user_id',\n",
    "# рассчитанное методом count() для таблицы track_list.\n",
    "# Функция возвращает число - значение track_list_count.\n",
    "\n",
    "# Функция для подсчёта прослушиваний для конкретного города и дня.\n",
    "# С помощью последовательной фильтрации с логической индексацией она \n",
    "# сначала получит из исходной таблицы строки с нужным днём,\n",
    "# затем из результата отфильтрует строки с нужным городом,\n",
    "# методом count() посчитает количество значений в колонке user_id. \n",
    "# Это количество функция вернёт в качестве результата"
   ]
  },
  {
   "cell_type": "markdown",
   "metadata": {
    "id": "ytf7xFrFJQ2r"
   },
   "source": [
    "Вызовем `number_tracks()` шесть раз, меняя значение параметров — так, чтобы получить данные для каждого города в каждый из трёх дней."
   ]
  },
  {
   "cell_type": "code",
   "execution_count": 21,
   "metadata": {
    "id": "rJcRATNQ_Zcu"
   },
   "outputs": [
    {
     "data": {
      "text/plain": [
       "15740"
      ]
     },
     "execution_count": 21,
     "metadata": {},
     "output_type": "execute_result"
    }
   ],
   "source": [
    "number_tracks('Monday', 'Moscow')# количество прослушиваний в Москве по понедельникам"
   ]
  },
  {
   "cell_type": "code",
   "execution_count": 22,
   "metadata": {
    "id": "hq_ncZ5T_Zcu"
   },
   "outputs": [
    {
     "data": {
      "text/plain": [
       "5614"
      ]
     },
     "execution_count": 22,
     "metadata": {},
     "output_type": "execute_result"
    }
   ],
   "source": [
    "number_tracks('Monday', 'Saint-Petersburg')# количество прослушиваний в Санкт-Петербурге по понедельникам"
   ]
  },
  {
   "cell_type": "code",
   "execution_count": 23,
   "metadata": {
    "id": "_NTy2VPU_Zcu"
   },
   "outputs": [
    {
     "data": {
      "text/plain": [
       "11056"
      ]
     },
     "execution_count": 23,
     "metadata": {},
     "output_type": "execute_result"
    }
   ],
   "source": [
    "number_tracks('Wednesday', 'Moscow')# количество прослушиваний в Москве по средам"
   ]
  },
  {
   "cell_type": "code",
   "execution_count": 24,
   "metadata": {
    "id": "j2y3TAwo_Zcu"
   },
   "outputs": [
    {
     "data": {
      "text/plain": [
       "7003"
      ]
     },
     "execution_count": 24,
     "metadata": {},
     "output_type": "execute_result"
    }
   ],
   "source": [
    "number_tracks('Wednesday', 'Saint-Petersburg')# количество прослушиваний в Санкт-Петербурге по средам"
   ]
  },
  {
   "cell_type": "code",
   "execution_count": 25,
   "metadata": {
    "id": "vYDw5u_K_Zcu"
   },
   "outputs": [
    {
     "data": {
      "text/plain": [
       "15945"
      ]
     },
     "execution_count": 25,
     "metadata": {},
     "output_type": "execute_result"
    }
   ],
   "source": [
    "number_tracks('Friday', 'Moscow')# количество прослушиваний в Москве по пятницам"
   ]
  },
  {
   "cell_type": "code",
   "execution_count": 26,
   "metadata": {
    "id": "8_yzFtW3_Zcu"
   },
   "outputs": [
    {
     "data": {
      "text/plain": [
       "5895"
      ]
     },
     "execution_count": 26,
     "metadata": {},
     "output_type": "execute_result"
    }
   ],
   "source": [
    "number_tracks('Friday', 'Saint-Petersburg')# количество прослушиваний в Санкт-Петербурге по пятницам"
   ]
  },
  {
   "cell_type": "markdown",
   "metadata": {
    "id": "7QXffbO-_Zcu"
   },
   "source": [
    "Создадим c помощью конструктора `pd.DataFrame` таблицу, где\n",
    "* названия колонок — `['city', 'monday', 'wednesday', 'friday']`;\n",
    "* данные — результаты, которые вы получили с помощью `number_tracks`."
   ]
  },
  {
   "cell_type": "code",
   "execution_count": 27,
   "metadata": {
    "id": "APAcLpOr_Zcu"
   },
   "outputs": [
    {
     "name": "stdout",
     "output_type": "stream",
     "text": [
      "               city  monday  wednesday  friday\n",
      "0            Moscow   15740      11056   15945\n",
      "1  Saint-Petersburg    5614       7003    5895\n"
     ]
    }
   ],
   "source": [
    "columns_tracks = ['city', 'monday', 'wednesday', 'friday']\n",
    "data_tracks = [\n",
    "    ['Moscow', 15740, 11056, 15945, ],\n",
    "    ['Saint-Petersburg', 5614, 7003, 5895]\n",
    "]\n",
    "tracks = pd.DataFrame(data = data_tracks, columns = columns_tracks)# Таблица с результатами\n",
    "print(tracks)"
   ]
  },
  {
   "cell_type": "markdown",
   "metadata": {
    "id": "-EgPIHYu_Zcu"
   },
   "source": [
    "**Выводы**\n",
    "\n",
    "Данные показывают разницу поведения пользователей:\n",
    "\n",
    "- В Москве пик прослушиваний приходится на понедельник и пятницу, а в среду заметен спад.\n",
    "- В Петербурге, наоборот, больше слушают музыку по средам. Активность в понедельник и пятницу здесь почти в равной мере уступает среде.\n",
    "\n",
    "Значит, данные говорят в пользу первой гипотезы."
   ]
  },
  {
   "cell_type": "markdown",
   "metadata": {
    "id": "atZAxtq4_Zcu"
   },
   "source": [
    "### Музыка в начале и в конце недели"
   ]
  },
  {
   "cell_type": "markdown",
   "metadata": {
    "id": "eXrQqXFH_Zcu"
   },
   "source": [
    "Согласно второй гипотезе, утром в понедельник в Москве преобладают одни жанры, а в Петербурге — другие. Так же и вечером пятницы преобладают разные жанры — в зависимости от города."
   ]
  },
  {
   "cell_type": "markdown",
   "metadata": {
    "id": "S8UcW6Hw_Zcu"
   },
   "source": [
    "Сохраним таблицы с данными в две переменные:\n",
    "* по Москве — в `moscow_general`;\n",
    "* по Санкт-Петербургу — в `spb_general`."
   ]
  },
  {
   "cell_type": "code",
   "execution_count": 28,
   "metadata": {
    "id": "qeaFfM_P_Zcu"
   },
   "outputs": [
    {
     "data": {
      "text/html": [
       "<div>\n",
       "<style scoped>\n",
       "    .dataframe tbody tr th:only-of-type {\n",
       "        vertical-align: middle;\n",
       "    }\n",
       "\n",
       "    .dataframe tbody tr th {\n",
       "        vertical-align: top;\n",
       "    }\n",
       "\n",
       "    .dataframe thead th {\n",
       "        text-align: right;\n",
       "    }\n",
       "</style>\n",
       "<table border=\"1\" class=\"dataframe\">\n",
       "  <thead>\n",
       "    <tr style=\"text-align: right;\">\n",
       "      <th></th>\n",
       "      <th>user_id</th>\n",
       "      <th>track</th>\n",
       "      <th>artist</th>\n",
       "      <th>genre</th>\n",
       "      <th>city</th>\n",
       "      <th>time</th>\n",
       "      <th>day</th>\n",
       "    </tr>\n",
       "  </thead>\n",
       "  <tbody>\n",
       "    <tr>\n",
       "      <th>1</th>\n",
       "      <td>55204538</td>\n",
       "      <td>Delayed Because of Accident</td>\n",
       "      <td>Andreas Rönnberg</td>\n",
       "      <td>rock</td>\n",
       "      <td>Moscow</td>\n",
       "      <td>14:07:09</td>\n",
       "      <td>Friday</td>\n",
       "    </tr>\n",
       "    <tr>\n",
       "      <th>4</th>\n",
       "      <td>E2DC1FAE</td>\n",
       "      <td>Soul People</td>\n",
       "      <td>Space Echo</td>\n",
       "      <td>dance</td>\n",
       "      <td>Moscow</td>\n",
       "      <td>08:34:34</td>\n",
       "      <td>Monday</td>\n",
       "    </tr>\n",
       "    <tr>\n",
       "      <th>6</th>\n",
       "      <td>4CB90AA5</td>\n",
       "      <td>True</td>\n",
       "      <td>Roman Messer</td>\n",
       "      <td>dance</td>\n",
       "      <td>Moscow</td>\n",
       "      <td>13:00:07</td>\n",
       "      <td>Wednesday</td>\n",
       "    </tr>\n",
       "    <tr>\n",
       "      <th>7</th>\n",
       "      <td>F03E1C1F</td>\n",
       "      <td>Feeling This Way</td>\n",
       "      <td>Polina Griffith</td>\n",
       "      <td>dance</td>\n",
       "      <td>Moscow</td>\n",
       "      <td>20:47:49</td>\n",
       "      <td>Wednesday</td>\n",
       "    </tr>\n",
       "    <tr>\n",
       "      <th>8</th>\n",
       "      <td>8FA1D3BE</td>\n",
       "      <td>И вновь продолжается бой</td>\n",
       "      <td>unknown</td>\n",
       "      <td>ruspop</td>\n",
       "      <td>Moscow</td>\n",
       "      <td>09:17:40</td>\n",
       "      <td>Friday</td>\n",
       "    </tr>\n",
       "    <tr>\n",
       "      <th>...</th>\n",
       "      <td>...</td>\n",
       "      <td>...</td>\n",
       "      <td>...</td>\n",
       "      <td>...</td>\n",
       "      <td>...</td>\n",
       "      <td>...</td>\n",
       "      <td>...</td>\n",
       "    </tr>\n",
       "    <tr>\n",
       "      <th>61247</th>\n",
       "      <td>83A474E7</td>\n",
       "      <td>I Worship Only What You Bleed</td>\n",
       "      <td>The Black Dahlia Murder</td>\n",
       "      <td>extrememetal</td>\n",
       "      <td>Moscow</td>\n",
       "      <td>21:07:12</td>\n",
       "      <td>Monday</td>\n",
       "    </tr>\n",
       "    <tr>\n",
       "      <th>61248</th>\n",
       "      <td>729CBB09</td>\n",
       "      <td>My Name</td>\n",
       "      <td>McLean</td>\n",
       "      <td>rnb</td>\n",
       "      <td>Moscow</td>\n",
       "      <td>13:32:28</td>\n",
       "      <td>Wednesday</td>\n",
       "    </tr>\n",
       "    <tr>\n",
       "      <th>61250</th>\n",
       "      <td>C5E3A0D5</td>\n",
       "      <td>Jalopiina</td>\n",
       "      <td>unknown</td>\n",
       "      <td>industrial</td>\n",
       "      <td>Moscow</td>\n",
       "      <td>20:09:26</td>\n",
       "      <td>Friday</td>\n",
       "    </tr>\n",
       "    <tr>\n",
       "      <th>61251</th>\n",
       "      <td>321D0506</td>\n",
       "      <td>Freight Train</td>\n",
       "      <td>Chas McDevitt</td>\n",
       "      <td>rock</td>\n",
       "      <td>Moscow</td>\n",
       "      <td>21:43:59</td>\n",
       "      <td>Friday</td>\n",
       "    </tr>\n",
       "    <tr>\n",
       "      <th>61252</th>\n",
       "      <td>3A64EF84</td>\n",
       "      <td>Tell Me Sweet Little Lies</td>\n",
       "      <td>Monica Lopez</td>\n",
       "      <td>country</td>\n",
       "      <td>Moscow</td>\n",
       "      <td>21:59:46</td>\n",
       "      <td>Friday</td>\n",
       "    </tr>\n",
       "  </tbody>\n",
       "</table>\n",
       "<p>42741 rows × 7 columns</p>\n",
       "</div>"
      ],
      "text/plain": [
       "        user_id                          track                   artist  \\\n",
       "1      55204538    Delayed Because of Accident         Andreas Rönnberg   \n",
       "4      E2DC1FAE                    Soul People               Space Echo   \n",
       "6      4CB90AA5                           True             Roman Messer   \n",
       "7      F03E1C1F               Feeling This Way          Polina Griffith   \n",
       "8      8FA1D3BE       И вновь продолжается бой                  unknown   \n",
       "...         ...                            ...                      ...   \n",
       "61247  83A474E7  I Worship Only What You Bleed  The Black Dahlia Murder   \n",
       "61248  729CBB09                        My Name                   McLean   \n",
       "61250  C5E3A0D5                      Jalopiina                  unknown   \n",
       "61251  321D0506                  Freight Train            Chas McDevitt   \n",
       "61252  3A64EF84      Tell Me Sweet Little Lies             Monica Lopez   \n",
       "\n",
       "              genre    city      time        day  \n",
       "1              rock  Moscow  14:07:09     Friday  \n",
       "4             dance  Moscow  08:34:34     Monday  \n",
       "6             dance  Moscow  13:00:07  Wednesday  \n",
       "7             dance  Moscow  20:47:49  Wednesday  \n",
       "8            ruspop  Moscow  09:17:40     Friday  \n",
       "...             ...     ...       ...        ...  \n",
       "61247  extrememetal  Moscow  21:07:12     Monday  \n",
       "61248           rnb  Moscow  13:32:28  Wednesday  \n",
       "61250    industrial  Moscow  20:09:26     Friday  \n",
       "61251          rock  Moscow  21:43:59     Friday  \n",
       "61252       country  Moscow  21:59:46     Friday  \n",
       "\n",
       "[42741 rows x 7 columns]"
      ]
     },
     "metadata": {},
     "output_type": "display_data"
    }
   ],
   "source": [
    "data_moscow = df[df['city'] == 'Moscow']\n",
    "moscow_general = pd.DataFrame(data = data_moscow, columns = df.columns)\n",
    "display(moscow_general)# получение таблицы moscow_general из тех строк таблицы df, \n",
    "# для которых значение в столбце 'city' равно 'Moscow'\n"
   ]
  },
  {
   "cell_type": "code",
   "execution_count": 29,
   "metadata": {
    "id": "ORaVRKto_Zcu"
   },
   "outputs": [
    {
     "data": {
      "text/html": [
       "<div>\n",
       "<style scoped>\n",
       "    .dataframe tbody tr th:only-of-type {\n",
       "        vertical-align: middle;\n",
       "    }\n",
       "\n",
       "    .dataframe tbody tr th {\n",
       "        vertical-align: top;\n",
       "    }\n",
       "\n",
       "    .dataframe thead th {\n",
       "        text-align: right;\n",
       "    }\n",
       "</style>\n",
       "<table border=\"1\" class=\"dataframe\">\n",
       "  <thead>\n",
       "    <tr style=\"text-align: right;\">\n",
       "      <th></th>\n",
       "      <th>user_id</th>\n",
       "      <th>track</th>\n",
       "      <th>artist</th>\n",
       "      <th>genre</th>\n",
       "      <th>city</th>\n",
       "      <th>time</th>\n",
       "      <th>day</th>\n",
       "    </tr>\n",
       "  </thead>\n",
       "  <tbody>\n",
       "    <tr>\n",
       "      <th>0</th>\n",
       "      <td>FFB692EC</td>\n",
       "      <td>Kamigata To Boots</td>\n",
       "      <td>The Mass Missile</td>\n",
       "      <td>rock</td>\n",
       "      <td>Saint-Petersburg</td>\n",
       "      <td>20:28:33</td>\n",
       "      <td>Wednesday</td>\n",
       "    </tr>\n",
       "    <tr>\n",
       "      <th>2</th>\n",
       "      <td>20EC38</td>\n",
       "      <td>Funiculì funiculà</td>\n",
       "      <td>Mario Lanza</td>\n",
       "      <td>pop</td>\n",
       "      <td>Saint-Petersburg</td>\n",
       "      <td>20:58:07</td>\n",
       "      <td>Wednesday</td>\n",
       "    </tr>\n",
       "    <tr>\n",
       "      <th>3</th>\n",
       "      <td>A3DD03C9</td>\n",
       "      <td>Dragons in the Sunset</td>\n",
       "      <td>Fire + Ice</td>\n",
       "      <td>folk</td>\n",
       "      <td>Saint-Petersburg</td>\n",
       "      <td>08:37:09</td>\n",
       "      <td>Monday</td>\n",
       "    </tr>\n",
       "    <tr>\n",
       "      <th>5</th>\n",
       "      <td>842029A1</td>\n",
       "      <td>Преданная</td>\n",
       "      <td>IMPERVTOR</td>\n",
       "      <td>rusrap</td>\n",
       "      <td>Saint-Petersburg</td>\n",
       "      <td>13:09:41</td>\n",
       "      <td>Friday</td>\n",
       "    </tr>\n",
       "    <tr>\n",
       "      <th>9</th>\n",
       "      <td>E772D5C0</td>\n",
       "      <td>Pessimist</td>\n",
       "      <td>unknown</td>\n",
       "      <td>dance</td>\n",
       "      <td>Saint-Petersburg</td>\n",
       "      <td>21:20:49</td>\n",
       "      <td>Wednesday</td>\n",
       "    </tr>\n",
       "    <tr>\n",
       "      <th>...</th>\n",
       "      <td>...</td>\n",
       "      <td>...</td>\n",
       "      <td>...</td>\n",
       "      <td>...</td>\n",
       "      <td>...</td>\n",
       "      <td>...</td>\n",
       "      <td>...</td>\n",
       "    </tr>\n",
       "    <tr>\n",
       "      <th>61239</th>\n",
       "      <td>D94F810B</td>\n",
       "      <td>Theme from the Walking Dead</td>\n",
       "      <td>Proyecto Halloween</td>\n",
       "      <td>film</td>\n",
       "      <td>Saint-Petersburg</td>\n",
       "      <td>21:14:40</td>\n",
       "      <td>Monday</td>\n",
       "    </tr>\n",
       "    <tr>\n",
       "      <th>61240</th>\n",
       "      <td>BC8EC5CF</td>\n",
       "      <td>Red Lips: Gta (Rover Rework)</td>\n",
       "      <td>Rover</td>\n",
       "      <td>electronic</td>\n",
       "      <td>Saint-Petersburg</td>\n",
       "      <td>21:06:50</td>\n",
       "      <td>Monday</td>\n",
       "    </tr>\n",
       "    <tr>\n",
       "      <th>61241</th>\n",
       "      <td>29E04611</td>\n",
       "      <td>Bre Petrunko</td>\n",
       "      <td>Perunika Trio</td>\n",
       "      <td>world</td>\n",
       "      <td>Saint-Petersburg</td>\n",
       "      <td>13:56:00</td>\n",
       "      <td>Monday</td>\n",
       "    </tr>\n",
       "    <tr>\n",
       "      <th>61242</th>\n",
       "      <td>1B91C621</td>\n",
       "      <td>(Hello) Cloud Mountain</td>\n",
       "      <td>sleepmakeswaves</td>\n",
       "      <td>postrock</td>\n",
       "      <td>Saint-Petersburg</td>\n",
       "      <td>09:22:13</td>\n",
       "      <td>Monday</td>\n",
       "    </tr>\n",
       "    <tr>\n",
       "      <th>61249</th>\n",
       "      <td>D08D4A55</td>\n",
       "      <td>Maybe One Day (feat. Black Spade)</td>\n",
       "      <td>Blu &amp; Exile</td>\n",
       "      <td>hiphop</td>\n",
       "      <td>Saint-Petersburg</td>\n",
       "      <td>10:00:00</td>\n",
       "      <td>Monday</td>\n",
       "    </tr>\n",
       "  </tbody>\n",
       "</table>\n",
       "<p>18512 rows × 7 columns</p>\n",
       "</div>"
      ],
      "text/plain": [
       "        user_id                              track              artist  \\\n",
       "0      FFB692EC                  Kamigata To Boots    The Mass Missile   \n",
       "2        20EC38                  Funiculì funiculà         Mario Lanza   \n",
       "3      A3DD03C9              Dragons in the Sunset          Fire + Ice   \n",
       "5      842029A1                          Преданная           IMPERVTOR   \n",
       "9      E772D5C0                          Pessimist             unknown   \n",
       "...         ...                                ...                 ...   \n",
       "61239  D94F810B        Theme from the Walking Dead  Proyecto Halloween   \n",
       "61240  BC8EC5CF       Red Lips: Gta (Rover Rework)               Rover   \n",
       "61241  29E04611                       Bre Petrunko       Perunika Trio   \n",
       "61242  1B91C621             (Hello) Cloud Mountain     sleepmakeswaves   \n",
       "61249  D08D4A55  Maybe One Day (feat. Black Spade)         Blu & Exile   \n",
       "\n",
       "            genre              city      time        day  \n",
       "0            rock  Saint-Petersburg  20:28:33  Wednesday  \n",
       "2             pop  Saint-Petersburg  20:58:07  Wednesday  \n",
       "3            folk  Saint-Petersburg  08:37:09     Monday  \n",
       "5          rusrap  Saint-Petersburg  13:09:41     Friday  \n",
       "9           dance  Saint-Petersburg  21:20:49  Wednesday  \n",
       "...           ...               ...       ...        ...  \n",
       "61239        film  Saint-Petersburg  21:14:40     Monday  \n",
       "61240  electronic  Saint-Petersburg  21:06:50     Monday  \n",
       "61241       world  Saint-Petersburg  13:56:00     Monday  \n",
       "61242    postrock  Saint-Petersburg  09:22:13     Monday  \n",
       "61249      hiphop  Saint-Petersburg  10:00:00     Monday  \n",
       "\n",
       "[18512 rows x 7 columns]"
      ]
     },
     "metadata": {},
     "output_type": "display_data"
    }
   ],
   "source": [
    "data_sp = df[df['city'] == 'Saint-Petersburg']\n",
    "spb_general = pd.DataFrame(data = data_sp, columns = df.columns)\n",
    "display(spb_general)# получение таблицы spb_general из тех строк таблицы df,\n",
    "# для которых значение в столбце 'city' равно 'Saint-Petersburg'\n"
   ]
  },
  {
   "cell_type": "markdown",
   "metadata": {
    "id": "MEJV-CX2_Zcu"
   },
   "source": [
    "Создадим функцию `genre_weekday()` с четырьмя параметрами:\n",
    "* таблица (датафрейм) с данными,\n",
    "* день недели,\n",
    "* начальная временная метка в формате 'hh:mm', \n",
    "* последняя временная метка в формате 'hh:mm'.\n",
    "\n",
    "Функция должна вернуть информацию о топ-10 жанров тех треков, которые прослушивали в указанный день, в промежутке между двумя отметками времени."
   ]
  },
  {
   "cell_type": "code",
   "execution_count": 30,
   "metadata": {
    "id": "laJT9BYl_Zcu"
   },
   "outputs": [],
   "source": [
    "def genre_weekday(table, day, time1, time2):\n",
    "    genre_df = table[(table['day'] == day) & (table['time'] > time1) & (table['time'] < time2)]\n",
    "    genre_df_count = genre_df.groupby('genre')['genre'].count()\n",
    "    genre_df_sorted = genre_df_count.sort_values(ascending = False)\n",
    "    return genre_df_sorted.head(10)\n",
    "    \n",
    "    # Объявление функции genre_weekday() с параметрами table, day, time1, time2,\n",
    "# которая возвращает информацию о самых популярных жанрах в указанный день в\n",
    "# заданное время:\n",
    "# 1) в переменную genre_df сохраняются те строки переданного датафрейма table, для\n",
    "#    которых одновременно:\n",
    "#    - значение в столбце day равно значению аргумента day\n",
    "#    - значение в столбце time больше значения аргумента time1\n",
    "#    - значение в столбце time меньше значения аргумента time2\n",
    "#    Используйте последовательную фильтрацию с помощью логической индексации.\n",
    "# 2) сгруппировать датафрейм genre_df по столбцу genre, взять один из его\n",
    "#    столбцов и посчитать методом count() количество записей для каждого из\n",
    "#    присутствующих жанров, получившийся Series записать в переменную\n",
    "#    genre_df_count\n",
    "# 3) отсортировать genre_df_count по убыванию встречаемости и сохранить\n",
    "#    в переменную genre_df_sorted\n",
    "# 4) вернуть Series из 10 первых значений genre_df_sorted, это будут топ-10\n",
    "#    популярных жанров (в указанный день, в заданное время)"
   ]
  },
  {
   "cell_type": "markdown",
   "metadata": {
    "id": "la2s2_PF_Zcu"
   },
   "source": [
    "Cравним результаты функции `genre_weekday()` для Москвы и Санкт-Петербурга в понедельник утром (с 7:00 до 11:00) и в пятницу вечером (с 17:00 до 23:00):"
   ]
  },
  {
   "cell_type": "code",
   "execution_count": 31,
   "metadata": {
    "id": "yz7itPUQ_Zcu"
   },
   "outputs": [
    {
     "data": {
      "text/plain": [
       "genre\n",
       "pop            781\n",
       "dance          549\n",
       "electronic     480\n",
       "rock           474\n",
       "hiphop         286\n",
       "ruspop         186\n",
       "world          181\n",
       "rusrap         175\n",
       "alternative    164\n",
       "unknown        161\n",
       "Name: genre, dtype: int64"
      ]
     },
     "execution_count": 31,
     "metadata": {},
     "output_type": "execute_result"
    }
   ],
   "source": [
    "genre_weekday(moscow_general, 'Monday', '07:00', '11:00')\n",
    "# вызов функции для утра понедельника в Москве (вместо df — таблица moscow_general)\n",
    "# объекты, хранящие время, являются строками и сравниваются как строки\n",
    "# пример вызова: genre_weekday(moscow_general, 'Monday', '07:00', '11:00')"
   ]
  },
  {
   "cell_type": "code",
   "execution_count": 32,
   "metadata": {
    "id": "kwUcHPdy_Zcu"
   },
   "outputs": [
    {
     "data": {
      "text/plain": [
       "genre\n",
       "pop            218\n",
       "dance          182\n",
       "rock           162\n",
       "electronic     147\n",
       "hiphop          80\n",
       "ruspop          64\n",
       "alternative     58\n",
       "rusrap          55\n",
       "jazz            44\n",
       "classical       40\n",
       "Name: genre, dtype: int64"
      ]
     },
     "execution_count": 32,
     "metadata": {},
     "output_type": "execute_result"
    }
   ],
   "source": [
    "genre_weekday(spb_general, 'Monday', '07:00', '11:00')# вызов функции для утра понедельника в Петербурге (вместо df — таблица spb_general)"
   ]
  },
  {
   "cell_type": "code",
   "execution_count": 33,
   "metadata": {
    "id": "EzXVRE1o_Zcu"
   },
   "outputs": [
    {
     "data": {
      "text/plain": [
       "genre\n",
       "pop            713\n",
       "rock           517\n",
       "dance          495\n",
       "electronic     482\n",
       "hiphop         273\n",
       "world          208\n",
       "ruspop         170\n",
       "alternative    163\n",
       "classical      163\n",
       "rusrap         142\n",
       "Name: genre, dtype: int64"
      ]
     },
     "execution_count": 33,
     "metadata": {},
     "output_type": "execute_result"
    }
   ],
   "source": [
    "genre_weekday(moscow_general, 'Friday', '17:00', '23:00')# вызов функции для вечера пятницы в Москве"
   ]
  },
  {
   "cell_type": "code",
   "execution_count": 34,
   "metadata": {
    "id": "JZaEKu5v_Zcu"
   },
   "outputs": [
    {
     "data": {
      "text/plain": [
       "genre\n",
       "pop            256\n",
       "electronic     216\n",
       "rock           216\n",
       "dance          210\n",
       "hiphop          97\n",
       "alternative     63\n",
       "jazz            61\n",
       "classical       60\n",
       "rusrap          59\n",
       "world           54\n",
       "Name: genre, dtype: int64"
      ]
     },
     "execution_count": 34,
     "metadata": {},
     "output_type": "execute_result"
    }
   ],
   "source": [
    "genre_weekday(spb_general, 'Friday', '17:00', '23:00')# вызов функции для вечера пятницы в Петербурге"
   ]
  },
  {
   "cell_type": "markdown",
   "metadata": {
    "id": "wrCe4MNX_Zcu"
   },
   "source": [
    "**Выводы**\n",
    "\n",
    "Если сравнить топ-10 жанров в понедельник утром, можно сделать такие выводы:\n",
    "\n",
    "1. В Москве и Петербурге слушают похожую музыку. Единственное отличие — в московский рейтинг вошёл жанр “world”, а в петербургский — джаз и классика.\n",
    "\n",
    "2. В Москве пропущенных значений оказалось так много, что значение `'unknown'` заняло десятое место среди самых популярных жанров. Значит, пропущенные значения занимают существенную долю в данных и угрожают достоверности исследования.\n",
    "\n",
    "Вечер пятницы не меняет эту картину. Некоторые жанры поднимаются немного выше, другие спускаются, но в целом топ-10 остаётся тем же самым.\n",
    "\n",
    "Таким образом, вторая гипотеза подтвердилась лишь частично:\n",
    "* Пользователи слушают похожую музыку в начале недели и в конце.\n",
    "* Разница между Москвой и Петербургом не слишком выражена. В Москве чаще слушают русскую популярную музыку, в Петербурге — джаз.\n",
    "\n",
    "Однако пропуски в данных ставят под сомнение этот результат. В Москве их так много, что рейтинг топ-10 мог бы выглядеть иначе, если бы не утерянные  данные о жанрах."
   ]
  },
  {
   "cell_type": "markdown",
   "metadata": {
    "id": "JolODAqr_Zcu"
   },
   "source": [
    "### Жанровые предпочтения в Москве и Петербурге\n",
    "\n",
    "Гипотеза: Петербург — столица рэпа, музыку этого жанра там слушают чаще, чем в Москве.  А Москва — город контрастов, в котором, тем не менее, преобладает поп-музыка."
   ]
  },
  {
   "cell_type": "markdown",
   "metadata": {
    "id": "DlegSvaT_Zcu"
   },
   "source": [
    "Сгруппируем таблицу `moscow_general` по жанру и посчитаем прослушивания треков каждого жанра методом. Затем отсортируем результат в порядке убывания и сохраним его в таблице `moscow_genres`."
   ]
  },
  {
   "cell_type": "code",
   "execution_count": 35,
   "metadata": {
    "id": "r19lIPke_Zcu"
   },
   "outputs": [],
   "source": [
    "moscow_genres = moscow_general.groupby('genre')['genre'].count()\n",
    "moscow_genres = moscow_genres.sort_values(ascending = False)"
   ]
  },
  {
   "cell_type": "code",
   "execution_count": 36,
   "metadata": {},
   "outputs": [
    {
     "data": {
      "text/html": [
       "<div>\n",
       "<style scoped>\n",
       "    .dataframe tbody tr th:only-of-type {\n",
       "        vertical-align: middle;\n",
       "    }\n",
       "\n",
       "    .dataframe tbody tr th {\n",
       "        vertical-align: top;\n",
       "    }\n",
       "\n",
       "    .dataframe thead th {\n",
       "        text-align: right;\n",
       "    }\n",
       "</style>\n",
       "<table border=\"1\" class=\"dataframe\">\n",
       "  <thead>\n",
       "    <tr style=\"text-align: right;\">\n",
       "      <th></th>\n",
       "      <th>genre</th>\n",
       "    </tr>\n",
       "    <tr>\n",
       "      <th>genre</th>\n",
       "      <th></th>\n",
       "    </tr>\n",
       "  </thead>\n",
       "  <tbody>\n",
       "    <tr>\n",
       "      <th>pop</th>\n",
       "      <td>5892</td>\n",
       "    </tr>\n",
       "    <tr>\n",
       "      <th>dance</th>\n",
       "      <td>4435</td>\n",
       "    </tr>\n",
       "    <tr>\n",
       "      <th>rock</th>\n",
       "      <td>3965</td>\n",
       "    </tr>\n",
       "    <tr>\n",
       "      <th>electronic</th>\n",
       "      <td>3786</td>\n",
       "    </tr>\n",
       "    <tr>\n",
       "      <th>hiphop</th>\n",
       "      <td>2096</td>\n",
       "    </tr>\n",
       "    <tr>\n",
       "      <th>classical</th>\n",
       "      <td>1616</td>\n",
       "    </tr>\n",
       "    <tr>\n",
       "      <th>world</th>\n",
       "      <td>1432</td>\n",
       "    </tr>\n",
       "    <tr>\n",
       "      <th>alternative</th>\n",
       "      <td>1379</td>\n",
       "    </tr>\n",
       "    <tr>\n",
       "      <th>ruspop</th>\n",
       "      <td>1372</td>\n",
       "    </tr>\n",
       "    <tr>\n",
       "      <th>rusrap</th>\n",
       "      <td>1161</td>\n",
       "    </tr>\n",
       "  </tbody>\n",
       "</table>\n",
       "</div>"
      ],
      "text/plain": [
       "             genre\n",
       "genre             \n",
       "pop           5892\n",
       "dance         4435\n",
       "rock          3965\n",
       "electronic    3786\n",
       "hiphop        2096\n",
       "classical     1616\n",
       "world         1432\n",
       "alternative   1379\n",
       "ruspop        1372\n",
       "rusrap        1161"
      ]
     },
     "execution_count": 36,
     "metadata": {},
     "output_type": "execute_result"
    }
   ],
   "source": [
    "moscow_genres.to_frame().head(10)# просмотр первых 10 строк moscow_genres"
   ]
  },
  {
   "cell_type": "markdown",
   "metadata": {
    "id": "cnPG2vnN_Zcv"
   },
   "source": [
    "Теперь повторим то же и для Петербурга."
   ]
  },
  {
   "cell_type": "code",
   "execution_count": 37,
   "metadata": {
    "id": "gluLIpE7_Zcv"
   },
   "outputs": [],
   "source": [
    "spb_genres = spb_general.groupby('genre')['genre'].count()\n",
    "spb_genres = spb_genres.sort_values(ascending = False)"
   ]
  },
  {
   "cell_type": "code",
   "execution_count": 38,
   "metadata": {
    "id": "uaGJHjVU_Zcv"
   },
   "outputs": [
    {
     "data": {
      "text/html": [
       "<div>\n",
       "<style scoped>\n",
       "    .dataframe tbody tr th:only-of-type {\n",
       "        vertical-align: middle;\n",
       "    }\n",
       "\n",
       "    .dataframe tbody tr th {\n",
       "        vertical-align: top;\n",
       "    }\n",
       "\n",
       "    .dataframe thead th {\n",
       "        text-align: right;\n",
       "    }\n",
       "</style>\n",
       "<table border=\"1\" class=\"dataframe\">\n",
       "  <thead>\n",
       "    <tr style=\"text-align: right;\">\n",
       "      <th></th>\n",
       "      <th>genre</th>\n",
       "    </tr>\n",
       "    <tr>\n",
       "      <th>genre</th>\n",
       "      <th></th>\n",
       "    </tr>\n",
       "  </thead>\n",
       "  <tbody>\n",
       "    <tr>\n",
       "      <th>pop</th>\n",
       "      <td>2431</td>\n",
       "    </tr>\n",
       "    <tr>\n",
       "      <th>dance</th>\n",
       "      <td>1932</td>\n",
       "    </tr>\n",
       "    <tr>\n",
       "      <th>rock</th>\n",
       "      <td>1879</td>\n",
       "    </tr>\n",
       "    <tr>\n",
       "      <th>electronic</th>\n",
       "      <td>1736</td>\n",
       "    </tr>\n",
       "    <tr>\n",
       "      <th>hiphop</th>\n",
       "      <td>960</td>\n",
       "    </tr>\n",
       "    <tr>\n",
       "      <th>alternative</th>\n",
       "      <td>649</td>\n",
       "    </tr>\n",
       "    <tr>\n",
       "      <th>classical</th>\n",
       "      <td>646</td>\n",
       "    </tr>\n",
       "    <tr>\n",
       "      <th>rusrap</th>\n",
       "      <td>564</td>\n",
       "    </tr>\n",
       "    <tr>\n",
       "      <th>ruspop</th>\n",
       "      <td>538</td>\n",
       "    </tr>\n",
       "    <tr>\n",
       "      <th>world</th>\n",
       "      <td>515</td>\n",
       "    </tr>\n",
       "  </tbody>\n",
       "</table>\n",
       "</div>"
      ],
      "text/plain": [
       "             genre\n",
       "genre             \n",
       "pop           2431\n",
       "dance         1932\n",
       "rock          1879\n",
       "electronic    1736\n",
       "hiphop         960\n",
       "alternative    649\n",
       "classical      646\n",
       "rusrap         564\n",
       "ruspop         538\n",
       "world          515"
      ]
     },
     "execution_count": 38,
     "metadata": {},
     "output_type": "execute_result"
    }
   ],
   "source": [
    "spb_genres.to_frame().head(10)# просмотр первых 10 строк spb_genres"
   ]
  },
  {
   "cell_type": "markdown",
   "metadata": {
    "id": "RY51YJYu_Zcv"
   },
   "source": [
    "**Выводы**"
   ]
  },
  {
   "cell_type": "markdown",
   "metadata": {
    "id": "nVhnJEm__Zcv"
   },
   "source": [
    "Гипотеза частично подтвердилась:\n",
    "* Поп-музыка — самый популярный жанр в Москве, как и предполагала гипотеза. Более того, в топ-10 жанров встречается близкий жанр — русская популярная музыка.\n",
    "* Вопреки ожиданиям, рэп одинаково популярен в Москве и Петербурге. \n"
   ]
  },
  {
   "cell_type": "markdown",
   "metadata": {
    "id": "ykKQ0N65_Zcv"
   },
   "source": [
    "## Итоги исследования"
   ]
  },
  {
   "cell_type": "markdown",
   "metadata": {
    "id": "tjUwbHb3_Zcv"
   },
   "source": [
    "Мы проверили три гипотезы и установили:\n",
    "\n",
    "1. День недели по-разному влияет на активность пользователей в Москве и Петербурге. \n",
    "\n",
    "Первая гипотеза полностью подтвердилась.\n",
    "\n",
    "2. Музыкальные предпочтения не сильно меняются в течение недели — будь то Москва или Петербург. Небольшие различия заметны в начале недели, по понедельникам:\n",
    "* в Москве слушают музыку жанра “world”,\n",
    "* в Петербурге — джаз и классику.\n",
    "\n",
    "Таким образом, вторая гипотеза подтвердилась лишь отчасти. Этот результат мог оказаться иным, если бы не пропуски в данных.\n",
    "\n",
    "3. Во вкусах пользователей Москвы и Петербурга больше общего чем различий. Вопреки ожиданиям, предпочтения жанров в Петербурге напоминают московские.\n",
    "\n",
    "Третья гипотеза не подтвердилась. Если различия в предпочтениях и существуют, на основной массе пользователей они незаметны."
   ]
  }
 ],
 "metadata": {
  "ExecuteTimeLog": [
   {
    "duration": 812,
    "start_time": "2021-12-20T15:05:47.434Z"
   },
   {
    "duration": 3,
    "start_time": "2021-12-20T15:06:57.893Z"
   },
   {
    "duration": 459,
    "start_time": "2021-12-20T15:07:35.584Z"
   },
   {
    "duration": 304,
    "start_time": "2021-12-20T15:08:47.949Z"
   },
   {
    "duration": 200,
    "start_time": "2021-12-20T15:11:18.767Z"
   },
   {
    "duration": 30,
    "start_time": "2021-12-20T15:11:22.881Z"
   },
   {
    "duration": 34,
    "start_time": "2021-12-20T15:12:46.746Z"
   },
   {
    "duration": 24,
    "start_time": "2021-12-20T15:16:33.795Z"
   },
   {
    "duration": 331,
    "start_time": "2021-12-20T15:22:08.994Z"
   },
   {
    "duration": 5,
    "start_time": "2021-12-20T15:22:15.123Z"
   },
   {
    "duration": 6,
    "start_time": "2021-12-20T15:25:57.713Z"
   },
   {
    "duration": 27,
    "start_time": "2021-12-20T15:28:02.338Z"
   },
   {
    "duration": 6,
    "start_time": "2021-12-20T15:28:10.719Z"
   },
   {
    "duration": 49,
    "start_time": "2021-12-20T15:30:13.987Z"
   },
   {
    "duration": 4,
    "start_time": "2021-12-20T15:37:03.907Z"
   },
   {
    "duration": 51,
    "start_time": "2021-12-20T15:37:16.187Z"
   },
   {
    "duration": 39,
    "start_time": "2021-12-20T15:39:29.566Z"
   },
   {
    "duration": 38,
    "start_time": "2021-12-20T15:39:32.376Z"
   },
   {
    "duration": 109,
    "start_time": "2021-12-20T15:42:45.687Z"
   },
   {
    "duration": 130,
    "start_time": "2021-12-20T15:43:14.307Z"
   },
   {
    "duration": 116,
    "start_time": "2021-12-20T15:44:02.771Z"
   },
   {
    "duration": 134,
    "start_time": "2021-12-20T15:44:18.039Z"
   },
   {
    "duration": 153,
    "start_time": "2021-12-20T15:44:21.960Z"
   },
   {
    "duration": 115,
    "start_time": "2021-12-20T15:45:08.289Z"
   },
   {
    "duration": 101,
    "start_time": "2021-12-20T15:45:18.042Z"
   },
   {
    "duration": 128,
    "start_time": "2021-12-20T15:46:18.370Z"
   },
   {
    "duration": 101,
    "start_time": "2021-12-20T15:46:23.851Z"
   },
   {
    "duration": -733,
    "start_time": "2021-12-20T15:51:24.831Z"
   },
   {
    "duration": 10,
    "start_time": "2021-12-20T15:51:26.855Z"
   },
   {
    "duration": 91,
    "start_time": "2021-12-20T15:55:01.402Z"
   },
   {
    "duration": 338,
    "start_time": "2021-12-20T15:55:52.371Z"
   },
   {
    "duration": 61,
    "start_time": "2021-12-20T15:56:48.963Z"
   },
   {
    "duration": 57,
    "start_time": "2021-12-20T15:57:08.452Z"
   },
   {
    "duration": 63,
    "start_time": "2021-12-20T15:57:33.769Z"
   },
   {
    "duration": 7,
    "start_time": "2021-12-20T16:14:37.268Z"
   },
   {
    "duration": 4,
    "start_time": "2021-12-20T16:14:50.161Z"
   },
   {
    "duration": 1244,
    "start_time": "2021-12-20T16:16:06.411Z"
   },
   {
    "duration": 815,
    "start_time": "2021-12-20T16:16:26.408Z"
   },
   {
    "duration": 677,
    "start_time": "2021-12-20T16:17:59.047Z"
   },
   {
    "duration": 758,
    "start_time": "2021-12-20T16:18:23.014Z"
   },
   {
    "duration": 123,
    "start_time": "2021-12-20T16:18:51.816Z"
   },
   {
    "duration": 115,
    "start_time": "2021-12-20T16:19:12.843Z"
   },
   {
    "duration": 73,
    "start_time": "2021-12-20T16:19:31.294Z"
   },
   {
    "duration": 9,
    "start_time": "2021-12-20T16:19:57.626Z"
   },
   {
    "duration": 4,
    "start_time": "2021-12-20T16:20:39.202Z"
   },
   {
    "duration": 9,
    "start_time": "2021-12-20T16:20:43.474Z"
   },
   {
    "duration": 11,
    "start_time": "2021-12-20T16:20:46.488Z"
   },
   {
    "duration": 4,
    "start_time": "2021-12-20T16:21:25.931Z"
   },
   {
    "duration": 9,
    "start_time": "2021-12-20T16:21:28.856Z"
   },
   {
    "duration": 10,
    "start_time": "2021-12-20T16:21:31.620Z"
   },
   {
    "duration": 3,
    "start_time": "2021-12-20T16:23:33.591Z"
   },
   {
    "duration": 11,
    "start_time": "2021-12-20T16:23:36.586Z"
   },
   {
    "duration": 4,
    "start_time": "2021-12-20T16:23:53.807Z"
   },
   {
    "duration": 10,
    "start_time": "2021-12-20T16:23:57.762Z"
   },
   {
    "duration": 13,
    "start_time": "2021-12-20T16:24:00.805Z"
   },
   {
    "duration": 4,
    "start_time": "2021-12-20T16:26:22.538Z"
   },
   {
    "duration": 11,
    "start_time": "2021-12-20T16:26:25.673Z"
   },
   {
    "duration": 15,
    "start_time": "2021-12-20T16:26:43.331Z"
   },
   {
    "duration": 93,
    "start_time": "2021-12-20T16:27:11.355Z"
   },
   {
    "duration": 7,
    "start_time": "2021-12-21T15:21:56.522Z"
   },
   {
    "duration": 695,
    "start_time": "2021-12-21T15:21:59.787Z"
   },
   {
    "duration": 4,
    "start_time": "2021-12-21T15:22:31.580Z"
   },
   {
    "duration": 635,
    "start_time": "2021-12-21T15:22:36.838Z"
   },
   {
    "duration": 5,
    "start_time": "2021-12-21T15:24:19.259Z"
   },
   {
    "duration": 664,
    "start_time": "2021-12-21T15:24:24.936Z"
   },
   {
    "duration": 726,
    "start_time": "2021-12-21T15:26:52.086Z"
   },
   {
    "duration": 5,
    "start_time": "2021-12-21T15:27:29.437Z"
   },
   {
    "duration": 644,
    "start_time": "2021-12-21T15:27:31.898Z"
   },
   {
    "duration": 426,
    "start_time": "2021-12-21T15:29:43.035Z"
   },
   {
    "duration": 1137,
    "start_time": "2021-12-21T15:30:09.170Z"
   },
   {
    "duration": 208,
    "start_time": "2021-12-21T15:30:11.851Z"
   },
   {
    "duration": 31,
    "start_time": "2021-12-21T15:30:14.799Z"
   },
   {
    "duration": 48,
    "start_time": "2021-12-21T15:30:18.266Z"
   },
   {
    "duration": 7,
    "start_time": "2021-12-21T15:30:22.406Z"
   },
   {
    "duration": 34,
    "start_time": "2021-12-21T15:30:25.629Z"
   },
   {
    "duration": 6,
    "start_time": "2021-12-21T15:30:27.761Z"
   },
   {
    "duration": 40,
    "start_time": "2021-12-21T15:30:30.770Z"
   },
   {
    "duration": 25,
    "start_time": "2021-12-21T15:30:35.314Z"
   },
   {
    "duration": 32,
    "start_time": "2021-12-21T15:30:37.761Z"
   },
   {
    "duration": 114,
    "start_time": "2021-12-21T15:30:40.510Z"
   },
   {
    "duration": 142,
    "start_time": "2021-12-21T15:30:42.758Z"
   },
   {
    "duration": 94,
    "start_time": "2021-12-21T15:30:45.231Z"
   },
   {
    "duration": 86,
    "start_time": "2021-12-21T15:30:47.807Z"
   },
   {
    "duration": 4,
    "start_time": "2021-12-21T15:30:52.805Z"
   },
   {
    "duration": 28,
    "start_time": "2021-12-21T15:30:55.333Z"
   },
   {
    "duration": 10,
    "start_time": "2021-12-21T15:31:05.079Z"
   },
   {
    "duration": 5,
    "start_time": "2021-12-21T15:31:48.609Z"
   },
   {
    "duration": 725,
    "start_time": "2021-12-21T15:31:51.051Z"
   },
   {
    "duration": 6,
    "start_time": "2021-12-21T15:46:59.453Z"
   },
   {
    "duration": 22,
    "start_time": "2021-12-21T15:47:01.739Z"
   },
   {
    "duration": 12,
    "start_time": "2021-12-21T15:47:18.027Z"
   },
   {
    "duration": 71,
    "start_time": "2021-12-21T15:47:39.484Z"
   },
   {
    "duration": 7,
    "start_time": "2021-12-21T15:56:52.567Z"
   },
   {
    "duration": 5,
    "start_time": "2021-12-21T15:57:27.986Z"
   },
   {
    "duration": 5,
    "start_time": "2021-12-21T15:59:11.004Z"
   },
   {
    "duration": 8234,
    "start_time": "2021-12-21T15:59:55.725Z"
   },
   {
    "duration": 753,
    "start_time": "2021-12-21T16:01:38.551Z"
   },
   {
    "duration": 20,
    "start_time": "2021-12-21T16:01:57.159Z"
   },
   {
    "duration": 45,
    "start_time": "2021-12-21T16:10:01.899Z"
   },
   {
    "duration": 772,
    "start_time": "2021-12-22T02:16:02.151Z"
   },
   {
    "duration": 191,
    "start_time": "2021-12-22T02:16:04.119Z"
   },
   {
    "duration": 26,
    "start_time": "2021-12-22T02:16:05.858Z"
   },
   {
    "duration": 34,
    "start_time": "2021-12-22T02:16:08.942Z"
   },
   {
    "duration": 6,
    "start_time": "2021-12-22T02:16:13.878Z"
   },
   {
    "duration": 26,
    "start_time": "2021-12-22T02:16:16.951Z"
   },
   {
    "duration": 30,
    "start_time": "2021-12-22T02:16:19.742Z"
   },
   {
    "duration": 22,
    "start_time": "2021-12-22T02:16:21.687Z"
   },
   {
    "duration": 30,
    "start_time": "2021-12-22T02:16:22.994Z"
   },
   {
    "duration": 86,
    "start_time": "2021-12-22T02:16:25.566Z"
   },
   {
    "duration": 99,
    "start_time": "2021-12-22T02:16:26.971Z"
   },
   {
    "duration": 77,
    "start_time": "2021-12-22T02:16:28.698Z"
   },
   {
    "duration": 59,
    "start_time": "2021-12-22T02:16:31.375Z"
   },
   {
    "duration": 4,
    "start_time": "2021-12-22T02:16:35.023Z"
   },
   {
    "duration": 14,
    "start_time": "2021-12-22T02:16:38.010Z"
   },
   {
    "duration": 58,
    "start_time": "2021-12-22T02:16:40.142Z"
   },
   {
    "duration": 17,
    "start_time": "2021-12-22T02:16:44.413Z"
   },
   {
    "duration": 47,
    "start_time": "2021-12-22T02:16:46.590Z"
   },
   {
    "duration": 473,
    "start_time": "2021-12-22T03:47:27.367Z"
   },
   {
    "duration": 5,
    "start_time": "2021-12-22T03:47:35.514Z"
   },
   {
    "duration": 18,
    "start_time": "2021-12-22T03:47:38.131Z"
   },
   {
    "duration": 5,
    "start_time": "2021-12-22T03:48:10.390Z"
   },
   {
    "duration": 20,
    "start_time": "2021-12-22T03:48:12.323Z"
   },
   {
    "duration": 19,
    "start_time": "2021-12-22T03:49:28.091Z"
   },
   {
    "duration": 19,
    "start_time": "2021-12-22T03:51:35.691Z"
   },
   {
    "duration": 18,
    "start_time": "2021-12-22T03:51:37.303Z"
   },
   {
    "duration": 20,
    "start_time": "2021-12-22T03:51:37.983Z"
   },
   {
    "duration": 18,
    "start_time": "2021-12-22T03:51:38.503Z"
   },
   {
    "duration": 9,
    "start_time": "2021-12-22T04:02:37.494Z"
   },
   {
    "duration": 10,
    "start_time": "2021-12-22T04:04:25.479Z"
   },
   {
    "duration": 327,
    "start_time": "2021-12-22T04:29:18.402Z"
   },
   {
    "duration": 600,
    "start_time": "2021-12-22T04:31:11.762Z"
   },
   {
    "duration": 340,
    "start_time": "2021-12-22T04:31:54.993Z"
   },
   {
    "duration": 324,
    "start_time": "2021-12-22T04:32:31.758Z"
   },
   {
    "duration": 931,
    "start_time": "2021-12-22T04:34:44.191Z"
   },
   {
    "duration": 28,
    "start_time": "2021-12-22T04:35:01.887Z"
   },
   {
    "duration": 26,
    "start_time": "2021-12-22T04:37:06.750Z"
   },
   {
    "duration": 20,
    "start_time": "2021-12-22T04:42:55.243Z"
   },
   {
    "duration": 6,
    "start_time": "2021-12-22T05:26:46.468Z"
   },
   {
    "duration": 28,
    "start_time": "2021-12-22T05:28:09.288Z"
   },
   {
    "duration": 31,
    "start_time": "2021-12-22T05:28:17.177Z"
   },
   {
    "duration": 23,
    "start_time": "2021-12-22T05:29:29.421Z"
   },
   {
    "duration": 18,
    "start_time": "2021-12-22T05:30:16.457Z"
   },
   {
    "duration": 25,
    "start_time": "2021-12-22T05:30:29.965Z"
   },
   {
    "duration": 19,
    "start_time": "2021-12-22T05:30:46.100Z"
   },
   {
    "duration": 24,
    "start_time": "2021-12-22T05:33:16.876Z"
   },
   {
    "duration": 18,
    "start_time": "2021-12-22T05:33:27.084Z"
   },
   {
    "duration": 24,
    "start_time": "2021-12-22T05:33:48.128Z"
   },
   {
    "duration": 26,
    "start_time": "2021-12-22T05:33:56.860Z"
   },
   {
    "duration": 63,
    "start_time": "2021-12-22T05:40:51.981Z"
   },
   {
    "duration": 7,
    "start_time": "2021-12-22T05:41:20.928Z"
   },
   {
    "duration": 71,
    "start_time": "2021-12-22T05:42:19.116Z"
   },
   {
    "duration": 7,
    "start_time": "2021-12-22T05:42:22.364Z"
   },
   {
    "duration": 438,
    "start_time": "2021-12-22T05:44:24.636Z"
   },
   {
    "duration": 450,
    "start_time": "2021-12-22T05:45:40.108Z"
   },
   {
    "duration": 334,
    "start_time": "2021-12-22T05:47:19.317Z"
   },
   {
    "duration": 306,
    "start_time": "2021-12-22T05:48:28.588Z"
   },
   {
    "duration": 555,
    "start_time": "2021-12-22T05:51:23.141Z"
   },
   {
    "duration": 33,
    "start_time": "2021-12-22T05:52:23.236Z"
   },
   {
    "duration": 12,
    "start_time": "2021-12-22T05:52:32.832Z"
   },
   {
    "duration": 566,
    "start_time": "2021-12-22T05:54:20.548Z"
   },
   {
    "duration": 348,
    "start_time": "2021-12-22T05:54:33.409Z"
   },
   {
    "duration": 373,
    "start_time": "2021-12-22T06:00:00.224Z"
   },
   {
    "duration": 338,
    "start_time": "2021-12-22T06:00:22.046Z"
   },
   {
    "duration": 331,
    "start_time": "2021-12-22T06:00:55.956Z"
   },
   {
    "duration": 364,
    "start_time": "2021-12-22T06:05:26.687Z"
   },
   {
    "duration": 12,
    "start_time": "2021-12-22T06:15:47.895Z"
   },
   {
    "duration": 7,
    "start_time": "2021-12-22T06:15:54.767Z"
   },
   {
    "duration": 27,
    "start_time": "2021-12-22T06:18:51.667Z"
   },
   {
    "duration": 18,
    "start_time": "2021-12-22T06:19:04.054Z"
   },
   {
    "duration": 18,
    "start_time": "2021-12-22T06:19:08.962Z"
   },
   {
    "duration": 9,
    "start_time": "2021-12-22T06:19:55.006Z"
   },
   {
    "duration": 7,
    "start_time": "2021-12-22T06:20:14.055Z"
   },
   {
    "duration": 16,
    "start_time": "2021-12-22T08:19:47.487Z"
   },
   {
    "duration": 760,
    "start_time": "2021-12-22T13:50:39.178Z"
   },
   {
    "duration": 177,
    "start_time": "2021-12-22T13:50:39.941Z"
   },
   {
    "duration": 29,
    "start_time": "2021-12-22T13:50:40.126Z"
   },
   {
    "duration": 57,
    "start_time": "2021-12-22T13:50:40.157Z"
   },
   {
    "duration": 50,
    "start_time": "2021-12-22T13:50:40.216Z"
   },
   {
    "duration": 49,
    "start_time": "2021-12-22T13:50:40.270Z"
   },
   {
    "duration": 40,
    "start_time": "2021-12-22T13:50:40.321Z"
   },
   {
    "duration": 43,
    "start_time": "2021-12-22T13:50:40.365Z"
   },
   {
    "duration": 53,
    "start_time": "2021-12-22T13:50:40.411Z"
   },
   {
    "duration": 79,
    "start_time": "2021-12-22T13:50:40.466Z"
   },
   {
    "duration": 100,
    "start_time": "2021-12-22T13:50:40.548Z"
   },
   {
    "duration": 105,
    "start_time": "2021-12-22T13:50:40.650Z"
   },
   {
    "duration": 81,
    "start_time": "2021-12-22T13:50:40.758Z"
   },
   {
    "duration": 59,
    "start_time": "2021-12-22T13:50:40.841Z"
   },
   {
    "duration": 23,
    "start_time": "2021-12-22T13:50:40.903Z"
   },
   {
    "duration": 39,
    "start_time": "2021-12-22T13:50:40.929Z"
   },
   {
    "duration": 102,
    "start_time": "2021-12-22T13:50:40.971Z"
   },
   {
    "duration": 31,
    "start_time": "2021-12-22T13:50:41.076Z"
   },
   {
    "duration": 52,
    "start_time": "2021-12-22T13:50:41.109Z"
   },
   {
    "duration": 4,
    "start_time": "2021-12-22T13:50:41.164Z"
   },
   {
    "duration": 41,
    "start_time": "2021-12-22T13:50:41.171Z"
   },
   {
    "duration": 35,
    "start_time": "2021-12-22T13:50:41.214Z"
   },
   {
    "duration": 21,
    "start_time": "2021-12-22T13:50:41.254Z"
   },
   {
    "duration": 47,
    "start_time": "2021-12-22T13:50:41.278Z"
   },
   {
    "duration": 25,
    "start_time": "2021-12-22T13:50:41.328Z"
   },
   {
    "duration": 16,
    "start_time": "2021-12-22T13:50:41.355Z"
   },
   {
    "duration": 8,
    "start_time": "2021-12-22T13:50:41.373Z"
   },
   {
    "duration": 68,
    "start_time": "2021-12-22T13:50:41.383Z"
   },
   {
    "duration": 25,
    "start_time": "2021-12-22T13:50:41.453Z"
   },
   {
    "duration": 5,
    "start_time": "2021-12-22T13:50:41.480Z"
   },
   {
    "duration": 57,
    "start_time": "2021-12-22T13:50:41.487Z"
   },
   {
    "duration": 16,
    "start_time": "2021-12-22T13:50:41.547Z"
   },
   {
    "duration": 26,
    "start_time": "2021-12-22T13:50:41.565Z"
   },
   {
    "duration": 50,
    "start_time": "2021-12-22T13:50:41.594Z"
   },
   {
    "duration": 13,
    "start_time": "2021-12-22T13:50:41.647Z"
   },
   {
    "duration": 8,
    "start_time": "2021-12-22T13:50:41.662Z"
   },
   {
    "duration": 10,
    "start_time": "2021-12-22T13:50:41.673Z"
   },
   {
    "duration": 8,
    "start_time": "2021-12-22T13:50:41.724Z"
   },
   {
    "duration": 5,
    "start_time": "2021-12-22T13:51:24.756Z"
   },
   {
    "duration": 7,
    "start_time": "2021-12-22T13:51:28.169Z"
   },
   {
    "duration": 62,
    "start_time": "2021-12-22T13:51:40.299Z"
   },
   {
    "duration": 13,
    "start_time": "2021-12-22T13:51:42.864Z"
   },
   {
    "duration": 57,
    "start_time": "2021-12-22T13:51:43.736Z"
   },
   {
    "duration": 20,
    "start_time": "2021-12-22T13:51:47.217Z"
   },
   {
    "duration": 43,
    "start_time": "2021-12-22T13:51:48.083Z"
   },
   {
    "duration": 20,
    "start_time": "2021-12-22T13:51:51.093Z"
   },
   {
    "duration": 21,
    "start_time": "2021-12-22T13:51:51.512Z"
   },
   {
    "duration": 20,
    "start_time": "2021-12-22T13:51:51.963Z"
   },
   {
    "duration": 19,
    "start_time": "2021-12-22T13:51:52.385Z"
   },
   {
    "duration": 25,
    "start_time": "2021-12-22T13:51:52.829Z"
   },
   {
    "duration": 38,
    "start_time": "2021-12-22T13:51:58.222Z"
   },
   {
    "duration": 29,
    "start_time": "2021-12-22T13:51:58.441Z"
   },
   {
    "duration": 27,
    "start_time": "2021-12-22T13:52:01.050Z"
   },
   {
    "duration": 18,
    "start_time": "2021-12-22T13:52:01.486Z"
   },
   {
    "duration": 28,
    "start_time": "2021-12-22T13:52:01.912Z"
   },
   {
    "duration": 11,
    "start_time": "2021-12-22T13:52:04.950Z"
   },
   {
    "duration": 12,
    "start_time": "2021-12-22T13:52:07.521Z"
   },
   {
    "duration": 8,
    "start_time": "2021-12-22T13:52:08.374Z"
   },
   {
    "duration": 5,
    "start_time": "2021-12-22T14:28:26.190Z"
   },
   {
    "duration": 361,
    "start_time": "2021-12-22T15:19:12.876Z"
   },
   {
    "duration": 737,
    "start_time": "2021-12-22T15:19:28.134Z"
   },
   {
    "duration": 204,
    "start_time": "2021-12-22T15:19:30.921Z"
   },
   {
    "duration": 25,
    "start_time": "2021-12-22T15:19:34.483Z"
   },
   {
    "duration": 32,
    "start_time": "2021-12-22T15:19:37.610Z"
   },
   {
    "duration": 6,
    "start_time": "2021-12-22T15:19:42.719Z"
   },
   {
    "duration": 27,
    "start_time": "2021-12-22T15:19:45.278Z"
   },
   {
    "duration": 6,
    "start_time": "2021-12-22T15:19:48.344Z"
   },
   {
    "duration": 32,
    "start_time": "2021-12-22T15:19:50.603Z"
   },
   {
    "duration": 22,
    "start_time": "2021-12-22T15:19:54.391Z"
   },
   {
    "duration": 23,
    "start_time": "2021-12-22T15:41:07.856Z"
   },
   {
    "duration": 31,
    "start_time": "2021-12-22T15:42:57.448Z"
   },
   {
    "duration": 87,
    "start_time": "2021-12-22T15:43:36.722Z"
   },
   {
    "duration": 96,
    "start_time": "2021-12-22T15:43:44.795Z"
   },
   {
    "duration": 82,
    "start_time": "2021-12-22T15:43:59.801Z"
   },
   {
    "duration": 59,
    "start_time": "2021-12-22T15:44:04.017Z"
   },
   {
    "duration": 4,
    "start_time": "2021-12-22T15:44:15.745Z"
   },
   {
    "duration": 14,
    "start_time": "2021-12-22T15:52:02.075Z"
   },
   {
    "duration": 59,
    "start_time": "2021-12-22T15:52:17.557Z"
   },
   {
    "duration": 3,
    "start_time": "2021-12-22T15:52:29.382Z"
   },
   {
    "duration": 200,
    "start_time": "2021-12-22T15:52:31.827Z"
   },
   {
    "duration": 16,
    "start_time": "2021-12-22T15:52:34.177Z"
   },
   {
    "duration": 32,
    "start_time": "2021-12-22T15:52:36.987Z"
   },
   {
    "duration": 6,
    "start_time": "2021-12-22T15:52:42.032Z"
   },
   {
    "duration": 22,
    "start_time": "2021-12-22T15:52:44.777Z"
   },
   {
    "duration": 5,
    "start_time": "2021-12-22T15:52:47.562Z"
   },
   {
    "duration": 31,
    "start_time": "2021-12-22T15:52:49.781Z"
   },
   {
    "duration": 23,
    "start_time": "2021-12-22T15:52:54.257Z"
   },
   {
    "duration": 30,
    "start_time": "2021-12-22T15:52:58.663Z"
   },
   {
    "duration": 89,
    "start_time": "2021-12-22T15:53:01.189Z"
   },
   {
    "duration": 98,
    "start_time": "2021-12-22T15:53:04.023Z"
   },
   {
    "duration": 78,
    "start_time": "2021-12-22T15:53:07.286Z"
   },
   {
    "duration": 58,
    "start_time": "2021-12-22T15:53:09.629Z"
   },
   {
    "duration": 4,
    "start_time": "2021-12-22T15:53:14.055Z"
   },
   {
    "duration": 13,
    "start_time": "2021-12-22T15:53:30.402Z"
   },
   {
    "duration": 57,
    "start_time": "2021-12-22T15:53:33.299Z"
   },
   {
    "duration": 15,
    "start_time": "2021-12-22T15:53:47.551Z"
   },
   {
    "duration": 45,
    "start_time": "2021-12-22T15:53:51.082Z"
   },
   {
    "duration": 16,
    "start_time": "2021-12-22T15:55:11.975Z"
   },
   {
    "duration": 17,
    "start_time": "2021-12-22T15:55:42.733Z"
   },
   {
    "duration": 16,
    "start_time": "2021-12-22T15:55:56.249Z"
   },
   {
    "duration": 16,
    "start_time": "2021-12-22T15:56:52.815Z"
   },
   {
    "duration": 5,
    "start_time": "2021-12-22T16:06:53.461Z"
   },
   {
    "duration": 20,
    "start_time": "2021-12-22T16:08:41.110Z"
   },
   {
    "duration": 19,
    "start_time": "2021-12-22T16:08:42.426Z"
   },
   {
    "duration": 20,
    "start_time": "2021-12-22T16:08:43.199Z"
   },
   {
    "duration": 19,
    "start_time": "2021-12-22T16:08:43.951Z"
   },
   {
    "duration": 22,
    "start_time": "2021-12-22T16:08:46.264Z"
   },
   {
    "duration": 18,
    "start_time": "2021-12-22T16:08:47.045Z"
   },
   {
    "duration": 5,
    "start_time": "2021-12-22T16:11:50.161Z"
   },
   {
    "duration": 104,
    "start_time": "2021-12-22T16:12:59.753Z"
   },
   {
    "duration": 9,
    "start_time": "2021-12-22T16:19:20.710Z"
   },
   {
    "duration": 31,
    "start_time": "2021-12-22T16:19:30.319Z"
   },
   {
    "duration": 31,
    "start_time": "2021-12-22T16:19:33.426Z"
   },
   {
    "duration": 5,
    "start_time": "2021-12-22T16:19:40.025Z"
   },
   {
    "duration": 28,
    "start_time": "2021-12-22T16:23:41.047Z"
   },
   {
    "duration": 18,
    "start_time": "2021-12-22T16:23:43.821Z"
   },
   {
    "duration": 26,
    "start_time": "2021-12-22T16:23:45.630Z"
   },
   {
    "duration": 18,
    "start_time": "2021-12-22T16:23:47.475Z"
   },
   {
    "duration": 11,
    "start_time": "2021-12-22T16:23:58.338Z"
   },
   {
    "duration": 6,
    "start_time": "2021-12-22T16:24:01.667Z"
   },
   {
    "duration": 12,
    "start_time": "2021-12-22T16:24:40.206Z"
   },
   {
    "duration": 10,
    "start_time": "2021-12-22T16:25:11.378Z"
   },
   {
    "duration": 9,
    "start_time": "2021-12-22T16:27:37.841Z"
   },
   {
    "duration": 10,
    "start_time": "2021-12-22T16:27:59.457Z"
   },
   {
    "duration": 683,
    "start_time": "2022-05-16T10:53:41.780Z"
   },
   {
    "duration": 332,
    "start_time": "2022-05-16T10:53:42.467Z"
   },
   {
    "duration": 34,
    "start_time": "2022-05-16T10:53:42.805Z"
   },
   {
    "duration": 81,
    "start_time": "2022-05-16T10:53:42.843Z"
   },
   {
    "duration": 11,
    "start_time": "2022-05-16T10:53:42.928Z"
   },
   {
    "duration": 39,
    "start_time": "2022-05-16T10:53:42.942Z"
   },
   {
    "duration": 34,
    "start_time": "2022-05-16T10:53:42.985Z"
   },
   {
    "duration": 58,
    "start_time": "2022-05-16T10:53:43.022Z"
   },
   {
    "duration": 66,
    "start_time": "2022-05-16T10:53:43.083Z"
   },
   {
    "duration": 60,
    "start_time": "2022-05-16T10:53:43.155Z"
   },
   {
    "duration": 132,
    "start_time": "2022-05-16T10:53:43.222Z"
   },
   {
    "duration": 159,
    "start_time": "2022-05-16T10:53:43.357Z"
   },
   {
    "duration": 159,
    "start_time": "2022-05-16T10:53:43.519Z"
   },
   {
    "duration": 115,
    "start_time": "2022-05-16T10:53:43.683Z"
   },
   {
    "duration": 9,
    "start_time": "2022-05-16T10:53:43.800Z"
   },
   {
    "duration": 20,
    "start_time": "2022-05-16T10:53:43.812Z"
   },
   {
    "duration": 97,
    "start_time": "2022-05-16T10:53:43.836Z"
   },
   {
    "duration": 48,
    "start_time": "2022-05-16T10:53:43.935Z"
   },
   {
    "duration": 45,
    "start_time": "2022-05-16T10:53:43.985Z"
   },
   {
    "duration": 6,
    "start_time": "2022-05-16T10:53:44.033Z"
   },
   {
    "duration": 111,
    "start_time": "2022-05-16T10:53:44.041Z"
   },
   {
    "duration": 30,
    "start_time": "2022-05-16T10:53:44.155Z"
   },
   {
    "duration": 51,
    "start_time": "2022-05-16T10:53:44.189Z"
   },
   {
    "duration": 26,
    "start_time": "2022-05-16T10:53:44.243Z"
   },
   {
    "duration": 63,
    "start_time": "2022-05-16T10:53:44.271Z"
   },
   {
    "duration": 39,
    "start_time": "2022-05-16T10:53:44.337Z"
   },
   {
    "duration": 34,
    "start_time": "2022-05-16T10:53:44.380Z"
   },
   {
    "duration": 46,
    "start_time": "2022-05-16T10:53:44.421Z"
   },
   {
    "duration": 36,
    "start_time": "2022-05-16T10:53:44.477Z"
   },
   {
    "duration": 10,
    "start_time": "2022-05-16T10:53:44.516Z"
   },
   {
    "duration": 92,
    "start_time": "2022-05-16T10:53:44.529Z"
   },
   {
    "duration": 28,
    "start_time": "2022-05-16T10:53:44.624Z"
   },
   {
    "duration": 58,
    "start_time": "2022-05-16T10:53:44.658Z"
   },
   {
    "duration": 20,
    "start_time": "2022-05-16T10:53:44.719Z"
   },
   {
    "duration": 32,
    "start_time": "2022-05-16T10:53:44.742Z"
   },
   {
    "duration": 51,
    "start_time": "2022-05-16T10:53:44.777Z"
   },
   {
    "duration": 10,
    "start_time": "2022-05-16T10:53:44.831Z"
   },
   {
    "duration": 22,
    "start_time": "2022-05-16T10:53:44.844Z"
   }
  ],
  "colab": {
   "collapsed_sections": [
    "E0vqbgi9ay0H",
    "VUC88oWjTJw2"
   ],
   "name": "yandex_music_project_2021.2.ipynb",
   "provenance": []
  },
  "kernelspec": {
   "display_name": "Python 3 (ipykernel)",
   "language": "python",
   "name": "python3"
  },
  "language_info": {
   "codemirror_mode": {
    "name": "ipython",
    "version": 3
   },
   "file_extension": ".py",
   "mimetype": "text/x-python",
   "name": "python",
   "nbconvert_exporter": "python",
   "pygments_lexer": "ipython3",
   "version": "3.9.5"
  },
  "toc": {
   "base_numbering": 1,
   "nav_menu": {},
   "number_sections": true,
   "sideBar": true,
   "skip_h1_title": true,
   "title_cell": "Table of Contents",
   "title_sidebar": "Contents",
   "toc_cell": false,
   "toc_position": {},
   "toc_section_display": true,
   "toc_window_display": true
  }
 },
 "nbformat": 4,
 "nbformat_minor": 1
}
