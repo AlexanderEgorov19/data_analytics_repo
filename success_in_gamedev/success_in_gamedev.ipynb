{
 "cells": [
  {
   "cell_type": "markdown",
   "metadata": {},
   "source": [
    "# Определение успешности игр"
   ]
  },
  {
   "cell_type": "markdown",
   "metadata": {},
   "source": [
    "\n",
    "* **Подготовка данных**\n",
    "\n",
    "* **Проведите исследовательский анализ данных**\n",
    "\n",
    "1. Сколько игр выпускалось в разные годы? Важны ли данные за все периоды?\n",
    "2. Как менялись продажи по платформам? Выбрать платформы с наибольшими суммарными продажами и построить распределение по годам. За какой характерный срок появляются новые и исчезают старые платформы?\n",
    "3. Взять данные за соответствующий актуальный период. Определить актуальный период.\n",
    "4. Какие платформы лидируют по продажам, растут или падают? Выбрать несколько потенциально прибыльных платформ.\n",
    "5. Оценить влияние на продажи внутри одной популярной платформы отзывов пользователей и критиков.\n",
    "6. Что можно сказать о самых прибыльных жанрах? Выделяются ли жанры с высокими и низкими продажами?\n",
    "\n",
    "* **Составление портрета пользователя каждого региона**\n",
    "\n",
    "* **Проверить гипотезы**\n",
    "\n",
    "1. Средние пользовательские рейтинги платформ Xbox One и PC одинаковые;\n",
    "2. Средние пользовательские рейтинги жанров Action (англ. «действие», экшен-игры) и Sports (англ. «спортивные соревнования») разные.\n",
    "\n",
    "\n",
    "**Описание данных**\n",
    "* Name — название игры\n",
    "* Platform — платформа\n",
    "* Year_of_Release — год выпуска\n",
    "* Genre — жанр игры\n",
    "* NA_sales — продажи в Северной Америке (миллионы проданных копий)\n",
    "* EU_sales — продажи в Европе (миллионы проданных копий)\n",
    "* JP_sales — продажи в Японии (миллионы проданных копий)\n",
    "* Other_sales — продажи в других странах (миллионы проданных копий)\n",
    "* Critic_Score — оценка критиков (максимум 100)\n",
    "* User_Score — оценка пользователей (максимум 10)\n",
    "* Rating — рейтинг от организации ESRB (англ. Entertainment Software Rating Board). Эта ассоциация определяет рейтинг компьютерных игр и присваивает им подходящую возрастную категорию.\n"
   ]
  },
  {
   "cell_type": "markdown",
   "metadata": {},
   "source": [
    "## Изучение общей информации"
   ]
  },
  {
   "cell_type": "code",
   "execution_count": 1,
   "metadata": {},
   "outputs": [],
   "source": [
    "import pandas as pd\n",
    "import matplotlib.pyplot as plt\n",
    "import seaborn as sns\n",
    "import numpy as np\n",
    "from IPython.display import display\n",
    "from scipy import stats as st"
   ]
  },
  {
   "cell_type": "code",
   "execution_count": 2,
   "metadata": {},
   "outputs": [],
   "source": [
    "df = pd.read_csv('/datasets/games.csv')"
   ]
  },
  {
   "cell_type": "code",
   "execution_count": 3,
   "metadata": {},
   "outputs": [
    {
     "data": {
      "text/html": [
       "<div>\n",
       "<style scoped>\n",
       "    .dataframe tbody tr th:only-of-type {\n",
       "        vertical-align: middle;\n",
       "    }\n",
       "\n",
       "    .dataframe tbody tr th {\n",
       "        vertical-align: top;\n",
       "    }\n",
       "\n",
       "    .dataframe thead th {\n",
       "        text-align: right;\n",
       "    }\n",
       "</style>\n",
       "<table border=\"1\" class=\"dataframe\">\n",
       "  <thead>\n",
       "    <tr style=\"text-align: right;\">\n",
       "      <th></th>\n",
       "      <th>Name</th>\n",
       "      <th>Platform</th>\n",
       "      <th>Year_of_Release</th>\n",
       "      <th>Genre</th>\n",
       "      <th>NA_sales</th>\n",
       "      <th>EU_sales</th>\n",
       "      <th>JP_sales</th>\n",
       "      <th>Other_sales</th>\n",
       "      <th>Critic_Score</th>\n",
       "      <th>User_Score</th>\n",
       "      <th>Rating</th>\n",
       "    </tr>\n",
       "  </thead>\n",
       "  <tbody>\n",
       "    <tr>\n",
       "      <th>0</th>\n",
       "      <td>Wii Sports</td>\n",
       "      <td>Wii</td>\n",
       "      <td>2006.0</td>\n",
       "      <td>Sports</td>\n",
       "      <td>41.36</td>\n",
       "      <td>28.96</td>\n",
       "      <td>3.77</td>\n",
       "      <td>8.45</td>\n",
       "      <td>76.0</td>\n",
       "      <td>8</td>\n",
       "      <td>E</td>\n",
       "    </tr>\n",
       "    <tr>\n",
       "      <th>1</th>\n",
       "      <td>Super Mario Bros.</td>\n",
       "      <td>NES</td>\n",
       "      <td>1985.0</td>\n",
       "      <td>Platform</td>\n",
       "      <td>29.08</td>\n",
       "      <td>3.58</td>\n",
       "      <td>6.81</td>\n",
       "      <td>0.77</td>\n",
       "      <td>NaN</td>\n",
       "      <td>NaN</td>\n",
       "      <td>NaN</td>\n",
       "    </tr>\n",
       "    <tr>\n",
       "      <th>2</th>\n",
       "      <td>Mario Kart Wii</td>\n",
       "      <td>Wii</td>\n",
       "      <td>2008.0</td>\n",
       "      <td>Racing</td>\n",
       "      <td>15.68</td>\n",
       "      <td>12.76</td>\n",
       "      <td>3.79</td>\n",
       "      <td>3.29</td>\n",
       "      <td>82.0</td>\n",
       "      <td>8.3</td>\n",
       "      <td>E</td>\n",
       "    </tr>\n",
       "    <tr>\n",
       "      <th>3</th>\n",
       "      <td>Wii Sports Resort</td>\n",
       "      <td>Wii</td>\n",
       "      <td>2009.0</td>\n",
       "      <td>Sports</td>\n",
       "      <td>15.61</td>\n",
       "      <td>10.93</td>\n",
       "      <td>3.28</td>\n",
       "      <td>2.95</td>\n",
       "      <td>80.0</td>\n",
       "      <td>8</td>\n",
       "      <td>E</td>\n",
       "    </tr>\n",
       "    <tr>\n",
       "      <th>4</th>\n",
       "      <td>Pokemon Red/Pokemon Blue</td>\n",
       "      <td>GB</td>\n",
       "      <td>1996.0</td>\n",
       "      <td>Role-Playing</td>\n",
       "      <td>11.27</td>\n",
       "      <td>8.89</td>\n",
       "      <td>10.22</td>\n",
       "      <td>1.00</td>\n",
       "      <td>NaN</td>\n",
       "      <td>NaN</td>\n",
       "      <td>NaN</td>\n",
       "    </tr>\n",
       "    <tr>\n",
       "      <th>...</th>\n",
       "      <td>...</td>\n",
       "      <td>...</td>\n",
       "      <td>...</td>\n",
       "      <td>...</td>\n",
       "      <td>...</td>\n",
       "      <td>...</td>\n",
       "      <td>...</td>\n",
       "      <td>...</td>\n",
       "      <td>...</td>\n",
       "      <td>...</td>\n",
       "      <td>...</td>\n",
       "    </tr>\n",
       "    <tr>\n",
       "      <th>16710</th>\n",
       "      <td>Samurai Warriors: Sanada Maru</td>\n",
       "      <td>PS3</td>\n",
       "      <td>2016.0</td>\n",
       "      <td>Action</td>\n",
       "      <td>0.00</td>\n",
       "      <td>0.00</td>\n",
       "      <td>0.01</td>\n",
       "      <td>0.00</td>\n",
       "      <td>NaN</td>\n",
       "      <td>NaN</td>\n",
       "      <td>NaN</td>\n",
       "    </tr>\n",
       "    <tr>\n",
       "      <th>16711</th>\n",
       "      <td>LMA Manager 2007</td>\n",
       "      <td>X360</td>\n",
       "      <td>2006.0</td>\n",
       "      <td>Sports</td>\n",
       "      <td>0.00</td>\n",
       "      <td>0.01</td>\n",
       "      <td>0.00</td>\n",
       "      <td>0.00</td>\n",
       "      <td>NaN</td>\n",
       "      <td>NaN</td>\n",
       "      <td>NaN</td>\n",
       "    </tr>\n",
       "    <tr>\n",
       "      <th>16712</th>\n",
       "      <td>Haitaka no Psychedelica</td>\n",
       "      <td>PSV</td>\n",
       "      <td>2016.0</td>\n",
       "      <td>Adventure</td>\n",
       "      <td>0.00</td>\n",
       "      <td>0.00</td>\n",
       "      <td>0.01</td>\n",
       "      <td>0.00</td>\n",
       "      <td>NaN</td>\n",
       "      <td>NaN</td>\n",
       "      <td>NaN</td>\n",
       "    </tr>\n",
       "    <tr>\n",
       "      <th>16713</th>\n",
       "      <td>Spirits &amp; Spells</td>\n",
       "      <td>GBA</td>\n",
       "      <td>2003.0</td>\n",
       "      <td>Platform</td>\n",
       "      <td>0.01</td>\n",
       "      <td>0.00</td>\n",
       "      <td>0.00</td>\n",
       "      <td>0.00</td>\n",
       "      <td>NaN</td>\n",
       "      <td>NaN</td>\n",
       "      <td>NaN</td>\n",
       "    </tr>\n",
       "    <tr>\n",
       "      <th>16714</th>\n",
       "      <td>Winning Post 8 2016</td>\n",
       "      <td>PSV</td>\n",
       "      <td>2016.0</td>\n",
       "      <td>Simulation</td>\n",
       "      <td>0.00</td>\n",
       "      <td>0.00</td>\n",
       "      <td>0.01</td>\n",
       "      <td>0.00</td>\n",
       "      <td>NaN</td>\n",
       "      <td>NaN</td>\n",
       "      <td>NaN</td>\n",
       "    </tr>\n",
       "  </tbody>\n",
       "</table>\n",
       "<p>16715 rows × 11 columns</p>\n",
       "</div>"
      ],
      "text/plain": [
       "                                Name Platform  Year_of_Release         Genre  \\\n",
       "0                         Wii Sports      Wii           2006.0        Sports   \n",
       "1                  Super Mario Bros.      NES           1985.0      Platform   \n",
       "2                     Mario Kart Wii      Wii           2008.0        Racing   \n",
       "3                  Wii Sports Resort      Wii           2009.0        Sports   \n",
       "4           Pokemon Red/Pokemon Blue       GB           1996.0  Role-Playing   \n",
       "...                              ...      ...              ...           ...   \n",
       "16710  Samurai Warriors: Sanada Maru      PS3           2016.0        Action   \n",
       "16711               LMA Manager 2007     X360           2006.0        Sports   \n",
       "16712        Haitaka no Psychedelica      PSV           2016.0     Adventure   \n",
       "16713               Spirits & Spells      GBA           2003.0      Platform   \n",
       "16714            Winning Post 8 2016      PSV           2016.0    Simulation   \n",
       "\n",
       "       NA_sales  EU_sales  JP_sales  Other_sales  Critic_Score User_Score  \\\n",
       "0         41.36     28.96      3.77         8.45          76.0          8   \n",
       "1         29.08      3.58      6.81         0.77           NaN        NaN   \n",
       "2         15.68     12.76      3.79         3.29          82.0        8.3   \n",
       "3         15.61     10.93      3.28         2.95          80.0          8   \n",
       "4         11.27      8.89     10.22         1.00           NaN        NaN   \n",
       "...         ...       ...       ...          ...           ...        ...   \n",
       "16710      0.00      0.00      0.01         0.00           NaN        NaN   \n",
       "16711      0.00      0.01      0.00         0.00           NaN        NaN   \n",
       "16712      0.00      0.00      0.01         0.00           NaN        NaN   \n",
       "16713      0.01      0.00      0.00         0.00           NaN        NaN   \n",
       "16714      0.00      0.00      0.01         0.00           NaN        NaN   \n",
       "\n",
       "      Rating  \n",
       "0          E  \n",
       "1        NaN  \n",
       "2          E  \n",
       "3          E  \n",
       "4        NaN  \n",
       "...      ...  \n",
       "16710    NaN  \n",
       "16711    NaN  \n",
       "16712    NaN  \n",
       "16713    NaN  \n",
       "16714    NaN  \n",
       "\n",
       "[16715 rows x 11 columns]"
      ]
     },
     "execution_count": 3,
     "metadata": {},
     "output_type": "execute_result"
    }
   ],
   "source": [
    "df"
   ]
  },
  {
   "cell_type": "markdown",
   "metadata": {},
   "source": [
    "## Обработка данных"
   ]
  },
  {
   "cell_type": "markdown",
   "metadata": {},
   "source": [
    "### Замена названий столбцов"
   ]
  },
  {
   "cell_type": "markdown",
   "metadata": {},
   "source": [
    "Для удобства работы со столбцами, приведем их названия к нижнему регистру."
   ]
  },
  {
   "cell_type": "code",
   "execution_count": 4,
   "metadata": {
    "scrolled": true
   },
   "outputs": [
    {
     "data": {
      "text/html": [
       "<div>\n",
       "<style scoped>\n",
       "    .dataframe tbody tr th:only-of-type {\n",
       "        vertical-align: middle;\n",
       "    }\n",
       "\n",
       "    .dataframe tbody tr th {\n",
       "        vertical-align: top;\n",
       "    }\n",
       "\n",
       "    .dataframe thead th {\n",
       "        text-align: right;\n",
       "    }\n",
       "</style>\n",
       "<table border=\"1\" class=\"dataframe\">\n",
       "  <thead>\n",
       "    <tr style=\"text-align: right;\">\n",
       "      <th></th>\n",
       "      <th>name</th>\n",
       "      <th>platform</th>\n",
       "      <th>year_of_release</th>\n",
       "      <th>genre</th>\n",
       "      <th>na_sales</th>\n",
       "      <th>eu_sales</th>\n",
       "      <th>jp_sales</th>\n",
       "      <th>other_sales</th>\n",
       "      <th>critic_score</th>\n",
       "      <th>user_score</th>\n",
       "      <th>rating</th>\n",
       "    </tr>\n",
       "  </thead>\n",
       "  <tbody>\n",
       "    <tr>\n",
       "      <th>0</th>\n",
       "      <td>Wii Sports</td>\n",
       "      <td>Wii</td>\n",
       "      <td>2006.0</td>\n",
       "      <td>Sports</td>\n",
       "      <td>41.36</td>\n",
       "      <td>28.96</td>\n",
       "      <td>3.77</td>\n",
       "      <td>8.45</td>\n",
       "      <td>76.0</td>\n",
       "      <td>8</td>\n",
       "      <td>E</td>\n",
       "    </tr>\n",
       "    <tr>\n",
       "      <th>1</th>\n",
       "      <td>Super Mario Bros.</td>\n",
       "      <td>NES</td>\n",
       "      <td>1985.0</td>\n",
       "      <td>Platform</td>\n",
       "      <td>29.08</td>\n",
       "      <td>3.58</td>\n",
       "      <td>6.81</td>\n",
       "      <td>0.77</td>\n",
       "      <td>NaN</td>\n",
       "      <td>NaN</td>\n",
       "      <td>NaN</td>\n",
       "    </tr>\n",
       "    <tr>\n",
       "      <th>2</th>\n",
       "      <td>Mario Kart Wii</td>\n",
       "      <td>Wii</td>\n",
       "      <td>2008.0</td>\n",
       "      <td>Racing</td>\n",
       "      <td>15.68</td>\n",
       "      <td>12.76</td>\n",
       "      <td>3.79</td>\n",
       "      <td>3.29</td>\n",
       "      <td>82.0</td>\n",
       "      <td>8.3</td>\n",
       "      <td>E</td>\n",
       "    </tr>\n",
       "    <tr>\n",
       "      <th>3</th>\n",
       "      <td>Wii Sports Resort</td>\n",
       "      <td>Wii</td>\n",
       "      <td>2009.0</td>\n",
       "      <td>Sports</td>\n",
       "      <td>15.61</td>\n",
       "      <td>10.93</td>\n",
       "      <td>3.28</td>\n",
       "      <td>2.95</td>\n",
       "      <td>80.0</td>\n",
       "      <td>8</td>\n",
       "      <td>E</td>\n",
       "    </tr>\n",
       "    <tr>\n",
       "      <th>4</th>\n",
       "      <td>Pokemon Red/Pokemon Blue</td>\n",
       "      <td>GB</td>\n",
       "      <td>1996.0</td>\n",
       "      <td>Role-Playing</td>\n",
       "      <td>11.27</td>\n",
       "      <td>8.89</td>\n",
       "      <td>10.22</td>\n",
       "      <td>1.00</td>\n",
       "      <td>NaN</td>\n",
       "      <td>NaN</td>\n",
       "      <td>NaN</td>\n",
       "    </tr>\n",
       "    <tr>\n",
       "      <th>5</th>\n",
       "      <td>Tetris</td>\n",
       "      <td>GB</td>\n",
       "      <td>1989.0</td>\n",
       "      <td>Puzzle</td>\n",
       "      <td>23.20</td>\n",
       "      <td>2.26</td>\n",
       "      <td>4.22</td>\n",
       "      <td>0.58</td>\n",
       "      <td>NaN</td>\n",
       "      <td>NaN</td>\n",
       "      <td>NaN</td>\n",
       "    </tr>\n",
       "    <tr>\n",
       "      <th>6</th>\n",
       "      <td>New Super Mario Bros.</td>\n",
       "      <td>DS</td>\n",
       "      <td>2006.0</td>\n",
       "      <td>Platform</td>\n",
       "      <td>11.28</td>\n",
       "      <td>9.14</td>\n",
       "      <td>6.50</td>\n",
       "      <td>2.88</td>\n",
       "      <td>89.0</td>\n",
       "      <td>8.5</td>\n",
       "      <td>E</td>\n",
       "    </tr>\n",
       "    <tr>\n",
       "      <th>7</th>\n",
       "      <td>Wii Play</td>\n",
       "      <td>Wii</td>\n",
       "      <td>2006.0</td>\n",
       "      <td>Misc</td>\n",
       "      <td>13.96</td>\n",
       "      <td>9.18</td>\n",
       "      <td>2.93</td>\n",
       "      <td>2.84</td>\n",
       "      <td>58.0</td>\n",
       "      <td>6.6</td>\n",
       "      <td>E</td>\n",
       "    </tr>\n",
       "    <tr>\n",
       "      <th>8</th>\n",
       "      <td>New Super Mario Bros. Wii</td>\n",
       "      <td>Wii</td>\n",
       "      <td>2009.0</td>\n",
       "      <td>Platform</td>\n",
       "      <td>14.44</td>\n",
       "      <td>6.94</td>\n",
       "      <td>4.70</td>\n",
       "      <td>2.24</td>\n",
       "      <td>87.0</td>\n",
       "      <td>8.4</td>\n",
       "      <td>E</td>\n",
       "    </tr>\n",
       "    <tr>\n",
       "      <th>9</th>\n",
       "      <td>Duck Hunt</td>\n",
       "      <td>NES</td>\n",
       "      <td>1984.0</td>\n",
       "      <td>Shooter</td>\n",
       "      <td>26.93</td>\n",
       "      <td>0.63</td>\n",
       "      <td>0.28</td>\n",
       "      <td>0.47</td>\n",
       "      <td>NaN</td>\n",
       "      <td>NaN</td>\n",
       "      <td>NaN</td>\n",
       "    </tr>\n",
       "  </tbody>\n",
       "</table>\n",
       "</div>"
      ],
      "text/plain": [
       "                        name platform  year_of_release         genre  \\\n",
       "0                 Wii Sports      Wii           2006.0        Sports   \n",
       "1          Super Mario Bros.      NES           1985.0      Platform   \n",
       "2             Mario Kart Wii      Wii           2008.0        Racing   \n",
       "3          Wii Sports Resort      Wii           2009.0        Sports   \n",
       "4   Pokemon Red/Pokemon Blue       GB           1996.0  Role-Playing   \n",
       "5                     Tetris       GB           1989.0        Puzzle   \n",
       "6      New Super Mario Bros.       DS           2006.0      Platform   \n",
       "7                   Wii Play      Wii           2006.0          Misc   \n",
       "8  New Super Mario Bros. Wii      Wii           2009.0      Platform   \n",
       "9                  Duck Hunt      NES           1984.0       Shooter   \n",
       "\n",
       "   na_sales  eu_sales  jp_sales  other_sales  critic_score user_score rating  \n",
       "0     41.36     28.96      3.77         8.45          76.0          8      E  \n",
       "1     29.08      3.58      6.81         0.77           NaN        NaN    NaN  \n",
       "2     15.68     12.76      3.79         3.29          82.0        8.3      E  \n",
       "3     15.61     10.93      3.28         2.95          80.0          8      E  \n",
       "4     11.27      8.89     10.22         1.00           NaN        NaN    NaN  \n",
       "5     23.20      2.26      4.22         0.58           NaN        NaN    NaN  \n",
       "6     11.28      9.14      6.50         2.88          89.0        8.5      E  \n",
       "7     13.96      9.18      2.93         2.84          58.0        6.6      E  \n",
       "8     14.44      6.94      4.70         2.24          87.0        8.4      E  \n",
       "9     26.93      0.63      0.28         0.47           NaN        NaN    NaN  "
      ]
     },
     "execution_count": 4,
     "metadata": {},
     "output_type": "execute_result"
    }
   ],
   "source": [
    "df = df.rename(\n",
    "    columns={\n",
    "        'Name': 'name',\n",
    "        'Platform': 'platform',\n",
    "        'Year_of_Release': 'year_of_release',\n",
    "        'Genre': 'genre',\n",
    "        'NA_sales': 'na_sales',\n",
    "        'EU_sales': 'eu_sales',\n",
    "        'JP_sales': 'jp_sales',\n",
    "        'Other_sales': 'other_sales',\n",
    "        'Critic_Score': 'critic_score',\n",
    "        'User_Score': 'user_score',\n",
    "        'Rating': 'rating'\n",
    "    }\n",
    ")\n",
    "\n",
    "df.head(10)       "
   ]
  },
  {
   "cell_type": "markdown",
   "metadata": {},
   "source": [
    "### Преобразование типов данных"
   ]
  },
  {
   "cell_type": "code",
   "execution_count": 5,
   "metadata": {},
   "outputs": [
    {
     "name": "stdout",
     "output_type": "stream",
     "text": [
      "<class 'pandas.core.frame.DataFrame'>\n",
      "RangeIndex: 16715 entries, 0 to 16714\n",
      "Data columns (total 11 columns):\n",
      " #   Column           Non-Null Count  Dtype  \n",
      "---  ------           --------------  -----  \n",
      " 0   name             16713 non-null  object \n",
      " 1   platform         16715 non-null  object \n",
      " 2   year_of_release  16446 non-null  float64\n",
      " 3   genre            16713 non-null  object \n",
      " 4   na_sales         16715 non-null  float64\n",
      " 5   eu_sales         16715 non-null  float64\n",
      " 6   jp_sales         16715 non-null  float64\n",
      " 7   other_sales      16715 non-null  float64\n",
      " 8   critic_score     8137 non-null   float64\n",
      " 9   user_score       10014 non-null  object \n",
      " 10  rating           9949 non-null   object \n",
      "dtypes: float64(6), object(5)\n",
      "memory usage: 1.4+ MB\n"
     ]
    }
   ],
   "source": [
    "df.info()"
   ]
  },
  {
   "cell_type": "markdown",
   "metadata": {},
   "source": [
    "Итак, смотрим. \n",
    "\n",
    "Столбец `year_of_release` удобнее перевести в **datetime64**.\n",
    "\n",
    "Поскольку мы не можем перевести столбцы `user_score` и `rating` из строк в целочисленные значения без замены пропусков нулями (что очень бы помешало нашим будущим расчетам), то мы их просто оставим в таком положении."
   ]
  },
  {
   "cell_type": "code",
   "execution_count": 6,
   "metadata": {},
   "outputs": [
    {
     "name": "stdout",
     "output_type": "stream",
     "text": [
      "<class 'pandas.core.frame.DataFrame'>\n",
      "RangeIndex: 16715 entries, 0 to 16714\n",
      "Data columns (total 11 columns):\n",
      " #   Column           Non-Null Count  Dtype         \n",
      "---  ------           --------------  -----         \n",
      " 0   name             16713 non-null  object        \n",
      " 1   platform         16715 non-null  object        \n",
      " 2   year_of_release  16446 non-null  datetime64[ns]\n",
      " 3   genre            16713 non-null  object        \n",
      " 4   na_sales         16715 non-null  float64       \n",
      " 5   eu_sales         16715 non-null  float64       \n",
      " 6   jp_sales         16715 non-null  float64       \n",
      " 7   other_sales      16715 non-null  float64       \n",
      " 8   critic_score     8137 non-null   float64       \n",
      " 9   user_score       10014 non-null  object        \n",
      " 10  rating           9949 non-null   object        \n",
      "dtypes: datetime64[ns](1), float64(5), object(5)\n",
      "memory usage: 1.4+ MB\n"
     ]
    }
   ],
   "source": [
    "df['year_of_release'] = pd.to_datetime(df['year_of_release'], format='%Y')\n",
    "df.info()"
   ]
  },
  {
   "cell_type": "code",
   "execution_count": 7,
   "metadata": {},
   "outputs": [
    {
     "data": {
      "text/plain": [
       "array(['8', nan, '8.3', '8.5', '6.6', '8.4', '8.6', '7.7', '6.3', '7.4',\n",
       "       '8.2', '9', '7.9', '8.1', '8.7', '7.1', '3.4', '5.3', '4.8', '3.2',\n",
       "       '8.9', '6.4', '7.8', '7.5', '2.6', '7.2', '9.2', '7', '7.3', '4.3',\n",
       "       '7.6', '5.7', '5', '9.1', '6.5', 'tbd', '8.8', '6.9', '9.4', '6.8',\n",
       "       '6.1', '6.7', '5.4', '4', '4.9', '4.5', '9.3', '6.2', '4.2', '6',\n",
       "       '3.7', '4.1', '5.8', '5.6', '5.5', '4.4', '4.6', '5.9', '3.9',\n",
       "       '3.1', '2.9', '5.2', '3.3', '4.7', '5.1', '3.5', '2.5', '1.9', '3',\n",
       "       '2.7', '2.2', '2', '9.5', '2.1', '3.6', '2.8', '1.8', '3.8', '0',\n",
       "       '1.6', '9.6', '2.4', '1.7', '1.1', '0.3', '1.5', '0.7', '1.2',\n",
       "       '2.3', '0.5', '1.3', '0.2', '0.6', '1.4', '0.9', '1', '9.7'],\n",
       "      dtype=object)"
      ]
     },
     "execution_count": 7,
     "metadata": {},
     "output_type": "execute_result"
    }
   ],
   "source": [
    "df['user_score'].unique()"
   ]
  },
  {
   "cell_type": "markdown",
   "metadata": {},
   "source": [
    "В колонках с рейтингом (на примере \"user_score\" мы встретились с неизвестной доныне аббревиатурой **tbd**.\n",
    "Судя по открытым данным в Интернете, эта аббревиатура от английского To Be Determined (будет определено) или To Be Decided (будет решено). Используется, если какая-то информация еще не определена или решение по вопросу не принято. \n",
    "\n",
    "Таким образом, даанная аббревиатура схожа со значением **Nan**, поэтому есть смысл перевести **tbd** в **Nan**."
   ]
  },
  {
   "cell_type": "code",
   "execution_count": 8,
   "metadata": {},
   "outputs": [],
   "source": [
    "df['user_score'] = df['user_score'].replace('tbd', np.nan)\n",
    "df['critic_score'] = df['critic_score'].replace('tbd', np.nan)\n",
    "df['rating'] = df['rating'].replace('tbd', np.nan)"
   ]
  },
  {
   "cell_type": "code",
   "execution_count": 9,
   "metadata": {},
   "outputs": [
    {
     "name": "stdout",
     "output_type": "stream",
     "text": [
      "<class 'pandas.core.frame.DataFrame'>\n",
      "RangeIndex: 16715 entries, 0 to 16714\n",
      "Data columns (total 11 columns):\n",
      " #   Column           Non-Null Count  Dtype         \n",
      "---  ------           --------------  -----         \n",
      " 0   name             16713 non-null  object        \n",
      " 1   platform         16715 non-null  object        \n",
      " 2   year_of_release  16446 non-null  datetime64[ns]\n",
      " 3   genre            16713 non-null  object        \n",
      " 4   na_sales         16715 non-null  float64       \n",
      " 5   eu_sales         16715 non-null  float64       \n",
      " 6   jp_sales         16715 non-null  float64       \n",
      " 7   other_sales      16715 non-null  float64       \n",
      " 8   critic_score     8137 non-null   float64       \n",
      " 9   user_score       7590 non-null   float64       \n",
      " 10  rating           9949 non-null   object        \n",
      "dtypes: datetime64[ns](1), float64(6), object(4)\n",
      "memory usage: 1.4+ MB\n"
     ]
    }
   ],
   "source": [
    "df['user_score'] = df['user_score'].astype('float64')\n",
    "df.info()"
   ]
  },
  {
   "cell_type": "markdown",
   "metadata": {},
   "source": [
    "### Обработка пропусков"
   ]
  },
  {
   "cell_type": "markdown",
   "metadata": {},
   "source": [
    "Пропуски в столбце `year_of_release` лучше оставить, т.к. они в дальнейшем не будут учтены программой.\n",
    "\n",
    "Пропуски остались также в стобцах `name`, `genre`, `critic_score`, `user_score` и `rating`. Пропуски в данных столбцах невозможно заменить, так как это очень повлияет на результат наших дальнейших действий с этими столбцами, да и неизвестно, чем их вообще можно заменить, поскольку данные значения никак не связаны друг с другом. "
   ]
  },
  {
   "cell_type": "markdown",
   "metadata": {},
   "source": [
    "### Подсчет суммарных продаж во всех регионах"
   ]
  },
  {
   "cell_type": "markdown",
   "metadata": {},
   "source": [
    "Создадим столбец, куда занесем суммарные показатели продаж для всех регионов."
   ]
  },
  {
   "cell_type": "code",
   "execution_count": 10,
   "metadata": {},
   "outputs": [
    {
     "data": {
      "text/html": [
       "<div>\n",
       "<style scoped>\n",
       "    .dataframe tbody tr th:only-of-type {\n",
       "        vertical-align: middle;\n",
       "    }\n",
       "\n",
       "    .dataframe tbody tr th {\n",
       "        vertical-align: top;\n",
       "    }\n",
       "\n",
       "    .dataframe thead th {\n",
       "        text-align: right;\n",
       "    }\n",
       "</style>\n",
       "<table border=\"1\" class=\"dataframe\">\n",
       "  <thead>\n",
       "    <tr style=\"text-align: right;\">\n",
       "      <th></th>\n",
       "      <th>name</th>\n",
       "      <th>platform</th>\n",
       "      <th>year_of_release</th>\n",
       "      <th>genre</th>\n",
       "      <th>na_sales</th>\n",
       "      <th>eu_sales</th>\n",
       "      <th>jp_sales</th>\n",
       "      <th>other_sales</th>\n",
       "      <th>critic_score</th>\n",
       "      <th>user_score</th>\n",
       "      <th>rating</th>\n",
       "      <th>world_sales</th>\n",
       "    </tr>\n",
       "  </thead>\n",
       "  <tbody>\n",
       "    <tr>\n",
       "      <th>0</th>\n",
       "      <td>Wii Sports</td>\n",
       "      <td>Wii</td>\n",
       "      <td>2006-01-01</td>\n",
       "      <td>Sports</td>\n",
       "      <td>41.36</td>\n",
       "      <td>28.96</td>\n",
       "      <td>3.77</td>\n",
       "      <td>8.45</td>\n",
       "      <td>76.0</td>\n",
       "      <td>8.0</td>\n",
       "      <td>E</td>\n",
       "      <td>82.54</td>\n",
       "    </tr>\n",
       "    <tr>\n",
       "      <th>1</th>\n",
       "      <td>Super Mario Bros.</td>\n",
       "      <td>NES</td>\n",
       "      <td>1985-01-01</td>\n",
       "      <td>Platform</td>\n",
       "      <td>29.08</td>\n",
       "      <td>3.58</td>\n",
       "      <td>6.81</td>\n",
       "      <td>0.77</td>\n",
       "      <td>NaN</td>\n",
       "      <td>NaN</td>\n",
       "      <td>NaN</td>\n",
       "      <td>40.24</td>\n",
       "    </tr>\n",
       "    <tr>\n",
       "      <th>2</th>\n",
       "      <td>Mario Kart Wii</td>\n",
       "      <td>Wii</td>\n",
       "      <td>2008-01-01</td>\n",
       "      <td>Racing</td>\n",
       "      <td>15.68</td>\n",
       "      <td>12.76</td>\n",
       "      <td>3.79</td>\n",
       "      <td>3.29</td>\n",
       "      <td>82.0</td>\n",
       "      <td>8.3</td>\n",
       "      <td>E</td>\n",
       "      <td>35.52</td>\n",
       "    </tr>\n",
       "    <tr>\n",
       "      <th>3</th>\n",
       "      <td>Wii Sports Resort</td>\n",
       "      <td>Wii</td>\n",
       "      <td>2009-01-01</td>\n",
       "      <td>Sports</td>\n",
       "      <td>15.61</td>\n",
       "      <td>10.93</td>\n",
       "      <td>3.28</td>\n",
       "      <td>2.95</td>\n",
       "      <td>80.0</td>\n",
       "      <td>8.0</td>\n",
       "      <td>E</td>\n",
       "      <td>32.77</td>\n",
       "    </tr>\n",
       "    <tr>\n",
       "      <th>4</th>\n",
       "      <td>Pokemon Red/Pokemon Blue</td>\n",
       "      <td>GB</td>\n",
       "      <td>1996-01-01</td>\n",
       "      <td>Role-Playing</td>\n",
       "      <td>11.27</td>\n",
       "      <td>8.89</td>\n",
       "      <td>10.22</td>\n",
       "      <td>1.00</td>\n",
       "      <td>NaN</td>\n",
       "      <td>NaN</td>\n",
       "      <td>NaN</td>\n",
       "      <td>31.38</td>\n",
       "    </tr>\n",
       "    <tr>\n",
       "      <th>5</th>\n",
       "      <td>Tetris</td>\n",
       "      <td>GB</td>\n",
       "      <td>1989-01-01</td>\n",
       "      <td>Puzzle</td>\n",
       "      <td>23.20</td>\n",
       "      <td>2.26</td>\n",
       "      <td>4.22</td>\n",
       "      <td>0.58</td>\n",
       "      <td>NaN</td>\n",
       "      <td>NaN</td>\n",
       "      <td>NaN</td>\n",
       "      <td>30.26</td>\n",
       "    </tr>\n",
       "    <tr>\n",
       "      <th>6</th>\n",
       "      <td>New Super Mario Bros.</td>\n",
       "      <td>DS</td>\n",
       "      <td>2006-01-01</td>\n",
       "      <td>Platform</td>\n",
       "      <td>11.28</td>\n",
       "      <td>9.14</td>\n",
       "      <td>6.50</td>\n",
       "      <td>2.88</td>\n",
       "      <td>89.0</td>\n",
       "      <td>8.5</td>\n",
       "      <td>E</td>\n",
       "      <td>29.80</td>\n",
       "    </tr>\n",
       "    <tr>\n",
       "      <th>7</th>\n",
       "      <td>Wii Play</td>\n",
       "      <td>Wii</td>\n",
       "      <td>2006-01-01</td>\n",
       "      <td>Misc</td>\n",
       "      <td>13.96</td>\n",
       "      <td>9.18</td>\n",
       "      <td>2.93</td>\n",
       "      <td>2.84</td>\n",
       "      <td>58.0</td>\n",
       "      <td>6.6</td>\n",
       "      <td>E</td>\n",
       "      <td>28.91</td>\n",
       "    </tr>\n",
       "    <tr>\n",
       "      <th>8</th>\n",
       "      <td>New Super Mario Bros. Wii</td>\n",
       "      <td>Wii</td>\n",
       "      <td>2009-01-01</td>\n",
       "      <td>Platform</td>\n",
       "      <td>14.44</td>\n",
       "      <td>6.94</td>\n",
       "      <td>4.70</td>\n",
       "      <td>2.24</td>\n",
       "      <td>87.0</td>\n",
       "      <td>8.4</td>\n",
       "      <td>E</td>\n",
       "      <td>28.32</td>\n",
       "    </tr>\n",
       "    <tr>\n",
       "      <th>9</th>\n",
       "      <td>Duck Hunt</td>\n",
       "      <td>NES</td>\n",
       "      <td>1984-01-01</td>\n",
       "      <td>Shooter</td>\n",
       "      <td>26.93</td>\n",
       "      <td>0.63</td>\n",
       "      <td>0.28</td>\n",
       "      <td>0.47</td>\n",
       "      <td>NaN</td>\n",
       "      <td>NaN</td>\n",
       "      <td>NaN</td>\n",
       "      <td>28.31</td>\n",
       "    </tr>\n",
       "  </tbody>\n",
       "</table>\n",
       "</div>"
      ],
      "text/plain": [
       "                        name platform year_of_release         genre  na_sales  \\\n",
       "0                 Wii Sports      Wii      2006-01-01        Sports     41.36   \n",
       "1          Super Mario Bros.      NES      1985-01-01      Platform     29.08   \n",
       "2             Mario Kart Wii      Wii      2008-01-01        Racing     15.68   \n",
       "3          Wii Sports Resort      Wii      2009-01-01        Sports     15.61   \n",
       "4   Pokemon Red/Pokemon Blue       GB      1996-01-01  Role-Playing     11.27   \n",
       "5                     Tetris       GB      1989-01-01        Puzzle     23.20   \n",
       "6      New Super Mario Bros.       DS      2006-01-01      Platform     11.28   \n",
       "7                   Wii Play      Wii      2006-01-01          Misc     13.96   \n",
       "8  New Super Mario Bros. Wii      Wii      2009-01-01      Platform     14.44   \n",
       "9                  Duck Hunt      NES      1984-01-01       Shooter     26.93   \n",
       "\n",
       "   eu_sales  jp_sales  other_sales  critic_score  user_score rating  \\\n",
       "0     28.96      3.77         8.45          76.0         8.0      E   \n",
       "1      3.58      6.81         0.77           NaN         NaN    NaN   \n",
       "2     12.76      3.79         3.29          82.0         8.3      E   \n",
       "3     10.93      3.28         2.95          80.0         8.0      E   \n",
       "4      8.89     10.22         1.00           NaN         NaN    NaN   \n",
       "5      2.26      4.22         0.58           NaN         NaN    NaN   \n",
       "6      9.14      6.50         2.88          89.0         8.5      E   \n",
       "7      9.18      2.93         2.84          58.0         6.6      E   \n",
       "8      6.94      4.70         2.24          87.0         8.4      E   \n",
       "9      0.63      0.28         0.47           NaN         NaN    NaN   \n",
       "\n",
       "   world_sales  \n",
       "0        82.54  \n",
       "1        40.24  \n",
       "2        35.52  \n",
       "3        32.77  \n",
       "4        31.38  \n",
       "5        30.26  \n",
       "6        29.80  \n",
       "7        28.91  \n",
       "8        28.32  \n",
       "9        28.31  "
      ]
     },
     "execution_count": 10,
     "metadata": {},
     "output_type": "execute_result"
    }
   ],
   "source": [
    "df['world_sales'] = df['na_sales'] + df['eu_sales'] + df['jp_sales'] + df['other_sales']\n",
    "df.head(10)"
   ]
  },
  {
   "cell_type": "markdown",
   "metadata": {},
   "source": [
    "## Исследовательский анализ данных"
   ]
  },
  {
   "cell_type": "markdown",
   "metadata": {},
   "source": [
    "### Количество игр, выпущенных в разные годы"
   ]
  },
  {
   "cell_type": "markdown",
   "metadata": {},
   "source": [
    "Для того чтобы подсчитать количество игр, выпущенных в разные годы, построим сводную таблицу, где в качестве индекса возьмем год выпуска, а в качестве значения - название игры.  "
   ]
  },
  {
   "cell_type": "code",
   "execution_count": 11,
   "metadata": {},
   "outputs": [
    {
     "data": {
      "text/html": [
       "<div>\n",
       "<style scoped>\n",
       "    .dataframe tbody tr th:only-of-type {\n",
       "        vertical-align: middle;\n",
       "    }\n",
       "\n",
       "    .dataframe tbody tr th {\n",
       "        vertical-align: top;\n",
       "    }\n",
       "\n",
       "    .dataframe thead th {\n",
       "        text-align: right;\n",
       "    }\n",
       "</style>\n",
       "<table border=\"1\" class=\"dataframe\">\n",
       "  <thead>\n",
       "    <tr style=\"text-align: right;\">\n",
       "      <th></th>\n",
       "      <th>name</th>\n",
       "    </tr>\n",
       "    <tr>\n",
       "      <th>year_of_release</th>\n",
       "      <th></th>\n",
       "    </tr>\n",
       "  </thead>\n",
       "  <tbody>\n",
       "    <tr>\n",
       "      <th>1980-01-01</th>\n",
       "      <td>9</td>\n",
       "    </tr>\n",
       "    <tr>\n",
       "      <th>1981-01-01</th>\n",
       "      <td>46</td>\n",
       "    </tr>\n",
       "    <tr>\n",
       "      <th>1982-01-01</th>\n",
       "      <td>36</td>\n",
       "    </tr>\n",
       "    <tr>\n",
       "      <th>1983-01-01</th>\n",
       "      <td>17</td>\n",
       "    </tr>\n",
       "    <tr>\n",
       "      <th>1984-01-01</th>\n",
       "      <td>14</td>\n",
       "    </tr>\n",
       "    <tr>\n",
       "      <th>1985-01-01</th>\n",
       "      <td>14</td>\n",
       "    </tr>\n",
       "    <tr>\n",
       "      <th>1986-01-01</th>\n",
       "      <td>21</td>\n",
       "    </tr>\n",
       "    <tr>\n",
       "      <th>1987-01-01</th>\n",
       "      <td>16</td>\n",
       "    </tr>\n",
       "    <tr>\n",
       "      <th>1988-01-01</th>\n",
       "      <td>15</td>\n",
       "    </tr>\n",
       "    <tr>\n",
       "      <th>1989-01-01</th>\n",
       "      <td>17</td>\n",
       "    </tr>\n",
       "    <tr>\n",
       "      <th>1990-01-01</th>\n",
       "      <td>16</td>\n",
       "    </tr>\n",
       "    <tr>\n",
       "      <th>1991-01-01</th>\n",
       "      <td>41</td>\n",
       "    </tr>\n",
       "    <tr>\n",
       "      <th>1992-01-01</th>\n",
       "      <td>43</td>\n",
       "    </tr>\n",
       "    <tr>\n",
       "      <th>1993-01-01</th>\n",
       "      <td>60</td>\n",
       "    </tr>\n",
       "    <tr>\n",
       "      <th>1994-01-01</th>\n",
       "      <td>121</td>\n",
       "    </tr>\n",
       "    <tr>\n",
       "      <th>1995-01-01</th>\n",
       "      <td>219</td>\n",
       "    </tr>\n",
       "    <tr>\n",
       "      <th>1996-01-01</th>\n",
       "      <td>263</td>\n",
       "    </tr>\n",
       "    <tr>\n",
       "      <th>1997-01-01</th>\n",
       "      <td>289</td>\n",
       "    </tr>\n",
       "    <tr>\n",
       "      <th>1998-01-01</th>\n",
       "      <td>379</td>\n",
       "    </tr>\n",
       "    <tr>\n",
       "      <th>1999-01-01</th>\n",
       "      <td>338</td>\n",
       "    </tr>\n",
       "    <tr>\n",
       "      <th>2000-01-01</th>\n",
       "      <td>350</td>\n",
       "    </tr>\n",
       "    <tr>\n",
       "      <th>2001-01-01</th>\n",
       "      <td>482</td>\n",
       "    </tr>\n",
       "    <tr>\n",
       "      <th>2002-01-01</th>\n",
       "      <td>829</td>\n",
       "    </tr>\n",
       "    <tr>\n",
       "      <th>2003-01-01</th>\n",
       "      <td>775</td>\n",
       "    </tr>\n",
       "    <tr>\n",
       "      <th>2004-01-01</th>\n",
       "      <td>762</td>\n",
       "    </tr>\n",
       "    <tr>\n",
       "      <th>2005-01-01</th>\n",
       "      <td>939</td>\n",
       "    </tr>\n",
       "    <tr>\n",
       "      <th>2006-01-01</th>\n",
       "      <td>1006</td>\n",
       "    </tr>\n",
       "    <tr>\n",
       "      <th>2007-01-01</th>\n",
       "      <td>1197</td>\n",
       "    </tr>\n",
       "    <tr>\n",
       "      <th>2008-01-01</th>\n",
       "      <td>1427</td>\n",
       "    </tr>\n",
       "    <tr>\n",
       "      <th>2009-01-01</th>\n",
       "      <td>1426</td>\n",
       "    </tr>\n",
       "    <tr>\n",
       "      <th>2010-01-01</th>\n",
       "      <td>1255</td>\n",
       "    </tr>\n",
       "    <tr>\n",
       "      <th>2011-01-01</th>\n",
       "      <td>1136</td>\n",
       "    </tr>\n",
       "    <tr>\n",
       "      <th>2012-01-01</th>\n",
       "      <td>653</td>\n",
       "    </tr>\n",
       "    <tr>\n",
       "      <th>2013-01-01</th>\n",
       "      <td>544</td>\n",
       "    </tr>\n",
       "    <tr>\n",
       "      <th>2014-01-01</th>\n",
       "      <td>581</td>\n",
       "    </tr>\n",
       "    <tr>\n",
       "      <th>2015-01-01</th>\n",
       "      <td>606</td>\n",
       "    </tr>\n",
       "    <tr>\n",
       "      <th>2016-01-01</th>\n",
       "      <td>502</td>\n",
       "    </tr>\n",
       "  </tbody>\n",
       "</table>\n",
       "</div>"
      ],
      "text/plain": [
       "                 name\n",
       "year_of_release      \n",
       "1980-01-01          9\n",
       "1981-01-01         46\n",
       "1982-01-01         36\n",
       "1983-01-01         17\n",
       "1984-01-01         14\n",
       "1985-01-01         14\n",
       "1986-01-01         21\n",
       "1987-01-01         16\n",
       "1988-01-01         15\n",
       "1989-01-01         17\n",
       "1990-01-01         16\n",
       "1991-01-01         41\n",
       "1992-01-01         43\n",
       "1993-01-01         60\n",
       "1994-01-01        121\n",
       "1995-01-01        219\n",
       "1996-01-01        263\n",
       "1997-01-01        289\n",
       "1998-01-01        379\n",
       "1999-01-01        338\n",
       "2000-01-01        350\n",
       "2001-01-01        482\n",
       "2002-01-01        829\n",
       "2003-01-01        775\n",
       "2004-01-01        762\n",
       "2005-01-01        939\n",
       "2006-01-01       1006\n",
       "2007-01-01       1197\n",
       "2008-01-01       1427\n",
       "2009-01-01       1426\n",
       "2010-01-01       1255\n",
       "2011-01-01       1136\n",
       "2012-01-01        653\n",
       "2013-01-01        544\n",
       "2014-01-01        581\n",
       "2015-01-01        606\n",
       "2016-01-01        502"
      ]
     },
     "execution_count": 11,
     "metadata": {},
     "output_type": "execute_result"
    }
   ],
   "source": [
    "release_count = df.pivot_table(index =('year_of_release'), values = 'name', aggfunc = 'count')\n",
    "release_count"
   ]
  },
  {
   "cell_type": "markdown",
   "metadata": {},
   "source": [
    "**Вывод**\n",
    "\n",
    "Сводная таблица показывает постепенный рост выпуска компьютерных игр до 2012 года, когда произошел значительный спад, почти в два раза. "
   ]
  },
  {
   "cell_type": "markdown",
   "metadata": {},
   "source": [
    "### Изменение продаж по платформам"
   ]
  },
  {
   "cell_type": "markdown",
   "metadata": {},
   "source": [
    "Для того чтобы посмотреть, как менялись продажи по платформам, сначала выберем из общего числа те, которые показали наибольшие суммарные продажи. \n",
    "\n",
    "Соберем нужные нам данные в отдельный датафрейм, с которым будем работать. "
   ]
  },
  {
   "cell_type": "code",
   "execution_count": 12,
   "metadata": {},
   "outputs": [
    {
     "data": {
      "text/html": [
       "<div>\n",
       "<style scoped>\n",
       "    .dataframe tbody tr th:only-of-type {\n",
       "        vertical-align: middle;\n",
       "    }\n",
       "\n",
       "    .dataframe tbody tr th {\n",
       "        vertical-align: top;\n",
       "    }\n",
       "\n",
       "    .dataframe thead th {\n",
       "        text-align: right;\n",
       "    }\n",
       "</style>\n",
       "<table border=\"1\" class=\"dataframe\">\n",
       "  <thead>\n",
       "    <tr style=\"text-align: right;\">\n",
       "      <th></th>\n",
       "      <th>platform</th>\n",
       "      <th>year_of_release</th>\n",
       "      <th>world_sales</th>\n",
       "    </tr>\n",
       "  </thead>\n",
       "  <tbody>\n",
       "    <tr>\n",
       "      <th>0</th>\n",
       "      <td>Wii</td>\n",
       "      <td>2006-01-01</td>\n",
       "      <td>82.54</td>\n",
       "    </tr>\n",
       "    <tr>\n",
       "      <th>1</th>\n",
       "      <td>NES</td>\n",
       "      <td>1985-01-01</td>\n",
       "      <td>40.24</td>\n",
       "    </tr>\n",
       "    <tr>\n",
       "      <th>2</th>\n",
       "      <td>Wii</td>\n",
       "      <td>2008-01-01</td>\n",
       "      <td>35.52</td>\n",
       "    </tr>\n",
       "    <tr>\n",
       "      <th>3</th>\n",
       "      <td>Wii</td>\n",
       "      <td>2009-01-01</td>\n",
       "      <td>32.77</td>\n",
       "    </tr>\n",
       "    <tr>\n",
       "      <th>4</th>\n",
       "      <td>GB</td>\n",
       "      <td>1996-01-01</td>\n",
       "      <td>31.38</td>\n",
       "    </tr>\n",
       "    <tr>\n",
       "      <th>5</th>\n",
       "      <td>GB</td>\n",
       "      <td>1989-01-01</td>\n",
       "      <td>30.26</td>\n",
       "    </tr>\n",
       "    <tr>\n",
       "      <th>6</th>\n",
       "      <td>DS</td>\n",
       "      <td>2006-01-01</td>\n",
       "      <td>29.80</td>\n",
       "    </tr>\n",
       "    <tr>\n",
       "      <th>7</th>\n",
       "      <td>Wii</td>\n",
       "      <td>2006-01-01</td>\n",
       "      <td>28.91</td>\n",
       "    </tr>\n",
       "    <tr>\n",
       "      <th>8</th>\n",
       "      <td>Wii</td>\n",
       "      <td>2009-01-01</td>\n",
       "      <td>28.32</td>\n",
       "    </tr>\n",
       "    <tr>\n",
       "      <th>9</th>\n",
       "      <td>NES</td>\n",
       "      <td>1984-01-01</td>\n",
       "      <td>28.31</td>\n",
       "    </tr>\n",
       "  </tbody>\n",
       "</table>\n",
       "</div>"
      ],
      "text/plain": [
       "  platform year_of_release  world_sales\n",
       "0      Wii      2006-01-01        82.54\n",
       "1      NES      1985-01-01        40.24\n",
       "2      Wii      2008-01-01        35.52\n",
       "3      Wii      2009-01-01        32.77\n",
       "4       GB      1996-01-01        31.38\n",
       "5       GB      1989-01-01        30.26\n",
       "6       DS      2006-01-01        29.80\n",
       "7      Wii      2006-01-01        28.91\n",
       "8      Wii      2009-01-01        28.32\n",
       "9      NES      1984-01-01        28.31"
      ]
     },
     "execution_count": 12,
     "metadata": {},
     "output_type": "execute_result"
    }
   ],
   "source": [
    "platform_sale = df[['platform', 'year_of_release', 'world_sales']]\n",
    "platform_sale.head(10)"
   ]
  },
  {
   "cell_type": "markdown",
   "metadata": {},
   "source": [
    "Теперь посмотрим, какие вообще платформы представлены в данной выборке."
   ]
  },
  {
   "cell_type": "code",
   "execution_count": 13,
   "metadata": {},
   "outputs": [
    {
     "data": {
      "text/plain": [
       "array(['Wii', 'NES', 'GB', 'DS', 'X360', 'PS3', 'PS2', 'SNES', 'GBA',\n",
       "       'PS4', '3DS', 'N64', 'PS', 'XB', 'PC', '2600', 'PSP', 'XOne',\n",
       "       'WiiU', 'GC', 'GEN', 'DC', 'PSV', 'SAT', 'SCD', 'WS', 'NG', 'TG16',\n",
       "       '3DO', 'GG', 'PCFX'], dtype=object)"
      ]
     },
     "execution_count": 13,
     "metadata": {},
     "output_type": "execute_result"
    }
   ],
   "source": [
    "platform_sale['platform'].unique()"
   ]
  },
  {
   "cell_type": "markdown",
   "metadata": {},
   "source": [
    "Их не сказать чтобы много, но и немало - 31.\n",
    "Каждую рассмотреть вряд ли будет оптимальным решением, воэтому выделим самые крупные, отличившиеся суммарными продажами.\n",
    "\n",
    "Построим сводную таблицу, где в качестве индекса укажем платформу, а продажи по всем годам суммируем, затем отсортируем по убыванию, чтобы определить лидеров."
   ]
  },
  {
   "cell_type": "code",
   "execution_count": 14,
   "metadata": {},
   "outputs": [
    {
     "data": {
      "text/html": [
       "<div>\n",
       "<style scoped>\n",
       "    .dataframe tbody tr th:only-of-type {\n",
       "        vertical-align: middle;\n",
       "    }\n",
       "\n",
       "    .dataframe tbody tr th {\n",
       "        vertical-align: top;\n",
       "    }\n",
       "\n",
       "    .dataframe thead th {\n",
       "        text-align: right;\n",
       "    }\n",
       "</style>\n",
       "<table border=\"1\" class=\"dataframe\">\n",
       "  <thead>\n",
       "    <tr style=\"text-align: right;\">\n",
       "      <th></th>\n",
       "      <th>world_sales</th>\n",
       "    </tr>\n",
       "    <tr>\n",
       "      <th>platform</th>\n",
       "      <th></th>\n",
       "    </tr>\n",
       "  </thead>\n",
       "  <tbody>\n",
       "    <tr>\n",
       "      <th>PS2</th>\n",
       "      <td>1255.77</td>\n",
       "    </tr>\n",
       "    <tr>\n",
       "      <th>X360</th>\n",
       "      <td>971.42</td>\n",
       "    </tr>\n",
       "    <tr>\n",
       "      <th>PS3</th>\n",
       "      <td>939.65</td>\n",
       "    </tr>\n",
       "    <tr>\n",
       "      <th>Wii</th>\n",
       "      <td>907.51</td>\n",
       "    </tr>\n",
       "    <tr>\n",
       "      <th>DS</th>\n",
       "      <td>806.12</td>\n",
       "    </tr>\n",
       "    <tr>\n",
       "      <th>PS</th>\n",
       "      <td>730.86</td>\n",
       "    </tr>\n",
       "    <tr>\n",
       "      <th>GBA</th>\n",
       "      <td>317.85</td>\n",
       "    </tr>\n",
       "    <tr>\n",
       "      <th>PS4</th>\n",
       "      <td>314.14</td>\n",
       "    </tr>\n",
       "    <tr>\n",
       "      <th>PSP</th>\n",
       "      <td>294.05</td>\n",
       "    </tr>\n",
       "    <tr>\n",
       "      <th>PC</th>\n",
       "      <td>259.52</td>\n",
       "    </tr>\n",
       "    <tr>\n",
       "      <th>3DS</th>\n",
       "      <td>259.00</td>\n",
       "    </tr>\n",
       "    <tr>\n",
       "      <th>XB</th>\n",
       "      <td>257.74</td>\n",
       "    </tr>\n",
       "    <tr>\n",
       "      <th>GB</th>\n",
       "      <td>255.46</td>\n",
       "    </tr>\n",
       "    <tr>\n",
       "      <th>NES</th>\n",
       "      <td>251.05</td>\n",
       "    </tr>\n",
       "    <tr>\n",
       "      <th>N64</th>\n",
       "      <td>218.68</td>\n",
       "    </tr>\n",
       "    <tr>\n",
       "      <th>SNES</th>\n",
       "      <td>200.04</td>\n",
       "    </tr>\n",
       "    <tr>\n",
       "      <th>GC</th>\n",
       "      <td>198.93</td>\n",
       "    </tr>\n",
       "    <tr>\n",
       "      <th>XOne</th>\n",
       "      <td>159.32</td>\n",
       "    </tr>\n",
       "    <tr>\n",
       "      <th>2600</th>\n",
       "      <td>96.98</td>\n",
       "    </tr>\n",
       "    <tr>\n",
       "      <th>WiiU</th>\n",
       "      <td>82.19</td>\n",
       "    </tr>\n",
       "    <tr>\n",
       "      <th>PSV</th>\n",
       "      <td>54.07</td>\n",
       "    </tr>\n",
       "    <tr>\n",
       "      <th>SAT</th>\n",
       "      <td>33.59</td>\n",
       "    </tr>\n",
       "    <tr>\n",
       "      <th>GEN</th>\n",
       "      <td>30.77</td>\n",
       "    </tr>\n",
       "    <tr>\n",
       "      <th>DC</th>\n",
       "      <td>15.95</td>\n",
       "    </tr>\n",
       "    <tr>\n",
       "      <th>SCD</th>\n",
       "      <td>1.86</td>\n",
       "    </tr>\n",
       "    <tr>\n",
       "      <th>NG</th>\n",
       "      <td>1.44</td>\n",
       "    </tr>\n",
       "    <tr>\n",
       "      <th>WS</th>\n",
       "      <td>1.42</td>\n",
       "    </tr>\n",
       "    <tr>\n",
       "      <th>TG16</th>\n",
       "      <td>0.16</td>\n",
       "    </tr>\n",
       "    <tr>\n",
       "      <th>3DO</th>\n",
       "      <td>0.10</td>\n",
       "    </tr>\n",
       "    <tr>\n",
       "      <th>GG</th>\n",
       "      <td>0.04</td>\n",
       "    </tr>\n",
       "    <tr>\n",
       "      <th>PCFX</th>\n",
       "      <td>0.03</td>\n",
       "    </tr>\n",
       "  </tbody>\n",
       "</table>\n",
       "</div>"
      ],
      "text/plain": [
       "          world_sales\n",
       "platform             \n",
       "PS2           1255.77\n",
       "X360           971.42\n",
       "PS3            939.65\n",
       "Wii            907.51\n",
       "DS             806.12\n",
       "PS             730.86\n",
       "GBA            317.85\n",
       "PS4            314.14\n",
       "PSP            294.05\n",
       "PC             259.52\n",
       "3DS            259.00\n",
       "XB             257.74\n",
       "GB             255.46\n",
       "NES            251.05\n",
       "N64            218.68\n",
       "SNES           200.04\n",
       "GC             198.93\n",
       "XOne           159.32\n",
       "2600            96.98\n",
       "WiiU            82.19\n",
       "PSV             54.07\n",
       "SAT             33.59\n",
       "GEN             30.77\n",
       "DC              15.95\n",
       "SCD              1.86\n",
       "NG               1.44\n",
       "WS               1.42\n",
       "TG16             0.16\n",
       "3DO              0.10\n",
       "GG               0.04\n",
       "PCFX             0.03"
      ]
     },
     "execution_count": 14,
     "metadata": {},
     "output_type": "execute_result"
    }
   ],
   "source": [
    "platform_sale.pivot_table(index='platform', values = 'world_sales', aggfunc='sum').sort_values(by='world_sales', ascending=False)"
   ]
  },
  {
   "cell_type": "markdown",
   "metadata": {},
   "source": [
    "Итак, у нас определились 6 безусловных лидеров, которые имеют значительный отрыв от общей массы представленных платформ. Вот теперь можно построить распределение по годам.\n",
    "\n",
    "Сделаем срез данных, куда войдут Топ-6 платформ."
   ]
  },
  {
   "cell_type": "code",
   "execution_count": 15,
   "metadata": {},
   "outputs": [
    {
     "data": {
      "text/html": [
       "<div>\n",
       "<style scoped>\n",
       "    .dataframe tbody tr th:only-of-type {\n",
       "        vertical-align: middle;\n",
       "    }\n",
       "\n",
       "    .dataframe tbody tr th {\n",
       "        vertical-align: top;\n",
       "    }\n",
       "\n",
       "    .dataframe thead th {\n",
       "        text-align: right;\n",
       "    }\n",
       "</style>\n",
       "<table border=\"1\" class=\"dataframe\">\n",
       "  <thead>\n",
       "    <tr style=\"text-align: right;\">\n",
       "      <th></th>\n",
       "      <th>platform</th>\n",
       "      <th>year_of_release</th>\n",
       "      <th>world_sales</th>\n",
       "    </tr>\n",
       "  </thead>\n",
       "  <tbody>\n",
       "    <tr>\n",
       "      <th>0</th>\n",
       "      <td>Wii</td>\n",
       "      <td>2006-01-01</td>\n",
       "      <td>82.54</td>\n",
       "    </tr>\n",
       "    <tr>\n",
       "      <th>2</th>\n",
       "      <td>Wii</td>\n",
       "      <td>2008-01-01</td>\n",
       "      <td>35.52</td>\n",
       "    </tr>\n",
       "    <tr>\n",
       "      <th>3</th>\n",
       "      <td>Wii</td>\n",
       "      <td>2009-01-01</td>\n",
       "      <td>32.77</td>\n",
       "    </tr>\n",
       "    <tr>\n",
       "      <th>6</th>\n",
       "      <td>DS</td>\n",
       "      <td>2006-01-01</td>\n",
       "      <td>29.80</td>\n",
       "    </tr>\n",
       "    <tr>\n",
       "      <th>7</th>\n",
       "      <td>Wii</td>\n",
       "      <td>2006-01-01</td>\n",
       "      <td>28.91</td>\n",
       "    </tr>\n",
       "    <tr>\n",
       "      <th>...</th>\n",
       "      <td>...</td>\n",
       "      <td>...</td>\n",
       "      <td>...</td>\n",
       "    </tr>\n",
       "    <tr>\n",
       "      <th>16700</th>\n",
       "      <td>DS</td>\n",
       "      <td>2009-01-01</td>\n",
       "      <td>0.01</td>\n",
       "    </tr>\n",
       "    <tr>\n",
       "      <th>16704</th>\n",
       "      <td>DS</td>\n",
       "      <td>2008-01-01</td>\n",
       "      <td>0.01</td>\n",
       "    </tr>\n",
       "    <tr>\n",
       "      <th>16709</th>\n",
       "      <td>PS2</td>\n",
       "      <td>2008-01-01</td>\n",
       "      <td>0.00</td>\n",
       "    </tr>\n",
       "    <tr>\n",
       "      <th>16710</th>\n",
       "      <td>PS3</td>\n",
       "      <td>2016-01-01</td>\n",
       "      <td>0.01</td>\n",
       "    </tr>\n",
       "    <tr>\n",
       "      <th>16711</th>\n",
       "      <td>X360</td>\n",
       "      <td>2006-01-01</td>\n",
       "      <td>0.01</td>\n",
       "    </tr>\n",
       "  </tbody>\n",
       "</table>\n",
       "<p>9422 rows × 3 columns</p>\n",
       "</div>"
      ],
      "text/plain": [
       "      platform year_of_release  world_sales\n",
       "0          Wii      2006-01-01        82.54\n",
       "2          Wii      2008-01-01        35.52\n",
       "3          Wii      2009-01-01        32.77\n",
       "6           DS      2006-01-01        29.80\n",
       "7          Wii      2006-01-01        28.91\n",
       "...        ...             ...          ...\n",
       "16700       DS      2009-01-01         0.01\n",
       "16704       DS      2008-01-01         0.01\n",
       "16709      PS2      2008-01-01         0.00\n",
       "16710      PS3      2016-01-01         0.01\n",
       "16711     X360      2006-01-01         0.01\n",
       "\n",
       "[9422 rows x 3 columns]"
      ]
     },
     "execution_count": 15,
     "metadata": {},
     "output_type": "execute_result"
    }
   ],
   "source": [
    "top_platform = ['PS2', 'X360', 'PS3', 'Wii', 'DS', 'PS']\n",
    "main_platform = platform_sale.query('platform == @top_platform')\n",
    "main_platform"
   ]
  },
  {
   "cell_type": "markdown",
   "metadata": {},
   "source": [
    "Проверим, вошли ли нужные нам Топ-6 платформ в выборку."
   ]
  },
  {
   "cell_type": "code",
   "execution_count": 16,
   "metadata": {},
   "outputs": [
    {
     "data": {
      "text/plain": [
       "array(['Wii', 'DS', 'X360', 'PS3', 'PS2', 'PS'], dtype=object)"
      ]
     },
     "execution_count": 16,
     "metadata": {},
     "output_type": "execute_result"
    }
   ],
   "source": [
    "main_platform['platform'].unique()"
   ]
  },
  {
   "cell_type": "markdown",
   "metadata": {},
   "source": [
    "Теперь построим распределение продаж по годам.\n",
    "\n",
    "Для каждой из 6-ти платформ построим отдельный график.\n",
    "В конце напишем общий вывод по построенным графикам."
   ]
  },
  {
   "cell_type": "code",
   "execution_count": 17,
   "metadata": {
    "scrolled": true
   },
   "outputs": [
    {
     "data": {
      "image/png": "[encoded data removed]",
      "text/plain": [
       "<Figure size 1224x360 with 1 Axes>"
      ]
     },
     "metadata": {
      "needs_background": "light"
     },
     "output_type": "display_data"
    }
   ],
   "source": [
    "main_platform.query('platform == \"PS2\"').pivot_table(index='year_of_release', values='world_sales', aggfunc='sum').plot(xlim=('1998', '2013'), grid=True, figsize=(17, 5))\n",
    "plt.title('Распределение продаж по годам для PS2')\n",
    "plt.xlabel(\"Год\")\n",
    "plt.ylabel(\"Количество проданных игр на платформе\")\n",
    "plt.show()"
   ]
  },
  {
   "cell_type": "code",
   "execution_count": 18,
   "metadata": {},
   "outputs": [
    {
     "data": {
      "image/png": "[encoded data removed]",
      "text/plain": [
       "<Figure size 1224x360 with 1 Axes>"
      ]
     },
     "metadata": {
      "needs_background": "light"
     },
     "output_type": "display_data"
    }
   ],
   "source": [
    "main_platform.query('platform == \"Wii\"').pivot_table(index='year_of_release', values='world_sales', aggfunc='sum').plot(xlim=('2004', '2016'), grid=True, figsize=(17, 5))\n",
    "plt.title('Распределение продаж по годам для Wii')\n",
    "plt.xlabel(\"Год\")\n",
    "plt.ylabel(\"Количество проданных игр на платформе\")\n",
    "plt.show()"
   ]
  },
  {
   "cell_type": "code",
   "execution_count": 19,
   "metadata": {},
   "outputs": [
    {
     "data": {
      "image/png": "[encoded data removed]",
      "text/plain": [
       "<Figure size 1224x360 with 1 Axes>"
      ]
     },
     "metadata": {
      "needs_background": "light"
     },
     "output_type": "display_data"
    }
   ],
   "source": [
    "main_platform.query('platform == \"DS\"').pivot_table(index='year_of_release', values='world_sales', aggfunc='sum').plot(xlim=('1982', '2016'), grid=True, figsize=(17, 5))\n",
    "plt.title('Распределение продаж по годам для DS')\n",
    "plt.xlabel(\"Год\")\n",
    "plt.ylabel(\"Количество проданных игр на платформе\")\n",
    "plt.show()"
   ]
  },
  {
   "cell_type": "code",
   "execution_count": 20,
   "metadata": {},
   "outputs": [
    {
     "data": {
      "image/png": "[encoded data removed]",
      "text/plain": [
       "<Figure size 1224x360 with 1 Axes>"
      ]
     },
     "metadata": {
      "needs_background": "light"
     },
     "output_type": "display_data"
    }
   ],
   "source": [
    "main_platform.query('platform == \"X360\"').pivot_table(index='year_of_release', values='world_sales', aggfunc='sum').plot(xlim=('2004', '2016'), grid=True, figsize=(17, 5))\n",
    "plt.title('Распределение продаж по годам для X360')\n",
    "plt.xlabel(\"Год\")\n",
    "plt.ylabel(\"Количество проданных игр на платформе\")\n",
    "plt.show()"
   ]
  },
  {
   "cell_type": "code",
   "execution_count": 21,
   "metadata": {},
   "outputs": [
    {
     "data": {
      "image/png": "[encoded data removed]",
      "text/plain": [
       "<Figure size 1224x360 with 1 Axes>"
      ]
     },
     "metadata": {
      "needs_background": "light"
     },
     "output_type": "display_data"
    }
   ],
   "source": [
    "main_platform.query('platform == \"PS3\"').pivot_table(index='year_of_release', values='world_sales', aggfunc='sum').plot(xlim=('2004', '2016'), grid=True, figsize=(17, 5))\n",
    "plt.title('Распределение продаж по годам для PS3')\n",
    "plt.xlabel(\"Год\")\n",
    "plt.ylabel(\"Количество проданных игр на платформе\")\n",
    "plt.show()"
   ]
  },
  {
   "cell_type": "code",
   "execution_count": 22,
   "metadata": {
    "scrolled": true
   },
   "outputs": [
    {
     "data": {
      "image/png": "[encoded data removed]",
      "text/plain": [
       "<Figure size 1224x360 with 1 Axes>"
      ]
     },
     "metadata": {
      "needs_background": "light"
     },
     "output_type": "display_data"
    }
   ],
   "source": [
    "main_platform.query('platform == \"PS\"').pivot_table(index='year_of_release', values='world_sales', aggfunc='sum').plot(xlim=('1992', '2005'), grid=True, figsize=(17, 5))\n",
    "plt.title('Распределение продаж по годам для PS')\n",
    "plt.xlabel(\"Год\")\n",
    "plt.ylabel(\"Количество проданных игр на платформе\")\n",
    "plt.show()"
   ]
  },
  {
   "cell_type": "markdown",
   "metadata": {},
   "source": [
    "**Общий вывод по графикам 6-ти платформ**\n",
    "\n",
    "Характерный срок появления новых и исчезновения старых платформ составляет в среднем 11 лет. За это время платформа набирает популярность, достигает своего пика и постепенно сходит на нет. Исключение составляет только платформа DS, которая была почти невостребована в течении 20 лет,а затем также пережила свои пик и падение. "
   ]
  },
  {
   "cell_type": "markdown",
   "metadata": {},
   "source": [
    "### Определение актуального периода"
   ]
  },
  {
   "cell_type": "markdown",
   "metadata": {},
   "source": [
    "Представляется, что важны данные за преиод с 2012 года, поскольку он является как бы водоразделом после падения выпуска.\n",
    "\n",
    "**Заметка:**\n",
    "\n",
    "Можно предположить, что значительный спад выпуска компьютерных игр после 2011 года связан с увеличением мощности и, соответственно, возможностей компьютеров, что побудило разработчиков делать ставку не на количество, а на качество выпускаемых игр. Но это просто версия."
   ]
  },
  {
   "cell_type": "markdown",
   "metadata": {},
   "source": [
    "Выделим данные за определенный нами как актуальный период, чтобы в дальнейшем работать с ними."
   ]
  },
  {
   "cell_type": "code",
   "execution_count": 23,
   "metadata": {},
   "outputs": [],
   "source": [
    "actual = df.query('year_of_release > 2011')"
   ]
  },
  {
   "cell_type": "markdown",
   "metadata": {},
   "source": [
    "### Определение лидеров и аутсайдеров продаж"
   ]
  },
  {
   "cell_type": "markdown",
   "metadata": {},
   "source": [
    "Для определения лидеров и аутсайдеров продаж среди платформ, сделаем срез данных"
   ]
  },
  {
   "cell_type": "code",
   "execution_count": 24,
   "metadata": {},
   "outputs": [
    {
     "data": {
      "image/png": "[encoded data removed]",
      "text/plain": [
       "<Figure size 1224x360 with 1 Axes>"
      ]
     },
     "metadata": {
      "needs_background": "light"
     },
     "output_type": "display_data"
    }
   ],
   "source": [
    "platform_sale.query('year_of_release > 2011').groupby(['platform', 'year_of_release'])['world_sales'].sum().unstack('platform').plot(grid=True, figsize=(17, 5))\n",
    "plt.title('Распределение продаж по платформам с 2012 года')\n",
    "plt.xlabel(\"Год\")\n",
    "plt.ylabel(\"Количество проданных игр на платформе\")\n",
    "plt.show()"
   ]
  },
  {
   "cell_type": "markdown",
   "metadata": {},
   "source": [
    "**Вывод**\n",
    "\n",
    "Изучая график распределения можно сделать вывод о том, что на момент 2016 года наиболее потенциально прибыльной является платформа PS4, однако продажи игр на ней также падают. Также к условно прибыльным можно отнести и XOne, однако и ее популярность стремится к нулю. Тенденция снижения наблюдается по всем платформам, представленным в период с 2012 по 2016 годы.  "
   ]
  },
  {
   "cell_type": "markdown",
   "metadata": {},
   "source": [
    "### Глобальные продажи игр в разбивке по платформам"
   ]
  },
  {
   "cell_type": "markdown",
   "metadata": {},
   "source": [
    "Посмотрим на глобальные продажи игр актуального периода на тех платформах, которые выше мы определили как потенциально перспективные. \n",
    "\n",
    "Для этого построим диаграммы \"ящик с усами\" для каждой платформы и посмотрим на результат."
   ]
  },
  {
   "cell_type": "code",
   "execution_count": 25,
   "metadata": {},
   "outputs": [
    {
     "data": {
      "text/plain": [
       "<AxesSubplot:>"
      ]
     },
     "execution_count": 25,
     "metadata": {},
     "output_type": "execute_result"
    },
    {
     "data": {
      "image/png": "[encoded data removed]",
      "text/plain": [
       "<Figure size 432x288 with 1 Axes>"
      ]
     },
     "metadata": {
      "needs_background": "light"
     },
     "output_type": "display_data"
    }
   ],
   "source": [
    "actual.query('platform == \"PS4\"').boxplot(column='world_sales')"
   ]
  },
  {
   "cell_type": "markdown",
   "metadata": {},
   "source": [
    "Основные показатели по продажам для платформы PS4 за актуальный период располагаются в диапазоне от 2 до 5 миллионов проданных копий."
   ]
  },
  {
   "cell_type": "code",
   "execution_count": 26,
   "metadata": {},
   "outputs": [
    {
     "data": {
      "text/plain": [
       "<AxesSubplot:>"
      ]
     },
     "execution_count": 26,
     "metadata": {},
     "output_type": "execute_result"
    },
    {
     "data": {
      "image/png": "[encoded data removed]",
      "text/plain": [
       "<Figure size 432x288 with 1 Axes>"
      ]
     },
     "metadata": {
      "needs_background": "light"
     },
     "output_type": "display_data"
    }
   ],
   "source": [
    "actual.query('platform == \"XOne\"').boxplot(column='world_sales')"
   ]
  },
  {
   "cell_type": "markdown",
   "metadata": {},
   "source": [
    "Основные показатели продаж для платформы XOne за актуальный период располагаются в диапазоне от 2 до 4 миллионов проданных копий.\n",
    "\n",
    "**Вывод** \n",
    "\n",
    "За актуальный период продажи двух потенциально прибыльных платформ более менее равны.  "
   ]
  },
  {
   "cell_type": "markdown",
   "metadata": {},
   "source": [
    "### Нахождение корреляции между отзывами и продажами игр"
   ]
  },
  {
   "cell_type": "markdown",
   "metadata": {},
   "source": [
    "Рассмотрим влияние отзывов на продажи игр на примере одной популярной платформы. Ею станет PS4, поскольку она показала наибольшую перспективу ранее. \n",
    "\n",
    "Создадим две диаграммы рассеяния, на которых отобразим корреляцию между отзывами критиков и продажами (диаграмма 1), а также корреляцию между отзывами простых пользователей и продажами (диаграмма 2)."
   ]
  },
  {
   "cell_type": "code",
   "execution_count": 27,
   "metadata": {},
   "outputs": [
    {
     "data": {
      "image/png": "[encoded data removed]",
      "text/plain": [
       "<Figure size 432x288 with 1 Axes>"
      ]
     },
     "metadata": {
      "needs_background": "light"
     },
     "output_type": "display_data"
    }
   ],
   "source": [
    "actual.query('platform == \"PS4\"').plot(x='critic_score', y='world_sales', kind='scatter')\n",
    "plt.title('Влияние отзывов критиков на продажи платформы')\n",
    "plt.xlabel('Отзывы критиков')\n",
    "plt.ylabel('Продажи')\n",
    "plt.show()"
   ]
  },
  {
   "cell_type": "code",
   "execution_count": 28,
   "metadata": {},
   "outputs": [
    {
     "data": {
      "image/png": "[encoded data removed]",
      "text/plain": [
       "<Figure size 432x288 with 1 Axes>"
      ]
     },
     "metadata": {
      "needs_background": "light"
     },
     "output_type": "display_data"
    }
   ],
   "source": [
    "actual.query('platform == \"PS4\"').plot(x='user_score', y='world_sales', kind='scatter')\n",
    "plt.title('Влияние отзывов пользователей на продажи платформы')\n",
    "plt.xlabel('Отзывы пользователей')\n",
    "plt.ylabel('Продажи')\n",
    "plt.show()"
   ]
  },
  {
   "cell_type": "markdown",
   "metadata": {},
   "source": [
    "**Вывод**\n",
    "\n",
    "На графиках рассеяния заметно влияние отзывов на продажи - чем выше рейтинг, тем выше уровень продаж. Однако стоит заметить, что все таки продажи имеют бОльшую зависимость от отзывов критиков, нежели простых пользователей. Это говорит о том, что пользователи доверяют больше критикам, нежели таким же пользователям."
   ]
  },
  {
   "cell_type": "markdown",
   "metadata": {},
   "source": [
    "Корреляцию отобразили, теперь посчитаем.\n",
    "\n",
    "Воспользуемся методом вычисления коэффициента корреляции Пирсона."
   ]
  },
  {
   "cell_type": "code",
   "execution_count": 29,
   "metadata": {},
   "outputs": [],
   "source": [
    "ps4 = actual.query('platform == \"PS4\"')"
   ]
  },
  {
   "cell_type": "code",
   "execution_count": 30,
   "metadata": {},
   "outputs": [
    {
     "data": {
      "text/plain": [
       "0.40656790206178095"
      ]
     },
     "execution_count": 30,
     "metadata": {},
     "output_type": "execute_result"
    }
   ],
   "source": [
    "ps4['critic_score'].corr(ps4['world_sales'])"
   ]
  },
  {
   "cell_type": "code",
   "execution_count": 31,
   "metadata": {},
   "outputs": [
    {
     "data": {
      "text/plain": [
       "-0.031957110204556376"
      ]
     },
     "execution_count": 31,
     "metadata": {},
     "output_type": "execute_result"
    }
   ],
   "source": [
    "ps4['user_score'].corr(ps4['world_sales'])"
   ]
  },
  {
   "cell_type": "markdown",
   "metadata": {},
   "source": [
    "**Вывод**\n",
    "\n",
    "Вычисления подтвердили, что корреляция между отзывами критиков и продажами более значительна, чем между отзывами пользователей и продажами. \"Профессионалам\" люди доверяют больше, хотя вопрос об их \"профессионализме\" остается открытым."
   ]
  },
  {
   "cell_type": "markdown",
   "metadata": {},
   "source": [
    "### Соотнесение выводов с продажами игр на другой платформе"
   ]
  },
  {
   "cell_type": "markdown",
   "metadata": {},
   "source": [
    "Теперь соотнесем полученные в предыдущем пункте выводы с данными по другой потенциально прибыльной платформе - XOne."
   ]
  },
  {
   "cell_type": "code",
   "execution_count": 32,
   "metadata": {},
   "outputs": [
    {
     "data": {
      "image/png": "[encoded data removed]",
      "text/plain": [
       "<Figure size 432x288 with 1 Axes>"
      ]
     },
     "metadata": {
      "needs_background": "light"
     },
     "output_type": "display_data"
    }
   ],
   "source": [
    "actual.query('platform == \"XOne\"').plot(x='critic_score', y='world_sales', kind='scatter')\n",
    "plt.title('Влияние отзывов критиков на продажи платформы')\n",
    "plt.xlabel('Отзывы критиков')\n",
    "plt.ylabel('Продажи')\n",
    "plt.show()"
   ]
  },
  {
   "cell_type": "code",
   "execution_count": 33,
   "metadata": {},
   "outputs": [
    {
     "data": {
      "image/png": "[encoded data removed]",
      "text/plain": [
       "<Figure size 432x288 with 1 Axes>"
      ]
     },
     "metadata": {
      "needs_background": "light"
     },
     "output_type": "display_data"
    }
   ],
   "source": [
    "actual.query('platform == \"XOne\"').plot(x='user_score', y='world_sales', kind='scatter')\n",
    "plt.title('Влияние отзывов пользователей на продажи платформы')\n",
    "plt.xlabel('Отзывы пользователей')\n",
    "plt.ylabel('Продажи')\n",
    "plt.show()"
   ]
  },
  {
   "cell_type": "markdown",
   "metadata": {},
   "source": [
    "**Вывод**\n",
    "\n",
    "Диаграммы рассеяния показывают практически те же результаты, что и в случае с платформой PS4."
   ]
  },
  {
   "cell_type": "markdown",
   "metadata": {},
   "source": [
    "Посмотрим также по коэфициенту корреляции Пирсона."
   ]
  },
  {
   "cell_type": "code",
   "execution_count": 34,
   "metadata": {},
   "outputs": [],
   "source": [
    "xone = actual.query('platform == \"XOne\"')"
   ]
  },
  {
   "cell_type": "code",
   "execution_count": 35,
   "metadata": {},
   "outputs": [
    {
     "data": {
      "text/plain": [
       "0.4169983280084017"
      ]
     },
     "execution_count": 35,
     "metadata": {},
     "output_type": "execute_result"
    }
   ],
   "source": [
    "xone['critic_score'].corr(xone['world_sales'])"
   ]
  },
  {
   "cell_type": "code",
   "execution_count": 36,
   "metadata": {},
   "outputs": [
    {
     "data": {
      "text/plain": [
       "-0.06892505328279414"
      ]
     },
     "execution_count": 36,
     "metadata": {},
     "output_type": "execute_result"
    }
   ],
   "source": [
    "xone['user_score'].corr(xone['world_sales'])"
   ]
  },
  {
   "cell_type": "markdown",
   "metadata": {},
   "source": [
    "**Вывод**\n",
    "\n",
    "Результаты по корреляции платформы XOne те же, что и для платформы PS4 - пользователи больше доверяют отзывам критиков."
   ]
  },
  {
   "cell_type": "markdown",
   "metadata": {},
   "source": [
    "### Общее распределение игр по жанрам"
   ]
  },
  {
   "cell_type": "markdown",
   "metadata": {},
   "source": [
    "Распределим игры по жанрам и посмотрим, какие из них самые прибыльные. Возьмем данные за период, выделенный нами ранее как актуальный, т.е. начиная с 2012 года.\n",
    "\n",
    "Для этого сконструируемм сводную таблицу, в которой сумируем прибыль по каждому жанру, а затем распределим их по убыванию. "
   ]
  },
  {
   "cell_type": "code",
   "execution_count": 37,
   "metadata": {},
   "outputs": [
    {
     "data": {
      "text/html": [
       "<div>\n",
       "<style scoped>\n",
       "    .dataframe tbody tr th:only-of-type {\n",
       "        vertical-align: middle;\n",
       "    }\n",
       "\n",
       "    .dataframe tbody tr th {\n",
       "        vertical-align: top;\n",
       "    }\n",
       "\n",
       "    .dataframe thead th {\n",
       "        text-align: right;\n",
       "    }\n",
       "</style>\n",
       "<table border=\"1\" class=\"dataframe\">\n",
       "  <thead>\n",
       "    <tr style=\"text-align: right;\">\n",
       "      <th></th>\n",
       "      <th>world_sales</th>\n",
       "    </tr>\n",
       "    <tr>\n",
       "      <th>genre</th>\n",
       "      <th></th>\n",
       "    </tr>\n",
       "  </thead>\n",
       "  <tbody>\n",
       "    <tr>\n",
       "      <th>Action</th>\n",
       "      <td>441.12</td>\n",
       "    </tr>\n",
       "    <tr>\n",
       "      <th>Shooter</th>\n",
       "      <td>304.73</td>\n",
       "    </tr>\n",
       "    <tr>\n",
       "      <th>Role-Playing</th>\n",
       "      <td>192.80</td>\n",
       "    </tr>\n",
       "    <tr>\n",
       "      <th>Sports</th>\n",
       "      <td>181.07</td>\n",
       "    </tr>\n",
       "    <tr>\n",
       "      <th>Misc</th>\n",
       "      <td>85.04</td>\n",
       "    </tr>\n",
       "    <tr>\n",
       "      <th>Platform</th>\n",
       "      <td>61.00</td>\n",
       "    </tr>\n",
       "    <tr>\n",
       "      <th>Racing</th>\n",
       "      <td>53.50</td>\n",
       "    </tr>\n",
       "    <tr>\n",
       "      <th>Fighting</th>\n",
       "      <td>44.49</td>\n",
       "    </tr>\n",
       "    <tr>\n",
       "      <th>Simulation</th>\n",
       "      <td>35.12</td>\n",
       "    </tr>\n",
       "    <tr>\n",
       "      <th>Adventure</th>\n",
       "      <td>29.43</td>\n",
       "    </tr>\n",
       "    <tr>\n",
       "      <th>Strategy</th>\n",
       "      <td>13.34</td>\n",
       "    </tr>\n",
       "    <tr>\n",
       "      <th>Puzzle</th>\n",
       "      <td>4.89</td>\n",
       "    </tr>\n",
       "  </tbody>\n",
       "</table>\n",
       "</div>"
      ],
      "text/plain": [
       "              world_sales\n",
       "genre                    \n",
       "Action             441.12\n",
       "Shooter            304.73\n",
       "Role-Playing       192.80\n",
       "Sports             181.07\n",
       "Misc                85.04\n",
       "Platform            61.00\n",
       "Racing              53.50\n",
       "Fighting            44.49\n",
       "Simulation          35.12\n",
       "Adventure           29.43\n",
       "Strategy            13.34\n",
       "Puzzle               4.89"
      ]
     },
     "execution_count": 37,
     "metadata": {},
     "output_type": "execute_result"
    }
   ],
   "source": [
    "actual.pivot_table(index=('genre'), values='world_sales', aggfunc='sum').sort_values(by='world_sales', ascending=False)"
   ]
  },
  {
   "cell_type": "markdown",
   "metadata": {},
   "source": [
    "**Вывод**\n",
    "\n",
    "Самым прибыльным жанром является экшен-игры, шутеры, на третьем месте спортивные игры. \n",
    "\n",
    "Что можно сказать о самых прибыльных жанрах? Действие таких игр развивается очень динамично и требует высокой концентрации внимания и быстрой реакции на происходящие в игре события, поэтому они привлекают больше внимания пользователей. \n",
    "\n",
    "Самыми низкими продажами за актуальный период выделились стратегии и пазлы, требующие большей усидчивости и долгого продумывания своих действий."
   ]
  },
  {
   "cell_type": "markdown",
   "metadata": {},
   "source": [
    "## Портрет пользователей из разных регионов"
   ]
  },
  {
   "cell_type": "markdown",
   "metadata": {},
   "source": [
    "Составим портрет пользователя каждого региона. \n",
    "\n",
    "Для этого найдем самые популярные платформы у пользователей разных регионов, жанры, а также посмотрим, влияет ли рейтинг ESRB на продажи в каждом отдельном регионе."
   ]
  },
  {
   "cell_type": "markdown",
   "metadata": {},
   "source": [
    "### Топ-5 самых популярных платформ"
   ]
  },
  {
   "cell_type": "markdown",
   "metadata": {},
   "source": [
    "Для каждого региона составим Топ-5 популярных платформ."
   ]
  },
  {
   "cell_type": "markdown",
   "metadata": {},
   "source": [
    "**Северная Америка**"
   ]
  },
  {
   "cell_type": "code",
   "execution_count": 38,
   "metadata": {},
   "outputs": [
    {
     "data": {
      "text/html": [
       "<div>\n",
       "<style scoped>\n",
       "    .dataframe tbody tr th:only-of-type {\n",
       "        vertical-align: middle;\n",
       "    }\n",
       "\n",
       "    .dataframe tbody tr th {\n",
       "        vertical-align: top;\n",
       "    }\n",
       "\n",
       "    .dataframe thead th {\n",
       "        text-align: right;\n",
       "    }\n",
       "</style>\n",
       "<table border=\"1\" class=\"dataframe\">\n",
       "  <thead>\n",
       "    <tr style=\"text-align: right;\">\n",
       "      <th></th>\n",
       "      <th>na_sales</th>\n",
       "    </tr>\n",
       "    <tr>\n",
       "      <th>platform</th>\n",
       "      <th></th>\n",
       "    </tr>\n",
       "  </thead>\n",
       "  <tbody>\n",
       "    <tr>\n",
       "      <th>X360</th>\n",
       "      <td>140.05</td>\n",
       "    </tr>\n",
       "    <tr>\n",
       "      <th>PS4</th>\n",
       "      <td>108.74</td>\n",
       "    </tr>\n",
       "    <tr>\n",
       "      <th>PS3</th>\n",
       "      <td>103.38</td>\n",
       "    </tr>\n",
       "    <tr>\n",
       "      <th>XOne</th>\n",
       "      <td>93.12</td>\n",
       "    </tr>\n",
       "    <tr>\n",
       "      <th>3DS</th>\n",
       "      <td>55.31</td>\n",
       "    </tr>\n",
       "  </tbody>\n",
       "</table>\n",
       "</div>"
      ],
      "text/plain": [
       "          na_sales\n",
       "platform          \n",
       "X360        140.05\n",
       "PS4         108.74\n",
       "PS3         103.38\n",
       "XOne         93.12\n",
       "3DS          55.31"
      ]
     },
     "execution_count": 38,
     "metadata": {},
     "output_type": "execute_result"
    }
   ],
   "source": [
    "actual.pivot_table(index='platform', values='na_sales', aggfunc='sum').sort_values(by='na_sales', ascending=False).head(5)"
   ]
  },
  {
   "cell_type": "markdown",
   "metadata": {},
   "source": [
    "Безусловным лидером по Северной Америке является платформа X360, а вот аутсайдером нашего Топ-5 со значительным отрывом от остальных является платформа 3DS."
   ]
  },
  {
   "cell_type": "markdown",
   "metadata": {},
   "source": [
    "**Европа**"
   ]
  },
  {
   "cell_type": "code",
   "execution_count": 39,
   "metadata": {},
   "outputs": [
    {
     "data": {
      "text/html": [
       "<div>\n",
       "<style scoped>\n",
       "    .dataframe tbody tr th:only-of-type {\n",
       "        vertical-align: middle;\n",
       "    }\n",
       "\n",
       "    .dataframe tbody tr th {\n",
       "        vertical-align: top;\n",
       "    }\n",
       "\n",
       "    .dataframe thead th {\n",
       "        text-align: right;\n",
       "    }\n",
       "</style>\n",
       "<table border=\"1\" class=\"dataframe\">\n",
       "  <thead>\n",
       "    <tr style=\"text-align: right;\">\n",
       "      <th></th>\n",
       "      <th>eu_sales</th>\n",
       "    </tr>\n",
       "    <tr>\n",
       "      <th>platform</th>\n",
       "      <th></th>\n",
       "    </tr>\n",
       "  </thead>\n",
       "  <tbody>\n",
       "    <tr>\n",
       "      <th>PS4</th>\n",
       "      <td>141.09</td>\n",
       "    </tr>\n",
       "    <tr>\n",
       "      <th>PS3</th>\n",
       "      <td>106.86</td>\n",
       "    </tr>\n",
       "    <tr>\n",
       "      <th>X360</th>\n",
       "      <td>74.52</td>\n",
       "    </tr>\n",
       "    <tr>\n",
       "      <th>XOne</th>\n",
       "      <td>51.59</td>\n",
       "    </tr>\n",
       "    <tr>\n",
       "      <th>3DS</th>\n",
       "      <td>42.64</td>\n",
       "    </tr>\n",
       "  </tbody>\n",
       "</table>\n",
       "</div>"
      ],
      "text/plain": [
       "          eu_sales\n",
       "platform          \n",
       "PS4         141.09\n",
       "PS3         106.86\n",
       "X360         74.52\n",
       "XOne         51.59\n",
       "3DS          42.64"
      ]
     },
     "execution_count": 39,
     "metadata": {},
     "output_type": "execute_result"
    }
   ],
   "source": [
    "actual.pivot_table(index='platform', values='eu_sales', aggfunc='sum').sort_values(by='eu_sales', ascending=False).head(5)"
   ]
  },
  {
   "cell_type": "markdown",
   "metadata": {},
   "source": [
    "В Европе ситуация схожа, здесь тоже есть безусловный лидер, это PS4. Однако на втором месте PS3, после которой сильно отстают другие три платформы."
   ]
  },
  {
   "cell_type": "markdown",
   "metadata": {},
   "source": [
    "**Япония**"
   ]
  },
  {
   "cell_type": "code",
   "execution_count": 40,
   "metadata": {},
   "outputs": [
    {
     "data": {
      "text/html": [
       "<div>\n",
       "<style scoped>\n",
       "    .dataframe tbody tr th:only-of-type {\n",
       "        vertical-align: middle;\n",
       "    }\n",
       "\n",
       "    .dataframe tbody tr th {\n",
       "        vertical-align: top;\n",
       "    }\n",
       "\n",
       "    .dataframe thead th {\n",
       "        text-align: right;\n",
       "    }\n",
       "</style>\n",
       "<table border=\"1\" class=\"dataframe\">\n",
       "  <thead>\n",
       "    <tr style=\"text-align: right;\">\n",
       "      <th></th>\n",
       "      <th>jp_sales</th>\n",
       "    </tr>\n",
       "    <tr>\n",
       "      <th>platform</th>\n",
       "      <th></th>\n",
       "    </tr>\n",
       "  </thead>\n",
       "  <tbody>\n",
       "    <tr>\n",
       "      <th>3DS</th>\n",
       "      <td>87.79</td>\n",
       "    </tr>\n",
       "    <tr>\n",
       "      <th>PS3</th>\n",
       "      <td>35.29</td>\n",
       "    </tr>\n",
       "    <tr>\n",
       "      <th>PSV</th>\n",
       "      <td>21.04</td>\n",
       "    </tr>\n",
       "    <tr>\n",
       "      <th>PS4</th>\n",
       "      <td>15.96</td>\n",
       "    </tr>\n",
       "    <tr>\n",
       "      <th>WiiU</th>\n",
       "      <td>13.01</td>\n",
       "    </tr>\n",
       "  </tbody>\n",
       "</table>\n",
       "</div>"
      ],
      "text/plain": [
       "          jp_sales\n",
       "platform          \n",
       "3DS          87.79\n",
       "PS3          35.29\n",
       "PSV          21.04\n",
       "PS4          15.96\n",
       "WiiU         13.01"
      ]
     },
     "execution_count": 40,
     "metadata": {},
     "output_type": "execute_result"
    }
   ],
   "source": [
    "actual.pivot_table(index='platform', values='jp_sales', aggfunc='sum').sort_values(by='jp_sales', ascending=False).head(5)"
   ]
  },
  {
   "cell_type": "markdown",
   "metadata": {},
   "source": [
    "Япония как всегда своеобразна. Лидером является платформа 3DS, а все остальные плетутся в хвосте."
   ]
  },
  {
   "cell_type": "markdown",
   "metadata": {},
   "source": [
    "### Топ-5 самых популярных жанров"
   ]
  },
  {
   "cell_type": "markdown",
   "metadata": {},
   "source": [
    "Теперь посмотрим на Топ-5 самых популярных жанров в каждом регионе."
   ]
  },
  {
   "cell_type": "markdown",
   "metadata": {},
   "source": [
    "**Северная Америка**"
   ]
  },
  {
   "cell_type": "code",
   "execution_count": 41,
   "metadata": {},
   "outputs": [
    {
     "data": {
      "text/html": [
       "<div>\n",
       "<style scoped>\n",
       "    .dataframe tbody tr th:only-of-type {\n",
       "        vertical-align: middle;\n",
       "    }\n",
       "\n",
       "    .dataframe tbody tr th {\n",
       "        vertical-align: top;\n",
       "    }\n",
       "\n",
       "    .dataframe thead th {\n",
       "        text-align: right;\n",
       "    }\n",
       "</style>\n",
       "<table border=\"1\" class=\"dataframe\">\n",
       "  <thead>\n",
       "    <tr style=\"text-align: right;\">\n",
       "      <th></th>\n",
       "      <th>na_sales</th>\n",
       "    </tr>\n",
       "    <tr>\n",
       "      <th>genre</th>\n",
       "      <th></th>\n",
       "    </tr>\n",
       "  </thead>\n",
       "  <tbody>\n",
       "    <tr>\n",
       "      <th>Action</th>\n",
       "      <td>177.84</td>\n",
       "    </tr>\n",
       "    <tr>\n",
       "      <th>Shooter</th>\n",
       "      <td>144.77</td>\n",
       "    </tr>\n",
       "    <tr>\n",
       "      <th>Sports</th>\n",
       "      <td>81.53</td>\n",
       "    </tr>\n",
       "    <tr>\n",
       "      <th>Role-Playing</th>\n",
       "      <td>64.00</td>\n",
       "    </tr>\n",
       "    <tr>\n",
       "      <th>Misc</th>\n",
       "      <td>38.19</td>\n",
       "    </tr>\n",
       "  </tbody>\n",
       "</table>\n",
       "</div>"
      ],
      "text/plain": [
       "              na_sales\n",
       "genre                 \n",
       "Action          177.84\n",
       "Shooter         144.77\n",
       "Sports           81.53\n",
       "Role-Playing     64.00\n",
       "Misc             38.19"
      ]
     },
     "execution_count": 41,
     "metadata": {},
     "output_type": "execute_result"
    }
   ],
   "source": [
    "actual.pivot_table(index='genre', values='na_sales', aggfunc='sum').sort_values(by='na_sales', ascending=False).head(5)"
   ]
  },
  {
   "cell_type": "markdown",
   "metadata": {},
   "source": [
    "**Европа**"
   ]
  },
  {
   "cell_type": "code",
   "execution_count": 42,
   "metadata": {},
   "outputs": [
    {
     "data": {
      "text/html": [
       "<div>\n",
       "<style scoped>\n",
       "    .dataframe tbody tr th:only-of-type {\n",
       "        vertical-align: middle;\n",
       "    }\n",
       "\n",
       "    .dataframe tbody tr th {\n",
       "        vertical-align: top;\n",
       "    }\n",
       "\n",
       "    .dataframe thead th {\n",
       "        text-align: right;\n",
       "    }\n",
       "</style>\n",
       "<table border=\"1\" class=\"dataframe\">\n",
       "  <thead>\n",
       "    <tr style=\"text-align: right;\">\n",
       "      <th></th>\n",
       "      <th>eu_sales</th>\n",
       "    </tr>\n",
       "    <tr>\n",
       "      <th>genre</th>\n",
       "      <th></th>\n",
       "    </tr>\n",
       "  </thead>\n",
       "  <tbody>\n",
       "    <tr>\n",
       "      <th>Action</th>\n",
       "      <td>159.34</td>\n",
       "    </tr>\n",
       "    <tr>\n",
       "      <th>Shooter</th>\n",
       "      <td>113.47</td>\n",
       "    </tr>\n",
       "    <tr>\n",
       "      <th>Sports</th>\n",
       "      <td>69.09</td>\n",
       "    </tr>\n",
       "    <tr>\n",
       "      <th>Role-Playing</th>\n",
       "      <td>48.53</td>\n",
       "    </tr>\n",
       "    <tr>\n",
       "      <th>Racing</th>\n",
       "      <td>27.29</td>\n",
       "    </tr>\n",
       "  </tbody>\n",
       "</table>\n",
       "</div>"
      ],
      "text/plain": [
       "              eu_sales\n",
       "genre                 \n",
       "Action          159.34\n",
       "Shooter         113.47\n",
       "Sports           69.09\n",
       "Role-Playing     48.53\n",
       "Racing           27.29"
      ]
     },
     "execution_count": 42,
     "metadata": {},
     "output_type": "execute_result"
    }
   ],
   "source": [
    "actual.pivot_table(index='genre', values='eu_sales', aggfunc='sum').sort_values(by='eu_sales', ascending=False).head(5)"
   ]
  },
  {
   "cell_type": "markdown",
   "metadata": {},
   "source": [
    "**Япония**"
   ]
  },
  {
   "cell_type": "code",
   "execution_count": 43,
   "metadata": {},
   "outputs": [
    {
     "data": {
      "text/html": [
       "<div>\n",
       "<style scoped>\n",
       "    .dataframe tbody tr th:only-of-type {\n",
       "        vertical-align: middle;\n",
       "    }\n",
       "\n",
       "    .dataframe tbody tr th {\n",
       "        vertical-align: top;\n",
       "    }\n",
       "\n",
       "    .dataframe thead th {\n",
       "        text-align: right;\n",
       "    }\n",
       "</style>\n",
       "<table border=\"1\" class=\"dataframe\">\n",
       "  <thead>\n",
       "    <tr style=\"text-align: right;\">\n",
       "      <th></th>\n",
       "      <th>jp_sales</th>\n",
       "    </tr>\n",
       "    <tr>\n",
       "      <th>genre</th>\n",
       "      <th></th>\n",
       "    </tr>\n",
       "  </thead>\n",
       "  <tbody>\n",
       "    <tr>\n",
       "      <th>Role-Playing</th>\n",
       "      <td>65.44</td>\n",
       "    </tr>\n",
       "    <tr>\n",
       "      <th>Action</th>\n",
       "      <td>52.80</td>\n",
       "    </tr>\n",
       "    <tr>\n",
       "      <th>Misc</th>\n",
       "      <td>12.86</td>\n",
       "    </tr>\n",
       "    <tr>\n",
       "      <th>Simulation</th>\n",
       "      <td>10.41</td>\n",
       "    </tr>\n",
       "    <tr>\n",
       "      <th>Fighting</th>\n",
       "      <td>9.44</td>\n",
       "    </tr>\n",
       "  </tbody>\n",
       "</table>\n",
       "</div>"
      ],
      "text/plain": [
       "              jp_sales\n",
       "genre                 \n",
       "Role-Playing     65.44\n",
       "Action           52.80\n",
       "Misc             12.86\n",
       "Simulation       10.41\n",
       "Fighting          9.44"
      ]
     },
     "execution_count": 43,
     "metadata": {},
     "output_type": "execute_result"
    }
   ],
   "source": [
    "actual.pivot_table(index='genre', values='jp_sales', aggfunc='sum').sort_values(by='jp_sales', ascending=False).head(5)"
   ]
  },
  {
   "cell_type": "markdown",
   "metadata": {},
   "source": [
    "**Общий вывод**\n",
    "\n",
    "В Северной Америке и Европе первая тройка неизменна - экшен-игры, спортивные симуляторы и шутеры. А вот в Японии предпочитают ролевые игры, которые по популярности значительно превосходят все остальные жанры."
   ]
  },
  {
   "cell_type": "markdown",
   "metadata": {},
   "source": [
    "Рынок игр в Японии очень своеобразен, он имеет ряд отличий:\n",
    "\n",
    "* В Японии не очень принимают соревновательный элемент в играх, бОльшим спросом пользуются игры с элементами мирного сотрудничества, дружбы, а то и вовсе отсутствия хоть какой-то конкуренции, дискомфорта, стресса;\n",
    "* Кавай (или каваий) - это всё, что мило, симпатично, красиво. Особенность японского восприятия, где даже плакаты министерства обороны страны очень кавайные;\n",
    "* Антропоморфные персонажи. Очень популярны именно игры с такими персонажами;\n",
    "* Высокий уровень сервиса и комфорта. Люди в Японии привыкли к качественному контенту и готовы за него платить, что тоже обуславливает выбор того или иного игрового продукта."
   ]
  },
  {
   "cell_type": "markdown",
   "metadata": {},
   "source": [
    "### Влияние рейтинга ESRB на продажи в отдельном регионе"
   ]
  },
  {
   "cell_type": "markdown",
   "metadata": {},
   "source": [
    "Для определения влияния рейтинга ESRB на продажи в отдельном регионе составим сводные таблицы по каждому региону."
   ]
  },
  {
   "cell_type": "markdown",
   "metadata": {},
   "source": [
    "Заполним пропуски в рейтинге на 0."
   ]
  },
  {
   "cell_type": "code",
   "execution_count": 44,
   "metadata": {},
   "outputs": [
    {
     "name": "stderr",
     "output_type": "stream",
     "text": [
      "/tmp/ipykernel_272/158246388.py:1: SettingWithCopyWarning: \n",
      "A value is trying to be set on a copy of a slice from a DataFrame.\n",
      "Try using .loc[row_indexer,col_indexer] = value instead\n",
      "\n",
      "See the caveats in the documentation: https://pandas.pydata.org/pandas-docs/stable/user_guide/indexing.html#returning-a-view-versus-a-copy\n",
      "  actual['rating'] = actual['rating'].fillna(0)\n"
     ]
    },
    {
     "data": {
      "text/html": [
       "<div>\n",
       "<style scoped>\n",
       "    .dataframe tbody tr th:only-of-type {\n",
       "        vertical-align: middle;\n",
       "    }\n",
       "\n",
       "    .dataframe tbody tr th {\n",
       "        vertical-align: top;\n",
       "    }\n",
       "\n",
       "    .dataframe thead th {\n",
       "        text-align: right;\n",
       "    }\n",
       "</style>\n",
       "<table border=\"1\" class=\"dataframe\">\n",
       "  <thead>\n",
       "    <tr style=\"text-align: right;\">\n",
       "      <th></th>\n",
       "      <th>name</th>\n",
       "      <th>platform</th>\n",
       "      <th>year_of_release</th>\n",
       "      <th>genre</th>\n",
       "      <th>na_sales</th>\n",
       "      <th>eu_sales</th>\n",
       "      <th>jp_sales</th>\n",
       "      <th>other_sales</th>\n",
       "      <th>critic_score</th>\n",
       "      <th>user_score</th>\n",
       "      <th>rating</th>\n",
       "      <th>world_sales</th>\n",
       "    </tr>\n",
       "  </thead>\n",
       "  <tbody>\n",
       "    <tr>\n",
       "      <th>16</th>\n",
       "      <td>Grand Theft Auto V</td>\n",
       "      <td>PS3</td>\n",
       "      <td>2013-01-01</td>\n",
       "      <td>Action</td>\n",
       "      <td>7.02</td>\n",
       "      <td>9.09</td>\n",
       "      <td>0.98</td>\n",
       "      <td>3.96</td>\n",
       "      <td>97.0</td>\n",
       "      <td>8.2</td>\n",
       "      <td>M</td>\n",
       "      <td>21.05</td>\n",
       "    </tr>\n",
       "    <tr>\n",
       "      <th>23</th>\n",
       "      <td>Grand Theft Auto V</td>\n",
       "      <td>X360</td>\n",
       "      <td>2013-01-01</td>\n",
       "      <td>Action</td>\n",
       "      <td>9.66</td>\n",
       "      <td>5.14</td>\n",
       "      <td>0.06</td>\n",
       "      <td>1.41</td>\n",
       "      <td>97.0</td>\n",
       "      <td>8.1</td>\n",
       "      <td>M</td>\n",
       "      <td>16.27</td>\n",
       "    </tr>\n",
       "    <tr>\n",
       "      <th>31</th>\n",
       "      <td>Call of Duty: Black Ops 3</td>\n",
       "      <td>PS4</td>\n",
       "      <td>2015-01-01</td>\n",
       "      <td>Shooter</td>\n",
       "      <td>6.03</td>\n",
       "      <td>5.86</td>\n",
       "      <td>0.36</td>\n",
       "      <td>2.38</td>\n",
       "      <td>NaN</td>\n",
       "      <td>NaN</td>\n",
       "      <td>0</td>\n",
       "      <td>14.63</td>\n",
       "    </tr>\n",
       "    <tr>\n",
       "      <th>33</th>\n",
       "      <td>Pokemon X/Pokemon Y</td>\n",
       "      <td>3DS</td>\n",
       "      <td>2013-01-01</td>\n",
       "      <td>Role-Playing</td>\n",
       "      <td>5.28</td>\n",
       "      <td>4.19</td>\n",
       "      <td>4.35</td>\n",
       "      <td>0.78</td>\n",
       "      <td>NaN</td>\n",
       "      <td>NaN</td>\n",
       "      <td>0</td>\n",
       "      <td>14.60</td>\n",
       "    </tr>\n",
       "    <tr>\n",
       "      <th>34</th>\n",
       "      <td>Call of Duty: Black Ops II</td>\n",
       "      <td>PS3</td>\n",
       "      <td>2012-01-01</td>\n",
       "      <td>Shooter</td>\n",
       "      <td>4.99</td>\n",
       "      <td>5.73</td>\n",
       "      <td>0.65</td>\n",
       "      <td>2.42</td>\n",
       "      <td>83.0</td>\n",
       "      <td>5.3</td>\n",
       "      <td>M</td>\n",
       "      <td>13.79</td>\n",
       "    </tr>\n",
       "    <tr>\n",
       "      <th>35</th>\n",
       "      <td>Call of Duty: Black Ops II</td>\n",
       "      <td>X360</td>\n",
       "      <td>2012-01-01</td>\n",
       "      <td>Shooter</td>\n",
       "      <td>8.25</td>\n",
       "      <td>4.24</td>\n",
       "      <td>0.07</td>\n",
       "      <td>1.12</td>\n",
       "      <td>83.0</td>\n",
       "      <td>4.8</td>\n",
       "      <td>M</td>\n",
       "      <td>13.68</td>\n",
       "    </tr>\n",
       "    <tr>\n",
       "      <th>42</th>\n",
       "      <td>Grand Theft Auto V</td>\n",
       "      <td>PS4</td>\n",
       "      <td>2014-01-01</td>\n",
       "      <td>Action</td>\n",
       "      <td>3.96</td>\n",
       "      <td>6.31</td>\n",
       "      <td>0.38</td>\n",
       "      <td>1.97</td>\n",
       "      <td>97.0</td>\n",
       "      <td>8.3</td>\n",
       "      <td>M</td>\n",
       "      <td>12.62</td>\n",
       "    </tr>\n",
       "    <tr>\n",
       "      <th>47</th>\n",
       "      <td>Pokemon Omega Ruby/Pokemon Alpha Sapphire</td>\n",
       "      <td>3DS</td>\n",
       "      <td>2014-01-01</td>\n",
       "      <td>Role-Playing</td>\n",
       "      <td>4.35</td>\n",
       "      <td>3.49</td>\n",
       "      <td>3.10</td>\n",
       "      <td>0.74</td>\n",
       "      <td>NaN</td>\n",
       "      <td>NaN</td>\n",
       "      <td>0</td>\n",
       "      <td>11.68</td>\n",
       "    </tr>\n",
       "    <tr>\n",
       "      <th>60</th>\n",
       "      <td>Call of Duty: Ghosts</td>\n",
       "      <td>X360</td>\n",
       "      <td>2013-01-01</td>\n",
       "      <td>Shooter</td>\n",
       "      <td>6.73</td>\n",
       "      <td>2.56</td>\n",
       "      <td>0.04</td>\n",
       "      <td>0.91</td>\n",
       "      <td>73.0</td>\n",
       "      <td>2.6</td>\n",
       "      <td>M</td>\n",
       "      <td>10.24</td>\n",
       "    </tr>\n",
       "    <tr>\n",
       "      <th>62</th>\n",
       "      <td>New Super Mario Bros. 2</td>\n",
       "      <td>3DS</td>\n",
       "      <td>2012-01-01</td>\n",
       "      <td>Platform</td>\n",
       "      <td>3.66</td>\n",
       "      <td>3.14</td>\n",
       "      <td>2.47</td>\n",
       "      <td>0.63</td>\n",
       "      <td>78.0</td>\n",
       "      <td>7.2</td>\n",
       "      <td>E</td>\n",
       "      <td>9.90</td>\n",
       "    </tr>\n",
       "  </tbody>\n",
       "</table>\n",
       "</div>"
      ],
      "text/plain": [
       "                                         name platform year_of_release  \\\n",
       "16                         Grand Theft Auto V      PS3      2013-01-01   \n",
       "23                         Grand Theft Auto V     X360      2013-01-01   \n",
       "31                  Call of Duty: Black Ops 3      PS4      2015-01-01   \n",
       "33                        Pokemon X/Pokemon Y      3DS      2013-01-01   \n",
       "34                 Call of Duty: Black Ops II      PS3      2012-01-01   \n",
       "35                 Call of Duty: Black Ops II     X360      2012-01-01   \n",
       "42                         Grand Theft Auto V      PS4      2014-01-01   \n",
       "47  Pokemon Omega Ruby/Pokemon Alpha Sapphire      3DS      2014-01-01   \n",
       "60                       Call of Duty: Ghosts     X360      2013-01-01   \n",
       "62                    New Super Mario Bros. 2      3DS      2012-01-01   \n",
       "\n",
       "           genre  na_sales  eu_sales  jp_sales  other_sales  critic_score  \\\n",
       "16        Action      7.02      9.09      0.98         3.96          97.0   \n",
       "23        Action      9.66      5.14      0.06         1.41          97.0   \n",
       "31       Shooter      6.03      5.86      0.36         2.38           NaN   \n",
       "33  Role-Playing      5.28      4.19      4.35         0.78           NaN   \n",
       "34       Shooter      4.99      5.73      0.65         2.42          83.0   \n",
       "35       Shooter      8.25      4.24      0.07         1.12          83.0   \n",
       "42        Action      3.96      6.31      0.38         1.97          97.0   \n",
       "47  Role-Playing      4.35      3.49      3.10         0.74           NaN   \n",
       "60       Shooter      6.73      2.56      0.04         0.91          73.0   \n",
       "62      Platform      3.66      3.14      2.47         0.63          78.0   \n",
       "\n",
       "    user_score rating  world_sales  \n",
       "16         8.2      M        21.05  \n",
       "23         8.1      M        16.27  \n",
       "31         NaN      0        14.63  \n",
       "33         NaN      0        14.60  \n",
       "34         5.3      M        13.79  \n",
       "35         4.8      M        13.68  \n",
       "42         8.3      M        12.62  \n",
       "47         NaN      0        11.68  \n",
       "60         2.6      M        10.24  \n",
       "62         7.2      E         9.90  "
      ]
     },
     "execution_count": 44,
     "metadata": {},
     "output_type": "execute_result"
    }
   ],
   "source": [
    "actual['rating'] = actual['rating'].fillna(0)\n",
    "actual.head(10)"
   ]
  },
  {
   "cell_type": "code",
   "execution_count": 45,
   "metadata": {},
   "outputs": [
    {
     "data": {
      "text/html": [
       "<div>\n",
       "<style scoped>\n",
       "    .dataframe tbody tr th:only-of-type {\n",
       "        vertical-align: middle;\n",
       "    }\n",
       "\n",
       "    .dataframe tbody tr th {\n",
       "        vertical-align: top;\n",
       "    }\n",
       "\n",
       "    .dataframe thead th {\n",
       "        text-align: right;\n",
       "    }\n",
       "</style>\n",
       "<table border=\"1\" class=\"dataframe\">\n",
       "  <thead>\n",
       "    <tr style=\"text-align: right;\">\n",
       "      <th></th>\n",
       "      <th>na_sales</th>\n",
       "    </tr>\n",
       "    <tr>\n",
       "      <th>rating</th>\n",
       "      <th></th>\n",
       "    </tr>\n",
       "  </thead>\n",
       "  <tbody>\n",
       "    <tr>\n",
       "      <th>M</th>\n",
       "      <td>231.57</td>\n",
       "    </tr>\n",
       "    <tr>\n",
       "      <th>E</th>\n",
       "      <td>114.37</td>\n",
       "    </tr>\n",
       "    <tr>\n",
       "      <th>0</th>\n",
       "      <td>103.31</td>\n",
       "    </tr>\n",
       "    <tr>\n",
       "      <th>E10+</th>\n",
       "      <td>75.70</td>\n",
       "    </tr>\n",
       "    <tr>\n",
       "      <th>T</th>\n",
       "      <td>66.02</td>\n",
       "    </tr>\n",
       "  </tbody>\n",
       "</table>\n",
       "</div>"
      ],
      "text/plain": [
       "        na_sales\n",
       "rating          \n",
       "M         231.57\n",
       "E         114.37\n",
       "0         103.31\n",
       "E10+       75.70\n",
       "T          66.02"
      ]
     },
     "execution_count": 45,
     "metadata": {},
     "output_type": "execute_result"
    }
   ],
   "source": [
    "actual.pivot_table(index='rating', values='na_sales', aggfunc='sum').sort_values(by='na_sales', ascending=False)"
   ]
  },
  {
   "cell_type": "code",
   "execution_count": 46,
   "metadata": {},
   "outputs": [
    {
     "data": {
      "text/html": [
       "<div>\n",
       "<style scoped>\n",
       "    .dataframe tbody tr th:only-of-type {\n",
       "        vertical-align: middle;\n",
       "    }\n",
       "\n",
       "    .dataframe tbody tr th {\n",
       "        vertical-align: top;\n",
       "    }\n",
       "\n",
       "    .dataframe thead th {\n",
       "        text-align: right;\n",
       "    }\n",
       "</style>\n",
       "<table border=\"1\" class=\"dataframe\">\n",
       "  <thead>\n",
       "    <tr style=\"text-align: right;\">\n",
       "      <th></th>\n",
       "      <th>eu_sales</th>\n",
       "    </tr>\n",
       "    <tr>\n",
       "      <th>rating</th>\n",
       "      <th></th>\n",
       "    </tr>\n",
       "  </thead>\n",
       "  <tbody>\n",
       "    <tr>\n",
       "      <th>M</th>\n",
       "      <td>193.96</td>\n",
       "    </tr>\n",
       "    <tr>\n",
       "      <th>E</th>\n",
       "      <td>113.03</td>\n",
       "    </tr>\n",
       "    <tr>\n",
       "      <th>0</th>\n",
       "      <td>91.50</td>\n",
       "    </tr>\n",
       "    <tr>\n",
       "      <th>E10+</th>\n",
       "      <td>55.37</td>\n",
       "    </tr>\n",
       "    <tr>\n",
       "      <th>T</th>\n",
       "      <td>52.96</td>\n",
       "    </tr>\n",
       "  </tbody>\n",
       "</table>\n",
       "</div>"
      ],
      "text/plain": [
       "        eu_sales\n",
       "rating          \n",
       "M         193.96\n",
       "E         113.03\n",
       "0          91.50\n",
       "E10+       55.37\n",
       "T          52.96"
      ]
     },
     "execution_count": 46,
     "metadata": {},
     "output_type": "execute_result"
    }
   ],
   "source": [
    "actual.pivot_table(index='rating', values='eu_sales', aggfunc='sum').sort_values(by='eu_sales', ascending=False)"
   ]
  },
  {
   "cell_type": "code",
   "execution_count": 47,
   "metadata": {},
   "outputs": [
    {
     "data": {
      "text/html": [
       "<div>\n",
       "<style scoped>\n",
       "    .dataframe tbody tr th:only-of-type {\n",
       "        vertical-align: middle;\n",
       "    }\n",
       "\n",
       "    .dataframe tbody tr th {\n",
       "        vertical-align: top;\n",
       "    }\n",
       "\n",
       "    .dataframe thead th {\n",
       "        text-align: right;\n",
       "    }\n",
       "</style>\n",
       "<table border=\"1\" class=\"dataframe\">\n",
       "  <thead>\n",
       "    <tr style=\"text-align: right;\">\n",
       "      <th></th>\n",
       "      <th>jp_sales</th>\n",
       "    </tr>\n",
       "    <tr>\n",
       "      <th>rating</th>\n",
       "      <th></th>\n",
       "    </tr>\n",
       "  </thead>\n",
       "  <tbody>\n",
       "    <tr>\n",
       "      <th>0</th>\n",
       "      <td>108.84</td>\n",
       "    </tr>\n",
       "    <tr>\n",
       "      <th>E</th>\n",
       "      <td>28.33</td>\n",
       "    </tr>\n",
       "    <tr>\n",
       "      <th>T</th>\n",
       "      <td>26.02</td>\n",
       "    </tr>\n",
       "    <tr>\n",
       "      <th>M</th>\n",
       "      <td>21.20</td>\n",
       "    </tr>\n",
       "    <tr>\n",
       "      <th>E10+</th>\n",
       "      <td>8.19</td>\n",
       "    </tr>\n",
       "  </tbody>\n",
       "</table>\n",
       "</div>"
      ],
      "text/plain": [
       "        jp_sales\n",
       "rating          \n",
       "0         108.84\n",
       "E          28.33\n",
       "T          26.02\n",
       "M          21.20\n",
       "E10+        8.19"
      ]
     },
     "execution_count": 47,
     "metadata": {},
     "output_type": "execute_result"
    }
   ],
   "source": [
    "actual.pivot_table(index='rating', values='jp_sales', aggfunc='sum').sort_values(by='jp_sales', ascending=False)"
   ]
  },
  {
   "cell_type": "markdown",
   "metadata": {},
   "source": [
    "**Вывод**\n",
    "\n",
    "Первые четыре позиции в каждом регионе одинаковые - Е (6+), Т(13+), N, М(17+), причем остальные позиции имеют колоссальное отставание. Это позволяет сделать вывод о том, что влияние рейтинга ESRB на продажи действительно прослеживается, однако все же третье место прочно занимают игры без рейтинга, что не позволяет однозначно говорить о влиянии самого рейтинга.\n",
    "\n",
    "Плюс к тому, вечно выбивающаяся и самобытная Япония показывает на своем рынке лидерство игр без рейтинга, так что в этом регионе влияние рейтинга самое минимальное."
   ]
  },
  {
   "cell_type": "code",
   "execution_count": 48,
   "metadata": {},
   "outputs": [
    {
     "name": "stderr",
     "output_type": "stream",
     "text": [
      "/opt/conda/lib/python3.9/site-packages/seaborn/_decorators.py:36: FutureWarning: Pass the following variables as keyword args: x, y. From version 0.12, the only valid positional argument will be `data`, and passing other arguments without an explicit keyword will result in an error or misinterpretation.\n",
      "  warnings.warn(\n"
     ]
    },
    {
     "data": {
      "text/plain": [
       "<AxesSubplot:xlabel='rating', ylabel='jp_sales'>"
      ]
     },
     "execution_count": 48,
     "metadata": {},
     "output_type": "execute_result"
    },
    {
     "data": {
      "image/png": "[encoded data removed]",
      "text/plain": [
       "<Figure size 432x288 with 1 Axes>"
      ]
     },
     "metadata": {
      "needs_background": "light"
     },
     "output_type": "display_data"
    }
   ],
   "source": [
    "import seaborn as sns\n",
    "\n",
    "temp = actual.pivot_table(index='rating', values='jp_sales', aggfunc='sum').sort_values(by='jp_sales', ascending=False)\n",
    "sns.barplot(temp.index, temp['jp_sales'])\n"
   ]
  },
  {
   "cell_type": "markdown",
   "metadata": {},
   "source": [
    "## Проверка гипотез"
   ]
  },
  {
   "cell_type": "markdown",
   "metadata": {},
   "source": [
    "### Средние пользовательские рейтинги платформ Xbox One и PC одинаковые"
   ]
  },
  {
   "cell_type": "markdown",
   "metadata": {},
   "source": [
    "**Сформулируем гипотезы:**\n",
    "\n",
    "* Н0 = Средние пользовательские рейтинги платформ Xbox One == PC;\n",
    "* Н1 = Средние пользовательские рейтинги платформ Xbox One != PC."
   ]
  },
  {
   "cell_type": "code",
   "execution_count": 49,
   "metadata": {},
   "outputs": [
    {
     "name": "stdout",
     "output_type": "stream",
     "text": [
      "Средний пользовательский рейтинг платформы \"Xbox One\" равен: 6.521428571428572\n",
      "Средний пользовательский рейтинг платформы \"РС\" равен: 6.428640776699029\n"
     ]
    }
   ],
   "source": [
    "xone = actual.query('platform == \"XOne\"')['user_score']\n",
    "pc = actual.query('platform == \"PC\"')['user_score']\n",
    "print('Средний пользовательский рейтинг платформы \"Xbox One\" равен:', xone.mean())\n",
    "print('Средний пользовательский рейтинг платформы \"РС\" равен:', pc.mean())"
   ]
  },
  {
   "cell_type": "markdown",
   "metadata": {},
   "source": [
    "Заполним пропуски в данных"
   ]
  },
  {
   "cell_type": "code",
   "execution_count": 50,
   "metadata": {},
   "outputs": [],
   "source": [
    "xone = xone.dropna()"
   ]
  },
  {
   "cell_type": "code",
   "execution_count": 51,
   "metadata": {},
   "outputs": [
    {
     "data": {
      "text/plain": [
       "0"
      ]
     },
     "execution_count": 51,
     "metadata": {},
     "output_type": "execute_result"
    }
   ],
   "source": [
    "xone.isna().sum()"
   ]
  },
  {
   "cell_type": "code",
   "execution_count": 52,
   "metadata": {},
   "outputs": [],
   "source": [
    "pc = pc.dropna()"
   ]
  },
  {
   "cell_type": "code",
   "execution_count": 53,
   "metadata": {},
   "outputs": [
    {
     "data": {
      "text/plain": [
       "0"
      ]
     },
     "execution_count": 53,
     "metadata": {},
     "output_type": "execute_result"
    }
   ],
   "source": [
    "pc.isna().sum()"
   ]
  },
  {
   "cell_type": "markdown",
   "metadata": {},
   "source": [
    "Посчитаем дисперсии:"
   ]
  },
  {
   "cell_type": "code",
   "execution_count": 54,
   "metadata": {},
   "outputs": [
    {
     "name": "stdout",
     "output_type": "stream",
     "text": [
      "Дисперсия по средним пользовательским рейтингам Xbox One: 1.8965188383045526\n",
      "Дисперсия по средним пользовательским рейтингам PC: 2.7569952398906588\n"
     ]
    }
   ],
   "source": [
    "xbox_rating_var = np.var(xone)\n",
    "print('Дисперсия по средним пользовательским рейтингам Xbox One:', xbox_rating_var)\n",
    "pc_rating_var = np.var(pc)\n",
    "print('Дисперсия по средним пользовательским рейтингам PC:', pc_rating_var)"
   ]
  },
  {
   "cell_type": "markdown",
   "metadata": {},
   "source": [
    "Дисперсии по обеим платформам не равны. Скорее всего нам потребуется отвергнуть нулевую гипотезу, но проверим еще раз:"
   ]
  },
  {
   "cell_type": "code",
   "execution_count": 55,
   "metadata": {},
   "outputs": [
    {
     "name": "stdout",
     "output_type": "stream",
     "text": [
      "p-значение: 0.5535080500643661\n",
      "Не получилось отвергнуть нулевую гипотезу\n"
     ]
    }
   ],
   "source": [
    "alpha = 0.05\n",
    "\n",
    "results = st.ttest_ind(xone, pc)\n",
    "\n",
    "print('p-значение:', results.pvalue)\n",
    "\n",
    "if results.pvalue < alpha:\n",
    "    print(\"Отвергаем нулевую гипотезу\")\n",
    "else:\n",
    "    print(\"Не получилось отвергнуть нулевую гипотезу\")"
   ]
  },
  {
   "cell_type": "markdown",
   "metadata": {},
   "source": [
    "В данном случае значение p-value близко к нулю и представляет собой экспоненциальную запись числа, а потому мы отвергаем нулевую гипотезу о равенстве средних пользовательских рейтингов платформ Xbox One и PC."
   ]
  },
  {
   "cell_type": "markdown",
   "metadata": {},
   "source": [
    "### Средние пользовательские рейтинги жанров Action (англ. «действие», экшен-игры) и Sports (англ. «спортивные соревнования») разные"
   ]
  },
  {
   "cell_type": "markdown",
   "metadata": {},
   "source": [
    "**Сформулируем гипотезы:**\n",
    "\n",
    "* Н0 - средние пользовательские рейтинги жанров Action == Sports;\n",
    "* Н1 - средние пользовательские рейтинги жанров Action != Sports."
   ]
  },
  {
   "cell_type": "code",
   "execution_count": 56,
   "metadata": {},
   "outputs": [],
   "source": [
    "action = actual.query('genre == \"Action\"')['user_score']\n",
    "sports = actual.query('genre == \"Sports\"')['user_score']"
   ]
  },
  {
   "cell_type": "markdown",
   "metadata": {},
   "source": [
    "Заполним пропуски в данных"
   ]
  },
  {
   "cell_type": "code",
   "execution_count": 57,
   "metadata": {},
   "outputs": [],
   "source": [
    "action = action.dropna()\n",
    "sports = sports.dropna()"
   ]
  },
  {
   "cell_type": "markdown",
   "metadata": {},
   "source": [
    "Подсчитаем дисперсии"
   ]
  },
  {
   "cell_type": "code",
   "execution_count": 58,
   "metadata": {},
   "outputs": [
    {
     "name": "stdout",
     "output_type": "stream",
     "text": [
      "Дисперсия по средним пользовательским рейтингам Action: 1.8854720340439224\n",
      "Дисперсия по средним пользовательским рейтингам Sports: 3.0073882971729127\n"
     ]
    }
   ],
   "source": [
    "action_var = np.var(action)\n",
    "print('Дисперсия по средним пользовательским рейтингам Action:', action_var)\n",
    "sports_var = np.var(sports)\n",
    "print('Дисперсия по средним пользовательским рейтингам Sports:', sports_var)"
   ]
  },
  {
   "cell_type": "markdown",
   "metadata": {},
   "source": [
    "Дисперсии не равны"
   ]
  },
  {
   "cell_type": "code",
   "execution_count": 59,
   "metadata": {},
   "outputs": [
    {
     "name": "stdout",
     "output_type": "stream",
     "text": [
      "p-значение: 3.7163089460934874e-26\n",
      "Отвергаем нулевую гипотезу\n"
     ]
    }
   ],
   "source": [
    "alpha = 0.05\n",
    "results2 = st.ttest_ind(action, sports)\n",
    "    \n",
    "print('p-значение:', results2.pvalue)\n",
    "if results2.pvalue < alpha:\n",
    "    print(\"Отвергаем нулевую гипотезу\")\n",
    "else:\n",
    "    print(\"Не получилось отвергнуть нулевую гипотезу\")"
   ]
  },
  {
   "cell_type": "markdown",
   "metadata": {},
   "source": [
    "Результаты наших вычислений показали, что нулевую гипотезу о равенстве средних пользовательских оценок жанров Action и Sports мы отвергаем. А потому главная гипотеза, заявленная в заголовке, которая гласит, что эти средние оценки разные, нами принимается."
   ]
  },
  {
   "cell_type": "markdown",
   "metadata": {},
   "source": [
    "## Общий вывод"
   ]
  },
  {
   "cell_type": "markdown",
   "metadata": {},
   "source": [
    "* Сводная таблица показывает постепенный рост выпуска компьютерных игр до 2012 года, когда произошел значительный спад, почти в два раза;\n",
    "\n",
    "* Характерный срок появления новых и исчезновения старых платформ составляет в среднем 11 лет. За это время платформа набирает популярность, достигает своего пика и постепенно сходит на нет. Исключение составляет только платформа DS, которая была почти невостребована в течении 20 лет,а затем также пережила свои пик и падение; \n",
    "\n",
    "* Представляется, что важны данные за преиод с 2012 года, поскольку он является как бы водоразделом после падения выпуска;\n",
    "\n",
    "* Изучая график распределения можно сделать вывод о том, что на момент 2016 года наиболее потенциально прибыльной является платформа PS4, однако продажи игр на ней также падают. Также к условно прибыльным можно отнести и XOne, однако и ее популярность стремится к нулю. Тенденция снижения наблюдается по всем платформам, представленным в период с 2012 по 2016 годы;\n",
    "\n",
    "* За актуальный период продажи двух потенциально прибыльных платформ более менее равны;\n",
    "\n",
    "* Вычисления подтвердили, что корреляция между отзывами критиков и продажами более значительна, чем между отзывами пользователей и продажами. \"Профессионалам\" люди доверяют больше, хотя вопрос об их \"профессионализме\" остается открытым;\n",
    "\n",
    "* Самым прибыльным жанром является экшен-игры, шутеры, на третьем месте спортивные игры;\n",
    "\n",
    "* В Северной Америке и Европе первая тройка неизменна - экшен-игры, спортивные симуляторы и шутеры. А вот в Японии предпочитают ролевые игры, которые по популярности значительно превосходят все остальные жанры;\n",
    "\n",
    "* Первые четыре позиции в каждом регионе одинаковые - Е (6+), Т(13+), М(17+), Е10+, причем остальные позиции имеют колоссальное отставание. Это позволяет сделать вывод о том, что влияние рейтинга ESRB на продажи действительно прослеживается, и оно значительно;\n",
    "\n",
    "* Гипотеза о равенстве средних пользовательских рейтингов платформ Xbox One и PC **неверна**;\n",
    "\n",
    "* Гипотеза о неравенстве средних пользовательских рейтингов жанров Action (англ. «действие», экшен-игры) и Sports (англ. «спортивные соревнования») **верна**."
   ]
  }
 ],
 "metadata": {
  "ExecuteTimeLog": [
   {
    "duration": 1154,
    "start_time": "2022-02-19T08:11:41.792Z"
   },
   {
    "duration": 46,
    "start_time": "2022-02-19T08:11:48.677Z"
   },
   {
    "duration": 18,
    "start_time": "2022-02-19T09:14:28.637Z"
   },
   {
    "duration": 12,
    "start_time": "2022-02-19T11:08:22.607Z"
   },
   {
    "duration": 269,
    "start_time": "2022-02-19T11:16:20.554Z"
   },
   {
    "duration": 145,
    "start_time": "2022-02-19T11:17:39.839Z"
   },
   {
    "duration": 1775,
    "start_time": "2022-02-19T11:18:07.980Z"
   },
   {
    "duration": 1861,
    "start_time": "2022-02-19T11:18:35.536Z"
   },
   {
    "duration": 1798,
    "start_time": "2022-02-19T11:18:58.577Z"
   },
   {
    "duration": 1140,
    "start_time": "2022-02-19T11:19:16.838Z"
   },
   {
    "duration": 17,
    "start_time": "2022-02-19T11:19:17.980Z"
   },
   {
    "duration": 10,
    "start_time": "2022-02-19T11:19:17.999Z"
   },
   {
    "duration": 3,
    "start_time": "2022-02-19T11:19:18.011Z"
   },
   {
    "duration": 2018,
    "start_time": "2022-02-19T11:19:30.432Z"
   },
   {
    "duration": 1167,
    "start_time": "2022-02-19T11:20:14.304Z"
   },
   {
    "duration": 16,
    "start_time": "2022-02-19T11:20:15.473Z"
   },
   {
    "duration": 10,
    "start_time": "2022-02-19T11:20:15.491Z"
   },
   {
    "duration": 231,
    "start_time": "2022-02-19T11:20:15.502Z"
   },
   {
    "duration": 1794,
    "start_time": "2022-02-19T11:20:33.431Z"
   },
   {
    "duration": 1202,
    "start_time": "2022-02-19T11:58:27.121Z"
   },
   {
    "duration": 19,
    "start_time": "2022-02-19T11:58:28.326Z"
   },
   {
    "duration": 15,
    "start_time": "2022-02-19T11:58:28.348Z"
   },
   {
    "duration": 10,
    "start_time": "2022-02-19T11:58:28.365Z"
   },
   {
    "duration": 1178,
    "start_time": "2022-02-20T15:09:23.516Z"
   },
   {
    "duration": 17,
    "start_time": "2022-02-20T15:09:24.696Z"
   },
   {
    "duration": 11,
    "start_time": "2022-02-20T15:09:24.715Z"
   },
   {
    "duration": 10,
    "start_time": "2022-02-20T15:09:24.728Z"
   },
   {
    "duration": 10,
    "start_time": "2022-02-20T15:09:47.748Z"
   },
   {
    "duration": 48,
    "start_time": "2022-02-20T15:11:36.541Z"
   },
   {
    "duration": 7143,
    "start_time": "2022-02-20T15:12:03.064Z"
   },
   {
    "duration": 1214,
    "start_time": "2022-02-20T15:12:19.820Z"
   },
   {
    "duration": 16,
    "start_time": "2022-02-20T15:12:21.036Z"
   },
   {
    "duration": 9,
    "start_time": "2022-02-20T15:12:21.053Z"
   },
   {
    "duration": 9,
    "start_time": "2022-02-20T15:12:21.064Z"
   },
   {
    "duration": 50,
    "start_time": "2022-02-20T15:15:20.028Z"
   },
   {
    "duration": 48,
    "start_time": "2022-02-20T15:15:27.185Z"
   },
   {
    "duration": 6732,
    "start_time": "2022-02-20T15:23:39.730Z"
   },
   {
    "duration": 6815,
    "start_time": "2022-02-20T15:24:32.565Z"
   },
   {
    "duration": 1725,
    "start_time": "2022-02-20T15:24:53.540Z"
   },
   {
    "duration": 17,
    "start_time": "2022-02-20T15:24:55.268Z"
   },
   {
    "duration": 9,
    "start_time": "2022-02-20T15:24:55.288Z"
   },
   {
    "duration": 371,
    "start_time": "2022-02-20T15:24:55.298Z"
   },
   {
    "duration": -699,
    "start_time": "2022-02-20T15:24:56.370Z"
   },
   {
    "duration": 273,
    "start_time": "2022-02-20T15:25:12.713Z"
   },
   {
    "duration": 14,
    "start_time": "2022-02-20T15:25:55.054Z"
   },
   {
    "duration": 10,
    "start_time": "2022-02-20T15:26:01.110Z"
   },
   {
    "duration": 7,
    "start_time": "2022-02-20T15:26:20.534Z"
   },
   {
    "duration": 11,
    "start_time": "2022-02-20T15:26:47.913Z"
   },
   {
    "duration": 1147,
    "start_time": "2022-02-20T15:34:38.030Z"
   },
   {
    "duration": 5,
    "start_time": "2022-02-20T15:43:19.685Z"
   },
   {
    "duration": 5,
    "start_time": "2022-02-20T15:43:32.869Z"
   },
   {
    "duration": 5,
    "start_time": "2022-02-20T15:43:56.622Z"
   },
   {
    "duration": 1018,
    "start_time": "2022-02-20T15:45:17.319Z"
   },
   {
    "duration": 5,
    "start_time": "2022-02-20T15:46:17.262Z"
   },
   {
    "duration": 18,
    "start_time": "2022-02-20T15:48:52.072Z"
   },
   {
    "duration": 1145,
    "start_time": "2022-02-20T16:03:25.716Z"
   },
   {
    "duration": 15,
    "start_time": "2022-02-20T16:03:26.863Z"
   },
   {
    "duration": 9,
    "start_time": "2022-02-20T16:03:26.880Z"
   },
   {
    "duration": 10,
    "start_time": "2022-02-20T16:03:26.890Z"
   },
   {
    "duration": 10,
    "start_time": "2022-02-20T16:03:26.901Z"
   },
   {
    "duration": 14,
    "start_time": "2022-02-20T16:03:26.932Z"
   },
   {
    "duration": 4,
    "start_time": "2022-02-20T16:03:26.948Z"
   },
   {
    "duration": 26,
    "start_time": "2022-02-20T16:08:09.218Z"
   },
   {
    "duration": 10,
    "start_time": "2022-02-20T16:08:42.685Z"
   },
   {
    "duration": 13,
    "start_time": "2022-02-20T16:08:51.751Z"
   },
   {
    "duration": 27404,
    "start_time": "2022-02-20T16:20:00.285Z"
   },
   {
    "duration": 270,
    "start_time": "2022-02-20T16:21:51.180Z"
   },
   {
    "duration": 6658,
    "start_time": "2022-02-20T16:22:00.214Z"
   },
   {
    "duration": 1114,
    "start_time": "2022-02-20T16:22:15.656Z"
   },
   {
    "duration": 16,
    "start_time": "2022-02-20T16:22:16.771Z"
   },
   {
    "duration": 10,
    "start_time": "2022-02-20T16:22:16.789Z"
   },
   {
    "duration": 35,
    "start_time": "2022-02-20T16:22:16.801Z"
   },
   {
    "duration": 9,
    "start_time": "2022-02-20T16:22:16.838Z"
   },
   {
    "duration": 15,
    "start_time": "2022-02-20T16:22:16.849Z"
   },
   {
    "duration": 14,
    "start_time": "2022-02-20T16:22:16.866Z"
   },
   {
    "duration": 6892,
    "start_time": "2022-02-20T16:22:16.882Z"
   },
   {
    "duration": 7,
    "start_time": "2022-02-20T16:22:44.182Z"
   },
   {
    "duration": 360,
    "start_time": "2022-02-20T16:23:01.625Z"
   },
   {
    "duration": 254,
    "start_time": "2022-02-20T16:23:09.211Z"
   },
   {
    "duration": 6,
    "start_time": "2022-02-20T16:23:14.443Z"
   },
   {
    "duration": 1211,
    "start_time": "2022-02-21T04:52:40.906Z"
   },
   {
    "duration": 17,
    "start_time": "2022-02-21T04:52:42.119Z"
   },
   {
    "duration": 9,
    "start_time": "2022-02-21T04:52:42.138Z"
   },
   {
    "duration": 10,
    "start_time": "2022-02-21T04:52:42.149Z"
   },
   {
    "duration": 10,
    "start_time": "2022-02-21T04:52:42.161Z"
   },
   {
    "duration": 20,
    "start_time": "2022-02-21T04:52:42.173Z"
   },
   {
    "duration": 34,
    "start_time": "2022-02-21T04:52:42.195Z"
   },
   {
    "duration": 343,
    "start_time": "2022-02-21T04:59:28.144Z"
   },
   {
    "duration": 1190,
    "start_time": "2022-02-21T04:59:32.822Z"
   },
   {
    "duration": 16,
    "start_time": "2022-02-21T04:59:34.014Z"
   },
   {
    "duration": 9,
    "start_time": "2022-02-21T04:59:34.032Z"
   },
   {
    "duration": 9,
    "start_time": "2022-02-21T04:59:34.043Z"
   },
   {
    "duration": 10,
    "start_time": "2022-02-21T04:59:34.054Z"
   },
   {
    "duration": 17,
    "start_time": "2022-02-21T04:59:34.065Z"
   },
   {
    "duration": 43,
    "start_time": "2022-02-21T04:59:34.084Z"
   },
   {
    "duration": 311,
    "start_time": "2022-02-21T04:59:34.129Z"
   },
   {
    "duration": 10,
    "start_time": "2022-02-21T04:59:46.110Z"
   },
   {
    "duration": 81,
    "start_time": "2022-02-21T05:09:35.772Z"
   },
   {
    "duration": 40,
    "start_time": "2022-02-21T05:09:46.147Z"
   },
   {
    "duration": 39,
    "start_time": "2022-02-21T05:10:41.520Z"
   },
   {
    "duration": 1402,
    "start_time": "2022-02-21T15:37:17.539Z"
   },
   {
    "duration": 24,
    "start_time": "2022-02-21T15:37:18.944Z"
   },
   {
    "duration": 12,
    "start_time": "2022-02-21T15:37:18.970Z"
   },
   {
    "duration": 17,
    "start_time": "2022-02-21T15:37:18.984Z"
   },
   {
    "duration": 30,
    "start_time": "2022-02-21T15:37:19.004Z"
   },
   {
    "duration": 33,
    "start_time": "2022-02-21T15:37:19.036Z"
   },
   {
    "duration": 17,
    "start_time": "2022-02-21T15:37:19.071Z"
   },
   {
    "duration": 11,
    "start_time": "2022-02-21T15:37:19.090Z"
   },
   {
    "duration": 8048,
    "start_time": "2022-02-21T15:37:19.103Z"
   },
   {
    "duration": -157,
    "start_time": "2022-02-21T15:37:27.311Z"
   },
   {
    "duration": 6,
    "start_time": "2022-02-21T15:45:04.364Z"
   },
   {
    "duration": 19,
    "start_time": "2022-02-21T15:49:15.133Z"
   },
   {
    "duration": 18,
    "start_time": "2022-02-21T15:50:41.548Z"
   },
   {
    "duration": 230,
    "start_time": "2022-02-21T15:51:25.069Z"
   },
   {
    "duration": 9,
    "start_time": "2022-02-21T15:51:31.979Z"
   },
   {
    "duration": 239,
    "start_time": "2022-02-21T15:51:40.208Z"
   },
   {
    "duration": 12,
    "start_time": "2022-02-21T15:52:54.719Z"
   },
   {
    "duration": 13,
    "start_time": "2022-02-21T15:53:21.348Z"
   },
   {
    "duration": 18,
    "start_time": "2022-02-21T15:55:36.664Z"
   },
   {
    "duration": 279,
    "start_time": "2022-02-21T16:21:05.919Z"
   },
   {
    "duration": 1653,
    "start_time": "2022-02-21T16:30:59.955Z"
   },
   {
    "duration": 1592,
    "start_time": "2022-02-21T16:31:07.347Z"
   },
   {
    "duration": 238,
    "start_time": "2022-02-21T16:31:38.165Z"
   },
   {
    "duration": 12,
    "start_time": "2022-02-21T16:39:17.162Z"
   },
   {
    "duration": 16,
    "start_time": "2022-02-21T16:39:29.576Z"
   },
   {
    "duration": 17,
    "start_time": "2022-02-21T16:41:27.152Z"
   },
   {
    "duration": 15,
    "start_time": "2022-02-21T16:43:16.485Z"
   },
   {
    "duration": 15,
    "start_time": "2022-02-21T16:46:06.676Z"
   },
   {
    "duration": 3174,
    "start_time": "2022-02-21T16:46:22.390Z"
   },
   {
    "duration": 15,
    "start_time": "2022-02-21T16:46:30.668Z"
   },
   {
    "duration": 6,
    "start_time": "2022-02-21T16:48:42.088Z"
   },
   {
    "duration": 5,
    "start_time": "2022-02-21T16:52:39.479Z"
   },
   {
    "duration": 210,
    "start_time": "2022-02-21T16:52:45.740Z"
   },
   {
    "duration": 211,
    "start_time": "2022-02-21T16:53:09.555Z"
   },
   {
    "duration": 397,
    "start_time": "2022-02-21T16:57:47.527Z"
   },
   {
    "duration": 202,
    "start_time": "2022-02-21T17:05:48.906Z"
   },
   {
    "duration": 499,
    "start_time": "2022-02-21T17:06:07.641Z"
   },
   {
    "duration": 240,
    "start_time": "2022-02-21T17:06:13.517Z"
   },
   {
    "duration": 212,
    "start_time": "2022-02-21T17:06:25.768Z"
   },
   {
    "duration": 230,
    "start_time": "2022-02-21T17:06:39.260Z"
   },
   {
    "duration": 271,
    "start_time": "2022-02-21T17:07:33.086Z"
   },
   {
    "duration": 262,
    "start_time": "2022-02-21T17:07:42.210Z"
   },
   {
    "duration": 1193,
    "start_time": "2022-02-22T10:05:11.428Z"
   },
   {
    "duration": 16,
    "start_time": "2022-02-22T10:05:12.623Z"
   },
   {
    "duration": 10,
    "start_time": "2022-02-22T10:05:12.641Z"
   },
   {
    "duration": 9,
    "start_time": "2022-02-22T10:05:12.653Z"
   },
   {
    "duration": 13,
    "start_time": "2022-02-22T10:05:12.663Z"
   },
   {
    "duration": 45,
    "start_time": "2022-02-22T10:05:12.678Z"
   },
   {
    "duration": 16,
    "start_time": "2022-02-22T10:05:12.725Z"
   },
   {
    "duration": 13,
    "start_time": "2022-02-22T10:05:12.744Z"
   },
   {
    "duration": 7,
    "start_time": "2022-02-22T10:05:12.760Z"
   },
   {
    "duration": 52,
    "start_time": "2022-02-22T10:05:12.769Z"
   },
   {
    "duration": 20,
    "start_time": "2022-02-22T10:05:12.823Z"
   },
   {
    "duration": 6,
    "start_time": "2022-02-22T10:05:12.845Z"
   },
   {
    "duration": 365,
    "start_time": "2022-02-22T10:05:12.853Z"
   },
   {
    "duration": 306,
    "start_time": "2022-02-22T10:07:03.712Z"
   },
   {
    "duration": 264,
    "start_time": "2022-02-22T10:07:55.120Z"
   },
   {
    "duration": 245,
    "start_time": "2022-02-22T10:08:06.476Z"
   },
   {
    "duration": 67,
    "start_time": "2022-02-22T10:13:19.933Z"
   },
   {
    "duration": 1568,
    "start_time": "2022-02-22T15:08:36.028Z"
   },
   {
    "duration": 31,
    "start_time": "2022-02-22T15:08:37.599Z"
   },
   {
    "duration": 14,
    "start_time": "2022-02-22T15:08:37.632Z"
   },
   {
    "duration": 17,
    "start_time": "2022-02-22T15:08:37.649Z"
   },
   {
    "duration": 15,
    "start_time": "2022-02-22T15:08:37.669Z"
   },
   {
    "duration": 58,
    "start_time": "2022-02-22T15:08:37.686Z"
   },
   {
    "duration": 22,
    "start_time": "2022-02-22T15:08:37.747Z"
   },
   {
    "duration": 13,
    "start_time": "2022-02-22T15:08:37.773Z"
   },
   {
    "duration": 42,
    "start_time": "2022-02-22T15:08:37.790Z"
   },
   {
    "duration": 25,
    "start_time": "2022-02-22T15:08:37.835Z"
   },
   {
    "duration": 19,
    "start_time": "2022-02-22T15:08:37.863Z"
   },
   {
    "duration": 44,
    "start_time": "2022-02-22T15:08:37.884Z"
   },
   {
    "duration": 386,
    "start_time": "2022-02-22T15:08:37.930Z"
   },
   {
    "duration": 423,
    "start_time": "2022-02-22T15:08:38.318Z"
   },
   {
    "duration": 104,
    "start_time": "2022-02-22T15:08:38.743Z"
   },
   {
    "duration": 387,
    "start_time": "2022-02-22T15:09:01.635Z"
   },
   {
    "duration": 453,
    "start_time": "2022-02-22T15:09:25.516Z"
   },
   {
    "duration": 309,
    "start_time": "2022-02-22T15:09:44.085Z"
   },
   {
    "duration": 384,
    "start_time": "2022-02-22T15:09:54.720Z"
   },
   {
    "duration": 391,
    "start_time": "2022-02-22T15:28:28.768Z"
   },
   {
    "duration": 292,
    "start_time": "2022-02-22T15:28:42.009Z"
   },
   {
    "duration": 284,
    "start_time": "2022-02-22T15:29:00.269Z"
   },
   {
    "duration": 538,
    "start_time": "2022-02-22T15:35:09.226Z"
   },
   {
    "duration": 451,
    "start_time": "2022-02-22T15:36:06.790Z"
   },
   {
    "duration": 458,
    "start_time": "2022-02-22T15:36:33.781Z"
   },
   {
    "duration": 1114,
    "start_time": "2022-02-23T15:13:10.703Z"
   },
   {
    "duration": 15,
    "start_time": "2022-02-23T15:13:11.818Z"
   },
   {
    "duration": 9,
    "start_time": "2022-02-23T15:13:11.835Z"
   },
   {
    "duration": 9,
    "start_time": "2022-02-23T15:13:11.846Z"
   },
   {
    "duration": 8,
    "start_time": "2022-02-23T15:13:11.857Z"
   },
   {
    "duration": 14,
    "start_time": "2022-02-23T15:13:11.866Z"
   },
   {
    "duration": 13,
    "start_time": "2022-02-23T15:13:11.882Z"
   },
   {
    "duration": 40,
    "start_time": "2022-02-23T15:13:11.897Z"
   },
   {
    "duration": 5,
    "start_time": "2022-02-23T15:13:11.939Z"
   },
   {
    "duration": 18,
    "start_time": "2022-02-23T15:13:11.946Z"
   },
   {
    "duration": 13,
    "start_time": "2022-02-23T15:13:11.965Z"
   },
   {
    "duration": 4,
    "start_time": "2022-02-23T15:13:11.980Z"
   },
   {
    "duration": 222,
    "start_time": "2022-02-23T15:13:11.985Z"
   },
   {
    "duration": 216,
    "start_time": "2022-02-23T15:13:12.208Z"
   },
   {
    "duration": 242,
    "start_time": "2022-02-23T15:13:12.425Z"
   },
   {
    "duration": 159,
    "start_time": "2022-02-23T15:13:12.669Z"
   },
   {
    "duration": 84,
    "start_time": "2022-02-23T15:23:27.117Z"
   },
   {
    "duration": 645,
    "start_time": "2022-02-23T15:23:36.447Z"
   },
   {
    "duration": 291,
    "start_time": "2022-02-23T15:24:00.514Z"
   },
   {
    "duration": 289,
    "start_time": "2022-02-23T15:25:34.701Z"
   },
   {
    "duration": 402,
    "start_time": "2022-02-23T15:25:47.369Z"
   },
   {
    "duration": 1870,
    "start_time": "2022-02-23T15:42:37.088Z"
   },
   {
    "duration": 1837,
    "start_time": "2022-02-23T15:43:35.786Z"
   },
   {
    "duration": 1057,
    "start_time": "2022-02-23T15:44:02.389Z"
   },
   {
    "duration": 14,
    "start_time": "2022-02-23T15:44:03.448Z"
   },
   {
    "duration": 9,
    "start_time": "2022-02-23T15:44:03.464Z"
   },
   {
    "duration": 11,
    "start_time": "2022-02-23T15:44:03.476Z"
   },
   {
    "duration": 2,
    "start_time": "2022-02-23T15:44:03.488Z"
   },
   {
    "duration": 10,
    "start_time": "2022-02-23T15:44:03.492Z"
   },
   {
    "duration": 2,
    "start_time": "2022-02-23T15:44:03.504Z"
   },
   {
    "duration": 16,
    "start_time": "2022-02-23T15:44:03.532Z"
   },
   {
    "duration": 15,
    "start_time": "2022-02-23T15:44:03.550Z"
   },
   {
    "duration": 9,
    "start_time": "2022-02-23T15:44:03.567Z"
   },
   {
    "duration": 5,
    "start_time": "2022-02-23T15:44:03.577Z"
   },
   {
    "duration": 49,
    "start_time": "2022-02-23T15:44:03.583Z"
   },
   {
    "duration": 16,
    "start_time": "2022-02-23T15:44:03.633Z"
   },
   {
    "duration": 5,
    "start_time": "2022-02-23T15:44:03.651Z"
   },
   {
    "duration": 227,
    "start_time": "2022-02-23T15:44:03.658Z"
   },
   {
    "duration": 213,
    "start_time": "2022-02-23T15:44:03.886Z"
   },
   {
    "duration": 247,
    "start_time": "2022-02-23T15:44:04.100Z"
   },
   {
    "duration": 151,
    "start_time": "2022-02-23T15:44:04.348Z"
   },
   {
    "duration": 236,
    "start_time": "2022-02-23T15:44:04.501Z"
   },
   {
    "duration": 354,
    "start_time": "2022-02-23T15:44:04.738Z"
   },
   {
    "duration": 1125,
    "start_time": "2022-02-23T15:44:37.793Z"
   },
   {
    "duration": 16,
    "start_time": "2022-02-23T15:44:38.920Z"
   },
   {
    "duration": 10,
    "start_time": "2022-02-23T15:44:38.938Z"
   },
   {
    "duration": 11,
    "start_time": "2022-02-23T15:44:38.949Z"
   },
   {
    "duration": 1,
    "start_time": "2022-02-23T15:44:38.962Z"
   },
   {
    "duration": 4,
    "start_time": "2022-02-23T15:44:38.965Z"
   },
   {
    "duration": 4,
    "start_time": "2022-02-23T15:44:38.970Z"
   },
   {
    "duration": 16,
    "start_time": "2022-02-23T15:44:38.976Z"
   },
   {
    "duration": 43,
    "start_time": "2022-02-23T15:44:38.994Z"
   },
   {
    "duration": 10,
    "start_time": "2022-02-23T15:44:39.038Z"
   },
   {
    "duration": 8,
    "start_time": "2022-02-23T15:44:39.049Z"
   },
   {
    "duration": 15,
    "start_time": "2022-02-23T15:44:39.059Z"
   },
   {
    "duration": 13,
    "start_time": "2022-02-23T15:44:39.076Z"
   },
   {
    "duration": 4,
    "start_time": "2022-02-23T15:44:39.090Z"
   },
   {
    "duration": 236,
    "start_time": "2022-02-23T15:44:39.095Z"
   },
   {
    "duration": 203,
    "start_time": "2022-02-23T15:44:39.333Z"
   },
   {
    "duration": 277,
    "start_time": "2022-02-23T15:44:39.538Z"
   },
   {
    "duration": 131,
    "start_time": "2022-02-23T15:44:39.817Z"
   },
   {
    "duration": 251,
    "start_time": "2022-02-23T15:44:39.949Z"
   },
   {
    "duration": 452,
    "start_time": "2022-02-23T15:44:40.202Z"
   },
   {
    "duration": 15,
    "start_time": "2022-02-23T15:46:19.644Z"
   },
   {
    "duration": 1250,
    "start_time": "2022-02-23T15:46:25.387Z"
   },
   {
    "duration": 22,
    "start_time": "2022-02-23T15:46:26.638Z"
   },
   {
    "duration": 12,
    "start_time": "2022-02-23T15:46:26.662Z"
   },
   {
    "duration": 54,
    "start_time": "2022-02-23T15:46:26.676Z"
   },
   {
    "duration": 3,
    "start_time": "2022-02-23T15:46:26.732Z"
   },
   {
    "duration": 8,
    "start_time": "2022-02-23T15:46:26.736Z"
   },
   {
    "duration": 9,
    "start_time": "2022-02-23T15:46:26.745Z"
   },
   {
    "duration": 20,
    "start_time": "2022-02-23T15:46:26.757Z"
   },
   {
    "duration": 16,
    "start_time": "2022-02-23T15:46:26.778Z"
   },
   {
    "duration": 9,
    "start_time": "2022-02-23T15:46:26.796Z"
   },
   {
    "duration": 26,
    "start_time": "2022-02-23T15:46:26.806Z"
   },
   {
    "duration": 14,
    "start_time": "2022-02-23T15:46:26.834Z"
   },
   {
    "duration": 16,
    "start_time": "2022-02-23T15:46:26.850Z"
   },
   {
    "duration": 4,
    "start_time": "2022-02-23T15:46:26.868Z"
   },
   {
    "duration": 249,
    "start_time": "2022-02-23T15:46:26.874Z"
   },
   {
    "duration": 216,
    "start_time": "2022-02-23T15:46:27.124Z"
   },
   {
    "duration": 262,
    "start_time": "2022-02-23T15:46:27.342Z"
   },
   {
    "duration": 165,
    "start_time": "2022-02-23T15:46:27.605Z"
   },
   {
    "duration": 247,
    "start_time": "2022-02-23T15:46:27.772Z"
   },
   {
    "duration": 374,
    "start_time": "2022-02-23T15:46:28.021Z"
   },
   {
    "duration": 16,
    "start_time": "2022-02-23T15:47:12.613Z"
   },
   {
    "duration": 17,
    "start_time": "2022-02-23T15:47:21.968Z"
   },
   {
    "duration": 1171,
    "start_time": "2022-02-23T15:47:38.023Z"
   },
   {
    "duration": 16,
    "start_time": "2022-02-23T15:47:39.195Z"
   },
   {
    "duration": 9,
    "start_time": "2022-02-23T15:47:39.213Z"
   },
   {
    "duration": 18,
    "start_time": "2022-02-23T15:47:39.223Z"
   },
   {
    "duration": 2,
    "start_time": "2022-02-23T15:47:39.242Z"
   },
   {
    "duration": 5,
    "start_time": "2022-02-23T15:47:39.246Z"
   },
   {
    "duration": 4,
    "start_time": "2022-02-23T15:47:39.252Z"
   },
   {
    "duration": 17,
    "start_time": "2022-02-23T15:47:39.258Z"
   },
   {
    "duration": 16,
    "start_time": "2022-02-23T15:47:39.277Z"
   },
   {
    "duration": 9,
    "start_time": "2022-02-23T15:47:39.294Z"
   },
   {
    "duration": 4,
    "start_time": "2022-02-23T15:47:39.332Z"
   },
   {
    "duration": 19,
    "start_time": "2022-02-23T15:47:39.338Z"
   },
   {
    "duration": 14,
    "start_time": "2022-02-23T15:47:39.358Z"
   },
   {
    "duration": 4,
    "start_time": "2022-02-23T15:47:39.373Z"
   },
   {
    "duration": 320,
    "start_time": "2022-02-23T15:47:39.379Z"
   },
   {
    "duration": 281,
    "start_time": "2022-02-23T15:47:39.701Z"
   },
   {
    "duration": 362,
    "start_time": "2022-02-23T15:47:39.984Z"
   },
   {
    "duration": 129,
    "start_time": "2022-02-23T15:47:40.348Z"
   },
   {
    "duration": 261,
    "start_time": "2022-02-23T15:47:40.478Z"
   },
   {
    "duration": 446,
    "start_time": "2022-02-23T15:47:40.741Z"
   },
   {
    "duration": 259,
    "start_time": "2022-02-23T15:51:44.493Z"
   },
   {
    "duration": 227,
    "start_time": "2022-02-23T15:51:57.728Z"
   },
   {
    "duration": 214,
    "start_time": "2022-02-23T15:52:08.509Z"
   },
   {
    "duration": 175,
    "start_time": "2022-02-23T15:52:37.473Z"
   },
   {
    "duration": 182,
    "start_time": "2022-02-23T15:53:51.482Z"
   },
   {
    "duration": 192,
    "start_time": "2022-02-23T15:54:10.312Z"
   },
   {
    "duration": 196,
    "start_time": "2022-02-23T15:58:53.223Z"
   },
   {
    "duration": 186,
    "start_time": "2022-02-23T16:00:27.052Z"
   },
   {
    "duration": 191,
    "start_time": "2022-02-23T16:01:09.586Z"
   },
   {
    "duration": 190,
    "start_time": "2022-02-23T16:01:37.876Z"
   },
   {
    "duration": 349,
    "start_time": "2022-02-23T16:03:04.068Z"
   },
   {
    "duration": 504,
    "start_time": "2022-02-23T16:03:13.951Z"
   },
   {
    "duration": 184,
    "start_time": "2022-02-23T16:03:31.766Z"
   },
   {
    "duration": 401,
    "start_time": "2022-02-23T16:09:29.787Z"
   },
   {
    "duration": 235,
    "start_time": "2022-02-23T16:10:07.496Z"
   },
   {
    "duration": 94,
    "start_time": "2022-02-23T16:11:47.129Z"
   },
   {
    "duration": 81,
    "start_time": "2022-02-23T16:11:56.030Z"
   },
   {
    "duration": 199,
    "start_time": "2022-02-23T16:12:05.254Z"
   },
   {
    "duration": 209,
    "start_time": "2022-02-23T16:12:21.923Z"
   },
   {
    "duration": 256,
    "start_time": "2022-02-23T16:13:03.062Z"
   },
   {
    "duration": 263,
    "start_time": "2022-02-23T16:13:17.438Z"
   },
   {
    "duration": 262,
    "start_time": "2022-02-23T16:18:57.083Z"
   },
   {
    "duration": 232,
    "start_time": "2022-02-23T16:19:13.249Z"
   },
   {
    "duration": 246,
    "start_time": "2022-02-23T16:19:31.310Z"
   },
   {
    "duration": 258,
    "start_time": "2022-02-23T16:19:48.093Z"
   },
   {
    "duration": 244,
    "start_time": "2022-02-23T16:21:03.029Z"
   },
   {
    "duration": 368,
    "start_time": "2022-02-23T16:21:05.497Z"
   },
   {
    "duration": 253,
    "start_time": "2022-02-23T16:21:19.282Z"
   },
   {
    "duration": 297,
    "start_time": "2022-02-23T16:21:36.446Z"
   },
   {
    "duration": 274,
    "start_time": "2022-02-23T16:21:48.728Z"
   },
   {
    "duration": 259,
    "start_time": "2022-02-23T16:21:55.078Z"
   },
   {
    "duration": 264,
    "start_time": "2022-02-23T16:22:32.212Z"
   },
   {
    "duration": 256,
    "start_time": "2022-02-23T16:22:46.513Z"
   },
   {
    "duration": 283,
    "start_time": "2022-02-23T16:23:39.358Z"
   },
   {
    "duration": 1568,
    "start_time": "2022-02-24T04:37:07.820Z"
   },
   {
    "duration": 24,
    "start_time": "2022-02-24T04:37:09.391Z"
   },
   {
    "duration": 37,
    "start_time": "2022-02-24T04:37:09.418Z"
   },
   {
    "duration": 18,
    "start_time": "2022-02-24T04:37:09.458Z"
   },
   {
    "duration": 26,
    "start_time": "2022-02-24T04:37:09.479Z"
   },
   {
    "duration": 56,
    "start_time": "2022-02-24T04:37:09.508Z"
   },
   {
    "duration": 15,
    "start_time": "2022-02-24T04:37:09.567Z"
   },
   {
    "duration": 9,
    "start_time": "2022-02-24T04:37:09.587Z"
   },
   {
    "duration": 67,
    "start_time": "2022-02-24T04:37:09.599Z"
   },
   {
    "duration": 22,
    "start_time": "2022-02-24T04:37:09.668Z"
   },
   {
    "duration": 6,
    "start_time": "2022-02-24T04:37:09.693Z"
   },
   {
    "duration": 389,
    "start_time": "2022-02-24T04:37:09.701Z"
   },
   {
    "duration": 454,
    "start_time": "2022-02-24T04:37:10.092Z"
   },
   {
    "duration": 442,
    "start_time": "2022-02-24T04:37:10.549Z"
   },
   {
    "duration": 457,
    "start_time": "2022-02-24T04:37:10.994Z"
   },
   {
    "duration": 462,
    "start_time": "2022-02-24T04:37:11.454Z"
   },
   {
    "duration": 488,
    "start_time": "2022-02-24T04:37:11.919Z"
   },
   {
    "duration": 482,
    "start_time": "2022-02-24T04:37:12.410Z"
   },
   {
    "duration": 522,
    "start_time": "2022-02-24T04:37:12.895Z"
   },
   {
    "duration": 16,
    "start_time": "2022-02-24T05:58:25.504Z"
   },
   {
    "duration": 400,
    "start_time": "2022-02-24T05:58:48.865Z"
   },
   {
    "duration": 7,
    "start_time": "2022-02-24T05:59:13.600Z"
   },
   {
    "duration": 7,
    "start_time": "2022-02-24T06:00:50.556Z"
   },
   {
    "duration": 263,
    "start_time": "2022-02-24T06:10:40.340Z"
   },
   {
    "duration": 408,
    "start_time": "2022-02-24T06:10:50.931Z"
   },
   {
    "duration": 538,
    "start_time": "2022-02-24T06:12:28.472Z"
   },
   {
    "duration": 513,
    "start_time": "2022-02-24T06:13:46.152Z"
   },
   {
    "duration": 567,
    "start_time": "2022-02-24T06:24:04.269Z"
   },
   {
    "duration": 390,
    "start_time": "2022-02-24T07:56:30.151Z"
   },
   {
    "duration": 530,
    "start_time": "2022-02-24T08:30:36.854Z"
   },
   {
    "duration": 1175,
    "start_time": "2022-02-24T08:38:03.734Z"
   },
   {
    "duration": 497,
    "start_time": "2022-02-24T08:38:34.906Z"
   },
   {
    "duration": 1158,
    "start_time": "2022-02-24T08:38:46.826Z"
   },
   {
    "duration": 1639,
    "start_time": "2022-02-24T09:14:24.546Z"
   },
   {
    "duration": 26,
    "start_time": "2022-02-24T09:14:26.188Z"
   },
   {
    "duration": 31,
    "start_time": "2022-02-24T09:14:26.218Z"
   },
   {
    "duration": 18,
    "start_time": "2022-02-24T09:14:26.252Z"
   },
   {
    "duration": 27,
    "start_time": "2022-02-24T09:14:26.272Z"
   },
   {
    "duration": 65,
    "start_time": "2022-02-24T09:14:26.302Z"
   },
   {
    "duration": 15,
    "start_time": "2022-02-24T09:14:26.370Z"
   },
   {
    "duration": 9,
    "start_time": "2022-02-24T09:14:26.391Z"
   },
   {
    "duration": 65,
    "start_time": "2022-02-24T09:14:26.403Z"
   },
   {
    "duration": 22,
    "start_time": "2022-02-24T09:14:26.471Z"
   },
   {
    "duration": 9,
    "start_time": "2022-02-24T09:14:26.496Z"
   },
   {
    "duration": 656,
    "start_time": "2022-02-24T09:14:26.508Z"
   },
   {
    "duration": 487,
    "start_time": "2022-02-24T09:14:27.167Z"
   },
   {
    "duration": 464,
    "start_time": "2022-02-24T09:14:27.657Z"
   },
   {
    "duration": 492,
    "start_time": "2022-02-24T09:14:28.124Z"
   },
   {
    "duration": 484,
    "start_time": "2022-02-24T09:14:28.619Z"
   },
   {
    "duration": 479,
    "start_time": "2022-02-24T09:14:29.106Z"
   },
   {
    "duration": 546,
    "start_time": "2022-02-24T09:14:29.588Z"
   },
   {
    "duration": 516,
    "start_time": "2022-02-24T09:14:30.136Z"
   },
   {
    "duration": 1226,
    "start_time": "2022-02-24T09:14:30.654Z"
   },
   {
    "duration": 633,
    "start_time": "2022-02-24T09:16:22.897Z"
   },
   {
    "duration": 361,
    "start_time": "2022-02-24T09:23:47.721Z"
   },
   {
    "duration": 379,
    "start_time": "2022-02-24T09:23:52.372Z"
   },
   {
    "duration": 235,
    "start_time": "2022-02-24T09:24:24.149Z"
   },
   {
    "duration": 280,
    "start_time": "2022-02-24T09:32:29.457Z"
   },
   {
    "duration": 425,
    "start_time": "2022-02-24T09:33:27.258Z"
   },
   {
    "duration": 238,
    "start_time": "2022-02-24T09:35:43.541Z"
   },
   {
    "duration": 1192,
    "start_time": "2022-02-24T09:42:12.661Z"
   },
   {
    "duration": 1560,
    "start_time": "2022-02-24T09:44:55.334Z"
   },
   {
    "duration": 26,
    "start_time": "2022-02-24T09:44:56.897Z"
   },
   {
    "duration": 31,
    "start_time": "2022-02-24T09:44:56.926Z"
   },
   {
    "duration": 19,
    "start_time": "2022-02-24T09:44:56.960Z"
   },
   {
    "duration": 25,
    "start_time": "2022-02-24T09:44:56.981Z"
   },
   {
    "duration": 70,
    "start_time": "2022-02-24T09:44:57.009Z"
   },
   {
    "duration": 18,
    "start_time": "2022-02-24T09:44:57.082Z"
   },
   {
    "duration": 8,
    "start_time": "2022-02-24T09:44:57.105Z"
   },
   {
    "duration": 27,
    "start_time": "2022-02-24T09:44:57.148Z"
   },
   {
    "duration": 26,
    "start_time": "2022-02-24T09:44:57.178Z"
   },
   {
    "duration": 43,
    "start_time": "2022-02-24T09:44:57.207Z"
   },
   {
    "duration": 530,
    "start_time": "2022-02-24T09:44:57.253Z"
   },
   {
    "duration": 441,
    "start_time": "2022-02-24T09:44:57.785Z"
   },
   {
    "duration": 445,
    "start_time": "2022-02-24T09:44:58.229Z"
   },
   {
    "duration": 471,
    "start_time": "2022-02-24T09:44:58.677Z"
   },
   {
    "duration": 493,
    "start_time": "2022-02-24T09:44:59.151Z"
   },
   {
    "duration": 481,
    "start_time": "2022-02-24T09:44:59.649Z"
   },
   {
    "duration": 565,
    "start_time": "2022-02-24T09:45:00.133Z"
   },
   {
    "duration": 1290,
    "start_time": "2022-02-24T09:45:00.701Z"
   },
   {
    "duration": 250,
    "start_time": "2022-02-24T09:45:01.993Z"
   },
   {
    "duration": 257,
    "start_time": "2022-02-24T09:45:02.249Z"
   },
   {
    "duration": 613,
    "start_time": "2022-02-24T09:54:05.022Z"
   },
   {
    "duration": 620,
    "start_time": "2022-02-24T09:54:35.010Z"
   },
   {
    "duration": 790,
    "start_time": "2022-02-24T09:54:46.197Z"
   },
   {
    "duration": 1216,
    "start_time": "2022-02-24T09:55:00.892Z"
   },
   {
    "duration": 1113,
    "start_time": "2022-02-24T09:55:21.224Z"
   },
   {
    "duration": 1266,
    "start_time": "2022-02-24T10:12:10.962Z"
   },
   {
    "duration": 1238,
    "start_time": "2022-02-24T10:12:19.085Z"
   },
   {
    "duration": 1597,
    "start_time": "2022-02-24T15:23:12.720Z"
   },
   {
    "duration": 39,
    "start_time": "2022-02-24T15:23:14.321Z"
   },
   {
    "duration": 15,
    "start_time": "2022-02-24T15:23:14.364Z"
   },
   {
    "duration": 25,
    "start_time": "2022-02-24T15:23:14.382Z"
   },
   {
    "duration": 69,
    "start_time": "2022-02-24T15:23:14.410Z"
   },
   {
    "duration": 34,
    "start_time": "2022-02-24T15:23:14.482Z"
   },
   {
    "duration": 41,
    "start_time": "2022-02-24T15:23:14.520Z"
   },
   {
    "duration": 13,
    "start_time": "2022-02-24T15:23:14.565Z"
   },
   {
    "duration": 25,
    "start_time": "2022-02-24T15:23:14.581Z"
   },
   {
    "duration": 54,
    "start_time": "2022-02-24T15:23:14.609Z"
   },
   {
    "duration": 7,
    "start_time": "2022-02-24T15:23:14.666Z"
   },
   {
    "duration": 505,
    "start_time": "2022-02-24T15:23:14.676Z"
   },
   {
    "duration": 506,
    "start_time": "2022-02-24T15:23:15.185Z"
   },
   {
    "duration": 595,
    "start_time": "2022-02-24T15:23:15.695Z"
   },
   {
    "duration": 626,
    "start_time": "2022-02-24T15:23:16.293Z"
   },
   {
    "duration": 499,
    "start_time": "2022-02-24T15:23:16.922Z"
   },
   {
    "duration": 482,
    "start_time": "2022-02-24T15:23:17.424Z"
   },
   {
    "duration": 552,
    "start_time": "2022-02-24T15:23:17.909Z"
   },
   {
    "duration": 1247,
    "start_time": "2022-02-24T15:23:18.463Z"
   },
   {
    "duration": 251,
    "start_time": "2022-02-24T15:23:19.712Z"
   },
   {
    "duration": 255,
    "start_time": "2022-02-24T15:23:19.967Z"
   },
   {
    "duration": 433,
    "start_time": "2022-02-24T15:56:38.879Z"
   },
   {
    "duration": 241,
    "start_time": "2022-02-24T15:58:52.662Z"
   },
   {
    "duration": 7,
    "start_time": "2022-02-24T16:01:23.688Z"
   },
   {
    "duration": 7,
    "start_time": "2022-02-24T16:10:27.049Z"
   },
   {
    "duration": 12,
    "start_time": "2022-02-24T16:11:30.087Z"
   },
   {
    "duration": 17,
    "start_time": "2022-02-24T16:11:32.639Z"
   },
   {
    "duration": 1549,
    "start_time": "2022-02-24T16:11:45.804Z"
   },
   {
    "duration": 29,
    "start_time": "2022-02-24T16:11:47.356Z"
   },
   {
    "duration": 14,
    "start_time": "2022-02-24T16:11:47.389Z"
   },
   {
    "duration": 53,
    "start_time": "2022-02-24T16:11:47.406Z"
   },
   {
    "duration": 7,
    "start_time": "2022-02-24T16:11:47.462Z"
   },
   {
    "duration": 18,
    "start_time": "2022-02-24T16:11:47.471Z"
   },
   {
    "duration": 57,
    "start_time": "2022-02-24T16:11:47.493Z"
   },
   {
    "duration": 31,
    "start_time": "2022-02-24T16:11:47.555Z"
   },
   {
    "duration": 25,
    "start_time": "2022-02-24T16:11:47.589Z"
   },
   {
    "duration": 42,
    "start_time": "2022-02-24T16:11:47.617Z"
   },
   {
    "duration": 14,
    "start_time": "2022-02-24T16:11:47.662Z"
   },
   {
    "duration": 31,
    "start_time": "2022-02-24T16:11:47.679Z"
   },
   {
    "duration": 51,
    "start_time": "2022-02-24T16:11:47.713Z"
   },
   {
    "duration": 6,
    "start_time": "2022-02-24T16:11:47.767Z"
   },
   {
    "duration": 500,
    "start_time": "2022-02-24T16:11:47.776Z"
   },
   {
    "duration": 459,
    "start_time": "2022-02-24T16:11:48.278Z"
   },
   {
    "duration": 617,
    "start_time": "2022-02-24T16:11:48.740Z"
   },
   {
    "duration": 488,
    "start_time": "2022-02-24T16:11:49.360Z"
   },
   {
    "duration": 471,
    "start_time": "2022-02-24T16:11:49.851Z"
   },
   {
    "duration": 639,
    "start_time": "2022-02-24T16:11:50.325Z"
   },
   {
    "duration": 608,
    "start_time": "2022-02-24T16:11:50.968Z"
   },
   {
    "duration": 1236,
    "start_time": "2022-02-24T16:11:51.579Z"
   },
   {
    "duration": 250,
    "start_time": "2022-02-24T16:11:52.820Z"
   },
   {
    "duration": 319,
    "start_time": "2022-02-24T16:11:53.073Z"
   },
   {
    "duration": 699,
    "start_time": "2022-02-24T16:11:53.450Z"
   },
   {
    "duration": 422,
    "start_time": "2022-02-24T16:13:58.255Z"
   },
   {
    "duration": 424,
    "start_time": "2022-02-24T16:14:30.463Z"
   },
   {
    "duration": 9,
    "start_time": "2022-02-24T16:28:56.577Z"
   },
   {
    "duration": 9,
    "start_time": "2022-02-24T16:29:06.913Z"
   },
   {
    "duration": 1095,
    "start_time": "2022-02-25T03:50:20.937Z"
   },
   {
    "duration": 16,
    "start_time": "2022-02-25T03:50:22.035Z"
   },
   {
    "duration": 10,
    "start_time": "2022-02-25T03:50:22.053Z"
   },
   {
    "duration": 12,
    "start_time": "2022-02-25T03:50:22.064Z"
   },
   {
    "duration": 5,
    "start_time": "2022-02-25T03:50:22.078Z"
   },
   {
    "duration": 9,
    "start_time": "2022-02-25T03:50:22.084Z"
   },
   {
    "duration": 39,
    "start_time": "2022-02-25T03:50:22.095Z"
   },
   {
    "duration": 16,
    "start_time": "2022-02-25T03:50:22.137Z"
   },
   {
    "duration": 16,
    "start_time": "2022-02-25T03:50:22.155Z"
   },
   {
    "duration": 9,
    "start_time": "2022-02-25T03:50:22.173Z"
   },
   {
    "duration": 6,
    "start_time": "2022-02-25T03:50:22.183Z"
   },
   {
    "duration": 46,
    "start_time": "2022-02-25T03:50:22.190Z"
   },
   {
    "duration": 12,
    "start_time": "2022-02-25T03:50:22.237Z"
   },
   {
    "duration": 4,
    "start_time": "2022-02-25T03:50:22.251Z"
   },
   {
    "duration": 282,
    "start_time": "2022-02-25T03:50:22.256Z"
   },
   {
    "duration": 256,
    "start_time": "2022-02-25T03:50:22.540Z"
   },
   {
    "duration": 254,
    "start_time": "2022-02-25T03:50:22.798Z"
   },
   {
    "duration": 268,
    "start_time": "2022-02-25T03:50:23.053Z"
   },
   {
    "duration": 272,
    "start_time": "2022-02-25T03:50:23.323Z"
   },
   {
    "duration": 282,
    "start_time": "2022-02-25T03:50:23.597Z"
   },
   {
    "duration": 325,
    "start_time": "2022-02-25T03:50:23.881Z"
   },
   {
    "duration": 700,
    "start_time": "2022-02-25T03:50:24.208Z"
   },
   {
    "duration": 147,
    "start_time": "2022-02-25T03:50:24.911Z"
   },
   {
    "duration": 156,
    "start_time": "2022-02-25T03:50:25.060Z"
   },
   {
    "duration": 317,
    "start_time": "2022-02-25T03:50:25.217Z"
   },
   {
    "duration": 307,
    "start_time": "2022-02-25T03:50:25.536Z"
   },
   {
    "duration": 5,
    "start_time": "2022-02-25T03:50:25.844Z"
   },
   {
    "duration": 7,
    "start_time": "2022-02-25T03:50:25.850Z"
   },
   {
    "duration": 293,
    "start_time": "2022-02-25T04:01:16.021Z"
   },
   {
    "duration": 259,
    "start_time": "2022-02-25T04:01:17.881Z"
   },
   {
    "duration": 220,
    "start_time": "2022-02-25T04:11:20.615Z"
   },
   {
    "duration": 6,
    "start_time": "2022-02-25T04:11:39.160Z"
   },
   {
    "duration": 7,
    "start_time": "2022-02-25T04:13:50.382Z"
   },
   {
    "duration": 5,
    "start_time": "2022-02-25T04:13:51.135Z"
   },
   {
    "duration": 6,
    "start_time": "2022-02-25T04:13:51.869Z"
   },
   {
    "duration": 6,
    "start_time": "2022-02-25T04:15:07.916Z"
   },
   {
    "duration": 4,
    "start_time": "2022-02-25T04:15:08.272Z"
   },
   {
    "duration": 5,
    "start_time": "2022-02-25T04:15:08.656Z"
   },
   {
    "duration": 5,
    "start_time": "2022-02-25T04:15:38.622Z"
   },
   {
    "duration": 5,
    "start_time": "2022-02-25T04:15:55.595Z"
   },
   {
    "duration": 4,
    "start_time": "2022-02-25T04:16:09.892Z"
   },
   {
    "duration": 6,
    "start_time": "2022-02-25T04:16:16.614Z"
   },
   {
    "duration": 5,
    "start_time": "2022-02-25T04:16:17.185Z"
   },
   {
    "duration": 5,
    "start_time": "2022-02-25T04:16:17.566Z"
   },
   {
    "duration": 50,
    "start_time": "2022-02-25T04:57:51.396Z"
   },
   {
    "duration": 15,
    "start_time": "2022-02-25T04:57:57.228Z"
   },
   {
    "duration": 15,
    "start_time": "2022-02-25T04:58:25.819Z"
   },
   {
    "duration": 16,
    "start_time": "2022-02-25T04:58:38.727Z"
   },
   {
    "duration": 15,
    "start_time": "2022-02-25T05:09:33.656Z"
   },
   {
    "duration": 15,
    "start_time": "2022-02-25T05:53:14.203Z"
   },
   {
    "duration": 16,
    "start_time": "2022-02-25T05:53:48.881Z"
   },
   {
    "duration": 16,
    "start_time": "2022-02-25T05:54:23.720Z"
   },
   {
    "duration": 17,
    "start_time": "2022-02-25T05:55:10.760Z"
   },
   {
    "duration": 15,
    "start_time": "2022-02-25T05:55:28.736Z"
   },
   {
    "duration": 16,
    "start_time": "2022-02-25T06:03:08.144Z"
   },
   {
    "duration": 16,
    "start_time": "2022-02-25T06:03:23.976Z"
   },
   {
    "duration": 17,
    "start_time": "2022-02-25T06:03:33.000Z"
   },
   {
    "duration": 15,
    "start_time": "2022-02-25T06:15:03.148Z"
   },
   {
    "duration": 15,
    "start_time": "2022-02-25T06:15:25.687Z"
   },
   {
    "duration": 15,
    "start_time": "2022-02-25T06:15:34.639Z"
   },
   {
    "duration": 4,
    "start_time": "2022-02-25T06:31:16.603Z"
   },
   {
    "duration": 196,
    "start_time": "2022-02-25T08:21:59.815Z"
   },
   {
    "duration": 1206,
    "start_time": "2022-02-25T08:27:38.049Z"
   },
   {
    "duration": 19,
    "start_time": "2022-02-25T08:27:39.257Z"
   },
   {
    "duration": 10,
    "start_time": "2022-02-25T08:27:39.278Z"
   },
   {
    "duration": 14,
    "start_time": "2022-02-25T08:27:39.290Z"
   },
   {
    "duration": 29,
    "start_time": "2022-02-25T08:27:39.305Z"
   },
   {
    "duration": 26,
    "start_time": "2022-02-25T08:27:39.336Z"
   },
   {
    "duration": 22,
    "start_time": "2022-02-25T08:27:39.364Z"
   },
   {
    "duration": 18,
    "start_time": "2022-02-25T08:27:39.389Z"
   },
   {
    "duration": 29,
    "start_time": "2022-02-25T08:27:39.410Z"
   },
   {
    "duration": 10,
    "start_time": "2022-02-25T08:27:39.442Z"
   },
   {
    "duration": 6,
    "start_time": "2022-02-25T08:27:39.454Z"
   },
   {
    "duration": 15,
    "start_time": "2022-02-25T08:27:39.461Z"
   },
   {
    "duration": 14,
    "start_time": "2022-02-25T08:27:39.478Z"
   },
   {
    "duration": 4,
    "start_time": "2022-02-25T08:27:39.494Z"
   },
   {
    "duration": 290,
    "start_time": "2022-02-25T08:27:39.535Z"
   },
   {
    "duration": 274,
    "start_time": "2022-02-25T08:27:39.827Z"
   },
   {
    "duration": 272,
    "start_time": "2022-02-25T08:27:40.103Z"
   },
   {
    "duration": 273,
    "start_time": "2022-02-25T08:27:40.377Z"
   },
   {
    "duration": 293,
    "start_time": "2022-02-25T08:27:40.652Z"
   },
   {
    "duration": 289,
    "start_time": "2022-02-25T08:27:40.947Z"
   },
   {
    "duration": 328,
    "start_time": "2022-02-25T08:27:41.238Z"
   },
   {
    "duration": 730,
    "start_time": "2022-02-25T08:27:41.568Z"
   },
   {
    "duration": 153,
    "start_time": "2022-02-25T08:27:42.302Z"
   },
   {
    "duration": 141,
    "start_time": "2022-02-25T08:27:42.456Z"
   },
   {
    "duration": 339,
    "start_time": "2022-02-25T08:27:42.599Z"
   },
   {
    "duration": 318,
    "start_time": "2022-02-25T08:27:42.940Z"
   },
   {
    "duration": 5,
    "start_time": "2022-02-25T08:27:43.260Z"
   },
   {
    "duration": 6,
    "start_time": "2022-02-25T08:27:43.267Z"
   },
   {
    "duration": 6,
    "start_time": "2022-02-25T08:27:43.274Z"
   },
   {
    "duration": 286,
    "start_time": "2022-02-25T08:27:43.281Z"
   },
   {
    "duration": 287,
    "start_time": "2022-02-25T08:27:43.568Z"
   },
   {
    "duration": 6,
    "start_time": "2022-02-25T08:27:43.856Z"
   },
   {
    "duration": 7,
    "start_time": "2022-02-25T08:27:43.863Z"
   },
   {
    "duration": 5,
    "start_time": "2022-02-25T08:27:43.871Z"
   },
   {
    "duration": 19,
    "start_time": "2022-02-25T08:27:43.878Z"
   },
   {
    "duration": 41,
    "start_time": "2022-02-25T08:27:43.899Z"
   },
   {
    "duration": 16,
    "start_time": "2022-02-25T08:27:43.942Z"
   },
   {
    "duration": 14,
    "start_time": "2022-02-25T08:27:43.960Z"
   },
   {
    "duration": 13,
    "start_time": "2022-02-25T08:27:43.976Z"
   },
   {
    "duration": 13,
    "start_time": "2022-02-25T08:27:43.991Z"
   },
   {
    "duration": 20,
    "start_time": "2022-02-25T08:27:44.033Z"
   },
   {
    "duration": 4,
    "start_time": "2022-02-25T08:27:44.055Z"
   },
   {
    "duration": 9,
    "start_time": "2022-02-25T08:27:44.061Z"
   },
   {
    "duration": 43,
    "start_time": "2022-02-25T08:29:12.056Z"
   },
   {
    "duration": 57,
    "start_time": "2022-02-25T08:29:17.856Z"
   },
   {
    "duration": 4,
    "start_time": "2022-02-25T08:29:25.067Z"
   },
   {
    "duration": 15,
    "start_time": "2022-02-25T08:33:09.204Z"
   },
   {
    "duration": 1421,
    "start_time": "2022-02-25T08:51:46.753Z"
   },
   {
    "duration": 18,
    "start_time": "2022-02-25T08:51:48.175Z"
   },
   {
    "duration": 10,
    "start_time": "2022-02-25T08:51:48.195Z"
   },
   {
    "duration": 37,
    "start_time": "2022-02-25T08:51:48.207Z"
   },
   {
    "duration": 5,
    "start_time": "2022-02-25T08:51:48.248Z"
   },
   {
    "duration": 12,
    "start_time": "2022-02-25T08:51:48.255Z"
   },
   {
    "duration": 15,
    "start_time": "2022-02-25T08:51:48.269Z"
   },
   {
    "duration": 54,
    "start_time": "2022-02-25T08:51:48.288Z"
   },
   {
    "duration": 20,
    "start_time": "2022-02-25T08:51:48.346Z"
   },
   {
    "duration": 9,
    "start_time": "2022-02-25T08:51:48.368Z"
   },
   {
    "duration": 8,
    "start_time": "2022-02-25T08:51:48.379Z"
   },
   {
    "duration": 16,
    "start_time": "2022-02-25T08:51:48.389Z"
   },
   {
    "duration": 39,
    "start_time": "2022-02-25T08:51:48.406Z"
   },
   {
    "duration": 17,
    "start_time": "2022-02-25T08:51:48.447Z"
   },
   {
    "duration": 294,
    "start_time": "2022-02-25T08:51:48.466Z"
   },
   {
    "duration": 279,
    "start_time": "2022-02-25T08:51:48.761Z"
   },
   {
    "duration": 281,
    "start_time": "2022-02-25T08:51:49.043Z"
   },
   {
    "duration": 291,
    "start_time": "2022-02-25T08:51:49.326Z"
   },
   {
    "duration": 306,
    "start_time": "2022-02-25T08:51:49.618Z"
   },
   {
    "duration": 305,
    "start_time": "2022-02-25T08:51:49.926Z"
   },
   {
    "duration": 349,
    "start_time": "2022-02-25T08:51:50.233Z"
   },
   {
    "duration": 793,
    "start_time": "2022-02-25T08:51:50.583Z"
   },
   {
    "duration": 156,
    "start_time": "2022-02-25T08:51:51.381Z"
   },
   {
    "duration": 234,
    "start_time": "2022-02-25T08:51:51.539Z"
   },
   {
    "duration": 409,
    "start_time": "2022-02-25T08:51:51.775Z"
   },
   {
    "duration": 296,
    "start_time": "2022-02-25T08:51:52.187Z"
   },
   {
    "duration": 5,
    "start_time": "2022-02-25T08:51:52.485Z"
   },
   {
    "duration": 7,
    "start_time": "2022-02-25T08:51:52.492Z"
   },
   {
    "duration": 8,
    "start_time": "2022-02-25T08:51:52.500Z"
   },
   {
    "duration": 333,
    "start_time": "2022-02-25T08:51:52.510Z"
   },
   {
    "duration": 417,
    "start_time": "2022-02-25T08:51:52.846Z"
   },
   {
    "duration": 8,
    "start_time": "2022-02-25T08:51:53.265Z"
   },
   {
    "duration": 6,
    "start_time": "2022-02-25T08:51:53.275Z"
   },
   {
    "duration": 7,
    "start_time": "2022-02-25T08:51:53.283Z"
   },
   {
    "duration": 50,
    "start_time": "2022-02-25T08:51:53.292Z"
   },
   {
    "duration": 23,
    "start_time": "2022-02-25T08:51:53.345Z"
   },
   {
    "duration": 24,
    "start_time": "2022-02-25T08:51:53.371Z"
   },
   {
    "duration": 47,
    "start_time": "2022-02-25T08:51:53.397Z"
   },
   {
    "duration": 15,
    "start_time": "2022-02-25T08:51:53.446Z"
   },
   {
    "duration": 15,
    "start_time": "2022-02-25T08:51:53.463Z"
   },
   {
    "duration": 13,
    "start_time": "2022-02-25T08:51:53.479Z"
   },
   {
    "duration": 7,
    "start_time": "2022-02-25T08:51:53.494Z"
   },
   {
    "duration": 49,
    "start_time": "2022-02-25T08:51:53.503Z"
   },
   {
    "duration": 14,
    "start_time": "2022-02-25T09:53:14.782Z"
   },
   {
    "duration": 16,
    "start_time": "2022-02-25T09:53:25.826Z"
   },
   {
    "duration": 1168,
    "start_time": "2022-02-27T13:15:48.555Z"
   },
   {
    "duration": 18,
    "start_time": "2022-02-27T13:15:49.725Z"
   },
   {
    "duration": 17,
    "start_time": "2022-02-27T13:15:49.746Z"
   },
   {
    "duration": 31,
    "start_time": "2022-02-27T13:15:49.765Z"
   },
   {
    "duration": 13,
    "start_time": "2022-02-27T13:15:49.798Z"
   },
   {
    "duration": 20,
    "start_time": "2022-02-27T13:15:49.813Z"
   },
   {
    "duration": 29,
    "start_time": "2022-02-27T13:15:49.835Z"
   },
   {
    "duration": 30,
    "start_time": "2022-02-27T13:15:49.867Z"
   },
   {
    "duration": 20,
    "start_time": "2022-02-27T13:15:49.899Z"
   },
   {
    "duration": 11,
    "start_time": "2022-02-27T13:15:49.920Z"
   },
   {
    "duration": 9,
    "start_time": "2022-02-27T13:15:49.933Z"
   },
   {
    "duration": 21,
    "start_time": "2022-02-27T13:15:49.943Z"
   },
   {
    "duration": 35,
    "start_time": "2022-02-27T13:15:49.966Z"
   },
   {
    "duration": 6,
    "start_time": "2022-02-27T13:15:50.003Z"
   },
   {
    "duration": 321,
    "start_time": "2022-02-27T13:15:50.011Z"
   },
   {
    "duration": 297,
    "start_time": "2022-02-27T13:15:50.334Z"
   },
   {
    "duration": 294,
    "start_time": "2022-02-27T13:15:50.633Z"
   },
   {
    "duration": 303,
    "start_time": "2022-02-27T13:15:50.930Z"
   },
   {
    "duration": 307,
    "start_time": "2022-02-27T13:15:51.235Z"
   },
   {
    "duration": 317,
    "start_time": "2022-02-27T13:15:51.545Z"
   },
   {
    "duration": 353,
    "start_time": "2022-02-27T13:15:51.864Z"
   },
   {
    "duration": 748,
    "start_time": "2022-02-27T13:15:52.218Z"
   },
   {
    "duration": 165,
    "start_time": "2022-02-27T13:15:52.970Z"
   },
   {
    "duration": 158,
    "start_time": "2022-02-27T13:15:53.138Z"
   },
   {
    "duration": 326,
    "start_time": "2022-02-27T13:15:53.300Z"
   },
   {
    "duration": 304,
    "start_time": "2022-02-27T13:15:53.628Z"
   },
   {
    "duration": 5,
    "start_time": "2022-02-27T13:15:53.934Z"
   },
   {
    "duration": 10,
    "start_time": "2022-02-27T13:15:53.941Z"
   },
   {
    "duration": 9,
    "start_time": "2022-02-27T13:15:53.953Z"
   },
   {
    "duration": 311,
    "start_time": "2022-02-27T13:15:53.964Z"
   },
   {
    "duration": 358,
    "start_time": "2022-02-27T13:15:54.277Z"
   },
   {
    "duration": 7,
    "start_time": "2022-02-27T13:15:54.637Z"
   },
   {
    "duration": 9,
    "start_time": "2022-02-27T13:15:54.646Z"
   },
   {
    "duration": 48,
    "start_time": "2022-02-27T13:15:54.657Z"
   },
   {
    "duration": 19,
    "start_time": "2022-02-27T13:15:54.706Z"
   },
   {
    "duration": 16,
    "start_time": "2022-02-27T13:15:54.727Z"
   },
   {
    "duration": 65,
    "start_time": "2022-02-27T13:15:54.745Z"
   },
   {
    "duration": 17,
    "start_time": "2022-02-27T13:15:54.812Z"
   },
   {
    "duration": 16,
    "start_time": "2022-02-27T13:15:54.831Z"
   },
   {
    "duration": 20,
    "start_time": "2022-02-27T13:15:54.849Z"
   },
   {
    "duration": 45,
    "start_time": "2022-02-27T13:15:54.870Z"
   },
   {
    "duration": 18,
    "start_time": "2022-02-27T13:15:54.917Z"
   },
   {
    "duration": 16,
    "start_time": "2022-02-27T13:15:54.937Z"
   },
   {
    "duration": 48,
    "start_time": "2022-02-27T13:15:54.955Z"
   },
   {
    "duration": 16,
    "start_time": "2022-02-27T13:49:49.701Z"
   },
   {
    "duration": 260,
    "start_time": "2022-02-28T08:42:22.147Z"
   },
   {
    "duration": 1252,
    "start_time": "2022-02-28T08:42:29.385Z"
   },
   {
    "duration": 17,
    "start_time": "2022-02-28T08:42:30.639Z"
   },
   {
    "duration": 11,
    "start_time": "2022-02-28T08:42:30.658Z"
   },
   {
    "duration": 26,
    "start_time": "2022-02-28T08:42:30.671Z"
   },
   {
    "duration": 19,
    "start_time": "2022-02-28T08:42:30.699Z"
   },
   {
    "duration": 11,
    "start_time": "2022-02-28T08:42:30.720Z"
   },
   {
    "duration": 40,
    "start_time": "2022-02-28T08:42:30.732Z"
   },
   {
    "duration": 17,
    "start_time": "2022-02-28T08:42:30.775Z"
   },
   {
    "duration": 18,
    "start_time": "2022-02-28T08:42:30.794Z"
   },
   {
    "duration": 15,
    "start_time": "2022-02-28T08:42:30.814Z"
   },
   {
    "duration": 27,
    "start_time": "2022-02-28T08:42:30.831Z"
   },
   {
    "duration": 39,
    "start_time": "2022-02-28T08:42:30.860Z"
   },
   {
    "duration": 22,
    "start_time": "2022-02-28T08:42:30.902Z"
   },
   {
    "duration": 27,
    "start_time": "2022-02-28T08:42:30.926Z"
   },
   {
    "duration": 295,
    "start_time": "2022-02-28T08:42:30.955Z"
   },
   {
    "duration": 275,
    "start_time": "2022-02-28T08:42:31.252Z"
   },
   {
    "duration": 270,
    "start_time": "2022-02-28T08:42:31.538Z"
   },
   {
    "duration": 294,
    "start_time": "2022-02-28T08:42:31.810Z"
   },
   {
    "duration": 285,
    "start_time": "2022-02-28T08:42:32.106Z"
   },
   {
    "duration": 280,
    "start_time": "2022-02-28T08:42:32.394Z"
   },
   {
    "duration": 321,
    "start_time": "2022-02-28T08:42:32.676Z"
   },
   {
    "duration": 471,
    "start_time": "2022-02-28T08:42:33.000Z"
   },
   {
    "duration": -731,
    "start_time": "2022-02-28T08:42:34.204Z"
   },
   {
    "duration": -738,
    "start_time": "2022-02-28T08:42:34.212Z"
   },
   {
    "duration": -762,
    "start_time": "2022-02-28T08:42:34.236Z"
   },
   {
    "duration": -767,
    "start_time": "2022-02-28T08:42:34.242Z"
   },
   {
    "duration": -772,
    "start_time": "2022-02-28T08:42:34.248Z"
   },
   {
    "duration": -776,
    "start_time": "2022-02-28T08:42:34.253Z"
   },
   {
    "duration": -781,
    "start_time": "2022-02-28T08:42:34.259Z"
   },
   {
    "duration": -790,
    "start_time": "2022-02-28T08:42:34.269Z"
   },
   {
    "duration": -794,
    "start_time": "2022-02-28T08:42:34.274Z"
   },
   {
    "duration": -805,
    "start_time": "2022-02-28T08:42:34.286Z"
   },
   {
    "duration": -826,
    "start_time": "2022-02-28T08:42:34.308Z"
   },
   {
    "duration": -835,
    "start_time": "2022-02-28T08:42:34.318Z"
   },
   {
    "duration": -841,
    "start_time": "2022-02-28T08:42:34.324Z"
   },
   {
    "duration": -850,
    "start_time": "2022-02-28T08:42:34.334Z"
   },
   {
    "duration": -854,
    "start_time": "2022-02-28T08:42:34.339Z"
   },
   {
    "duration": -859,
    "start_time": "2022-02-28T08:42:34.345Z"
   },
   {
    "duration": -868,
    "start_time": "2022-02-28T08:42:34.355Z"
   },
   {
    "duration": -873,
    "start_time": "2022-02-28T08:42:34.361Z"
   },
   {
    "duration": -882,
    "start_time": "2022-02-28T08:42:34.371Z"
   },
   {
    "duration": -886,
    "start_time": "2022-02-28T08:42:34.376Z"
   },
   {
    "duration": -897,
    "start_time": "2022-02-28T08:42:34.387Z"
   },
   {
    "duration": -901,
    "start_time": "2022-02-28T08:42:34.392Z"
   },
   {
    "duration": -911,
    "start_time": "2022-02-28T08:42:34.403Z"
   },
   {
    "duration": 141,
    "start_time": "2022-02-28T09:31:30.587Z"
   },
   {
    "duration": 145,
    "start_time": "2022-02-28T09:31:34.155Z"
   },
   {
    "duration": 288,
    "start_time": "2022-02-28T09:31:36.883Z"
   },
   {
    "duration": 336,
    "start_time": "2022-02-28T09:31:40.327Z"
   },
   {
    "duration": 6,
    "start_time": "2022-02-28T09:31:44.187Z"
   },
   {
    "duration": 5,
    "start_time": "2022-02-28T09:31:46.318Z"
   },
   {
    "duration": 5,
    "start_time": "2022-02-28T09:31:47.459Z"
   },
   {
    "duration": 296,
    "start_time": "2022-02-28T09:31:53.259Z"
   },
   {
    "duration": 328,
    "start_time": "2022-02-28T09:31:55.827Z"
   },
   {
    "duration": 6,
    "start_time": "2022-02-28T09:31:58.699Z"
   },
   {
    "duration": 5,
    "start_time": "2022-02-28T09:31:59.287Z"
   },
   {
    "duration": 5,
    "start_time": "2022-02-28T09:31:59.763Z"
   },
   {
    "duration": 18,
    "start_time": "2022-02-28T09:32:02.731Z"
   },
   {
    "duration": 19,
    "start_time": "2022-02-28T09:32:09.623Z"
   },
   {
    "duration": 21,
    "start_time": "2022-02-28T09:32:14.623Z"
   },
   {
    "duration": 15,
    "start_time": "2022-02-28T09:32:16.394Z"
   },
   {
    "duration": 14,
    "start_time": "2022-02-28T09:32:18.691Z"
   },
   {
    "duration": 13,
    "start_time": "2022-02-28T09:32:20.150Z"
   },
   {
    "duration": 14,
    "start_time": "2022-02-28T09:32:22.147Z"
   },
   {
    "duration": 13,
    "start_time": "2022-02-28T09:32:26.059Z"
   },
   {
    "duration": 16,
    "start_time": "2022-02-28T09:32:26.450Z"
   },
   {
    "duration": 13,
    "start_time": "2022-02-28T09:32:27.051Z"
   },
   {
    "duration": 17,
    "start_time": "2022-02-28T09:32:31.150Z"
   },
   {
    "duration": 7,
    "start_time": "2022-02-28T09:32:57.350Z"
   },
   {
    "duration": 355,
    "start_time": "2022-02-28T09:41:20.362Z"
   },
   {
    "duration": 18,
    "start_time": "2022-02-28T09:57:18.332Z"
   },
   {
    "duration": 23,
    "start_time": "2022-02-28T10:06:09.336Z"
   },
   {
    "duration": 139,
    "start_time": "2022-02-28T10:06:27.952Z"
   },
   {
    "duration": 141,
    "start_time": "2022-02-28T10:06:54.541Z"
   },
   {
    "duration": 13,
    "start_time": "2022-02-28T10:15:47.221Z"
   },
   {
    "duration": 10,
    "start_time": "2022-02-28T10:17:29.617Z"
   },
   {
    "duration": 12,
    "start_time": "2022-02-28T10:21:49.193Z"
   },
   {
    "duration": 155,
    "start_time": "2022-02-28T10:23:08.757Z"
   },
   {
    "duration": 12,
    "start_time": "2022-02-28T10:23:39.821Z"
   },
   {
    "duration": 13,
    "start_time": "2022-02-28T10:23:45.001Z"
   },
   {
    "duration": 11,
    "start_time": "2022-02-28T10:32:02.581Z"
   },
   {
    "duration": 1085,
    "start_time": "2022-02-28T10:35:16.200Z"
   },
   {
    "duration": 11,
    "start_time": "2022-02-28T10:35:22.920Z"
   },
   {
    "duration": 4,
    "start_time": "2022-02-28T10:35:57.473Z"
   },
   {
    "duration": 10,
    "start_time": "2022-02-28T10:35:59.641Z"
   },
   {
    "duration": 11,
    "start_time": "2022-02-28T10:40:12.233Z"
   },
   {
    "duration": 10,
    "start_time": "2022-02-28T10:40:14.709Z"
   },
   {
    "duration": 11,
    "start_time": "2022-02-28T10:40:16.189Z"
   },
   {
    "duration": 11,
    "start_time": "2022-02-28T10:40:17.165Z"
   },
   {
    "duration": 11,
    "start_time": "2022-02-28T10:44:09.428Z"
   },
   {
    "duration": 201,
    "start_time": "2022-02-28T10:44:30.932Z"
   },
   {
    "duration": 6,
    "start_time": "2022-02-28T10:44:38.216Z"
   },
   {
    "duration": 6,
    "start_time": "2022-02-28T10:44:51.637Z"
   },
   {
    "duration": 11,
    "start_time": "2022-02-28T10:46:07.280Z"
   },
   {
    "duration": 1236,
    "start_time": "2022-02-28T15:17:39.599Z"
   },
   {
    "duration": 20,
    "start_time": "2022-02-28T15:17:40.837Z"
   },
   {
    "duration": 9,
    "start_time": "2022-02-28T15:17:40.859Z"
   },
   {
    "duration": 13,
    "start_time": "2022-02-28T15:17:40.870Z"
   },
   {
    "duration": 5,
    "start_time": "2022-02-28T15:17:40.885Z"
   },
   {
    "duration": 10,
    "start_time": "2022-02-28T15:17:40.891Z"
   },
   {
    "duration": 14,
    "start_time": "2022-02-28T15:17:40.933Z"
   },
   {
    "duration": 17,
    "start_time": "2022-02-28T15:17:40.949Z"
   },
   {
    "duration": 19,
    "start_time": "2022-02-28T15:17:40.968Z"
   },
   {
    "duration": 10,
    "start_time": "2022-02-28T15:17:40.988Z"
   },
   {
    "duration": 34,
    "start_time": "2022-02-28T15:17:41.000Z"
   },
   {
    "duration": 16,
    "start_time": "2022-02-28T15:17:41.036Z"
   },
   {
    "duration": 15,
    "start_time": "2022-02-28T15:17:41.053Z"
   },
   {
    "duration": 5,
    "start_time": "2022-02-28T15:17:41.070Z"
   },
   {
    "duration": 299,
    "start_time": "2022-02-28T15:17:41.077Z"
   },
   {
    "duration": 257,
    "start_time": "2022-02-28T15:17:41.378Z"
   },
   {
    "duration": 261,
    "start_time": "2022-02-28T15:17:41.636Z"
   },
   {
    "duration": 273,
    "start_time": "2022-02-28T15:17:41.898Z"
   },
   {
    "duration": 287,
    "start_time": "2022-02-28T15:17:42.173Z"
   },
   {
    "duration": 283,
    "start_time": "2022-02-28T15:17:42.461Z"
   },
   {
    "duration": 323,
    "start_time": "2022-02-28T15:17:42.746Z"
   },
   {
    "duration": 239,
    "start_time": "2022-02-28T15:17:43.071Z"
   },
   {
    "duration": 211,
    "start_time": "2022-02-28T15:17:43.313Z"
   },
   {
    "duration": 359,
    "start_time": "2022-02-28T15:17:43.527Z"
   },
   {
    "duration": 366,
    "start_time": "2022-02-28T15:17:43.888Z"
   },
   {
    "duration": 5,
    "start_time": "2022-02-28T15:17:44.256Z"
   },
   {
    "duration": 7,
    "start_time": "2022-02-28T15:17:44.263Z"
   },
   {
    "duration": 5,
    "start_time": "2022-02-28T15:17:44.271Z"
   },
   {
    "duration": 276,
    "start_time": "2022-02-28T15:17:44.278Z"
   },
   {
    "duration": 325,
    "start_time": "2022-02-28T15:17:44.555Z"
   },
   {
    "duration": 5,
    "start_time": "2022-02-28T15:17:44.882Z"
   },
   {
    "duration": 15,
    "start_time": "2022-02-28T15:17:44.888Z"
   },
   {
    "duration": 5,
    "start_time": "2022-02-28T15:17:44.904Z"
   },
   {
    "duration": 26,
    "start_time": "2022-02-28T15:17:44.911Z"
   },
   {
    "duration": 21,
    "start_time": "2022-02-28T15:17:44.939Z"
   },
   {
    "duration": 14,
    "start_time": "2022-02-28T15:17:44.961Z"
   },
   {
    "duration": 14,
    "start_time": "2022-02-28T15:17:44.977Z"
   },
   {
    "duration": 47,
    "start_time": "2022-02-28T15:17:44.992Z"
   },
   {
    "duration": 15,
    "start_time": "2022-02-28T15:17:45.040Z"
   },
   {
    "duration": 16,
    "start_time": "2022-02-28T15:17:45.057Z"
   },
   {
    "duration": 14,
    "start_time": "2022-02-28T15:17:45.075Z"
   },
   {
    "duration": 49,
    "start_time": "2022-02-28T15:17:45.091Z"
   },
   {
    "duration": 15,
    "start_time": "2022-02-28T15:17:45.142Z"
   },
   {
    "duration": 11,
    "start_time": "2022-02-28T15:17:45.159Z"
   },
   {
    "duration": 15,
    "start_time": "2022-02-28T15:17:45.172Z"
   },
   {
    "duration": 10,
    "start_time": "2022-02-28T15:17:45.189Z"
   },
   {
    "duration": 8,
    "start_time": "2022-02-28T15:20:13.709Z"
   },
   {
    "duration": 5,
    "start_time": "2022-02-28T15:26:48.204Z"
   },
   {
    "duration": 4,
    "start_time": "2022-02-28T15:27:26.138Z"
   },
   {
    "duration": 4,
    "start_time": "2022-02-28T15:27:39.109Z"
   },
   {
    "duration": 4,
    "start_time": "2022-02-28T15:27:52.275Z"
   },
   {
    "duration": 4,
    "start_time": "2022-02-28T15:28:08.690Z"
   },
   {
    "duration": 5,
    "start_time": "2022-02-28T15:28:26.554Z"
   },
   {
    "duration": 5,
    "start_time": "2022-02-28T15:29:38.997Z"
   },
   {
    "duration": 3,
    "start_time": "2022-02-28T15:31:59.771Z"
   },
   {
    "duration": 5,
    "start_time": "2022-02-28T15:32:00.205Z"
   },
   {
    "duration": 4,
    "start_time": "2022-02-28T15:32:00.687Z"
   },
   {
    "duration": 4,
    "start_time": "2022-02-28T15:32:01.162Z"
   },
   {
    "duration": 11,
    "start_time": "2022-02-28T15:32:02.115Z"
   },
   {
    "duration": 9,
    "start_time": "2022-02-28T15:32:11.672Z"
   },
   {
    "duration": 4,
    "start_time": "2022-02-28T15:32:12.115Z"
   },
   {
    "duration": 5,
    "start_time": "2022-02-28T15:32:12.548Z"
   },
   {
    "duration": 5,
    "start_time": "2022-02-28T15:32:12.963Z"
   },
   {
    "duration": 5,
    "start_time": "2022-02-28T15:32:13.432Z"
   },
   {
    "duration": 11,
    "start_time": "2022-02-28T15:32:15.249Z"
   },
   {
    "duration": 4,
    "start_time": "2022-02-28T15:32:18.595Z"
   },
   {
    "duration": 6,
    "start_time": "2022-02-28T15:32:47.679Z"
   },
   {
    "duration": 5,
    "start_time": "2022-02-28T15:32:56.380Z"
   },
   {
    "duration": 1161,
    "start_time": "2022-02-28T15:40:24.226Z"
   },
   {
    "duration": 17,
    "start_time": "2022-02-28T15:40:25.388Z"
   },
   {
    "duration": 11,
    "start_time": "2022-02-28T15:40:25.406Z"
   },
   {
    "duration": 13,
    "start_time": "2022-02-28T15:40:25.433Z"
   },
   {
    "duration": 5,
    "start_time": "2022-02-28T15:40:25.448Z"
   },
   {
    "duration": 11,
    "start_time": "2022-02-28T15:40:25.455Z"
   },
   {
    "duration": 13,
    "start_time": "2022-02-28T15:40:25.468Z"
   },
   {
    "duration": 49,
    "start_time": "2022-02-28T15:40:25.485Z"
   },
   {
    "duration": 18,
    "start_time": "2022-02-28T15:40:25.536Z"
   },
   {
    "duration": 9,
    "start_time": "2022-02-28T15:40:25.555Z"
   },
   {
    "duration": 7,
    "start_time": "2022-02-28T15:40:25.565Z"
   },
   {
    "duration": 14,
    "start_time": "2022-02-28T15:40:25.573Z"
   },
   {
    "duration": 45,
    "start_time": "2022-02-28T15:40:25.589Z"
   },
   {
    "duration": 4,
    "start_time": "2022-02-28T15:40:25.635Z"
   },
   {
    "duration": 275,
    "start_time": "2022-02-28T15:40:25.641Z"
   },
   {
    "duration": 264,
    "start_time": "2022-02-28T15:40:25.917Z"
   },
   {
    "duration": 262,
    "start_time": "2022-02-28T15:40:26.183Z"
   },
   {
    "duration": 265,
    "start_time": "2022-02-28T15:40:26.446Z"
   },
   {
    "duration": 268,
    "start_time": "2022-02-28T15:40:26.712Z"
   },
   {
    "duration": 266,
    "start_time": "2022-02-28T15:40:26.982Z"
   },
   {
    "duration": 306,
    "start_time": "2022-02-28T15:40:27.250Z"
   },
   {
    "duration": 200,
    "start_time": "2022-02-28T15:40:27.558Z"
   },
   {
    "duration": 146,
    "start_time": "2022-02-28T15:40:27.761Z"
   },
   {
    "duration": 326,
    "start_time": "2022-02-28T15:40:27.909Z"
   },
   {
    "duration": 303,
    "start_time": "2022-02-28T15:40:28.236Z"
   },
   {
    "duration": 5,
    "start_time": "2022-02-28T15:40:28.541Z"
   },
   {
    "duration": 10,
    "start_time": "2022-02-28T15:40:28.548Z"
   },
   {
    "duration": 17,
    "start_time": "2022-02-28T15:40:28.559Z"
   },
   {
    "duration": 265,
    "start_time": "2022-02-28T15:40:28.577Z"
   },
   {
    "duration": 290,
    "start_time": "2022-02-28T15:40:28.843Z"
   },
   {
    "duration": 6,
    "start_time": "2022-02-28T15:40:29.134Z"
   },
   {
    "duration": 6,
    "start_time": "2022-02-28T15:40:29.141Z"
   },
   {
    "duration": 5,
    "start_time": "2022-02-28T15:40:29.149Z"
   },
   {
    "duration": 19,
    "start_time": "2022-02-28T15:40:29.155Z"
   },
   {
    "duration": 14,
    "start_time": "2022-02-28T15:40:29.176Z"
   },
   {
    "duration": 43,
    "start_time": "2022-02-28T15:40:29.191Z"
   },
   {
    "duration": 16,
    "start_time": "2022-02-28T15:40:29.235Z"
   },
   {
    "duration": 14,
    "start_time": "2022-02-28T15:40:29.253Z"
   },
   {
    "duration": 13,
    "start_time": "2022-02-28T15:40:29.269Z"
   },
   {
    "duration": 14,
    "start_time": "2022-02-28T15:40:29.284Z"
   },
   {
    "duration": 47,
    "start_time": "2022-02-28T15:40:29.299Z"
   },
   {
    "duration": 14,
    "start_time": "2022-02-28T15:40:29.348Z"
   },
   {
    "duration": 15,
    "start_time": "2022-02-28T15:40:29.364Z"
   },
   {
    "duration": 10,
    "start_time": "2022-02-28T15:40:29.380Z"
   },
   {
    "duration": 4,
    "start_time": "2022-02-28T15:40:29.392Z"
   },
   {
    "duration": 36,
    "start_time": "2022-02-28T15:40:29.398Z"
   },
   {
    "duration": 4,
    "start_time": "2022-02-28T15:40:29.436Z"
   },
   {
    "duration": 9,
    "start_time": "2022-02-28T15:40:29.442Z"
   },
   {
    "duration": 8,
    "start_time": "2022-02-28T15:40:29.453Z"
   },
   {
    "duration": 6,
    "start_time": "2022-02-28T15:40:29.462Z"
   },
   {
    "duration": 5,
    "start_time": "2022-02-28T15:41:15.214Z"
   },
   {
    "duration": 43,
    "start_time": "2022-02-28T15:44:03.779Z"
   },
   {
    "duration": 5,
    "start_time": "2022-02-28T15:44:18.344Z"
   },
   {
    "duration": 6,
    "start_time": "2022-02-28T15:44:26.522Z"
   },
   {
    "duration": 6,
    "start_time": "2022-02-28T15:44:32.385Z"
   },
   {
    "duration": 6,
    "start_time": "2022-02-28T15:44:36.597Z"
   },
   {
    "duration": 4,
    "start_time": "2022-02-28T15:47:04.199Z"
   },
   {
    "duration": 5,
    "start_time": "2022-02-28T15:47:42.552Z"
   },
   {
    "duration": 5,
    "start_time": "2022-02-28T15:49:55.827Z"
   },
   {
    "duration": 5,
    "start_time": "2022-02-28T15:50:53.187Z"
   },
   {
    "duration": 1111,
    "start_time": "2022-02-28T15:52:07.441Z"
   },
   {
    "duration": 16,
    "start_time": "2022-02-28T15:52:08.553Z"
   },
   {
    "duration": 10,
    "start_time": "2022-02-28T15:52:08.571Z"
   },
   {
    "duration": 12,
    "start_time": "2022-02-28T15:52:08.583Z"
   },
   {
    "duration": 5,
    "start_time": "2022-02-28T15:52:08.597Z"
   },
   {
    "duration": 39,
    "start_time": "2022-02-28T15:52:08.603Z"
   },
   {
    "duration": 11,
    "start_time": "2022-02-28T15:52:08.643Z"
   },
   {
    "duration": 16,
    "start_time": "2022-02-28T15:52:08.657Z"
   },
   {
    "duration": 17,
    "start_time": "2022-02-28T15:52:08.675Z"
   },
   {
    "duration": 10,
    "start_time": "2022-02-28T15:52:08.693Z"
   },
   {
    "duration": 32,
    "start_time": "2022-02-28T15:52:08.704Z"
   },
   {
    "duration": 17,
    "start_time": "2022-02-28T15:52:08.738Z"
   },
   {
    "duration": 14,
    "start_time": "2022-02-28T15:52:08.757Z"
   },
   {
    "duration": 4,
    "start_time": "2022-02-28T15:52:08.772Z"
   },
   {
    "duration": 309,
    "start_time": "2022-02-28T15:52:08.778Z"
   },
   {
    "duration": 259,
    "start_time": "2022-02-28T15:52:09.089Z"
   },
   {
    "duration": 274,
    "start_time": "2022-02-28T15:52:09.350Z"
   },
   {
    "duration": 274,
    "start_time": "2022-02-28T15:52:09.626Z"
   },
   {
    "duration": 305,
    "start_time": "2022-02-28T15:52:09.901Z"
   },
   {
    "duration": 277,
    "start_time": "2022-02-28T15:52:10.207Z"
   },
   {
    "duration": 319,
    "start_time": "2022-02-28T15:52:10.485Z"
   },
   {
    "duration": 204,
    "start_time": "2022-02-28T15:52:10.805Z"
   },
   {
    "duration": 149,
    "start_time": "2022-02-28T15:52:11.012Z"
   },
   {
    "duration": 289,
    "start_time": "2022-02-28T15:52:11.163Z"
   },
   {
    "duration": 306,
    "start_time": "2022-02-28T15:52:11.453Z"
   },
   {
    "duration": 7,
    "start_time": "2022-02-28T15:52:11.761Z"
   },
   {
    "duration": 8,
    "start_time": "2022-02-28T15:52:11.769Z"
   },
   {
    "duration": 7,
    "start_time": "2022-02-28T15:52:11.778Z"
   },
   {
    "duration": 282,
    "start_time": "2022-02-28T15:52:11.787Z"
   },
   {
    "duration": 288,
    "start_time": "2022-02-28T15:52:12.071Z"
   },
   {
    "duration": 5,
    "start_time": "2022-02-28T15:52:12.360Z"
   },
   {
    "duration": 6,
    "start_time": "2022-02-28T15:52:12.367Z"
   },
   {
    "duration": 4,
    "start_time": "2022-02-28T15:52:12.375Z"
   },
   {
    "duration": 15,
    "start_time": "2022-02-28T15:52:12.380Z"
   },
   {
    "duration": 40,
    "start_time": "2022-02-28T15:52:12.397Z"
   },
   {
    "duration": 15,
    "start_time": "2022-02-28T15:52:12.439Z"
   },
   {
    "duration": 13,
    "start_time": "2022-02-28T15:52:12.456Z"
   },
   {
    "duration": 13,
    "start_time": "2022-02-28T15:52:12.471Z"
   },
   {
    "duration": 13,
    "start_time": "2022-02-28T15:52:12.485Z"
   },
   {
    "duration": 43,
    "start_time": "2022-02-28T15:52:12.500Z"
   },
   {
    "duration": 13,
    "start_time": "2022-02-28T15:52:12.545Z"
   },
   {
    "duration": 13,
    "start_time": "2022-02-28T15:52:12.560Z"
   },
   {
    "duration": 16,
    "start_time": "2022-02-28T15:52:12.574Z"
   },
   {
    "duration": 9,
    "start_time": "2022-02-28T15:52:12.591Z"
   },
   {
    "duration": 32,
    "start_time": "2022-02-28T15:52:12.601Z"
   },
   {
    "duration": 5,
    "start_time": "2022-02-28T15:52:12.634Z"
   },
   {
    "duration": 5,
    "start_time": "2022-02-28T15:52:12.641Z"
   },
   {
    "duration": 9,
    "start_time": "2022-02-28T15:52:12.648Z"
   },
   {
    "duration": 5,
    "start_time": "2022-02-28T15:52:12.658Z"
   },
   {
    "duration": 5,
    "start_time": "2022-02-28T15:52:12.665Z"
   },
   {
    "duration": 4,
    "start_time": "2022-02-28T16:08:46.933Z"
   },
   {
    "duration": 1116,
    "start_time": "2022-03-01T03:34:31.213Z"
   },
   {
    "duration": 17,
    "start_time": "2022-03-01T03:34:32.330Z"
   },
   {
    "duration": 9,
    "start_time": "2022-03-01T03:34:32.348Z"
   },
   {
    "duration": 12,
    "start_time": "2022-03-01T03:34:32.359Z"
   },
   {
    "duration": 4,
    "start_time": "2022-03-01T03:34:32.372Z"
   },
   {
    "duration": 9,
    "start_time": "2022-03-01T03:34:32.377Z"
   },
   {
    "duration": 10,
    "start_time": "2022-03-01T03:34:32.388Z"
   },
   {
    "duration": 47,
    "start_time": "2022-03-01T03:34:32.400Z"
   },
   {
    "duration": 16,
    "start_time": "2022-03-01T03:34:32.450Z"
   },
   {
    "duration": 8,
    "start_time": "2022-03-01T03:34:32.468Z"
   },
   {
    "duration": 5,
    "start_time": "2022-03-01T03:34:32.478Z"
   },
   {
    "duration": 14,
    "start_time": "2022-03-01T03:34:32.484Z"
   },
   {
    "duration": 47,
    "start_time": "2022-03-01T03:34:32.499Z"
   },
   {
    "duration": 4,
    "start_time": "2022-03-01T03:34:32.547Z"
   },
   {
    "duration": 291,
    "start_time": "2022-03-01T03:34:32.553Z"
   },
   {
    "duration": 252,
    "start_time": "2022-03-01T03:34:32.846Z"
   },
   {
    "duration": 251,
    "start_time": "2022-03-01T03:34:33.100Z"
   },
   {
    "duration": 276,
    "start_time": "2022-03-01T03:34:33.352Z"
   },
   {
    "duration": 270,
    "start_time": "2022-03-01T03:34:33.632Z"
   },
   {
    "duration": 266,
    "start_time": "2022-03-01T03:34:33.903Z"
   },
   {
    "duration": 308,
    "start_time": "2022-03-01T03:34:34.170Z"
   },
   {
    "duration": 212,
    "start_time": "2022-03-01T03:34:34.479Z"
   },
   {
    "duration": 134,
    "start_time": "2022-03-01T03:34:34.694Z"
   },
   {
    "duration": 296,
    "start_time": "2022-03-01T03:34:34.830Z"
   },
   {
    "duration": 295,
    "start_time": "2022-03-01T03:34:35.132Z"
   },
   {
    "duration": 5,
    "start_time": "2022-03-01T03:34:35.432Z"
   },
   {
    "duration": 7,
    "start_time": "2022-03-01T03:34:35.439Z"
   },
   {
    "duration": 9,
    "start_time": "2022-03-01T03:34:35.448Z"
   },
   {
    "duration": 280,
    "start_time": "2022-03-01T03:34:35.458Z"
   },
   {
    "duration": 285,
    "start_time": "2022-03-01T03:34:35.740Z"
   },
   {
    "duration": 10,
    "start_time": "2022-03-01T03:34:36.026Z"
   },
   {
    "duration": 7,
    "start_time": "2022-03-01T03:34:36.037Z"
   },
   {
    "duration": 5,
    "start_time": "2022-03-01T03:34:36.046Z"
   },
   {
    "duration": 15,
    "start_time": "2022-03-01T03:34:36.053Z"
   },
   {
    "duration": 14,
    "start_time": "2022-03-01T03:34:36.070Z"
   },
   {
    "duration": 14,
    "start_time": "2022-03-01T03:34:36.086Z"
   },
   {
    "duration": 45,
    "start_time": "2022-03-01T03:34:36.101Z"
   },
   {
    "duration": 13,
    "start_time": "2022-03-01T03:34:36.147Z"
   },
   {
    "duration": 12,
    "start_time": "2022-03-01T03:34:36.162Z"
   },
   {
    "duration": 14,
    "start_time": "2022-03-01T03:34:36.176Z"
   },
   {
    "duration": 46,
    "start_time": "2022-03-01T03:34:36.191Z"
   },
   {
    "duration": 14,
    "start_time": "2022-03-01T03:34:36.238Z"
   },
   {
    "duration": 12,
    "start_time": "2022-03-01T03:34:36.254Z"
   },
   {
    "duration": 9,
    "start_time": "2022-03-01T03:34:36.267Z"
   },
   {
    "duration": 3,
    "start_time": "2022-03-01T03:34:36.277Z"
   },
   {
    "duration": 8,
    "start_time": "2022-03-01T03:34:36.281Z"
   },
   {
    "duration": 5,
    "start_time": "2022-03-01T03:34:36.291Z"
   },
   {
    "duration": 37,
    "start_time": "2022-03-01T03:34:36.297Z"
   },
   {
    "duration": 4,
    "start_time": "2022-03-01T03:34:36.335Z"
   },
   {
    "duration": 8,
    "start_time": "2022-03-01T03:34:36.341Z"
   },
   {
    "duration": 8,
    "start_time": "2022-03-01T03:34:36.350Z"
   },
   {
    "duration": 50,
    "start_time": "2022-03-01T03:42:27.933Z"
   },
   {
    "duration": 9,
    "start_time": "2022-03-01T03:43:41.877Z"
   },
   {
    "duration": 8,
    "start_time": "2022-03-01T03:50:51.504Z"
   },
   {
    "duration": 5,
    "start_time": "2022-03-01T03:51:50.015Z"
   },
   {
    "duration": 6,
    "start_time": "2022-03-01T03:53:06.944Z"
   },
   {
    "duration": 5,
    "start_time": "2022-03-01T03:54:02.416Z"
   },
   {
    "duration": 1598,
    "start_time": "2022-03-09T13:04:20.344Z"
   },
   {
    "duration": 39,
    "start_time": "2022-03-09T13:04:21.945Z"
   },
   {
    "duration": 16,
    "start_time": "2022-03-09T13:04:21.992Z"
   },
   {
    "duration": 25,
    "start_time": "2022-03-09T13:04:22.010Z"
   },
   {
    "duration": 7,
    "start_time": "2022-03-09T13:04:22.037Z"
   },
   {
    "duration": 46,
    "start_time": "2022-03-09T13:04:22.046Z"
   },
   {
    "duration": 18,
    "start_time": "2022-03-09T13:04:22.096Z"
   },
   {
    "duration": 27,
    "start_time": "2022-03-09T13:04:22.117Z"
   },
   {
    "duration": 60,
    "start_time": "2022-03-09T13:04:22.146Z"
   },
   {
    "duration": 13,
    "start_time": "2022-03-09T13:04:22.208Z"
   },
   {
    "duration": 10,
    "start_time": "2022-03-09T13:04:22.224Z"
   },
   {
    "duration": 64,
    "start_time": "2022-03-09T13:04:22.237Z"
   },
   {
    "duration": 21,
    "start_time": "2022-03-09T13:04:22.303Z"
   },
   {
    "duration": 8,
    "start_time": "2022-03-09T13:04:22.326Z"
   },
   {
    "duration": 502,
    "start_time": "2022-03-09T13:04:22.337Z"
   },
   {
    "duration": 440,
    "start_time": "2022-03-09T13:04:22.842Z"
   },
   {
    "duration": 440,
    "start_time": "2022-03-09T13:04:23.286Z"
   },
   {
    "duration": 461,
    "start_time": "2022-03-09T13:04:23.728Z"
   },
   {
    "duration": 492,
    "start_time": "2022-03-09T13:04:24.191Z"
   },
   {
    "duration": 487,
    "start_time": "2022-03-09T13:04:24.685Z"
   },
   {
    "duration": 548,
    "start_time": "2022-03-09T13:04:25.182Z"
   },
   {
    "duration": 296,
    "start_time": "2022-03-09T13:04:25.736Z"
   },
   {
    "duration": 229,
    "start_time": "2022-03-09T13:04:26.036Z"
   },
   {
    "duration": 438,
    "start_time": "2022-03-09T13:04:26.268Z"
   },
   {
    "duration": 397,
    "start_time": "2022-03-09T13:04:26.709Z"
   },
   {
    "duration": 8,
    "start_time": "2022-03-09T13:04:27.108Z"
   },
   {
    "duration": 26,
    "start_time": "2022-03-09T13:04:27.118Z"
   },
   {
    "duration": 27,
    "start_time": "2022-03-09T13:04:27.147Z"
   },
   {
    "duration": 409,
    "start_time": "2022-03-09T13:04:27.176Z"
   },
   {
    "duration": 389,
    "start_time": "2022-03-09T13:04:27.588Z"
   },
   {
    "duration": 7,
    "start_time": "2022-03-09T13:04:27.983Z"
   },
   {
    "duration": 12,
    "start_time": "2022-03-09T13:04:27.992Z"
   },
   {
    "duration": 10,
    "start_time": "2022-03-09T13:04:28.006Z"
   },
   {
    "duration": 26,
    "start_time": "2022-03-09T13:04:28.019Z"
   },
   {
    "duration": 48,
    "start_time": "2022-03-09T13:04:28.048Z"
   },
   {
    "duration": 23,
    "start_time": "2022-03-09T13:04:28.098Z"
   },
   {
    "duration": 21,
    "start_time": "2022-03-09T13:04:28.123Z"
   },
   {
    "duration": 51,
    "start_time": "2022-03-09T13:04:28.146Z"
   },
   {
    "duration": 21,
    "start_time": "2022-03-09T13:04:28.199Z"
   },
   {
    "duration": 22,
    "start_time": "2022-03-09T13:04:28.222Z"
   },
   {
    "duration": 55,
    "start_time": "2022-03-09T13:04:28.247Z"
   },
   {
    "duration": 23,
    "start_time": "2022-03-09T13:04:28.305Z"
   },
   {
    "duration": 56,
    "start_time": "2022-03-09T13:04:28.331Z"
   },
   {
    "duration": 12,
    "start_time": "2022-03-09T13:04:28.390Z"
   },
   {
    "duration": 10,
    "start_time": "2022-03-09T13:04:28.405Z"
   },
   {
    "duration": 11,
    "start_time": "2022-03-09T13:04:28.417Z"
   },
   {
    "duration": 8,
    "start_time": "2022-03-09T13:04:28.431Z"
   },
   {
    "duration": 7,
    "start_time": "2022-03-09T13:04:28.441Z"
   },
   {
    "duration": 7,
    "start_time": "2022-03-09T13:04:28.483Z"
   },
   {
    "duration": 8,
    "start_time": "2022-03-09T13:04:28.492Z"
   },
   {
    "duration": 13,
    "start_time": "2022-03-09T13:04:28.502Z"
   },
   {
    "duration": 13,
    "start_time": "2022-03-09T13:04:28.517Z"
   },
   {
    "duration": 4,
    "start_time": "2022-03-09T13:04:28.533Z"
   },
   {
    "duration": 50,
    "start_time": "2022-03-09T13:04:28.539Z"
   },
   {
    "duration": 12,
    "start_time": "2022-03-09T13:04:28.591Z"
   },
   {
    "duration": 31,
    "start_time": "2022-03-09T13:10:12.552Z"
   },
   {
    "duration": 1178,
    "start_time": "2022-03-09T13:55:34.976Z"
   },
   {
    "duration": 15,
    "start_time": "2022-03-09T13:55:36.155Z"
   },
   {
    "duration": 16,
    "start_time": "2022-03-09T13:55:36.171Z"
   },
   {
    "duration": 21,
    "start_time": "2022-03-09T13:55:36.189Z"
   },
   {
    "duration": 5,
    "start_time": "2022-03-09T13:55:36.211Z"
   },
   {
    "duration": 14,
    "start_time": "2022-03-09T13:55:36.218Z"
   },
   {
    "duration": 14,
    "start_time": "2022-03-09T13:55:36.234Z"
   },
   {
    "duration": 17,
    "start_time": "2022-03-09T13:55:36.250Z"
   },
   {
    "duration": 15,
    "start_time": "2022-03-09T13:55:36.269Z"
   },
   {
    "duration": 22,
    "start_time": "2022-03-09T13:55:36.285Z"
   },
   {
    "duration": 8,
    "start_time": "2022-03-09T13:55:36.309Z"
   },
   {
    "duration": 16,
    "start_time": "2022-03-09T13:55:36.319Z"
   },
   {
    "duration": 12,
    "start_time": "2022-03-09T13:55:36.337Z"
   },
   {
    "duration": 4,
    "start_time": "2022-03-09T13:55:36.351Z"
   },
   {
    "duration": 265,
    "start_time": "2022-03-09T13:55:36.356Z"
   },
   {
    "duration": 248,
    "start_time": "2022-03-09T13:55:36.623Z"
   },
   {
    "duration": 240,
    "start_time": "2022-03-09T13:55:36.873Z"
   },
   {
    "duration": 248,
    "start_time": "2022-03-09T13:55:37.114Z"
   },
   {
    "duration": 254,
    "start_time": "2022-03-09T13:55:37.364Z"
   },
   {
    "duration": 258,
    "start_time": "2022-03-09T13:55:37.620Z"
   },
   {
    "duration": 292,
    "start_time": "2022-03-09T13:55:37.879Z"
   },
   {
    "duration": 186,
    "start_time": "2022-03-09T13:55:38.172Z"
   },
   {
    "duration": 130,
    "start_time": "2022-03-09T13:55:38.361Z"
   },
   {
    "duration": 295,
    "start_time": "2022-03-09T13:55:38.493Z"
   },
   {
    "duration": 291,
    "start_time": "2022-03-09T13:55:38.790Z"
   },
   {
    "duration": 5,
    "start_time": "2022-03-09T13:55:39.082Z"
   },
   {
    "duration": 15,
    "start_time": "2022-03-09T13:55:39.088Z"
   },
   {
    "duration": 9,
    "start_time": "2022-03-09T13:55:39.105Z"
   },
   {
    "duration": 272,
    "start_time": "2022-03-09T13:55:39.116Z"
   },
   {
    "duration": 288,
    "start_time": "2022-03-09T13:55:39.389Z"
   },
   {
    "duration": 5,
    "start_time": "2022-03-09T13:55:39.678Z"
   },
   {
    "duration": 32,
    "start_time": "2022-03-09T13:55:39.684Z"
   },
   {
    "duration": 30,
    "start_time": "2022-03-09T13:55:39.717Z"
   },
   {
    "duration": 29,
    "start_time": "2022-03-09T13:55:39.748Z"
   },
   {
    "duration": 25,
    "start_time": "2022-03-09T13:55:39.779Z"
   },
   {
    "duration": 27,
    "start_time": "2022-03-09T13:55:39.805Z"
   },
   {
    "duration": 15,
    "start_time": "2022-03-09T13:55:39.833Z"
   },
   {
    "duration": 13,
    "start_time": "2022-03-09T13:55:39.849Z"
   },
   {
    "duration": 30,
    "start_time": "2022-03-09T13:55:39.863Z"
   },
   {
    "duration": 12,
    "start_time": "2022-03-09T13:55:39.895Z"
   },
   {
    "duration": 29,
    "start_time": "2022-03-09T13:55:39.909Z"
   },
   {
    "duration": 31,
    "start_time": "2022-03-09T13:55:39.939Z"
   },
   {
    "duration": 26,
    "start_time": "2022-03-09T13:55:39.971Z"
   },
   {
    "duration": 28,
    "start_time": "2022-03-09T13:55:39.998Z"
   },
   {
    "duration": 9,
    "start_time": "2022-03-09T13:55:40.028Z"
   },
   {
    "duration": 23,
    "start_time": "2022-03-09T13:55:40.038Z"
   },
   {
    "duration": 34,
    "start_time": "2022-03-09T13:55:40.063Z"
   },
   {
    "duration": 21,
    "start_time": "2022-03-09T13:55:40.098Z"
   },
   {
    "duration": 13,
    "start_time": "2022-03-09T13:55:40.120Z"
   },
   {
    "duration": 27,
    "start_time": "2022-03-09T13:55:40.134Z"
   },
   {
    "duration": 20,
    "start_time": "2022-03-09T13:55:40.163Z"
   },
   {
    "duration": 21,
    "start_time": "2022-03-09T13:55:40.184Z"
   },
   {
    "duration": 15,
    "start_time": "2022-03-09T13:55:40.207Z"
   },
   {
    "duration": 13,
    "start_time": "2022-03-09T13:55:40.224Z"
   },
   {
    "duration": 24,
    "start_time": "2022-03-09T13:55:40.238Z"
   },
   {
    "duration": 36,
    "start_time": "2022-03-09T14:03:33.017Z"
   },
   {
    "duration": 16,
    "start_time": "2022-03-09T14:03:34.940Z"
   },
   {
    "duration": 2,
    "start_time": "2022-03-09T14:03:41.294Z"
   },
   {
    "duration": 88,
    "start_time": "2022-03-09T14:44:42.927Z"
   },
   {
    "duration": 334,
    "start_time": "2022-03-09T14:50:09.572Z"
   },
   {
    "duration": 1086,
    "start_time": "2022-03-09T14:51:05.345Z"
   },
   {
    "duration": 35,
    "start_time": "2022-03-09T14:51:06.433Z"
   },
   {
    "duration": 19,
    "start_time": "2022-03-09T14:51:06.470Z"
   },
   {
    "duration": 19,
    "start_time": "2022-03-09T14:51:06.490Z"
   },
   {
    "duration": 8,
    "start_time": "2022-03-09T14:51:06.510Z"
   },
   {
    "duration": 11,
    "start_time": "2022-03-09T14:51:06.520Z"
   },
   {
    "duration": 4,
    "start_time": "2022-03-09T14:51:06.532Z"
   },
   {
    "duration": 9,
    "start_time": "2022-03-09T14:51:06.539Z"
   },
   {
    "duration": 10,
    "start_time": "2022-03-09T14:51:06.550Z"
   },
   {
    "duration": 16,
    "start_time": "2022-03-09T14:51:06.600Z"
   },
   {
    "duration": 17,
    "start_time": "2022-03-09T14:51:06.618Z"
   },
   {
    "duration": 8,
    "start_time": "2022-03-09T14:51:06.637Z"
   },
   {
    "duration": 9,
    "start_time": "2022-03-09T14:51:06.646Z"
   },
   {
    "duration": 17,
    "start_time": "2022-03-09T14:51:06.657Z"
   },
   {
    "duration": 12,
    "start_time": "2022-03-09T14:51:06.701Z"
   },
   {
    "duration": 3,
    "start_time": "2022-03-09T14:51:06.715Z"
   },
   {
    "duration": 257,
    "start_time": "2022-03-09T14:51:06.719Z"
   },
   {
    "duration": 246,
    "start_time": "2022-03-09T14:51:06.977Z"
   },
   {
    "duration": 239,
    "start_time": "2022-03-09T14:51:07.224Z"
   },
   {
    "duration": 251,
    "start_time": "2022-03-09T14:51:07.464Z"
   },
   {
    "duration": 260,
    "start_time": "2022-03-09T14:51:07.717Z"
   },
   {
    "duration": 266,
    "start_time": "2022-03-09T14:51:07.979Z"
   },
   {
    "duration": 5,
    "start_time": "2022-03-09T14:51:08.249Z"
   },
   {
    "duration": 92,
    "start_time": "2022-03-09T14:51:08.256Z"
   },
   {
    "duration": -1528,
    "start_time": "2022-03-09T14:51:09.878Z"
   },
   {
    "duration": -1571,
    "start_time": "2022-03-09T14:51:09.922Z"
   },
   {
    "duration": -1608,
    "start_time": "2022-03-09T14:51:09.960Z"
   },
   {
    "duration": -1661,
    "start_time": "2022-03-09T14:51:10.014Z"
   },
   {
    "duration": -1732,
    "start_time": "2022-03-09T14:51:10.086Z"
   },
   {
    "duration": -1779,
    "start_time": "2022-03-09T14:51:10.134Z"
   },
   {
    "duration": -1845,
    "start_time": "2022-03-09T14:51:10.201Z"
   },
   {
    "duration": -1885,
    "start_time": "2022-03-09T14:51:10.242Z"
   },
   {
    "duration": -1929,
    "start_time": "2022-03-09T14:51:10.287Z"
   },
   {
    "duration": -1974,
    "start_time": "2022-03-09T14:51:10.333Z"
   },
   {
    "duration": -2025,
    "start_time": "2022-03-09T14:51:10.385Z"
   },
   {
    "duration": -2110,
    "start_time": "2022-03-09T14:51:10.471Z"
   },
   {
    "duration": -2167,
    "start_time": "2022-03-09T14:51:10.529Z"
   },
   {
    "duration": -2213,
    "start_time": "2022-03-09T14:51:10.576Z"
   },
   {
    "duration": -2286,
    "start_time": "2022-03-09T14:51:10.650Z"
   },
   {
    "duration": -2398,
    "start_time": "2022-03-09T14:51:10.763Z"
   },
   {
    "duration": -2441,
    "start_time": "2022-03-09T14:51:10.807Z"
   },
   {
    "duration": -2474,
    "start_time": "2022-03-09T14:51:10.841Z"
   },
   {
    "duration": -2522,
    "start_time": "2022-03-09T14:51:10.890Z"
   },
   {
    "duration": -2557,
    "start_time": "2022-03-09T14:51:10.926Z"
   },
   {
    "duration": -2600,
    "start_time": "2022-03-09T14:51:10.970Z"
   },
   {
    "duration": -2634,
    "start_time": "2022-03-09T14:51:11.005Z"
   },
   {
    "duration": -2669,
    "start_time": "2022-03-09T14:51:11.041Z"
   },
   {
    "duration": -2717,
    "start_time": "2022-03-09T14:51:11.090Z"
   },
   {
    "duration": -2753,
    "start_time": "2022-03-09T14:51:11.127Z"
   },
   {
    "duration": -2797,
    "start_time": "2022-03-09T14:51:11.172Z"
   },
   {
    "duration": -2831,
    "start_time": "2022-03-09T14:51:11.208Z"
   },
   {
    "duration": -2883,
    "start_time": "2022-03-09T14:51:11.261Z"
   },
   {
    "duration": -2929,
    "start_time": "2022-03-09T14:51:11.309Z"
   },
   {
    "duration": -2971,
    "start_time": "2022-03-09T14:51:11.352Z"
   },
   {
    "duration": -3007,
    "start_time": "2022-03-09T14:51:11.390Z"
   },
   {
    "duration": -3042,
    "start_time": "2022-03-09T14:51:11.426Z"
   },
   {
    "duration": -3090,
    "start_time": "2022-03-09T14:51:11.475Z"
   },
   {
    "duration": -3133,
    "start_time": "2022-03-09T14:51:11.520Z"
   },
   {
    "duration": -3167,
    "start_time": "2022-03-09T14:51:11.555Z"
   },
   {
    "duration": 124,
    "start_time": "2022-03-09T14:53:10.654Z"
   },
   {
    "duration": 180,
    "start_time": "2022-03-09T14:53:13.496Z"
   },
   {
    "duration": 296,
    "start_time": "2022-03-09T14:53:37.884Z"
   },
   {
    "duration": 281,
    "start_time": "2022-03-09T14:53:40.205Z"
   },
   {
    "duration": 5,
    "start_time": "2022-03-09T14:53:54.922Z"
   },
   {
    "duration": 5,
    "start_time": "2022-03-09T14:53:56.660Z"
   },
   {
    "duration": 4,
    "start_time": "2022-03-09T14:53:57.317Z"
   },
   {
    "duration": 282,
    "start_time": "2022-03-09T14:54:12.502Z"
   },
   {
    "duration": 264,
    "start_time": "2022-03-09T14:54:18.515Z"
   },
   {
    "duration": 5,
    "start_time": "2022-03-09T14:54:33.907Z"
   },
   {
    "duration": 5,
    "start_time": "2022-03-09T14:54:35.346Z"
   },
   {
    "duration": 5,
    "start_time": "2022-03-09T14:54:36.302Z"
   },
   {
    "duration": 13,
    "start_time": "2022-03-09T14:54:56.227Z"
   },
   {
    "duration": 13,
    "start_time": "2022-03-09T14:55:16.741Z"
   },
   {
    "duration": 12,
    "start_time": "2022-03-09T14:55:34.712Z"
   },
   {
    "duration": 13,
    "start_time": "2022-03-09T14:55:47.944Z"
   },
   {
    "duration": 12,
    "start_time": "2022-03-09T14:55:57.550Z"
   },
   {
    "duration": 12,
    "start_time": "2022-03-09T14:56:06.899Z"
   },
   {
    "duration": 12,
    "start_time": "2022-03-09T14:56:14.277Z"
   },
   {
    "duration": 13,
    "start_time": "2022-03-09T14:56:28.726Z"
   },
   {
    "duration": 13,
    "start_time": "2022-03-09T14:56:34.257Z"
   },
   {
    "duration": 14,
    "start_time": "2022-03-09T14:56:39.997Z"
   },
   {
    "duration": 10,
    "start_time": "2022-03-09T14:57:03.960Z"
   },
   {
    "duration": 9,
    "start_time": "2022-03-09T14:57:12.231Z"
   },
   {
    "duration": 3,
    "start_time": "2022-03-09T14:57:21.244Z"
   },
   {
    "duration": 4,
    "start_time": "2022-03-09T14:57:22.616Z"
   },
   {
    "duration": 3,
    "start_time": "2022-03-09T14:57:23.623Z"
   },
   {
    "duration": 4,
    "start_time": "2022-03-09T14:57:24.408Z"
   },
   {
    "duration": 5,
    "start_time": "2022-03-09T14:57:28.359Z"
   },
   {
    "duration": 5,
    "start_time": "2022-03-09T14:57:51.434Z"
   },
   {
    "duration": 4,
    "start_time": "2022-03-09T14:57:52.538Z"
   },
   {
    "duration": 7,
    "start_time": "2022-03-09T14:58:21.844Z"
   },
   {
    "duration": 4,
    "start_time": "2022-03-09T14:58:25.345Z"
   },
   {
    "duration": 4,
    "start_time": "2022-03-09T14:58:28.677Z"
   },
   {
    "duration": 5,
    "start_time": "2022-03-09T14:58:50.146Z"
   },
   {
    "duration": 4,
    "start_time": "2022-03-09T14:59:32.455Z"
   },
   {
    "duration": 5,
    "start_time": "2022-03-09T15:30:27.108Z"
   },
   {
    "duration": 4,
    "start_time": "2022-03-09T15:30:32.244Z"
   },
   {
    "duration": 2736,
    "start_time": "2022-03-09T15:35:18.743Z"
   },
   {
    "duration": 289,
    "start_time": "2022-03-09T15:36:54.986Z"
   },
   {
    "duration": 26,
    "start_time": "2022-03-09T15:37:01.628Z"
   },
   {
    "duration": 279,
    "start_time": "2022-03-09T15:38:20.776Z"
   },
   {
    "duration": 15,
    "start_time": "2022-03-09T15:38:34.842Z"
   },
   {
    "duration": 15,
    "start_time": "2022-03-09T15:38:44.348Z"
   },
   {
    "duration": 13,
    "start_time": "2022-03-09T15:39:26.410Z"
   },
   {
    "duration": 13,
    "start_time": "2022-03-09T15:40:52.537Z"
   },
   {
    "duration": 11,
    "start_time": "2022-03-09T15:40:56.719Z"
   },
   {
    "duration": 16,
    "start_time": "2022-03-09T15:59:15.658Z"
   },
   {
    "duration": 11,
    "start_time": "2022-03-09T15:59:19.720Z"
   },
   {
    "duration": 14,
    "start_time": "2022-03-09T15:59:22.280Z"
   },
   {
    "duration": 13,
    "start_time": "2022-03-09T15:59:24.106Z"
   },
   {
    "duration": 477,
    "start_time": "2022-03-09T16:08:24.511Z"
   },
   {
    "duration": 243,
    "start_time": "2022-03-09T16:14:47.839Z"
   },
   {
    "duration": 8,
    "start_time": "2022-03-09T16:14:55.353Z"
   },
   {
    "duration": 1122,
    "start_time": "2022-03-09T16:19:00.890Z"
   },
   {
    "duration": 51,
    "start_time": "2022-03-09T16:19:02.014Z"
   },
   {
    "duration": 20,
    "start_time": "2022-03-09T16:19:02.067Z"
   },
   {
    "duration": 15,
    "start_time": "2022-03-09T16:19:02.089Z"
   },
   {
    "duration": 9,
    "start_time": "2022-03-09T16:19:02.106Z"
   },
   {
    "duration": 13,
    "start_time": "2022-03-09T16:19:02.117Z"
   },
   {
    "duration": 6,
    "start_time": "2022-03-09T16:19:02.131Z"
   },
   {
    "duration": 10,
    "start_time": "2022-03-09T16:19:02.139Z"
   },
   {
    "duration": 11,
    "start_time": "2022-03-09T16:19:02.150Z"
   },
   {
    "duration": 49,
    "start_time": "2022-03-09T16:19:02.163Z"
   },
   {
    "duration": 16,
    "start_time": "2022-03-09T16:19:02.214Z"
   },
   {
    "duration": 10,
    "start_time": "2022-03-09T16:19:02.231Z"
   },
   {
    "duration": 5,
    "start_time": "2022-03-09T16:19:02.242Z"
   },
   {
    "duration": 14,
    "start_time": "2022-03-09T16:19:02.249Z"
   },
   {
    "duration": 14,
    "start_time": "2022-03-09T16:19:02.301Z"
   },
   {
    "duration": 4,
    "start_time": "2022-03-09T16:19:02.317Z"
   },
   {
    "duration": 264,
    "start_time": "2022-03-09T16:19:02.323Z"
   },
   {
    "duration": 251,
    "start_time": "2022-03-09T16:19:02.588Z"
   },
   {
    "duration": 261,
    "start_time": "2022-03-09T16:19:02.840Z"
   },
   {
    "duration": 258,
    "start_time": "2022-03-09T16:19:03.103Z"
   },
   {
    "duration": 249,
    "start_time": "2022-03-09T16:19:03.363Z"
   },
   {
    "duration": 264,
    "start_time": "2022-03-09T16:19:03.614Z"
   },
   {
    "duration": 6,
    "start_time": "2022-03-09T16:19:03.882Z"
   },
   {
    "duration": 301,
    "start_time": "2022-03-09T16:19:03.900Z"
   },
   {
    "duration": 187,
    "start_time": "2022-03-09T16:19:04.203Z"
   },
   {
    "duration": 132,
    "start_time": "2022-03-09T16:19:04.392Z"
   },
   {
    "duration": 292,
    "start_time": "2022-03-09T16:19:04.526Z"
   },
   {
    "duration": 276,
    "start_time": "2022-03-09T16:19:04.820Z"
   },
   {
    "duration": 4,
    "start_time": "2022-03-09T16:19:05.102Z"
   },
   {
    "duration": 5,
    "start_time": "2022-03-09T16:19:05.108Z"
   },
   {
    "duration": 5,
    "start_time": "2022-03-09T16:19:05.114Z"
   },
   {
    "duration": 281,
    "start_time": "2022-03-09T16:19:05.120Z"
   },
   {
    "duration": 284,
    "start_time": "2022-03-09T16:19:05.403Z"
   },
   {
    "duration": 4,
    "start_time": "2022-03-09T16:19:05.688Z"
   },
   {
    "duration": 4,
    "start_time": "2022-03-09T16:19:05.701Z"
   },
   {
    "duration": 5,
    "start_time": "2022-03-09T16:19:05.707Z"
   },
   {
    "duration": 12,
    "start_time": "2022-03-09T16:19:05.714Z"
   },
   {
    "duration": 14,
    "start_time": "2022-03-09T16:19:05.728Z"
   },
   {
    "duration": 11,
    "start_time": "2022-03-09T16:19:05.743Z"
   },
   {
    "duration": 11,
    "start_time": "2022-03-09T16:19:05.756Z"
   },
   {
    "duration": 39,
    "start_time": "2022-03-09T16:19:05.769Z"
   },
   {
    "duration": 12,
    "start_time": "2022-03-09T16:19:05.810Z"
   },
   {
    "duration": 12,
    "start_time": "2022-03-09T16:19:05.823Z"
   },
   {
    "duration": 14,
    "start_time": "2022-03-09T16:19:05.837Z"
   },
   {
    "duration": 12,
    "start_time": "2022-03-09T16:19:05.852Z"
   },
   {
    "duration": 43,
    "start_time": "2022-03-09T16:19:05.865Z"
   },
   {
    "duration": 11,
    "start_time": "2022-03-09T16:19:05.910Z"
   },
   {
    "duration": 422,
    "start_time": "2022-03-09T16:19:05.923Z"
   },
   {
    "duration": 8,
    "start_time": "2022-03-09T16:19:06.346Z"
   },
   {
    "duration": 218,
    "start_time": "2022-03-09T16:19:06.356Z"
   },
   {
    "duration": 8,
    "start_time": "2022-03-09T16:19:06.575Z"
   },
   {
    "duration": 16,
    "start_time": "2022-03-09T16:19:06.585Z"
   },
   {
    "duration": 4,
    "start_time": "2022-03-09T16:19:06.603Z"
   },
   {
    "duration": 5,
    "start_time": "2022-03-09T16:19:06.608Z"
   },
   {
    "duration": 6,
    "start_time": "2022-03-09T16:19:06.614Z"
   },
   {
    "duration": 4,
    "start_time": "2022-03-09T16:19:06.622Z"
   },
   {
    "duration": 5,
    "start_time": "2022-03-09T16:19:06.628Z"
   },
   {
    "duration": 12,
    "start_time": "2022-03-09T16:19:06.635Z"
   },
   {
    "duration": 6,
    "start_time": "2022-03-09T16:19:06.648Z"
   },
   {
    "duration": 7,
    "start_time": "2022-03-09T16:19:06.656Z"
   },
   {
    "duration": 11,
    "start_time": "2022-03-09T16:19:06.665Z"
   },
   {
    "duration": 17,
    "start_time": "2022-03-09T16:19:30.602Z"
   },
   {
    "duration": 14,
    "start_time": "2022-03-09T16:19:34.676Z"
   },
   {
    "duration": 15,
    "start_time": "2022-03-09T16:20:31.391Z"
   },
   {
    "duration": 15,
    "start_time": "2022-03-09T16:24:19.258Z"
   },
   {
    "duration": 17,
    "start_time": "2022-03-09T16:24:32.987Z"
   },
   {
    "duration": 13,
    "start_time": "2022-03-09T16:24:37.706Z"
   },
   {
    "duration": 11,
    "start_time": "2022-03-09T16:24:40.268Z"
   },
   {
    "duration": 12,
    "start_time": "2022-03-09T16:24:42.184Z"
   },
   {
    "duration": 1045,
    "start_time": "2022-03-09T16:24:47.793Z"
   },
   {
    "duration": 35,
    "start_time": "2022-03-09T16:24:48.839Z"
   },
   {
    "duration": 20,
    "start_time": "2022-03-09T16:24:48.876Z"
   },
   {
    "duration": 13,
    "start_time": "2022-03-09T16:24:48.902Z"
   },
   {
    "duration": 8,
    "start_time": "2022-03-09T16:24:48.917Z"
   },
   {
    "duration": 11,
    "start_time": "2022-03-09T16:24:48.926Z"
   },
   {
    "duration": 4,
    "start_time": "2022-03-09T16:24:48.938Z"
   },
   {
    "duration": 8,
    "start_time": "2022-03-09T16:24:48.944Z"
   },
   {
    "duration": 10,
    "start_time": "2022-03-09T16:24:48.954Z"
   },
   {
    "duration": 49,
    "start_time": "2022-03-09T16:24:48.965Z"
   },
   {
    "duration": 15,
    "start_time": "2022-03-09T16:24:49.015Z"
   },
   {
    "duration": 8,
    "start_time": "2022-03-09T16:24:49.031Z"
   },
   {
    "duration": 5,
    "start_time": "2022-03-09T16:24:49.041Z"
   },
   {
    "duration": 14,
    "start_time": "2022-03-09T16:24:49.048Z"
   },
   {
    "duration": 40,
    "start_time": "2022-03-09T16:24:49.064Z"
   },
   {
    "duration": 4,
    "start_time": "2022-03-09T16:24:49.105Z"
   },
   {
    "duration": 270,
    "start_time": "2022-03-09T16:24:49.111Z"
   },
   {
    "duration": 257,
    "start_time": "2022-03-09T16:24:49.383Z"
   },
   {
    "duration": 247,
    "start_time": "2022-03-09T16:24:49.641Z"
   },
   {
    "duration": 248,
    "start_time": "2022-03-09T16:24:49.889Z"
   },
   {
    "duration": 249,
    "start_time": "2022-03-09T16:24:50.138Z"
   },
   {
    "duration": 268,
    "start_time": "2022-03-09T16:24:50.388Z"
   },
   {
    "duration": 6,
    "start_time": "2022-03-09T16:24:50.659Z"
   },
   {
    "duration": 302,
    "start_time": "2022-03-09T16:24:50.667Z"
   },
   {
    "duration": 190,
    "start_time": "2022-03-09T16:24:50.970Z"
   },
   {
    "duration": 128,
    "start_time": "2022-03-09T16:24:51.161Z"
   },
   {
    "duration": 317,
    "start_time": "2022-03-09T16:24:51.290Z"
   },
   {
    "duration": 304,
    "start_time": "2022-03-09T16:24:51.609Z"
   },
   {
    "duration": 4,
    "start_time": "2022-03-09T16:24:51.915Z"
   },
   {
    "duration": 6,
    "start_time": "2022-03-09T16:24:51.920Z"
   },
   {
    "duration": 10,
    "start_time": "2022-03-09T16:24:51.927Z"
   },
   {
    "duration": 255,
    "start_time": "2022-03-09T16:24:51.938Z"
   },
   {
    "duration": 281,
    "start_time": "2022-03-09T16:24:52.201Z"
   },
   {
    "duration": 5,
    "start_time": "2022-03-09T16:24:52.483Z"
   },
   {
    "duration": 15,
    "start_time": "2022-03-09T16:24:52.489Z"
   },
   {
    "duration": 5,
    "start_time": "2022-03-09T16:24:52.505Z"
   },
   {
    "duration": 13,
    "start_time": "2022-03-09T16:24:52.512Z"
   },
   {
    "duration": 11,
    "start_time": "2022-03-09T16:24:52.526Z"
   },
   {
    "duration": 12,
    "start_time": "2022-03-09T16:24:52.538Z"
   },
   {
    "duration": 11,
    "start_time": "2022-03-09T16:24:52.552Z"
   },
   {
    "duration": 45,
    "start_time": "2022-03-09T16:24:52.564Z"
   },
   {
    "duration": 12,
    "start_time": "2022-03-09T16:24:52.610Z"
   },
   {
    "duration": 14,
    "start_time": "2022-03-09T16:24:52.623Z"
   },
   {
    "duration": 14,
    "start_time": "2022-03-09T16:24:52.638Z"
   },
   {
    "duration": 13,
    "start_time": "2022-03-09T16:24:52.654Z"
   },
   {
    "duration": 40,
    "start_time": "2022-03-09T16:24:52.669Z"
   },
   {
    "duration": 12,
    "start_time": "2022-03-09T16:24:52.711Z"
   },
   {
    "duration": 483,
    "start_time": "2022-03-09T16:24:52.724Z"
   },
   {
    "duration": 7,
    "start_time": "2022-03-09T16:24:53.209Z"
   },
   {
    "duration": 18,
    "start_time": "2022-03-09T16:24:53.218Z"
   },
   {
    "duration": 7,
    "start_time": "2022-03-09T16:24:53.237Z"
   },
   {
    "duration": 19,
    "start_time": "2022-03-09T16:24:53.246Z"
   },
   {
    "duration": 10,
    "start_time": "2022-03-09T16:24:53.267Z"
   },
   {
    "duration": 14,
    "start_time": "2022-03-09T16:24:53.278Z"
   },
   {
    "duration": 7,
    "start_time": "2022-03-09T16:24:53.294Z"
   },
   {
    "duration": 10,
    "start_time": "2022-03-09T16:24:53.303Z"
   },
   {
    "duration": 20,
    "start_time": "2022-03-09T16:24:53.315Z"
   },
   {
    "duration": 30,
    "start_time": "2022-03-09T16:24:53.336Z"
   },
   {
    "duration": 17,
    "start_time": "2022-03-09T16:24:53.367Z"
   },
   {
    "duration": 18,
    "start_time": "2022-03-09T16:24:53.385Z"
   },
   {
    "duration": 10,
    "start_time": "2022-03-09T16:28:19.644Z"
   },
   {
    "duration": 164,
    "start_time": "2022-03-09T16:28:50.005Z"
   },
   {
    "duration": 10,
    "start_time": "2022-03-09T16:29:07.738Z"
   },
   {
    "duration": 361,
    "start_time": "2022-03-09T16:31:17.860Z"
   },
   {
    "duration": 26516,
    "start_time": "2022-03-09T16:31:34.010Z"
   },
   {
    "duration": 170,
    "start_time": "2022-03-09T16:35:27.849Z"
   },
   {
    "duration": 166,
    "start_time": "2022-03-09T17:04:33.413Z"
   },
   {
    "duration": 274,
    "start_time": "2022-03-09T17:05:49.119Z"
   },
   {
    "duration": 255,
    "start_time": "2022-03-09T17:10:45.881Z"
   },
   {
    "duration": 258,
    "start_time": "2022-03-09T17:11:04.763Z"
   },
   {
    "duration": 252,
    "start_time": "2022-03-09T17:12:47.899Z"
   },
   {
    "duration": 245,
    "start_time": "2022-03-09T17:13:39.670Z"
   },
   {
    "duration": 29869,
    "start_time": "2022-03-09T17:13:49.982Z"
   },
   {
    "duration": 27119,
    "start_time": "2022-03-09T17:14:24.564Z"
   },
   {
    "duration": 1470,
    "start_time": "2022-03-10T08:05:54.268Z"
   },
   {
    "duration": 45,
    "start_time": "2022-03-10T08:05:55.741Z"
   },
   {
    "duration": 33,
    "start_time": "2022-03-10T08:05:55.789Z"
   },
   {
    "duration": 26,
    "start_time": "2022-03-10T08:05:55.825Z"
   },
   {
    "duration": 39,
    "start_time": "2022-03-10T08:05:55.854Z"
   },
   {
    "duration": 20,
    "start_time": "2022-03-10T08:05:55.896Z"
   },
   {
    "duration": 7,
    "start_time": "2022-03-10T08:05:55.919Z"
   },
   {
    "duration": 19,
    "start_time": "2022-03-10T08:05:55.930Z"
   },
   {
    "duration": 45,
    "start_time": "2022-03-10T08:05:55.952Z"
   },
   {
    "duration": 27,
    "start_time": "2022-03-10T08:05:56.000Z"
   },
   {
    "duration": 55,
    "start_time": "2022-03-10T08:05:56.029Z"
   },
   {
    "duration": 15,
    "start_time": "2022-03-10T08:05:56.087Z"
   },
   {
    "duration": 11,
    "start_time": "2022-03-10T08:05:56.105Z"
   },
   {
    "duration": 22,
    "start_time": "2022-03-10T08:05:56.119Z"
   },
   {
    "duration": 54,
    "start_time": "2022-03-10T08:05:56.143Z"
   },
   {
    "duration": 6,
    "start_time": "2022-03-10T08:05:56.199Z"
   },
   {
    "duration": 466,
    "start_time": "2022-03-10T08:05:56.207Z"
   },
   {
    "duration": 423,
    "start_time": "2022-03-10T08:05:56.683Z"
   },
   {
    "duration": 428,
    "start_time": "2022-03-10T08:05:57.109Z"
   },
   {
    "duration": 455,
    "start_time": "2022-03-10T08:05:57.541Z"
   },
   {
    "duration": 464,
    "start_time": "2022-03-10T08:05:58.000Z"
   },
   {
    "duration": 473,
    "start_time": "2022-03-10T08:05:58.467Z"
   },
   {
    "duration": 9,
    "start_time": "2022-03-10T08:05:58.946Z"
   },
   {
    "duration": 546,
    "start_time": "2022-03-10T08:05:58.959Z"
   },
   {
    "duration": 345,
    "start_time": "2022-03-10T08:05:59.508Z"
   },
   {
    "duration": 251,
    "start_time": "2022-03-10T08:05:59.856Z"
   },
   {
    "duration": 441,
    "start_time": "2022-03-10T08:06:00.110Z"
   },
   {
    "duration": 464,
    "start_time": "2022-03-10T08:06:00.554Z"
   },
   {
    "duration": 7,
    "start_time": "2022-03-10T08:06:01.021Z"
   },
   {
    "duration": 32,
    "start_time": "2022-03-10T08:06:01.030Z"
   },
   {
    "duration": 23,
    "start_time": "2022-03-10T08:06:01.065Z"
   },
   {
    "duration": 433,
    "start_time": "2022-03-10T08:06:01.091Z"
   },
   {
    "duration": 495,
    "start_time": "2022-03-10T08:06:01.527Z"
   },
   {
    "duration": 8,
    "start_time": "2022-03-10T08:06:02.024Z"
   },
   {
    "duration": 81,
    "start_time": "2022-03-10T08:06:02.034Z"
   },
   {
    "duration": 26,
    "start_time": "2022-03-10T08:06:02.117Z"
   },
   {
    "duration": 45,
    "start_time": "2022-03-10T08:06:02.146Z"
   },
   {
    "duration": 20,
    "start_time": "2022-03-10T08:06:02.194Z"
   },
   {
    "duration": 36,
    "start_time": "2022-03-10T08:06:02.216Z"
   },
   {
    "duration": 33,
    "start_time": "2022-03-10T08:06:02.255Z"
   },
   {
    "duration": 29,
    "start_time": "2022-03-10T08:06:02.291Z"
   },
   {
    "duration": 28,
    "start_time": "2022-03-10T08:06:02.322Z"
   },
   {
    "duration": 40,
    "start_time": "2022-03-10T08:06:02.353Z"
   },
   {
    "duration": 31,
    "start_time": "2022-03-10T08:06:02.395Z"
   },
   {
    "duration": 22,
    "start_time": "2022-03-10T08:06:02.429Z"
   },
   {
    "duration": 69,
    "start_time": "2022-03-10T08:06:02.454Z"
   },
   {
    "duration": 45,
    "start_time": "2022-03-10T08:06:02.525Z"
   },
   {
    "duration": 36,
    "start_time": "2022-03-10T08:06:02.572Z"
   },
   {
    "duration": 59,
    "start_time": "2022-03-10T08:06:02.612Z"
   },
   {
    "duration": 38,
    "start_time": "2022-03-10T08:06:02.674Z"
   },
   {
    "duration": 26,
    "start_time": "2022-03-10T08:06:02.715Z"
   },
   {
    "duration": 21,
    "start_time": "2022-03-10T08:06:02.744Z"
   },
   {
    "duration": 21,
    "start_time": "2022-03-10T08:06:02.767Z"
   },
   {
    "duration": 47,
    "start_time": "2022-03-10T08:06:02.791Z"
   },
   {
    "duration": 58,
    "start_time": "2022-03-10T08:06:02.840Z"
   },
   {
    "duration": 39,
    "start_time": "2022-03-10T08:06:02.900Z"
   },
   {
    "duration": 18,
    "start_time": "2022-03-10T08:06:02.942Z"
   },
   {
    "duration": 22,
    "start_time": "2022-03-10T08:06:02.962Z"
   },
   {
    "duration": 234,
    "start_time": "2022-03-10T08:06:24.447Z"
   },
   {
    "duration": 32,
    "start_time": "2022-03-10T08:06:29.315Z"
   },
   {
    "duration": 413,
    "start_time": "2022-03-10T08:07:02.033Z"
   },
   {
    "duration": 235,
    "start_time": "2022-03-10T08:07:04.988Z"
   },
   {
    "duration": 7,
    "start_time": "2022-03-10T08:07:06.499Z"
   },
   {
    "duration": 232,
    "start_time": "2022-03-10T08:07:18.422Z"
   },
   {
    "duration": 47,
    "start_time": "2022-05-17T08:55:36.465Z"
   },
   {
    "duration": 1200,
    "start_time": "2022-05-17T08:55:46.075Z"
   },
   {
    "duration": 37,
    "start_time": "2022-05-17T08:55:47.276Z"
   },
   {
    "duration": 23,
    "start_time": "2022-05-17T08:55:47.314Z"
   },
   {
    "duration": 17,
    "start_time": "2022-05-17T08:55:47.339Z"
   },
   {
    "duration": 44,
    "start_time": "2022-05-17T08:55:47.358Z"
   },
   {
    "duration": 15,
    "start_time": "2022-05-17T08:55:47.404Z"
   },
   {
    "duration": 4,
    "start_time": "2022-05-17T08:55:47.421Z"
   },
   {
    "duration": 14,
    "start_time": "2022-05-17T08:55:47.426Z"
   },
   {
    "duration": 16,
    "start_time": "2022-05-17T08:55:47.441Z"
   },
   {
    "duration": 36,
    "start_time": "2022-05-17T08:55:47.459Z"
   },
   {
    "duration": 15,
    "start_time": "2022-05-17T08:55:47.497Z"
   },
   {
    "duration": 9,
    "start_time": "2022-05-17T08:55:47.514Z"
   },
   {
    "duration": 8,
    "start_time": "2022-05-17T08:55:47.525Z"
   },
   {
    "duration": 21,
    "start_time": "2022-05-17T08:55:47.535Z"
   },
   {
    "duration": 39,
    "start_time": "2022-05-17T08:55:47.558Z"
   },
   {
    "duration": 4,
    "start_time": "2022-05-17T08:55:47.599Z"
   },
   {
    "duration": 219,
    "start_time": "2022-05-17T08:55:47.605Z"
   },
   {
    "duration": 189,
    "start_time": "2022-05-17T08:55:47.826Z"
   },
   {
    "duration": 261,
    "start_time": "2022-05-17T08:55:48.016Z"
   },
   {
    "duration": 192,
    "start_time": "2022-05-17T08:55:48.279Z"
   },
   {
    "duration": 200,
    "start_time": "2022-05-17T08:55:48.473Z"
   },
   {
    "duration": 204,
    "start_time": "2022-05-17T08:55:48.675Z"
   },
   {
    "duration": 7,
    "start_time": "2022-05-17T08:55:48.888Z"
   },
   {
    "duration": 321,
    "start_time": "2022-05-17T08:55:48.896Z"
   },
   {
    "duration": 181,
    "start_time": "2022-05-17T08:55:49.218Z"
   },
   {
    "duration": 107,
    "start_time": "2022-05-17T08:55:49.401Z"
   },
   {
    "duration": 153,
    "start_time": "2022-05-17T08:55:49.510Z"
   },
   {
    "duration": 145,
    "start_time": "2022-05-17T08:55:49.666Z"
   },
   {
    "duration": 6,
    "start_time": "2022-05-17T08:55:49.812Z"
   },
   {
    "duration": 11,
    "start_time": "2022-05-17T08:55:49.819Z"
   },
   {
    "duration": 9,
    "start_time": "2022-05-17T08:55:49.831Z"
   },
   {
    "duration": 149,
    "start_time": "2022-05-17T08:55:49.841Z"
   },
   {
    "duration": 151,
    "start_time": "2022-05-17T08:55:49.991Z"
   },
   {
    "duration": 5,
    "start_time": "2022-05-17T08:55:50.143Z"
   },
   {
    "duration": 8,
    "start_time": "2022-05-17T08:55:50.149Z"
   },
   {
    "duration": 11,
    "start_time": "2022-05-17T08:55:50.158Z"
   },
   {
    "duration": 26,
    "start_time": "2022-05-17T08:55:50.171Z"
   },
   {
    "duration": 18,
    "start_time": "2022-05-17T08:55:50.199Z"
   },
   {
    "duration": 17,
    "start_time": "2022-05-17T08:55:50.219Z"
   },
   {
    "duration": 11,
    "start_time": "2022-05-17T08:55:50.237Z"
   },
   {
    "duration": 20,
    "start_time": "2022-05-17T08:55:50.250Z"
   },
   {
    "duration": 24,
    "start_time": "2022-05-17T08:55:50.271Z"
   },
   {
    "duration": 18,
    "start_time": "2022-05-17T08:55:50.297Z"
   },
   {
    "duration": 6,
    "start_time": "2022-05-17T08:55:50.317Z"
   },
   {
    "duration": 17,
    "start_time": "2022-05-17T08:55:50.324Z"
   },
   {
    "duration": 15,
    "start_time": "2022-05-17T08:55:50.342Z"
   },
   {
    "duration": 30,
    "start_time": "2022-05-17T08:55:50.359Z"
   },
   {
    "duration": 119,
    "start_time": "2022-05-17T08:55:50.391Z"
   },
   {
    "duration": 9,
    "start_time": "2022-05-17T08:55:50.512Z"
   },
   {
    "duration": 8,
    "start_time": "2022-05-17T08:55:50.523Z"
   },
   {
    "duration": 9,
    "start_time": "2022-05-17T08:55:50.532Z"
   },
   {
    "duration": 10,
    "start_time": "2022-05-17T08:55:50.542Z"
   },
   {
    "duration": 10,
    "start_time": "2022-05-17T08:55:50.553Z"
   },
   {
    "duration": 10,
    "start_time": "2022-05-17T08:55:50.564Z"
   },
   {
    "duration": 15,
    "start_time": "2022-05-17T08:55:50.575Z"
   },
   {
    "duration": 10,
    "start_time": "2022-05-17T08:55:50.592Z"
   },
   {
    "duration": 6,
    "start_time": "2022-05-17T08:55:50.604Z"
   },
   {
    "duration": 10,
    "start_time": "2022-05-17T08:55:50.611Z"
   },
   {
    "duration": 9,
    "start_time": "2022-05-17T08:55:50.623Z"
   },
   {
    "duration": 17,
    "start_time": "2022-05-17T08:56:23.552Z"
   },
   {
    "duration": 1180,
    "start_time": "2022-05-17T08:57:12.494Z"
   },
   {
    "duration": 38,
    "start_time": "2022-05-17T08:57:13.676Z"
   },
   {
    "duration": 24,
    "start_time": "2022-05-17T08:57:13.716Z"
   },
   {
    "duration": 21,
    "start_time": "2022-05-17T08:57:13.742Z"
   },
   {
    "duration": 32,
    "start_time": "2022-05-17T08:57:13.765Z"
   },
   {
    "duration": 17,
    "start_time": "2022-05-17T08:57:13.799Z"
   },
   {
    "duration": 7,
    "start_time": "2022-05-17T08:57:13.818Z"
   },
   {
    "duration": 9,
    "start_time": "2022-05-17T08:57:13.827Z"
   },
   {
    "duration": 15,
    "start_time": "2022-05-17T08:57:13.837Z"
   },
   {
    "duration": 46,
    "start_time": "2022-05-17T08:57:13.855Z"
   },
   {
    "duration": 16,
    "start_time": "2022-05-17T08:57:13.903Z"
   },
   {
    "duration": 9,
    "start_time": "2022-05-17T08:57:13.920Z"
   },
   {
    "duration": 8,
    "start_time": "2022-05-17T08:57:13.930Z"
   },
   {
    "duration": 16,
    "start_time": "2022-05-17T08:57:13.939Z"
   },
   {
    "duration": 16,
    "start_time": "2022-05-17T08:57:13.989Z"
   },
   {
    "duration": 5,
    "start_time": "2022-05-17T08:57:14.007Z"
   },
   {
    "duration": 223,
    "start_time": "2022-05-17T08:57:14.014Z"
   },
   {
    "duration": 189,
    "start_time": "2022-05-17T08:57:14.238Z"
   },
   {
    "duration": 271,
    "start_time": "2022-05-17T08:57:14.429Z"
   },
   {
    "duration": 196,
    "start_time": "2022-05-17T08:57:14.702Z"
   },
   {
    "duration": 211,
    "start_time": "2022-05-17T08:57:14.900Z"
   },
   {
    "duration": 197,
    "start_time": "2022-05-17T08:57:15.113Z"
   },
   {
    "duration": 6,
    "start_time": "2022-05-17T08:57:15.312Z"
   },
   {
    "duration": 304,
    "start_time": "2022-05-17T08:57:15.320Z"
   },
   {
    "duration": 184,
    "start_time": "2022-05-17T08:57:15.626Z"
   },
   {
    "duration": 110,
    "start_time": "2022-05-17T08:57:15.812Z"
   },
   {
    "duration": 153,
    "start_time": "2022-05-17T08:57:15.924Z"
   },
   {
    "duration": 151,
    "start_time": "2022-05-17T08:57:16.081Z"
   },
   {
    "duration": 5,
    "start_time": "2022-05-17T08:57:16.234Z"
   },
   {
    "duration": 10,
    "start_time": "2022-05-17T08:57:16.240Z"
   },
   {
    "duration": 9,
    "start_time": "2022-05-17T08:57:16.251Z"
   },
   {
    "duration": 162,
    "start_time": "2022-05-17T08:57:16.262Z"
   },
   {
    "duration": 168,
    "start_time": "2022-05-17T08:57:16.425Z"
   },
   {
    "duration": 6,
    "start_time": "2022-05-17T08:57:16.595Z"
   },
   {
    "duration": 27,
    "start_time": "2022-05-17T08:57:16.602Z"
   },
   {
    "duration": 12,
    "start_time": "2022-05-17T08:57:16.630Z"
   },
   {
    "duration": 20,
    "start_time": "2022-05-17T08:57:16.643Z"
   },
   {
    "duration": 13,
    "start_time": "2022-05-17T08:57:16.665Z"
   },
   {
    "duration": 22,
    "start_time": "2022-05-17T08:57:16.679Z"
   },
   {
    "duration": 15,
    "start_time": "2022-05-17T08:57:16.702Z"
   },
   {
    "duration": 13,
    "start_time": "2022-05-17T08:57:16.718Z"
   },
   {
    "duration": 16,
    "start_time": "2022-05-17T08:57:16.733Z"
   },
   {
    "duration": 41,
    "start_time": "2022-05-17T08:57:16.751Z"
   },
   {
    "duration": 28,
    "start_time": "2022-05-17T08:57:16.794Z"
   },
   {
    "duration": 14,
    "start_time": "2022-05-17T08:57:16.824Z"
   },
   {
    "duration": 15,
    "start_time": "2022-05-17T08:57:16.840Z"
   },
   {
    "duration": 43,
    "start_time": "2022-05-17T08:57:16.857Z"
   },
   {
    "duration": 136,
    "start_time": "2022-05-17T08:57:16.902Z"
   },
   {
    "duration": 11,
    "start_time": "2022-05-17T08:57:17.040Z"
   },
   {
    "duration": 11,
    "start_time": "2022-05-17T08:57:17.053Z"
   },
   {
    "duration": 10,
    "start_time": "2022-05-17T08:57:17.066Z"
   },
   {
    "duration": 3,
    "start_time": "2022-05-17T08:57:17.089Z"
   },
   {
    "duration": 7,
    "start_time": "2022-05-17T08:57:17.095Z"
   },
   {
    "duration": 7,
    "start_time": "2022-05-17T08:57:17.103Z"
   },
   {
    "duration": 10,
    "start_time": "2022-05-17T08:57:17.111Z"
   },
   {
    "duration": 10,
    "start_time": "2022-05-17T08:57:17.122Z"
   },
   {
    "duration": 4,
    "start_time": "2022-05-17T08:57:17.133Z"
   },
   {
    "duration": 6,
    "start_time": "2022-05-17T08:57:17.139Z"
   },
   {
    "duration": 41,
    "start_time": "2022-05-17T08:57:17.147Z"
   }
  ],
  "kernelspec": {
   "display_name": "Python 3 (ipykernel)",
   "language": "python",
   "name": "python3"
  },
  "language_info": {
   "codemirror_mode": {
    "name": "ipython",
    "version": 3
   },
   "file_extension": ".py",
   "mimetype": "text/x-python",
   "name": "python",
   "nbconvert_exporter": "python",
   "pygments_lexer": "ipython3",
   "version": "3.9.7"
  },
  "toc": {
   "base_numbering": 1,
   "nav_menu": {},
   "number_sections": true,
   "sideBar": true,
   "skip_h1_title": true,
   "title_cell": "Table of Contents",
   "title_sidebar": "Contents",
   "toc_cell": false,
   "toc_position": {
    "height": "calc(100% - 180px)",
    "left": "10px",
    "top": "150px",
    "width": "273.2px"
   },
   "toc_section_display": true,
   "toc_window_display": false
  }
 },
 "nbformat": 4,
 "nbformat_minor": 2
}
