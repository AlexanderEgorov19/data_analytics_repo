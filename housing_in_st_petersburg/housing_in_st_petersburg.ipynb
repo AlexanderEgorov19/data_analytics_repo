{
 "cells": [
  {
   "cell_type": "markdown",
   "metadata": {},
   "source": [
    "# Исследование объявлений о продаже квартир\n",
    "\n",
    "В нашем распоряжении данные сервиса Яндекс.Недвижимость — архив объявлений о продаже квартир в Санкт-Петербурге и соседних населённых пунктах за несколько лет. Нужно определить рыночную стоимость объектов недвижимости. Задача - установить параметры. Это позволит построить автоматизированную систему: она отследит аномалии и мошенническую деятельность. \n",
    "\n",
    "По каждой квартире на продажу доступны два вида данных. Первые вписаны пользователем, вторые получены автоматически на основе картографических данных. Например, расстояние до центра, аэропорта, ближайшего парка и водоёма. "
   ]
  },
  {
   "cell_type": "markdown",
   "metadata": {
    "toc": true
   },
   "source": [
    "<h1>Содержание<span class=\"tocSkip\"></span></h1>\n",
    "<div class=\"toc\"><ul class=\"toc-item\"><li><span><a href=\"#Изучение-данных-из-файла\" data-toc-modified-id=\"Изучение-данных-из-файла-1\"><span class=\"toc-item-num\">1&nbsp;&nbsp;</span>Изучение данных из файла</a></span><ul class=\"toc-item\"><li><span><a href=\"#Вывод\" data-toc-modified-id=\"Вывод-1.1\"><span class=\"toc-item-num\">1.1&nbsp;&nbsp;</span>Вывод</a></span></li></ul></li><li><span><a href=\"#Предобработка-данных\" data-toc-modified-id=\"Предобработка-данных-2\"><span class=\"toc-item-num\">2&nbsp;&nbsp;</span>Предобработка данных</a></span><ul class=\"toc-item\"><li><span><a href=\"#Заполнение-пропусков\" data-toc-modified-id=\"Заполнение-пропусков-2.1\"><span class=\"toc-item-num\">2.1&nbsp;&nbsp;</span>Заполнение пропусков</a></span></li><li><span><a href=\"#Поиск-и-удаление-дубликатов\" data-toc-modified-id=\"Поиск-и-удаление-дубликатов-2.2\"><span class=\"toc-item-num\">2.2&nbsp;&nbsp;</span>Поиск и удаление дубликатов</a></span></li></ul></li><li><span><a href=\"#Расчёты-и-добавление-результатов-в-таблицу\" data-toc-modified-id=\"Расчёты-и-добавление-результатов-в-таблицу-3\"><span class=\"toc-item-num\">3&nbsp;&nbsp;</span>Расчёты и добавление результатов в таблицу</a></span><ul class=\"toc-item\"><li><span><a href=\"#Нахождение-цены-квадратного-метра\" data-toc-modified-id=\"Нахождение-цены-квадратного-метра-3.1\"><span class=\"toc-item-num\">3.1&nbsp;&nbsp;</span>Нахождение цены квадратного метра</a></span></li><li><span><a href=\"#День-недели,-месяц-и-год-публикации-объявления\" data-toc-modified-id=\"День-недели,-месяц-и-год-публикации-объявления-3.2\"><span class=\"toc-item-num\">3.2&nbsp;&nbsp;</span>День недели, месяц и год публикации объявления</a></span></li><li><span><a href=\"#Этаж-квартиры---первый,-последний,-другой\" data-toc-modified-id=\"Этаж-квартиры---первый,-последний,-другой-3.3\"><span class=\"toc-item-num\">3.3&nbsp;&nbsp;</span>Этаж квартиры - первый, последний, другой</a></span></li><li><span><a href=\"#Соотношение-жилой-и-общей-площади\" data-toc-modified-id=\"Соотношение-жилой-и-общей-площади-3.4\"><span class=\"toc-item-num\">3.4&nbsp;&nbsp;</span>Соотношение жилой и общей площади</a></span></li><li><span><a href=\"#Отношение-площади-кухни-к-общей-площади\" data-toc-modified-id=\"Отношение-площади-кухни-к-общей-площади-3.5\"><span class=\"toc-item-num\">3.5&nbsp;&nbsp;</span>Отношение площади кухни к общей площади</a></span></li></ul></li><li><span><a href=\"#Исследовательский-анализ-данных\" data-toc-modified-id=\"Исследовательский-анализ-данных-4\"><span class=\"toc-item-num\">4&nbsp;&nbsp;</span>Исследовательский анализ данных</a></span><ul class=\"toc-item\"><li><span><a href=\"#Исследование-гистограмм-площади-квартиры,-цены,-количества-комнат-и-высоты-потолков\" data-toc-modified-id=\"Исследование-гистограмм-площади-квартиры,-цены,-количества-комнат-и-высоты-потолков-4.1\"><span class=\"toc-item-num\">4.1&nbsp;&nbsp;</span>Исследование гистограмм площади квартиры, цены, количества комнат и высоты потолков</a></span><ul class=\"toc-item\"><li><span><a href=\"#Площадь-квартиры\" data-toc-modified-id=\"Площадь-квартиры-4.1.1\"><span class=\"toc-item-num\">4.1.1&nbsp;&nbsp;</span>Площадь квартиры</a></span></li><li><span><a href=\"#Время-продажи-квартиры\" data-toc-modified-id=\"Время-продажи-квартиры-4.1.2\"><span class=\"toc-item-num\">4.1.2&nbsp;&nbsp;</span>Время продажи квартиры</a></span></li><li><span><a href=\"#Редкие-и-выбивающиеся-значения\" data-toc-modified-id=\"Редкие-и-выбивающиеся-значения-4.1.3\"><span class=\"toc-item-num\">4.1.3&nbsp;&nbsp;</span>Редкие и выбивающиеся значения</a></span></li></ul></li><li><span><a href=\"#Факторы,-влияющие-на-стоимость-квартиры\" data-toc-modified-id=\"Факторы,-влияющие-на-стоимость-квартиры-4.2\"><span class=\"toc-item-num\">4.2&nbsp;&nbsp;</span>Факторы, влияющие на стоимость квартиры</a></span><ul class=\"toc-item\"><li><span><a href=\"#Зависимость-цены-от-площади\" data-toc-modified-id=\"Зависимость-цены-от-площади-4.2.1\"><span class=\"toc-item-num\">4.2.1&nbsp;&nbsp;</span>Зависимость цены от площади</a></span></li><li><span><a href=\"#Зависимость-цены-от-числа-комнат\" data-toc-modified-id=\"Зависимость-цены-от-числа-комнат-4.2.2\"><span class=\"toc-item-num\">4.2.2&nbsp;&nbsp;</span>Зависимость цены от числа комнат</a></span></li><li><span><a href=\"#Зависимость-цены-от-удаленности-от-центра\" data-toc-modified-id=\"Зависимость-цены-от-удаленности-от-центра-4.2.3\"><span class=\"toc-item-num\">4.2.3&nbsp;&nbsp;</span>Зависимость цены от удаленности от центра</a></span></li><li><span><a href=\"#Зависимость-цены-от-этажа,-на-котором-расположена-квартира\" data-toc-modified-id=\"Зависимость-цены-от-этажа,-на-котором-расположена-квартира-4.2.4\"><span class=\"toc-item-num\">4.2.4&nbsp;&nbsp;</span>Зависимость цены от этажа, на котором расположена квартира</a></span></li><li><span><a href=\"#Зависимость-цены-квартиры-от-даты-размещения\" data-toc-modified-id=\"Зависимость-цены-квартиры-от-даты-размещения-4.2.5\"><span class=\"toc-item-num\">4.2.5&nbsp;&nbsp;</span>Зависимость цены квартиры от даты размещения</a></span><ul class=\"toc-item\"><li><span><a href=\"#По-дню-недели\" data-toc-modified-id=\"По-дню-недели-4.2.5.1\"><span class=\"toc-item-num\">4.2.5.1&nbsp;&nbsp;</span>По дню недели</a></span></li><li><span><a href=\"#По-месяцу\" data-toc-modified-id=\"По-месяцу-4.2.5.2\"><span class=\"toc-item-num\">4.2.5.2&nbsp;&nbsp;</span>По месяцу</a></span></li><li><span><a href=\"#По-году\" data-toc-modified-id=\"По-году-4.2.5.3\"><span class=\"toc-item-num\">4.2.5.3&nbsp;&nbsp;</span>По году</a></span></li></ul></li></ul></li><li><span><a href=\"#10-городов-с-наибольшим-числом-объявлений\" data-toc-modified-id=\"10-городов-с-наибольшим-числом-объявлений-4.3\"><span class=\"toc-item-num\">4.3&nbsp;&nbsp;</span>10 городов с наибольшим числом объявлений</a></span></li><li><span><a href=\"#Квартиры-в-Санкт-Петербурге\" data-toc-modified-id=\"Квартиры-в-Санкт-Петербурге-4.4\"><span class=\"toc-item-num\">4.4&nbsp;&nbsp;</span>Квартиры в Санкт-Петербурге</a></span></li><li><span><a href=\"#Квартиры-в-центре\" data-toc-modified-id=\"Квартиры-в-центре-4.5\"><span class=\"toc-item-num\">4.5&nbsp;&nbsp;</span>Квартиры в центре</a></span><ul class=\"toc-item\"><li><span><a href=\"#Изучаем-параметры\" data-toc-modified-id=\"Изучаем-параметры-4.5.1\"><span class=\"toc-item-num\">4.5.1&nbsp;&nbsp;</span>Изучаем параметры</a></span></li><li><span><a href=\"#Зависимость-цены-от-числа-комнат\" data-toc-modified-id=\"Зависимость-цены-от-числа-комнат-4.5.2\"><span class=\"toc-item-num\">4.5.2&nbsp;&nbsp;</span>Зависимость цены от числа комнат</a></span></li><li><span><a href=\"#Зависимость-цены-от-этажа\" data-toc-modified-id=\"Зависимость-цены-от-этажа-4.5.3\"><span class=\"toc-item-num\">4.5.3&nbsp;&nbsp;</span>Зависимость цены от этажа</a></span></li><li><span><a href=\"#Зависимость-цены-от-удаленности-от-центра\" data-toc-modified-id=\"Зависимость-цены-от-удаленности-от-центра-4.5.4\"><span class=\"toc-item-num\">4.5.4&nbsp;&nbsp;</span>Зависимость цены от удаленности от центра</a></span></li><li><span><a href=\"#Зависимость-цены-от-даты-размещения-объявления\" data-toc-modified-id=\"Зависимость-цены-от-даты-размещения-объявления-4.5.5\"><span class=\"toc-item-num\">4.5.5&nbsp;&nbsp;</span>Зависимость цены от даты размещения объявления</a></span><ul class=\"toc-item\"><li><span><a href=\"#По-дню-недели\" data-toc-modified-id=\"По-дню-недели-4.5.5.1\"><span class=\"toc-item-num\">4.5.5.1&nbsp;&nbsp;</span>По дню недели</a></span></li><li><span><a href=\"#По-месяцу\" data-toc-modified-id=\"По-месяцу-4.5.5.2\"><span class=\"toc-item-num\">4.5.5.2&nbsp;&nbsp;</span>По месяцу</a></span></li><li><span><a href=\"#По-году\" data-toc-modified-id=\"По-году-4.5.5.3\"><span class=\"toc-item-num\">4.5.5.3&nbsp;&nbsp;</span>По году</a></span></li></ul></li></ul></li></ul></li><li><span><a href=\"#Общий-вывод\" data-toc-modified-id=\"Общий-вывод-5\"><span class=\"toc-item-num\">5&nbsp;&nbsp;</span>Общий вывод</a></span></li></ul></div>"
   ]
  },
  {
   "cell_type": "markdown",
   "metadata": {},
   "source": [
    "## Изучение данных из файла"
   ]
  },
  {
   "cell_type": "code",
   "execution_count": 1,
   "metadata": {
    "scrolled": true
   },
   "outputs": [
    {
     "data": {
      "text/html": [
       "<div>\n",
       "<style scoped>\n",
       "    .dataframe tbody tr th:only-of-type {\n",
       "        vertical-align: middle;\n",
       "    }\n",
       "\n",
       "    .dataframe tbody tr th {\n",
       "        vertical-align: top;\n",
       "    }\n",
       "\n",
       "    .dataframe thead th {\n",
       "        text-align: right;\n",
       "    }\n",
       "</style>\n",
       "<table border=\"1\" class=\"dataframe\">\n",
       "  <thead>\n",
       "    <tr style=\"text-align: right;\">\n",
       "      <th></th>\n",
       "      <th>total_images</th>\n",
       "      <th>last_price</th>\n",
       "      <th>total_area</th>\n",
       "      <th>first_day_exposition</th>\n",
       "      <th>rooms</th>\n",
       "      <th>ceiling_height</th>\n",
       "      <th>floors_total</th>\n",
       "      <th>living_area</th>\n",
       "      <th>floor</th>\n",
       "      <th>is_apartment</th>\n",
       "      <th>...</th>\n",
       "      <th>kitchen_area</th>\n",
       "      <th>balcony</th>\n",
       "      <th>locality_name</th>\n",
       "      <th>airports_nearest</th>\n",
       "      <th>cityCenters_nearest</th>\n",
       "      <th>parks_around3000</th>\n",
       "      <th>parks_nearest</th>\n",
       "      <th>ponds_around3000</th>\n",
       "      <th>ponds_nearest</th>\n",
       "      <th>days_exposition</th>\n",
       "    </tr>\n",
       "  </thead>\n",
       "  <tbody>\n",
       "    <tr>\n",
       "      <th>0</th>\n",
       "      <td>20</td>\n",
       "      <td>13000000.0</td>\n",
       "      <td>108.00</td>\n",
       "      <td>2019-03-07T00:00:00</td>\n",
       "      <td>3</td>\n",
       "      <td>2.70</td>\n",
       "      <td>16.0</td>\n",
       "      <td>51.0</td>\n",
       "      <td>8</td>\n",
       "      <td>NaN</td>\n",
       "      <td>...</td>\n",
       "      <td>25.00</td>\n",
       "      <td>NaN</td>\n",
       "      <td>Санкт-Петербург</td>\n",
       "      <td>18863.0</td>\n",
       "      <td>16028.0</td>\n",
       "      <td>1.0</td>\n",
       "      <td>482.0</td>\n",
       "      <td>2.0</td>\n",
       "      <td>755.0</td>\n",
       "      <td>NaN</td>\n",
       "    </tr>\n",
       "    <tr>\n",
       "      <th>1</th>\n",
       "      <td>7</td>\n",
       "      <td>3350000.0</td>\n",
       "      <td>40.40</td>\n",
       "      <td>2018-12-04T00:00:00</td>\n",
       "      <td>1</td>\n",
       "      <td>NaN</td>\n",
       "      <td>11.0</td>\n",
       "      <td>18.6</td>\n",
       "      <td>1</td>\n",
       "      <td>NaN</td>\n",
       "      <td>...</td>\n",
       "      <td>11.00</td>\n",
       "      <td>2.0</td>\n",
       "      <td>посёлок Шушары</td>\n",
       "      <td>12817.0</td>\n",
       "      <td>18603.0</td>\n",
       "      <td>0.0</td>\n",
       "      <td>NaN</td>\n",
       "      <td>0.0</td>\n",
       "      <td>NaN</td>\n",
       "      <td>81.0</td>\n",
       "    </tr>\n",
       "    <tr>\n",
       "      <th>2</th>\n",
       "      <td>10</td>\n",
       "      <td>5196000.0</td>\n",
       "      <td>56.00</td>\n",
       "      <td>2015-08-20T00:00:00</td>\n",
       "      <td>2</td>\n",
       "      <td>NaN</td>\n",
       "      <td>5.0</td>\n",
       "      <td>34.3</td>\n",
       "      <td>4</td>\n",
       "      <td>NaN</td>\n",
       "      <td>...</td>\n",
       "      <td>8.30</td>\n",
       "      <td>0.0</td>\n",
       "      <td>Санкт-Петербург</td>\n",
       "      <td>21741.0</td>\n",
       "      <td>13933.0</td>\n",
       "      <td>1.0</td>\n",
       "      <td>90.0</td>\n",
       "      <td>2.0</td>\n",
       "      <td>574.0</td>\n",
       "      <td>558.0</td>\n",
       "    </tr>\n",
       "    <tr>\n",
       "      <th>3</th>\n",
       "      <td>0</td>\n",
       "      <td>64900000.0</td>\n",
       "      <td>159.00</td>\n",
       "      <td>2015-07-24T00:00:00</td>\n",
       "      <td>3</td>\n",
       "      <td>NaN</td>\n",
       "      <td>14.0</td>\n",
       "      <td>NaN</td>\n",
       "      <td>9</td>\n",
       "      <td>NaN</td>\n",
       "      <td>...</td>\n",
       "      <td>NaN</td>\n",
       "      <td>0.0</td>\n",
       "      <td>Санкт-Петербург</td>\n",
       "      <td>28098.0</td>\n",
       "      <td>6800.0</td>\n",
       "      <td>2.0</td>\n",
       "      <td>84.0</td>\n",
       "      <td>3.0</td>\n",
       "      <td>234.0</td>\n",
       "      <td>424.0</td>\n",
       "    </tr>\n",
       "    <tr>\n",
       "      <th>4</th>\n",
       "      <td>2</td>\n",
       "      <td>10000000.0</td>\n",
       "      <td>100.00</td>\n",
       "      <td>2018-06-19T00:00:00</td>\n",
       "      <td>2</td>\n",
       "      <td>3.03</td>\n",
       "      <td>14.0</td>\n",
       "      <td>32.0</td>\n",
       "      <td>13</td>\n",
       "      <td>NaN</td>\n",
       "      <td>...</td>\n",
       "      <td>41.00</td>\n",
       "      <td>NaN</td>\n",
       "      <td>Санкт-Петербург</td>\n",
       "      <td>31856.0</td>\n",
       "      <td>8098.0</td>\n",
       "      <td>2.0</td>\n",
       "      <td>112.0</td>\n",
       "      <td>1.0</td>\n",
       "      <td>48.0</td>\n",
       "      <td>121.0</td>\n",
       "    </tr>\n",
       "    <tr>\n",
       "      <th>...</th>\n",
       "      <td>...</td>\n",
       "      <td>...</td>\n",
       "      <td>...</td>\n",
       "      <td>...</td>\n",
       "      <td>...</td>\n",
       "      <td>...</td>\n",
       "      <td>...</td>\n",
       "      <td>...</td>\n",
       "      <td>...</td>\n",
       "      <td>...</td>\n",
       "      <td>...</td>\n",
       "      <td>...</td>\n",
       "      <td>...</td>\n",
       "      <td>...</td>\n",
       "      <td>...</td>\n",
       "      <td>...</td>\n",
       "      <td>...</td>\n",
       "      <td>...</td>\n",
       "      <td>...</td>\n",
       "      <td>...</td>\n",
       "      <td>...</td>\n",
       "    </tr>\n",
       "    <tr>\n",
       "      <th>23694</th>\n",
       "      <td>9</td>\n",
       "      <td>9700000.0</td>\n",
       "      <td>133.81</td>\n",
       "      <td>2017-03-21T00:00:00</td>\n",
       "      <td>3</td>\n",
       "      <td>3.70</td>\n",
       "      <td>5.0</td>\n",
       "      <td>73.3</td>\n",
       "      <td>3</td>\n",
       "      <td>NaN</td>\n",
       "      <td>...</td>\n",
       "      <td>13.83</td>\n",
       "      <td>NaN</td>\n",
       "      <td>Санкт-Петербург</td>\n",
       "      <td>24665.0</td>\n",
       "      <td>4232.0</td>\n",
       "      <td>1.0</td>\n",
       "      <td>796.0</td>\n",
       "      <td>3.0</td>\n",
       "      <td>381.0</td>\n",
       "      <td>NaN</td>\n",
       "    </tr>\n",
       "    <tr>\n",
       "      <th>23695</th>\n",
       "      <td>14</td>\n",
       "      <td>3100000.0</td>\n",
       "      <td>59.00</td>\n",
       "      <td>2018-01-15T00:00:00</td>\n",
       "      <td>3</td>\n",
       "      <td>NaN</td>\n",
       "      <td>5.0</td>\n",
       "      <td>38.0</td>\n",
       "      <td>4</td>\n",
       "      <td>NaN</td>\n",
       "      <td>...</td>\n",
       "      <td>8.50</td>\n",
       "      <td>NaN</td>\n",
       "      <td>Тосно</td>\n",
       "      <td>NaN</td>\n",
       "      <td>NaN</td>\n",
       "      <td>NaN</td>\n",
       "      <td>NaN</td>\n",
       "      <td>NaN</td>\n",
       "      <td>NaN</td>\n",
       "      <td>45.0</td>\n",
       "    </tr>\n",
       "    <tr>\n",
       "      <th>23696</th>\n",
       "      <td>18</td>\n",
       "      <td>2500000.0</td>\n",
       "      <td>56.70</td>\n",
       "      <td>2018-02-11T00:00:00</td>\n",
       "      <td>2</td>\n",
       "      <td>NaN</td>\n",
       "      <td>3.0</td>\n",
       "      <td>29.7</td>\n",
       "      <td>1</td>\n",
       "      <td>NaN</td>\n",
       "      <td>...</td>\n",
       "      <td>NaN</td>\n",
       "      <td>NaN</td>\n",
       "      <td>село Рождествено</td>\n",
       "      <td>NaN</td>\n",
       "      <td>NaN</td>\n",
       "      <td>NaN</td>\n",
       "      <td>NaN</td>\n",
       "      <td>NaN</td>\n",
       "      <td>NaN</td>\n",
       "      <td>NaN</td>\n",
       "    </tr>\n",
       "    <tr>\n",
       "      <th>23697</th>\n",
       "      <td>13</td>\n",
       "      <td>11475000.0</td>\n",
       "      <td>76.75</td>\n",
       "      <td>2017-03-28T00:00:00</td>\n",
       "      <td>2</td>\n",
       "      <td>3.00</td>\n",
       "      <td>17.0</td>\n",
       "      <td>NaN</td>\n",
       "      <td>12</td>\n",
       "      <td>NaN</td>\n",
       "      <td>...</td>\n",
       "      <td>23.30</td>\n",
       "      <td>2.0</td>\n",
       "      <td>Санкт-Петербург</td>\n",
       "      <td>39140.0</td>\n",
       "      <td>10364.0</td>\n",
       "      <td>2.0</td>\n",
       "      <td>173.0</td>\n",
       "      <td>3.0</td>\n",
       "      <td>196.0</td>\n",
       "      <td>602.0</td>\n",
       "    </tr>\n",
       "    <tr>\n",
       "      <th>23698</th>\n",
       "      <td>4</td>\n",
       "      <td>1350000.0</td>\n",
       "      <td>32.30</td>\n",
       "      <td>2017-07-21T00:00:00</td>\n",
       "      <td>1</td>\n",
       "      <td>2.50</td>\n",
       "      <td>5.0</td>\n",
       "      <td>12.3</td>\n",
       "      <td>1</td>\n",
       "      <td>NaN</td>\n",
       "      <td>...</td>\n",
       "      <td>9.00</td>\n",
       "      <td>NaN</td>\n",
       "      <td>поселок Новый Учхоз</td>\n",
       "      <td>NaN</td>\n",
       "      <td>NaN</td>\n",
       "      <td>NaN</td>\n",
       "      <td>NaN</td>\n",
       "      <td>NaN</td>\n",
       "      <td>NaN</td>\n",
       "      <td>NaN</td>\n",
       "    </tr>\n",
       "  </tbody>\n",
       "</table>\n",
       "<p>23699 rows × 22 columns</p>\n",
       "</div>"
      ],
      "text/plain": [
       "       total_images  last_price  total_area first_day_exposition  rooms  \\\n",
       "0                20  13000000.0      108.00  2019-03-07T00:00:00      3   \n",
       "1                 7   3350000.0       40.40  2018-12-04T00:00:00      1   \n",
       "2                10   5196000.0       56.00  2015-08-20T00:00:00      2   \n",
       "3                 0  64900000.0      159.00  2015-07-24T00:00:00      3   \n",
       "4                 2  10000000.0      100.00  2018-06-19T00:00:00      2   \n",
       "...             ...         ...         ...                  ...    ...   \n",
       "23694             9   9700000.0      133.81  2017-03-21T00:00:00      3   \n",
       "23695            14   3100000.0       59.00  2018-01-15T00:00:00      3   \n",
       "23696            18   2500000.0       56.70  2018-02-11T00:00:00      2   \n",
       "23697            13  11475000.0       76.75  2017-03-28T00:00:00      2   \n",
       "23698             4   1350000.0       32.30  2017-07-21T00:00:00      1   \n",
       "\n",
       "       ceiling_height  floors_total  living_area  floor is_apartment  ...  \\\n",
       "0                2.70          16.0         51.0      8          NaN  ...   \n",
       "1                 NaN          11.0         18.6      1          NaN  ...   \n",
       "2                 NaN           5.0         34.3      4          NaN  ...   \n",
       "3                 NaN          14.0          NaN      9          NaN  ...   \n",
       "4                3.03          14.0         32.0     13          NaN  ...   \n",
       "...               ...           ...          ...    ...          ...  ...   \n",
       "23694            3.70           5.0         73.3      3          NaN  ...   \n",
       "23695             NaN           5.0         38.0      4          NaN  ...   \n",
       "23696             NaN           3.0         29.7      1          NaN  ...   \n",
       "23697            3.00          17.0          NaN     12          NaN  ...   \n",
       "23698            2.50           5.0         12.3      1          NaN  ...   \n",
       "\n",
       "       kitchen_area  balcony        locality_name  airports_nearest  \\\n",
       "0             25.00      NaN      Санкт-Петербург           18863.0   \n",
       "1             11.00      2.0       посёлок Шушары           12817.0   \n",
       "2              8.30      0.0      Санкт-Петербург           21741.0   \n",
       "3               NaN      0.0      Санкт-Петербург           28098.0   \n",
       "4             41.00      NaN      Санкт-Петербург           31856.0   \n",
       "...             ...      ...                  ...               ...   \n",
       "23694         13.83      NaN      Санкт-Петербург           24665.0   \n",
       "23695          8.50      NaN                Тосно               NaN   \n",
       "23696           NaN      NaN     село Рождествено               NaN   \n",
       "23697         23.30      2.0      Санкт-Петербург           39140.0   \n",
       "23698          9.00      NaN  поселок Новый Учхоз               NaN   \n",
       "\n",
       "      cityCenters_nearest  parks_around3000  parks_nearest  ponds_around3000  \\\n",
       "0                 16028.0               1.0          482.0               2.0   \n",
       "1                 18603.0               0.0            NaN               0.0   \n",
       "2                 13933.0               1.0           90.0               2.0   \n",
       "3                  6800.0               2.0           84.0               3.0   \n",
       "4                  8098.0               2.0          112.0               1.0   \n",
       "...                   ...               ...            ...               ...   \n",
       "23694              4232.0               1.0          796.0               3.0   \n",
       "23695                 NaN               NaN            NaN               NaN   \n",
       "23696                 NaN               NaN            NaN               NaN   \n",
       "23697             10364.0               2.0          173.0               3.0   \n",
       "23698                 NaN               NaN            NaN               NaN   \n",
       "\n",
       "       ponds_nearest  days_exposition  \n",
       "0              755.0              NaN  \n",
       "1                NaN             81.0  \n",
       "2              574.0            558.0  \n",
       "3              234.0            424.0  \n",
       "4               48.0            121.0  \n",
       "...              ...              ...  \n",
       "23694          381.0              NaN  \n",
       "23695            NaN             45.0  \n",
       "23696            NaN              NaN  \n",
       "23697          196.0            602.0  \n",
       "23698            NaN              NaN  \n",
       "\n",
       "[23699 rows x 22 columns]"
      ]
     },
     "execution_count": 1,
     "metadata": {},
     "output_type": "execute_result"
    }
   ],
   "source": [
    "import pandas as pd\n",
    "import matplotlib.pyplot as plt\n",
    "import seaborn as sns\n",
    "import numpy as np\n",
    "\n",
    "df = pd.read_csv('/datasets/real_estate_data.csv', sep='\\t')\n",
    "df\n"
   ]
  },
  {
   "cell_type": "markdown",
   "metadata": {},
   "source": [
    "### Вывод"
   ]
  },
  {
   "cell_type": "markdown",
   "metadata": {},
   "source": [
    "В датафрейме очень много пропусков"
   ]
  },
  {
   "cell_type": "markdown",
   "metadata": {},
   "source": [
    "## Предобработка данных"
   ]
  },
  {
   "cell_type": "code",
   "execution_count": 2,
   "metadata": {},
   "outputs": [
    {
     "name": "stdout",
     "output_type": "stream",
     "text": [
      "<class 'pandas.core.frame.DataFrame'>\n",
      "RangeIndex: 23699 entries, 0 to 23698\n",
      "Data columns (total 22 columns):\n",
      " #   Column                Non-Null Count  Dtype  \n",
      "---  ------                --------------  -----  \n",
      " 0   total_images          23699 non-null  int64  \n",
      " 1   last_price            23699 non-null  float64\n",
      " 2   total_area            23699 non-null  float64\n",
      " 3   first_day_exposition  23699 non-null  object \n",
      " 4   rooms                 23699 non-null  int64  \n",
      " 5   ceiling_height        14504 non-null  float64\n",
      " 6   floors_total          23613 non-null  float64\n",
      " 7   living_area           21796 non-null  float64\n",
      " 8   floor                 23699 non-null  int64  \n",
      " 9   is_apartment          2775 non-null   object \n",
      " 10  studio                23699 non-null  bool   \n",
      " 11  open_plan             23699 non-null  bool   \n",
      " 12  kitchen_area          21421 non-null  float64\n",
      " 13  balcony               12180 non-null  float64\n",
      " 14  locality_name         23650 non-null  object \n",
      " 15  airports_nearest      18157 non-null  float64\n",
      " 16  cityCenters_nearest   18180 non-null  float64\n",
      " 17  parks_around3000      18181 non-null  float64\n",
      " 18  parks_nearest         8079 non-null   float64\n",
      " 19  ponds_around3000      18181 non-null  float64\n",
      " 20  ponds_nearest         9110 non-null   float64\n",
      " 21  days_exposition       20518 non-null  float64\n",
      "dtypes: bool(2), float64(14), int64(3), object(3)\n",
      "memory usage: 3.7+ MB\n"
     ]
    }
   ],
   "source": [
    "df.info()"
   ]
  },
  {
   "cell_type": "markdown",
   "metadata": {},
   "source": [
    "### Заполнение пропусков"
   ]
  },
  {
   "cell_type": "code",
   "execution_count": 3,
   "metadata": {},
   "outputs": [
    {
     "data": {
      "text/plain": [
       "total_images                0\n",
       "last_price                  0\n",
       "total_area                  0\n",
       "first_day_exposition        0\n",
       "rooms                       0\n",
       "ceiling_height           9195\n",
       "floors_total               86\n",
       "living_area              1903\n",
       "floor                       0\n",
       "is_apartment            20924\n",
       "studio                      0\n",
       "open_plan                   0\n",
       "kitchen_area             2278\n",
       "balcony                 11519\n",
       "locality_name              49\n",
       "airports_nearest         5542\n",
       "cityCenters_nearest      5519\n",
       "parks_around3000         5518\n",
       "parks_nearest           15620\n",
       "ponds_around3000         5518\n",
       "ponds_nearest           14589\n",
       "days_exposition          3181\n",
       "dtype: int64"
      ]
     },
     "execution_count": 3,
     "metadata": {},
     "output_type": "execute_result"
    }
   ],
   "source": [
    "df.isna().sum()"
   ]
  },
  {
   "cell_type": "markdown",
   "metadata": {},
   "source": [
    "1. Пропуски в столбце ceiling_height (высота потолков) можно оставить, поскольку высота не может быть 0.\n",
    "2. floors_total (этаж) имеет не так много пропусков, которые связаны скорее всего с тем, что это частные дома, и владельцы просто не заполнили данный столбец. Можно заменить их на 0.\n",
    "3. Столбец living_area (жилая площадь) очень важен, поэтому пропуски в нем нельзя заменять на 0 (это сильно повредит расчетам), необходимо оставить их как есть.\n",
    "4. Столбец is_apartment (апартаменты) имеет больше всего пропусков. К тому же, это булев тип данных, так что лучше оставить их как есть. Можно предположить, что появились они в результате того, что некоторые люди не поняли, что у них спрашивают. Квартира или дом, это понятно, а апартаменты - это не по-нашему как-то.\n",
    "5. Со столбцом kitchen_area (площадь кухни) поступаем также, как и с жилой площадью.\n",
    "6. Пропуски в столбце balcony (балкон) могли появиться из-за того, что балкон попросту отсутствует. Пропуски можно заменить на 0, но еще надо изменить тип данных с вещественных на числовые.\n",
    "7. Пропуски в столбце locality_name (название населенного пункта) никуда не убрать, лучше просто их оставить.\n",
    "8. В оставшихся столбцах можно не заменять пропущенные значения на 0, а также не удалять их, чтобы нули не привели к сбою в результатах."
   ]
  },
  {
   "cell_type": "code",
   "execution_count": 4,
   "metadata": {},
   "outputs": [
    {
     "name": "stdout",
     "output_type": "stream",
     "text": [
      "<class 'pandas.core.frame.DataFrame'>\n",
      "RangeIndex: 23699 entries, 0 to 23698\n",
      "Data columns (total 22 columns):\n",
      " #   Column                Non-Null Count  Dtype  \n",
      "---  ------                --------------  -----  \n",
      " 0   total_images          23699 non-null  int64  \n",
      " 1   last_price            23699 non-null  float64\n",
      " 2   total_area            23699 non-null  float64\n",
      " 3   first_day_exposition  23699 non-null  object \n",
      " 4   rooms                 23699 non-null  int64  \n",
      " 5   ceiling_height        14504 non-null  float64\n",
      " 6   floors_total          23613 non-null  float64\n",
      " 7   living_area           21796 non-null  float64\n",
      " 8   floor                 23699 non-null  int64  \n",
      " 9   is_apartment          2775 non-null   object \n",
      " 10  studio                23699 non-null  bool   \n",
      " 11  open_plan             23699 non-null  bool   \n",
      " 12  kitchen_area          21421 non-null  float64\n",
      " 13  balcony               23699 non-null  Int64  \n",
      " 14  locality_name         23650 non-null  object \n",
      " 15  airports_nearest      18157 non-null  float64\n",
      " 16  cityCenters_nearest   18180 non-null  float64\n",
      " 17  parks_around3000      18181 non-null  float64\n",
      " 18  parks_nearest         8079 non-null   float64\n",
      " 19  ponds_around3000      18181 non-null  float64\n",
      " 20  ponds_nearest         9110 non-null   float64\n",
      " 21  days_exposition       20518 non-null  float64\n",
      "dtypes: Int64(1), bool(2), float64(13), int64(3), object(3)\n",
      "memory usage: 3.7+ MB\n"
     ]
    }
   ],
   "source": [
    "df['balcony'] = df['balcony'].astype('Int64')\n",
    "df['balcony'] = df['balcony'].fillna(0)\n",
    "df.info()"
   ]
  },
  {
   "cell_type": "code",
   "execution_count": 5,
   "metadata": {},
   "outputs": [],
   "source": [
    "df['floors_total'] = df['floors_total'].astype('Int64')\n",
    "df['floors_total'] = df['floors_total'].fillna(1)"
   ]
  },
  {
   "cell_type": "markdown",
   "metadata": {},
   "source": [
    "### Поиск и удаление дубликатов"
   ]
  },
  {
   "cell_type": "code",
   "execution_count": 6,
   "metadata": {},
   "outputs": [
    {
     "data": {
      "text/plain": [
       "0"
      ]
     },
     "execution_count": 6,
     "metadata": {},
     "output_type": "execute_result"
    }
   ],
   "source": [
    "df.duplicated().sum()"
   ]
  },
  {
   "cell_type": "markdown",
   "metadata": {},
   "source": [
    "Дубликаты не обнаружены"
   ]
  },
  {
   "cell_type": "markdown",
   "metadata": {},
   "source": [
    "## Расчёты и добавление результатов в таблицу"
   ]
  },
  {
   "cell_type": "markdown",
   "metadata": {},
   "source": [
    "### Нахождение цены квадратного метра"
   ]
  },
  {
   "cell_type": "code",
   "execution_count": 7,
   "metadata": {
    "scrolled": true
   },
   "outputs": [
    {
     "data": {
      "text/html": [
       "<div>\n",
       "<style scoped>\n",
       "    .dataframe tbody tr th:only-of-type {\n",
       "        vertical-align: middle;\n",
       "    }\n",
       "\n",
       "    .dataframe tbody tr th {\n",
       "        vertical-align: top;\n",
       "    }\n",
       "\n",
       "    .dataframe thead th {\n",
       "        text-align: right;\n",
       "    }\n",
       "</style>\n",
       "<table border=\"1\" class=\"dataframe\">\n",
       "  <thead>\n",
       "    <tr style=\"text-align: right;\">\n",
       "      <th></th>\n",
       "      <th>total_images</th>\n",
       "      <th>last_price</th>\n",
       "      <th>total_area</th>\n",
       "      <th>first_day_exposition</th>\n",
       "      <th>rooms</th>\n",
       "      <th>ceiling_height</th>\n",
       "      <th>floors_total</th>\n",
       "      <th>living_area</th>\n",
       "      <th>floor</th>\n",
       "      <th>is_apartment</th>\n",
       "      <th>...</th>\n",
       "      <th>balcony</th>\n",
       "      <th>locality_name</th>\n",
       "      <th>airports_nearest</th>\n",
       "      <th>cityCenters_nearest</th>\n",
       "      <th>parks_around3000</th>\n",
       "      <th>parks_nearest</th>\n",
       "      <th>ponds_around3000</th>\n",
       "      <th>ponds_nearest</th>\n",
       "      <th>days_exposition</th>\n",
       "      <th>price_for_meter</th>\n",
       "    </tr>\n",
       "  </thead>\n",
       "  <tbody>\n",
       "    <tr>\n",
       "      <th>0</th>\n",
       "      <td>20</td>\n",
       "      <td>13000000.0</td>\n",
       "      <td>108.00</td>\n",
       "      <td>2019-03-07T00:00:00</td>\n",
       "      <td>3</td>\n",
       "      <td>2.70</td>\n",
       "      <td>16</td>\n",
       "      <td>51.00</td>\n",
       "      <td>8</td>\n",
       "      <td>NaN</td>\n",
       "      <td>...</td>\n",
       "      <td>0</td>\n",
       "      <td>Санкт-Петербург</td>\n",
       "      <td>18863.0</td>\n",
       "      <td>16028.0</td>\n",
       "      <td>1.0</td>\n",
       "      <td>482.0</td>\n",
       "      <td>2.0</td>\n",
       "      <td>755.0</td>\n",
       "      <td>NaN</td>\n",
       "      <td>120370.370370</td>\n",
       "    </tr>\n",
       "    <tr>\n",
       "      <th>1</th>\n",
       "      <td>7</td>\n",
       "      <td>3350000.0</td>\n",
       "      <td>40.40</td>\n",
       "      <td>2018-12-04T00:00:00</td>\n",
       "      <td>1</td>\n",
       "      <td>NaN</td>\n",
       "      <td>11</td>\n",
       "      <td>18.60</td>\n",
       "      <td>1</td>\n",
       "      <td>NaN</td>\n",
       "      <td>...</td>\n",
       "      <td>2</td>\n",
       "      <td>посёлок Шушары</td>\n",
       "      <td>12817.0</td>\n",
       "      <td>18603.0</td>\n",
       "      <td>0.0</td>\n",
       "      <td>NaN</td>\n",
       "      <td>0.0</td>\n",
       "      <td>NaN</td>\n",
       "      <td>81.0</td>\n",
       "      <td>82920.792079</td>\n",
       "    </tr>\n",
       "    <tr>\n",
       "      <th>2</th>\n",
       "      <td>10</td>\n",
       "      <td>5196000.0</td>\n",
       "      <td>56.00</td>\n",
       "      <td>2015-08-20T00:00:00</td>\n",
       "      <td>2</td>\n",
       "      <td>NaN</td>\n",
       "      <td>5</td>\n",
       "      <td>34.30</td>\n",
       "      <td>4</td>\n",
       "      <td>NaN</td>\n",
       "      <td>...</td>\n",
       "      <td>0</td>\n",
       "      <td>Санкт-Петербург</td>\n",
       "      <td>21741.0</td>\n",
       "      <td>13933.0</td>\n",
       "      <td>1.0</td>\n",
       "      <td>90.0</td>\n",
       "      <td>2.0</td>\n",
       "      <td>574.0</td>\n",
       "      <td>558.0</td>\n",
       "      <td>92785.714286</td>\n",
       "    </tr>\n",
       "    <tr>\n",
       "      <th>3</th>\n",
       "      <td>0</td>\n",
       "      <td>64900000.0</td>\n",
       "      <td>159.00</td>\n",
       "      <td>2015-07-24T00:00:00</td>\n",
       "      <td>3</td>\n",
       "      <td>NaN</td>\n",
       "      <td>14</td>\n",
       "      <td>NaN</td>\n",
       "      <td>9</td>\n",
       "      <td>NaN</td>\n",
       "      <td>...</td>\n",
       "      <td>0</td>\n",
       "      <td>Санкт-Петербург</td>\n",
       "      <td>28098.0</td>\n",
       "      <td>6800.0</td>\n",
       "      <td>2.0</td>\n",
       "      <td>84.0</td>\n",
       "      <td>3.0</td>\n",
       "      <td>234.0</td>\n",
       "      <td>424.0</td>\n",
       "      <td>408176.100629</td>\n",
       "    </tr>\n",
       "    <tr>\n",
       "      <th>4</th>\n",
       "      <td>2</td>\n",
       "      <td>10000000.0</td>\n",
       "      <td>100.00</td>\n",
       "      <td>2018-06-19T00:00:00</td>\n",
       "      <td>2</td>\n",
       "      <td>3.03</td>\n",
       "      <td>14</td>\n",
       "      <td>32.00</td>\n",
       "      <td>13</td>\n",
       "      <td>NaN</td>\n",
       "      <td>...</td>\n",
       "      <td>0</td>\n",
       "      <td>Санкт-Петербург</td>\n",
       "      <td>31856.0</td>\n",
       "      <td>8098.0</td>\n",
       "      <td>2.0</td>\n",
       "      <td>112.0</td>\n",
       "      <td>1.0</td>\n",
       "      <td>48.0</td>\n",
       "      <td>121.0</td>\n",
       "      <td>100000.000000</td>\n",
       "    </tr>\n",
       "    <tr>\n",
       "      <th>5</th>\n",
       "      <td>10</td>\n",
       "      <td>2890000.0</td>\n",
       "      <td>30.40</td>\n",
       "      <td>2018-09-10T00:00:00</td>\n",
       "      <td>1</td>\n",
       "      <td>NaN</td>\n",
       "      <td>12</td>\n",
       "      <td>14.40</td>\n",
       "      <td>5</td>\n",
       "      <td>NaN</td>\n",
       "      <td>...</td>\n",
       "      <td>0</td>\n",
       "      <td>городской посёлок Янино-1</td>\n",
       "      <td>NaN</td>\n",
       "      <td>NaN</td>\n",
       "      <td>NaN</td>\n",
       "      <td>NaN</td>\n",
       "      <td>NaN</td>\n",
       "      <td>NaN</td>\n",
       "      <td>55.0</td>\n",
       "      <td>95065.789474</td>\n",
       "    </tr>\n",
       "    <tr>\n",
       "      <th>6</th>\n",
       "      <td>6</td>\n",
       "      <td>3700000.0</td>\n",
       "      <td>37.30</td>\n",
       "      <td>2017-11-02T00:00:00</td>\n",
       "      <td>1</td>\n",
       "      <td>NaN</td>\n",
       "      <td>26</td>\n",
       "      <td>10.60</td>\n",
       "      <td>6</td>\n",
       "      <td>NaN</td>\n",
       "      <td>...</td>\n",
       "      <td>1</td>\n",
       "      <td>посёлок Парголово</td>\n",
       "      <td>52996.0</td>\n",
       "      <td>19143.0</td>\n",
       "      <td>0.0</td>\n",
       "      <td>NaN</td>\n",
       "      <td>0.0</td>\n",
       "      <td>NaN</td>\n",
       "      <td>155.0</td>\n",
       "      <td>99195.710456</td>\n",
       "    </tr>\n",
       "    <tr>\n",
       "      <th>7</th>\n",
       "      <td>5</td>\n",
       "      <td>7915000.0</td>\n",
       "      <td>71.60</td>\n",
       "      <td>2019-04-18T00:00:00</td>\n",
       "      <td>2</td>\n",
       "      <td>NaN</td>\n",
       "      <td>24</td>\n",
       "      <td>NaN</td>\n",
       "      <td>22</td>\n",
       "      <td>NaN</td>\n",
       "      <td>...</td>\n",
       "      <td>2</td>\n",
       "      <td>Санкт-Петербург</td>\n",
       "      <td>23982.0</td>\n",
       "      <td>11634.0</td>\n",
       "      <td>0.0</td>\n",
       "      <td>NaN</td>\n",
       "      <td>0.0</td>\n",
       "      <td>NaN</td>\n",
       "      <td>NaN</td>\n",
       "      <td>110544.692737</td>\n",
       "    </tr>\n",
       "    <tr>\n",
       "      <th>8</th>\n",
       "      <td>20</td>\n",
       "      <td>2900000.0</td>\n",
       "      <td>33.16</td>\n",
       "      <td>2018-05-23T00:00:00</td>\n",
       "      <td>1</td>\n",
       "      <td>NaN</td>\n",
       "      <td>27</td>\n",
       "      <td>15.43</td>\n",
       "      <td>26</td>\n",
       "      <td>NaN</td>\n",
       "      <td>...</td>\n",
       "      <td>0</td>\n",
       "      <td>посёлок Мурино</td>\n",
       "      <td>NaN</td>\n",
       "      <td>NaN</td>\n",
       "      <td>NaN</td>\n",
       "      <td>NaN</td>\n",
       "      <td>NaN</td>\n",
       "      <td>NaN</td>\n",
       "      <td>189.0</td>\n",
       "      <td>87454.764777</td>\n",
       "    </tr>\n",
       "    <tr>\n",
       "      <th>9</th>\n",
       "      <td>18</td>\n",
       "      <td>5400000.0</td>\n",
       "      <td>61.00</td>\n",
       "      <td>2017-02-26T00:00:00</td>\n",
       "      <td>3</td>\n",
       "      <td>2.50</td>\n",
       "      <td>9</td>\n",
       "      <td>43.60</td>\n",
       "      <td>7</td>\n",
       "      <td>NaN</td>\n",
       "      <td>...</td>\n",
       "      <td>2</td>\n",
       "      <td>Санкт-Петербург</td>\n",
       "      <td>50898.0</td>\n",
       "      <td>15008.0</td>\n",
       "      <td>0.0</td>\n",
       "      <td>NaN</td>\n",
       "      <td>0.0</td>\n",
       "      <td>NaN</td>\n",
       "      <td>289.0</td>\n",
       "      <td>88524.590164</td>\n",
       "    </tr>\n",
       "  </tbody>\n",
       "</table>\n",
       "<p>10 rows × 23 columns</p>\n",
       "</div>"
      ],
      "text/plain": [
       "   total_images  last_price  total_area first_day_exposition  rooms  \\\n",
       "0            20  13000000.0      108.00  2019-03-07T00:00:00      3   \n",
       "1             7   3350000.0       40.40  2018-12-04T00:00:00      1   \n",
       "2            10   5196000.0       56.00  2015-08-20T00:00:00      2   \n",
       "3             0  64900000.0      159.00  2015-07-24T00:00:00      3   \n",
       "4             2  10000000.0      100.00  2018-06-19T00:00:00      2   \n",
       "5            10   2890000.0       30.40  2018-09-10T00:00:00      1   \n",
       "6             6   3700000.0       37.30  2017-11-02T00:00:00      1   \n",
       "7             5   7915000.0       71.60  2019-04-18T00:00:00      2   \n",
       "8            20   2900000.0       33.16  2018-05-23T00:00:00      1   \n",
       "9            18   5400000.0       61.00  2017-02-26T00:00:00      3   \n",
       "\n",
       "   ceiling_height  floors_total  living_area  floor is_apartment  ...  \\\n",
       "0            2.70            16        51.00      8          NaN  ...   \n",
       "1             NaN            11        18.60      1          NaN  ...   \n",
       "2             NaN             5        34.30      4          NaN  ...   \n",
       "3             NaN            14          NaN      9          NaN  ...   \n",
       "4            3.03            14        32.00     13          NaN  ...   \n",
       "5             NaN            12        14.40      5          NaN  ...   \n",
       "6             NaN            26        10.60      6          NaN  ...   \n",
       "7             NaN            24          NaN     22          NaN  ...   \n",
       "8             NaN            27        15.43     26          NaN  ...   \n",
       "9            2.50             9        43.60      7          NaN  ...   \n",
       "\n",
       "   balcony              locality_name  airports_nearest  cityCenters_nearest  \\\n",
       "0        0            Санкт-Петербург           18863.0              16028.0   \n",
       "1        2             посёлок Шушары           12817.0              18603.0   \n",
       "2        0            Санкт-Петербург           21741.0              13933.0   \n",
       "3        0            Санкт-Петербург           28098.0               6800.0   \n",
       "4        0            Санкт-Петербург           31856.0               8098.0   \n",
       "5        0  городской посёлок Янино-1               NaN                  NaN   \n",
       "6        1          посёлок Парголово           52996.0              19143.0   \n",
       "7        2            Санкт-Петербург           23982.0              11634.0   \n",
       "8        0             посёлок Мурино               NaN                  NaN   \n",
       "9        2            Санкт-Петербург           50898.0              15008.0   \n",
       "\n",
       "  parks_around3000  parks_nearest  ponds_around3000  ponds_nearest  \\\n",
       "0              1.0          482.0               2.0          755.0   \n",
       "1              0.0            NaN               0.0            NaN   \n",
       "2              1.0           90.0               2.0          574.0   \n",
       "3              2.0           84.0               3.0          234.0   \n",
       "4              2.0          112.0               1.0           48.0   \n",
       "5              NaN            NaN               NaN            NaN   \n",
       "6              0.0            NaN               0.0            NaN   \n",
       "7              0.0            NaN               0.0            NaN   \n",
       "8              NaN            NaN               NaN            NaN   \n",
       "9              0.0            NaN               0.0            NaN   \n",
       "\n",
       "   days_exposition  price_for_meter  \n",
       "0              NaN    120370.370370  \n",
       "1             81.0     82920.792079  \n",
       "2            558.0     92785.714286  \n",
       "3            424.0    408176.100629  \n",
       "4            121.0    100000.000000  \n",
       "5             55.0     95065.789474  \n",
       "6            155.0     99195.710456  \n",
       "7              NaN    110544.692737  \n",
       "8            189.0     87454.764777  \n",
       "9            289.0     88524.590164  \n",
       "\n",
       "[10 rows x 23 columns]"
      ]
     },
     "execution_count": 7,
     "metadata": {},
     "output_type": "execute_result"
    }
   ],
   "source": [
    "#Для нахождения цены за квадратный метр, разделим цену на момент снятия публикации на площадь квартиры\n",
    "df['price_for_meter'] = df['last_price'] / df['total_area']\n",
    "df.head(10)"
   ]
  },
  {
   "cell_type": "markdown",
   "metadata": {},
   "source": [
    "### День недели, месяц и год публикации объявления"
   ]
  },
  {
   "cell_type": "markdown",
   "metadata": {},
   "source": [
    "Для создания столбцов с отдельными значениями дня, месяца и года, воспользуемся методом получения отдельных частей даты и времени, результаты которого запишем в разные столбцы. "
   ]
  },
  {
   "cell_type": "code",
   "execution_count": 8,
   "metadata": {
    "scrolled": false
   },
   "outputs": [
    {
     "data": {
      "text/html": [
       "<div>\n",
       "<style scoped>\n",
       "    .dataframe tbody tr th:only-of-type {\n",
       "        vertical-align: middle;\n",
       "    }\n",
       "\n",
       "    .dataframe tbody tr th {\n",
       "        vertical-align: top;\n",
       "    }\n",
       "\n",
       "    .dataframe thead th {\n",
       "        text-align: right;\n",
       "    }\n",
       "</style>\n",
       "<table border=\"1\" class=\"dataframe\">\n",
       "  <thead>\n",
       "    <tr style=\"text-align: right;\">\n",
       "      <th></th>\n",
       "      <th>total_images</th>\n",
       "      <th>last_price</th>\n",
       "      <th>total_area</th>\n",
       "      <th>first_day_exposition</th>\n",
       "      <th>rooms</th>\n",
       "      <th>ceiling_height</th>\n",
       "      <th>floors_total</th>\n",
       "      <th>living_area</th>\n",
       "      <th>floor</th>\n",
       "      <th>is_apartment</th>\n",
       "      <th>...</th>\n",
       "      <th>cityCenters_nearest</th>\n",
       "      <th>parks_around3000</th>\n",
       "      <th>parks_nearest</th>\n",
       "      <th>ponds_around3000</th>\n",
       "      <th>ponds_nearest</th>\n",
       "      <th>days_exposition</th>\n",
       "      <th>price_for_meter</th>\n",
       "      <th>day_exposition</th>\n",
       "      <th>month_exposition</th>\n",
       "      <th>year_exposition</th>\n",
       "    </tr>\n",
       "  </thead>\n",
       "  <tbody>\n",
       "    <tr>\n",
       "      <th>0</th>\n",
       "      <td>20</td>\n",
       "      <td>13000000.0</td>\n",
       "      <td>108.00</td>\n",
       "      <td>2019-03-07</td>\n",
       "      <td>3</td>\n",
       "      <td>2.70</td>\n",
       "      <td>16</td>\n",
       "      <td>51.00</td>\n",
       "      <td>8</td>\n",
       "      <td>NaN</td>\n",
       "      <td>...</td>\n",
       "      <td>16028.0</td>\n",
       "      <td>1.0</td>\n",
       "      <td>482.0</td>\n",
       "      <td>2.0</td>\n",
       "      <td>755.0</td>\n",
       "      <td>NaN</td>\n",
       "      <td>120370.370370</td>\n",
       "      <td>3</td>\n",
       "      <td>3</td>\n",
       "      <td>2019</td>\n",
       "    </tr>\n",
       "    <tr>\n",
       "      <th>1</th>\n",
       "      <td>7</td>\n",
       "      <td>3350000.0</td>\n",
       "      <td>40.40</td>\n",
       "      <td>2018-12-04</td>\n",
       "      <td>1</td>\n",
       "      <td>NaN</td>\n",
       "      <td>11</td>\n",
       "      <td>18.60</td>\n",
       "      <td>1</td>\n",
       "      <td>NaN</td>\n",
       "      <td>...</td>\n",
       "      <td>18603.0</td>\n",
       "      <td>0.0</td>\n",
       "      <td>NaN</td>\n",
       "      <td>0.0</td>\n",
       "      <td>NaN</td>\n",
       "      <td>81.0</td>\n",
       "      <td>82920.792079</td>\n",
       "      <td>1</td>\n",
       "      <td>12</td>\n",
       "      <td>2018</td>\n",
       "    </tr>\n",
       "    <tr>\n",
       "      <th>2</th>\n",
       "      <td>10</td>\n",
       "      <td>5196000.0</td>\n",
       "      <td>56.00</td>\n",
       "      <td>2015-08-20</td>\n",
       "      <td>2</td>\n",
       "      <td>NaN</td>\n",
       "      <td>5</td>\n",
       "      <td>34.30</td>\n",
       "      <td>4</td>\n",
       "      <td>NaN</td>\n",
       "      <td>...</td>\n",
       "      <td>13933.0</td>\n",
       "      <td>1.0</td>\n",
       "      <td>90.0</td>\n",
       "      <td>2.0</td>\n",
       "      <td>574.0</td>\n",
       "      <td>558.0</td>\n",
       "      <td>92785.714286</td>\n",
       "      <td>3</td>\n",
       "      <td>8</td>\n",
       "      <td>2015</td>\n",
       "    </tr>\n",
       "    <tr>\n",
       "      <th>3</th>\n",
       "      <td>0</td>\n",
       "      <td>64900000.0</td>\n",
       "      <td>159.00</td>\n",
       "      <td>2015-07-24</td>\n",
       "      <td>3</td>\n",
       "      <td>NaN</td>\n",
       "      <td>14</td>\n",
       "      <td>NaN</td>\n",
       "      <td>9</td>\n",
       "      <td>NaN</td>\n",
       "      <td>...</td>\n",
       "      <td>6800.0</td>\n",
       "      <td>2.0</td>\n",
       "      <td>84.0</td>\n",
       "      <td>3.0</td>\n",
       "      <td>234.0</td>\n",
       "      <td>424.0</td>\n",
       "      <td>408176.100629</td>\n",
       "      <td>4</td>\n",
       "      <td>7</td>\n",
       "      <td>2015</td>\n",
       "    </tr>\n",
       "    <tr>\n",
       "      <th>4</th>\n",
       "      <td>2</td>\n",
       "      <td>10000000.0</td>\n",
       "      <td>100.00</td>\n",
       "      <td>2018-06-19</td>\n",
       "      <td>2</td>\n",
       "      <td>3.03</td>\n",
       "      <td>14</td>\n",
       "      <td>32.00</td>\n",
       "      <td>13</td>\n",
       "      <td>NaN</td>\n",
       "      <td>...</td>\n",
       "      <td>8098.0</td>\n",
       "      <td>2.0</td>\n",
       "      <td>112.0</td>\n",
       "      <td>1.0</td>\n",
       "      <td>48.0</td>\n",
       "      <td>121.0</td>\n",
       "      <td>100000.000000</td>\n",
       "      <td>1</td>\n",
       "      <td>6</td>\n",
       "      <td>2018</td>\n",
       "    </tr>\n",
       "    <tr>\n",
       "      <th>5</th>\n",
       "      <td>10</td>\n",
       "      <td>2890000.0</td>\n",
       "      <td>30.40</td>\n",
       "      <td>2018-09-10</td>\n",
       "      <td>1</td>\n",
       "      <td>NaN</td>\n",
       "      <td>12</td>\n",
       "      <td>14.40</td>\n",
       "      <td>5</td>\n",
       "      <td>NaN</td>\n",
       "      <td>...</td>\n",
       "      <td>NaN</td>\n",
       "      <td>NaN</td>\n",
       "      <td>NaN</td>\n",
       "      <td>NaN</td>\n",
       "      <td>NaN</td>\n",
       "      <td>55.0</td>\n",
       "      <td>95065.789474</td>\n",
       "      <td>0</td>\n",
       "      <td>9</td>\n",
       "      <td>2018</td>\n",
       "    </tr>\n",
       "    <tr>\n",
       "      <th>6</th>\n",
       "      <td>6</td>\n",
       "      <td>3700000.0</td>\n",
       "      <td>37.30</td>\n",
       "      <td>2017-11-02</td>\n",
       "      <td>1</td>\n",
       "      <td>NaN</td>\n",
       "      <td>26</td>\n",
       "      <td>10.60</td>\n",
       "      <td>6</td>\n",
       "      <td>NaN</td>\n",
       "      <td>...</td>\n",
       "      <td>19143.0</td>\n",
       "      <td>0.0</td>\n",
       "      <td>NaN</td>\n",
       "      <td>0.0</td>\n",
       "      <td>NaN</td>\n",
       "      <td>155.0</td>\n",
       "      <td>99195.710456</td>\n",
       "      <td>3</td>\n",
       "      <td>11</td>\n",
       "      <td>2017</td>\n",
       "    </tr>\n",
       "    <tr>\n",
       "      <th>7</th>\n",
       "      <td>5</td>\n",
       "      <td>7915000.0</td>\n",
       "      <td>71.60</td>\n",
       "      <td>2019-04-18</td>\n",
       "      <td>2</td>\n",
       "      <td>NaN</td>\n",
       "      <td>24</td>\n",
       "      <td>NaN</td>\n",
       "      <td>22</td>\n",
       "      <td>NaN</td>\n",
       "      <td>...</td>\n",
       "      <td>11634.0</td>\n",
       "      <td>0.0</td>\n",
       "      <td>NaN</td>\n",
       "      <td>0.0</td>\n",
       "      <td>NaN</td>\n",
       "      <td>NaN</td>\n",
       "      <td>110544.692737</td>\n",
       "      <td>3</td>\n",
       "      <td>4</td>\n",
       "      <td>2019</td>\n",
       "    </tr>\n",
       "    <tr>\n",
       "      <th>8</th>\n",
       "      <td>20</td>\n",
       "      <td>2900000.0</td>\n",
       "      <td>33.16</td>\n",
       "      <td>2018-05-23</td>\n",
       "      <td>1</td>\n",
       "      <td>NaN</td>\n",
       "      <td>27</td>\n",
       "      <td>15.43</td>\n",
       "      <td>26</td>\n",
       "      <td>NaN</td>\n",
       "      <td>...</td>\n",
       "      <td>NaN</td>\n",
       "      <td>NaN</td>\n",
       "      <td>NaN</td>\n",
       "      <td>NaN</td>\n",
       "      <td>NaN</td>\n",
       "      <td>189.0</td>\n",
       "      <td>87454.764777</td>\n",
       "      <td>2</td>\n",
       "      <td>5</td>\n",
       "      <td>2018</td>\n",
       "    </tr>\n",
       "    <tr>\n",
       "      <th>9</th>\n",
       "      <td>18</td>\n",
       "      <td>5400000.0</td>\n",
       "      <td>61.00</td>\n",
       "      <td>2017-02-26</td>\n",
       "      <td>3</td>\n",
       "      <td>2.50</td>\n",
       "      <td>9</td>\n",
       "      <td>43.60</td>\n",
       "      <td>7</td>\n",
       "      <td>NaN</td>\n",
       "      <td>...</td>\n",
       "      <td>15008.0</td>\n",
       "      <td>0.0</td>\n",
       "      <td>NaN</td>\n",
       "      <td>0.0</td>\n",
       "      <td>NaN</td>\n",
       "      <td>289.0</td>\n",
       "      <td>88524.590164</td>\n",
       "      <td>6</td>\n",
       "      <td>2</td>\n",
       "      <td>2017</td>\n",
       "    </tr>\n",
       "  </tbody>\n",
       "</table>\n",
       "<p>10 rows × 26 columns</p>\n",
       "</div>"
      ],
      "text/plain": [
       "   total_images  last_price  total_area first_day_exposition  rooms  \\\n",
       "0            20  13000000.0      108.00           2019-03-07      3   \n",
       "1             7   3350000.0       40.40           2018-12-04      1   \n",
       "2            10   5196000.0       56.00           2015-08-20      2   \n",
       "3             0  64900000.0      159.00           2015-07-24      3   \n",
       "4             2  10000000.0      100.00           2018-06-19      2   \n",
       "5            10   2890000.0       30.40           2018-09-10      1   \n",
       "6             6   3700000.0       37.30           2017-11-02      1   \n",
       "7             5   7915000.0       71.60           2019-04-18      2   \n",
       "8            20   2900000.0       33.16           2018-05-23      1   \n",
       "9            18   5400000.0       61.00           2017-02-26      3   \n",
       "\n",
       "   ceiling_height  floors_total  living_area  floor is_apartment  ...  \\\n",
       "0            2.70            16        51.00      8          NaN  ...   \n",
       "1             NaN            11        18.60      1          NaN  ...   \n",
       "2             NaN             5        34.30      4          NaN  ...   \n",
       "3             NaN            14          NaN      9          NaN  ...   \n",
       "4            3.03            14        32.00     13          NaN  ...   \n",
       "5             NaN            12        14.40      5          NaN  ...   \n",
       "6             NaN            26        10.60      6          NaN  ...   \n",
       "7             NaN            24          NaN     22          NaN  ...   \n",
       "8             NaN            27        15.43     26          NaN  ...   \n",
       "9            2.50             9        43.60      7          NaN  ...   \n",
       "\n",
       "   cityCenters_nearest  parks_around3000  parks_nearest  ponds_around3000  \\\n",
       "0              16028.0               1.0          482.0               2.0   \n",
       "1              18603.0               0.0            NaN               0.0   \n",
       "2              13933.0               1.0           90.0               2.0   \n",
       "3               6800.0               2.0           84.0               3.0   \n",
       "4               8098.0               2.0          112.0               1.0   \n",
       "5                  NaN               NaN            NaN               NaN   \n",
       "6              19143.0               0.0            NaN               0.0   \n",
       "7              11634.0               0.0            NaN               0.0   \n",
       "8                  NaN               NaN            NaN               NaN   \n",
       "9              15008.0               0.0            NaN               0.0   \n",
       "\n",
       "  ponds_nearest  days_exposition  price_for_meter  day_exposition  \\\n",
       "0         755.0              NaN    120370.370370               3   \n",
       "1           NaN             81.0     82920.792079               1   \n",
       "2         574.0            558.0     92785.714286               3   \n",
       "3         234.0            424.0    408176.100629               4   \n",
       "4          48.0            121.0    100000.000000               1   \n",
       "5           NaN             55.0     95065.789474               0   \n",
       "6           NaN            155.0     99195.710456               3   \n",
       "7           NaN              NaN    110544.692737               3   \n",
       "8           NaN            189.0     87454.764777               2   \n",
       "9           NaN            289.0     88524.590164               6   \n",
       "\n",
       "   month_exposition  year_exposition  \n",
       "0                 3             2019  \n",
       "1                12             2018  \n",
       "2                 8             2015  \n",
       "3                 7             2015  \n",
       "4                 6             2018  \n",
       "5                 9             2018  \n",
       "6                11             2017  \n",
       "7                 4             2019  \n",
       "8                 5             2018  \n",
       "9                 2             2017  \n",
       "\n",
       "[10 rows x 26 columns]"
      ]
     },
     "execution_count": 8,
     "metadata": {},
     "output_type": "execute_result"
    }
   ],
   "source": [
    "df['first_day_exposition'] = pd.to_datetime(df['first_day_exposition'], format= '%Y.%m.%d %H:%M:%S')\n",
    "df['day_exposition'] = df['first_day_exposition'].dt.weekday\n",
    "df['month_exposition'] = pd.DatetimeIndex(df['first_day_exposition']).month\n",
    "df['year_exposition'] = pd.DatetimeIndex(df['first_day_exposition']).year\n",
    "df.head(10)"
   ]
  },
  {
   "cell_type": "code",
   "execution_count": 9,
   "metadata": {},
   "outputs": [
    {
     "data": {
      "text/plain": [
       "array([3, 1, 4, 0, 2, 6, 5])"
      ]
     },
     "execution_count": 9,
     "metadata": {},
     "output_type": "execute_result"
    }
   ],
   "source": [
    "df['day_exposition'].unique()"
   ]
  },
  {
   "cell_type": "markdown",
   "metadata": {},
   "source": [
    "### Этаж квартиры - первый, последний, другой"
   ]
  },
  {
   "cell_type": "markdown",
   "metadata": {},
   "source": [
    "Раскидаем данные по этажам продающихся квартир на три категории, которые запишем в отдельный столбец. \n",
    "Категории - первый, последний, другой.\n",
    "Создадим функцию, которая просмотрит все строки столбца floor и сравнит его со столбцом floors_total, а результаты занесет в соответствующий столбец."
   ]
  },
  {
   "cell_type": "code",
   "execution_count": 10,
   "metadata": {},
   "outputs": [],
   "source": [
    "\n",
    "def apartment_floor (row):\n",
    "    if row['floor'] == 1 or row['floor'] == 0:\n",
    "        return 'первый'\n",
    "    if row['floor'] == row['floors_total'] and row['floor'] != 1 and row['floor'] !=0:\n",
    "        return 'последний'\n",
    "    return 'другой'\n",
    "\n"
   ]
  },
  {
   "cell_type": "markdown",
   "metadata": {},
   "source": [
    "Теперь создадим столбец apartment_floor и применим к нему нашу функцию:"
   ]
  },
  {
   "cell_type": "code",
   "execution_count": 11,
   "metadata": {
    "scrolled": true
   },
   "outputs": [
    {
     "data": {
      "text/html": [
       "<div>\n",
       "<style scoped>\n",
       "    .dataframe tbody tr th:only-of-type {\n",
       "        vertical-align: middle;\n",
       "    }\n",
       "\n",
       "    .dataframe tbody tr th {\n",
       "        vertical-align: top;\n",
       "    }\n",
       "\n",
       "    .dataframe thead th {\n",
       "        text-align: right;\n",
       "    }\n",
       "</style>\n",
       "<table border=\"1\" class=\"dataframe\">\n",
       "  <thead>\n",
       "    <tr style=\"text-align: right;\">\n",
       "      <th></th>\n",
       "      <th>total_images</th>\n",
       "      <th>last_price</th>\n",
       "      <th>total_area</th>\n",
       "      <th>first_day_exposition</th>\n",
       "      <th>rooms</th>\n",
       "      <th>ceiling_height</th>\n",
       "      <th>floors_total</th>\n",
       "      <th>living_area</th>\n",
       "      <th>floor</th>\n",
       "      <th>is_apartment</th>\n",
       "      <th>...</th>\n",
       "      <th>parks_around3000</th>\n",
       "      <th>parks_nearest</th>\n",
       "      <th>ponds_around3000</th>\n",
       "      <th>ponds_nearest</th>\n",
       "      <th>days_exposition</th>\n",
       "      <th>price_for_meter</th>\n",
       "      <th>day_exposition</th>\n",
       "      <th>month_exposition</th>\n",
       "      <th>year_exposition</th>\n",
       "      <th>apartment_floor</th>\n",
       "    </tr>\n",
       "  </thead>\n",
       "  <tbody>\n",
       "    <tr>\n",
       "      <th>0</th>\n",
       "      <td>20</td>\n",
       "      <td>13000000.0</td>\n",
       "      <td>108.00</td>\n",
       "      <td>2019-03-07</td>\n",
       "      <td>3</td>\n",
       "      <td>2.70</td>\n",
       "      <td>16</td>\n",
       "      <td>51.00</td>\n",
       "      <td>8</td>\n",
       "      <td>NaN</td>\n",
       "      <td>...</td>\n",
       "      <td>1.0</td>\n",
       "      <td>482.0</td>\n",
       "      <td>2.0</td>\n",
       "      <td>755.0</td>\n",
       "      <td>NaN</td>\n",
       "      <td>120370.370370</td>\n",
       "      <td>3</td>\n",
       "      <td>3</td>\n",
       "      <td>2019</td>\n",
       "      <td>другой</td>\n",
       "    </tr>\n",
       "    <tr>\n",
       "      <th>1</th>\n",
       "      <td>7</td>\n",
       "      <td>3350000.0</td>\n",
       "      <td>40.40</td>\n",
       "      <td>2018-12-04</td>\n",
       "      <td>1</td>\n",
       "      <td>NaN</td>\n",
       "      <td>11</td>\n",
       "      <td>18.60</td>\n",
       "      <td>1</td>\n",
       "      <td>NaN</td>\n",
       "      <td>...</td>\n",
       "      <td>0.0</td>\n",
       "      <td>NaN</td>\n",
       "      <td>0.0</td>\n",
       "      <td>NaN</td>\n",
       "      <td>81.0</td>\n",
       "      <td>82920.792079</td>\n",
       "      <td>1</td>\n",
       "      <td>12</td>\n",
       "      <td>2018</td>\n",
       "      <td>первый</td>\n",
       "    </tr>\n",
       "    <tr>\n",
       "      <th>2</th>\n",
       "      <td>10</td>\n",
       "      <td>5196000.0</td>\n",
       "      <td>56.00</td>\n",
       "      <td>2015-08-20</td>\n",
       "      <td>2</td>\n",
       "      <td>NaN</td>\n",
       "      <td>5</td>\n",
       "      <td>34.30</td>\n",
       "      <td>4</td>\n",
       "      <td>NaN</td>\n",
       "      <td>...</td>\n",
       "      <td>1.0</td>\n",
       "      <td>90.0</td>\n",
       "      <td>2.0</td>\n",
       "      <td>574.0</td>\n",
       "      <td>558.0</td>\n",
       "      <td>92785.714286</td>\n",
       "      <td>3</td>\n",
       "      <td>8</td>\n",
       "      <td>2015</td>\n",
       "      <td>другой</td>\n",
       "    </tr>\n",
       "    <tr>\n",
       "      <th>3</th>\n",
       "      <td>0</td>\n",
       "      <td>64900000.0</td>\n",
       "      <td>159.00</td>\n",
       "      <td>2015-07-24</td>\n",
       "      <td>3</td>\n",
       "      <td>NaN</td>\n",
       "      <td>14</td>\n",
       "      <td>NaN</td>\n",
       "      <td>9</td>\n",
       "      <td>NaN</td>\n",
       "      <td>...</td>\n",
       "      <td>2.0</td>\n",
       "      <td>84.0</td>\n",
       "      <td>3.0</td>\n",
       "      <td>234.0</td>\n",
       "      <td>424.0</td>\n",
       "      <td>408176.100629</td>\n",
       "      <td>4</td>\n",
       "      <td>7</td>\n",
       "      <td>2015</td>\n",
       "      <td>другой</td>\n",
       "    </tr>\n",
       "    <tr>\n",
       "      <th>4</th>\n",
       "      <td>2</td>\n",
       "      <td>10000000.0</td>\n",
       "      <td>100.00</td>\n",
       "      <td>2018-06-19</td>\n",
       "      <td>2</td>\n",
       "      <td>3.03</td>\n",
       "      <td>14</td>\n",
       "      <td>32.00</td>\n",
       "      <td>13</td>\n",
       "      <td>NaN</td>\n",
       "      <td>...</td>\n",
       "      <td>2.0</td>\n",
       "      <td>112.0</td>\n",
       "      <td>1.0</td>\n",
       "      <td>48.0</td>\n",
       "      <td>121.0</td>\n",
       "      <td>100000.000000</td>\n",
       "      <td>1</td>\n",
       "      <td>6</td>\n",
       "      <td>2018</td>\n",
       "      <td>другой</td>\n",
       "    </tr>\n",
       "    <tr>\n",
       "      <th>5</th>\n",
       "      <td>10</td>\n",
       "      <td>2890000.0</td>\n",
       "      <td>30.40</td>\n",
       "      <td>2018-09-10</td>\n",
       "      <td>1</td>\n",
       "      <td>NaN</td>\n",
       "      <td>12</td>\n",
       "      <td>14.40</td>\n",
       "      <td>5</td>\n",
       "      <td>NaN</td>\n",
       "      <td>...</td>\n",
       "      <td>NaN</td>\n",
       "      <td>NaN</td>\n",
       "      <td>NaN</td>\n",
       "      <td>NaN</td>\n",
       "      <td>55.0</td>\n",
       "      <td>95065.789474</td>\n",
       "      <td>0</td>\n",
       "      <td>9</td>\n",
       "      <td>2018</td>\n",
       "      <td>другой</td>\n",
       "    </tr>\n",
       "    <tr>\n",
       "      <th>6</th>\n",
       "      <td>6</td>\n",
       "      <td>3700000.0</td>\n",
       "      <td>37.30</td>\n",
       "      <td>2017-11-02</td>\n",
       "      <td>1</td>\n",
       "      <td>NaN</td>\n",
       "      <td>26</td>\n",
       "      <td>10.60</td>\n",
       "      <td>6</td>\n",
       "      <td>NaN</td>\n",
       "      <td>...</td>\n",
       "      <td>0.0</td>\n",
       "      <td>NaN</td>\n",
       "      <td>0.0</td>\n",
       "      <td>NaN</td>\n",
       "      <td>155.0</td>\n",
       "      <td>99195.710456</td>\n",
       "      <td>3</td>\n",
       "      <td>11</td>\n",
       "      <td>2017</td>\n",
       "      <td>другой</td>\n",
       "    </tr>\n",
       "    <tr>\n",
       "      <th>7</th>\n",
       "      <td>5</td>\n",
       "      <td>7915000.0</td>\n",
       "      <td>71.60</td>\n",
       "      <td>2019-04-18</td>\n",
       "      <td>2</td>\n",
       "      <td>NaN</td>\n",
       "      <td>24</td>\n",
       "      <td>NaN</td>\n",
       "      <td>22</td>\n",
       "      <td>NaN</td>\n",
       "      <td>...</td>\n",
       "      <td>0.0</td>\n",
       "      <td>NaN</td>\n",
       "      <td>0.0</td>\n",
       "      <td>NaN</td>\n",
       "      <td>NaN</td>\n",
       "      <td>110544.692737</td>\n",
       "      <td>3</td>\n",
       "      <td>4</td>\n",
       "      <td>2019</td>\n",
       "      <td>другой</td>\n",
       "    </tr>\n",
       "    <tr>\n",
       "      <th>8</th>\n",
       "      <td>20</td>\n",
       "      <td>2900000.0</td>\n",
       "      <td>33.16</td>\n",
       "      <td>2018-05-23</td>\n",
       "      <td>1</td>\n",
       "      <td>NaN</td>\n",
       "      <td>27</td>\n",
       "      <td>15.43</td>\n",
       "      <td>26</td>\n",
       "      <td>NaN</td>\n",
       "      <td>...</td>\n",
       "      <td>NaN</td>\n",
       "      <td>NaN</td>\n",
       "      <td>NaN</td>\n",
       "      <td>NaN</td>\n",
       "      <td>189.0</td>\n",
       "      <td>87454.764777</td>\n",
       "      <td>2</td>\n",
       "      <td>5</td>\n",
       "      <td>2018</td>\n",
       "      <td>другой</td>\n",
       "    </tr>\n",
       "    <tr>\n",
       "      <th>9</th>\n",
       "      <td>18</td>\n",
       "      <td>5400000.0</td>\n",
       "      <td>61.00</td>\n",
       "      <td>2017-02-26</td>\n",
       "      <td>3</td>\n",
       "      <td>2.50</td>\n",
       "      <td>9</td>\n",
       "      <td>43.60</td>\n",
       "      <td>7</td>\n",
       "      <td>NaN</td>\n",
       "      <td>...</td>\n",
       "      <td>0.0</td>\n",
       "      <td>NaN</td>\n",
       "      <td>0.0</td>\n",
       "      <td>NaN</td>\n",
       "      <td>289.0</td>\n",
       "      <td>88524.590164</td>\n",
       "      <td>6</td>\n",
       "      <td>2</td>\n",
       "      <td>2017</td>\n",
       "      <td>другой</td>\n",
       "    </tr>\n",
       "  </tbody>\n",
       "</table>\n",
       "<p>10 rows × 27 columns</p>\n",
       "</div>"
      ],
      "text/plain": [
       "   total_images  last_price  total_area first_day_exposition  rooms  \\\n",
       "0            20  13000000.0      108.00           2019-03-07      3   \n",
       "1             7   3350000.0       40.40           2018-12-04      1   \n",
       "2            10   5196000.0       56.00           2015-08-20      2   \n",
       "3             0  64900000.0      159.00           2015-07-24      3   \n",
       "4             2  10000000.0      100.00           2018-06-19      2   \n",
       "5            10   2890000.0       30.40           2018-09-10      1   \n",
       "6             6   3700000.0       37.30           2017-11-02      1   \n",
       "7             5   7915000.0       71.60           2019-04-18      2   \n",
       "8            20   2900000.0       33.16           2018-05-23      1   \n",
       "9            18   5400000.0       61.00           2017-02-26      3   \n",
       "\n",
       "   ceiling_height  floors_total  living_area  floor is_apartment  ...  \\\n",
       "0            2.70            16        51.00      8          NaN  ...   \n",
       "1             NaN            11        18.60      1          NaN  ...   \n",
       "2             NaN             5        34.30      4          NaN  ...   \n",
       "3             NaN            14          NaN      9          NaN  ...   \n",
       "4            3.03            14        32.00     13          NaN  ...   \n",
       "5             NaN            12        14.40      5          NaN  ...   \n",
       "6             NaN            26        10.60      6          NaN  ...   \n",
       "7             NaN            24          NaN     22          NaN  ...   \n",
       "8             NaN            27        15.43     26          NaN  ...   \n",
       "9            2.50             9        43.60      7          NaN  ...   \n",
       "\n",
       "   parks_around3000  parks_nearest  ponds_around3000  ponds_nearest  \\\n",
       "0               1.0          482.0               2.0          755.0   \n",
       "1               0.0            NaN               0.0            NaN   \n",
       "2               1.0           90.0               2.0          574.0   \n",
       "3               2.0           84.0               3.0          234.0   \n",
       "4               2.0          112.0               1.0           48.0   \n",
       "5               NaN            NaN               NaN            NaN   \n",
       "6               0.0            NaN               0.0            NaN   \n",
       "7               0.0            NaN               0.0            NaN   \n",
       "8               NaN            NaN               NaN            NaN   \n",
       "9               0.0            NaN               0.0            NaN   \n",
       "\n",
       "  days_exposition  price_for_meter  day_exposition  month_exposition  \\\n",
       "0             NaN    120370.370370               3                 3   \n",
       "1            81.0     82920.792079               1                12   \n",
       "2           558.0     92785.714286               3                 8   \n",
       "3           424.0    408176.100629               4                 7   \n",
       "4           121.0    100000.000000               1                 6   \n",
       "5            55.0     95065.789474               0                 9   \n",
       "6           155.0     99195.710456               3                11   \n",
       "7             NaN    110544.692737               3                 4   \n",
       "8           189.0     87454.764777               2                 5   \n",
       "9           289.0     88524.590164               6                 2   \n",
       "\n",
       "   year_exposition  apartment_floor  \n",
       "0             2019           другой  \n",
       "1             2018           первый  \n",
       "2             2015           другой  \n",
       "3             2015           другой  \n",
       "4             2018           другой  \n",
       "5             2018           другой  \n",
       "6             2017           другой  \n",
       "7             2019           другой  \n",
       "8             2018           другой  \n",
       "9             2017           другой  \n",
       "\n",
       "[10 rows x 27 columns]"
      ]
     },
     "execution_count": 11,
     "metadata": {},
     "output_type": "execute_result"
    }
   ],
   "source": [
    "df['apartment_floor'] = df.apply(apartment_floor, axis=1)\n",
    "df.head(10)"
   ]
  },
  {
   "cell_type": "markdown",
   "metadata": {},
   "source": [
    "Датафрейм имеет достаточно большое количество столбцов, и сравнивать отдельно стоящие столбцы довольно сложно.\n",
    "\n",
    "Создадим отдельный проверочный датафрейм, где проверим как сработала написанная функция:"
   ]
  },
  {
   "cell_type": "code",
   "execution_count": 12,
   "metadata": {
    "scrolled": true
   },
   "outputs": [
    {
     "data": {
      "text/html": [
       "<div>\n",
       "<style scoped>\n",
       "    .dataframe tbody tr th:only-of-type {\n",
       "        vertical-align: middle;\n",
       "    }\n",
       "\n",
       "    .dataframe tbody tr th {\n",
       "        vertical-align: top;\n",
       "    }\n",
       "\n",
       "    .dataframe thead th {\n",
       "        text-align: right;\n",
       "    }\n",
       "</style>\n",
       "<table border=\"1\" class=\"dataframe\">\n",
       "  <thead>\n",
       "    <tr style=\"text-align: right;\">\n",
       "      <th></th>\n",
       "      <th>floor</th>\n",
       "      <th>floors_total</th>\n",
       "      <th>apartment_floor</th>\n",
       "    </tr>\n",
       "  </thead>\n",
       "  <tbody>\n",
       "    <tr>\n",
       "      <th>0</th>\n",
       "      <td>8</td>\n",
       "      <td>16</td>\n",
       "      <td>другой</td>\n",
       "    </tr>\n",
       "    <tr>\n",
       "      <th>1</th>\n",
       "      <td>1</td>\n",
       "      <td>11</td>\n",
       "      <td>первый</td>\n",
       "    </tr>\n",
       "    <tr>\n",
       "      <th>2</th>\n",
       "      <td>4</td>\n",
       "      <td>5</td>\n",
       "      <td>другой</td>\n",
       "    </tr>\n",
       "    <tr>\n",
       "      <th>3</th>\n",
       "      <td>9</td>\n",
       "      <td>14</td>\n",
       "      <td>другой</td>\n",
       "    </tr>\n",
       "    <tr>\n",
       "      <th>4</th>\n",
       "      <td>13</td>\n",
       "      <td>14</td>\n",
       "      <td>другой</td>\n",
       "    </tr>\n",
       "    <tr>\n",
       "      <th>5</th>\n",
       "      <td>5</td>\n",
       "      <td>12</td>\n",
       "      <td>другой</td>\n",
       "    </tr>\n",
       "    <tr>\n",
       "      <th>6</th>\n",
       "      <td>6</td>\n",
       "      <td>26</td>\n",
       "      <td>другой</td>\n",
       "    </tr>\n",
       "    <tr>\n",
       "      <th>7</th>\n",
       "      <td>22</td>\n",
       "      <td>24</td>\n",
       "      <td>другой</td>\n",
       "    </tr>\n",
       "    <tr>\n",
       "      <th>8</th>\n",
       "      <td>26</td>\n",
       "      <td>27</td>\n",
       "      <td>другой</td>\n",
       "    </tr>\n",
       "    <tr>\n",
       "      <th>9</th>\n",
       "      <td>7</td>\n",
       "      <td>9</td>\n",
       "      <td>другой</td>\n",
       "    </tr>\n",
       "    <tr>\n",
       "      <th>10</th>\n",
       "      <td>3</td>\n",
       "      <td>12</td>\n",
       "      <td>другой</td>\n",
       "    </tr>\n",
       "    <tr>\n",
       "      <th>11</th>\n",
       "      <td>4</td>\n",
       "      <td>5</td>\n",
       "      <td>другой</td>\n",
       "    </tr>\n",
       "    <tr>\n",
       "      <th>12</th>\n",
       "      <td>5</td>\n",
       "      <td>5</td>\n",
       "      <td>последний</td>\n",
       "    </tr>\n",
       "    <tr>\n",
       "      <th>13</th>\n",
       "      <td>5</td>\n",
       "      <td>5</td>\n",
       "      <td>последний</td>\n",
       "    </tr>\n",
       "    <tr>\n",
       "      <th>14</th>\n",
       "      <td>1</td>\n",
       "      <td>6</td>\n",
       "      <td>первый</td>\n",
       "    </tr>\n",
       "    <tr>\n",
       "      <th>15</th>\n",
       "      <td>5</td>\n",
       "      <td>14</td>\n",
       "      <td>другой</td>\n",
       "    </tr>\n",
       "    <tr>\n",
       "      <th>16</th>\n",
       "      <td>1</td>\n",
       "      <td>5</td>\n",
       "      <td>первый</td>\n",
       "    </tr>\n",
       "    <tr>\n",
       "      <th>17</th>\n",
       "      <td>7</td>\n",
       "      <td>17</td>\n",
       "      <td>другой</td>\n",
       "    </tr>\n",
       "    <tr>\n",
       "      <th>18</th>\n",
       "      <td>2</td>\n",
       "      <td>5</td>\n",
       "      <td>другой</td>\n",
       "    </tr>\n",
       "    <tr>\n",
       "      <th>19</th>\n",
       "      <td>8</td>\n",
       "      <td>16</td>\n",
       "      <td>другой</td>\n",
       "    </tr>\n",
       "  </tbody>\n",
       "</table>\n",
       "</div>"
      ],
      "text/plain": [
       "    floor  floors_total apartment_floor\n",
       "0       8            16          другой\n",
       "1       1            11          первый\n",
       "2       4             5          другой\n",
       "3       9            14          другой\n",
       "4      13            14          другой\n",
       "5       5            12          другой\n",
       "6       6            26          другой\n",
       "7      22            24          другой\n",
       "8      26            27          другой\n",
       "9       7             9          другой\n",
       "10      3            12          другой\n",
       "11      4             5          другой\n",
       "12      5             5       последний\n",
       "13      5             5       последний\n",
       "14      1             6          первый\n",
       "15      5            14          другой\n",
       "16      1             5          первый\n",
       "17      7            17          другой\n",
       "18      2             5          другой\n",
       "19      8            16          другой"
      ]
     },
     "execution_count": 12,
     "metadata": {},
     "output_type": "execute_result"
    }
   ],
   "source": [
    "floors = df[['floor', 'floors_total', 'apartment_floor']]\n",
    "floors.head(20)"
   ]
  },
  {
   "cell_type": "markdown",
   "metadata": {},
   "source": [
    "Теперь мы убедились, что функция сработала правильно, и записанные в новом столбце данные корректны. \n",
    "\n",
    "Теперь можно с ними работать."
   ]
  },
  {
   "cell_type": "markdown",
   "metadata": {},
   "source": [
    "### Соотношение жилой и общей площади"
   ]
  },
  {
   "cell_type": "markdown",
   "metadata": {},
   "source": [
    "Данное соотношение выразим в процентах - сколько процентов жилая площадь занимает от общей"
   ]
  },
  {
   "cell_type": "code",
   "execution_count": 13,
   "metadata": {},
   "outputs": [
    {
     "data": {
      "text/html": [
       "<div>\n",
       "<style scoped>\n",
       "    .dataframe tbody tr th:only-of-type {\n",
       "        vertical-align: middle;\n",
       "    }\n",
       "\n",
       "    .dataframe tbody tr th {\n",
       "        vertical-align: top;\n",
       "    }\n",
       "\n",
       "    .dataframe thead th {\n",
       "        text-align: right;\n",
       "    }\n",
       "</style>\n",
       "<table border=\"1\" class=\"dataframe\">\n",
       "  <thead>\n",
       "    <tr style=\"text-align: right;\">\n",
       "      <th></th>\n",
       "      <th>total_images</th>\n",
       "      <th>last_price</th>\n",
       "      <th>total_area</th>\n",
       "      <th>first_day_exposition</th>\n",
       "      <th>rooms</th>\n",
       "      <th>ceiling_height</th>\n",
       "      <th>floors_total</th>\n",
       "      <th>living_area</th>\n",
       "      <th>floor</th>\n",
       "      <th>is_apartment</th>\n",
       "      <th>...</th>\n",
       "      <th>parks_nearest</th>\n",
       "      <th>ponds_around3000</th>\n",
       "      <th>ponds_nearest</th>\n",
       "      <th>days_exposition</th>\n",
       "      <th>price_for_meter</th>\n",
       "      <th>day_exposition</th>\n",
       "      <th>month_exposition</th>\n",
       "      <th>year_exposition</th>\n",
       "      <th>apartment_floor</th>\n",
       "      <th>ratio_living_area</th>\n",
       "    </tr>\n",
       "  </thead>\n",
       "  <tbody>\n",
       "    <tr>\n",
       "      <th>0</th>\n",
       "      <td>20</td>\n",
       "      <td>13000000.0</td>\n",
       "      <td>108.00</td>\n",
       "      <td>2019-03-07</td>\n",
       "      <td>3</td>\n",
       "      <td>2.70</td>\n",
       "      <td>16</td>\n",
       "      <td>51.00</td>\n",
       "      <td>8</td>\n",
       "      <td>NaN</td>\n",
       "      <td>...</td>\n",
       "      <td>482.0</td>\n",
       "      <td>2.0</td>\n",
       "      <td>755.0</td>\n",
       "      <td>NaN</td>\n",
       "      <td>120370.370370</td>\n",
       "      <td>3</td>\n",
       "      <td>3</td>\n",
       "      <td>2019</td>\n",
       "      <td>другой</td>\n",
       "      <td>47.222222</td>\n",
       "    </tr>\n",
       "    <tr>\n",
       "      <th>1</th>\n",
       "      <td>7</td>\n",
       "      <td>3350000.0</td>\n",
       "      <td>40.40</td>\n",
       "      <td>2018-12-04</td>\n",
       "      <td>1</td>\n",
       "      <td>NaN</td>\n",
       "      <td>11</td>\n",
       "      <td>18.60</td>\n",
       "      <td>1</td>\n",
       "      <td>NaN</td>\n",
       "      <td>...</td>\n",
       "      <td>NaN</td>\n",
       "      <td>0.0</td>\n",
       "      <td>NaN</td>\n",
       "      <td>81.0</td>\n",
       "      <td>82920.792079</td>\n",
       "      <td>1</td>\n",
       "      <td>12</td>\n",
       "      <td>2018</td>\n",
       "      <td>первый</td>\n",
       "      <td>46.039604</td>\n",
       "    </tr>\n",
       "    <tr>\n",
       "      <th>2</th>\n",
       "      <td>10</td>\n",
       "      <td>5196000.0</td>\n",
       "      <td>56.00</td>\n",
       "      <td>2015-08-20</td>\n",
       "      <td>2</td>\n",
       "      <td>NaN</td>\n",
       "      <td>5</td>\n",
       "      <td>34.30</td>\n",
       "      <td>4</td>\n",
       "      <td>NaN</td>\n",
       "      <td>...</td>\n",
       "      <td>90.0</td>\n",
       "      <td>2.0</td>\n",
       "      <td>574.0</td>\n",
       "      <td>558.0</td>\n",
       "      <td>92785.714286</td>\n",
       "      <td>3</td>\n",
       "      <td>8</td>\n",
       "      <td>2015</td>\n",
       "      <td>другой</td>\n",
       "      <td>61.250000</td>\n",
       "    </tr>\n",
       "    <tr>\n",
       "      <th>3</th>\n",
       "      <td>0</td>\n",
       "      <td>64900000.0</td>\n",
       "      <td>159.00</td>\n",
       "      <td>2015-07-24</td>\n",
       "      <td>3</td>\n",
       "      <td>NaN</td>\n",
       "      <td>14</td>\n",
       "      <td>NaN</td>\n",
       "      <td>9</td>\n",
       "      <td>NaN</td>\n",
       "      <td>...</td>\n",
       "      <td>84.0</td>\n",
       "      <td>3.0</td>\n",
       "      <td>234.0</td>\n",
       "      <td>424.0</td>\n",
       "      <td>408176.100629</td>\n",
       "      <td>4</td>\n",
       "      <td>7</td>\n",
       "      <td>2015</td>\n",
       "      <td>другой</td>\n",
       "      <td>NaN</td>\n",
       "    </tr>\n",
       "    <tr>\n",
       "      <th>4</th>\n",
       "      <td>2</td>\n",
       "      <td>10000000.0</td>\n",
       "      <td>100.00</td>\n",
       "      <td>2018-06-19</td>\n",
       "      <td>2</td>\n",
       "      <td>3.03</td>\n",
       "      <td>14</td>\n",
       "      <td>32.00</td>\n",
       "      <td>13</td>\n",
       "      <td>NaN</td>\n",
       "      <td>...</td>\n",
       "      <td>112.0</td>\n",
       "      <td>1.0</td>\n",
       "      <td>48.0</td>\n",
       "      <td>121.0</td>\n",
       "      <td>100000.000000</td>\n",
       "      <td>1</td>\n",
       "      <td>6</td>\n",
       "      <td>2018</td>\n",
       "      <td>другой</td>\n",
       "      <td>32.000000</td>\n",
       "    </tr>\n",
       "    <tr>\n",
       "      <th>5</th>\n",
       "      <td>10</td>\n",
       "      <td>2890000.0</td>\n",
       "      <td>30.40</td>\n",
       "      <td>2018-09-10</td>\n",
       "      <td>1</td>\n",
       "      <td>NaN</td>\n",
       "      <td>12</td>\n",
       "      <td>14.40</td>\n",
       "      <td>5</td>\n",
       "      <td>NaN</td>\n",
       "      <td>...</td>\n",
       "      <td>NaN</td>\n",
       "      <td>NaN</td>\n",
       "      <td>NaN</td>\n",
       "      <td>55.0</td>\n",
       "      <td>95065.789474</td>\n",
       "      <td>0</td>\n",
       "      <td>9</td>\n",
       "      <td>2018</td>\n",
       "      <td>другой</td>\n",
       "      <td>47.368421</td>\n",
       "    </tr>\n",
       "    <tr>\n",
       "      <th>6</th>\n",
       "      <td>6</td>\n",
       "      <td>3700000.0</td>\n",
       "      <td>37.30</td>\n",
       "      <td>2017-11-02</td>\n",
       "      <td>1</td>\n",
       "      <td>NaN</td>\n",
       "      <td>26</td>\n",
       "      <td>10.60</td>\n",
       "      <td>6</td>\n",
       "      <td>NaN</td>\n",
       "      <td>...</td>\n",
       "      <td>NaN</td>\n",
       "      <td>0.0</td>\n",
       "      <td>NaN</td>\n",
       "      <td>155.0</td>\n",
       "      <td>99195.710456</td>\n",
       "      <td>3</td>\n",
       "      <td>11</td>\n",
       "      <td>2017</td>\n",
       "      <td>другой</td>\n",
       "      <td>28.418231</td>\n",
       "    </tr>\n",
       "    <tr>\n",
       "      <th>7</th>\n",
       "      <td>5</td>\n",
       "      <td>7915000.0</td>\n",
       "      <td>71.60</td>\n",
       "      <td>2019-04-18</td>\n",
       "      <td>2</td>\n",
       "      <td>NaN</td>\n",
       "      <td>24</td>\n",
       "      <td>NaN</td>\n",
       "      <td>22</td>\n",
       "      <td>NaN</td>\n",
       "      <td>...</td>\n",
       "      <td>NaN</td>\n",
       "      <td>0.0</td>\n",
       "      <td>NaN</td>\n",
       "      <td>NaN</td>\n",
       "      <td>110544.692737</td>\n",
       "      <td>3</td>\n",
       "      <td>4</td>\n",
       "      <td>2019</td>\n",
       "      <td>другой</td>\n",
       "      <td>NaN</td>\n",
       "    </tr>\n",
       "    <tr>\n",
       "      <th>8</th>\n",
       "      <td>20</td>\n",
       "      <td>2900000.0</td>\n",
       "      <td>33.16</td>\n",
       "      <td>2018-05-23</td>\n",
       "      <td>1</td>\n",
       "      <td>NaN</td>\n",
       "      <td>27</td>\n",
       "      <td>15.43</td>\n",
       "      <td>26</td>\n",
       "      <td>NaN</td>\n",
       "      <td>...</td>\n",
       "      <td>NaN</td>\n",
       "      <td>NaN</td>\n",
       "      <td>NaN</td>\n",
       "      <td>189.0</td>\n",
       "      <td>87454.764777</td>\n",
       "      <td>2</td>\n",
       "      <td>5</td>\n",
       "      <td>2018</td>\n",
       "      <td>другой</td>\n",
       "      <td>46.531966</td>\n",
       "    </tr>\n",
       "    <tr>\n",
       "      <th>9</th>\n",
       "      <td>18</td>\n",
       "      <td>5400000.0</td>\n",
       "      <td>61.00</td>\n",
       "      <td>2017-02-26</td>\n",
       "      <td>3</td>\n",
       "      <td>2.50</td>\n",
       "      <td>9</td>\n",
       "      <td>43.60</td>\n",
       "      <td>7</td>\n",
       "      <td>NaN</td>\n",
       "      <td>...</td>\n",
       "      <td>NaN</td>\n",
       "      <td>0.0</td>\n",
       "      <td>NaN</td>\n",
       "      <td>289.0</td>\n",
       "      <td>88524.590164</td>\n",
       "      <td>6</td>\n",
       "      <td>2</td>\n",
       "      <td>2017</td>\n",
       "      <td>другой</td>\n",
       "      <td>71.475410</td>\n",
       "    </tr>\n",
       "  </tbody>\n",
       "</table>\n",
       "<p>10 rows × 28 columns</p>\n",
       "</div>"
      ],
      "text/plain": [
       "   total_images  last_price  total_area first_day_exposition  rooms  \\\n",
       "0            20  13000000.0      108.00           2019-03-07      3   \n",
       "1             7   3350000.0       40.40           2018-12-04      1   \n",
       "2            10   5196000.0       56.00           2015-08-20      2   \n",
       "3             0  64900000.0      159.00           2015-07-24      3   \n",
       "4             2  10000000.0      100.00           2018-06-19      2   \n",
       "5            10   2890000.0       30.40           2018-09-10      1   \n",
       "6             6   3700000.0       37.30           2017-11-02      1   \n",
       "7             5   7915000.0       71.60           2019-04-18      2   \n",
       "8            20   2900000.0       33.16           2018-05-23      1   \n",
       "9            18   5400000.0       61.00           2017-02-26      3   \n",
       "\n",
       "   ceiling_height  floors_total  living_area  floor is_apartment  ...  \\\n",
       "0            2.70            16        51.00      8          NaN  ...   \n",
       "1             NaN            11        18.60      1          NaN  ...   \n",
       "2             NaN             5        34.30      4          NaN  ...   \n",
       "3             NaN            14          NaN      9          NaN  ...   \n",
       "4            3.03            14        32.00     13          NaN  ...   \n",
       "5             NaN            12        14.40      5          NaN  ...   \n",
       "6             NaN            26        10.60      6          NaN  ...   \n",
       "7             NaN            24          NaN     22          NaN  ...   \n",
       "8             NaN            27        15.43     26          NaN  ...   \n",
       "9            2.50             9        43.60      7          NaN  ...   \n",
       "\n",
       "   parks_nearest  ponds_around3000  ponds_nearest  days_exposition  \\\n",
       "0          482.0               2.0          755.0              NaN   \n",
       "1            NaN               0.0            NaN             81.0   \n",
       "2           90.0               2.0          574.0            558.0   \n",
       "3           84.0               3.0          234.0            424.0   \n",
       "4          112.0               1.0           48.0            121.0   \n",
       "5            NaN               NaN            NaN             55.0   \n",
       "6            NaN               0.0            NaN            155.0   \n",
       "7            NaN               0.0            NaN              NaN   \n",
       "8            NaN               NaN            NaN            189.0   \n",
       "9            NaN               0.0            NaN            289.0   \n",
       "\n",
       "  price_for_meter  day_exposition  month_exposition  year_exposition  \\\n",
       "0   120370.370370               3                 3             2019   \n",
       "1    82920.792079               1                12             2018   \n",
       "2    92785.714286               3                 8             2015   \n",
       "3   408176.100629               4                 7             2015   \n",
       "4   100000.000000               1                 6             2018   \n",
       "5    95065.789474               0                 9             2018   \n",
       "6    99195.710456               3                11             2017   \n",
       "7   110544.692737               3                 4             2019   \n",
       "8    87454.764777               2                 5             2018   \n",
       "9    88524.590164               6                 2             2017   \n",
       "\n",
       "   apartment_floor  ratio_living_area  \n",
       "0           другой          47.222222  \n",
       "1           первый          46.039604  \n",
       "2           другой          61.250000  \n",
       "3           другой                NaN  \n",
       "4           другой          32.000000  \n",
       "5           другой          47.368421  \n",
       "6           другой          28.418231  \n",
       "7           другой                NaN  \n",
       "8           другой          46.531966  \n",
       "9           другой          71.475410  \n",
       "\n",
       "[10 rows x 28 columns]"
      ]
     },
     "execution_count": 13,
     "metadata": {},
     "output_type": "execute_result"
    }
   ],
   "source": [
    "df['ratio_living_area'] = (df['living_area'] / df['total_area']) * 100\n",
    "df.head(10)"
   ]
  },
  {
   "cell_type": "markdown",
   "metadata": {},
   "source": [
    "### Отношение площади кухни к общей площади"
   ]
  },
  {
   "cell_type": "markdown",
   "metadata": {},
   "source": [
    "Аналогично поступим при расчете отношения площади кухни к общей"
   ]
  },
  {
   "cell_type": "code",
   "execution_count": 14,
   "metadata": {
    "scrolled": false
   },
   "outputs": [
    {
     "data": {
      "text/html": [
       "<div>\n",
       "<style scoped>\n",
       "    .dataframe tbody tr th:only-of-type {\n",
       "        vertical-align: middle;\n",
       "    }\n",
       "\n",
       "    .dataframe tbody tr th {\n",
       "        vertical-align: top;\n",
       "    }\n",
       "\n",
       "    .dataframe thead th {\n",
       "        text-align: right;\n",
       "    }\n",
       "</style>\n",
       "<table border=\"1\" class=\"dataframe\">\n",
       "  <thead>\n",
       "    <tr style=\"text-align: right;\">\n",
       "      <th></th>\n",
       "      <th>total_images</th>\n",
       "      <th>last_price</th>\n",
       "      <th>total_area</th>\n",
       "      <th>first_day_exposition</th>\n",
       "      <th>rooms</th>\n",
       "      <th>ceiling_height</th>\n",
       "      <th>floors_total</th>\n",
       "      <th>living_area</th>\n",
       "      <th>floor</th>\n",
       "      <th>is_apartment</th>\n",
       "      <th>...</th>\n",
       "      <th>ponds_around3000</th>\n",
       "      <th>ponds_nearest</th>\n",
       "      <th>days_exposition</th>\n",
       "      <th>price_for_meter</th>\n",
       "      <th>day_exposition</th>\n",
       "      <th>month_exposition</th>\n",
       "      <th>year_exposition</th>\n",
       "      <th>apartment_floor</th>\n",
       "      <th>ratio_living_area</th>\n",
       "      <th>ratio_kitchen_area</th>\n",
       "    </tr>\n",
       "  </thead>\n",
       "  <tbody>\n",
       "    <tr>\n",
       "      <th>0</th>\n",
       "      <td>20</td>\n",
       "      <td>13000000.0</td>\n",
       "      <td>108.00</td>\n",
       "      <td>2019-03-07</td>\n",
       "      <td>3</td>\n",
       "      <td>2.70</td>\n",
       "      <td>16</td>\n",
       "      <td>51.00</td>\n",
       "      <td>8</td>\n",
       "      <td>NaN</td>\n",
       "      <td>...</td>\n",
       "      <td>2.0</td>\n",
       "      <td>755.0</td>\n",
       "      <td>NaN</td>\n",
       "      <td>120370.370370</td>\n",
       "      <td>3</td>\n",
       "      <td>3</td>\n",
       "      <td>2019</td>\n",
       "      <td>другой</td>\n",
       "      <td>47.222222</td>\n",
       "      <td>23.148148</td>\n",
       "    </tr>\n",
       "    <tr>\n",
       "      <th>1</th>\n",
       "      <td>7</td>\n",
       "      <td>3350000.0</td>\n",
       "      <td>40.40</td>\n",
       "      <td>2018-12-04</td>\n",
       "      <td>1</td>\n",
       "      <td>NaN</td>\n",
       "      <td>11</td>\n",
       "      <td>18.60</td>\n",
       "      <td>1</td>\n",
       "      <td>NaN</td>\n",
       "      <td>...</td>\n",
       "      <td>0.0</td>\n",
       "      <td>NaN</td>\n",
       "      <td>81.0</td>\n",
       "      <td>82920.792079</td>\n",
       "      <td>1</td>\n",
       "      <td>12</td>\n",
       "      <td>2018</td>\n",
       "      <td>первый</td>\n",
       "      <td>46.039604</td>\n",
       "      <td>27.227723</td>\n",
       "    </tr>\n",
       "    <tr>\n",
       "      <th>2</th>\n",
       "      <td>10</td>\n",
       "      <td>5196000.0</td>\n",
       "      <td>56.00</td>\n",
       "      <td>2015-08-20</td>\n",
       "      <td>2</td>\n",
       "      <td>NaN</td>\n",
       "      <td>5</td>\n",
       "      <td>34.30</td>\n",
       "      <td>4</td>\n",
       "      <td>NaN</td>\n",
       "      <td>...</td>\n",
       "      <td>2.0</td>\n",
       "      <td>574.0</td>\n",
       "      <td>558.0</td>\n",
       "      <td>92785.714286</td>\n",
       "      <td>3</td>\n",
       "      <td>8</td>\n",
       "      <td>2015</td>\n",
       "      <td>другой</td>\n",
       "      <td>61.250000</td>\n",
       "      <td>14.821429</td>\n",
       "    </tr>\n",
       "    <tr>\n",
       "      <th>3</th>\n",
       "      <td>0</td>\n",
       "      <td>64900000.0</td>\n",
       "      <td>159.00</td>\n",
       "      <td>2015-07-24</td>\n",
       "      <td>3</td>\n",
       "      <td>NaN</td>\n",
       "      <td>14</td>\n",
       "      <td>NaN</td>\n",
       "      <td>9</td>\n",
       "      <td>NaN</td>\n",
       "      <td>...</td>\n",
       "      <td>3.0</td>\n",
       "      <td>234.0</td>\n",
       "      <td>424.0</td>\n",
       "      <td>408176.100629</td>\n",
       "      <td>4</td>\n",
       "      <td>7</td>\n",
       "      <td>2015</td>\n",
       "      <td>другой</td>\n",
       "      <td>NaN</td>\n",
       "      <td>NaN</td>\n",
       "    </tr>\n",
       "    <tr>\n",
       "      <th>4</th>\n",
       "      <td>2</td>\n",
       "      <td>10000000.0</td>\n",
       "      <td>100.00</td>\n",
       "      <td>2018-06-19</td>\n",
       "      <td>2</td>\n",
       "      <td>3.03</td>\n",
       "      <td>14</td>\n",
       "      <td>32.00</td>\n",
       "      <td>13</td>\n",
       "      <td>NaN</td>\n",
       "      <td>...</td>\n",
       "      <td>1.0</td>\n",
       "      <td>48.0</td>\n",
       "      <td>121.0</td>\n",
       "      <td>100000.000000</td>\n",
       "      <td>1</td>\n",
       "      <td>6</td>\n",
       "      <td>2018</td>\n",
       "      <td>другой</td>\n",
       "      <td>32.000000</td>\n",
       "      <td>41.000000</td>\n",
       "    </tr>\n",
       "    <tr>\n",
       "      <th>5</th>\n",
       "      <td>10</td>\n",
       "      <td>2890000.0</td>\n",
       "      <td>30.40</td>\n",
       "      <td>2018-09-10</td>\n",
       "      <td>1</td>\n",
       "      <td>NaN</td>\n",
       "      <td>12</td>\n",
       "      <td>14.40</td>\n",
       "      <td>5</td>\n",
       "      <td>NaN</td>\n",
       "      <td>...</td>\n",
       "      <td>NaN</td>\n",
       "      <td>NaN</td>\n",
       "      <td>55.0</td>\n",
       "      <td>95065.789474</td>\n",
       "      <td>0</td>\n",
       "      <td>9</td>\n",
       "      <td>2018</td>\n",
       "      <td>другой</td>\n",
       "      <td>47.368421</td>\n",
       "      <td>29.934211</td>\n",
       "    </tr>\n",
       "    <tr>\n",
       "      <th>6</th>\n",
       "      <td>6</td>\n",
       "      <td>3700000.0</td>\n",
       "      <td>37.30</td>\n",
       "      <td>2017-11-02</td>\n",
       "      <td>1</td>\n",
       "      <td>NaN</td>\n",
       "      <td>26</td>\n",
       "      <td>10.60</td>\n",
       "      <td>6</td>\n",
       "      <td>NaN</td>\n",
       "      <td>...</td>\n",
       "      <td>0.0</td>\n",
       "      <td>NaN</td>\n",
       "      <td>155.0</td>\n",
       "      <td>99195.710456</td>\n",
       "      <td>3</td>\n",
       "      <td>11</td>\n",
       "      <td>2017</td>\n",
       "      <td>другой</td>\n",
       "      <td>28.418231</td>\n",
       "      <td>38.605898</td>\n",
       "    </tr>\n",
       "    <tr>\n",
       "      <th>7</th>\n",
       "      <td>5</td>\n",
       "      <td>7915000.0</td>\n",
       "      <td>71.60</td>\n",
       "      <td>2019-04-18</td>\n",
       "      <td>2</td>\n",
       "      <td>NaN</td>\n",
       "      <td>24</td>\n",
       "      <td>NaN</td>\n",
       "      <td>22</td>\n",
       "      <td>NaN</td>\n",
       "      <td>...</td>\n",
       "      <td>0.0</td>\n",
       "      <td>NaN</td>\n",
       "      <td>NaN</td>\n",
       "      <td>110544.692737</td>\n",
       "      <td>3</td>\n",
       "      <td>4</td>\n",
       "      <td>2019</td>\n",
       "      <td>другой</td>\n",
       "      <td>NaN</td>\n",
       "      <td>26.396648</td>\n",
       "    </tr>\n",
       "    <tr>\n",
       "      <th>8</th>\n",
       "      <td>20</td>\n",
       "      <td>2900000.0</td>\n",
       "      <td>33.16</td>\n",
       "      <td>2018-05-23</td>\n",
       "      <td>1</td>\n",
       "      <td>NaN</td>\n",
       "      <td>27</td>\n",
       "      <td>15.43</td>\n",
       "      <td>26</td>\n",
       "      <td>NaN</td>\n",
       "      <td>...</td>\n",
       "      <td>NaN</td>\n",
       "      <td>NaN</td>\n",
       "      <td>189.0</td>\n",
       "      <td>87454.764777</td>\n",
       "      <td>2</td>\n",
       "      <td>5</td>\n",
       "      <td>2018</td>\n",
       "      <td>другой</td>\n",
       "      <td>46.531966</td>\n",
       "      <td>26.568154</td>\n",
       "    </tr>\n",
       "    <tr>\n",
       "      <th>9</th>\n",
       "      <td>18</td>\n",
       "      <td>5400000.0</td>\n",
       "      <td>61.00</td>\n",
       "      <td>2017-02-26</td>\n",
       "      <td>3</td>\n",
       "      <td>2.50</td>\n",
       "      <td>9</td>\n",
       "      <td>43.60</td>\n",
       "      <td>7</td>\n",
       "      <td>NaN</td>\n",
       "      <td>...</td>\n",
       "      <td>0.0</td>\n",
       "      <td>NaN</td>\n",
       "      <td>289.0</td>\n",
       "      <td>88524.590164</td>\n",
       "      <td>6</td>\n",
       "      <td>2</td>\n",
       "      <td>2017</td>\n",
       "      <td>другой</td>\n",
       "      <td>71.475410</td>\n",
       "      <td>10.655738</td>\n",
       "    </tr>\n",
       "  </tbody>\n",
       "</table>\n",
       "<p>10 rows × 29 columns</p>\n",
       "</div>"
      ],
      "text/plain": [
       "   total_images  last_price  total_area first_day_exposition  rooms  \\\n",
       "0            20  13000000.0      108.00           2019-03-07      3   \n",
       "1             7   3350000.0       40.40           2018-12-04      1   \n",
       "2            10   5196000.0       56.00           2015-08-20      2   \n",
       "3             0  64900000.0      159.00           2015-07-24      3   \n",
       "4             2  10000000.0      100.00           2018-06-19      2   \n",
       "5            10   2890000.0       30.40           2018-09-10      1   \n",
       "6             6   3700000.0       37.30           2017-11-02      1   \n",
       "7             5   7915000.0       71.60           2019-04-18      2   \n",
       "8            20   2900000.0       33.16           2018-05-23      1   \n",
       "9            18   5400000.0       61.00           2017-02-26      3   \n",
       "\n",
       "   ceiling_height  floors_total  living_area  floor is_apartment  ...  \\\n",
       "0            2.70            16        51.00      8          NaN  ...   \n",
       "1             NaN            11        18.60      1          NaN  ...   \n",
       "2             NaN             5        34.30      4          NaN  ...   \n",
       "3             NaN            14          NaN      9          NaN  ...   \n",
       "4            3.03            14        32.00     13          NaN  ...   \n",
       "5             NaN            12        14.40      5          NaN  ...   \n",
       "6             NaN            26        10.60      6          NaN  ...   \n",
       "7             NaN            24          NaN     22          NaN  ...   \n",
       "8             NaN            27        15.43     26          NaN  ...   \n",
       "9            2.50             9        43.60      7          NaN  ...   \n",
       "\n",
       "   ponds_around3000  ponds_nearest  days_exposition  price_for_meter  \\\n",
       "0               2.0          755.0              NaN    120370.370370   \n",
       "1               0.0            NaN             81.0     82920.792079   \n",
       "2               2.0          574.0            558.0     92785.714286   \n",
       "3               3.0          234.0            424.0    408176.100629   \n",
       "4               1.0           48.0            121.0    100000.000000   \n",
       "5               NaN            NaN             55.0     95065.789474   \n",
       "6               0.0            NaN            155.0     99195.710456   \n",
       "7               0.0            NaN              NaN    110544.692737   \n",
       "8               NaN            NaN            189.0     87454.764777   \n",
       "9               0.0            NaN            289.0     88524.590164   \n",
       "\n",
       "  day_exposition  month_exposition  year_exposition  apartment_floor  \\\n",
       "0              3                 3             2019           другой   \n",
       "1              1                12             2018           первый   \n",
       "2              3                 8             2015           другой   \n",
       "3              4                 7             2015           другой   \n",
       "4              1                 6             2018           другой   \n",
       "5              0                 9             2018           другой   \n",
       "6              3                11             2017           другой   \n",
       "7              3                 4             2019           другой   \n",
       "8              2                 5             2018           другой   \n",
       "9              6                 2             2017           другой   \n",
       "\n",
       "   ratio_living_area  ratio_kitchen_area  \n",
       "0          47.222222           23.148148  \n",
       "1          46.039604           27.227723  \n",
       "2          61.250000           14.821429  \n",
       "3                NaN                 NaN  \n",
       "4          32.000000           41.000000  \n",
       "5          47.368421           29.934211  \n",
       "6          28.418231           38.605898  \n",
       "7                NaN           26.396648  \n",
       "8          46.531966           26.568154  \n",
       "9          71.475410           10.655738  \n",
       "\n",
       "[10 rows x 29 columns]"
      ]
     },
     "execution_count": 14,
     "metadata": {},
     "output_type": "execute_result"
    }
   ],
   "source": [
    "df['ratio_kitchen_area'] = (df['kitchen_area'] / df['total_area']) * 100\n",
    "df.head(10)"
   ]
  },
  {
   "cell_type": "markdown",
   "metadata": {},
   "source": [
    "Интересное наблюдение:\n",
    "\n",
    "В некоторых квартирах кухня больше жилой площади по отношению к общей"
   ]
  },
  {
   "cell_type": "markdown",
   "metadata": {},
   "source": [
    "## Исследовательский анализ данных"
   ]
  },
  {
   "cell_type": "markdown",
   "metadata": {},
   "source": [
    "### Исследование гистограмм площади квартиры, цены, количества комнат и высоты потолков"
   ]
  },
  {
   "cell_type": "markdown",
   "metadata": {},
   "source": [
    "#### Площадь квартиры"
   ]
  },
  {
   "cell_type": "code",
   "execution_count": 15,
   "metadata": {},
   "outputs": [
    {
     "data": {
      "text/plain": [
       "Text(0, 0.5, 'Количество объявлений')"
      ]
     },
     "execution_count": 15,
     "metadata": {},
     "output_type": "execute_result"
    },
    {
     "data": {
      "image/png": "[encoded data removed]",
      "text/plain": [
       "<Figure size 432x288 with 1 Axes>"
      ]
     },
     "metadata": {
      "needs_background": "light"
     },
     "output_type": "display_data"
    }
   ],
   "source": [
    "df['total_area'].hist(bins=50, range=(0, 200))\n",
    "plt.xlabel(\"Квадратные метры\")\n",
    "plt.ylabel(\"Количество объявлений\")"
   ]
  },
  {
   "cell_type": "markdown",
   "metadata": {},
   "source": [
    "Вывод\n",
    "\n",
    "Основная площадь продаваемых квартир не превышает 75-80 квадратных метров. Самые высокие значения в диапазоне от 30 до 50 квадратных метров."
   ]
  },
  {
   "cell_type": "code",
   "execution_count": 16,
   "metadata": {},
   "outputs": [
    {
     "data": {
      "text/plain": [
       "<AxesSubplot:>"
      ]
     },
     "execution_count": 16,
     "metadata": {},
     "output_type": "execute_result"
    },
    {
     "data": {
      "image/png": "[encoded data removed]",
      "text/plain": [
       "<Figure size 432x288 with 1 Axes>"
      ]
     },
     "metadata": {
      "needs_background": "light"
     },
     "output_type": "display_data"
    }
   ],
   "source": [
    "df['last_price'].hist()\n"
   ]
  },
  {
   "cell_type": "code",
   "execution_count": 17,
   "metadata": {
    "scrolled": true
   },
   "outputs": [
    {
     "data": {
      "text/plain": [
       "Text(0, 0.5, 'Количество объявлений')"
      ]
     },
     "execution_count": 17,
     "metadata": {},
     "output_type": "execute_result"
    },
    {
     "data": {
      "image/png": "[encoded data removed]",
      "text/plain": [
       "<Figure size 432x288 with 1 Axes>"
      ]
     },
     "metadata": {
      "needs_background": "light"
     },
     "output_type": "display_data"
    }
   ],
   "source": [
    "df['rooms'].hist(range=(0, 10))\n",
    "plt.xlabel(\"Количество комнат\")\n",
    "plt.ylabel(\"Количество объявлений\")"
   ]
  },
  {
   "cell_type": "markdown",
   "metadata": {},
   "source": [
    "В датафрейме представлены в основном 1,2,3-х комнатные квартиры."
   ]
  },
  {
   "cell_type": "code",
   "execution_count": 18,
   "metadata": {},
   "outputs": [
    {
     "data": {
      "text/plain": [
       "Text(0, 0.5, 'Количество объявлений')"
      ]
     },
     "execution_count": 18,
     "metadata": {},
     "output_type": "execute_result"
    },
    {
     "data": {
      "image/png": "[encoded data removed]",
      "text/plain": [
       "<Figure size 432x288 with 1 Axes>"
      ]
     },
     "metadata": {
      "needs_background": "light"
     },
     "output_type": "display_data"
    }
   ],
   "source": [
    "df['ceiling_height'].hist(range=(0,20))\n",
    "plt.xlabel(\"Высота потолков\")\n",
    "plt.ylabel(\"Количество объявлений\")"
   ]
  },
  {
   "cell_type": "markdown",
   "metadata": {},
   "source": [
    "#### Время продажи квартиры"
   ]
  },
  {
   "cell_type": "code",
   "execution_count": 19,
   "metadata": {
    "scrolled": true
   },
   "outputs": [
    {
     "data": {
      "text/plain": [
       "Text(0, 0.5, 'Количество объявлений')"
      ]
     },
     "execution_count": 19,
     "metadata": {},
     "output_type": "execute_result"
    },
    {
     "data": {
      "image/png": "[encoded data removed]",
      "text/plain": [
       "<Figure size 432x288 with 1 Axes>"
      ]
     },
     "metadata": {
      "needs_background": "light"
     },
     "output_type": "display_data"
    }
   ],
   "source": [
    "df['days_exposition'].hist(range=(0, 600))\n",
    "plt.xlabel(\"Количество дней, которые объявление висело на сайте\")\n",
    "plt.ylabel(\"Количество объявлений\")"
   ]
  },
  {
   "cell_type": "code",
   "execution_count": 20,
   "metadata": {},
   "outputs": [
    {
     "name": "stdout",
     "output_type": "stream",
     "text": [
      "Среднее время продажи квартиры составляет: 181.0 дней\n"
     ]
    }
   ],
   "source": [
    "print('Среднее время продажи квартиры составляет:', df['days_exposition'].mean().round(), 'дней')"
   ]
  },
  {
   "cell_type": "code",
   "execution_count": 21,
   "metadata": {},
   "outputs": [
    {
     "name": "stdout",
     "output_type": "stream",
     "text": [
      "Медианное время продажи квартиры составляет: 95.0 дней\n"
     ]
    }
   ],
   "source": [
    "print('Медианное время продажи квартиры составляет:', df['days_exposition'].median().round(), 'дней')"
   ]
  },
  {
   "cell_type": "markdown",
   "metadata": {},
   "source": [
    "Среднее время продажи квартиры составляет 181 день, однако на графике можно увидеть, что в большинстве случаев, продажа квартиры не превышает 100-110 дней. \n",
    "\n",
    "Очень быстрым сроком продажи квартиры можно считать 50 дней, а самым необычайно долгим - 600 дней, что составляет около двух лет. "
   ]
  },
  {
   "cell_type": "markdown",
   "metadata": {},
   "source": [
    "#### Редкие и выбивающиеся значения"
   ]
  },
  {
   "cell_type": "markdown",
   "metadata": {},
   "source": [
    "Исходя из данных графика можно увидеть, что редкими значениями являются те, которые выходят за пределы 400-500 дней. Можно предположить, что те, кто продавали свои квартиры более 500 дней, либо выставляли неадекватные цены, либо их квартиры находились в крайних сегментах (очень дорогие элитные квартиры, на которые трудно найти покупателя, или же очень дешевые в неблагополучных районах, а также в очень старых разваливающихся домах), либо еще что-то. "
   ]
  },
  {
   "cell_type": "code",
   "execution_count": 22,
   "metadata": {},
   "outputs": [
    {
     "data": {
      "text/plain": [
       "Text(0, 0.5, 'Количество объявлений')"
      ]
     },
     "execution_count": 22,
     "metadata": {},
     "output_type": "execute_result"
    },
    {
     "data": {
      "image/png": "[encoded data removed]",
      "text/plain": [
       "<Figure size 432x288 with 1 Axes>"
      ]
     },
     "metadata": {
      "needs_background": "light"
     },
     "output_type": "display_data"
    }
   ],
   "source": [
    "df2 = df.query('days_exposition < 500')\n",
    "df2['days_exposition'].hist()\n",
    "plt.xlabel(\"Количество дней, которые объявление висело на сайте\")\n",
    "plt.ylabel(\"Количество объявлений\")"
   ]
  },
  {
   "cell_type": "markdown",
   "metadata": {},
   "source": [
    "Более половины всех квартир были проданы менее чем за 100 дней."
   ]
  },
  {
   "cell_type": "markdown",
   "metadata": {},
   "source": [
    "### Факторы, влияющие на стоимость квартиры"
   ]
  },
  {
   "cell_type": "markdown",
   "metadata": {},
   "source": [
    "Для нахождения подобной зависимости необходимо обратиться к корреляции. \n",
    "\n",
    "Для каждой пары значений вычислим корреляцию по Пирсону.\n",
    "\n",
    "В конце сделаем вывод по полученным корреляциям."
   ]
  },
  {
   "cell_type": "markdown",
   "metadata": {},
   "source": [
    "#### Зависимость цены от площади"
   ]
  },
  {
   "cell_type": "code",
   "execution_count": 23,
   "metadata": {},
   "outputs": [
    {
     "data": {
      "text/plain": [
       "0.6536750579657242"
      ]
     },
     "execution_count": 23,
     "metadata": {},
     "output_type": "execute_result"
    }
   ],
   "source": [
    "df['last_price'].corr(df['total_area'])"
   ]
  },
  {
   "cell_type": "markdown",
   "metadata": {},
   "source": [
    "Наблюдается корреляция между ценой на квартиру и ее площадью. "
   ]
  },
  {
   "cell_type": "markdown",
   "metadata": {},
   "source": [
    "#### Зависимость цены от числа комнат"
   ]
  },
  {
   "cell_type": "code",
   "execution_count": 24,
   "metadata": {},
   "outputs": [
    {
     "data": {
      "text/plain": [
       "0.3633428499648948"
      ]
     },
     "execution_count": 24,
     "metadata": {},
     "output_type": "execute_result"
    }
   ],
   "source": [
    "df['last_price'].corr(df['rooms'])"
   ]
  },
  {
   "cell_type": "markdown",
   "metadata": {},
   "source": [
    "Между ценой на квартиру и количеством комнат наблюдается незначительная корреляция. Нельзя говорить о том, что количество комнат так уж влияет на цену квартиры."
   ]
  },
  {
   "cell_type": "markdown",
   "metadata": {},
   "source": [
    "#### Зависимость цены от удаленности от центра"
   ]
  },
  {
   "cell_type": "code",
   "execution_count": 25,
   "metadata": {},
   "outputs": [
    {
     "data": {
      "text/plain": [
       "-0.20674734874298373"
      ]
     },
     "execution_count": 25,
     "metadata": {},
     "output_type": "execute_result"
    }
   ],
   "source": [
    "df['last_price'].corr(df['cityCenters_nearest'])"
   ]
  },
  {
   "cell_type": "markdown",
   "metadata": {},
   "source": [
    "Корреляция между ценой и удаленностью от центра не наблюдается, скорее даже наоборот..."
   ]
  },
  {
   "cell_type": "markdown",
   "metadata": {},
   "source": [
    "#### Зависимость цены от этажа, на котором расположена квартира"
   ]
  },
  {
   "cell_type": "markdown",
   "metadata": {},
   "source": [
    "Для рассмотрения вопроса зависимости цены от этажа квартиры мы не сможем воспользоваться тем же методом корреляции Пирсона в силу неподходящего формата данных об этаже, но можем вычислить медианы всех трех категорий и сравнить их."
   ]
  },
  {
   "cell_type": "code",
   "execution_count": 26,
   "metadata": {
    "scrolled": true
   },
   "outputs": [
    {
     "name": "stdout",
     "output_type": "stream",
     "text": [
      "Медианная цена за квадратный метр на первом этаже составляет: 81224.0\n",
      "Медианная цена за квадратный метр на другом этаже составляет: 98295.0\n",
      "Медианная цена за квадратный метр на последнем этаже составляет: 87778.0\n"
     ]
    }
   ],
   "source": [
    "first_floor = df.query('apartment_floor == \"первый\"')\n",
    "other_floor = df.query('apartment_floor == \"другой\"')\n",
    "last_floor = df.query('apartment_floor == \"последний\"')\n",
    "\n",
    "print('Медианная цена за квадратный метр на первом этаже составляет:', first_floor['price_for_meter'].median().round())\n",
    "print('Медианная цена за квадратный метр на другом этаже составляет:', other_floor['price_for_meter'].median().round())\n",
    "print('Медианная цена за квадратный метр на последнем этаже составляет:', last_floor['price_for_meter'].median().round())"
   ]
  },
  {
   "cell_type": "markdown",
   "metadata": {},
   "source": [
    "На первом этаже квартиры в среднем дешевле, чуть дороже квартиры на последнем этаже, а вот все остальные - самые дорогие."
   ]
  },
  {
   "cell_type": "markdown",
   "metadata": {},
   "source": [
    "#### Зависимость цены квартиры от даты размещения"
   ]
  },
  {
   "cell_type": "markdown",
   "metadata": {},
   "source": [
    "Построим гистограммы по следующим категориям:"
   ]
  },
  {
   "cell_type": "markdown",
   "metadata": {},
   "source": [
    "##### По дню недели"
   ]
  },
  {
   "cell_type": "code",
   "execution_count": 27,
   "metadata": {},
   "outputs": [
    {
     "data": {
      "text/plain": [
       "array([[<AxesSubplot:title={'center':'day_exposition'}>]], dtype=object)"
      ]
     },
     "execution_count": 27,
     "metadata": {},
     "output_type": "execute_result"
    },
    {
     "data": {
      "image/png": "[encoded data removed]",
      "text/plain": [
       "<Figure size 432x288 with 1 Axes>"
      ]
     },
     "metadata": {
      "needs_background": "light"
     },
     "output_type": "display_data"
    }
   ],
   "source": [
    "df.pivot_table(index='price_for_meter', values='day_exposition').hist()"
   ]
  },
  {
   "cell_type": "markdown",
   "metadata": {},
   "source": [
    "Наблюдается рост цены с понедельника по пятницу (в пятницу снижение), а в выходные довольно сильный спад."
   ]
  },
  {
   "cell_type": "markdown",
   "metadata": {},
   "source": [
    "##### По месяцу"
   ]
  },
  {
   "cell_type": "code",
   "execution_count": 28,
   "metadata": {
    "scrolled": true
   },
   "outputs": [
    {
     "data": {
      "text/plain": [
       "array([[<AxesSubplot:title={'center':'month_exposition'}>]], dtype=object)"
      ]
     },
     "execution_count": 28,
     "metadata": {},
     "output_type": "execute_result"
    },
    {
     "data": {
      "image/png": "[encoded data removed]",
      "text/plain": [
       "<Figure size 432x288 with 1 Axes>"
      ]
     },
     "metadata": {
      "needs_background": "light"
     },
     "output_type": "display_data"
    }
   ],
   "source": [
    "df.pivot_table(index='price_for_meter', values='month_exposition').hist()"
   ]
  },
  {
   "cell_type": "markdown",
   "metadata": {},
   "source": [
    "Самые дорогие квартиры выставляются в декабре и январе. Самые дешевые - в мае."
   ]
  },
  {
   "cell_type": "markdown",
   "metadata": {},
   "source": [
    "##### По году"
   ]
  },
  {
   "cell_type": "code",
   "execution_count": 29,
   "metadata": {},
   "outputs": [
    {
     "data": {
      "text/plain": [
       "array([[<AxesSubplot:title={'center':'year_exposition'}>]], dtype=object)"
      ]
     },
     "execution_count": 29,
     "metadata": {},
     "output_type": "execute_result"
    },
    {
     "data": {
      "image/png": "[encoded data removed]",
      "text/plain": [
       "<Figure size 432x288 with 1 Axes>"
      ]
     },
     "metadata": {
      "needs_background": "light"
     },
     "output_type": "display_data"
    }
   ],
   "source": [
    "df.pivot_table(index='price_for_meter', values='year_exposition').hist()"
   ]
  },
  {
   "cell_type": "code",
   "execution_count": 30,
   "metadata": {},
   "outputs": [
    {
     "data": {
      "text/html": [
       "<div>\n",
       "<style scoped>\n",
       "    .dataframe tbody tr th:only-of-type {\n",
       "        vertical-align: middle;\n",
       "    }\n",
       "\n",
       "    .dataframe tbody tr th {\n",
       "        vertical-align: top;\n",
       "    }\n",
       "\n",
       "    .dataframe thead th {\n",
       "        text-align: right;\n",
       "    }\n",
       "</style>\n",
       "<table border=\"1\" class=\"dataframe\">\n",
       "  <thead>\n",
       "    <tr style=\"text-align: right;\">\n",
       "      <th></th>\n",
       "      <th>last_price</th>\n",
       "      <th>price_for_meter</th>\n",
       "      <th>total_area</th>\n",
       "      <th>rooms</th>\n",
       "      <th>cityCenters_nearest</th>\n",
       "    </tr>\n",
       "  </thead>\n",
       "  <tbody>\n",
       "    <tr>\n",
       "      <th>last_price</th>\n",
       "      <td>1.000000</td>\n",
       "      <td>0.736499</td>\n",
       "      <td>0.653675</td>\n",
       "      <td>0.363343</td>\n",
       "      <td>-0.206747</td>\n",
       "    </tr>\n",
       "    <tr>\n",
       "      <th>price_for_meter</th>\n",
       "      <td>0.736499</td>\n",
       "      <td>1.000000</td>\n",
       "      <td>0.301960</td>\n",
       "      <td>0.055420</td>\n",
       "      <td>-0.317951</td>\n",
       "    </tr>\n",
       "    <tr>\n",
       "      <th>total_area</th>\n",
       "      <td>0.653675</td>\n",
       "      <td>0.301960</td>\n",
       "      <td>1.000000</td>\n",
       "      <td>0.758344</td>\n",
       "      <td>-0.231446</td>\n",
       "    </tr>\n",
       "    <tr>\n",
       "      <th>rooms</th>\n",
       "      <td>0.363343</td>\n",
       "      <td>0.055420</td>\n",
       "      <td>0.758344</td>\n",
       "      <td>1.000000</td>\n",
       "      <td>-0.184864</td>\n",
       "    </tr>\n",
       "    <tr>\n",
       "      <th>cityCenters_nearest</th>\n",
       "      <td>-0.206747</td>\n",
       "      <td>-0.317951</td>\n",
       "      <td>-0.231446</td>\n",
       "      <td>-0.184864</td>\n",
       "      <td>1.000000</td>\n",
       "    </tr>\n",
       "  </tbody>\n",
       "</table>\n",
       "</div>"
      ],
      "text/plain": [
       "                     last_price  price_for_meter  total_area     rooms  \\\n",
       "last_price             1.000000         0.736499    0.653675  0.363343   \n",
       "price_for_meter        0.736499         1.000000    0.301960  0.055420   \n",
       "total_area             0.653675         0.301960    1.000000  0.758344   \n",
       "rooms                  0.363343         0.055420    0.758344  1.000000   \n",
       "cityCenters_nearest   -0.206747        -0.317951   -0.231446 -0.184864   \n",
       "\n",
       "                     cityCenters_nearest  \n",
       "last_price                     -0.206747  \n",
       "price_for_meter                -0.317951  \n",
       "total_area                     -0.231446  \n",
       "rooms                          -0.184864  \n",
       "cityCenters_nearest             1.000000  "
      ]
     },
     "execution_count": 30,
     "metadata": {},
     "output_type": "execute_result"
    }
   ],
   "source": [
    "df[['last_price', 'price_for_meter', 'total_area', 'rooms', 'cityCenters_nearest']].corr()"
   ]
  },
  {
   "cell_type": "markdown",
   "metadata": {},
   "source": [
    "До 2016 года шел плавный рост цен на квартиры, но в 2017-м произошел резкий скачек, цены продержались до 2018 года и рухнули в 2019 году почти до уровня 2016 года.\n",
    "\n",
    "Или произошло перенасыщение рынка недвижимости, или спрос упал, потому что всему есть свой предел, даже ценам на недвижимость."
   ]
  },
  {
   "cell_type": "markdown",
   "metadata": {},
   "source": [
    "### 10 городов с наибольшим числом объявлений"
   ]
  },
  {
   "cell_type": "markdown",
   "metadata": {},
   "source": [
    "Для того чтобы найти 10 городов с наибольшим числом объявлений, применим метод value_counts к столбцу с названиями населенных пунктов, выберем из них ТОП-10, а затем сохраним полученные результаты в отдельный датафрейм, в котором уже будем работать.  "
   ]
  },
  {
   "cell_type": "code",
   "execution_count": 31,
   "metadata": {},
   "outputs": [
    {
     "data": {
      "text/plain": [
       "Санкт-Петербург      15721\n",
       "посёлок Мурино         522\n",
       "посёлок Шушары         440\n",
       "Всеволожск             398\n",
       "Пушкин                 369\n",
       "Колпино                338\n",
       "посёлок Парголово      327\n",
       "Гатчина                307\n",
       "деревня Кудрово        299\n",
       "Выборг                 237\n",
       "Name: locality_name, dtype: int64"
      ]
     },
     "execution_count": 31,
     "metadata": {},
     "output_type": "execute_result"
    }
   ],
   "source": [
    "df['locality_name'].value_counts().head(10)"
   ]
  },
  {
   "cell_type": "code",
   "execution_count": 32,
   "metadata": {},
   "outputs": [],
   "source": [
    "cities = df[df['locality_name'].isin(['Санкт-Петербург', 'посёлок Мурино', 'посёлок Шушары', 'Всеволожск', 'Пушкин', 'Колпино', 'посёлок Парголово', 'Гатчина', 'деревня Кудрово', 'Выборг'])]"
   ]
  },
  {
   "cell_type": "code",
   "execution_count": 33,
   "metadata": {},
   "outputs": [
    {
     "data": {
      "text/html": [
       "<div>\n",
       "<style scoped>\n",
       "    .dataframe tbody tr th:only-of-type {\n",
       "        vertical-align: middle;\n",
       "    }\n",
       "\n",
       "    .dataframe tbody tr th {\n",
       "        vertical-align: top;\n",
       "    }\n",
       "\n",
       "    .dataframe thead th {\n",
       "        text-align: right;\n",
       "    }\n",
       "</style>\n",
       "<table border=\"1\" class=\"dataframe\">\n",
       "  <thead>\n",
       "    <tr style=\"text-align: right;\">\n",
       "      <th></th>\n",
       "      <th>price_for_meter</th>\n",
       "    </tr>\n",
       "    <tr>\n",
       "      <th>locality_name</th>\n",
       "      <th></th>\n",
       "    </tr>\n",
       "  </thead>\n",
       "  <tbody>\n",
       "    <tr>\n",
       "      <th>Всеволожск</th>\n",
       "      <td>68654.473986</td>\n",
       "    </tr>\n",
       "    <tr>\n",
       "      <th>Выборг</th>\n",
       "      <td>58141.909153</td>\n",
       "    </tr>\n",
       "    <tr>\n",
       "      <th>Гатчина</th>\n",
       "      <td>68746.146763</td>\n",
       "    </tr>\n",
       "    <tr>\n",
       "      <th>Колпино</th>\n",
       "      <td>75424.579098</td>\n",
       "    </tr>\n",
       "    <tr>\n",
       "      <th>Пушкин</th>\n",
       "      <td>103125.819291</td>\n",
       "    </tr>\n",
       "    <tr>\n",
       "      <th>Санкт-Петербург</th>\n",
       "      <td>114849.008794</td>\n",
       "    </tr>\n",
       "    <tr>\n",
       "      <th>деревня Кудрово</th>\n",
       "      <td>92473.547576</td>\n",
       "    </tr>\n",
       "    <tr>\n",
       "      <th>посёлок Мурино</th>\n",
       "      <td>85752.189195</td>\n",
       "    </tr>\n",
       "    <tr>\n",
       "      <th>посёлок Парголово</th>\n",
       "      <td>90175.913458</td>\n",
       "    </tr>\n",
       "    <tr>\n",
       "      <th>посёлок Шушары</th>\n",
       "      <td>78677.364217</td>\n",
       "    </tr>\n",
       "  </tbody>\n",
       "</table>\n",
       "</div>"
      ],
      "text/plain": [
       "                   price_for_meter\n",
       "locality_name                     \n",
       "Всеволожск            68654.473986\n",
       "Выборг                58141.909153\n",
       "Гатчина               68746.146763\n",
       "Колпино               75424.579098\n",
       "Пушкин               103125.819291\n",
       "Санкт-Петербург      114849.008794\n",
       "деревня Кудрово       92473.547576\n",
       "посёлок Мурино        85752.189195\n",
       "посёлок Парголово     90175.913458\n",
       "посёлок Шушары        78677.364217"
      ]
     },
     "execution_count": 33,
     "metadata": {},
     "output_type": "execute_result"
    }
   ],
   "source": [
    "mean_price = cities.pivot_table(index='locality_name', values='price_for_meter', aggfunc='mean')\n",
    "mean_price"
   ]
  },
  {
   "cell_type": "code",
   "execution_count": 34,
   "metadata": {},
   "outputs": [
    {
     "data": {
      "text/html": [
       "<div>\n",
       "<style scoped>\n",
       "    .dataframe tbody tr th:only-of-type {\n",
       "        vertical-align: middle;\n",
       "    }\n",
       "\n",
       "    .dataframe tbody tr th {\n",
       "        vertical-align: top;\n",
       "    }\n",
       "\n",
       "    .dataframe thead th {\n",
       "        text-align: right;\n",
       "    }\n",
       "</style>\n",
       "<table border=\"1\" class=\"dataframe\">\n",
       "  <thead>\n",
       "    <tr style=\"text-align: right;\">\n",
       "      <th></th>\n",
       "      <th>price_for_meter</th>\n",
       "    </tr>\n",
       "    <tr>\n",
       "      <th>locality_name</th>\n",
       "      <th></th>\n",
       "    </tr>\n",
       "  </thead>\n",
       "  <tbody>\n",
       "    <tr>\n",
       "      <th>Санкт-Петербург</th>\n",
       "      <td>114849.008794</td>\n",
       "    </tr>\n",
       "    <tr>\n",
       "      <th>Пушкин</th>\n",
       "      <td>103125.819291</td>\n",
       "    </tr>\n",
       "    <tr>\n",
       "      <th>деревня Кудрово</th>\n",
       "      <td>92473.547576</td>\n",
       "    </tr>\n",
       "    <tr>\n",
       "      <th>посёлок Парголово</th>\n",
       "      <td>90175.913458</td>\n",
       "    </tr>\n",
       "    <tr>\n",
       "      <th>посёлок Мурино</th>\n",
       "      <td>85752.189195</td>\n",
       "    </tr>\n",
       "    <tr>\n",
       "      <th>посёлок Шушары</th>\n",
       "      <td>78677.364217</td>\n",
       "    </tr>\n",
       "    <tr>\n",
       "      <th>Колпино</th>\n",
       "      <td>75424.579098</td>\n",
       "    </tr>\n",
       "    <tr>\n",
       "      <th>Гатчина</th>\n",
       "      <td>68746.146763</td>\n",
       "    </tr>\n",
       "    <tr>\n",
       "      <th>Всеволожск</th>\n",
       "      <td>68654.473986</td>\n",
       "    </tr>\n",
       "    <tr>\n",
       "      <th>Выборг</th>\n",
       "      <td>58141.909153</td>\n",
       "    </tr>\n",
       "  </tbody>\n",
       "</table>\n",
       "</div>"
      ],
      "text/plain": [
       "                   price_for_meter\n",
       "locality_name                     \n",
       "Санкт-Петербург      114849.008794\n",
       "Пушкин               103125.819291\n",
       "деревня Кудрово       92473.547576\n",
       "посёлок Парголово     90175.913458\n",
       "посёлок Мурино        85752.189195\n",
       "посёлок Шушары        78677.364217\n",
       "Колпино               75424.579098\n",
       "Гатчина               68746.146763\n",
       "Всеволожск            68654.473986\n",
       "Выборг                58141.909153"
      ]
     },
     "execution_count": 34,
     "metadata": {},
     "output_type": "execute_result"
    }
   ],
   "source": [
    "mean_price.sort_values(by='price_for_meter', ascending=False)"
   ]
  },
  {
   "cell_type": "markdown",
   "metadata": {},
   "source": [
    "Самым высоким населенным пунктом по средней стоимости жилья является Санкт-Петербург, а самая низкая средняя цена в Выборге."
   ]
  },
  {
   "cell_type": "markdown",
   "metadata": {},
   "source": [
    "### Квартиры в Санкт-Петербурге"
   ]
  },
  {
   "cell_type": "markdown",
   "metadata": {},
   "source": [
    "Создадим датасет, где будет срез данных по Санкт-Петербургу, а затем напишем функцию, которая переведт расстояние доцентра из метров в километры и сохранит их в отдельном столбце.\n"
   ]
  },
  {
   "cell_type": "code",
   "execution_count": 35,
   "metadata": {
    "scrolled": true
   },
   "outputs": [
    {
     "data": {
      "text/html": [
       "<div>\n",
       "<style scoped>\n",
       "    .dataframe tbody tr th:only-of-type {\n",
       "        vertical-align: middle;\n",
       "    }\n",
       "\n",
       "    .dataframe tbody tr th {\n",
       "        vertical-align: top;\n",
       "    }\n",
       "\n",
       "    .dataframe thead th {\n",
       "        text-align: right;\n",
       "    }\n",
       "</style>\n",
       "<table border=\"1\" class=\"dataframe\">\n",
       "  <thead>\n",
       "    <tr style=\"text-align: right;\">\n",
       "      <th></th>\n",
       "      <th>total_images</th>\n",
       "      <th>last_price</th>\n",
       "      <th>total_area</th>\n",
       "      <th>first_day_exposition</th>\n",
       "      <th>rooms</th>\n",
       "      <th>ceiling_height</th>\n",
       "      <th>floors_total</th>\n",
       "      <th>living_area</th>\n",
       "      <th>floor</th>\n",
       "      <th>is_apartment</th>\n",
       "      <th>...</th>\n",
       "      <th>ponds_around3000</th>\n",
       "      <th>ponds_nearest</th>\n",
       "      <th>days_exposition</th>\n",
       "      <th>price_for_meter</th>\n",
       "      <th>day_exposition</th>\n",
       "      <th>month_exposition</th>\n",
       "      <th>year_exposition</th>\n",
       "      <th>apartment_floor</th>\n",
       "      <th>ratio_living_area</th>\n",
       "      <th>ratio_kitchen_area</th>\n",
       "    </tr>\n",
       "  </thead>\n",
       "  <tbody>\n",
       "    <tr>\n",
       "      <th>0</th>\n",
       "      <td>20</td>\n",
       "      <td>13000000.0</td>\n",
       "      <td>108.00</td>\n",
       "      <td>2019-03-07</td>\n",
       "      <td>3</td>\n",
       "      <td>2.70</td>\n",
       "      <td>16</td>\n",
       "      <td>51.0</td>\n",
       "      <td>8</td>\n",
       "      <td>NaN</td>\n",
       "      <td>...</td>\n",
       "      <td>2.0</td>\n",
       "      <td>755.0</td>\n",
       "      <td>NaN</td>\n",
       "      <td>120370.370370</td>\n",
       "      <td>3</td>\n",
       "      <td>3</td>\n",
       "      <td>2019</td>\n",
       "      <td>другой</td>\n",
       "      <td>47.222222</td>\n",
       "      <td>23.148148</td>\n",
       "    </tr>\n",
       "    <tr>\n",
       "      <th>2</th>\n",
       "      <td>10</td>\n",
       "      <td>5196000.0</td>\n",
       "      <td>56.00</td>\n",
       "      <td>2015-08-20</td>\n",
       "      <td>2</td>\n",
       "      <td>NaN</td>\n",
       "      <td>5</td>\n",
       "      <td>34.3</td>\n",
       "      <td>4</td>\n",
       "      <td>NaN</td>\n",
       "      <td>...</td>\n",
       "      <td>2.0</td>\n",
       "      <td>574.0</td>\n",
       "      <td>558.0</td>\n",
       "      <td>92785.714286</td>\n",
       "      <td>3</td>\n",
       "      <td>8</td>\n",
       "      <td>2015</td>\n",
       "      <td>другой</td>\n",
       "      <td>61.250000</td>\n",
       "      <td>14.821429</td>\n",
       "    </tr>\n",
       "    <tr>\n",
       "      <th>3</th>\n",
       "      <td>0</td>\n",
       "      <td>64900000.0</td>\n",
       "      <td>159.00</td>\n",
       "      <td>2015-07-24</td>\n",
       "      <td>3</td>\n",
       "      <td>NaN</td>\n",
       "      <td>14</td>\n",
       "      <td>NaN</td>\n",
       "      <td>9</td>\n",
       "      <td>NaN</td>\n",
       "      <td>...</td>\n",
       "      <td>3.0</td>\n",
       "      <td>234.0</td>\n",
       "      <td>424.0</td>\n",
       "      <td>408176.100629</td>\n",
       "      <td>4</td>\n",
       "      <td>7</td>\n",
       "      <td>2015</td>\n",
       "      <td>другой</td>\n",
       "      <td>NaN</td>\n",
       "      <td>NaN</td>\n",
       "    </tr>\n",
       "    <tr>\n",
       "      <th>4</th>\n",
       "      <td>2</td>\n",
       "      <td>10000000.0</td>\n",
       "      <td>100.00</td>\n",
       "      <td>2018-06-19</td>\n",
       "      <td>2</td>\n",
       "      <td>3.03</td>\n",
       "      <td>14</td>\n",
       "      <td>32.0</td>\n",
       "      <td>13</td>\n",
       "      <td>NaN</td>\n",
       "      <td>...</td>\n",
       "      <td>1.0</td>\n",
       "      <td>48.0</td>\n",
       "      <td>121.0</td>\n",
       "      <td>100000.000000</td>\n",
       "      <td>1</td>\n",
       "      <td>6</td>\n",
       "      <td>2018</td>\n",
       "      <td>другой</td>\n",
       "      <td>32.000000</td>\n",
       "      <td>41.000000</td>\n",
       "    </tr>\n",
       "    <tr>\n",
       "      <th>7</th>\n",
       "      <td>5</td>\n",
       "      <td>7915000.0</td>\n",
       "      <td>71.60</td>\n",
       "      <td>2019-04-18</td>\n",
       "      <td>2</td>\n",
       "      <td>NaN</td>\n",
       "      <td>24</td>\n",
       "      <td>NaN</td>\n",
       "      <td>22</td>\n",
       "      <td>NaN</td>\n",
       "      <td>...</td>\n",
       "      <td>0.0</td>\n",
       "      <td>NaN</td>\n",
       "      <td>NaN</td>\n",
       "      <td>110544.692737</td>\n",
       "      <td>3</td>\n",
       "      <td>4</td>\n",
       "      <td>2019</td>\n",
       "      <td>другой</td>\n",
       "      <td>NaN</td>\n",
       "      <td>26.396648</td>\n",
       "    </tr>\n",
       "    <tr>\n",
       "      <th>...</th>\n",
       "      <td>...</td>\n",
       "      <td>...</td>\n",
       "      <td>...</td>\n",
       "      <td>...</td>\n",
       "      <td>...</td>\n",
       "      <td>...</td>\n",
       "      <td>...</td>\n",
       "      <td>...</td>\n",
       "      <td>...</td>\n",
       "      <td>...</td>\n",
       "      <td>...</td>\n",
       "      <td>...</td>\n",
       "      <td>...</td>\n",
       "      <td>...</td>\n",
       "      <td>...</td>\n",
       "      <td>...</td>\n",
       "      <td>...</td>\n",
       "      <td>...</td>\n",
       "      <td>...</td>\n",
       "      <td>...</td>\n",
       "      <td>...</td>\n",
       "    </tr>\n",
       "    <tr>\n",
       "      <th>23689</th>\n",
       "      <td>13</td>\n",
       "      <td>3550000.0</td>\n",
       "      <td>35.30</td>\n",
       "      <td>2018-02-28</td>\n",
       "      <td>1</td>\n",
       "      <td>2.86</td>\n",
       "      <td>15</td>\n",
       "      <td>16.3</td>\n",
       "      <td>4</td>\n",
       "      <td>NaN</td>\n",
       "      <td>...</td>\n",
       "      <td>2.0</td>\n",
       "      <td>652.0</td>\n",
       "      <td>29.0</td>\n",
       "      <td>100566.572238</td>\n",
       "      <td>2</td>\n",
       "      <td>2</td>\n",
       "      <td>2018</td>\n",
       "      <td>другой</td>\n",
       "      <td>46.175637</td>\n",
       "      <td>25.779037</td>\n",
       "    </tr>\n",
       "    <tr>\n",
       "      <th>23690</th>\n",
       "      <td>3</td>\n",
       "      <td>5500000.0</td>\n",
       "      <td>52.00</td>\n",
       "      <td>2018-07-19</td>\n",
       "      <td>2</td>\n",
       "      <td>NaN</td>\n",
       "      <td>5</td>\n",
       "      <td>31.0</td>\n",
       "      <td>2</td>\n",
       "      <td>NaN</td>\n",
       "      <td>...</td>\n",
       "      <td>0.0</td>\n",
       "      <td>NaN</td>\n",
       "      <td>15.0</td>\n",
       "      <td>105769.230769</td>\n",
       "      <td>3</td>\n",
       "      <td>7</td>\n",
       "      <td>2018</td>\n",
       "      <td>другой</td>\n",
       "      <td>59.615385</td>\n",
       "      <td>11.538462</td>\n",
       "    </tr>\n",
       "    <tr>\n",
       "      <th>23691</th>\n",
       "      <td>11</td>\n",
       "      <td>9470000.0</td>\n",
       "      <td>72.90</td>\n",
       "      <td>2016-10-13</td>\n",
       "      <td>2</td>\n",
       "      <td>2.75</td>\n",
       "      <td>25</td>\n",
       "      <td>40.3</td>\n",
       "      <td>7</td>\n",
       "      <td>NaN</td>\n",
       "      <td>...</td>\n",
       "      <td>1.0</td>\n",
       "      <td>806.0</td>\n",
       "      <td>519.0</td>\n",
       "      <td>129903.978052</td>\n",
       "      <td>3</td>\n",
       "      <td>10</td>\n",
       "      <td>2016</td>\n",
       "      <td>другой</td>\n",
       "      <td>55.281207</td>\n",
       "      <td>14.540466</td>\n",
       "    </tr>\n",
       "    <tr>\n",
       "      <th>23694</th>\n",
       "      <td>9</td>\n",
       "      <td>9700000.0</td>\n",
       "      <td>133.81</td>\n",
       "      <td>2017-03-21</td>\n",
       "      <td>3</td>\n",
       "      <td>3.70</td>\n",
       "      <td>5</td>\n",
       "      <td>73.3</td>\n",
       "      <td>3</td>\n",
       "      <td>NaN</td>\n",
       "      <td>...</td>\n",
       "      <td>3.0</td>\n",
       "      <td>381.0</td>\n",
       "      <td>NaN</td>\n",
       "      <td>72490.845228</td>\n",
       "      <td>1</td>\n",
       "      <td>3</td>\n",
       "      <td>2017</td>\n",
       "      <td>другой</td>\n",
       "      <td>54.779164</td>\n",
       "      <td>10.335550</td>\n",
       "    </tr>\n",
       "    <tr>\n",
       "      <th>23697</th>\n",
       "      <td>13</td>\n",
       "      <td>11475000.0</td>\n",
       "      <td>76.75</td>\n",
       "      <td>2017-03-28</td>\n",
       "      <td>2</td>\n",
       "      <td>3.00</td>\n",
       "      <td>17</td>\n",
       "      <td>NaN</td>\n",
       "      <td>12</td>\n",
       "      <td>NaN</td>\n",
       "      <td>...</td>\n",
       "      <td>3.0</td>\n",
       "      <td>196.0</td>\n",
       "      <td>602.0</td>\n",
       "      <td>149511.400651</td>\n",
       "      <td>1</td>\n",
       "      <td>3</td>\n",
       "      <td>2017</td>\n",
       "      <td>другой</td>\n",
       "      <td>NaN</td>\n",
       "      <td>30.358306</td>\n",
       "    </tr>\n",
       "  </tbody>\n",
       "</table>\n",
       "<p>15721 rows × 29 columns</p>\n",
       "</div>"
      ],
      "text/plain": [
       "       total_images  last_price  total_area first_day_exposition  rooms  \\\n",
       "0                20  13000000.0      108.00           2019-03-07      3   \n",
       "2                10   5196000.0       56.00           2015-08-20      2   \n",
       "3                 0  64900000.0      159.00           2015-07-24      3   \n",
       "4                 2  10000000.0      100.00           2018-06-19      2   \n",
       "7                 5   7915000.0       71.60           2019-04-18      2   \n",
       "...             ...         ...         ...                  ...    ...   \n",
       "23689            13   3550000.0       35.30           2018-02-28      1   \n",
       "23690             3   5500000.0       52.00           2018-07-19      2   \n",
       "23691            11   9470000.0       72.90           2016-10-13      2   \n",
       "23694             9   9700000.0      133.81           2017-03-21      3   \n",
       "23697            13  11475000.0       76.75           2017-03-28      2   \n",
       "\n",
       "       ceiling_height  floors_total  living_area  floor is_apartment  ...  \\\n",
       "0                2.70            16         51.0      8          NaN  ...   \n",
       "2                 NaN             5         34.3      4          NaN  ...   \n",
       "3                 NaN            14          NaN      9          NaN  ...   \n",
       "4                3.03            14         32.0     13          NaN  ...   \n",
       "7                 NaN            24          NaN     22          NaN  ...   \n",
       "...               ...           ...          ...    ...          ...  ...   \n",
       "23689            2.86            15         16.3      4          NaN  ...   \n",
       "23690             NaN             5         31.0      2          NaN  ...   \n",
       "23691            2.75            25         40.3      7          NaN  ...   \n",
       "23694            3.70             5         73.3      3          NaN  ...   \n",
       "23697            3.00            17          NaN     12          NaN  ...   \n",
       "\n",
       "       ponds_around3000  ponds_nearest  days_exposition  price_for_meter  \\\n",
       "0                   2.0          755.0              NaN    120370.370370   \n",
       "2                   2.0          574.0            558.0     92785.714286   \n",
       "3                   3.0          234.0            424.0    408176.100629   \n",
       "4                   1.0           48.0            121.0    100000.000000   \n",
       "7                   0.0            NaN              NaN    110544.692737   \n",
       "...                 ...            ...              ...              ...   \n",
       "23689               2.0          652.0             29.0    100566.572238   \n",
       "23690               0.0            NaN             15.0    105769.230769   \n",
       "23691               1.0          806.0            519.0    129903.978052   \n",
       "23694               3.0          381.0              NaN     72490.845228   \n",
       "23697               3.0          196.0            602.0    149511.400651   \n",
       "\n",
       "      day_exposition  month_exposition  year_exposition  apartment_floor  \\\n",
       "0                  3                 3             2019           другой   \n",
       "2                  3                 8             2015           другой   \n",
       "3                  4                 7             2015           другой   \n",
       "4                  1                 6             2018           другой   \n",
       "7                  3                 4             2019           другой   \n",
       "...              ...               ...              ...              ...   \n",
       "23689              2                 2             2018           другой   \n",
       "23690              3                 7             2018           другой   \n",
       "23691              3                10             2016           другой   \n",
       "23694              1                 3             2017           другой   \n",
       "23697              1                 3             2017           другой   \n",
       "\n",
       "       ratio_living_area  ratio_kitchen_area  \n",
       "0              47.222222           23.148148  \n",
       "2              61.250000           14.821429  \n",
       "3                    NaN                 NaN  \n",
       "4              32.000000           41.000000  \n",
       "7                    NaN           26.396648  \n",
       "...                  ...                 ...  \n",
       "23689          46.175637           25.779037  \n",
       "23690          59.615385           11.538462  \n",
       "23691          55.281207           14.540466  \n",
       "23694          54.779164           10.335550  \n",
       "23697                NaN           30.358306  \n",
       "\n",
       "[15721 rows x 29 columns]"
      ]
     },
     "execution_count": 35,
     "metadata": {},
     "output_type": "execute_result"
    }
   ],
   "source": [
    "sp_apartments = df.query('locality_name == \"Санкт-Петербург\"')\n",
    "sp_apartments"
   ]
  },
  {
   "cell_type": "code",
   "execution_count": 36,
   "metadata": {
    "scrolled": true
   },
   "outputs": [
    {
     "data": {
      "text/html": [
       "<div>\n",
       "<style scoped>\n",
       "    .dataframe tbody tr th:only-of-type {\n",
       "        vertical-align: middle;\n",
       "    }\n",
       "\n",
       "    .dataframe tbody tr th {\n",
       "        vertical-align: top;\n",
       "    }\n",
       "\n",
       "    .dataframe thead th {\n",
       "        text-align: right;\n",
       "    }\n",
       "</style>\n",
       "<table border=\"1\" class=\"dataframe\">\n",
       "  <thead>\n",
       "    <tr style=\"text-align: right;\">\n",
       "      <th></th>\n",
       "      <th>total_images</th>\n",
       "      <th>last_price</th>\n",
       "      <th>total_area</th>\n",
       "      <th>first_day_exposition</th>\n",
       "      <th>rooms</th>\n",
       "      <th>ceiling_height</th>\n",
       "      <th>floors_total</th>\n",
       "      <th>living_area</th>\n",
       "      <th>floor</th>\n",
       "      <th>is_apartment</th>\n",
       "      <th>...</th>\n",
       "      <th>ponds_nearest</th>\n",
       "      <th>days_exposition</th>\n",
       "      <th>price_for_meter</th>\n",
       "      <th>day_exposition</th>\n",
       "      <th>month_exposition</th>\n",
       "      <th>year_exposition</th>\n",
       "      <th>apartment_floor</th>\n",
       "      <th>ratio_living_area</th>\n",
       "      <th>ratio_kitchen_area</th>\n",
       "      <th>center_distance</th>\n",
       "    </tr>\n",
       "  </thead>\n",
       "  <tbody>\n",
       "    <tr>\n",
       "      <th>0</th>\n",
       "      <td>20</td>\n",
       "      <td>13000000.0</td>\n",
       "      <td>108.0</td>\n",
       "      <td>2019-03-07</td>\n",
       "      <td>3</td>\n",
       "      <td>2.70</td>\n",
       "      <td>16</td>\n",
       "      <td>51.0</td>\n",
       "      <td>8</td>\n",
       "      <td>NaN</td>\n",
       "      <td>...</td>\n",
       "      <td>755.0</td>\n",
       "      <td>NaN</td>\n",
       "      <td>120370.370370</td>\n",
       "      <td>3</td>\n",
       "      <td>3</td>\n",
       "      <td>2019</td>\n",
       "      <td>другой</td>\n",
       "      <td>47.222222</td>\n",
       "      <td>23.148148</td>\n",
       "      <td>16</td>\n",
       "    </tr>\n",
       "    <tr>\n",
       "      <th>2</th>\n",
       "      <td>10</td>\n",
       "      <td>5196000.0</td>\n",
       "      <td>56.0</td>\n",
       "      <td>2015-08-20</td>\n",
       "      <td>2</td>\n",
       "      <td>NaN</td>\n",
       "      <td>5</td>\n",
       "      <td>34.3</td>\n",
       "      <td>4</td>\n",
       "      <td>NaN</td>\n",
       "      <td>...</td>\n",
       "      <td>574.0</td>\n",
       "      <td>558.0</td>\n",
       "      <td>92785.714286</td>\n",
       "      <td>3</td>\n",
       "      <td>8</td>\n",
       "      <td>2015</td>\n",
       "      <td>другой</td>\n",
       "      <td>61.250000</td>\n",
       "      <td>14.821429</td>\n",
       "      <td>14</td>\n",
       "    </tr>\n",
       "    <tr>\n",
       "      <th>3</th>\n",
       "      <td>0</td>\n",
       "      <td>64900000.0</td>\n",
       "      <td>159.0</td>\n",
       "      <td>2015-07-24</td>\n",
       "      <td>3</td>\n",
       "      <td>NaN</td>\n",
       "      <td>14</td>\n",
       "      <td>NaN</td>\n",
       "      <td>9</td>\n",
       "      <td>NaN</td>\n",
       "      <td>...</td>\n",
       "      <td>234.0</td>\n",
       "      <td>424.0</td>\n",
       "      <td>408176.100629</td>\n",
       "      <td>4</td>\n",
       "      <td>7</td>\n",
       "      <td>2015</td>\n",
       "      <td>другой</td>\n",
       "      <td>NaN</td>\n",
       "      <td>NaN</td>\n",
       "      <td>7</td>\n",
       "    </tr>\n",
       "    <tr>\n",
       "      <th>4</th>\n",
       "      <td>2</td>\n",
       "      <td>10000000.0</td>\n",
       "      <td>100.0</td>\n",
       "      <td>2018-06-19</td>\n",
       "      <td>2</td>\n",
       "      <td>3.03</td>\n",
       "      <td>14</td>\n",
       "      <td>32.0</td>\n",
       "      <td>13</td>\n",
       "      <td>NaN</td>\n",
       "      <td>...</td>\n",
       "      <td>48.0</td>\n",
       "      <td>121.0</td>\n",
       "      <td>100000.000000</td>\n",
       "      <td>1</td>\n",
       "      <td>6</td>\n",
       "      <td>2018</td>\n",
       "      <td>другой</td>\n",
       "      <td>32.000000</td>\n",
       "      <td>41.000000</td>\n",
       "      <td>8</td>\n",
       "    </tr>\n",
       "    <tr>\n",
       "      <th>7</th>\n",
       "      <td>5</td>\n",
       "      <td>7915000.0</td>\n",
       "      <td>71.6</td>\n",
       "      <td>2019-04-18</td>\n",
       "      <td>2</td>\n",
       "      <td>NaN</td>\n",
       "      <td>24</td>\n",
       "      <td>NaN</td>\n",
       "      <td>22</td>\n",
       "      <td>NaN</td>\n",
       "      <td>...</td>\n",
       "      <td>NaN</td>\n",
       "      <td>NaN</td>\n",
       "      <td>110544.692737</td>\n",
       "      <td>3</td>\n",
       "      <td>4</td>\n",
       "      <td>2019</td>\n",
       "      <td>другой</td>\n",
       "      <td>NaN</td>\n",
       "      <td>26.396648</td>\n",
       "      <td>12</td>\n",
       "    </tr>\n",
       "    <tr>\n",
       "      <th>9</th>\n",
       "      <td>18</td>\n",
       "      <td>5400000.0</td>\n",
       "      <td>61.0</td>\n",
       "      <td>2017-02-26</td>\n",
       "      <td>3</td>\n",
       "      <td>2.50</td>\n",
       "      <td>9</td>\n",
       "      <td>43.6</td>\n",
       "      <td>7</td>\n",
       "      <td>NaN</td>\n",
       "      <td>...</td>\n",
       "      <td>NaN</td>\n",
       "      <td>289.0</td>\n",
       "      <td>88524.590164</td>\n",
       "      <td>6</td>\n",
       "      <td>2</td>\n",
       "      <td>2017</td>\n",
       "      <td>другой</td>\n",
       "      <td>71.475410</td>\n",
       "      <td>10.655738</td>\n",
       "      <td>15</td>\n",
       "    </tr>\n",
       "    <tr>\n",
       "      <th>10</th>\n",
       "      <td>5</td>\n",
       "      <td>5050000.0</td>\n",
       "      <td>39.6</td>\n",
       "      <td>2017-11-16</td>\n",
       "      <td>1</td>\n",
       "      <td>2.67</td>\n",
       "      <td>12</td>\n",
       "      <td>20.3</td>\n",
       "      <td>3</td>\n",
       "      <td>NaN</td>\n",
       "      <td>...</td>\n",
       "      <td>553.0</td>\n",
       "      <td>137.0</td>\n",
       "      <td>127525.252525</td>\n",
       "      <td>3</td>\n",
       "      <td>11</td>\n",
       "      <td>2017</td>\n",
       "      <td>другой</td>\n",
       "      <td>51.262626</td>\n",
       "      <td>21.464646</td>\n",
       "      <td>14</td>\n",
       "    </tr>\n",
       "    <tr>\n",
       "      <th>15</th>\n",
       "      <td>16</td>\n",
       "      <td>4650000.0</td>\n",
       "      <td>39.0</td>\n",
       "      <td>2017-11-18</td>\n",
       "      <td>1</td>\n",
       "      <td>NaN</td>\n",
       "      <td>14</td>\n",
       "      <td>20.5</td>\n",
       "      <td>5</td>\n",
       "      <td>NaN</td>\n",
       "      <td>...</td>\n",
       "      <td>296.0</td>\n",
       "      <td>19.0</td>\n",
       "      <td>119230.769231</td>\n",
       "      <td>5</td>\n",
       "      <td>11</td>\n",
       "      <td>2017</td>\n",
       "      <td>другой</td>\n",
       "      <td>52.564103</td>\n",
       "      <td>19.487179</td>\n",
       "      <td>14</td>\n",
       "    </tr>\n",
       "    <tr>\n",
       "      <th>16</th>\n",
       "      <td>11</td>\n",
       "      <td>6700000.0</td>\n",
       "      <td>82.0</td>\n",
       "      <td>2017-11-23</td>\n",
       "      <td>3</td>\n",
       "      <td>3.05</td>\n",
       "      <td>5</td>\n",
       "      <td>55.6</td>\n",
       "      <td>1</td>\n",
       "      <td>NaN</td>\n",
       "      <td>...</td>\n",
       "      <td>NaN</td>\n",
       "      <td>397.0</td>\n",
       "      <td>81707.317073</td>\n",
       "      <td>3</td>\n",
       "      <td>11</td>\n",
       "      <td>2017</td>\n",
       "      <td>первый</td>\n",
       "      <td>67.804878</td>\n",
       "      <td>10.975610</td>\n",
       "      <td>11</td>\n",
       "    </tr>\n",
       "    <tr>\n",
       "      <th>17</th>\n",
       "      <td>6</td>\n",
       "      <td>4180000.0</td>\n",
       "      <td>36.0</td>\n",
       "      <td>2016-09-09</td>\n",
       "      <td>1</td>\n",
       "      <td>NaN</td>\n",
       "      <td>17</td>\n",
       "      <td>16.5</td>\n",
       "      <td>7</td>\n",
       "      <td>NaN</td>\n",
       "      <td>...</td>\n",
       "      <td>859.0</td>\n",
       "      <td>571.0</td>\n",
       "      <td>116111.111111</td>\n",
       "      <td>4</td>\n",
       "      <td>9</td>\n",
       "      <td>2016</td>\n",
       "      <td>другой</td>\n",
       "      <td>45.833333</td>\n",
       "      <td>30.555556</td>\n",
       "      <td>15</td>\n",
       "    </tr>\n",
       "  </tbody>\n",
       "</table>\n",
       "<p>10 rows × 30 columns</p>\n",
       "</div>"
      ],
      "text/plain": [
       "    total_images  last_price  total_area first_day_exposition  rooms  \\\n",
       "0             20  13000000.0       108.0           2019-03-07      3   \n",
       "2             10   5196000.0        56.0           2015-08-20      2   \n",
       "3              0  64900000.0       159.0           2015-07-24      3   \n",
       "4              2  10000000.0       100.0           2018-06-19      2   \n",
       "7              5   7915000.0        71.6           2019-04-18      2   \n",
       "9             18   5400000.0        61.0           2017-02-26      3   \n",
       "10             5   5050000.0        39.6           2017-11-16      1   \n",
       "15            16   4650000.0        39.0           2017-11-18      1   \n",
       "16            11   6700000.0        82.0           2017-11-23      3   \n",
       "17             6   4180000.0        36.0           2016-09-09      1   \n",
       "\n",
       "    ceiling_height  floors_total  living_area  floor is_apartment  ...  \\\n",
       "0             2.70            16         51.0      8          NaN  ...   \n",
       "2              NaN             5         34.3      4          NaN  ...   \n",
       "3              NaN            14          NaN      9          NaN  ...   \n",
       "4             3.03            14         32.0     13          NaN  ...   \n",
       "7              NaN            24          NaN     22          NaN  ...   \n",
       "9             2.50             9         43.6      7          NaN  ...   \n",
       "10            2.67            12         20.3      3          NaN  ...   \n",
       "15             NaN            14         20.5      5          NaN  ...   \n",
       "16            3.05             5         55.6      1          NaN  ...   \n",
       "17             NaN            17         16.5      7          NaN  ...   \n",
       "\n",
       "    ponds_nearest  days_exposition  price_for_meter  day_exposition  \\\n",
       "0           755.0              NaN    120370.370370               3   \n",
       "2           574.0            558.0     92785.714286               3   \n",
       "3           234.0            424.0    408176.100629               4   \n",
       "4            48.0            121.0    100000.000000               1   \n",
       "7             NaN              NaN    110544.692737               3   \n",
       "9             NaN            289.0     88524.590164               6   \n",
       "10          553.0            137.0    127525.252525               3   \n",
       "15          296.0             19.0    119230.769231               5   \n",
       "16            NaN            397.0     81707.317073               3   \n",
       "17          859.0            571.0    116111.111111               4   \n",
       "\n",
       "   month_exposition  year_exposition  apartment_floor  ratio_living_area  \\\n",
       "0                 3             2019           другой          47.222222   \n",
       "2                 8             2015           другой          61.250000   \n",
       "3                 7             2015           другой                NaN   \n",
       "4                 6             2018           другой          32.000000   \n",
       "7                 4             2019           другой                NaN   \n",
       "9                 2             2017           другой          71.475410   \n",
       "10               11             2017           другой          51.262626   \n",
       "15               11             2017           другой          52.564103   \n",
       "16               11             2017           первый          67.804878   \n",
       "17                9             2016           другой          45.833333   \n",
       "\n",
       "    ratio_kitchen_area  center_distance  \n",
       "0            23.148148               16  \n",
       "2            14.821429               14  \n",
       "3                  NaN                7  \n",
       "4            41.000000                8  \n",
       "7            26.396648               12  \n",
       "9            10.655738               15  \n",
       "10           21.464646               14  \n",
       "15           19.487179               14  \n",
       "16           10.975610               11  \n",
       "17           30.555556               15  \n",
       "\n",
       "[10 rows x 30 columns]"
      ]
     },
     "execution_count": 36,
     "metadata": {},
     "output_type": "execute_result"
    }
   ],
   "source": [
    "def center_distance (row):\n",
    "    distance = row / 1000\n",
    "    return distance\n",
    "\n",
    "pd.set_option('mode.chained_assignment', None)\n",
    "sp_apartments['center_distance'] =  sp_apartments['cityCenters_nearest'].apply(center_distance)\n",
    "sp_apartments['center_distance'] = sp_apartments['center_distance'].round().astype('Int64')\n",
    "\n",
    "sp_apartments.head(10)"
   ]
  },
  {
   "cell_type": "markdown",
   "metadata": {},
   "source": [
    "Определяем среднюю цену для каждого километра"
   ]
  },
  {
   "cell_type": "code",
   "execution_count": 37,
   "metadata": {
    "scrolled": false
   },
   "outputs": [
    {
     "data": {
      "text/html": [
       "<div>\n",
       "<style scoped>\n",
       "    .dataframe tbody tr th:only-of-type {\n",
       "        vertical-align: middle;\n",
       "    }\n",
       "\n",
       "    .dataframe tbody tr th {\n",
       "        vertical-align: top;\n",
       "    }\n",
       "\n",
       "    .dataframe thead th {\n",
       "        text-align: right;\n",
       "    }\n",
       "</style>\n",
       "<table border=\"1\" class=\"dataframe\">\n",
       "  <thead>\n",
       "    <tr style=\"text-align: right;\">\n",
       "      <th></th>\n",
       "      <th>total_images</th>\n",
       "      <th>last_price</th>\n",
       "      <th>total_area</th>\n",
       "      <th>first_day_exposition</th>\n",
       "      <th>rooms</th>\n",
       "      <th>ceiling_height</th>\n",
       "      <th>floors_total</th>\n",
       "      <th>living_area</th>\n",
       "      <th>floor</th>\n",
       "      <th>is_apartment</th>\n",
       "      <th>...</th>\n",
       "      <th>days_exposition</th>\n",
       "      <th>price_for_meter</th>\n",
       "      <th>day_exposition</th>\n",
       "      <th>month_exposition</th>\n",
       "      <th>year_exposition</th>\n",
       "      <th>apartment_floor</th>\n",
       "      <th>ratio_living_area</th>\n",
       "      <th>ratio_kitchen_area</th>\n",
       "      <th>center_distance</th>\n",
       "      <th>price_for_km</th>\n",
       "    </tr>\n",
       "  </thead>\n",
       "  <tbody>\n",
       "    <tr>\n",
       "      <th>0</th>\n",
       "      <td>20</td>\n",
       "      <td>13000000.0</td>\n",
       "      <td>108.0</td>\n",
       "      <td>2019-03-07</td>\n",
       "      <td>3</td>\n",
       "      <td>2.70</td>\n",
       "      <td>16</td>\n",
       "      <td>51.0</td>\n",
       "      <td>8</td>\n",
       "      <td>NaN</td>\n",
       "      <td>...</td>\n",
       "      <td>NaN</td>\n",
       "      <td>120370.370370</td>\n",
       "      <td>3</td>\n",
       "      <td>3</td>\n",
       "      <td>2019</td>\n",
       "      <td>другой</td>\n",
       "      <td>47.222222</td>\n",
       "      <td>23.148148</td>\n",
       "      <td>16</td>\n",
       "      <td>7523.148148</td>\n",
       "    </tr>\n",
       "    <tr>\n",
       "      <th>2</th>\n",
       "      <td>10</td>\n",
       "      <td>5196000.0</td>\n",
       "      <td>56.0</td>\n",
       "      <td>2015-08-20</td>\n",
       "      <td>2</td>\n",
       "      <td>NaN</td>\n",
       "      <td>5</td>\n",
       "      <td>34.3</td>\n",
       "      <td>4</td>\n",
       "      <td>NaN</td>\n",
       "      <td>...</td>\n",
       "      <td>558.0</td>\n",
       "      <td>92785.714286</td>\n",
       "      <td>3</td>\n",
       "      <td>8</td>\n",
       "      <td>2015</td>\n",
       "      <td>другой</td>\n",
       "      <td>61.250000</td>\n",
       "      <td>14.821429</td>\n",
       "      <td>14</td>\n",
       "      <td>6627.55102</td>\n",
       "    </tr>\n",
       "    <tr>\n",
       "      <th>3</th>\n",
       "      <td>0</td>\n",
       "      <td>64900000.0</td>\n",
       "      <td>159.0</td>\n",
       "      <td>2015-07-24</td>\n",
       "      <td>3</td>\n",
       "      <td>NaN</td>\n",
       "      <td>14</td>\n",
       "      <td>NaN</td>\n",
       "      <td>9</td>\n",
       "      <td>NaN</td>\n",
       "      <td>...</td>\n",
       "      <td>424.0</td>\n",
       "      <td>408176.100629</td>\n",
       "      <td>4</td>\n",
       "      <td>7</td>\n",
       "      <td>2015</td>\n",
       "      <td>другой</td>\n",
       "      <td>NaN</td>\n",
       "      <td>NaN</td>\n",
       "      <td>7</td>\n",
       "      <td>58310.871518</td>\n",
       "    </tr>\n",
       "    <tr>\n",
       "      <th>4</th>\n",
       "      <td>2</td>\n",
       "      <td>10000000.0</td>\n",
       "      <td>100.0</td>\n",
       "      <td>2018-06-19</td>\n",
       "      <td>2</td>\n",
       "      <td>3.03</td>\n",
       "      <td>14</td>\n",
       "      <td>32.0</td>\n",
       "      <td>13</td>\n",
       "      <td>NaN</td>\n",
       "      <td>...</td>\n",
       "      <td>121.0</td>\n",
       "      <td>100000.000000</td>\n",
       "      <td>1</td>\n",
       "      <td>6</td>\n",
       "      <td>2018</td>\n",
       "      <td>другой</td>\n",
       "      <td>32.000000</td>\n",
       "      <td>41.000000</td>\n",
       "      <td>8</td>\n",
       "      <td>12500.0</td>\n",
       "    </tr>\n",
       "    <tr>\n",
       "      <th>7</th>\n",
       "      <td>5</td>\n",
       "      <td>7915000.0</td>\n",
       "      <td>71.6</td>\n",
       "      <td>2019-04-18</td>\n",
       "      <td>2</td>\n",
       "      <td>NaN</td>\n",
       "      <td>24</td>\n",
       "      <td>NaN</td>\n",
       "      <td>22</td>\n",
       "      <td>NaN</td>\n",
       "      <td>...</td>\n",
       "      <td>NaN</td>\n",
       "      <td>110544.692737</td>\n",
       "      <td>3</td>\n",
       "      <td>4</td>\n",
       "      <td>2019</td>\n",
       "      <td>другой</td>\n",
       "      <td>NaN</td>\n",
       "      <td>26.396648</td>\n",
       "      <td>12</td>\n",
       "      <td>9212.057728</td>\n",
       "    </tr>\n",
       "    <tr>\n",
       "      <th>9</th>\n",
       "      <td>18</td>\n",
       "      <td>5400000.0</td>\n",
       "      <td>61.0</td>\n",
       "      <td>2017-02-26</td>\n",
       "      <td>3</td>\n",
       "      <td>2.50</td>\n",
       "      <td>9</td>\n",
       "      <td>43.6</td>\n",
       "      <td>7</td>\n",
       "      <td>NaN</td>\n",
       "      <td>...</td>\n",
       "      <td>289.0</td>\n",
       "      <td>88524.590164</td>\n",
       "      <td>6</td>\n",
       "      <td>2</td>\n",
       "      <td>2017</td>\n",
       "      <td>другой</td>\n",
       "      <td>71.475410</td>\n",
       "      <td>10.655738</td>\n",
       "      <td>15</td>\n",
       "      <td>5901.639344</td>\n",
       "    </tr>\n",
       "    <tr>\n",
       "      <th>10</th>\n",
       "      <td>5</td>\n",
       "      <td>5050000.0</td>\n",
       "      <td>39.6</td>\n",
       "      <td>2017-11-16</td>\n",
       "      <td>1</td>\n",
       "      <td>2.67</td>\n",
       "      <td>12</td>\n",
       "      <td>20.3</td>\n",
       "      <td>3</td>\n",
       "      <td>NaN</td>\n",
       "      <td>...</td>\n",
       "      <td>137.0</td>\n",
       "      <td>127525.252525</td>\n",
       "      <td>3</td>\n",
       "      <td>11</td>\n",
       "      <td>2017</td>\n",
       "      <td>другой</td>\n",
       "      <td>51.262626</td>\n",
       "      <td>21.464646</td>\n",
       "      <td>14</td>\n",
       "      <td>9108.946609</td>\n",
       "    </tr>\n",
       "    <tr>\n",
       "      <th>15</th>\n",
       "      <td>16</td>\n",
       "      <td>4650000.0</td>\n",
       "      <td>39.0</td>\n",
       "      <td>2017-11-18</td>\n",
       "      <td>1</td>\n",
       "      <td>NaN</td>\n",
       "      <td>14</td>\n",
       "      <td>20.5</td>\n",
       "      <td>5</td>\n",
       "      <td>NaN</td>\n",
       "      <td>...</td>\n",
       "      <td>19.0</td>\n",
       "      <td>119230.769231</td>\n",
       "      <td>5</td>\n",
       "      <td>11</td>\n",
       "      <td>2017</td>\n",
       "      <td>другой</td>\n",
       "      <td>52.564103</td>\n",
       "      <td>19.487179</td>\n",
       "      <td>14</td>\n",
       "      <td>8516.483516</td>\n",
       "    </tr>\n",
       "    <tr>\n",
       "      <th>16</th>\n",
       "      <td>11</td>\n",
       "      <td>6700000.0</td>\n",
       "      <td>82.0</td>\n",
       "      <td>2017-11-23</td>\n",
       "      <td>3</td>\n",
       "      <td>3.05</td>\n",
       "      <td>5</td>\n",
       "      <td>55.6</td>\n",
       "      <td>1</td>\n",
       "      <td>NaN</td>\n",
       "      <td>...</td>\n",
       "      <td>397.0</td>\n",
       "      <td>81707.317073</td>\n",
       "      <td>3</td>\n",
       "      <td>11</td>\n",
       "      <td>2017</td>\n",
       "      <td>первый</td>\n",
       "      <td>67.804878</td>\n",
       "      <td>10.975610</td>\n",
       "      <td>11</td>\n",
       "      <td>7427.937916</td>\n",
       "    </tr>\n",
       "    <tr>\n",
       "      <th>17</th>\n",
       "      <td>6</td>\n",
       "      <td>4180000.0</td>\n",
       "      <td>36.0</td>\n",
       "      <td>2016-09-09</td>\n",
       "      <td>1</td>\n",
       "      <td>NaN</td>\n",
       "      <td>17</td>\n",
       "      <td>16.5</td>\n",
       "      <td>7</td>\n",
       "      <td>NaN</td>\n",
       "      <td>...</td>\n",
       "      <td>571.0</td>\n",
       "      <td>116111.111111</td>\n",
       "      <td>4</td>\n",
       "      <td>9</td>\n",
       "      <td>2016</td>\n",
       "      <td>другой</td>\n",
       "      <td>45.833333</td>\n",
       "      <td>30.555556</td>\n",
       "      <td>15</td>\n",
       "      <td>7740.740741</td>\n",
       "    </tr>\n",
       "  </tbody>\n",
       "</table>\n",
       "<p>10 rows × 31 columns</p>\n",
       "</div>"
      ],
      "text/plain": [
       "    total_images  last_price  total_area first_day_exposition  rooms  \\\n",
       "0             20  13000000.0       108.0           2019-03-07      3   \n",
       "2             10   5196000.0        56.0           2015-08-20      2   \n",
       "3              0  64900000.0       159.0           2015-07-24      3   \n",
       "4              2  10000000.0       100.0           2018-06-19      2   \n",
       "7              5   7915000.0        71.6           2019-04-18      2   \n",
       "9             18   5400000.0        61.0           2017-02-26      3   \n",
       "10             5   5050000.0        39.6           2017-11-16      1   \n",
       "15            16   4650000.0        39.0           2017-11-18      1   \n",
       "16            11   6700000.0        82.0           2017-11-23      3   \n",
       "17             6   4180000.0        36.0           2016-09-09      1   \n",
       "\n",
       "    ceiling_height  floors_total  living_area  floor is_apartment  ...  \\\n",
       "0             2.70            16         51.0      8          NaN  ...   \n",
       "2              NaN             5         34.3      4          NaN  ...   \n",
       "3              NaN            14          NaN      9          NaN  ...   \n",
       "4             3.03            14         32.0     13          NaN  ...   \n",
       "7              NaN            24          NaN     22          NaN  ...   \n",
       "9             2.50             9         43.6      7          NaN  ...   \n",
       "10            2.67            12         20.3      3          NaN  ...   \n",
       "15             NaN            14         20.5      5          NaN  ...   \n",
       "16            3.05             5         55.6      1          NaN  ...   \n",
       "17             NaN            17         16.5      7          NaN  ...   \n",
       "\n",
       "    days_exposition  price_for_meter  day_exposition  month_exposition  \\\n",
       "0               NaN    120370.370370               3                 3   \n",
       "2             558.0     92785.714286               3                 8   \n",
       "3             424.0    408176.100629               4                 7   \n",
       "4             121.0    100000.000000               1                 6   \n",
       "7               NaN    110544.692737               3                 4   \n",
       "9             289.0     88524.590164               6                 2   \n",
       "10            137.0    127525.252525               3                11   \n",
       "15             19.0    119230.769231               5                11   \n",
       "16            397.0     81707.317073               3                11   \n",
       "17            571.0    116111.111111               4                 9   \n",
       "\n",
       "   year_exposition  apartment_floor  ratio_living_area  ratio_kitchen_area  \\\n",
       "0             2019           другой          47.222222           23.148148   \n",
       "2             2015           другой          61.250000           14.821429   \n",
       "3             2015           другой                NaN                 NaN   \n",
       "4             2018           другой          32.000000           41.000000   \n",
       "7             2019           другой                NaN           26.396648   \n",
       "9             2017           другой          71.475410           10.655738   \n",
       "10            2017           другой          51.262626           21.464646   \n",
       "15            2017           другой          52.564103           19.487179   \n",
       "16            2017           первый          67.804878           10.975610   \n",
       "17            2016           другой          45.833333           30.555556   \n",
       "\n",
       "    center_distance  price_for_km  \n",
       "0                16   7523.148148  \n",
       "2                14    6627.55102  \n",
       "3                 7  58310.871518  \n",
       "4                 8       12500.0  \n",
       "7                12   9212.057728  \n",
       "9                15   5901.639344  \n",
       "10               14   9108.946609  \n",
       "15               14   8516.483516  \n",
       "16               11   7427.937916  \n",
       "17               15   7740.740741  \n",
       "\n",
       "[10 rows x 31 columns]"
      ]
     },
     "execution_count": 37,
     "metadata": {},
     "output_type": "execute_result"
    }
   ],
   "source": [
    "sp_apartments['price_for_km'] = sp_apartments['price_for_meter'] / sp_apartments['center_distance']\n",
    "sp_apartments.head(10)"
   ]
  },
  {
   "cell_type": "markdown",
   "metadata": {},
   "source": [
    "Построим график для определения границы центральной зоны"
   ]
  },
  {
   "cell_type": "code",
   "execution_count": 38,
   "metadata": {},
   "outputs": [
    {
     "data": {
      "text/plain": [
       "array([[<AxesSubplot:title={'center':'center_distance'}>]], dtype=object)"
      ]
     },
     "execution_count": 38,
     "metadata": {},
     "output_type": "execute_result"
    },
    {
     "data": {
      "image/png": "[encoded data removed]",
      "text/plain": [
       "<Figure size 432x288 with 1 Axes>"
      ]
     },
     "metadata": {
      "needs_background": "light"
     },
     "output_type": "display_data"
    }
   ],
   "source": [
    "sp_apartments.pivot_table(index='price_for_km', values='center_distance').hist()"
   ]
  },
  {
   "cell_type": "code",
   "execution_count": 39,
   "metadata": {},
   "outputs": [
    {
     "data": {
      "text/plain": [
       "<AxesSubplot:xlabel='center_distance'>"
      ]
     },
     "execution_count": 39,
     "metadata": {},
     "output_type": "execute_result"
    },
    {
     "data": {
      "image/png": "[encoded data removed]",
      "text/plain": [
       "<Figure size 432x288 with 1 Axes>"
      ]
     },
     "metadata": {
      "needs_background": "light"
     },
     "output_type": "display_data"
    }
   ],
   "source": [
    "sp_apartments.pivot_table(index='center_distance', values='price_for_km').plot()"
   ]
  },
  {
   "cell_type": "markdown",
   "metadata": {},
   "source": [
    "По графику можно сделать вывод о том, что центральной зоной является расстояние до 5 километров, именно здесь график сильно меняется."
   ]
  },
  {
   "cell_type": "markdown",
   "metadata": {},
   "source": [
    "### Квартиры в центре"
   ]
  },
  {
   "cell_type": "markdown",
   "metadata": {},
   "source": [
    "Для выделения квартир в центре воспользуемся методом срезов."
   ]
  },
  {
   "cell_type": "code",
   "execution_count": 40,
   "metadata": {
    "scrolled": true
   },
   "outputs": [
    {
     "data": {
      "text/html": [
       "<div>\n",
       "<style scoped>\n",
       "    .dataframe tbody tr th:only-of-type {\n",
       "        vertical-align: middle;\n",
       "    }\n",
       "\n",
       "    .dataframe tbody tr th {\n",
       "        vertical-align: top;\n",
       "    }\n",
       "\n",
       "    .dataframe thead th {\n",
       "        text-align: right;\n",
       "    }\n",
       "</style>\n",
       "<table border=\"1\" class=\"dataframe\">\n",
       "  <thead>\n",
       "    <tr style=\"text-align: right;\">\n",
       "      <th></th>\n",
       "      <th>total_images</th>\n",
       "      <th>last_price</th>\n",
       "      <th>total_area</th>\n",
       "      <th>first_day_exposition</th>\n",
       "      <th>rooms</th>\n",
       "      <th>ceiling_height</th>\n",
       "      <th>floors_total</th>\n",
       "      <th>living_area</th>\n",
       "      <th>floor</th>\n",
       "      <th>is_apartment</th>\n",
       "      <th>...</th>\n",
       "      <th>days_exposition</th>\n",
       "      <th>price_for_meter</th>\n",
       "      <th>day_exposition</th>\n",
       "      <th>month_exposition</th>\n",
       "      <th>year_exposition</th>\n",
       "      <th>apartment_floor</th>\n",
       "      <th>ratio_living_area</th>\n",
       "      <th>ratio_kitchen_area</th>\n",
       "      <th>center_distance</th>\n",
       "      <th>price_for_km</th>\n",
       "    </tr>\n",
       "  </thead>\n",
       "  <tbody>\n",
       "    <tr>\n",
       "      <th>24</th>\n",
       "      <td>8</td>\n",
       "      <td>6500000.0</td>\n",
       "      <td>97.2</td>\n",
       "      <td>2015-10-31</td>\n",
       "      <td>2</td>\n",
       "      <td>NaN</td>\n",
       "      <td>3</td>\n",
       "      <td>46.50</td>\n",
       "      <td>1</td>\n",
       "      <td>NaN</td>\n",
       "      <td>...</td>\n",
       "      <td>265.0</td>\n",
       "      <td>66872.427984</td>\n",
       "      <td>5</td>\n",
       "      <td>10</td>\n",
       "      <td>2015</td>\n",
       "      <td>первый</td>\n",
       "      <td>47.839506</td>\n",
       "      <td>20.164609</td>\n",
       "      <td>2</td>\n",
       "      <td>33436.213992</td>\n",
       "    </tr>\n",
       "    <tr>\n",
       "      <th>35</th>\n",
       "      <td>6</td>\n",
       "      <td>15500000.0</td>\n",
       "      <td>149.0</td>\n",
       "      <td>2017-06-26</td>\n",
       "      <td>5</td>\n",
       "      <td>NaN</td>\n",
       "      <td>5</td>\n",
       "      <td>104.00</td>\n",
       "      <td>4</td>\n",
       "      <td>NaN</td>\n",
       "      <td>...</td>\n",
       "      <td>644.0</td>\n",
       "      <td>104026.845638</td>\n",
       "      <td>0</td>\n",
       "      <td>6</td>\n",
       "      <td>2017</td>\n",
       "      <td>другой</td>\n",
       "      <td>69.798658</td>\n",
       "      <td>11.409396</td>\n",
       "      <td>4</td>\n",
       "      <td>26006.711409</td>\n",
       "    </tr>\n",
       "    <tr>\n",
       "      <th>61</th>\n",
       "      <td>18</td>\n",
       "      <td>7990000.0</td>\n",
       "      <td>74.0</td>\n",
       "      <td>2017-08-24</td>\n",
       "      <td>2</td>\n",
       "      <td>NaN</td>\n",
       "      <td>4</td>\n",
       "      <td>43.00</td>\n",
       "      <td>4</td>\n",
       "      <td>NaN</td>\n",
       "      <td>...</td>\n",
       "      <td>609.0</td>\n",
       "      <td>107972.972973</td>\n",
       "      <td>3</td>\n",
       "      <td>8</td>\n",
       "      <td>2017</td>\n",
       "      <td>последний</td>\n",
       "      <td>58.108108</td>\n",
       "      <td>27.027027</td>\n",
       "      <td>4</td>\n",
       "      <td>26993.243243</td>\n",
       "    </tr>\n",
       "    <tr>\n",
       "      <th>99</th>\n",
       "      <td>32</td>\n",
       "      <td>9600000.0</td>\n",
       "      <td>90.0</td>\n",
       "      <td>2017-09-26</td>\n",
       "      <td>4</td>\n",
       "      <td>NaN</td>\n",
       "      <td>5</td>\n",
       "      <td>67.00</td>\n",
       "      <td>2</td>\n",
       "      <td>NaN</td>\n",
       "      <td>...</td>\n",
       "      <td>104.0</td>\n",
       "      <td>106666.666667</td>\n",
       "      <td>1</td>\n",
       "      <td>9</td>\n",
       "      <td>2017</td>\n",
       "      <td>другой</td>\n",
       "      <td>74.444444</td>\n",
       "      <td>8.888889</td>\n",
       "      <td>3</td>\n",
       "      <td>35555.555556</td>\n",
       "    </tr>\n",
       "    <tr>\n",
       "      <th>121</th>\n",
       "      <td>20</td>\n",
       "      <td>33000000.0</td>\n",
       "      <td>180.0</td>\n",
       "      <td>2017-02-17</td>\n",
       "      <td>3</td>\n",
       "      <td>2.90</td>\n",
       "      <td>9</td>\n",
       "      <td>86.00</td>\n",
       "      <td>8</td>\n",
       "      <td>False</td>\n",
       "      <td>...</td>\n",
       "      <td>144.0</td>\n",
       "      <td>183333.333333</td>\n",
       "      <td>4</td>\n",
       "      <td>2</td>\n",
       "      <td>2017</td>\n",
       "      <td>другой</td>\n",
       "      <td>47.777778</td>\n",
       "      <td>13.333333</td>\n",
       "      <td>4</td>\n",
       "      <td>45833.333333</td>\n",
       "    </tr>\n",
       "    <tr>\n",
       "      <th>136</th>\n",
       "      <td>16</td>\n",
       "      <td>6500000.0</td>\n",
       "      <td>51.8</td>\n",
       "      <td>2018-08-01</td>\n",
       "      <td>2</td>\n",
       "      <td>3.45</td>\n",
       "      <td>6</td>\n",
       "      <td>25.60</td>\n",
       "      <td>2</td>\n",
       "      <td>NaN</td>\n",
       "      <td>...</td>\n",
       "      <td>163.0</td>\n",
       "      <td>125482.625483</td>\n",
       "      <td>2</td>\n",
       "      <td>8</td>\n",
       "      <td>2018</td>\n",
       "      <td>другой</td>\n",
       "      <td>49.420849</td>\n",
       "      <td>14.092664</td>\n",
       "      <td>4</td>\n",
       "      <td>31370.656371</td>\n",
       "    </tr>\n",
       "    <tr>\n",
       "      <th>137</th>\n",
       "      <td>11</td>\n",
       "      <td>13310800.0</td>\n",
       "      <td>85.1</td>\n",
       "      <td>2018-01-01</td>\n",
       "      <td>2</td>\n",
       "      <td>2.70</td>\n",
       "      <td>10</td>\n",
       "      <td>31.52</td>\n",
       "      <td>5</td>\n",
       "      <td>NaN</td>\n",
       "      <td>...</td>\n",
       "      <td>340.0</td>\n",
       "      <td>156413.631022</td>\n",
       "      <td>0</td>\n",
       "      <td>1</td>\n",
       "      <td>2018</td>\n",
       "      <td>другой</td>\n",
       "      <td>37.038778</td>\n",
       "      <td>31.551116</td>\n",
       "      <td>4</td>\n",
       "      <td>39103.407756</td>\n",
       "    </tr>\n",
       "    <tr>\n",
       "      <th>138</th>\n",
       "      <td>8</td>\n",
       "      <td>4800000.0</td>\n",
       "      <td>40.0</td>\n",
       "      <td>2017-11-18</td>\n",
       "      <td>2</td>\n",
       "      <td>NaN</td>\n",
       "      <td>3</td>\n",
       "      <td>29.00</td>\n",
       "      <td>2</td>\n",
       "      <td>NaN</td>\n",
       "      <td>...</td>\n",
       "      <td>80.0</td>\n",
       "      <td>120000.000000</td>\n",
       "      <td>5</td>\n",
       "      <td>11</td>\n",
       "      <td>2017</td>\n",
       "      <td>другой</td>\n",
       "      <td>72.500000</td>\n",
       "      <td>15.000000</td>\n",
       "      <td>3</td>\n",
       "      <td>40000.0</td>\n",
       "    </tr>\n",
       "    <tr>\n",
       "      <th>147</th>\n",
       "      <td>10</td>\n",
       "      <td>27700000.0</td>\n",
       "      <td>179.6</td>\n",
       "      <td>2017-07-06</td>\n",
       "      <td>5</td>\n",
       "      <td>2.85</td>\n",
       "      <td>25</td>\n",
       "      <td>97.20</td>\n",
       "      <td>25</td>\n",
       "      <td>NaN</td>\n",
       "      <td>...</td>\n",
       "      <td>75.0</td>\n",
       "      <td>154231.625835</td>\n",
       "      <td>3</td>\n",
       "      <td>7</td>\n",
       "      <td>2017</td>\n",
       "      <td>последний</td>\n",
       "      <td>54.120267</td>\n",
       "      <td>18.819599</td>\n",
       "      <td>4</td>\n",
       "      <td>38557.906459</td>\n",
       "    </tr>\n",
       "    <tr>\n",
       "      <th>154</th>\n",
       "      <td>1</td>\n",
       "      <td>8200000.0</td>\n",
       "      <td>80.0</td>\n",
       "      <td>2018-11-06</td>\n",
       "      <td>3</td>\n",
       "      <td>4.15</td>\n",
       "      <td>3</td>\n",
       "      <td>44.20</td>\n",
       "      <td>2</td>\n",
       "      <td>NaN</td>\n",
       "      <td>...</td>\n",
       "      <td>38.0</td>\n",
       "      <td>102500.000000</td>\n",
       "      <td>1</td>\n",
       "      <td>11</td>\n",
       "      <td>2018</td>\n",
       "      <td>другой</td>\n",
       "      <td>55.250000</td>\n",
       "      <td>15.250000</td>\n",
       "      <td>3</td>\n",
       "      <td>34166.666667</td>\n",
       "    </tr>\n",
       "  </tbody>\n",
       "</table>\n",
       "<p>10 rows × 31 columns</p>\n",
       "</div>"
      ],
      "text/plain": [
       "     total_images  last_price  total_area first_day_exposition  rooms  \\\n",
       "24              8   6500000.0        97.2           2015-10-31      2   \n",
       "35              6  15500000.0       149.0           2017-06-26      5   \n",
       "61             18   7990000.0        74.0           2017-08-24      2   \n",
       "99             32   9600000.0        90.0           2017-09-26      4   \n",
       "121            20  33000000.0       180.0           2017-02-17      3   \n",
       "136            16   6500000.0        51.8           2018-08-01      2   \n",
       "137            11  13310800.0        85.1           2018-01-01      2   \n",
       "138             8   4800000.0        40.0           2017-11-18      2   \n",
       "147            10  27700000.0       179.6           2017-07-06      5   \n",
       "154             1   8200000.0        80.0           2018-11-06      3   \n",
       "\n",
       "     ceiling_height  floors_total  living_area  floor is_apartment  ...  \\\n",
       "24              NaN             3        46.50      1          NaN  ...   \n",
       "35              NaN             5       104.00      4          NaN  ...   \n",
       "61              NaN             4        43.00      4          NaN  ...   \n",
       "99              NaN             5        67.00      2          NaN  ...   \n",
       "121            2.90             9        86.00      8        False  ...   \n",
       "136            3.45             6        25.60      2          NaN  ...   \n",
       "137            2.70            10        31.52      5          NaN  ...   \n",
       "138             NaN             3        29.00      2          NaN  ...   \n",
       "147            2.85            25        97.20     25          NaN  ...   \n",
       "154            4.15             3        44.20      2          NaN  ...   \n",
       "\n",
       "     days_exposition  price_for_meter  day_exposition  month_exposition  \\\n",
       "24             265.0     66872.427984               5                10   \n",
       "35             644.0    104026.845638               0                 6   \n",
       "61             609.0    107972.972973               3                 8   \n",
       "99             104.0    106666.666667               1                 9   \n",
       "121            144.0    183333.333333               4                 2   \n",
       "136            163.0    125482.625483               2                 8   \n",
       "137            340.0    156413.631022               0                 1   \n",
       "138             80.0    120000.000000               5                11   \n",
       "147             75.0    154231.625835               3                 7   \n",
       "154             38.0    102500.000000               1                11   \n",
       "\n",
       "    year_exposition  apartment_floor  ratio_living_area  ratio_kitchen_area  \\\n",
       "24             2015           первый          47.839506           20.164609   \n",
       "35             2017           другой          69.798658           11.409396   \n",
       "61             2017        последний          58.108108           27.027027   \n",
       "99             2017           другой          74.444444            8.888889   \n",
       "121            2017           другой          47.777778           13.333333   \n",
       "136            2018           другой          49.420849           14.092664   \n",
       "137            2018           другой          37.038778           31.551116   \n",
       "138            2017           другой          72.500000           15.000000   \n",
       "147            2017        последний          54.120267           18.819599   \n",
       "154            2018           другой          55.250000           15.250000   \n",
       "\n",
       "     center_distance  price_for_km  \n",
       "24                 2  33436.213992  \n",
       "35                 4  26006.711409  \n",
       "61                 4  26993.243243  \n",
       "99                 3  35555.555556  \n",
       "121                4  45833.333333  \n",
       "136                4  31370.656371  \n",
       "137                4  39103.407756  \n",
       "138                3       40000.0  \n",
       "147                4  38557.906459  \n",
       "154                3  34166.666667  \n",
       "\n",
       "[10 rows x 31 columns]"
      ]
     },
     "execution_count": 40,
     "metadata": {},
     "output_type": "execute_result"
    }
   ],
   "source": [
    "center_apartments = sp_apartments.query('center_distance < 5')\n",
    "center_apartments.head(10)"
   ]
  },
  {
   "cell_type": "markdown",
   "metadata": {},
   "source": [
    "#### Изучаем параметры"
   ]
  },
  {
   "cell_type": "markdown",
   "metadata": {},
   "source": [
    "Площадь квартир"
   ]
  },
  {
   "cell_type": "code",
   "execution_count": 41,
   "metadata": {},
   "outputs": [
    {
     "data": {
      "text/plain": [
       "<AxesSubplot:>"
      ]
     },
     "execution_count": 41,
     "metadata": {},
     "output_type": "execute_result"
    },
    {
     "data": {
      "image/png": "[encoded data removed]",
      "text/plain": [
       "<Figure size 432x288 with 1 Axes>"
      ]
     },
     "metadata": {
      "needs_background": "light"
     },
     "output_type": "display_data"
    }
   ],
   "source": [
    "center_apartments['total_area'].hist(range=(0,400))"
   ]
  },
  {
   "cell_type": "markdown",
   "metadata": {},
   "source": [
    "Больше всего квартир с площадью от 40 до 70 квадратных метров, что соотносится с общими данными."
   ]
  },
  {
   "cell_type": "markdown",
   "metadata": {},
   "source": [
    "Цена"
   ]
  },
  {
   "cell_type": "code",
   "execution_count": 42,
   "metadata": {},
   "outputs": [
    {
     "data": {
      "text/plain": [
       "<AxesSubplot:>"
      ]
     },
     "execution_count": 42,
     "metadata": {},
     "output_type": "execute_result"
    },
    {
     "data": {
      "image/png": "[encoded data removed]",
      "text/plain": [
       "<Figure size 432x288 with 1 Axes>"
      ]
     },
     "metadata": {
      "needs_background": "light"
     },
     "output_type": "display_data"
    }
   ],
   "source": [
    "center_apartments['last_price'].hist()"
   ]
  },
  {
   "cell_type": "markdown",
   "metadata": {},
   "source": [
    "Цена находится на одном уровне."
   ]
  },
  {
   "cell_type": "markdown",
   "metadata": {},
   "source": [
    "Число комнат"
   ]
  },
  {
   "cell_type": "code",
   "execution_count": 43,
   "metadata": {},
   "outputs": [
    {
     "data": {
      "text/plain": [
       "<AxesSubplot:>"
      ]
     },
     "execution_count": 43,
     "metadata": {},
     "output_type": "execute_result"
    },
    {
     "data": {
      "image/png": "[encoded data removed]",
      "text/plain": [
       "<Figure size 432x288 with 1 Axes>"
      ]
     },
     "metadata": {
      "needs_background": "light"
     },
     "output_type": "display_data"
    }
   ],
   "source": [
    "center_apartments['rooms'].hist(range=(0,10))"
   ]
  },
  {
   "cell_type": "markdown",
   "metadata": {},
   "source": [
    "В центре города больше всего продают квартиры с числом комнат до 4"
   ]
  },
  {
   "cell_type": "markdown",
   "metadata": {},
   "source": [
    "Высота потолков"
   ]
  },
  {
   "cell_type": "code",
   "execution_count": 44,
   "metadata": {},
   "outputs": [
    {
     "data": {
      "text/plain": [
       "<AxesSubplot:>"
      ]
     },
     "execution_count": 44,
     "metadata": {},
     "output_type": "execute_result"
    },
    {
     "data": {
      "image/png": "[encoded data removed]",
      "text/plain": [
       "<Figure size 432x288 with 1 Axes>"
      ]
     },
     "metadata": {
      "needs_background": "light"
     },
     "output_type": "display_data"
    }
   ],
   "source": [
    "center_apartments['ceiling_height'].hist(range=(0,20))"
   ]
  },
  {
   "cell_type": "markdown",
   "metadata": {},
   "source": [
    "Потолки стандартные - 2,5 метра."
   ]
  },
  {
   "cell_type": "markdown",
   "metadata": {},
   "source": [
    "#### Зависимость цены от числа комнат"
   ]
  },
  {
   "cell_type": "code",
   "execution_count": 45,
   "metadata": {},
   "outputs": [
    {
     "data": {
      "text/plain": [
       "0.24666476375827653"
      ]
     },
     "execution_count": 45,
     "metadata": {},
     "output_type": "execute_result"
    }
   ],
   "source": [
    "center_apartments['last_price'].corr(center_apartments['rooms'])"
   ]
  },
  {
   "cell_type": "markdown",
   "metadata": {},
   "source": [
    "Наблюдается хоть и не значительная, но корреляция между ценой на квартиру и количеством комнат."
   ]
  },
  {
   "cell_type": "markdown",
   "metadata": {},
   "source": [
    "#### Зависимость цены от этажа"
   ]
  },
  {
   "cell_type": "code",
   "execution_count": 46,
   "metadata": {},
   "outputs": [
    {
     "name": "stdout",
     "output_type": "stream",
     "text": [
      "Медианная цена за квадратный метр на первом этаже составляет: 110142.0\n",
      "Медианная цена за квадратный метр на другом этаже составляет: 120580.0\n",
      "Медианная цена за квадратный метр на последнем этаже составляет: 114000.0\n"
     ]
    }
   ],
   "source": [
    "first_floor = center_apartments.query('apartment_floor == \"первый\"')\n",
    "other_floor = center_apartments.query('apartment_floor == \"другой\"')\n",
    "last_floor = center_apartments.query('apartment_floor == \"последний\"')\n",
    "\n",
    "print('Медианная цена за квадратный метр на первом этаже составляет:', first_floor['price_for_meter'].median().round())\n",
    "print('Медианная цена за квадратный метр на другом этаже составляет:', other_floor['price_for_meter'].median().round())\n",
    "print('Медианная цена за квадратный метр на последнем этаже составляет:', last_floor['price_for_meter'].median().round())"
   ]
  },
  {
   "cell_type": "markdown",
   "metadata": {},
   "source": [
    "Наблюдается похожая картина с общими данными: самые дешевые квартиры расположены на первых этажах, а самые дорогие - на других, но не последних."
   ]
  },
  {
   "cell_type": "markdown",
   "metadata": {},
   "source": [
    "#### Зависимость цены от удаленности от центра"
   ]
  },
  {
   "cell_type": "code",
   "execution_count": 47,
   "metadata": {},
   "outputs": [
    {
     "data": {
      "text/plain": [
       "-0.10948678028100199"
      ]
     },
     "execution_count": 47,
     "metadata": {},
     "output_type": "execute_result"
    }
   ],
   "source": [
    "center_apartments['last_price'].corr(center_apartments['cityCenters_nearest'])"
   ]
  },
  {
   "cell_type": "markdown",
   "metadata": {},
   "source": [
    "Как и общем случае, корреляции по данному параметру не наблюдается."
   ]
  },
  {
   "cell_type": "markdown",
   "metadata": {},
   "source": [
    "#### Зависимость цены от даты размещения объявления"
   ]
  },
  {
   "cell_type": "markdown",
   "metadata": {},
   "source": [
    "##### По дню недели"
   ]
  },
  {
   "cell_type": "code",
   "execution_count": 48,
   "metadata": {},
   "outputs": [
    {
     "data": {
      "text/plain": [
       "array([[<AxesSubplot:title={'center':'day_exposition'}>]], dtype=object)"
      ]
     },
     "execution_count": 48,
     "metadata": {},
     "output_type": "execute_result"
    },
    {
     "data": {
      "image/png": "[encoded data removed]",
      "text/plain": [
       "<Figure size 432x288 with 1 Axes>"
      ]
     },
     "metadata": {
      "needs_background": "light"
     },
     "output_type": "display_data"
    }
   ],
   "source": [
    "center_apartments.pivot_table(index='price_for_meter', values='day_exposition').hist()"
   ]
  },
  {
   "cell_type": "markdown",
   "metadata": {},
   "source": [
    "Ситуация схожа с общими данными - наблюдается рост цены с понедельника по пятницу (в пятницу снижение), а в выходные довольно сильный спад."
   ]
  },
  {
   "cell_type": "markdown",
   "metadata": {},
   "source": [
    "##### По месяцу"
   ]
  },
  {
   "cell_type": "code",
   "execution_count": 49,
   "metadata": {},
   "outputs": [
    {
     "data": {
      "text/plain": [
       "array([[<AxesSubplot:title={'center':'month_exposition'}>]], dtype=object)"
      ]
     },
     "execution_count": 49,
     "metadata": {},
     "output_type": "execute_result"
    },
    {
     "data": {
      "image/png": "[encoded data removed]",
      "text/plain": [
       "<Figure size 432x288 with 1 Axes>"
      ]
     },
     "metadata": {
      "needs_background": "light"
     },
     "output_type": "display_data"
    }
   ],
   "source": [
    "center_apartments.pivot_table(index='price_for_meter', values='month_exposition').hist()"
   ]
  },
  {
   "cell_type": "markdown",
   "metadata": {},
   "source": [
    "Самые дорогие квартиры выставляются в декабре и январе. Самые дешевые - в мае. Все так же."
   ]
  },
  {
   "cell_type": "markdown",
   "metadata": {},
   "source": [
    "##### По году"
   ]
  },
  {
   "cell_type": "code",
   "execution_count": 50,
   "metadata": {},
   "outputs": [
    {
     "data": {
      "text/plain": [
       "array([[<AxesSubplot:title={'center':'year_exposition'}>]], dtype=object)"
      ]
     },
     "execution_count": 50,
     "metadata": {},
     "output_type": "execute_result"
    },
    {
     "data": {
      "image/png": "[encoded data removed]",
      "text/plain": [
       "<Figure size 432x288 with 1 Axes>"
      ]
     },
     "metadata": {
      "needs_background": "light"
     },
     "output_type": "display_data"
    }
   ],
   "source": [
    "center_apartments.pivot_table(index='price_for_meter', values='year_exposition').hist()"
   ]
  },
  {
   "cell_type": "markdown",
   "metadata": {},
   "source": [
    "До 2016 года шел плавный рост цен на квартиры, но в 2017-м произошел резкий скачек, цены продержались до 2018 года и рухнули в 2019 году почти до уровня 2016 года.\n",
    "График практически идентичен графику по общим данным."
   ]
  },
  {
   "cell_type": "markdown",
   "metadata": {},
   "source": [
    "## Общий вывод"
   ]
  },
  {
   "cell_type": "markdown",
   "metadata": {},
   "source": [
    "По итогам проведенного исследования можно сделать следующие выводы:\n",
    "\n",
    "\n",
    "1. Основная площадь продаваемых квартир не превышает 75-80 квадратных метров. Самые высокие значения в диапазоне от 30 до 50 квадратных метров.\n",
    "2. Среднее время продажи квартиры составляет 181 день, однако на графике можно увидеть, что в большинстве случаев, продажа квартиры не превышает 100-110 дней. \n",
    "3. Очень быстрым сроком продажи квартиры можно считать 50 дней, а самым необычайно долгим - 600 дней, что составляет около двух лет. \n",
    "4. Наблюдается корреляция между ценой на квартиру и ее площадью. \n",
    "5. Между ценой на квартиру и количеством комнат наблюдается незначительная корреляция. Нельзя говорить о том, что количество комнат так уж влияет на цену квартиры.\n",
    "6. Корреляция между ценой и удаленностью от центра не наблюдается, скорее даже наоборот...\n",
    "7. На первом этаже квартиры в среднем дешевле, чуть дороже квартиры на последнем этаже, а вот все остальные - самые дорогие.\n",
    "8. Наблюдается рост цены с понедельника по пятницу (в пятницу снижение), а в выходные довольно сильный спад.\n",
    "9. Самые дорогие квартиры выставляются в декабре и январе. Самые дешевые - в мае.\n",
    "10. До 2016 года шел плавный рост цен на квартиры, но в 2017-м произошел резкий скачек, цены продержались до 2018 года и рухнули в 2019 году почти до уровня 2016 года.\n",
    "11. Санкт-Петербург ожидаемо лидирует по количеству объявлений о продаже квартир\n",
    "12. Для центра Санкт-Петербурга характерны те же результаты, что и для общего количества квартир."
   ]
  }
 ],
 "metadata": {
  "ExecuteTimeLog": [
   {
    "duration": 145,
    "start_time": "2022-01-25T10:14:49.186Z"
   },
   {
    "duration": 970,
    "start_time": "2022-01-25T11:00:19.537Z"
   },
   {
    "duration": 692,
    "start_time": "2022-01-26T03:07:16.288Z"
   },
   {
    "duration": 305,
    "start_time": "2022-01-26T03:08:40.965Z"
   },
   {
    "duration": 1485,
    "start_time": "2022-01-26T03:10:11.460Z"
   },
   {
    "duration": 1593,
    "start_time": "2022-01-26T03:10:47.592Z"
   },
   {
    "duration": 70,
    "start_time": "2022-01-26T03:11:42.692Z"
   },
   {
    "duration": 113,
    "start_time": "2022-01-26T03:11:55.641Z"
   },
   {
    "duration": 12,
    "start_time": "2022-01-26T03:32:06.976Z"
   },
   {
    "duration": 10,
    "start_time": "2022-01-26T03:35:08.828Z"
   },
   {
    "duration": 675,
    "start_time": "2022-01-26T14:45:28.154Z"
   },
   {
    "duration": 18,
    "start_time": "2022-01-26T14:45:32.460Z"
   },
   {
    "duration": 9,
    "start_time": "2022-01-26T14:45:35.762Z"
   },
   {
    "duration": 7018,
    "start_time": "2022-01-26T15:13:43.320Z"
   },
   {
    "duration": 3643,
    "start_time": "2022-01-26T15:14:25.321Z"
   },
   {
    "duration": 3942,
    "start_time": "2022-01-26T15:17:36.818Z"
   },
   {
    "duration": 3606,
    "start_time": "2022-01-26T15:19:17.581Z"
   },
   {
    "duration": 91,
    "start_time": "2022-01-26T15:21:17.961Z"
   },
   {
    "duration": 11,
    "start_time": "2022-01-26T15:21:22.704Z"
   },
   {
    "duration": 9,
    "start_time": "2022-01-26T15:21:24.808Z"
   },
   {
    "duration": 278,
    "start_time": "2022-01-26T15:21:28.018Z"
   },
   {
    "duration": 3517,
    "start_time": "2022-01-26T15:23:29.184Z"
   },
   {
    "duration": 6833,
    "start_time": "2022-01-26T15:23:59.052Z"
   },
   {
    "duration": 3886,
    "start_time": "2022-01-26T15:28:51.992Z"
   },
   {
    "duration": 3624,
    "start_time": "2022-01-26T15:29:45.456Z"
   },
   {
    "duration": 92,
    "start_time": "2022-01-26T15:38:57.358Z"
   },
   {
    "duration": 9,
    "start_time": "2022-01-26T15:39:01.563Z"
   },
   {
    "duration": 8,
    "start_time": "2022-01-26T15:39:04.286Z"
   },
   {
    "duration": 3,
    "start_time": "2022-01-26T15:39:07.371Z"
   },
   {
    "duration": 3649,
    "start_time": "2022-01-26T15:39:14.628Z"
   },
   {
    "duration": 4425,
    "start_time": "2022-01-26T15:39:26.926Z"
   },
   {
    "duration": 4519,
    "start_time": "2022-01-26T15:42:20.826Z"
   },
   {
    "duration": 3777,
    "start_time": "2022-01-26T15:42:46.173Z"
   },
   {
    "duration": 3851,
    "start_time": "2022-01-26T15:43:14.790Z"
   },
   {
    "duration": 2,
    "start_time": "2022-01-26T15:46:03.271Z"
   },
   {
    "duration": 5,
    "start_time": "2022-01-26T15:47:00.333Z"
   },
   {
    "duration": 5,
    "start_time": "2022-01-26T15:47:18.640Z"
   },
   {
    "duration": 6,
    "start_time": "2022-01-26T15:47:30.392Z"
   },
   {
    "duration": 4354,
    "start_time": "2022-01-26T15:48:15.004Z"
   },
   {
    "duration": 3941,
    "start_time": "2022-01-26T15:49:55.177Z"
   },
   {
    "duration": 6,
    "start_time": "2022-01-26T15:56:29.241Z"
   },
   {
    "duration": 92,
    "start_time": "2022-01-26T16:11:42.192Z"
   },
   {
    "duration": 47,
    "start_time": "2022-01-26T16:11:44.231Z"
   },
   {
    "duration": 10,
    "start_time": "2022-01-26T16:11:50.567Z"
   },
   {
    "duration": 8,
    "start_time": "2022-01-26T16:11:51.819Z"
   },
   {
    "duration": 2,
    "start_time": "2022-01-26T16:11:55.064Z"
   },
   {
    "duration": 5,
    "start_time": "2022-01-26T16:11:57.520Z"
   },
   {
    "duration": 5,
    "start_time": "2022-01-26T16:12:55.524Z"
   },
   {
    "duration": 3788,
    "start_time": "2022-01-26T16:13:09.654Z"
   },
   {
    "duration": 3990,
    "start_time": "2022-01-26T16:13:26.527Z"
   },
   {
    "duration": 721,
    "start_time": "2022-01-27T03:20:07.041Z"
   },
   {
    "duration": 13,
    "start_time": "2022-01-27T03:20:11.422Z"
   },
   {
    "duration": 10,
    "start_time": "2022-01-27T03:20:13.994Z"
   },
   {
    "duration": 6,
    "start_time": "2022-01-27T03:20:19.890Z"
   },
   {
    "duration": 6,
    "start_time": "2022-01-27T03:20:23.030Z"
   },
   {
    "duration": 2540,
    "start_time": "2022-01-27T03:26:40.231Z"
   },
   {
    "duration": 3130,
    "start_time": "2022-01-27T03:26:49.984Z"
   },
   {
    "duration": 2469,
    "start_time": "2022-01-27T03:44:17.665Z"
   },
   {
    "duration": 2616,
    "start_time": "2022-01-27T03:46:24.301Z"
   },
   {
    "duration": 2487,
    "start_time": "2022-01-27T03:47:17.669Z"
   },
   {
    "duration": 123,
    "start_time": "2022-01-27T03:48:32.622Z"
   },
   {
    "duration": 14,
    "start_time": "2022-01-27T03:48:36.449Z"
   },
   {
    "duration": 10,
    "start_time": "2022-01-27T03:48:39.601Z"
   },
   {
    "duration": 6,
    "start_time": "2022-01-27T03:48:42.849Z"
   },
   {
    "duration": 7,
    "start_time": "2022-01-27T03:48:45.513Z"
   },
   {
    "duration": 197,
    "start_time": "2022-01-27T03:49:48.505Z"
   },
   {
    "duration": 1448,
    "start_time": "2022-01-27T03:50:22.829Z"
   },
   {
    "duration": 71,
    "start_time": "2022-01-27T03:50:54.841Z"
   },
   {
    "duration": 4968,
    "start_time": "2022-01-27T03:51:53.917Z"
   },
   {
    "duration": 5380,
    "start_time": "2022-01-27T03:52:19.185Z"
   },
   {
    "duration": 116,
    "start_time": "2022-01-27T03:53:14.021Z"
   },
   {
    "duration": 9,
    "start_time": "2022-01-27T03:53:18.607Z"
   },
   {
    "duration": 13,
    "start_time": "2022-01-27T03:53:22.857Z"
   },
   {
    "duration": 10,
    "start_time": "2022-01-27T03:53:29.045Z"
   },
   {
    "duration": 6,
    "start_time": "2022-01-27T03:53:33.466Z"
   },
   {
    "duration": 7,
    "start_time": "2022-01-27T03:53:36.321Z"
   },
   {
    "duration": 2485,
    "start_time": "2022-01-27T03:53:40.353Z"
   },
   {
    "duration": 2864,
    "start_time": "2022-01-27T03:53:47.601Z"
   },
   {
    "duration": 188,
    "start_time": "2022-01-27T04:01:41.681Z"
   },
   {
    "duration": 203,
    "start_time": "2022-01-27T04:01:47.250Z"
   },
   {
    "duration": 195,
    "start_time": "2022-01-27T04:01:58.873Z"
   },
   {
    "duration": 2586,
    "start_time": "2022-01-27T04:02:45.405Z"
   },
   {
    "duration": 3585,
    "start_time": "2022-01-27T04:04:36.941Z"
   },
   {
    "duration": 2599,
    "start_time": "2022-01-27T04:07:58.517Z"
   },
   {
    "duration": 2457,
    "start_time": "2022-01-27T04:08:41.785Z"
   },
   {
    "duration": 715,
    "start_time": "2022-01-27T04:09:32.638Z"
   },
   {
    "duration": 10,
    "start_time": "2022-01-27T04:09:36.495Z"
   },
   {
    "duration": 14,
    "start_time": "2022-01-27T04:09:39.190Z"
   },
   {
    "duration": 11,
    "start_time": "2022-01-27T04:09:42.710Z"
   },
   {
    "duration": 6,
    "start_time": "2022-01-27T04:09:45.782Z"
   },
   {
    "duration": 7,
    "start_time": "2022-01-27T04:09:48.230Z"
   },
   {
    "duration": 2598,
    "start_time": "2022-01-27T04:09:51.543Z"
   },
   {
    "duration": 2416,
    "start_time": "2022-01-27T04:09:56.742Z"
   },
   {
    "duration": 2502,
    "start_time": "2022-01-27T04:16:16.337Z"
   },
   {
    "duration": 2453,
    "start_time": "2022-01-27T04:16:24.393Z"
   },
   {
    "duration": 69,
    "start_time": "2022-01-27T06:07:19.877Z"
   },
   {
    "duration": 1224,
    "start_time": "2022-01-27T06:07:26.029Z"
   },
   {
    "duration": 112,
    "start_time": "2022-01-27T06:07:41.621Z"
   },
   {
    "duration": 13,
    "start_time": "2022-01-27T06:08:34.733Z"
   },
   {
    "duration": 10,
    "start_time": "2022-01-27T06:09:16.245Z"
   },
   {
    "duration": 15,
    "start_time": "2022-01-27T06:10:21.868Z"
   },
   {
    "duration": 14,
    "start_time": "2022-01-27T06:11:14.957Z"
   },
   {
    "duration": 7,
    "start_time": "2022-01-27T06:14:12.552Z"
   },
   {
    "duration": 33,
    "start_time": "2022-01-27T06:42:52.455Z"
   },
   {
    "duration": 1518,
    "start_time": "2022-01-27T10:30:44.736Z"
   },
   {
    "duration": 17,
    "start_time": "2022-01-27T10:30:48.056Z"
   },
   {
    "duration": 12,
    "start_time": "2022-01-27T10:30:50.264Z"
   },
   {
    "duration": 21,
    "start_time": "2022-01-27T10:30:52.848Z"
   },
   {
    "duration": 10,
    "start_time": "2022-01-27T10:30:56.588Z"
   },
   {
    "duration": 44,
    "start_time": "2022-01-27T10:30:59.040Z"
   },
   {
    "duration": 13,
    "start_time": "2022-01-27T10:34:34.358Z"
   },
   {
    "duration": 435,
    "start_time": "2022-01-27T10:38:37.253Z"
   },
   {
    "duration": 76,
    "start_time": "2022-01-27T10:54:12.310Z"
   },
   {
    "duration": 23,
    "start_time": "2022-01-27T10:54:56.058Z"
   },
   {
    "duration": 6238,
    "start_time": "2022-01-27T11:06:03.061Z"
   },
   {
    "duration": 300,
    "start_time": "2022-01-27T11:07:00.673Z"
   },
   {
    "duration": 43,
    "start_time": "2022-01-27T11:07:10.377Z"
   },
   {
    "duration": 1873,
    "start_time": "2022-01-27T14:16:02.994Z"
   },
   {
    "duration": 19,
    "start_time": "2022-01-27T14:16:08.772Z"
   },
   {
    "duration": 17,
    "start_time": "2022-01-27T14:16:11.749Z"
   },
   {
    "duration": 29,
    "start_time": "2022-01-27T14:16:14.401Z"
   },
   {
    "duration": 11,
    "start_time": "2022-01-27T14:16:17.203Z"
   },
   {
    "duration": 45,
    "start_time": "2022-01-27T14:16:19.708Z"
   },
   {
    "duration": 43,
    "start_time": "2022-01-27T14:16:23.865Z"
   },
   {
    "duration": 2623,
    "start_time": "2022-01-27T14:30:48.063Z"
   },
   {
    "duration": 2344,
    "start_time": "2022-01-27T14:31:20.784Z"
   },
   {
    "duration": 2603,
    "start_time": "2022-01-27T14:33:44.655Z"
   },
   {
    "duration": 3051,
    "start_time": "2022-01-27T14:45:54.568Z"
   },
   {
    "duration": 2804,
    "start_time": "2022-01-27T14:47:09.808Z"
   },
   {
    "duration": 2347,
    "start_time": "2022-01-27T14:49:26.190Z"
   },
   {
    "duration": 2732,
    "start_time": "2022-01-27T14:51:34.561Z"
   },
   {
    "duration": 2438,
    "start_time": "2022-01-27T14:52:47.836Z"
   },
   {
    "duration": 46,
    "start_time": "2022-01-27T14:59:42.693Z"
   },
   {
    "duration": 102,
    "start_time": "2022-01-27T15:04:12.730Z"
   },
   {
    "duration": 6,
    "start_time": "2022-01-27T15:31:02.898Z"
   },
   {
    "duration": 44,
    "start_time": "2022-01-27T15:31:06.157Z"
   },
   {
    "duration": 38,
    "start_time": "2022-01-27T15:31:09.339Z"
   },
   {
    "duration": 63,
    "start_time": "2022-01-27T15:31:29.127Z"
   },
   {
    "duration": 11,
    "start_time": "2022-01-27T16:04:42.264Z"
   },
   {
    "duration": 8,
    "start_time": "2022-01-27T16:05:47.739Z"
   },
   {
    "duration": 165,
    "start_time": "2022-01-27T16:09:17.142Z"
   },
   {
    "duration": 104,
    "start_time": "2022-01-27T16:16:50.238Z"
   },
   {
    "duration": 110,
    "start_time": "2022-01-27T16:18:12.881Z"
   },
   {
    "duration": 109,
    "start_time": "2022-01-27T16:18:23.590Z"
   },
   {
    "duration": 6,
    "start_time": "2022-01-27T16:19:03.230Z"
   },
   {
    "duration": 4,
    "start_time": "2022-01-27T16:19:08.214Z"
   },
   {
    "duration": 1197,
    "start_time": "2022-01-27T16:21:01.109Z"
   },
   {
    "duration": 17,
    "start_time": "2022-01-27T16:22:54.923Z"
   },
   {
    "duration": 1261,
    "start_time": "2022-01-28T03:06:33.166Z"
   },
   {
    "duration": 11,
    "start_time": "2022-01-28T03:06:36.467Z"
   },
   {
    "duration": 9,
    "start_time": "2022-01-28T03:06:38.208Z"
   },
   {
    "duration": 15,
    "start_time": "2022-01-28T03:06:40.417Z"
   },
   {
    "duration": 7,
    "start_time": "2022-01-28T03:06:42.552Z"
   },
   {
    "duration": 30,
    "start_time": "2022-01-28T03:06:44.781Z"
   },
   {
    "duration": 28,
    "start_time": "2022-01-28T03:06:46.536Z"
   },
   {
    "duration": 53,
    "start_time": "2022-01-28T03:06:49.392Z"
   },
   {
    "duration": 5,
    "start_time": "2022-01-28T03:06:51.460Z"
   },
   {
    "duration": 657,
    "start_time": "2022-01-28T03:06:53.404Z"
   },
   {
    "duration": 12,
    "start_time": "2022-01-28T03:06:56.496Z"
   },
   {
    "duration": 25,
    "start_time": "2022-01-28T03:11:53.412Z"
   },
   {
    "duration": 24,
    "start_time": "2022-01-28T03:12:24.360Z"
   },
   {
    "duration": 26,
    "start_time": "2022-01-28T03:19:35.120Z"
   },
   {
    "duration": 160,
    "start_time": "2022-01-28T03:32:36.795Z"
   },
   {
    "duration": 233,
    "start_time": "2022-01-28T03:32:52.459Z"
   },
   {
    "duration": 283,
    "start_time": "2022-01-28T03:35:48.391Z"
   },
   {
    "duration": 206,
    "start_time": "2022-01-28T04:05:24.939Z"
   },
   {
    "duration": 16,
    "start_time": "2022-01-28T04:05:35.578Z"
   },
   {
    "duration": 1340,
    "start_time": "2022-01-28T04:09:46.714Z"
   },
   {
    "duration": 36,
    "start_time": "2022-01-28T04:10:15.650Z"
   },
   {
    "duration": 3,
    "start_time": "2022-01-28T04:11:33.578Z"
   },
   {
    "duration": 804,
    "start_time": "2022-01-28T04:11:35.490Z"
   },
   {
    "duration": 10,
    "start_time": "2022-01-28T04:11:39.250Z"
   },
   {
    "duration": 24,
    "start_time": "2022-01-28T04:11:42.492Z"
   },
   {
    "duration": 25,
    "start_time": "2022-01-28T04:11:45.634Z"
   },
   {
    "duration": 224,
    "start_time": "2022-01-28T04:11:56.410Z"
   },
   {
    "duration": 5,
    "start_time": "2022-01-28T04:12:53.745Z"
   },
   {
    "duration": 5,
    "start_time": "2022-01-28T05:28:41.615Z"
   },
   {
    "duration": 238,
    "start_time": "2022-01-28T06:41:52.872Z"
   },
   {
    "duration": 265,
    "start_time": "2022-01-28T06:42:17.206Z"
   },
   {
    "duration": 1671,
    "start_time": "2022-01-28T08:42:28.285Z"
   },
   {
    "duration": 18,
    "start_time": "2022-01-28T08:42:30.221Z"
   },
   {
    "duration": 13,
    "start_time": "2022-01-28T08:42:31.310Z"
   },
   {
    "duration": 28,
    "start_time": "2022-01-28T08:42:32.425Z"
   },
   {
    "duration": 10,
    "start_time": "2022-01-28T08:42:33.089Z"
   },
   {
    "duration": 46,
    "start_time": "2022-01-28T08:42:34.617Z"
   },
   {
    "duration": 52,
    "start_time": "2022-01-28T08:42:37.330Z"
   },
   {
    "duration": 115,
    "start_time": "2022-01-28T08:42:39.279Z"
   },
   {
    "duration": 8,
    "start_time": "2022-01-28T08:42:39.889Z"
   },
   {
    "duration": 6,
    "start_time": "2022-01-28T08:42:41.841Z"
   },
   {
    "duration": 2008,
    "start_time": "2022-01-28T08:42:43.237Z"
   },
   {
    "duration": 17,
    "start_time": "2022-01-28T08:42:47.488Z"
   },
   {
    "duration": 41,
    "start_time": "2022-01-28T08:42:51.292Z"
   },
   {
    "duration": 41,
    "start_time": "2022-01-28T08:42:55.077Z"
   },
   {
    "duration": 403,
    "start_time": "2022-01-28T08:42:59.328Z"
   },
   {
    "duration": 401,
    "start_time": "2022-01-28T08:43:02.196Z"
   },
   {
    "duration": 609,
    "start_time": "2022-01-28T08:43:35.249Z"
   },
   {
    "duration": 462,
    "start_time": "2022-01-28T08:44:24.396Z"
   },
   {
    "duration": 381,
    "start_time": "2022-01-28T08:45:14.221Z"
   },
   {
    "duration": 306,
    "start_time": "2022-01-28T08:45:40.228Z"
   },
   {
    "duration": 360,
    "start_time": "2022-01-28T08:45:51.765Z"
   },
   {
    "duration": 310,
    "start_time": "2022-01-28T08:46:02.748Z"
   },
   {
    "duration": 299,
    "start_time": "2022-01-28T08:49:04.173Z"
   },
   {
    "duration": 397,
    "start_time": "2022-01-28T08:49:33.274Z"
   },
   {
    "duration": 161,
    "start_time": "2022-01-28T08:54:55.931Z"
   },
   {
    "duration": 1003,
    "start_time": "2022-01-28T08:55:37.482Z"
   },
   {
    "duration": 585,
    "start_time": "2022-01-28T08:55:44.715Z"
   },
   {
    "duration": 349,
    "start_time": "2022-01-28T08:55:52.235Z"
   },
   {
    "duration": 417,
    "start_time": "2022-01-28T08:56:31.608Z"
   },
   {
    "duration": 476,
    "start_time": "2022-01-28T09:03:43.094Z"
   },
   {
    "duration": 539,
    "start_time": "2022-01-28T09:04:11.612Z"
   },
   {
    "duration": 531,
    "start_time": "2022-01-28T09:07:18.012Z"
   },
   {
    "duration": 428,
    "start_time": "2022-01-28T09:07:23.620Z"
   },
   {
    "duration": 567,
    "start_time": "2022-01-28T09:07:30.764Z"
   },
   {
    "duration": 302,
    "start_time": "2022-01-28T09:07:38.971Z"
   },
   {
    "duration": 393,
    "start_time": "2022-01-28T09:07:46.249Z"
   },
   {
    "duration": 401,
    "start_time": "2022-01-28T09:15:59.055Z"
   },
   {
    "duration": 398,
    "start_time": "2022-01-28T09:16:34.616Z"
   },
   {
    "duration": 413,
    "start_time": "2022-01-28T09:16:42.129Z"
   },
   {
    "duration": 407,
    "start_time": "2022-01-28T09:16:48.972Z"
   },
   {
    "duration": 543,
    "start_time": "2022-01-28T09:17:03.221Z"
   },
   {
    "duration": 305,
    "start_time": "2022-01-28T09:19:47.325Z"
   },
   {
    "duration": 276,
    "start_time": "2022-01-28T09:40:48.234Z"
   },
   {
    "duration": 399,
    "start_time": "2022-01-28T09:41:03.282Z"
   },
   {
    "duration": 442,
    "start_time": "2022-01-28T09:41:33.250Z"
   },
   {
    "duration": 444,
    "start_time": "2022-01-28T09:44:48.435Z"
   },
   {
    "duration": 312,
    "start_time": "2022-01-28T09:45:22.786Z"
   },
   {
    "duration": 427,
    "start_time": "2022-01-28T09:45:43.570Z"
   },
   {
    "duration": 430,
    "start_time": "2022-01-28T09:45:54.526Z"
   },
   {
    "duration": 8,
    "start_time": "2022-01-28T09:47:22.645Z"
   },
   {
    "duration": 115,
    "start_time": "2022-01-28T09:48:02.210Z"
   },
   {
    "duration": 6,
    "start_time": "2022-01-28T09:48:30.676Z"
   },
   {
    "duration": 364,
    "start_time": "2022-01-28T09:49:17.424Z"
   },
   {
    "duration": 378,
    "start_time": "2022-01-28T09:49:26.032Z"
   },
   {
    "duration": 371,
    "start_time": "2022-01-28T09:49:39.788Z"
   },
   {
    "duration": 5,
    "start_time": "2022-01-28T09:55:18.889Z"
   },
   {
    "duration": 6,
    "start_time": "2022-01-28T09:55:33.234Z"
   },
   {
    "duration": 6,
    "start_time": "2022-01-28T10:02:11.307Z"
   },
   {
    "duration": 14,
    "start_time": "2022-01-28T10:03:26.721Z"
   },
   {
    "duration": 458,
    "start_time": "2022-01-28T10:03:37.241Z"
   },
   {
    "duration": 316,
    "start_time": "2022-01-28T10:03:50.716Z"
   },
   {
    "duration": 12,
    "start_time": "2022-01-28T10:04:16.233Z"
   },
   {
    "duration": 1193,
    "start_time": "2022-01-29T08:30:15.242Z"
   },
   {
    "duration": 11,
    "start_time": "2022-01-29T08:30:20.139Z"
   },
   {
    "duration": 9,
    "start_time": "2022-01-29T08:30:23.832Z"
   },
   {
    "duration": 13,
    "start_time": "2022-01-29T08:30:28.579Z"
   },
   {
    "duration": 7,
    "start_time": "2022-01-29T08:30:31.343Z"
   },
   {
    "duration": 28,
    "start_time": "2022-01-29T08:30:33.314Z"
   },
   {
    "duration": 26,
    "start_time": "2022-01-29T08:30:35.918Z"
   },
   {
    "duration": 33,
    "start_time": "2022-01-29T08:30:38.772Z"
   },
   {
    "duration": 4,
    "start_time": "2022-01-29T08:30:41.761Z"
   },
   {
    "duration": 3,
    "start_time": "2022-01-29T08:30:44.192Z"
   },
   {
    "duration": 665,
    "start_time": "2022-01-29T08:30:50.845Z"
   },
   {
    "duration": 10,
    "start_time": "2022-01-29T08:30:55.669Z"
   },
   {
    "duration": 23,
    "start_time": "2022-01-29T08:31:29.693Z"
   },
   {
    "duration": 22,
    "start_time": "2022-01-29T08:31:35.560Z"
   },
   {
    "duration": 208,
    "start_time": "2022-01-29T08:31:39.634Z"
   },
   {
    "duration": 151,
    "start_time": "2022-01-29T08:31:42.143Z"
   },
   {
    "duration": 162,
    "start_time": "2022-01-29T08:31:45.014Z"
   },
   {
    "duration": 157,
    "start_time": "2022-01-29T08:31:47.316Z"
   },
   {
    "duration": 307,
    "start_time": "2022-01-29T08:31:50.082Z"
   },
   {
    "duration": 4,
    "start_time": "2022-01-29T08:31:52.791Z"
   },
   {
    "duration": 5,
    "start_time": "2022-01-29T08:51:30.855Z"
   },
   {
    "duration": 2539,
    "start_time": "2022-01-29T09:15:20.395Z"
   },
   {
    "duration": 105,
    "start_time": "2022-01-29T09:15:40.855Z"
   },
   {
    "duration": 2712,
    "start_time": "2022-01-29T09:17:08.916Z"
   },
   {
    "duration": 154,
    "start_time": "2022-01-29T09:17:37.634Z"
   },
   {
    "duration": 256,
    "start_time": "2022-01-29T09:18:01.027Z"
   },
   {
    "duration": 151,
    "start_time": "2022-01-29T09:18:11.970Z"
   },
   {
    "duration": 89,
    "start_time": "2022-01-29T09:37:09.655Z"
   },
   {
    "duration": 92,
    "start_time": "2022-01-29T09:37:19.867Z"
   },
   {
    "duration": 293,
    "start_time": "2022-01-29T09:37:27.782Z"
   },
   {
    "duration": 197,
    "start_time": "2022-01-29T09:38:11.643Z"
   },
   {
    "duration": 212,
    "start_time": "2022-01-29T09:39:01.026Z"
   },
   {
    "duration": 208,
    "start_time": "2022-01-29T09:41:12.375Z"
   },
   {
    "duration": 209,
    "start_time": "2022-01-29T09:41:30.707Z"
   },
   {
    "duration": 205,
    "start_time": "2022-01-29T09:44:49.159Z"
   },
   {
    "duration": 218,
    "start_time": "2022-01-29T09:45:27.324Z"
   },
   {
    "duration": 313,
    "start_time": "2022-01-29T10:27:22.293Z"
   },
   {
    "duration": 201,
    "start_time": "2022-01-29T10:27:43.366Z"
   },
   {
    "duration": 214,
    "start_time": "2022-01-29T10:37:36.482Z"
   },
   {
    "duration": 85,
    "start_time": "2022-01-29T10:54:10.094Z"
   },
   {
    "duration": 198,
    "start_time": "2022-01-29T10:54:26.907Z"
   },
   {
    "duration": 296,
    "start_time": "2022-01-29T10:54:54.266Z"
   },
   {
    "duration": 276,
    "start_time": "2022-01-29T11:10:34.144Z"
   },
   {
    "duration": 257,
    "start_time": "2022-01-29T11:11:21.531Z"
   },
   {
    "duration": 241,
    "start_time": "2022-01-29T11:13:36.967Z"
   },
   {
    "duration": 4,
    "start_time": "2022-01-29T11:15:31.452Z"
   },
   {
    "duration": 5,
    "start_time": "2022-01-29T11:27:08.728Z"
   },
   {
    "duration": 5,
    "start_time": "2022-01-29T11:28:01.214Z"
   },
   {
    "duration": 1156,
    "start_time": "2022-01-29T11:28:53.262Z"
   },
   {
    "duration": 93,
    "start_time": "2022-01-29T11:33:48.863Z"
   },
   {
    "duration": 7,
    "start_time": "2022-01-29T11:34:48.759Z"
   },
   {
    "duration": 14,
    "start_time": "2022-01-29T11:35:45.339Z"
   },
   {
    "duration": 17,
    "start_time": "2022-01-29T11:38:08.645Z"
   },
   {
    "duration": 91,
    "start_time": "2022-01-29T11:39:12.905Z"
   },
   {
    "duration": 19,
    "start_time": "2022-01-29T11:39:20.427Z"
   },
   {
    "duration": 4,
    "start_time": "2022-01-29T11:41:23.831Z"
   },
   {
    "duration": 23,
    "start_time": "2022-01-29T11:41:40.808Z"
   },
   {
    "duration": 311,
    "start_time": "2022-01-29T11:44:29.917Z"
   },
   {
    "duration": 258,
    "start_time": "2022-01-29T11:44:41.820Z"
   },
   {
    "duration": 1576,
    "start_time": "2022-01-30T14:47:02.394Z"
   },
   {
    "duration": 16,
    "start_time": "2022-01-30T14:47:07.379Z"
   },
   {
    "duration": 12,
    "start_time": "2022-01-30T14:47:11.000Z"
   },
   {
    "duration": 19,
    "start_time": "2022-01-30T14:47:14.231Z"
   },
   {
    "duration": 10,
    "start_time": "2022-01-30T14:47:17.035Z"
   },
   {
    "duration": 43,
    "start_time": "2022-01-30T14:47:19.429Z"
   },
   {
    "duration": 43,
    "start_time": "2022-01-30T14:47:22.434Z"
   },
   {
    "duration": 63,
    "start_time": "2022-01-30T14:47:26.485Z"
   },
   {
    "duration": 6,
    "start_time": "2022-01-30T14:47:31.389Z"
   },
   {
    "duration": 5,
    "start_time": "2022-01-30T14:47:33.792Z"
   },
   {
    "duration": 1477,
    "start_time": "2022-01-30T14:47:36.092Z"
   },
   {
    "duration": 15,
    "start_time": "2022-01-30T14:47:41.613Z"
   },
   {
    "duration": 41,
    "start_time": "2022-01-30T14:47:45.111Z"
   },
   {
    "duration": 39,
    "start_time": "2022-01-30T14:47:47.757Z"
   },
   {
    "duration": 439,
    "start_time": "2022-01-30T14:47:52.218Z"
   },
   {
    "duration": 299,
    "start_time": "2022-01-30T14:47:55.290Z"
   },
   {
    "duration": 305,
    "start_time": "2022-01-30T14:47:58.431Z"
   },
   {
    "duration": 428,
    "start_time": "2022-01-30T14:48:01.117Z"
   },
   {
    "duration": 356,
    "start_time": "2022-01-30T14:48:04.748Z"
   },
   {
    "duration": 302,
    "start_time": "2022-01-30T14:48:49.090Z"
   },
   {
    "duration": 292,
    "start_time": "2022-01-30T14:48:58.196Z"
   },
   {
    "duration": 6,
    "start_time": "2022-01-30T14:49:01.889Z"
   },
   {
    "duration": 7,
    "start_time": "2022-01-30T14:49:03.461Z"
   },
   {
    "duration": 293,
    "start_time": "2022-01-30T14:49:06.283Z"
   },
   {
    "duration": 7,
    "start_time": "2022-01-30T14:49:09.813Z"
   },
   {
    "duration": 8,
    "start_time": "2022-01-30T14:49:12.578Z"
   },
   {
    "duration": 7,
    "start_time": "2022-01-30T14:49:17.508Z"
   },
   {
    "duration": 48,
    "start_time": "2022-01-30T15:05:51.090Z"
   },
   {
    "duration": 1024,
    "start_time": "2022-01-30T15:09:15.920Z"
   },
   {
    "duration": 31,
    "start_time": "2022-01-30T15:11:15.366Z"
   },
   {
    "duration": 118,
    "start_time": "2022-01-30T15:12:43.284Z"
   },
   {
    "duration": 30,
    "start_time": "2022-01-30T15:12:48.867Z"
   },
   {
    "duration": -943,
    "start_time": "2022-01-30T15:25:18.548Z"
   },
   {
    "duration": 142,
    "start_time": "2022-01-30T15:31:13.194Z"
   },
   {
    "duration": 16,
    "start_time": "2022-01-30T15:31:17.062Z"
   },
   {
    "duration": 14,
    "start_time": "2022-01-30T15:31:25.658Z"
   },
   {
    "duration": 21,
    "start_time": "2022-01-30T15:31:29.641Z"
   },
   {
    "duration": 8,
    "start_time": "2022-01-30T15:31:32.598Z"
   },
   {
    "duration": 41,
    "start_time": "2022-01-30T15:31:35.109Z"
   },
   {
    "duration": 43,
    "start_time": "2022-01-30T15:31:38.804Z"
   },
   {
    "duration": 58,
    "start_time": "2022-01-30T15:31:41.825Z"
   },
   {
    "duration": 6,
    "start_time": "2022-01-30T15:31:44.754Z"
   },
   {
    "duration": 5,
    "start_time": "2022-01-30T15:31:47.430Z"
   },
   {
    "duration": 1234,
    "start_time": "2022-01-30T15:31:49.269Z"
   },
   {
    "duration": 17,
    "start_time": "2022-01-30T15:31:52.545Z"
   },
   {
    "duration": 42,
    "start_time": "2022-01-30T15:31:57.385Z"
   },
   {
    "duration": 69,
    "start_time": "2022-01-30T15:32:00.222Z"
   },
   {
    "duration": 406,
    "start_time": "2022-01-30T15:32:05.546Z"
   },
   {
    "duration": 303,
    "start_time": "2022-01-30T15:32:07.497Z"
   },
   {
    "duration": 301,
    "start_time": "2022-01-30T15:32:08.494Z"
   },
   {
    "duration": 327,
    "start_time": "2022-01-30T15:32:10.649Z"
   },
   {
    "duration": 298,
    "start_time": "2022-01-30T15:32:12.478Z"
   },
   {
    "duration": 5,
    "start_time": "2022-01-30T15:32:13.411Z"
   },
   {
    "duration": 7,
    "start_time": "2022-01-30T15:32:15.130Z"
   },
   {
    "duration": 300,
    "start_time": "2022-01-30T15:32:21.721Z"
   },
   {
    "duration": 7,
    "start_time": "2022-01-30T15:32:26.015Z"
   },
   {
    "duration": 7,
    "start_time": "2022-01-30T15:32:27.739Z"
   },
   {
    "duration": 8,
    "start_time": "2022-01-30T15:32:29.314Z"
   },
   {
    "duration": 29,
    "start_time": "2022-01-30T15:32:34.998Z"
   },
   {
    "duration": 350,
    "start_time": "2022-01-30T15:33:13.396Z"
   },
   {
    "duration": 1696,
    "start_time": "2022-01-30T15:34:34.527Z"
   },
   {
    "duration": 21,
    "start_time": "2022-01-30T15:34:36.226Z"
   },
   {
    "duration": 15,
    "start_time": "2022-01-30T15:34:36.259Z"
   },
   {
    "duration": 20,
    "start_time": "2022-01-30T15:34:36.279Z"
   },
   {
    "duration": 9,
    "start_time": "2022-01-30T15:34:36.302Z"
   },
   {
    "duration": 87,
    "start_time": "2022-01-30T15:34:36.314Z"
   },
   {
    "duration": 60,
    "start_time": "2022-01-30T15:34:36.403Z"
   },
   {
    "duration": 61,
    "start_time": "2022-01-30T15:34:36.467Z"
   },
   {
    "duration": 6,
    "start_time": "2022-01-30T15:34:36.531Z"
   },
   {
    "duration": 5,
    "start_time": "2022-01-30T15:34:36.560Z"
   },
   {
    "duration": 1310,
    "start_time": "2022-01-30T15:34:36.567Z"
   },
   {
    "duration": 16,
    "start_time": "2022-01-30T15:34:37.879Z"
   },
   {
    "duration": 68,
    "start_time": "2022-01-30T15:34:37.898Z"
   },
   {
    "duration": 40,
    "start_time": "2022-01-30T15:34:37.969Z"
   },
   {
    "duration": 447,
    "start_time": "2022-01-30T15:34:38.012Z"
   },
   {
    "duration": 309,
    "start_time": "2022-01-30T15:34:38.462Z"
   },
   {
    "duration": 316,
    "start_time": "2022-01-30T15:34:38.773Z"
   },
   {
    "duration": 333,
    "start_time": "2022-01-30T15:34:39.092Z"
   },
   {
    "duration": 381,
    "start_time": "2022-01-30T15:34:39.429Z"
   },
   {
    "duration": 5,
    "start_time": "2022-01-30T15:34:39.813Z"
   },
   {
    "duration": 8,
    "start_time": "2022-01-30T15:34:39.821Z"
   },
   {
    "duration": 389,
    "start_time": "2022-01-30T15:34:39.832Z"
   },
   {
    "duration": 8,
    "start_time": "2022-01-30T15:34:40.225Z"
   },
   {
    "duration": 25,
    "start_time": "2022-01-30T15:34:40.236Z"
   },
   {
    "duration": 8,
    "start_time": "2022-01-30T15:34:40.264Z"
   },
   {
    "duration": 46,
    "start_time": "2022-01-30T15:34:40.274Z"
   },
   {
    "duration": 1659,
    "start_time": "2022-01-30T15:35:00.949Z"
   },
   {
    "duration": 14,
    "start_time": "2022-01-30T15:35:02.611Z"
   },
   {
    "duration": 32,
    "start_time": "2022-01-30T15:35:02.628Z"
   },
   {
    "duration": 20,
    "start_time": "2022-01-30T15:35:02.663Z"
   },
   {
    "duration": 9,
    "start_time": "2022-01-30T15:35:02.686Z"
   },
   {
    "duration": 77,
    "start_time": "2022-01-30T15:35:02.697Z"
   },
   {
    "duration": 45,
    "start_time": "2022-01-30T15:35:02.777Z"
   },
   {
    "duration": 75,
    "start_time": "2022-01-30T15:35:02.828Z"
   },
   {
    "duration": 6,
    "start_time": "2022-01-30T15:35:02.908Z"
   },
   {
    "duration": 4,
    "start_time": "2022-01-30T15:35:02.917Z"
   },
   {
    "duration": 1290,
    "start_time": "2022-01-30T15:35:02.924Z"
   },
   {
    "duration": 15,
    "start_time": "2022-01-30T15:35:04.217Z"
   },
   {
    "duration": 57,
    "start_time": "2022-01-30T15:35:04.234Z"
   },
   {
    "duration": 81,
    "start_time": "2022-01-30T15:35:04.294Z"
   },
   {
    "duration": 536,
    "start_time": "2022-01-30T15:35:04.377Z"
   },
   {
    "duration": 383,
    "start_time": "2022-01-30T15:35:04.916Z"
   },
   {
    "duration": 320,
    "start_time": "2022-01-30T15:35:05.302Z"
   },
   {
    "duration": 342,
    "start_time": "2022-01-30T15:35:05.626Z"
   },
   {
    "duration": 605,
    "start_time": "2022-01-30T15:35:05.971Z"
   },
   {
    "duration": 7,
    "start_time": "2022-01-30T15:35:06.580Z"
   },
   {
    "duration": 16,
    "start_time": "2022-01-30T15:35:06.589Z"
   },
   {
    "duration": 319,
    "start_time": "2022-01-30T15:35:06.608Z"
   },
   {
    "duration": 8,
    "start_time": "2022-01-30T15:35:06.932Z"
   },
   {
    "duration": 25,
    "start_time": "2022-01-30T15:35:06.942Z"
   },
   {
    "duration": 8,
    "start_time": "2022-01-30T15:35:06.969Z"
   },
   {
    "duration": 32,
    "start_time": "2022-01-30T15:35:06.979Z"
   },
   {
    "duration": 372442,
    "start_time": "2022-01-30T16:05:32.348Z"
   },
   {
    "duration": 777,
    "start_time": "2022-01-30T16:11:44.793Z"
   },
   {
    "duration": 814,
    "start_time": "2022-01-30T16:12:49.906Z"
   },
   {
    "duration": 290,
    "start_time": "2022-01-30T16:14:01.695Z"
   },
   {
    "duration": 329,
    "start_time": "2022-01-30T16:16:32.046Z"
   },
   {
    "duration": 338,
    "start_time": "2022-01-30T16:17:01.949Z"
   },
   {
    "duration": 548,
    "start_time": "2022-01-30T16:37:10.156Z"
   },
   {
    "duration": 323,
    "start_time": "2022-01-30T16:38:52.058Z"
   },
   {
    "duration": 363,
    "start_time": "2022-01-30T16:39:21.200Z"
   },
   {
    "duration": 306,
    "start_time": "2022-01-30T16:40:27.205Z"
   },
   {
    "duration": 352,
    "start_time": "2022-01-30T16:40:35.001Z"
   },
   {
    "duration": 287,
    "start_time": "2022-01-30T16:41:02.998Z"
   },
   {
    "duration": 302,
    "start_time": "2022-01-30T16:41:14.625Z"
   },
   {
    "duration": 1669,
    "start_time": "2022-01-31T08:16:32.401Z"
   },
   {
    "duration": 14,
    "start_time": "2022-01-31T08:16:34.072Z"
   },
   {
    "duration": 35,
    "start_time": "2022-01-31T08:16:34.089Z"
   },
   {
    "duration": 18,
    "start_time": "2022-01-31T08:16:34.126Z"
   },
   {
    "duration": 8,
    "start_time": "2022-01-31T08:16:34.146Z"
   },
   {
    "duration": 71,
    "start_time": "2022-01-31T08:16:34.157Z"
   },
   {
    "duration": 40,
    "start_time": "2022-01-31T08:16:34.231Z"
   },
   {
    "duration": 80,
    "start_time": "2022-01-31T08:16:34.274Z"
   },
   {
    "duration": 6,
    "start_time": "2022-01-31T08:16:34.356Z"
   },
   {
    "duration": 4,
    "start_time": "2022-01-31T08:16:34.364Z"
   },
   {
    "duration": 1186,
    "start_time": "2022-01-31T08:16:34.370Z"
   },
   {
    "duration": 14,
    "start_time": "2022-01-31T08:16:35.558Z"
   },
   {
    "duration": 62,
    "start_time": "2022-01-31T08:16:35.574Z"
   },
   {
    "duration": 38,
    "start_time": "2022-01-31T08:16:35.639Z"
   },
   {
    "duration": 416,
    "start_time": "2022-01-31T08:16:35.679Z"
   },
   {
    "duration": 306,
    "start_time": "2022-01-31T08:16:36.098Z"
   },
   {
    "duration": 303,
    "start_time": "2022-01-31T08:16:36.407Z"
   },
   {
    "duration": 310,
    "start_time": "2022-01-31T08:16:36.713Z"
   },
   {
    "duration": 348,
    "start_time": "2022-01-31T08:16:37.025Z"
   },
   {
    "duration": 6,
    "start_time": "2022-01-31T08:16:37.376Z"
   },
   {
    "duration": 10,
    "start_time": "2022-01-31T08:16:37.385Z"
   },
   {
    "duration": 330,
    "start_time": "2022-01-31T08:16:37.397Z"
   },
   {
    "duration": 7,
    "start_time": "2022-01-31T08:16:37.732Z"
   },
   {
    "duration": 11,
    "start_time": "2022-01-31T08:16:37.741Z"
   },
   {
    "duration": 11,
    "start_time": "2022-01-31T08:16:37.754Z"
   },
   {
    "duration": 62,
    "start_time": "2022-01-31T08:16:37.768Z"
   },
   {
    "duration": 308,
    "start_time": "2022-01-31T08:16:37.832Z"
   },
   {
    "duration": 313,
    "start_time": "2022-01-31T08:16:38.142Z"
   },
   {
    "duration": 307,
    "start_time": "2022-01-31T08:16:38.458Z"
   },
   {
    "duration": 9,
    "start_time": "2022-01-31T08:22:03.165Z"
   },
   {
    "duration": 475,
    "start_time": "2022-01-31T08:22:11.742Z"
   },
   {
    "duration": 346,
    "start_time": "2022-01-31T08:22:21.685Z"
   },
   {
    "duration": 448,
    "start_time": "2022-01-31T08:22:46.877Z"
   },
   {
    "duration": 15,
    "start_time": "2022-01-31T08:22:56.738Z"
   },
   {
    "duration": 7,
    "start_time": "2022-01-31T08:23:15.357Z"
   },
   {
    "duration": 8,
    "start_time": "2022-01-31T08:23:32.825Z"
   },
   {
    "duration": 10,
    "start_time": "2022-01-31T08:23:45.485Z"
   },
   {
    "duration": 375,
    "start_time": "2022-01-31T08:25:12.334Z"
   },
   {
    "duration": 7,
    "start_time": "2022-01-31T08:33:47.409Z"
   },
   {
    "duration": 11,
    "start_time": "2022-01-31T08:40:34.376Z"
   },
   {
    "duration": 414,
    "start_time": "2022-01-31T08:43:53.856Z"
   },
   {
    "duration": 347,
    "start_time": "2022-01-31T08:45:22.176Z"
   },
   {
    "duration": 337,
    "start_time": "2022-01-31T08:45:28.568Z"
   },
   {
    "duration": 12,
    "start_time": "2022-01-31T08:46:03.017Z"
   },
   {
    "duration": 16,
    "start_time": "2022-01-31T08:46:24.018Z"
   },
   {
    "duration": 15,
    "start_time": "2022-01-31T08:46:42.060Z"
   },
   {
    "duration": 105,
    "start_time": "2022-01-31T08:48:42.961Z"
   },
   {
    "duration": 409,
    "start_time": "2022-01-31T08:48:48.185Z"
   },
   {
    "duration": 8,
    "start_time": "2022-01-31T08:49:04.832Z"
   },
   {
    "duration": 11,
    "start_time": "2022-01-31T08:49:15.481Z"
   },
   {
    "duration": 351,
    "start_time": "2022-01-31T08:52:41.857Z"
   },
   {
    "duration": 8,
    "start_time": "2022-01-31T08:52:57.864Z"
   },
   {
    "duration": 8,
    "start_time": "2022-01-31T08:56:36.372Z"
   },
   {
    "duration": 14,
    "start_time": "2022-01-31T08:57:10.708Z"
   },
   {
    "duration": 303,
    "start_time": "2022-01-31T08:57:59.169Z"
   },
   {
    "duration": 10,
    "start_time": "2022-01-31T09:21:26.851Z"
   },
   {
    "duration": 36,
    "start_time": "2022-01-31T09:25:14.947Z"
   },
   {
    "duration": 2192,
    "start_time": "2022-01-31T09:27:11.952Z"
   },
   {
    "duration": 23,
    "start_time": "2022-01-31T09:27:14.151Z"
   },
   {
    "duration": 46,
    "start_time": "2022-01-31T09:27:14.178Z"
   },
   {
    "duration": 22,
    "start_time": "2022-01-31T09:27:14.226Z"
   },
   {
    "duration": 7,
    "start_time": "2022-01-31T09:27:14.251Z"
   },
   {
    "duration": 71,
    "start_time": "2022-01-31T09:27:14.261Z"
   },
   {
    "duration": 49,
    "start_time": "2022-01-31T09:27:14.338Z"
   },
   {
    "duration": 80,
    "start_time": "2022-01-31T09:27:14.392Z"
   },
   {
    "duration": 7,
    "start_time": "2022-01-31T09:27:14.476Z"
   },
   {
    "duration": 6,
    "start_time": "2022-01-31T09:27:14.486Z"
   },
   {
    "duration": 2218,
    "start_time": "2022-01-31T09:27:14.524Z"
   },
   {
    "duration": 23,
    "start_time": "2022-01-31T09:27:16.745Z"
   },
   {
    "duration": 82,
    "start_time": "2022-01-31T09:27:16.772Z"
   },
   {
    "duration": 78,
    "start_time": "2022-01-31T09:27:16.857Z"
   },
   {
    "duration": 672,
    "start_time": "2022-01-31T09:27:16.938Z"
   },
   {
    "duration": 310,
    "start_time": "2022-01-31T09:27:17.613Z"
   },
   {
    "duration": 313,
    "start_time": "2022-01-31T09:27:17.926Z"
   },
   {
    "duration": 326,
    "start_time": "2022-01-31T09:27:18.241Z"
   },
   {
    "duration": 371,
    "start_time": "2022-01-31T09:27:18.569Z"
   },
   {
    "duration": 6,
    "start_time": "2022-01-31T09:27:18.942Z"
   },
   {
    "duration": 7,
    "start_time": "2022-01-31T09:27:18.950Z"
   },
   {
    "duration": 355,
    "start_time": "2022-01-31T09:27:18.961Z"
   },
   {
    "duration": 9,
    "start_time": "2022-01-31T09:27:19.320Z"
   },
   {
    "duration": 9,
    "start_time": "2022-01-31T09:27:19.332Z"
   },
   {
    "duration": 9,
    "start_time": "2022-01-31T09:27:19.344Z"
   },
   {
    "duration": 88,
    "start_time": "2022-01-31T09:27:19.356Z"
   },
   {
    "duration": 312,
    "start_time": "2022-01-31T09:27:19.447Z"
   },
   {
    "duration": 305,
    "start_time": "2022-01-31T09:27:19.761Z"
   },
   {
    "duration": 310,
    "start_time": "2022-01-31T09:27:20.068Z"
   },
   {
    "duration": 52,
    "start_time": "2022-01-31T09:27:20.380Z"
   },
   {
    "duration": 14,
    "start_time": "2022-01-31T09:27:20.434Z"
   },
   {
    "duration": 343,
    "start_time": "2022-01-31T09:27:20.450Z"
   },
   {
    "duration": 272,
    "start_time": "2022-01-31T09:35:30.142Z"
   },
   {
    "duration": 13,
    "start_time": "2022-01-31T09:35:52.893Z"
   },
   {
    "duration": 451,
    "start_time": "2022-01-31T09:47:55.613Z"
   },
   {
    "duration": 361,
    "start_time": "2022-01-31T09:48:03.925Z"
   },
   {
    "duration": 366,
    "start_time": "2022-01-31T09:48:29.405Z"
   },
   {
    "duration": 1636,
    "start_time": "2022-01-31T09:49:03.590Z"
   },
   {
    "duration": 15,
    "start_time": "2022-01-31T09:49:05.229Z"
   },
   {
    "duration": 11,
    "start_time": "2022-01-31T09:49:05.247Z"
   },
   {
    "duration": 20,
    "start_time": "2022-01-31T09:49:05.261Z"
   },
   {
    "duration": 46,
    "start_time": "2022-01-31T09:49:05.283Z"
   },
   {
    "duration": 45,
    "start_time": "2022-01-31T09:49:05.331Z"
   },
   {
    "duration": 64,
    "start_time": "2022-01-31T09:49:05.379Z"
   },
   {
    "duration": 78,
    "start_time": "2022-01-31T09:49:05.447Z"
   },
   {
    "duration": 6,
    "start_time": "2022-01-31T09:49:05.527Z"
   },
   {
    "duration": 6,
    "start_time": "2022-01-31T09:49:05.535Z"
   },
   {
    "duration": 1202,
    "start_time": "2022-01-31T09:49:05.544Z"
   },
   {
    "duration": 17,
    "start_time": "2022-01-31T09:49:06.748Z"
   },
   {
    "duration": 70,
    "start_time": "2022-01-31T09:49:06.768Z"
   },
   {
    "duration": 42,
    "start_time": "2022-01-31T09:49:06.840Z"
   },
   {
    "duration": 434,
    "start_time": "2022-01-31T09:49:06.884Z"
   },
   {
    "duration": 290,
    "start_time": "2022-01-31T09:49:07.324Z"
   },
   {
    "duration": 300,
    "start_time": "2022-01-31T09:49:07.616Z"
   },
   {
    "duration": 312,
    "start_time": "2022-01-31T09:49:07.923Z"
   },
   {
    "duration": 377,
    "start_time": "2022-01-31T09:49:08.237Z"
   },
   {
    "duration": 6,
    "start_time": "2022-01-31T09:49:08.623Z"
   },
   {
    "duration": 7,
    "start_time": "2022-01-31T09:49:08.631Z"
   },
   {
    "duration": 318,
    "start_time": "2022-01-31T09:49:08.640Z"
   },
   {
    "duration": 8,
    "start_time": "2022-01-31T09:49:08.962Z"
   },
   {
    "duration": 8,
    "start_time": "2022-01-31T09:49:08.973Z"
   },
   {
    "duration": 7,
    "start_time": "2022-01-31T09:49:08.983Z"
   },
   {
    "duration": 30,
    "start_time": "2022-01-31T09:49:09.024Z"
   },
   {
    "duration": 330,
    "start_time": "2022-01-31T09:49:09.056Z"
   },
   {
    "duration": 301,
    "start_time": "2022-01-31T09:49:09.388Z"
   },
   {
    "duration": 297,
    "start_time": "2022-01-31T09:49:09.692Z"
   },
   {
    "duration": 50,
    "start_time": "2022-01-31T09:49:09.992Z"
   },
   {
    "duration": 13,
    "start_time": "2022-01-31T09:49:10.044Z"
   },
   {
    "duration": 18,
    "start_time": "2022-01-31T09:49:10.059Z"
   },
   {
    "duration": 794,
    "start_time": "2022-01-31T09:50:42.574Z"
   },
   {
    "duration": 598,
    "start_time": "2022-01-31T09:50:53.302Z"
   },
   {
    "duration": 686,
    "start_time": "2022-01-31T09:52:48.263Z"
   },
   {
    "duration": 43,
    "start_time": "2022-01-31T09:53:33.102Z"
   },
   {
    "duration": 60,
    "start_time": "2022-01-31T09:59:00.547Z"
   },
   {
    "duration": 3,
    "start_time": "2022-01-31T10:02:03.690Z"
   },
   {
    "duration": 312,
    "start_time": "2022-01-31T10:05:38.643Z"
   },
   {
    "duration": 6,
    "start_time": "2022-01-31T10:10:10.677Z"
   },
   {
    "duration": 1618,
    "start_time": "2022-01-31T10:10:30.905Z"
   },
   {
    "duration": 18,
    "start_time": "2022-01-31T10:10:32.526Z"
   },
   {
    "duration": 13,
    "start_time": "2022-01-31T10:10:32.548Z"
   },
   {
    "duration": 59,
    "start_time": "2022-01-31T10:10:32.564Z"
   },
   {
    "duration": 11,
    "start_time": "2022-01-31T10:10:32.625Z"
   },
   {
    "duration": 45,
    "start_time": "2022-01-31T10:10:32.638Z"
   },
   {
    "duration": 82,
    "start_time": "2022-01-31T10:10:32.686Z"
   },
   {
    "duration": 78,
    "start_time": "2022-01-31T10:10:32.773Z"
   },
   {
    "duration": 6,
    "start_time": "2022-01-31T10:10:32.853Z"
   },
   {
    "duration": 9,
    "start_time": "2022-01-31T10:10:32.861Z"
   },
   {
    "duration": 1264,
    "start_time": "2022-01-31T10:10:32.872Z"
   },
   {
    "duration": 19,
    "start_time": "2022-01-31T10:10:34.139Z"
   },
   {
    "duration": 68,
    "start_time": "2022-01-31T10:10:34.160Z"
   },
   {
    "duration": 40,
    "start_time": "2022-01-31T10:10:34.230Z"
   },
   {
    "duration": 407,
    "start_time": "2022-01-31T10:10:34.272Z"
   },
   {
    "duration": 308,
    "start_time": "2022-01-31T10:10:34.681Z"
   },
   {
    "duration": 311,
    "start_time": "2022-01-31T10:10:34.992Z"
   },
   {
    "duration": 322,
    "start_time": "2022-01-31T10:10:35.305Z"
   },
   {
    "duration": 381,
    "start_time": "2022-01-31T10:10:35.630Z"
   },
   {
    "duration": 11,
    "start_time": "2022-01-31T10:10:36.015Z"
   },
   {
    "duration": 7,
    "start_time": "2022-01-31T10:10:36.029Z"
   },
   {
    "duration": 331,
    "start_time": "2022-01-31T10:10:36.040Z"
   },
   {
    "duration": 6,
    "start_time": "2022-01-31T10:10:36.375Z"
   },
   {
    "duration": 7,
    "start_time": "2022-01-31T10:10:36.384Z"
   },
   {
    "duration": 34,
    "start_time": "2022-01-31T10:10:36.393Z"
   },
   {
    "duration": 31,
    "start_time": "2022-01-31T10:10:36.430Z"
   },
   {
    "duration": 346,
    "start_time": "2022-01-31T10:10:36.463Z"
   },
   {
    "duration": 304,
    "start_time": "2022-01-31T10:10:36.811Z"
   },
   {
    "duration": 312,
    "start_time": "2022-01-31T10:10:37.123Z"
   },
   {
    "duration": 39,
    "start_time": "2022-01-31T10:10:37.437Z"
   },
   {
    "duration": 11,
    "start_time": "2022-01-31T10:10:37.478Z"
   },
   {
    "duration": 40,
    "start_time": "2022-01-31T10:10:37.492Z"
   },
   {
    "duration": 3,
    "start_time": "2022-01-31T10:10:37.535Z"
   },
   {
    "duration": 6,
    "start_time": "2022-01-31T10:10:37.540Z"
   },
   {
    "duration": 60,
    "start_time": "2022-01-31T10:10:43.489Z"
   },
   {
    "duration": 20,
    "start_time": "2022-01-31T10:10:50.500Z"
   },
   {
    "duration": 521,
    "start_time": "2022-01-31T10:39:06.488Z"
   },
   {
    "duration": 20,
    "start_time": "2022-01-31T10:39:14.128Z"
   },
   {
    "duration": 7,
    "start_time": "2022-01-31T10:41:58.852Z"
   },
   {
    "duration": 15,
    "start_time": "2022-01-31T10:42:25.676Z"
   },
   {
    "duration": 20,
    "start_time": "2022-01-31T10:42:34.276Z"
   },
   {
    "duration": 10,
    "start_time": "2022-01-31T10:44:09.660Z"
   },
   {
    "duration": 44,
    "start_time": "2022-01-31T10:55:45.490Z"
   },
   {
    "duration": 69,
    "start_time": "2022-01-31T10:56:30.044Z"
   },
   {
    "duration": 5,
    "start_time": "2022-01-31T11:06:07.749Z"
   },
   {
    "duration": 571,
    "start_time": "2022-01-31T11:06:34.898Z"
   },
   {
    "duration": 566,
    "start_time": "2022-01-31T11:07:29.155Z"
   },
   {
    "duration": 528,
    "start_time": "2022-01-31T11:07:58.904Z"
   },
   {
    "duration": 505,
    "start_time": "2022-01-31T11:08:18.055Z"
   },
   {
    "duration": 544,
    "start_time": "2022-01-31T11:08:31.443Z"
   },
   {
    "duration": 5,
    "start_time": "2022-01-31T11:08:49.522Z"
   },
   {
    "duration": 353,
    "start_time": "2022-01-31T11:17:04.459Z"
   },
   {
    "duration": 19,
    "start_time": "2022-01-31T11:17:12.915Z"
   },
   {
    "duration": 18,
    "start_time": "2022-01-31T11:18:05.867Z"
   },
   {
    "duration": 51,
    "start_time": "2022-01-31T11:18:31.611Z"
   },
   {
    "duration": 346,
    "start_time": "2022-01-31T11:20:45.971Z"
   },
   {
    "duration": 51,
    "start_time": "2022-01-31T11:20:52.678Z"
   },
   {
    "duration": 47,
    "start_time": "2022-01-31T11:21:19.787Z"
   },
   {
    "duration": 67,
    "start_time": "2022-01-31T11:24:04.267Z"
   },
   {
    "duration": 353,
    "start_time": "2022-01-31T11:24:48.658Z"
   },
   {
    "duration": 49,
    "start_time": "2022-01-31T11:25:02.862Z"
   },
   {
    "duration": 1200,
    "start_time": "2022-02-01T05:29:39.735Z"
   },
   {
    "duration": 8,
    "start_time": "2022-02-01T05:29:40.937Z"
   },
   {
    "duration": 10,
    "start_time": "2022-02-01T05:29:40.947Z"
   },
   {
    "duration": 11,
    "start_time": "2022-02-01T05:29:40.959Z"
   },
   {
    "duration": 5,
    "start_time": "2022-02-01T05:29:40.971Z"
   },
   {
    "duration": 26,
    "start_time": "2022-02-01T05:29:40.978Z"
   },
   {
    "duration": 45,
    "start_time": "2022-02-01T05:29:41.006Z"
   },
   {
    "duration": 33,
    "start_time": "2022-02-01T05:29:41.053Z"
   },
   {
    "duration": 4,
    "start_time": "2022-02-01T05:29:41.088Z"
   },
   {
    "duration": 6,
    "start_time": "2022-02-01T05:29:41.094Z"
   },
   {
    "duration": 665,
    "start_time": "2022-02-01T05:29:41.101Z"
   },
   {
    "duration": 10,
    "start_time": "2022-02-01T05:29:41.768Z"
   },
   {
    "duration": 21,
    "start_time": "2022-02-01T05:29:41.779Z"
   },
   {
    "duration": 43,
    "start_time": "2022-02-01T05:29:41.802Z"
   },
   {
    "duration": 220,
    "start_time": "2022-02-01T05:29:41.846Z"
   },
   {
    "duration": 160,
    "start_time": "2022-02-01T05:29:42.067Z"
   },
   {
    "duration": 158,
    "start_time": "2022-02-01T05:29:42.228Z"
   },
   {
    "duration": 174,
    "start_time": "2022-02-01T05:29:42.387Z"
   },
   {
    "duration": 221,
    "start_time": "2022-02-01T05:29:42.562Z"
   },
   {
    "duration": 3,
    "start_time": "2022-02-01T05:29:42.785Z"
   },
   {
    "duration": 8,
    "start_time": "2022-02-01T05:29:42.790Z"
   },
   {
    "duration": 179,
    "start_time": "2022-02-01T05:29:42.800Z"
   },
   {
    "duration": 6,
    "start_time": "2022-02-01T05:29:42.981Z"
   },
   {
    "duration": 6,
    "start_time": "2022-02-01T05:29:42.988Z"
   },
   {
    "duration": 6,
    "start_time": "2022-02-01T05:29:42.995Z"
   },
   {
    "duration": 43,
    "start_time": "2022-02-01T05:29:43.002Z"
   },
   {
    "duration": 179,
    "start_time": "2022-02-01T05:29:43.048Z"
   },
   {
    "duration": 164,
    "start_time": "2022-02-01T05:29:43.229Z"
   },
   {
    "duration": 168,
    "start_time": "2022-02-01T05:29:43.394Z"
   },
   {
    "duration": 6,
    "start_time": "2022-02-01T05:29:43.564Z"
   },
   {
    "duration": 9,
    "start_time": "2022-02-01T05:29:43.572Z"
   },
   {
    "duration": 13,
    "start_time": "2022-02-01T05:29:43.583Z"
   },
   {
    "duration": 5,
    "start_time": "2022-02-01T05:29:43.597Z"
   },
   {
    "duration": 41,
    "start_time": "2022-02-01T05:29:43.627Z"
   },
   {
    "duration": 27,
    "start_time": "2022-02-01T05:29:43.669Z"
   },
   {
    "duration": 23,
    "start_time": "2022-02-01T05:39:06.996Z"
   },
   {
    "duration": 204,
    "start_time": "2022-02-01T05:42:02.736Z"
   },
   {
    "duration": 441,
    "start_time": "2022-02-01T05:46:33.571Z"
   },
   {
    "duration": 588,
    "start_time": "2022-02-01T05:47:36.331Z"
   },
   {
    "duration": 267,
    "start_time": "2022-02-01T05:47:48.075Z"
   },
   {
    "duration": 298,
    "start_time": "2022-02-01T05:50:32.019Z"
   },
   {
    "duration": 6769,
    "start_time": "2022-02-01T05:51:07.683Z"
   },
   {
    "duration": 4305,
    "start_time": "2022-02-01T05:52:02.743Z"
   },
   {
    "duration": 4840,
    "start_time": "2022-02-01T05:52:16.331Z"
   },
   {
    "duration": 1189,
    "start_time": "2022-02-01T05:52:43.547Z"
   },
   {
    "duration": 9,
    "start_time": "2022-02-01T05:52:44.738Z"
   },
   {
    "duration": 7,
    "start_time": "2022-02-01T05:52:44.749Z"
   },
   {
    "duration": 11,
    "start_time": "2022-02-01T05:52:44.758Z"
   },
   {
    "duration": 5,
    "start_time": "2022-02-01T05:52:44.770Z"
   },
   {
    "duration": 52,
    "start_time": "2022-02-01T05:52:44.776Z"
   },
   {
    "duration": 26,
    "start_time": "2022-02-01T05:52:44.829Z"
   },
   {
    "duration": 32,
    "start_time": "2022-02-01T05:52:44.857Z"
   },
   {
    "duration": 4,
    "start_time": "2022-02-01T05:52:44.891Z"
   },
   {
    "duration": 4,
    "start_time": "2022-02-01T05:52:44.896Z"
   },
   {
    "duration": 682,
    "start_time": "2022-02-01T05:52:44.901Z"
   },
   {
    "duration": 9,
    "start_time": "2022-02-01T05:52:45.584Z"
   },
   {
    "duration": 37,
    "start_time": "2022-02-01T05:52:45.594Z"
   },
   {
    "duration": 22,
    "start_time": "2022-02-01T05:52:45.632Z"
   },
   {
    "duration": 215,
    "start_time": "2022-02-01T05:52:45.655Z"
   },
   {
    "duration": 156,
    "start_time": "2022-02-01T05:52:45.872Z"
   },
   {
    "duration": 156,
    "start_time": "2022-02-01T05:52:46.030Z"
   },
   {
    "duration": 166,
    "start_time": "2022-02-01T05:52:46.187Z"
   },
   {
    "duration": 217,
    "start_time": "2022-02-01T05:52:46.355Z"
   },
   {
    "duration": 3,
    "start_time": "2022-02-01T05:52:46.574Z"
   },
   {
    "duration": 8,
    "start_time": "2022-02-01T05:52:46.578Z"
   },
   {
    "duration": 168,
    "start_time": "2022-02-01T05:52:46.587Z"
   },
   {
    "duration": 5,
    "start_time": "2022-02-01T05:52:46.758Z"
   },
   {
    "duration": 4,
    "start_time": "2022-02-01T05:52:46.764Z"
   },
   {
    "duration": 4,
    "start_time": "2022-02-01T05:52:46.770Z"
   },
   {
    "duration": 20,
    "start_time": "2022-02-01T05:52:46.775Z"
   },
   {
    "duration": 195,
    "start_time": "2022-02-01T05:52:46.797Z"
   },
   {
    "duration": 160,
    "start_time": "2022-02-01T05:52:46.993Z"
   },
   {
    "duration": 163,
    "start_time": "2022-02-01T05:52:47.155Z"
   },
   {
    "duration": 10,
    "start_time": "2022-02-01T05:52:47.320Z"
   },
   {
    "duration": 14,
    "start_time": "2022-02-01T05:52:47.331Z"
   },
   {
    "duration": 13,
    "start_time": "2022-02-01T05:52:47.346Z"
   },
   {
    "duration": 5,
    "start_time": "2022-02-01T05:52:47.360Z"
   },
   {
    "duration": 40,
    "start_time": "2022-02-01T05:52:47.367Z"
   },
   {
    "duration": 42,
    "start_time": "2022-02-01T05:52:47.408Z"
   },
   {
    "duration": 22,
    "start_time": "2022-02-01T05:52:47.451Z"
   },
   {
    "duration": 317,
    "start_time": "2022-02-01T05:52:47.474Z"
   },
   {
    "duration": 3,
    "start_time": "2022-02-01T05:52:47.792Z"
   },
   {
    "duration": 4420,
    "start_time": "2022-02-01T05:53:30.168Z"
   },
   {
    "duration": 1113,
    "start_time": "2022-02-01T05:55:27.940Z"
   },
   {
    "duration": 9,
    "start_time": "2022-02-01T05:55:29.055Z"
   },
   {
    "duration": 9,
    "start_time": "2022-02-01T05:55:29.066Z"
   },
   {
    "duration": 12,
    "start_time": "2022-02-01T05:55:29.076Z"
   },
   {
    "duration": 5,
    "start_time": "2022-02-01T05:55:29.090Z"
   },
   {
    "duration": 48,
    "start_time": "2022-02-01T05:55:29.096Z"
   },
   {
    "duration": 23,
    "start_time": "2022-02-01T05:55:29.146Z"
   },
   {
    "duration": 34,
    "start_time": "2022-02-01T05:55:29.172Z"
   },
   {
    "duration": 21,
    "start_time": "2022-02-01T05:55:29.208Z"
   },
   {
    "duration": 4,
    "start_time": "2022-02-01T05:55:29.230Z"
   },
   {
    "duration": 678,
    "start_time": "2022-02-01T05:55:29.236Z"
   },
   {
    "duration": 12,
    "start_time": "2022-02-01T05:55:29.916Z"
   },
   {
    "duration": 21,
    "start_time": "2022-02-01T05:55:29.929Z"
   },
   {
    "duration": 25,
    "start_time": "2022-02-01T05:55:29.952Z"
   },
   {
    "duration": 231,
    "start_time": "2022-02-01T05:55:29.979Z"
   },
   {
    "duration": 159,
    "start_time": "2022-02-01T05:55:30.212Z"
   },
   {
    "duration": 176,
    "start_time": "2022-02-01T05:55:30.373Z"
   },
   {
    "duration": 176,
    "start_time": "2022-02-01T05:55:30.551Z"
   },
   {
    "duration": 228,
    "start_time": "2022-02-01T05:55:30.729Z"
   },
   {
    "duration": 3,
    "start_time": "2022-02-01T05:55:30.958Z"
   },
   {
    "duration": 16,
    "start_time": "2022-02-01T05:55:30.963Z"
   },
   {
    "duration": 267,
    "start_time": "2022-02-01T05:55:30.981Z"
   },
   {
    "duration": 5,
    "start_time": "2022-02-01T05:55:31.250Z"
   },
   {
    "duration": 7,
    "start_time": "2022-02-01T05:55:31.257Z"
   },
   {
    "duration": 5,
    "start_time": "2022-02-01T05:55:31.265Z"
   },
   {
    "duration": 19,
    "start_time": "2022-02-01T05:55:31.271Z"
   },
   {
    "duration": 187,
    "start_time": "2022-02-01T05:55:31.292Z"
   },
   {
    "duration": 164,
    "start_time": "2022-02-01T05:55:31.480Z"
   },
   {
    "duration": 181,
    "start_time": "2022-02-01T05:55:31.646Z"
   },
   {
    "duration": 9,
    "start_time": "2022-02-01T05:55:31.828Z"
   },
   {
    "duration": 14,
    "start_time": "2022-02-01T05:55:31.838Z"
   },
   {
    "duration": 16,
    "start_time": "2022-02-01T05:55:31.853Z"
   },
   {
    "duration": 6,
    "start_time": "2022-02-01T05:55:31.870Z"
   },
   {
    "duration": 57,
    "start_time": "2022-02-01T05:55:31.878Z"
   },
   {
    "duration": 26,
    "start_time": "2022-02-01T05:55:31.937Z"
   },
   {
    "duration": 21,
    "start_time": "2022-02-01T05:55:31.964Z"
   },
   {
    "duration": 390,
    "start_time": "2022-02-01T06:04:32.728Z"
   },
   {
    "duration": 13,
    "start_time": "2022-02-01T06:04:58.476Z"
   },
   {
    "duration": 243,
    "start_time": "2022-02-01T06:11:47.995Z"
   },
   {
    "duration": 246,
    "start_time": "2022-02-01T06:12:16.283Z"
   },
   {
    "duration": 205,
    "start_time": "2022-02-01T06:14:00.604Z"
   },
   {
    "duration": 167,
    "start_time": "2022-02-01T06:14:20.797Z"
   },
   {
    "duration": 4958,
    "start_time": "2022-02-01T06:14:54.027Z"
   },
   {
    "duration": 5623,
    "start_time": "2022-02-01T06:15:14.763Z"
   },
   {
    "duration": 1160,
    "start_time": "2022-02-01T06:15:33.190Z"
   },
   {
    "duration": 10,
    "start_time": "2022-02-01T06:15:34.353Z"
   },
   {
    "duration": 8,
    "start_time": "2022-02-01T06:15:34.365Z"
   },
   {
    "duration": 15,
    "start_time": "2022-02-01T06:15:34.375Z"
   },
   {
    "duration": 5,
    "start_time": "2022-02-01T06:15:34.391Z"
   },
   {
    "duration": 51,
    "start_time": "2022-02-01T06:15:34.397Z"
   },
   {
    "duration": 25,
    "start_time": "2022-02-01T06:15:34.449Z"
   },
   {
    "duration": 32,
    "start_time": "2022-02-01T06:15:34.476Z"
   },
   {
    "duration": 4,
    "start_time": "2022-02-01T06:15:34.526Z"
   },
   {
    "duration": 3,
    "start_time": "2022-02-01T06:15:34.531Z"
   },
   {
    "duration": 697,
    "start_time": "2022-02-01T06:15:34.535Z"
   },
   {
    "duration": 8,
    "start_time": "2022-02-01T06:15:35.234Z"
   },
   {
    "duration": 21,
    "start_time": "2022-02-01T06:15:35.244Z"
   },
   {
    "duration": 21,
    "start_time": "2022-02-01T06:15:35.266Z"
   },
   {
    "duration": 247,
    "start_time": "2022-02-01T06:15:35.289Z"
   },
   {
    "duration": 166,
    "start_time": "2022-02-01T06:15:35.538Z"
   },
   {
    "duration": 166,
    "start_time": "2022-02-01T06:15:35.706Z"
   },
   {
    "duration": 169,
    "start_time": "2022-02-01T06:15:35.873Z"
   },
   {
    "duration": 216,
    "start_time": "2022-02-01T06:15:36.044Z"
   },
   {
    "duration": 4,
    "start_time": "2022-02-01T06:15:36.261Z"
   },
   {
    "duration": 6,
    "start_time": "2022-02-01T06:15:36.266Z"
   },
   {
    "duration": 171,
    "start_time": "2022-02-01T06:15:36.273Z"
   },
   {
    "duration": 4,
    "start_time": "2022-02-01T06:15:36.447Z"
   },
   {
    "duration": 5,
    "start_time": "2022-02-01T06:15:36.452Z"
   },
   {
    "duration": 5,
    "start_time": "2022-02-01T06:15:36.459Z"
   },
   {
    "duration": 19,
    "start_time": "2022-02-01T06:15:36.465Z"
   },
   {
    "duration": 192,
    "start_time": "2022-02-01T06:15:36.486Z"
   },
   {
    "duration": 163,
    "start_time": "2022-02-01T06:15:36.679Z"
   },
   {
    "duration": 172,
    "start_time": "2022-02-01T06:15:36.843Z"
   },
   {
    "duration": 10,
    "start_time": "2022-02-01T06:15:37.017Z"
   },
   {
    "duration": 8,
    "start_time": "2022-02-01T06:15:37.029Z"
   },
   {
    "duration": 13,
    "start_time": "2022-02-01T06:15:37.038Z"
   },
   {
    "duration": 6,
    "start_time": "2022-02-01T06:15:37.052Z"
   },
   {
    "duration": 41,
    "start_time": "2022-02-01T06:15:37.059Z"
   },
   {
    "duration": 48,
    "start_time": "2022-02-01T06:15:37.101Z"
   },
   {
    "duration": 21,
    "start_time": "2022-02-01T06:15:37.150Z"
   },
   {
    "duration": 210,
    "start_time": "2022-02-01T06:20:49.857Z"
   },
   {
    "duration": 2109,
    "start_time": "2022-02-01T06:35:15.121Z"
   },
   {
    "duration": 1296,
    "start_time": "2022-02-01T06:35:50.058Z"
   },
   {
    "duration": 9,
    "start_time": "2022-02-01T06:35:51.356Z"
   },
   {
    "duration": 11,
    "start_time": "2022-02-01T06:35:51.367Z"
   },
   {
    "duration": 12,
    "start_time": "2022-02-01T06:35:51.379Z"
   },
   {
    "duration": 5,
    "start_time": "2022-02-01T06:35:51.392Z"
   },
   {
    "duration": 47,
    "start_time": "2022-02-01T06:35:51.398Z"
   },
   {
    "duration": 25,
    "start_time": "2022-02-01T06:35:51.446Z"
   },
   {
    "duration": 33,
    "start_time": "2022-02-01T06:35:51.473Z"
   },
   {
    "duration": 21,
    "start_time": "2022-02-01T06:35:51.508Z"
   },
   {
    "duration": 12,
    "start_time": "2022-02-01T06:35:51.530Z"
   },
   {
    "duration": 701,
    "start_time": "2022-02-01T06:35:51.544Z"
   },
   {
    "duration": 9,
    "start_time": "2022-02-01T06:35:52.246Z"
   },
   {
    "duration": 22,
    "start_time": "2022-02-01T06:35:52.257Z"
   },
   {
    "duration": 46,
    "start_time": "2022-02-01T06:35:52.281Z"
   },
   {
    "duration": 325,
    "start_time": "2022-02-01T06:35:52.329Z"
   },
   {
    "duration": 167,
    "start_time": "2022-02-01T06:35:52.655Z"
   },
   {
    "duration": 166,
    "start_time": "2022-02-01T06:35:52.827Z"
   },
   {
    "duration": 173,
    "start_time": "2022-02-01T06:35:52.995Z"
   },
   {
    "duration": 218,
    "start_time": "2022-02-01T06:35:53.170Z"
   },
   {
    "duration": 4,
    "start_time": "2022-02-01T06:35:53.390Z"
   },
   {
    "duration": 5,
    "start_time": "2022-02-01T06:35:53.396Z"
   },
   {
    "duration": 182,
    "start_time": "2022-02-01T06:35:53.403Z"
   },
   {
    "duration": 5,
    "start_time": "2022-02-01T06:35:53.588Z"
   },
   {
    "duration": 14,
    "start_time": "2022-02-01T06:35:53.595Z"
   },
   {
    "duration": 7,
    "start_time": "2022-02-01T06:35:53.610Z"
   },
   {
    "duration": 24,
    "start_time": "2022-02-01T06:35:53.626Z"
   },
   {
    "duration": 178,
    "start_time": "2022-02-01T06:35:53.651Z"
   },
   {
    "duration": 199,
    "start_time": "2022-02-01T06:35:53.831Z"
   },
   {
    "duration": 263,
    "start_time": "2022-02-01T06:35:54.032Z"
   },
   {
    "duration": 10,
    "start_time": "2022-02-01T06:35:54.297Z"
   },
   {
    "duration": 22,
    "start_time": "2022-02-01T06:35:54.309Z"
   },
   {
    "duration": 22,
    "start_time": "2022-02-01T06:35:54.332Z"
   },
   {
    "duration": 8,
    "start_time": "2022-02-01T06:35:54.355Z"
   },
   {
    "duration": 43,
    "start_time": "2022-02-01T06:35:54.364Z"
   },
   {
    "duration": 45,
    "start_time": "2022-02-01T06:35:54.409Z"
   },
   {
    "duration": 23,
    "start_time": "2022-02-01T06:35:54.455Z"
   },
   {
    "duration": 193,
    "start_time": "2022-02-01T06:35:54.480Z"
   },
   {
    "duration": 2320,
    "start_time": "2022-02-01T06:36:37.346Z"
   },
   {
    "duration": 27,
    "start_time": "2022-02-01T06:45:47.067Z"
   },
   {
    "duration": 4,
    "start_time": "2022-02-01T08:16:05.939Z"
   },
   {
    "duration": 5,
    "start_time": "2022-02-01T08:22:11.531Z"
   },
   {
    "duration": 18,
    "start_time": "2022-02-01T08:23:21.896Z"
   },
   {
    "duration": 4,
    "start_time": "2022-02-01T08:24:01.350Z"
   },
   {
    "duration": 170,
    "start_time": "2022-02-01T08:26:44.406Z"
   },
   {
    "duration": 162,
    "start_time": "2022-02-01T08:26:47.564Z"
   },
   {
    "duration": 170,
    "start_time": "2022-02-01T08:26:50.227Z"
   },
   {
    "duration": 150,
    "start_time": "2022-02-01T08:36:45.406Z"
   },
   {
    "duration": 232,
    "start_time": "2022-02-01T08:37:05.930Z"
   },
   {
    "duration": 161,
    "start_time": "2022-02-01T08:49:52.661Z"
   },
   {
    "duration": 154,
    "start_time": "2022-02-01T08:50:12.869Z"
   },
   {
    "duration": 167,
    "start_time": "2022-02-01T08:50:19.841Z"
   },
   {
    "duration": 160,
    "start_time": "2022-02-01T08:51:57.149Z"
   },
   {
    "duration": 141,
    "start_time": "2022-02-01T08:52:18.489Z"
   },
   {
    "duration": 144,
    "start_time": "2022-02-01T08:55:18.350Z"
   },
   {
    "duration": 155,
    "start_time": "2022-02-01T08:55:30.349Z"
   },
   {
    "duration": 1632,
    "start_time": "2022-02-10T15:41:12.806Z"
   },
   {
    "duration": 18,
    "start_time": "2022-02-10T15:41:14.441Z"
   },
   {
    "duration": 14,
    "start_time": "2022-02-10T15:41:14.463Z"
   },
   {
    "duration": 57,
    "start_time": "2022-02-10T15:41:14.481Z"
   },
   {
    "duration": 10,
    "start_time": "2022-02-10T15:41:14.541Z"
   },
   {
    "duration": 61,
    "start_time": "2022-02-10T15:41:14.553Z"
   },
   {
    "duration": 63,
    "start_time": "2022-02-10T15:41:14.617Z"
   },
   {
    "duration": 87,
    "start_time": "2022-02-10T15:41:14.684Z"
   },
   {
    "duration": 5,
    "start_time": "2022-02-10T15:41:14.774Z"
   },
   {
    "duration": 6,
    "start_time": "2022-02-10T15:41:14.782Z"
   },
   {
    "duration": 1293,
    "start_time": "2022-02-10T15:41:14.790Z"
   },
   {
    "duration": 15,
    "start_time": "2022-02-10T15:41:16.085Z"
   },
   {
    "duration": 59,
    "start_time": "2022-02-10T15:41:16.102Z"
   },
   {
    "duration": 39,
    "start_time": "2022-02-10T15:41:16.163Z"
   },
   {
    "duration": 453,
    "start_time": "2022-02-10T15:41:16.205Z"
   },
   {
    "duration": 308,
    "start_time": "2022-02-10T15:41:16.660Z"
   },
   {
    "duration": 319,
    "start_time": "2022-02-10T15:41:16.970Z"
   },
   {
    "duration": 322,
    "start_time": "2022-02-10T15:41:17.291Z"
   },
   {
    "duration": 376,
    "start_time": "2022-02-10T15:41:17.616Z"
   },
   {
    "duration": 6,
    "start_time": "2022-02-10T15:41:17.994Z"
   },
   {
    "duration": 30,
    "start_time": "2022-02-10T15:41:18.003Z"
   },
   {
    "duration": 317,
    "start_time": "2022-02-10T15:41:18.036Z"
   },
   {
    "duration": 6,
    "start_time": "2022-02-10T15:41:18.358Z"
   },
   {
    "duration": 12,
    "start_time": "2022-02-10T15:41:18.366Z"
   },
   {
    "duration": 8,
    "start_time": "2022-02-10T15:41:18.380Z"
   },
   {
    "duration": 59,
    "start_time": "2022-02-10T15:41:18.390Z"
   },
   {
    "duration": 424,
    "start_time": "2022-02-10T15:41:18.451Z"
   },
   {
    "duration": 304,
    "start_time": "2022-02-10T15:41:18.877Z"
   },
   {
    "duration": 322,
    "start_time": "2022-02-10T15:41:19.183Z"
   },
   {
    "duration": 25,
    "start_time": "2022-02-10T15:41:19.508Z"
   },
   {
    "duration": 14,
    "start_time": "2022-02-10T15:41:19.536Z"
   },
   {
    "duration": 23,
    "start_time": "2022-02-10T15:41:19.552Z"
   },
   {
    "duration": 10,
    "start_time": "2022-02-10T15:41:19.577Z"
   },
   {
    "duration": 106,
    "start_time": "2022-02-10T15:41:19.589Z"
   },
   {
    "duration": 66,
    "start_time": "2022-02-10T15:41:19.698Z"
   },
   {
    "duration": 67,
    "start_time": "2022-02-10T15:41:19.766Z"
   },
   {
    "duration": 5599,
    "start_time": "2022-02-10T15:41:19.835Z"
   },
   {
    "duration": 96,
    "start_time": "2022-02-10T15:41:25.436Z"
   },
   {
    "duration": 536,
    "start_time": "2022-02-10T15:41:25.535Z"
   },
   {
    "duration": 598,
    "start_time": "2022-02-10T15:41:26.073Z"
   },
   {
    "duration": 288,
    "start_time": "2022-02-10T15:41:26.674Z"
   },
   {
    "duration": 406,
    "start_time": "2022-02-10T15:41:26.964Z"
   },
   {
    "duration": 7,
    "start_time": "2022-02-10T15:41:27.373Z"
   },
   {
    "duration": 59,
    "start_time": "2022-02-10T15:41:27.383Z"
   },
   {
    "duration": 7,
    "start_time": "2022-02-10T15:41:27.444Z"
   },
   {
    "duration": 332,
    "start_time": "2022-02-10T15:41:27.453Z"
   },
   {
    "duration": 395,
    "start_time": "2022-02-10T15:41:27.788Z"
   },
   {
    "duration": 318,
    "start_time": "2022-02-10T15:41:28.185Z"
   },
   {
    "duration": 436,
    "start_time": "2022-02-10T15:41:51.027Z"
   },
   {
    "duration": 313,
    "start_time": "2022-02-10T15:48:56.481Z"
   },
   {
    "duration": 320,
    "start_time": "2022-02-10T15:49:17.566Z"
   },
   {
    "duration": 306,
    "start_time": "2022-02-10T15:50:41.457Z"
   },
   {
    "duration": 467,
    "start_time": "2022-02-10T15:51:15.221Z"
   },
   {
    "duration": 334,
    "start_time": "2022-02-10T15:52:09.773Z"
   },
   {
    "duration": 423,
    "start_time": "2022-02-10T16:02:59.138Z"
   },
   {
    "duration": 19,
    "start_time": "2022-02-10T16:03:41.657Z"
   },
   {
    "duration": 1610,
    "start_time": "2022-02-10T16:08:39.992Z"
   },
   {
    "duration": 27,
    "start_time": "2022-02-10T16:08:41.605Z"
   },
   {
    "duration": 13,
    "start_time": "2022-02-10T16:08:41.635Z"
   },
   {
    "duration": 21,
    "start_time": "2022-02-10T16:08:41.650Z"
   },
   {
    "duration": 9,
    "start_time": "2022-02-10T16:08:41.675Z"
   },
   {
    "duration": 81,
    "start_time": "2022-02-10T16:08:41.687Z"
   },
   {
    "duration": 65,
    "start_time": "2022-02-10T16:08:41.771Z"
   },
   {
    "duration": 59,
    "start_time": "2022-02-10T16:08:41.840Z"
   },
   {
    "duration": 5,
    "start_time": "2022-02-10T16:08:41.902Z"
   },
   {
    "duration": 5,
    "start_time": "2022-02-10T16:08:41.932Z"
   },
   {
    "duration": 1334,
    "start_time": "2022-02-10T16:08:41.939Z"
   },
   {
    "duration": 16,
    "start_time": "2022-02-10T16:08:43.275Z"
   },
   {
    "duration": 78,
    "start_time": "2022-02-10T16:08:43.294Z"
   },
   {
    "duration": 75,
    "start_time": "2022-02-10T16:08:43.375Z"
   },
   {
    "duration": 662,
    "start_time": "2022-02-10T16:08:43.453Z"
   },
   {
    "duration": 445,
    "start_time": "2022-02-10T16:08:44.118Z"
   },
   {
    "duration": 468,
    "start_time": "2022-02-10T16:08:44.566Z"
   },
   {
    "duration": 497,
    "start_time": "2022-02-10T16:08:45.038Z"
   },
   {
    "duration": 564,
    "start_time": "2022-02-10T16:08:45.539Z"
   },
   {
    "duration": 7,
    "start_time": "2022-02-10T16:08:46.105Z"
   },
   {
    "duration": 7,
    "start_time": "2022-02-10T16:08:46.133Z"
   },
   {
    "duration": 485,
    "start_time": "2022-02-10T16:08:46.143Z"
   },
   {
    "duration": 9,
    "start_time": "2022-02-10T16:08:46.638Z"
   },
   {
    "duration": 13,
    "start_time": "2022-02-10T16:08:46.651Z"
   },
   {
    "duration": 13,
    "start_time": "2022-02-10T16:08:46.667Z"
   },
   {
    "duration": 58,
    "start_time": "2022-02-10T16:08:46.683Z"
   },
   {
    "duration": 318,
    "start_time": "2022-02-10T16:08:46.744Z"
   },
   {
    "duration": 300,
    "start_time": "2022-02-10T16:08:47.064Z"
   },
   {
    "duration": 310,
    "start_time": "2022-02-10T16:08:47.367Z"
   },
   {
    "duration": 21,
    "start_time": "2022-02-10T16:08:47.679Z"
   },
   {
    "duration": 7095,
    "start_time": "2022-02-10T16:08:47.703Z"
   },
   {
    "duration": -834,
    "start_time": "2022-02-10T16:08:55.634Z"
   },
   {
    "duration": -877,
    "start_time": "2022-02-10T16:08:55.679Z"
   },
   {
    "duration": -927,
    "start_time": "2022-02-10T16:08:55.730Z"
   },
   {
    "duration": -970,
    "start_time": "2022-02-10T16:08:55.774Z"
   },
   {
    "duration": -1133,
    "start_time": "2022-02-10T16:08:55.939Z"
   },
   {
    "duration": -1174,
    "start_time": "2022-02-10T16:08:55.983Z"
   },
   {
    "duration": -1212,
    "start_time": "2022-02-10T16:08:56.023Z"
   },
   {
    "duration": -1254,
    "start_time": "2022-02-10T16:08:56.067Z"
   },
   {
    "duration": -1291,
    "start_time": "2022-02-10T16:08:56.106Z"
   },
   {
    "duration": -1320,
    "start_time": "2022-02-10T16:08:56.137Z"
   },
   {
    "duration": -1361,
    "start_time": "2022-02-10T16:08:56.181Z"
   },
   {
    "duration": -1391,
    "start_time": "2022-02-10T16:08:56.213Z"
   },
   {
    "duration": -1420,
    "start_time": "2022-02-10T16:08:56.244Z"
   },
   {
    "duration": -1453,
    "start_time": "2022-02-10T16:08:56.279Z"
   },
   {
    "duration": -1491,
    "start_time": "2022-02-10T16:08:56.320Z"
   },
   {
    "duration": -1535,
    "start_time": "2022-02-10T16:08:56.366Z"
   },
   {
    "duration": -1576,
    "start_time": "2022-02-10T16:08:56.409Z"
   },
   {
    "duration": -1622,
    "start_time": "2022-02-10T16:08:56.457Z"
   },
   {
    "duration": -1663,
    "start_time": "2022-02-10T16:08:56.501Z"
   },
   {
    "duration": 1611,
    "start_time": "2022-02-10T16:15:52.238Z"
   },
   {
    "duration": 15,
    "start_time": "2022-02-10T16:15:53.852Z"
   },
   {
    "duration": 12,
    "start_time": "2022-02-10T16:15:53.870Z"
   },
   {
    "duration": 52,
    "start_time": "2022-02-10T16:15:53.885Z"
   },
   {
    "duration": 8,
    "start_time": "2022-02-10T16:15:53.939Z"
   },
   {
    "duration": 43,
    "start_time": "2022-02-10T16:15:53.950Z"
   },
   {
    "duration": 63,
    "start_time": "2022-02-10T16:15:53.996Z"
   },
   {
    "duration": 70,
    "start_time": "2022-02-10T16:15:54.063Z"
   },
   {
    "duration": 6,
    "start_time": "2022-02-10T16:15:54.136Z"
   },
   {
    "duration": 5,
    "start_time": "2022-02-10T16:15:54.145Z"
   },
   {
    "duration": 1346,
    "start_time": "2022-02-10T16:15:54.153Z"
   },
   {
    "duration": 15,
    "start_time": "2022-02-10T16:15:55.501Z"
   },
   {
    "duration": 39,
    "start_time": "2022-02-10T16:15:55.532Z"
   },
   {
    "duration": 60,
    "start_time": "2022-02-10T16:15:55.573Z"
   },
   {
    "duration": 423,
    "start_time": "2022-02-10T16:15:55.636Z"
   },
   {
    "duration": 312,
    "start_time": "2022-02-10T16:15:56.062Z"
   },
   {
    "duration": 322,
    "start_time": "2022-02-10T16:15:56.376Z"
   },
   {
    "duration": 346,
    "start_time": "2022-02-10T16:15:56.701Z"
   },
   {
    "duration": 404,
    "start_time": "2022-02-10T16:15:57.050Z"
   },
   {
    "duration": 5,
    "start_time": "2022-02-10T16:15:57.457Z"
   },
   {
    "duration": 8,
    "start_time": "2022-02-10T16:15:57.465Z"
   },
   {
    "duration": 359,
    "start_time": "2022-02-10T16:15:57.476Z"
   },
   {
    "duration": 7,
    "start_time": "2022-02-10T16:15:57.840Z"
   },
   {
    "duration": 9,
    "start_time": "2022-02-10T16:15:57.850Z"
   },
   {
    "duration": 11,
    "start_time": "2022-02-10T16:15:57.861Z"
   },
   {
    "duration": 70,
    "start_time": "2022-02-10T16:15:57.875Z"
   },
   {
    "duration": 332,
    "start_time": "2022-02-10T16:15:57.947Z"
   },
   {
    "duration": 314,
    "start_time": "2022-02-10T16:15:58.282Z"
   },
   {
    "duration": 320,
    "start_time": "2022-02-10T16:15:58.598Z"
   },
   {
    "duration": 26,
    "start_time": "2022-02-10T16:15:58.920Z"
   },
   {
    "duration": 432,
    "start_time": "2022-02-10T16:15:58.948Z"
   },
   {
    "duration": -944,
    "start_time": "2022-02-10T16:16:00.327Z"
   },
   {
    "duration": -987,
    "start_time": "2022-02-10T16:16:00.372Z"
   },
   {
    "duration": -1028,
    "start_time": "2022-02-10T16:16:00.416Z"
   },
   {
    "duration": -1060,
    "start_time": "2022-02-10T16:16:00.450Z"
   },
   {
    "duration": -1093,
    "start_time": "2022-02-10T16:16:00.485Z"
   },
   {
    "duration": -1125,
    "start_time": "2022-02-10T16:16:00.519Z"
   },
   {
    "duration": -1236,
    "start_time": "2022-02-10T16:16:00.633Z"
   },
   {
    "duration": -1271,
    "start_time": "2022-02-10T16:16:00.670Z"
   },
   {
    "duration": -1303,
    "start_time": "2022-02-10T16:16:00.704Z"
   },
   {
    "duration": -1347,
    "start_time": "2022-02-10T16:16:00.750Z"
   },
   {
    "duration": -1377,
    "start_time": "2022-02-10T16:16:00.782Z"
   },
   {
    "duration": -1409,
    "start_time": "2022-02-10T16:16:00.816Z"
   },
   {
    "duration": -1442,
    "start_time": "2022-02-10T16:16:00.851Z"
   },
   {
    "duration": -1478,
    "start_time": "2022-02-10T16:16:00.888Z"
   },
   {
    "duration": -1525,
    "start_time": "2022-02-10T16:16:00.936Z"
   },
   {
    "duration": -1556,
    "start_time": "2022-02-10T16:16:00.969Z"
   },
   {
    "duration": -1588,
    "start_time": "2022-02-10T16:16:01.002Z"
   },
   {
    "duration": -1622,
    "start_time": "2022-02-10T16:16:01.037Z"
   },
   {
    "duration": -1666,
    "start_time": "2022-02-10T16:16:01.083Z"
   },
   {
    "duration": 315,
    "start_time": "2022-02-10T16:16:39.741Z"
   },
   {
    "duration": 295,
    "start_time": "2022-02-10T16:23:05.844Z"
   },
   {
    "duration": 1820,
    "start_time": "2022-02-10T16:23:17.578Z"
   },
   {
    "duration": 16,
    "start_time": "2022-02-10T16:23:19.400Z"
   },
   {
    "duration": 30,
    "start_time": "2022-02-10T16:23:19.419Z"
   },
   {
    "duration": 23,
    "start_time": "2022-02-10T16:23:19.453Z"
   },
   {
    "duration": 8,
    "start_time": "2022-02-10T16:23:19.479Z"
   },
   {
    "duration": 102,
    "start_time": "2022-02-10T16:23:19.489Z"
   },
   {
    "duration": 59,
    "start_time": "2022-02-10T16:23:19.594Z"
   },
   {
    "duration": 59,
    "start_time": "2022-02-10T16:23:19.656Z"
   },
   {
    "duration": 24,
    "start_time": "2022-02-10T16:23:19.718Z"
   },
   {
    "duration": 8,
    "start_time": "2022-02-10T16:23:19.746Z"
   },
   {
    "duration": 1416,
    "start_time": "2022-02-10T16:23:19.756Z"
   },
   {
    "duration": 17,
    "start_time": "2022-02-10T16:23:21.174Z"
   },
   {
    "duration": 83,
    "start_time": "2022-02-10T16:23:21.193Z"
   },
   {
    "duration": 70,
    "start_time": "2022-02-10T16:23:21.280Z"
   },
   {
    "duration": 542,
    "start_time": "2022-02-10T16:23:21.353Z"
   },
   {
    "duration": 404,
    "start_time": "2022-02-10T16:23:21.898Z"
   },
   {
    "duration": 400,
    "start_time": "2022-02-10T16:23:22.304Z"
   },
   {
    "duration": 437,
    "start_time": "2022-02-10T16:23:22.707Z"
   },
   {
    "duration": 446,
    "start_time": "2022-02-10T16:23:23.147Z"
   },
   {
    "duration": 7,
    "start_time": "2022-02-10T16:23:23.596Z"
   },
   {
    "duration": 27,
    "start_time": "2022-02-10T16:23:23.605Z"
   },
   {
    "duration": 400,
    "start_time": "2022-02-10T16:23:23.642Z"
   },
   {
    "duration": 9,
    "start_time": "2022-02-10T16:23:24.048Z"
   },
   {
    "duration": 8,
    "start_time": "2022-02-10T16:23:24.062Z"
   },
   {
    "duration": 8,
    "start_time": "2022-02-10T16:23:24.073Z"
   },
   {
    "duration": 78,
    "start_time": "2022-02-10T16:23:24.084Z"
   },
   {
    "duration": 367,
    "start_time": "2022-02-10T16:23:24.165Z"
   },
   {
    "duration": 368,
    "start_time": "2022-02-10T16:23:24.536Z"
   },
   {
    "duration": 371,
    "start_time": "2022-02-10T16:23:24.906Z"
   },
   {
    "duration": 18,
    "start_time": "2022-02-10T16:23:25.279Z"
   },
   {
    "duration": 37,
    "start_time": "2022-02-10T16:23:25.300Z"
   },
   {
    "duration": 20,
    "start_time": "2022-02-10T16:23:25.341Z"
   },
   {
    "duration": 25,
    "start_time": "2022-02-10T16:23:25.364Z"
   },
   {
    "duration": 42,
    "start_time": "2022-02-10T16:23:25.392Z"
   },
   {
    "duration": 96,
    "start_time": "2022-02-10T16:23:25.437Z"
   },
   {
    "duration": 77,
    "start_time": "2022-02-10T16:23:25.539Z"
   },
   {
    "duration": 47,
    "start_time": "2022-02-10T16:23:25.632Z"
   },
   {
    "duration": 5027,
    "start_time": "2022-02-10T16:23:25.681Z"
   },
   {
    "duration": 61,
    "start_time": "2022-02-10T16:23:30.710Z"
   },
   {
    "duration": 397,
    "start_time": "2022-02-10T16:23:30.774Z"
   },
   {
    "duration": 349,
    "start_time": "2022-02-10T16:23:31.174Z"
   },
   {
    "duration": 325,
    "start_time": "2022-02-10T16:23:31.534Z"
   },
   {
    "duration": 482,
    "start_time": "2022-02-10T16:23:31.862Z"
   },
   {
    "duration": 9,
    "start_time": "2022-02-10T16:23:32.347Z"
   },
   {
    "duration": 33,
    "start_time": "2022-02-10T16:23:32.359Z"
   },
   {
    "duration": 38,
    "start_time": "2022-02-10T16:23:32.394Z"
   },
   {
    "duration": 370,
    "start_time": "2022-02-10T16:23:32.436Z"
   },
   {
    "duration": 451,
    "start_time": "2022-02-10T16:23:32.808Z"
   },
   {
    "duration": 350,
    "start_time": "2022-02-10T16:23:33.261Z"
   },
   {
    "duration": 5236,
    "start_time": "2022-02-10T16:30:19.777Z"
   },
   {
    "duration": 329,
    "start_time": "2022-02-10T16:30:56.754Z"
   },
   {
    "duration": 1808,
    "start_time": "2022-02-10T16:39:17.183Z"
   },
   {
    "duration": 15,
    "start_time": "2022-02-10T16:39:18.994Z"
   },
   {
    "duration": 29,
    "start_time": "2022-02-10T16:39:19.013Z"
   },
   {
    "duration": 20,
    "start_time": "2022-02-10T16:39:19.049Z"
   },
   {
    "duration": 8,
    "start_time": "2022-02-10T16:39:19.072Z"
   },
   {
    "duration": 79,
    "start_time": "2022-02-10T16:39:19.083Z"
   },
   {
    "duration": 48,
    "start_time": "2022-02-10T16:39:19.164Z"
   },
   {
    "duration": 81,
    "start_time": "2022-02-10T16:39:19.217Z"
   },
   {
    "duration": 6,
    "start_time": "2022-02-10T16:39:19.300Z"
   },
   {
    "duration": 29,
    "start_time": "2022-02-10T16:39:19.309Z"
   },
   {
    "duration": 1307,
    "start_time": "2022-02-10T16:39:19.341Z"
   },
   {
    "duration": 15,
    "start_time": "2022-02-10T16:39:20.650Z"
   },
   {
    "duration": 38,
    "start_time": "2022-02-10T16:39:20.668Z"
   },
   {
    "duration": 45,
    "start_time": "2022-02-10T16:39:20.739Z"
   },
   {
    "duration": 465,
    "start_time": "2022-02-10T16:39:20.787Z"
   },
   {
    "duration": 327,
    "start_time": "2022-02-10T16:39:21.254Z"
   },
   {
    "duration": 344,
    "start_time": "2022-02-10T16:39:21.584Z"
   },
   {
    "duration": 350,
    "start_time": "2022-02-10T16:39:21.930Z"
   },
   {
    "duration": 438,
    "start_time": "2022-02-10T16:39:22.283Z"
   },
   {
    "duration": 15,
    "start_time": "2022-02-10T16:39:22.723Z"
   },
   {
    "duration": 9,
    "start_time": "2022-02-10T16:39:22.741Z"
   },
   {
    "duration": 366,
    "start_time": "2022-02-10T16:39:22.752Z"
   },
   {
    "duration": 12,
    "start_time": "2022-02-10T16:39:23.124Z"
   },
   {
    "duration": 21,
    "start_time": "2022-02-10T16:39:23.141Z"
   },
   {
    "duration": 11,
    "start_time": "2022-02-10T16:39:23.165Z"
   },
   {
    "duration": 32,
    "start_time": "2022-02-10T16:39:23.179Z"
   },
   {
    "duration": 372,
    "start_time": "2022-02-10T16:39:23.213Z"
   },
   {
    "duration": 328,
    "start_time": "2022-02-10T16:39:23.588Z"
   },
   {
    "duration": 338,
    "start_time": "2022-02-10T16:39:23.919Z"
   },
   {
    "duration": 19,
    "start_time": "2022-02-10T16:39:24.259Z"
   },
   {
    "duration": 10,
    "start_time": "2022-02-10T16:39:24.280Z"
   },
   {
    "duration": 47,
    "start_time": "2022-02-10T16:39:24.292Z"
   },
   {
    "duration": 24,
    "start_time": "2022-02-10T16:39:24.344Z"
   },
   {
    "duration": 9,
    "start_time": "2022-02-10T16:39:24.370Z"
   },
   {
    "duration": 105,
    "start_time": "2022-02-10T16:39:24.381Z"
   },
   {
    "duration": 71,
    "start_time": "2022-02-10T16:39:24.490Z"
   },
   {
    "duration": 68,
    "start_time": "2022-02-10T16:39:24.564Z"
   },
   {
    "duration": 4891,
    "start_time": "2022-02-10T16:39:24.635Z"
   },
   {
    "duration": 316,
    "start_time": "2022-02-10T16:39:29.528Z"
   },
   {
    "duration": 52,
    "start_time": "2022-02-10T16:39:29.848Z"
   },
   {
    "duration": 357,
    "start_time": "2022-02-10T16:39:29.903Z"
   },
   {
    "duration": 352,
    "start_time": "2022-02-10T16:39:30.263Z"
   },
   {
    "duration": 302,
    "start_time": "2022-02-10T16:39:30.618Z"
   },
   {
    "duration": 336,
    "start_time": "2022-02-10T16:39:30.923Z"
   },
   {
    "duration": 7,
    "start_time": "2022-02-10T16:39:31.261Z"
   },
   {
    "duration": 44,
    "start_time": "2022-02-10T16:39:31.270Z"
   },
   {
    "duration": 22,
    "start_time": "2022-02-10T16:39:31.316Z"
   },
   {
    "duration": 433,
    "start_time": "2022-02-10T16:39:31.341Z"
   },
   {
    "duration": 326,
    "start_time": "2022-02-10T16:39:31.776Z"
   },
   {
    "duration": 331,
    "start_time": "2022-02-10T16:39:32.105Z"
   },
   {
    "duration": 1424,
    "start_time": "2022-05-17T08:26:05.083Z"
   },
   {
    "duration": 15,
    "start_time": "2022-05-17T08:26:06.509Z"
   },
   {
    "duration": 9,
    "start_time": "2022-05-17T08:26:06.526Z"
   },
   {
    "duration": 16,
    "start_time": "2022-05-17T08:26:06.537Z"
   },
   {
    "duration": 6,
    "start_time": "2022-05-17T08:26:06.554Z"
   },
   {
    "duration": 49,
    "start_time": "2022-05-17T08:26:06.561Z"
   },
   {
    "duration": 28,
    "start_time": "2022-05-17T08:26:06.612Z"
   },
   {
    "duration": 56,
    "start_time": "2022-05-17T08:26:06.642Z"
   },
   {
    "duration": 4,
    "start_time": "2022-05-17T08:26:06.700Z"
   },
   {
    "duration": 5,
    "start_time": "2022-05-17T08:26:06.706Z"
   },
   {
    "duration": 389,
    "start_time": "2022-05-17T08:26:06.713Z"
   },
   {
    "duration": 10,
    "start_time": "2022-05-17T08:26:07.104Z"
   },
   {
    "duration": 31,
    "start_time": "2022-05-17T08:26:07.116Z"
   },
   {
    "duration": 43,
    "start_time": "2022-05-17T08:26:07.149Z"
   },
   {
    "duration": 196,
    "start_time": "2022-05-17T08:26:07.194Z"
   },
   {
    "duration": 135,
    "start_time": "2022-05-17T08:26:07.392Z"
   },
   {
    "duration": 146,
    "start_time": "2022-05-17T08:26:07.528Z"
   },
   {
    "duration": 154,
    "start_time": "2022-05-17T08:26:07.687Z"
   },
   {
    "duration": 153,
    "start_time": "2022-05-17T08:26:07.843Z"
   },
   {
    "duration": 5,
    "start_time": "2022-05-17T08:26:07.997Z"
   },
   {
    "duration": 8,
    "start_time": "2022-05-17T08:26:08.003Z"
   },
   {
    "duration": 239,
    "start_time": "2022-05-17T08:26:08.013Z"
   },
   {
    "duration": 5,
    "start_time": "2022-05-17T08:26:08.254Z"
   },
   {
    "duration": 6,
    "start_time": "2022-05-17T08:26:08.260Z"
   },
   {
    "duration": 5,
    "start_time": "2022-05-17T08:26:08.268Z"
   },
   {
    "duration": 25,
    "start_time": "2022-05-17T08:26:08.287Z"
   },
   {
    "duration": 164,
    "start_time": "2022-05-17T08:26:08.314Z"
   },
   {
    "duration": 141,
    "start_time": "2022-05-17T08:26:08.487Z"
   },
   {
    "duration": 143,
    "start_time": "2022-05-17T08:26:08.630Z"
   },
   {
    "duration": 25,
    "start_time": "2022-05-17T08:26:08.775Z"
   },
   {
    "duration": 6,
    "start_time": "2022-05-17T08:26:08.802Z"
   },
   {
    "duration": 12,
    "start_time": "2022-05-17T08:26:08.810Z"
   },
   {
    "duration": 15,
    "start_time": "2022-05-17T08:26:08.824Z"
   },
   {
    "duration": 7,
    "start_time": "2022-05-17T08:26:08.840Z"
   },
   {
    "duration": 72,
    "start_time": "2022-05-17T08:26:08.848Z"
   },
   {
    "duration": 32,
    "start_time": "2022-05-17T08:26:08.921Z"
   },
   {
    "duration": 44,
    "start_time": "2022-05-17T08:26:08.954Z"
   },
   {
    "duration": 160,
    "start_time": "2022-05-17T08:26:09.000Z"
   },
   {
    "duration": 156,
    "start_time": "2022-05-17T08:26:09.162Z"
   },
   {
    "duration": 31,
    "start_time": "2022-05-17T08:26:09.320Z"
   },
   {
    "duration": 154,
    "start_time": "2022-05-17T08:26:09.353Z"
   },
   {
    "duration": 163,
    "start_time": "2022-05-17T08:26:09.509Z"
   },
   {
    "duration": 148,
    "start_time": "2022-05-17T08:26:09.674Z"
   },
   {
    "duration": 143,
    "start_time": "2022-05-17T08:26:09.824Z"
   },
   {
    "duration": 5,
    "start_time": "2022-05-17T08:26:09.969Z"
   },
   {
    "duration": 151,
    "start_time": "2022-05-17T08:26:09.976Z"
   },
   {
    "duration": 13,
    "start_time": "2022-05-17T08:26:10.129Z"
   },
   {
    "duration": 134,
    "start_time": "2022-05-17T08:26:10.144Z"
   },
   {
    "duration": 226,
    "start_time": "2022-05-17T08:26:10.280Z"
   },
   {
    "duration": 139,
    "start_time": "2022-05-17T08:26:10.508Z"
   }
  ],
  "kernelspec": {
   "display_name": "Python 3 (ipykernel)",
   "language": "python",
   "name": "python3"
  },
  "language_info": {
   "codemirror_mode": {
    "name": "ipython",
    "version": 3
   },
   "file_extension": ".py",
   "mimetype": "text/x-python",
   "name": "python",
   "nbconvert_exporter": "python",
   "pygments_lexer": "ipython3",
   "version": "3.9.7"
  },
  "toc": {
   "base_numbering": 1,
   "nav_menu": {},
   "number_sections": true,
   "sideBar": true,
   "skip_h1_title": true,
   "title_cell": "Содержание",
   "title_sidebar": "Contents",
   "toc_cell": true,
   "toc_position": {
    "height": "calc(100% - 180px)",
    "left": "10px",
    "top": "150px",
    "width": "251.6px"
   },
   "toc_section_display": true,
   "toc_window_display": true
  }
 },
 "nbformat": 4,
 "nbformat_minor": 2
}
